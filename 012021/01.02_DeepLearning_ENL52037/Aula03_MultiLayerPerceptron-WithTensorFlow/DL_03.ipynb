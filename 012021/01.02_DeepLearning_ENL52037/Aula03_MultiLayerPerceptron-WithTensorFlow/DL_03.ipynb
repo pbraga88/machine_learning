{
  "nbformat": 4,
  "nbformat_minor": 0,
  "metadata": {
    "anaconda-cloud": {},
    "kernelspec": {
      "display_name": "Python 3",
      "language": "python",
      "name": "python3"
    },
    "language_info": {
      "codemirror_mode": {
        "name": "ipython",
        "version": 3
      },
      "file_extension": ".py",
      "mimetype": "text/x-python",
      "name": "python",
      "nbconvert_exporter": "python",
      "pygments_lexer": "ipython3",
      "version": "3.7.4"
    },
    "colab": {
      "name": "DL_03.ipynb",
      "provenance": [],
      "collapsed_sections": []
    }
  },
  "cells": [
    {
      "cell_type": "markdown",
      "metadata": {
        "id": "pqEhMdFQO3A-"
      },
      "source": [
        "<head>\n",
        "  <meta name=\"author\" content=\"Rogério de Oliveira\">\n",
        "  <meta institution=\"author\" content=\"Universidade Presbiteriana Mackenzie\">\n",
        "</head>\n",
        "\n",
        "<img src=\"http://meusite.mackenzie.br/rogerio/mackenzie_logo/UPM.2_horizontal_vermelho.jpg\" width=300, align=\"right\"> \n",
        "\n",
        "<h1 align=left><font size = 8, style=\"color:rgb(200,0,0)\"><b>Deep Learning</b></font></h1> \n",
        "<a href=\"mailto:rogerio.oliveira@mackenzie.br\">Rogério de Oliveira</a><br>\n",
        "\n",
        "<br>\n",
        "<br>\n",
        "\n",
        "---\n"
      ]
    },
    {
      "cell_type": "markdown",
      "metadata": {
        "id": "-G7aCMh4r9y1"
      },
      "source": [
        "<h1 align=left><font size = 6, style=\"color:rgb(200,0,0)\">MLP com TensorFlow</font></h1>\n",
        "<hr>"
      ]
    },
    {
      "cell_type": "markdown",
      "metadata": {
        "id": "pdezH1eUfp1Z"
      },
      "source": [
        "# **IMPORTANTE:** Antes de começar \n",
        "\n",
        "Execute a célula final desse Lab. Ela irá **inicializar** o seu ambiente com rotinas que são empregadas aqui."
      ]
    },
    {
      "cell_type": "markdown",
      "metadata": {
        "id": "uFB0mL84ZWNf"
      },
      "source": [
        "O leitor deve ter em mente que comparar TensorFlow e Keras não é a melhor maneira de abordar a questão, já que Keras funciona como um wrapper para a estrutura do TensorFlow. Portanto, você pode definir um modelo com a interface de Keras, que é mais fácil de usar, e ir para o TensorFlow quando precisar usar um recurso que Keras não tem ou quando estiver procurando uma funcionalidade específica do TensorFlow. Assim, você pode colocar seu código TensorFlow diretamente no pipeline ou modelo de treinamento Keras.\r\n",
        "\r\n",
        "O TensorFlow é uma plataforma de código-fonte aberto de ponta a ponta, uma biblioteca para várias tarefas de aprendizado de máquina, enquanto o Keras é uma biblioteca de rede neural de alto nível executada no TensorFlow. Ambos fornecem APIs de alto nível usadas para construir e treinar modelos facilmente, mas Keras é mais amigável porque é Python integrado."
      ]
    },
    {
      "cell_type": "markdown",
      "metadata": {
        "id": "OL-PhutRaVku"
      },
      "source": [
        "|   |\tKeras\t| Pytorch\t| TensorFlow |\r\n",
        "|---|-------|---------|------------|\r\n",
        "| API Level |\tHigh\t|Low\t|High and Low|\r\n",
        "| Architecture\t|Simple, concise, readable|\tComplex, less readable\t|Not easy to use |\r\n",
        "| Datasets\t|Smaller datasets\t|Large datasets, high performance|\tLarge datasets, high performance |\r\n",
        "| Debugging\t|Simple network, so debugging is not often needed|\tGood debugging capabilities\t|Difficult to conduct debugging|\r\n",
        "| Does It Have Trained Models?\t|Yes\t|Yes|\tYes|\r\n",
        "| Popularity\t|Most popular\t|Third most popular\t|Second most popular|\r\n",
        "| Speed\t|Slow, low performance|\tFast, high-performance\t|Fast, high-performance| \r\n",
        "| Written In\t|Python\t|Lua\t|C++, CUDA, Python|"
      ]
    },
    {
      "cell_type": "markdown",
      "metadata": {
        "id": "Li1FPlObIQAh"
      },
      "source": [
        "# **Case**: Detecção de Fraude em Operações de Cartão de Crédito\n",
        "\n",
        "http://meusite.mackenzie.br/rogerio/ML/The-InfoQ-eMag-Introduction-to-Machine-Learning.pdf\n",
        "\n",
        "Esse artigo trás uma ótima introdução ao Aprendizado de Máquina. O artigo demonstra a aplicação de dois modelos de classificação,**Árvores de Decisão e Regressão Logística**, para um conjunto de dado simples para detecção de fraude em operações de cartões de crédito. \n",
        "\n",
        "Aqui você vai empregar o mesmo conjunto de dados para um aprendizado de Deep Learning com **TensorFlow+Keras**. \n",
        "\n",
        "URL: https://meusite.mackenzie.br/rogerio/ML/qconlondon2016_sample_data.csv\n",
        "\n",
        "**IMPORTANTE** \n",
        "O uso de deeplearning pode ser bastante complexo e exigiria um bom tempo para estarmos aptos a empregar suas funções em diferentes problemas. Entenda esse exemplo como uma *degustação* do deep learning apenas para que você possa fixar os conceitos dessa técnica."
      ]
    },
    {
      "cell_type": "markdown",
      "metadata": {
        "id": "yjsISOzrZzPg"
      },
      "source": [
        "# Explorando os dados\n"
      ]
    },
    {
      "cell_type": "code",
      "metadata": {
        "id": "WUYc-QJxugaZ"
      },
      "source": [
        "# imports\n",
        "import numpy as np \n",
        "import pandas as pd \n",
        "import matplotlib.pyplot as plt \n",
        "import seaborn as sns \n",
        "import warnings\n",
        "import os\n",
        "warnings.filterwarnings(\"ignore\")\n",
        "\n",
        "from sklearn.model_selection import train_test_split\n",
        "from sklearn.metrics import confusion_matrix\n",
        "from sklearn.metrics import classification_report\n",
        "\n",
        "from tensorflow import keras\n",
        "from tensorflow.keras import layers\n",
        "from keras import Sequential, layers\n",
        "import tensorflow as tf"
      ],
      "execution_count": 2,
      "outputs": []
    },
    {
      "cell_type": "code",
      "metadata": {
        "id": "SIeEbP1HZxop",
        "colab": {
          "base_uri": "https://localhost:8080/"
        },
        "outputId": "fe33e311-ca36-4269-dc94-84c5f91cd1a4"
      },
      "source": [
        "fraud = pd.read_csv(\"http://meusite.mackenzie.br/rogerio/ML/qconlondon2016_sample_data.csv\")\n",
        "fraud.drop(columns=['charge_time'],inplace=True) # por simplicidade excluímos esse dado do treinamento\n",
        "                     \n",
        "print(fraud.head())\n",
        "print(fraud.shape) \n",
        "\n"
      ],
      "execution_count": 3,
      "outputs": [
        {
          "output_type": "stream",
          "text": [
            "   fraudulent  amount card_country  card_use_24h\n",
            "0       False   20484           US             0\n",
            "1       False    1211           US             0\n",
            "2       False    8396           US             1\n",
            "3       False    2359           US             0\n",
            "4       False    1480           US             3\n",
            "(89393, 4)\n"
          ],
          "name": "stdout"
        }
      ]
    },
    {
      "cell_type": "markdown",
      "metadata": {
        "id": "oeRSk9LpaisT"
      },
      "source": [
        "# Preparando os dados `X` e `y`\n",
        "\n",
        "A preparação dos dados pode ser bastante complexa. Aqui ela envolve o **hot encode** dos atributos não numéricos, o rescaling dos dados e ainda a formatação dos dados para os padrões do **TensorFlow/Keras** (formato de matrizes e não dataframes)."
      ]
    },
    {
      "cell_type": "markdown",
      "metadata": {
        "id": "qiu60pVtxFN-"
      },
      "source": [
        "## Hot Encode"
      ]
    },
    {
      "cell_type": "code",
      "metadata": {
        "colab": {
          "base_uri": "https://localhost:8080/",
          "height": 204
        },
        "id": "s_VfIWKuTKGm",
        "outputId": "64c46b22-b04a-48c4-a35b-ba52c5579d80"
      },
      "source": [
        "X = fraud.drop(columns=['fraudulent'])\r\n",
        "    \r\n",
        "X_number = X.select_dtypes(include='number')\r\n",
        "X_categorical = X.select_dtypes(exclude='number')\r\n",
        "    \r\n",
        "dummies = [pd.get_dummies(X[c],prefix=c, prefix_sep='_') for c in X_categorical.columns]\r\n",
        "X_dummies = pd.concat(dummies, axis=1)\r\n",
        "\r\n",
        "X = pd.concat([X_number,X_dummies], axis=1)\r\n",
        "X.head()"
      ],
      "execution_count": 6,
      "outputs": [
        {
          "output_type": "execute_result",
          "data": {
            "text/html": [
              "<div>\n",
              "<style scoped>\n",
              "    .dataframe tbody tr th:only-of-type {\n",
              "        vertical-align: middle;\n",
              "    }\n",
              "\n",
              "    .dataframe tbody tr th {\n",
              "        vertical-align: top;\n",
              "    }\n",
              "\n",
              "    .dataframe thead th {\n",
              "        text-align: right;\n",
              "    }\n",
              "</style>\n",
              "<table border=\"1\" class=\"dataframe\">\n",
              "  <thead>\n",
              "    <tr style=\"text-align: right;\">\n",
              "      <th></th>\n",
              "      <th>amount</th>\n",
              "      <th>card_use_24h</th>\n",
              "      <th>card_country_AU</th>\n",
              "      <th>card_country_GB</th>\n",
              "      <th>card_country_US</th>\n",
              "    </tr>\n",
              "  </thead>\n",
              "  <tbody>\n",
              "    <tr>\n",
              "      <th>0</th>\n",
              "      <td>20484</td>\n",
              "      <td>0</td>\n",
              "      <td>0</td>\n",
              "      <td>0</td>\n",
              "      <td>1</td>\n",
              "    </tr>\n",
              "    <tr>\n",
              "      <th>1</th>\n",
              "      <td>1211</td>\n",
              "      <td>0</td>\n",
              "      <td>0</td>\n",
              "      <td>0</td>\n",
              "      <td>1</td>\n",
              "    </tr>\n",
              "    <tr>\n",
              "      <th>2</th>\n",
              "      <td>8396</td>\n",
              "      <td>1</td>\n",
              "      <td>0</td>\n",
              "      <td>0</td>\n",
              "      <td>1</td>\n",
              "    </tr>\n",
              "    <tr>\n",
              "      <th>3</th>\n",
              "      <td>2359</td>\n",
              "      <td>0</td>\n",
              "      <td>0</td>\n",
              "      <td>0</td>\n",
              "      <td>1</td>\n",
              "    </tr>\n",
              "    <tr>\n",
              "      <th>4</th>\n",
              "      <td>1480</td>\n",
              "      <td>3</td>\n",
              "      <td>0</td>\n",
              "      <td>0</td>\n",
              "      <td>1</td>\n",
              "    </tr>\n",
              "  </tbody>\n",
              "</table>\n",
              "</div>"
            ],
            "text/plain": [
              "   amount  card_use_24h  card_country_AU  card_country_GB  card_country_US\n",
              "0   20484             0                0                0                1\n",
              "1    1211             0                0                0                1\n",
              "2    8396             1                0                0                1\n",
              "3    2359             0                0                0                1\n",
              "4    1480             3                0                0                1"
            ]
          },
          "metadata": {
            "tags": []
          },
          "execution_count": 6
        }
      ]
    },
    {
      "cell_type": "markdown",
      "metadata": {
        "id": "jAmRkm9ET8Z0"
      },
      "source": [
        "## Normalize"
      ]
    },
    {
      "cell_type": "markdown",
      "metadata": {
        "id": "CG3n_7Z1XGEu"
      },
      "source": [
        "### Scale"
      ]
    },
    {
      "cell_type": "code",
      "metadata": {
        "colab": {
          "base_uri": "https://localhost:8080/"
        },
        "id": "nLeT7H-_UPr0",
        "outputId": "999b7730-7681-4c9c-ee91-05af002c9f0f"
      },
      "source": [
        "from sklearn.preprocessing import scale\r\n",
        "X_norm = scale(X)\r\n",
        "X_norm\r\n"
      ],
      "execution_count": 7,
      "outputs": [
        {
          "output_type": "execute_result",
          "data": {
            "text/plain": [
              "array([[ 0.26867979, -0.17296712, -0.15679634, -0.17828929,  0.2407913 ],\n",
              "       [-0.19763503, -0.17296712, -0.15679634, -0.17828929,  0.2407913 ],\n",
              "       [-0.02379224, -0.1280861 , -0.15679634, -0.17828929,  0.2407913 ],\n",
              "       ...,\n",
              "       [ 6.07943233,  1.03882041, -0.15679634, -0.17828929,  0.2407913 ],\n",
              "       [21.1991333 ,  0.99393939, -0.15679634, -0.17828929,  0.2407913 ],\n",
              "       [-0.12325887,  0.18608104, -0.15679634, -0.17828929,  0.2407913 ]])"
            ]
          },
          "metadata": {
            "tags": []
          },
          "execution_count": 7
        }
      ]
    },
    {
      "cell_type": "markdown",
      "metadata": {
        "id": "-pL3XZ63XIt9"
      },
      "source": [
        "### API StandardScaler\r\n",
        "\r\n",
        "Prefira esse modo se você vai realmente implementar um `pipeline` de dados, *salvando* assim o `scaler` empregado."
      ]
    },
    {
      "cell_type": "code",
      "metadata": {
        "colab": {
          "base_uri": "https://localhost:8080/"
        },
        "id": "-ze4R4GGUhJW",
        "outputId": "a93a6580-85b7-46c5-ce4c-49c70b0e4a5d"
      },
      "source": [
        "from sklearn.preprocessing import StandardScaler\r\n",
        "\r\n",
        "scaler = StandardScaler()\r\n",
        "scaler.fit(X)\r\n",
        "X_norm = scaler.transform(X)\r\n",
        "X_norm\r\n",
        "\r\n"
      ],
      "execution_count": 8,
      "outputs": [
        {
          "output_type": "execute_result",
          "data": {
            "text/plain": [
              "array([[ 0.26867979, -0.17296712, -0.15679634, -0.17828929,  0.2407913 ],\n",
              "       [-0.19763503, -0.17296712, -0.15679634, -0.17828929,  0.2407913 ],\n",
              "       [-0.02379224, -0.1280861 , -0.15679634, -0.17828929,  0.2407913 ],\n",
              "       ...,\n",
              "       [ 6.07943233,  1.03882041, -0.15679634, -0.17828929,  0.2407913 ],\n",
              "       [21.1991333 ,  0.99393939, -0.15679634, -0.17828929,  0.2407913 ],\n",
              "       [-0.12325887,  0.18608104, -0.15679634, -0.17828929,  0.2407913 ]])"
            ]
          },
          "metadata": {
            "tags": []
          },
          "execution_count": 8
        }
      ]
    },
    {
      "cell_type": "markdown",
      "metadata": {
        "id": "enCMBD5YxXiU"
      },
      "source": [
        "# Preparando a saída `y` \n",
        "\n",
        "Valores numéricos para a saída de rede."
      ]
    },
    {
      "cell_type": "code",
      "metadata": {
        "id": "qf1XLBOHxbzd",
        "colab": {
          "base_uri": "https://localhost:8080/"
        },
        "outputId": "6bb1baeb-c184-4669-a405-b358fe231ecb"
      },
      "source": [
        "fraud.fraudulent = fraud.fraudulent.replace(True,1)\n",
        "fraud.fraudulent = fraud.fraudulent.replace(False,0)\n",
        "\n",
        "y_num = fraud.fraudulent\n",
        "y_num"
      ],
      "execution_count": 11,
      "outputs": [
        {
          "output_type": "execute_result",
          "data": {
            "text/plain": [
              "0        0.0\n",
              "1        0.0\n",
              "2        0.0\n",
              "3        0.0\n",
              "4        0.0\n",
              "        ... \n",
              "89388    1.0\n",
              "89389    1.0\n",
              "89390    1.0\n",
              "89391    1.0\n",
              "89392    1.0\n",
              "Name: fraudulent, Length: 89393, dtype: float64"
            ]
          },
          "metadata": {
            "tags": []
          },
          "execution_count": 11
        }
      ]
    },
    {
      "cell_type": "markdown",
      "metadata": {
        "id": "L40cJF1ccN5C"
      },
      "source": [
        "## Separando os dados de Treinamento e Teste"
      ]
    },
    {
      "cell_type": "code",
      "metadata": {
        "id": "RdElnvhvcSAe",
        "colab": {
          "base_uri": "https://localhost:8080/"
        },
        "outputId": "b31f822f-60fa-4ea7-dafd-c41b2b855ae3"
      },
      "source": [
        "seed = 1234\n",
        "X_train, X_test, y_train, y_test = train_test_split(X_norm, y_num, test_size=0.3, random_state=seed)#stratify=y)\n",
        "\n",
        "print(X_train.shape, X_test.shape, y_train.shape, y_test.shape)\n"
      ],
      "execution_count": 16,
      "outputs": [
        {
          "output_type": "stream",
          "text": [
            "(62575, 5) (26818, 5) (62575,) (26818,)\n"
          ],
          "name": "stdout"
        }
      ]
    },
    {
      "cell_type": "code",
      "metadata": {
        "colab": {
          "base_uri": "https://localhost:8080/"
        },
        "id": "HnJsUwZ_ckw_",
        "outputId": "84e9629c-0af2-4060-9359-c8970860e75b"
      },
      "source": [
        "y_train"
      ],
      "execution_count": null,
      "outputs": [
        {
          "output_type": "execute_result",
          "data": {
            "text/plain": [
              "15481    0.0\n",
              "68476    1.0\n",
              "62702    1.0\n",
              "15586    0.0\n",
              "21519    0.0\n",
              "        ... \n",
              "22782    0.0\n",
              "10869    0.0\n",
              "12653    0.0\n",
              "60631    1.0\n",
              "2925     0.0\n",
              "Name: fraudulent, Length: 62575, dtype: float64"
            ]
          },
          "metadata": {
            "tags": []
          },
          "execution_count": 43
        }
      ]
    },
    {
      "cell_type": "markdown",
      "metadata": {
        "id": "rfOUECSdyENj"
      },
      "source": [
        "# Adequando os dados para o `Keras`\n",
        "\n",
        "Os dados para o `Keras` (TensorFlow) devem ser matrizes, com a saída em formato de um matriz binária (*hot encoded*)."
      ]
    },
    {
      "cell_type": "code",
      "metadata": {
        "id": "GNQYR8xQyWeD",
        "colab": {
          "base_uri": "https://localhost:8080/"
        },
        "outputId": "5cf4d25e-da57-4690-d716-daa6ef2df345"
      },
      "source": [
        "from keras.utils import to_categorical\n",
        "y_train = to_categorical(y_train)\n",
        "y_train\n"
      ],
      "execution_count": 17,
      "outputs": [
        {
          "output_type": "execute_result",
          "data": {
            "text/plain": [
              "array([[0., 1.],\n",
              "       [1., 0.],\n",
              "       [0., 1.],\n",
              "       ...,\n",
              "       [0., 1.],\n",
              "       [1., 0.],\n",
              "       [0., 1.]], dtype=float32)"
            ]
          },
          "metadata": {
            "tags": []
          },
          "execution_count": 17
        }
      ]
    },
    {
      "cell_type": "markdown",
      "metadata": {
        "id": "zoKFbY_gyf2Z"
      },
      "source": [
        "# Configuração da Rede DeepLearning\n",
        "\n",
        "Nossa rede será uma rede neural sequencial MLP. Há 5 neurônios de entrada, correspondendo a cada atributo de entrada, vamos criar duas camadas ocultas de 8 neurônios, e uma camada de saída com 2 neurônios correspondendo às duas classes de saída.\n",
        "\n",
        "\n",
        "\n"
      ]
    },
    {
      "cell_type": "code",
      "metadata": {
        "id": "YVUC8oWhylEQ"
      },
      "source": [
        "# Definição ou Configuração      saída       função de ativação    camada entrada\n",
        "model = Sequential([layers.Dense(X.shape[1], activation='sigmoid', input_shape=[X.shape[1],])]) \n",
        "\n",
        "model.add(layers.Dense(8, activation='sigmoid'))\n",
        "model.add(layers.Dense(8, activation='sigmoid'))\n",
        "model.add(layers.Dense(2, activation='sigmoid'))\n",
        "model.compile(loss='categorical_crossentropy', optimizer='adam', metrics=['accuracy'])\n",
        "\n"
      ],
      "execution_count": 23,
      "outputs": []
    },
    {
      "cell_type": "code",
      "metadata": {
        "colab": {
          "base_uri": "https://localhost:8080/"
        },
        "id": "9ZX2jwUxuzkO",
        "outputId": "b472b1ba-a84e-46b5-a1d6-947b360bf0a9"
      },
      "source": [
        "[X.shape[1],]"
      ],
      "execution_count": 21,
      "outputs": [
        {
          "output_type": "execute_result",
          "data": {
            "text/plain": [
              "[5]"
            ]
          },
          "metadata": {
            "tags": []
          },
          "execution_count": 21
        }
      ]
    },
    {
      "cell_type": "markdown",
      "metadata": {
        "id": "A_yUDfjJeC5u"
      },
      "source": [
        "# Treinamento da Rede DeepLearning\r\n",
        "\r\n",
        "Os modelos neurais em geral trazem embutido no treinamento os conjuntos de validação. Assim, em geral, teremos um conjunto de *validação* e um conjunto de *teste*. O `history` permite salvar os dados do treinamento para análise do aprendizado, por exemplo *overfitting*. "
      ]
    },
    {
      "cell_type": "code",
      "metadata": {
        "colab": {
          "base_uri": "https://localhost:8080/"
        },
        "id": "vqO9g2tCeOZN",
        "outputId": "e23a74e9-6257-4c1a-fbd8-8f5785c1d699"
      },
      "source": [
        "# Treinamento\r\n",
        "history = model.fit(X_train, y_train, validation_split=0.2, epochs=100)"
      ],
      "execution_count": 24,
      "outputs": [
        {
          "output_type": "stream",
          "text": [
            "Epoch 1/100\n",
            "1565/1565 [==============================] - 3s 1ms/step - loss: 0.6921 - accuracy: 0.5330 - val_loss: 0.6644 - val_accuracy: 0.6038\n",
            "Epoch 2/100\n",
            "1565/1565 [==============================] - 2s 1ms/step - loss: 0.6524 - accuracy: 0.6322 - val_loss: 0.6206 - val_accuracy: 0.6613\n",
            "Epoch 3/100\n",
            "1565/1565 [==============================] - 2s 1ms/step - loss: 0.6165 - accuracy: 0.6667 - val_loss: 0.6128 - val_accuracy: 0.6683\n",
            "Epoch 4/100\n",
            "1565/1565 [==============================] - 2s 1ms/step - loss: 0.6105 - accuracy: 0.6703 - val_loss: 0.6118 - val_accuracy: 0.6672\n",
            "Epoch 5/100\n",
            "1565/1565 [==============================] - 2s 1ms/step - loss: 0.6116 - accuracy: 0.6687 - val_loss: 0.6102 - val_accuracy: 0.6700\n",
            "Epoch 6/100\n",
            "1565/1565 [==============================] - 2s 1ms/step - loss: 0.6116 - accuracy: 0.6674 - val_loss: 0.6097 - val_accuracy: 0.6701\n",
            "Epoch 7/100\n",
            "1565/1565 [==============================] - 2s 1ms/step - loss: 0.6097 - accuracy: 0.6685 - val_loss: 0.6098 - val_accuracy: 0.6698\n",
            "Epoch 8/100\n",
            "1565/1565 [==============================] - 2s 1ms/step - loss: 0.6113 - accuracy: 0.6677 - val_loss: 0.6098 - val_accuracy: 0.6680\n",
            "Epoch 9/100\n",
            "1565/1565 [==============================] - 2s 1ms/step - loss: 0.6101 - accuracy: 0.6691 - val_loss: 0.6094 - val_accuracy: 0.6706\n",
            "Epoch 10/100\n",
            "1565/1565 [==============================] - 2s 1ms/step - loss: 0.6097 - accuracy: 0.6707 - val_loss: 0.6089 - val_accuracy: 0.6755\n",
            "Epoch 11/100\n",
            "1565/1565 [==============================] - 2s 1ms/step - loss: 0.6112 - accuracy: 0.6684 - val_loss: 0.6088 - val_accuracy: 0.6713\n",
            "Epoch 12/100\n",
            "1565/1565 [==============================] - 2s 1ms/step - loss: 0.6115 - accuracy: 0.6706 - val_loss: 0.6095 - val_accuracy: 0.6757\n",
            "Epoch 13/100\n",
            "1565/1565 [==============================] - 2s 1ms/step - loss: 0.6106 - accuracy: 0.6696 - val_loss: 0.6085 - val_accuracy: 0.6724\n",
            "Epoch 14/100\n",
            "1565/1565 [==============================] - 2s 1ms/step - loss: 0.6068 - accuracy: 0.6716 - val_loss: 0.6084 - val_accuracy: 0.6730\n",
            "Epoch 15/100\n",
            "1565/1565 [==============================] - 2s 1ms/step - loss: 0.6106 - accuracy: 0.6705 - val_loss: 0.6085 - val_accuracy: 0.6698\n",
            "Epoch 16/100\n",
            "1565/1565 [==============================] - 2s 1ms/step - loss: 0.6084 - accuracy: 0.6681 - val_loss: 0.6086 - val_accuracy: 0.6715\n",
            "Epoch 17/100\n",
            "1565/1565 [==============================] - 2s 1ms/step - loss: 0.6068 - accuracy: 0.6703 - val_loss: 0.6083 - val_accuracy: 0.6742\n",
            "Epoch 18/100\n",
            "1565/1565 [==============================] - 2s 1ms/step - loss: 0.6087 - accuracy: 0.6670 - val_loss: 0.6084 - val_accuracy: 0.6739\n",
            "Epoch 19/100\n",
            "1565/1565 [==============================] - 2s 1ms/step - loss: 0.6048 - accuracy: 0.6742 - val_loss: 0.6083 - val_accuracy: 0.6759\n",
            "Epoch 20/100\n",
            "1565/1565 [==============================] - 2s 1ms/step - loss: 0.6074 - accuracy: 0.6711 - val_loss: 0.6103 - val_accuracy: 0.6686\n",
            "Epoch 21/100\n",
            "1565/1565 [==============================] - 2s 1ms/step - loss: 0.6109 - accuracy: 0.6676 - val_loss: 0.6081 - val_accuracy: 0.6698\n",
            "Epoch 22/100\n",
            "1565/1565 [==============================] - 2s 1ms/step - loss: 0.6103 - accuracy: 0.6675 - val_loss: 0.6086 - val_accuracy: 0.6769\n",
            "Epoch 23/100\n",
            "1565/1565 [==============================] - 2s 1ms/step - loss: 0.6076 - accuracy: 0.6715 - val_loss: 0.6093 - val_accuracy: 0.6692\n",
            "Epoch 24/100\n",
            "1565/1565 [==============================] - 2s 1ms/step - loss: 0.6087 - accuracy: 0.6712 - val_loss: 0.6084 - val_accuracy: 0.6695\n",
            "Epoch 25/100\n",
            "1565/1565 [==============================] - 2s 1ms/step - loss: 0.6076 - accuracy: 0.6708 - val_loss: 0.6081 - val_accuracy: 0.6735\n",
            "Epoch 26/100\n",
            "1565/1565 [==============================] - 2s 1ms/step - loss: 0.6070 - accuracy: 0.6700 - val_loss: 0.6080 - val_accuracy: 0.6718\n",
            "Epoch 27/100\n",
            "1565/1565 [==============================] - 2s 1ms/step - loss: 0.6054 - accuracy: 0.6724 - val_loss: 0.6082 - val_accuracy: 0.6710\n",
            "Epoch 28/100\n",
            "1565/1565 [==============================] - 2s 1ms/step - loss: 0.6104 - accuracy: 0.6680 - val_loss: 0.6081 - val_accuracy: 0.6723\n",
            "Epoch 29/100\n",
            "1565/1565 [==============================] - 2s 1ms/step - loss: 0.6099 - accuracy: 0.6666 - val_loss: 0.6081 - val_accuracy: 0.6741\n",
            "Epoch 30/100\n",
            "1565/1565 [==============================] - 2s 1ms/step - loss: 0.6052 - accuracy: 0.6760 - val_loss: 0.6085 - val_accuracy: 0.6759\n",
            "Epoch 31/100\n",
            "1565/1565 [==============================] - 2s 1ms/step - loss: 0.6088 - accuracy: 0.6682 - val_loss: 0.6079 - val_accuracy: 0.6706\n",
            "Epoch 32/100\n",
            "1565/1565 [==============================] - 2s 1ms/step - loss: 0.6086 - accuracy: 0.6716 - val_loss: 0.6078 - val_accuracy: 0.6720\n",
            "Epoch 33/100\n",
            "1565/1565 [==============================] - 2s 1ms/step - loss: 0.6061 - accuracy: 0.6730 - val_loss: 0.6084 - val_accuracy: 0.6696\n",
            "Epoch 34/100\n",
            "1565/1565 [==============================] - 2s 1ms/step - loss: 0.6053 - accuracy: 0.6734 - val_loss: 0.6088 - val_accuracy: 0.6679\n",
            "Epoch 35/100\n",
            "1565/1565 [==============================] - 2s 1ms/step - loss: 0.6055 - accuracy: 0.6743 - val_loss: 0.6084 - val_accuracy: 0.6678\n",
            "Epoch 36/100\n",
            "1565/1565 [==============================] - 2s 1ms/step - loss: 0.6081 - accuracy: 0.6683 - val_loss: 0.6080 - val_accuracy: 0.6719\n",
            "Epoch 37/100\n",
            "1565/1565 [==============================] - 2s 1ms/step - loss: 0.6036 - accuracy: 0.6738 - val_loss: 0.6089 - val_accuracy: 0.6779\n",
            "Epoch 38/100\n",
            "1565/1565 [==============================] - 2s 1ms/step - loss: 0.6058 - accuracy: 0.6741 - val_loss: 0.6079 - val_accuracy: 0.6697\n",
            "Epoch 39/100\n",
            "1565/1565 [==============================] - 2s 1ms/step - loss: 0.6070 - accuracy: 0.6689 - val_loss: 0.6078 - val_accuracy: 0.6706\n",
            "Epoch 40/100\n",
            "1565/1565 [==============================] - 2s 1ms/step - loss: 0.6078 - accuracy: 0.6715 - val_loss: 0.6079 - val_accuracy: 0.6733\n",
            "Epoch 41/100\n",
            "1565/1565 [==============================] - 2s 1ms/step - loss: 0.6071 - accuracy: 0.6709 - val_loss: 0.6095 - val_accuracy: 0.6686\n",
            "Epoch 42/100\n",
            "1565/1565 [==============================] - 2s 1ms/step - loss: 0.6053 - accuracy: 0.6751 - val_loss: 0.6077 - val_accuracy: 0.6714\n",
            "Epoch 43/100\n",
            "1565/1565 [==============================] - 2s 1ms/step - loss: 0.6088 - accuracy: 0.6692 - val_loss: 0.6077 - val_accuracy: 0.6702\n",
            "Epoch 44/100\n",
            "1565/1565 [==============================] - 2s 1ms/step - loss: 0.6090 - accuracy: 0.6740 - val_loss: 0.6079 - val_accuracy: 0.6718\n",
            "Epoch 45/100\n",
            "1565/1565 [==============================] - 2s 1ms/step - loss: 0.6078 - accuracy: 0.6725 - val_loss: 0.6077 - val_accuracy: 0.6717\n",
            "Epoch 46/100\n",
            "1565/1565 [==============================] - 2s 1ms/step - loss: 0.6074 - accuracy: 0.6706 - val_loss: 0.6077 - val_accuracy: 0.6689\n",
            "Epoch 47/100\n",
            "1565/1565 [==============================] - 2s 1ms/step - loss: 0.6070 - accuracy: 0.6729 - val_loss: 0.6080 - val_accuracy: 0.6689\n",
            "Epoch 48/100\n",
            "1565/1565 [==============================] - 2s 1ms/step - loss: 0.6064 - accuracy: 0.6726 - val_loss: 0.6082 - val_accuracy: 0.6747\n",
            "Epoch 49/100\n",
            "1565/1565 [==============================] - 2s 1ms/step - loss: 0.6072 - accuracy: 0.6717 - val_loss: 0.6079 - val_accuracy: 0.6728\n",
            "Epoch 50/100\n",
            "1565/1565 [==============================] - 2s 1ms/step - loss: 0.6063 - accuracy: 0.6721 - val_loss: 0.6080 - val_accuracy: 0.6727\n",
            "Epoch 51/100\n",
            "1565/1565 [==============================] - 2s 1ms/step - loss: 0.6070 - accuracy: 0.6717 - val_loss: 0.6078 - val_accuracy: 0.6738\n",
            "Epoch 52/100\n",
            "1565/1565 [==============================] - 2s 1ms/step - loss: 0.6084 - accuracy: 0.6705 - val_loss: 0.6076 - val_accuracy: 0.6701\n",
            "Epoch 53/100\n",
            "1565/1565 [==============================] - 2s 1ms/step - loss: 0.6104 - accuracy: 0.6648 - val_loss: 0.6077 - val_accuracy: 0.6714\n",
            "Epoch 54/100\n",
            "1565/1565 [==============================] - 2s 1ms/step - loss: 0.6095 - accuracy: 0.6696 - val_loss: 0.6077 - val_accuracy: 0.6728\n",
            "Epoch 55/100\n",
            "1565/1565 [==============================] - 2s 1ms/step - loss: 0.6061 - accuracy: 0.6720 - val_loss: 0.6076 - val_accuracy: 0.6729\n",
            "Epoch 56/100\n",
            "1565/1565 [==============================] - 2s 1ms/step - loss: 0.6046 - accuracy: 0.6756 - val_loss: 0.6098 - val_accuracy: 0.6681\n",
            "Epoch 57/100\n",
            "1565/1565 [==============================] - 2s 1ms/step - loss: 0.6066 - accuracy: 0.6725 - val_loss: 0.6081 - val_accuracy: 0.6690\n",
            "Epoch 58/100\n",
            "1565/1565 [==============================] - 2s 1ms/step - loss: 0.6083 - accuracy: 0.6707 - val_loss: 0.6079 - val_accuracy: 0.6685\n",
            "Epoch 59/100\n",
            "1565/1565 [==============================] - 2s 1ms/step - loss: 0.6063 - accuracy: 0.6717 - val_loss: 0.6075 - val_accuracy: 0.6706\n",
            "Epoch 60/100\n",
            "1565/1565 [==============================] - 2s 1ms/step - loss: 0.6082 - accuracy: 0.6677 - val_loss: 0.6075 - val_accuracy: 0.6695\n",
            "Epoch 61/100\n",
            "1565/1565 [==============================] - 2s 1ms/step - loss: 0.6088 - accuracy: 0.6701 - val_loss: 0.6078 - val_accuracy: 0.6690\n",
            "Epoch 62/100\n",
            "1565/1565 [==============================] - 2s 1ms/step - loss: 0.6080 - accuracy: 0.6696 - val_loss: 0.6076 - val_accuracy: 0.6734\n",
            "Epoch 63/100\n",
            "1565/1565 [==============================] - 2s 1ms/step - loss: 0.6082 - accuracy: 0.6711 - val_loss: 0.6082 - val_accuracy: 0.6754\n",
            "Epoch 64/100\n",
            "1565/1565 [==============================] - 2s 1ms/step - loss: 0.6086 - accuracy: 0.6701 - val_loss: 0.6075 - val_accuracy: 0.6687\n",
            "Epoch 65/100\n",
            "1565/1565 [==============================] - 2s 1ms/step - loss: 0.6109 - accuracy: 0.6675 - val_loss: 0.6078 - val_accuracy: 0.6737\n",
            "Epoch 66/100\n",
            "1565/1565 [==============================] - 2s 1ms/step - loss: 0.6079 - accuracy: 0.6724 - val_loss: 0.6078 - val_accuracy: 0.6706\n",
            "Epoch 67/100\n",
            "1565/1565 [==============================] - 2s 1ms/step - loss: 0.6076 - accuracy: 0.6707 - val_loss: 0.6076 - val_accuracy: 0.6689\n",
            "Epoch 68/100\n",
            "1565/1565 [==============================] - 2s 1ms/step - loss: 0.6093 - accuracy: 0.6695 - val_loss: 0.6075 - val_accuracy: 0.6715\n",
            "Epoch 69/100\n",
            "1565/1565 [==============================] - 2s 1ms/step - loss: 0.6048 - accuracy: 0.6717 - val_loss: 0.6078 - val_accuracy: 0.6738\n",
            "Epoch 70/100\n",
            "1565/1565 [==============================] - 2s 1ms/step - loss: 0.6066 - accuracy: 0.6721 - val_loss: 0.6083 - val_accuracy: 0.6765\n",
            "Epoch 71/100\n",
            "1565/1565 [==============================] - 2s 1ms/step - loss: 0.6066 - accuracy: 0.6720 - val_loss: 0.6103 - val_accuracy: 0.6673\n",
            "Epoch 72/100\n",
            "1565/1565 [==============================] - 2s 1ms/step - loss: 0.6063 - accuracy: 0.6700 - val_loss: 0.6077 - val_accuracy: 0.6699\n",
            "Epoch 73/100\n",
            "1565/1565 [==============================] - 2s 1ms/step - loss: 0.6069 - accuracy: 0.6718 - val_loss: 0.6080 - val_accuracy: 0.6683\n",
            "Epoch 74/100\n",
            "1565/1565 [==============================] - 2s 1ms/step - loss: 0.6069 - accuracy: 0.6719 - val_loss: 0.6074 - val_accuracy: 0.6710\n",
            "Epoch 75/100\n",
            "1565/1565 [==============================] - 2s 1ms/step - loss: 0.6058 - accuracy: 0.6750 - val_loss: 0.6090 - val_accuracy: 0.6784\n",
            "Epoch 76/100\n",
            "1565/1565 [==============================] - 2s 1ms/step - loss: 0.6087 - accuracy: 0.6670 - val_loss: 0.6077 - val_accuracy: 0.6706\n",
            "Epoch 77/100\n",
            "1565/1565 [==============================] - 2s 1ms/step - loss: 0.6068 - accuracy: 0.6708 - val_loss: 0.6074 - val_accuracy: 0.6718\n",
            "Epoch 78/100\n",
            "1565/1565 [==============================] - 2s 1ms/step - loss: 0.6045 - accuracy: 0.6725 - val_loss: 0.6079 - val_accuracy: 0.6699\n",
            "Epoch 79/100\n",
            "1565/1565 [==============================] - 2s 1ms/step - loss: 0.6083 - accuracy: 0.6691 - val_loss: 0.6080 - val_accuracy: 0.6693\n",
            "Epoch 80/100\n",
            "1565/1565 [==============================] - 2s 1ms/step - loss: 0.6095 - accuracy: 0.6691 - val_loss: 0.6075 - val_accuracy: 0.6713\n",
            "Epoch 81/100\n",
            "1565/1565 [==============================] - 2s 1ms/step - loss: 0.6098 - accuracy: 0.6691 - val_loss: 0.6076 - val_accuracy: 0.6698\n",
            "Epoch 82/100\n",
            "1565/1565 [==============================] - 2s 1ms/step - loss: 0.6076 - accuracy: 0.6732 - val_loss: 0.6083 - val_accuracy: 0.6768\n",
            "Epoch 83/100\n",
            "1565/1565 [==============================] - 2s 1ms/step - loss: 0.6091 - accuracy: 0.6695 - val_loss: 0.6076 - val_accuracy: 0.6734\n",
            "Epoch 84/100\n",
            "1565/1565 [==============================] - 2s 1ms/step - loss: 0.6087 - accuracy: 0.6713 - val_loss: 0.6073 - val_accuracy: 0.6697\n",
            "Epoch 85/100\n",
            "1565/1565 [==============================] - 2s 1ms/step - loss: 0.6029 - accuracy: 0.6767 - val_loss: 0.6076 - val_accuracy: 0.6737\n",
            "Epoch 86/100\n",
            "1565/1565 [==============================] - 2s 1ms/step - loss: 0.6083 - accuracy: 0.6684 - val_loss: 0.6080 - val_accuracy: 0.6760\n",
            "Epoch 87/100\n",
            "1565/1565 [==============================] - 2s 1ms/step - loss: 0.6078 - accuracy: 0.6686 - val_loss: 0.6075 - val_accuracy: 0.6695\n",
            "Epoch 88/100\n",
            "1565/1565 [==============================] - 2s 1ms/step - loss: 0.6109 - accuracy: 0.6672 - val_loss: 0.6076 - val_accuracy: 0.6730\n",
            "Epoch 89/100\n",
            "1565/1565 [==============================] - 2s 1ms/step - loss: 0.6076 - accuracy: 0.6717 - val_loss: 0.6078 - val_accuracy: 0.6749\n",
            "Epoch 90/100\n",
            "1565/1565 [==============================] - 2s 1ms/step - loss: 0.6109 - accuracy: 0.6680 - val_loss: 0.6077 - val_accuracy: 0.6734\n",
            "Epoch 91/100\n",
            "1565/1565 [==============================] - 2s 1ms/step - loss: 0.6055 - accuracy: 0.6715 - val_loss: 0.6085 - val_accuracy: 0.6685\n",
            "Epoch 92/100\n",
            "1565/1565 [==============================] - 2s 1ms/step - loss: 0.6052 - accuracy: 0.6728 - val_loss: 0.6073 - val_accuracy: 0.6698\n",
            "Epoch 93/100\n",
            "1565/1565 [==============================] - 2s 1ms/step - loss: 0.6108 - accuracy: 0.6692 - val_loss: 0.6080 - val_accuracy: 0.6682\n",
            "Epoch 94/100\n",
            "1565/1565 [==============================] - 2s 1ms/step - loss: 0.6046 - accuracy: 0.6719 - val_loss: 0.6077 - val_accuracy: 0.6698\n",
            "Epoch 95/100\n",
            "1565/1565 [==============================] - 2s 1ms/step - loss: 0.6054 - accuracy: 0.6724 - val_loss: 0.6080 - val_accuracy: 0.6750\n",
            "Epoch 96/100\n",
            "1565/1565 [==============================] - 2s 1ms/step - loss: 0.6043 - accuracy: 0.6748 - val_loss: 0.6073 - val_accuracy: 0.6694\n",
            "Epoch 97/100\n",
            "1565/1565 [==============================] - 2s 1ms/step - loss: 0.6057 - accuracy: 0.6716 - val_loss: 0.6074 - val_accuracy: 0.6702\n",
            "Epoch 98/100\n",
            "1565/1565 [==============================] - 2s 1ms/step - loss: 0.6048 - accuracy: 0.6708 - val_loss: 0.6073 - val_accuracy: 0.6698\n",
            "Epoch 99/100\n",
            "1565/1565 [==============================] - 2s 1ms/step - loss: 0.6080 - accuracy: 0.6690 - val_loss: 0.6075 - val_accuracy: 0.6737\n",
            "Epoch 100/100\n",
            "1565/1565 [==============================] - 2s 1ms/step - loss: 0.6066 - accuracy: 0.6703 - val_loss: 0.6074 - val_accuracy: 0.6702\n"
          ],
          "name": "stdout"
        }
      ]
    },
    {
      "cell_type": "markdown",
      "metadata": {
        "id": "RjDowgmPe7ge"
      },
      "source": [
        "# Avaliação do Modelo\r\n",
        "\r\n",
        "Em geral,  diferentemente do que é mais comum em outros modelos de classificação não neurais, avalia-se o erro em substituição à acurácia."
      ]
    },
    {
      "cell_type": "markdown",
      "metadata": {
        "id": "pmfPcs6J0ZFC"
      },
      "source": [
        "O Treinamento busca a cada etapa minimizar o erro (aumentar a acuracidade). Isso entretanto não ocorre de maneira regular. O Treinamento pode ser concluído quando alcança um erro médio desejado ou após um certo número de iterações, uma vez que o modelo pode não convergir."
      ]
    },
    {
      "cell_type": "code",
      "metadata": {
        "id": "zrkQMDRzzmJq",
        "colab": {
          "base_uri": "https://localhost:8080/",
          "height": 700
        },
        "outputId": "db41a438-1da5-41cc-f7b6-3e8f48d983f8"
      },
      "source": [
        "loss, val_loss, acc, val_acc = plot_loss_acc(history,'Two Hidden Layer Neural Network 5,8,8,2 (sigmoid)')\n"
      ],
      "execution_count": 25,
      "outputs": [
        {
          "output_type": "display_data",
          "data": {
            "image/png": "[encoded data removed]",
            "text/plain": [
              "<Figure size 576x360 with 1 Axes>"
            ]
          },
          "metadata": {
            "tags": [],
            "needs_background": "light"
          }
        },
        {
          "output_type": "display_data",
          "data": {
            "image/png": "[encoded data removed]",
            "text/plain": [
              "<Figure size 576x360 with 1 Axes>"
            ]
          },
          "metadata": {
            "tags": [],
            "needs_background": "light"
          }
        },
        {
          "output_type": "stream",
          "text": [
            "Two Hidden Layer Neural Network 5,8,8,2 (sigmoid)Accuracy Train: 67.05 %, Accuracy Test: 67.02 %\n"
          ],
          "name": "stdout"
        }
      ]
    },
    {
      "cell_type": "markdown",
      "metadata": {
        "id": "_hslPCKTfzCn"
      },
      "source": [
        "# Predição, aplicando e avaliando o modelo\r\n",
        "\r\n",
        "Podemos então aplicar e avaliar o modelo no conjunto de teste."
      ]
    },
    {
      "cell_type": "markdown",
      "metadata": {
        "id": "5Oc0b8_O05yj"
      },
      "source": [
        "Em cada neurônio de saída a rede retorna a probabilidade da classe. A seleção do neurônio de maior valor a classe mais provável (`np.argmax()`)."
      ]
    },
    {
      "cell_type": "code",
      "metadata": {
        "id": "O0df3TPl1B2b",
        "colab": {
          "base_uri": "https://localhost:8080/"
        },
        "outputId": "6bb7c526-53b7-4ae9-90a0-e4bef6d26401"
      },
      "source": [
        "# Predict\n",
        "print(model.predict(X_test))\n",
        "\n",
        "y_pred = np.argmax(model.predict(X_test), axis=-1)\n",
        "    \n",
        "print(y_pred)\n",
        "print(confusion_matrix(y_pred,y_test))\n"
      ],
      "execution_count": 27,
      "outputs": [
        {
          "output_type": "stream",
          "text": [
            "[[0.1473712  0.6655322 ]\n",
            " [0.43227744 0.40930614]\n",
            " [0.32428828 0.49539906]\n",
            " ...\n",
            " [0.5158497  0.34150797]\n",
            " [0.5093743  0.34675217]\n",
            " [0.44245976 0.4007496 ]]\n",
            "[1 0 1 ... 0 0 0]\n",
            "[[10327  5596]\n",
            " [ 3167  7728]]\n"
          ],
          "name": "stdout"
        }
      ]
    },
    {
      "cell_type": "code",
      "metadata": {
        "colab": {
          "base_uri": "https://localhost:8080/"
        },
        "id": "Aayq7XSFgYiG",
        "outputId": "1ce9e2b5-9c0b-4b19-b204-85f8c3213923"
      },
      "source": [
        "print(classification_report(y_pred,y_test))"
      ],
      "execution_count": 28,
      "outputs": [
        {
          "output_type": "stream",
          "text": [
            "              precision    recall  f1-score   support\n",
            "\n",
            "           0       0.77      0.65      0.70     15923\n",
            "           1       0.58      0.71      0.64     10895\n",
            "\n",
            "    accuracy                           0.67     26818\n",
            "   macro avg       0.67      0.68      0.67     26818\n",
            "weighted avg       0.69      0.67      0.68     26818\n",
            "\n"
          ],
          "name": "stdout"
        }
      ]
    },
    {
      "cell_type": "markdown",
      "metadata": {
        "id": "gSib62DfhBgO"
      },
      "source": [
        "# Código completo\r\n",
        "\r\n",
        "Aqui o código completo em uma única célula."
      ]
    },
    {
      "cell_type": "code",
      "metadata": {
        "id": "dKEViP5J5zCo"
      },
      "source": [
        "import numpy as np \n",
        "import pandas as pd \n",
        "import matplotlib.pyplot as plt \n",
        "import seaborn as sns \n",
        "import warnings\n",
        "import os\n",
        "warnings.filterwarnings(\"ignore\")\n",
        "\n",
        "from sklearn.model_selection import train_test_split\n",
        "from sklearn.metrics import confusion_matrix\n",
        "from sklearn.metrics import classification_report\n",
        "\n",
        "from tensorflow import keras\n",
        "from tensorflow.keras import layers\n",
        "from keras import Sequential, layers\n",
        "import tensorflow as tf\n",
        "\n",
        "fraud = pd.read_csv(\"http://meusite.mackenzie.br/rogerio/ML/qconlondon2016_sample_data.csv\")\n",
        "fraud.drop(columns=['charge_time'],inplace=True)"
      ],
      "execution_count": 37,
      "outputs": []
    },
    {
      "cell_type": "code",
      "metadata": {
        "colab": {
          "base_uri": "https://localhost:8080/",
          "height": 697
        },
        "id": "Gw24oGzig_If",
        "outputId": "0afc46ac-8489-4de7-f687-504944f52984"
      },
      "source": [
        "## imports\r\n",
        "\r\n",
        "# import numpy as np \r\n",
        "# import pandas as pd \r\n",
        "# import matplotlib.pyplot as plt \r\n",
        "# import seaborn as sns \r\n",
        "# import warnings\r\n",
        "# import os\r\n",
        "# warnings.filterwarnings(\"ignore\")\r\n",
        "\r\n",
        "# from sklearn.model_selection import train_test_split\r\n",
        "# from sklearn.metrics import confusion_matrix\r\n",
        "# from sklearn.metrics import classification_report\r\n",
        "\r\n",
        "# from tensorflow import keras\r\n",
        "# from tensorflow.keras import layers\r\n",
        "# from keras import Sequential, layers\r\n",
        "# import tensorflow as tf\r\n",
        "\r\n",
        "# fraud = pd.read_csv(\"http://meusite.mackenzie.br/rogerio/ML/qconlondon2016_sample_data.csv\")\r\n",
        "# fraud.drop(columns=['charge_time'],inplace=True) # por simplicidade excluímos esse dado do treinamento\r\n",
        "                     \r\n",
        "## Hot Encode\r\n",
        "\r\n",
        "X = fraud.drop(columns=['fraudulent'])\r\n",
        "\r\n",
        "\r\n",
        "# X_number = X.select_dtypes(include='number')\r\n",
        "# X_categorical = X.select_dtypes(exclude='number')\r\n",
        "    \r\n",
        "# dummies = [pd.get_dummies(X[c],prefix=c, prefix_sep='_') for c in X_categorical.columns]\r\n",
        "# X_dummies = pd.concat(dummies, axis=1)\r\n",
        "\r\n",
        "# X = pd.concat([X_number,X_dummies], axis=1)\r\n",
        "# X.head()\r\n",
        "\r\n",
        "## Label Encode\r\n",
        "from sklearn.preprocessing import LabelEncoder\r\n",
        "labelencoder = LabelEncoder()\r\n",
        "X['card_country_label'] = labelencoder.fit_transform(X['card_country'])\r\n",
        "\r\n",
        "## Normalize\r\n",
        "\r\n",
        "# from sklearn.preprocessing import scale\r\n",
        "# X_norm = scale(X)\r\n",
        "# X_norm\r\n",
        "\r\n",
        "X_norm = X\r\n",
        "X_norm\r\n",
        "\r\n",
        "## Preparando a saída `y` \r\n",
        "\r\n",
        "fraud.fraudulent = fraud.fraudulent.replace(True,1)\r\n",
        "fraud.fraudulent = fraud.fraudulent.replace(False,0)\r\n",
        "\r\n",
        "y_num = fraud.fraudulent\r\n",
        "y_num\r\n",
        "\r\n",
        "## Separando os dados de Treinamento e Teste \r\n",
        "\r\n",
        "seed = 1234\r\n",
        "X_train, X_test, y_train, y_test = train_test_split(X_norm, y_num, test_size=0.3, stratify=y_num, random_state=seed)\r\n",
        "\r\n",
        "## Adequando categorical(y_train) para o `Keras`\r\n",
        "\r\n",
        "from keras.utils import to_categorical\r\n",
        "\r\n",
        "y_train = to_categorical(y_train)\r\n",
        "y_train\r\n",
        "\r\n",
        "## Configuração da Rede DeepLearning\r\n",
        "\r\n",
        "model = Sequential([layers.Dense(X.shape[1], activation='sigmoid', input_shape=[X.shape[1],])]) \r\n",
        "\r\n",
        "model.add(layers.Dense(8, activation='sigmoid'))\r\n",
        "model.add(layers.Dense(8, activation='sigmoid'))\r\n",
        "model.add(layers.Dense(2, activation='sigmoid'))\r\n",
        "model.compile(loss='categorical_crossentropy', optimizer='adam', metrics=['accuracy'])\r\n",
        "\r\n",
        "## Treinamento da Rede DeepLearning\r\n",
        "\r\n",
        "history = model.fit(X_train, y_train, validation_split=0.2, epochs=20)\r\n",
        "\r\n",
        "## Avaliação do Treinamento\r\n",
        "\r\n",
        "loss, val_loss, acc, val_acc = plot_loss_acc(history,'Two Hidden Layer Neural Network 5,8,8,2 (sigmoid)')\r\n",
        "\r\n",
        "## Predição, aplicando e avaliando o modelo\r\n",
        "\r\n",
        "y_pred = np.argmax(model.predict(X_test), axis=-1)\r\n",
        "    \r\n",
        "print(y_pred)\r\n",
        "print(confusion_matrix(y_pred,y_test))\r\n",
        "\r\n",
        "print(classification_report(y_pred,y_test))"
      ],
      "execution_count": 44,
      "outputs": [
        {
          "output_type": "error",
          "ename": "ValueError",
          "evalue": "ignored",
          "traceback": [
            "\u001b[0;31m---------------------------------------------------------------------------\u001b[0m",
            "\u001b[0;31mTypeError\u001b[0m                                 Traceback (most recent call last)",
            "\u001b[0;32m/usr/local/lib/python3.7/dist-packages/tensorflow/python/data/util/structure.py\u001b[0m in \u001b[0;36mnormalize_element\u001b[0;34m(element, element_signature)\u001b[0m\n\u001b[1;32m    105\u001b[0m         \u001b[0;32mif\u001b[0m \u001b[0mspec\u001b[0m \u001b[0;32mis\u001b[0m \u001b[0;32mNone\u001b[0m\u001b[0;34m:\u001b[0m\u001b[0;34m\u001b[0m\u001b[0;34m\u001b[0m\u001b[0m\n\u001b[0;32m--> 106\u001b[0;31m           \u001b[0mspec\u001b[0m \u001b[0;34m=\u001b[0m \u001b[0mtype_spec_from_value\u001b[0m\u001b[0;34m(\u001b[0m\u001b[0mt\u001b[0m\u001b[0;34m,\u001b[0m \u001b[0muse_fallback\u001b[0m\u001b[0;34m=\u001b[0m\u001b[0;32mFalse\u001b[0m\u001b[0;34m)\u001b[0m\u001b[0;34m\u001b[0m\u001b[0;34m\u001b[0m\u001b[0m\n\u001b[0m\u001b[1;32m    107\u001b[0m       \u001b[0;32mexcept\u001b[0m \u001b[0mTypeError\u001b[0m\u001b[0;34m:\u001b[0m\u001b[0;34m\u001b[0m\u001b[0;34m\u001b[0m\u001b[0m\n",
            "\u001b[0;32m/usr/local/lib/python3.7/dist-packages/tensorflow/python/data/util/structure.py\u001b[0m in \u001b[0;36mtype_spec_from_value\u001b[0;34m(element, use_fallback)\u001b[0m\n\u001b[1;32m    479\u001b[0m   raise TypeError(\"Could not build a TypeSpec for %r with type %s\" %\n\u001b[0;32m--> 480\u001b[0;31m                   (element, type(element).__name__))\n\u001b[0m\u001b[1;32m    481\u001b[0m \u001b[0;34m\u001b[0m\u001b[0m\n",
            "\u001b[0;31mTypeError\u001b[0m: Could not build a TypeSpec for        amount card_country  card_use_24h  card_country_label\n15481    1121           US             0                   2\n68476     512           US             4                   2\n62702    1637           US             3                   2\n15586     392           US             2                   2\n21519     457           US             0                   2\n...       ...          ...           ...                 ...\n86314    2538           US             0                   2\n35163     956           US             0                   2\n87052   99641           US             1                   2\n16233    3064           US             1                   2\n36165     959           US             2                   2\n\n[50060 rows x 4 columns] with type DataFrame",
            "\nDuring handling of the above exception, another exception occurred:\n",
            "\u001b[0;31mValueError\u001b[0m                                Traceback (most recent call last)",
            "\u001b[0;32m<ipython-input-44-734de40d8a66>\u001b[0m in \u001b[0;36m<module>\u001b[0;34m()\u001b[0m\n\u001b[1;32m     80\u001b[0m \u001b[0;31m## Treinamento da Rede DeepLearning\u001b[0m\u001b[0;34m\u001b[0m\u001b[0;34m\u001b[0m\u001b[0;34m\u001b[0m\u001b[0m\n\u001b[1;32m     81\u001b[0m \u001b[0;34m\u001b[0m\u001b[0m\n\u001b[0;32m---> 82\u001b[0;31m \u001b[0mhistory\u001b[0m \u001b[0;34m=\u001b[0m \u001b[0mmodel\u001b[0m\u001b[0;34m.\u001b[0m\u001b[0mfit\u001b[0m\u001b[0;34m(\u001b[0m\u001b[0mX_train\u001b[0m\u001b[0;34m,\u001b[0m \u001b[0my_train\u001b[0m\u001b[0;34m,\u001b[0m \u001b[0mvalidation_split\u001b[0m\u001b[0;34m=\u001b[0m\u001b[0;36m0.2\u001b[0m\u001b[0;34m,\u001b[0m \u001b[0mepochs\u001b[0m\u001b[0;34m=\u001b[0m\u001b[0;36m20\u001b[0m\u001b[0;34m)\u001b[0m\u001b[0;34m\u001b[0m\u001b[0;34m\u001b[0m\u001b[0m\n\u001b[0m\u001b[1;32m     83\u001b[0m \u001b[0;34m\u001b[0m\u001b[0m\n\u001b[1;32m     84\u001b[0m \u001b[0;31m## Avaliação do Treinamento\u001b[0m\u001b[0;34m\u001b[0m\u001b[0;34m\u001b[0m\u001b[0;34m\u001b[0m\u001b[0m\n",
            "\u001b[0;32m/usr/local/lib/python3.7/dist-packages/tensorflow/python/keras/engine/training.py\u001b[0m in \u001b[0;36mfit\u001b[0;34m(self, x, y, batch_size, epochs, verbose, callbacks, validation_split, validation_data, shuffle, class_weight, sample_weight, initial_epoch, steps_per_epoch, validation_steps, validation_batch_size, validation_freq, max_queue_size, workers, use_multiprocessing)\u001b[0m\n\u001b[1;32m   1062\u001b[0m           \u001b[0muse_multiprocessing\u001b[0m\u001b[0;34m=\u001b[0m\u001b[0muse_multiprocessing\u001b[0m\u001b[0;34m,\u001b[0m\u001b[0;34m\u001b[0m\u001b[0;34m\u001b[0m\u001b[0m\n\u001b[1;32m   1063\u001b[0m           \u001b[0mmodel\u001b[0m\u001b[0;34m=\u001b[0m\u001b[0mself\u001b[0m\u001b[0;34m,\u001b[0m\u001b[0;34m\u001b[0m\u001b[0;34m\u001b[0m\u001b[0m\n\u001b[0;32m-> 1064\u001b[0;31m           steps_per_execution=self._steps_per_execution)\n\u001b[0m\u001b[1;32m   1065\u001b[0m \u001b[0;34m\u001b[0m\u001b[0m\n\u001b[1;32m   1066\u001b[0m       \u001b[0;31m# Container that configures and calls `tf.keras.Callback`s.\u001b[0m\u001b[0;34m\u001b[0m\u001b[0;34m\u001b[0m\u001b[0;34m\u001b[0m\u001b[0m\n",
            "\u001b[0;32m/usr/local/lib/python3.7/dist-packages/tensorflow/python/keras/engine/data_adapter.py\u001b[0m in \u001b[0;36m__init__\u001b[0;34m(self, x, y, sample_weight, batch_size, steps_per_epoch, initial_epoch, epochs, shuffle, class_weight, max_queue_size, workers, use_multiprocessing, model, steps_per_execution)\u001b[0m\n\u001b[1;32m   1110\u001b[0m         \u001b[0muse_multiprocessing\u001b[0m\u001b[0;34m=\u001b[0m\u001b[0muse_multiprocessing\u001b[0m\u001b[0;34m,\u001b[0m\u001b[0;34m\u001b[0m\u001b[0;34m\u001b[0m\u001b[0m\n\u001b[1;32m   1111\u001b[0m         \u001b[0mdistribution_strategy\u001b[0m\u001b[0;34m=\u001b[0m\u001b[0mds_context\u001b[0m\u001b[0;34m.\u001b[0m\u001b[0mget_strategy\u001b[0m\u001b[0;34m(\u001b[0m\u001b[0;34m)\u001b[0m\u001b[0;34m,\u001b[0m\u001b[0;34m\u001b[0m\u001b[0;34m\u001b[0m\u001b[0m\n\u001b[0;32m-> 1112\u001b[0;31m         model=model)\n\u001b[0m\u001b[1;32m   1113\u001b[0m \u001b[0;34m\u001b[0m\u001b[0m\n\u001b[1;32m   1114\u001b[0m     \u001b[0mstrategy\u001b[0m \u001b[0;34m=\u001b[0m \u001b[0mds_context\u001b[0m\u001b[0;34m.\u001b[0m\u001b[0mget_strategy\u001b[0m\u001b[0;34m(\u001b[0m\u001b[0;34m)\u001b[0m\u001b[0;34m\u001b[0m\u001b[0;34m\u001b[0m\u001b[0m\n",
            "\u001b[0;32m/usr/local/lib/python3.7/dist-packages/tensorflow/python/keras/engine/data_adapter.py\u001b[0m in \u001b[0;36m__init__\u001b[0;34m(self, x, y, sample_weights, sample_weight_modes, batch_size, epochs, steps, shuffle, **kwargs)\u001b[0m\n\u001b[1;32m    353\u001b[0m     \u001b[0mindices_dataset\u001b[0m \u001b[0;34m=\u001b[0m \u001b[0mindices_dataset\u001b[0m\u001b[0;34m.\u001b[0m\u001b[0mflat_map\u001b[0m\u001b[0;34m(\u001b[0m\u001b[0mslice_batch_indices\u001b[0m\u001b[0;34m)\u001b[0m\u001b[0;34m\u001b[0m\u001b[0;34m\u001b[0m\u001b[0m\n\u001b[1;32m    354\u001b[0m \u001b[0;34m\u001b[0m\u001b[0m\n\u001b[0;32m--> 355\u001b[0;31m     \u001b[0mdataset\u001b[0m \u001b[0;34m=\u001b[0m \u001b[0mself\u001b[0m\u001b[0;34m.\u001b[0m\u001b[0mslice_inputs\u001b[0m\u001b[0;34m(\u001b[0m\u001b[0mindices_dataset\u001b[0m\u001b[0;34m,\u001b[0m \u001b[0minputs\u001b[0m\u001b[0;34m)\u001b[0m\u001b[0;34m\u001b[0m\u001b[0;34m\u001b[0m\u001b[0m\n\u001b[0m\u001b[1;32m    356\u001b[0m \u001b[0;34m\u001b[0m\u001b[0m\n\u001b[1;32m    357\u001b[0m     \u001b[0;32mif\u001b[0m \u001b[0mshuffle\u001b[0m \u001b[0;34m==\u001b[0m \u001b[0;34m\"batch\"\u001b[0m\u001b[0;34m:\u001b[0m\u001b[0;34m\u001b[0m\u001b[0;34m\u001b[0m\u001b[0m\n",
            "\u001b[0;32m/usr/local/lib/python3.7/dist-packages/tensorflow/python/keras/engine/data_adapter.py\u001b[0m in \u001b[0;36mslice_inputs\u001b[0;34m(self, indices_dataset, inputs)\u001b[0m\n\u001b[1;32m    379\u001b[0m     dataset = dataset_ops.DatasetV2.zip((\n\u001b[1;32m    380\u001b[0m         \u001b[0mindices_dataset\u001b[0m\u001b[0;34m,\u001b[0m\u001b[0;34m\u001b[0m\u001b[0;34m\u001b[0m\u001b[0m\n\u001b[0;32m--> 381\u001b[0;31m         \u001b[0mdataset_ops\u001b[0m\u001b[0;34m.\u001b[0m\u001b[0mDatasetV2\u001b[0m\u001b[0;34m.\u001b[0m\u001b[0mfrom_tensors\u001b[0m\u001b[0;34m(\u001b[0m\u001b[0minputs\u001b[0m\u001b[0;34m)\u001b[0m\u001b[0;34m.\u001b[0m\u001b[0mrepeat\u001b[0m\u001b[0;34m(\u001b[0m\u001b[0;34m)\u001b[0m\u001b[0;34m\u001b[0m\u001b[0;34m\u001b[0m\u001b[0m\n\u001b[0m\u001b[1;32m    382\u001b[0m     ))\n\u001b[1;32m    383\u001b[0m \u001b[0;34m\u001b[0m\u001b[0m\n",
            "\u001b[0;32m/usr/local/lib/python3.7/dist-packages/tensorflow/python/data/ops/dataset_ops.py\u001b[0m in \u001b[0;36mfrom_tensors\u001b[0;34m(tensors)\u001b[0m\n\u001b[1;32m    611\u001b[0m       \u001b[0mDataset\u001b[0m\u001b[0;34m:\u001b[0m \u001b[0mA\u001b[0m\u001b[0;31m \u001b[0m\u001b[0;31m`\u001b[0m\u001b[0mDataset\u001b[0m\u001b[0;31m`\u001b[0m\u001b[0;34m.\u001b[0m\u001b[0;34m\u001b[0m\u001b[0;34m\u001b[0m\u001b[0m\n\u001b[1;32m    612\u001b[0m     \"\"\"\n\u001b[0;32m--> 613\u001b[0;31m     \u001b[0;32mreturn\u001b[0m \u001b[0mTensorDataset\u001b[0m\u001b[0;34m(\u001b[0m\u001b[0mtensors\u001b[0m\u001b[0;34m)\u001b[0m\u001b[0;34m\u001b[0m\u001b[0;34m\u001b[0m\u001b[0m\n\u001b[0m\u001b[1;32m    614\u001b[0m \u001b[0;34m\u001b[0m\u001b[0m\n\u001b[1;32m    615\u001b[0m   \u001b[0;34m@\u001b[0m\u001b[0mstaticmethod\u001b[0m\u001b[0;34m\u001b[0m\u001b[0;34m\u001b[0m\u001b[0m\n",
            "\u001b[0;32m/usr/local/lib/python3.7/dist-packages/tensorflow/python/data/ops/dataset_ops.py\u001b[0m in \u001b[0;36m__init__\u001b[0;34m(self, element)\u001b[0m\n\u001b[1;32m   3134\u001b[0m   \u001b[0;32mdef\u001b[0m \u001b[0m__init__\u001b[0m\u001b[0;34m(\u001b[0m\u001b[0mself\u001b[0m\u001b[0;34m,\u001b[0m \u001b[0melement\u001b[0m\u001b[0;34m)\u001b[0m\u001b[0;34m:\u001b[0m\u001b[0;34m\u001b[0m\u001b[0;34m\u001b[0m\u001b[0m\n\u001b[1;32m   3135\u001b[0m     \u001b[0;34m\"\"\"See `Dataset.from_tensors()` for details.\"\"\"\u001b[0m\u001b[0;34m\u001b[0m\u001b[0;34m\u001b[0m\u001b[0m\n\u001b[0;32m-> 3136\u001b[0;31m     \u001b[0melement\u001b[0m \u001b[0;34m=\u001b[0m \u001b[0mstructure\u001b[0m\u001b[0;34m.\u001b[0m\u001b[0mnormalize_element\u001b[0m\u001b[0;34m(\u001b[0m\u001b[0melement\u001b[0m\u001b[0;34m)\u001b[0m\u001b[0;34m\u001b[0m\u001b[0;34m\u001b[0m\u001b[0m\n\u001b[0m\u001b[1;32m   3137\u001b[0m     \u001b[0mself\u001b[0m\u001b[0;34m.\u001b[0m\u001b[0m_structure\u001b[0m \u001b[0;34m=\u001b[0m \u001b[0mstructure\u001b[0m\u001b[0;34m.\u001b[0m\u001b[0mtype_spec_from_value\u001b[0m\u001b[0;34m(\u001b[0m\u001b[0melement\u001b[0m\u001b[0;34m)\u001b[0m\u001b[0;34m\u001b[0m\u001b[0;34m\u001b[0m\u001b[0m\n\u001b[1;32m   3138\u001b[0m     \u001b[0mself\u001b[0m\u001b[0;34m.\u001b[0m\u001b[0m_tensors\u001b[0m \u001b[0;34m=\u001b[0m \u001b[0mstructure\u001b[0m\u001b[0;34m.\u001b[0m\u001b[0mto_tensor_list\u001b[0m\u001b[0;34m(\u001b[0m\u001b[0mself\u001b[0m\u001b[0;34m.\u001b[0m\u001b[0m_structure\u001b[0m\u001b[0;34m,\u001b[0m \u001b[0melement\u001b[0m\u001b[0;34m)\u001b[0m\u001b[0;34m\u001b[0m\u001b[0;34m\u001b[0m\u001b[0m\n",
            "\u001b[0;32m/usr/local/lib/python3.7/dist-packages/tensorflow/python/data/util/structure.py\u001b[0m in \u001b[0;36mnormalize_element\u001b[0;34m(element, element_signature)\u001b[0m\n\u001b[1;32m    109\u001b[0m         \u001b[0;31m# the value. As a fallback try converting the value to a tensor.\u001b[0m\u001b[0;34m\u001b[0m\u001b[0;34m\u001b[0m\u001b[0;34m\u001b[0m\u001b[0m\n\u001b[1;32m    110\u001b[0m         normalized_components.append(\n\u001b[0;32m--> 111\u001b[0;31m             ops.convert_to_tensor(t, name=\"component_%d\" % i))\n\u001b[0m\u001b[1;32m    112\u001b[0m       \u001b[0;32melse\u001b[0m\u001b[0;34m:\u001b[0m\u001b[0;34m\u001b[0m\u001b[0;34m\u001b[0m\u001b[0m\n\u001b[1;32m    113\u001b[0m         \u001b[0;32mif\u001b[0m \u001b[0misinstance\u001b[0m\u001b[0;34m(\u001b[0m\u001b[0mspec\u001b[0m\u001b[0;34m,\u001b[0m \u001b[0msparse_tensor\u001b[0m\u001b[0;34m.\u001b[0m\u001b[0mSparseTensorSpec\u001b[0m\u001b[0;34m)\u001b[0m\u001b[0;34m:\u001b[0m\u001b[0;34m\u001b[0m\u001b[0;34m\u001b[0m\u001b[0m\n",
            "\u001b[0;32m/usr/local/lib/python3.7/dist-packages/tensorflow/python/profiler/trace.py\u001b[0m in \u001b[0;36mwrapped\u001b[0;34m(*args, **kwargs)\u001b[0m\n\u001b[1;32m    161\u001b[0m         \u001b[0;32mwith\u001b[0m \u001b[0mTrace\u001b[0m\u001b[0;34m(\u001b[0m\u001b[0mtrace_name\u001b[0m\u001b[0;34m,\u001b[0m \u001b[0;34m**\u001b[0m\u001b[0mtrace_kwargs\u001b[0m\u001b[0;34m)\u001b[0m\u001b[0;34m:\u001b[0m\u001b[0;34m\u001b[0m\u001b[0;34m\u001b[0m\u001b[0m\n\u001b[1;32m    162\u001b[0m           \u001b[0;32mreturn\u001b[0m \u001b[0mfunc\u001b[0m\u001b[0;34m(\u001b[0m\u001b[0;34m*\u001b[0m\u001b[0margs\u001b[0m\u001b[0;34m,\u001b[0m \u001b[0;34m**\u001b[0m\u001b[0mkwargs\u001b[0m\u001b[0;34m)\u001b[0m\u001b[0;34m\u001b[0m\u001b[0;34m\u001b[0m\u001b[0m\n\u001b[0;32m--> 163\u001b[0;31m       \u001b[0;32mreturn\u001b[0m \u001b[0mfunc\u001b[0m\u001b[0;34m(\u001b[0m\u001b[0;34m*\u001b[0m\u001b[0margs\u001b[0m\u001b[0;34m,\u001b[0m \u001b[0;34m**\u001b[0m\u001b[0mkwargs\u001b[0m\u001b[0;34m)\u001b[0m\u001b[0;34m\u001b[0m\u001b[0;34m\u001b[0m\u001b[0m\n\u001b[0m\u001b[1;32m    164\u001b[0m \u001b[0;34m\u001b[0m\u001b[0m\n\u001b[1;32m    165\u001b[0m     \u001b[0;32mreturn\u001b[0m \u001b[0mwrapped\u001b[0m\u001b[0;34m\u001b[0m\u001b[0;34m\u001b[0m\u001b[0m\n",
            "\u001b[0;32m/usr/local/lib/python3.7/dist-packages/tensorflow/python/framework/ops.py\u001b[0m in \u001b[0;36mconvert_to_tensor\u001b[0;34m(value, dtype, name, as_ref, preferred_dtype, dtype_hint, ctx, accepted_result_types)\u001b[0m\n\u001b[1;32m   1538\u001b[0m \u001b[0;34m\u001b[0m\u001b[0m\n\u001b[1;32m   1539\u001b[0m     \u001b[0;32mif\u001b[0m \u001b[0mret\u001b[0m \u001b[0;32mis\u001b[0m \u001b[0;32mNone\u001b[0m\u001b[0;34m:\u001b[0m\u001b[0;34m\u001b[0m\u001b[0;34m\u001b[0m\u001b[0m\n\u001b[0;32m-> 1540\u001b[0;31m       \u001b[0mret\u001b[0m \u001b[0;34m=\u001b[0m \u001b[0mconversion_func\u001b[0m\u001b[0;34m(\u001b[0m\u001b[0mvalue\u001b[0m\u001b[0;34m,\u001b[0m \u001b[0mdtype\u001b[0m\u001b[0;34m=\u001b[0m\u001b[0mdtype\u001b[0m\u001b[0;34m,\u001b[0m \u001b[0mname\u001b[0m\u001b[0;34m=\u001b[0m\u001b[0mname\u001b[0m\u001b[0;34m,\u001b[0m \u001b[0mas_ref\u001b[0m\u001b[0;34m=\u001b[0m\u001b[0mas_ref\u001b[0m\u001b[0;34m)\u001b[0m\u001b[0;34m\u001b[0m\u001b[0;34m\u001b[0m\u001b[0m\n\u001b[0m\u001b[1;32m   1541\u001b[0m \u001b[0;34m\u001b[0m\u001b[0m\n\u001b[1;32m   1542\u001b[0m     \u001b[0;32mif\u001b[0m \u001b[0mret\u001b[0m \u001b[0;32mis\u001b[0m \u001b[0mNotImplemented\u001b[0m\u001b[0;34m:\u001b[0m\u001b[0;34m\u001b[0m\u001b[0;34m\u001b[0m\u001b[0m\n",
            "\u001b[0;32m/usr/local/lib/python3.7/dist-packages/tensorflow/python/framework/constant_op.py\u001b[0m in \u001b[0;36m_constant_tensor_conversion_function\u001b[0;34m(v, dtype, name, as_ref)\u001b[0m\n\u001b[1;32m    337\u001b[0m                                          as_ref=False):\n\u001b[1;32m    338\u001b[0m   \u001b[0m_\u001b[0m \u001b[0;34m=\u001b[0m \u001b[0mas_ref\u001b[0m\u001b[0;34m\u001b[0m\u001b[0;34m\u001b[0m\u001b[0m\n\u001b[0;32m--> 339\u001b[0;31m   \u001b[0;32mreturn\u001b[0m \u001b[0mconstant\u001b[0m\u001b[0;34m(\u001b[0m\u001b[0mv\u001b[0m\u001b[0;34m,\u001b[0m \u001b[0mdtype\u001b[0m\u001b[0;34m=\u001b[0m\u001b[0mdtype\u001b[0m\u001b[0;34m,\u001b[0m \u001b[0mname\u001b[0m\u001b[0;34m=\u001b[0m\u001b[0mname\u001b[0m\u001b[0;34m)\u001b[0m\u001b[0;34m\u001b[0m\u001b[0;34m\u001b[0m\u001b[0m\n\u001b[0m\u001b[1;32m    340\u001b[0m \u001b[0;34m\u001b[0m\u001b[0m\n\u001b[1;32m    341\u001b[0m \u001b[0;34m\u001b[0m\u001b[0m\n",
            "\u001b[0;32m/usr/local/lib/python3.7/dist-packages/tensorflow/python/framework/constant_op.py\u001b[0m in \u001b[0;36mconstant\u001b[0;34m(value, dtype, shape, name)\u001b[0m\n\u001b[1;32m    263\u001b[0m   \"\"\"\n\u001b[1;32m    264\u001b[0m   return _constant_impl(value, dtype, shape, name, verify_shape=False,\n\u001b[0;32m--> 265\u001b[0;31m                         allow_broadcast=True)\n\u001b[0m\u001b[1;32m    266\u001b[0m \u001b[0;34m\u001b[0m\u001b[0m\n\u001b[1;32m    267\u001b[0m \u001b[0;34m\u001b[0m\u001b[0m\n",
            "\u001b[0;32m/usr/local/lib/python3.7/dist-packages/tensorflow/python/framework/constant_op.py\u001b[0m in \u001b[0;36m_constant_impl\u001b[0;34m(value, dtype, shape, name, verify_shape, allow_broadcast)\u001b[0m\n\u001b[1;32m    274\u001b[0m       \u001b[0;32mwith\u001b[0m \u001b[0mtrace\u001b[0m\u001b[0;34m.\u001b[0m\u001b[0mTrace\u001b[0m\u001b[0;34m(\u001b[0m\u001b[0;34m\"tf.constant\"\u001b[0m\u001b[0;34m)\u001b[0m\u001b[0;34m:\u001b[0m\u001b[0;34m\u001b[0m\u001b[0;34m\u001b[0m\u001b[0m\n\u001b[1;32m    275\u001b[0m         \u001b[0;32mreturn\u001b[0m \u001b[0m_constant_eager_impl\u001b[0m\u001b[0;34m(\u001b[0m\u001b[0mctx\u001b[0m\u001b[0;34m,\u001b[0m \u001b[0mvalue\u001b[0m\u001b[0;34m,\u001b[0m \u001b[0mdtype\u001b[0m\u001b[0;34m,\u001b[0m \u001b[0mshape\u001b[0m\u001b[0;34m,\u001b[0m \u001b[0mverify_shape\u001b[0m\u001b[0;34m)\u001b[0m\u001b[0;34m\u001b[0m\u001b[0;34m\u001b[0m\u001b[0m\n\u001b[0;32m--> 276\u001b[0;31m     \u001b[0;32mreturn\u001b[0m \u001b[0m_constant_eager_impl\u001b[0m\u001b[0;34m(\u001b[0m\u001b[0mctx\u001b[0m\u001b[0;34m,\u001b[0m \u001b[0mvalue\u001b[0m\u001b[0;34m,\u001b[0m \u001b[0mdtype\u001b[0m\u001b[0;34m,\u001b[0m \u001b[0mshape\u001b[0m\u001b[0;34m,\u001b[0m \u001b[0mverify_shape\u001b[0m\u001b[0;34m)\u001b[0m\u001b[0;34m\u001b[0m\u001b[0;34m\u001b[0m\u001b[0m\n\u001b[0m\u001b[1;32m    277\u001b[0m \u001b[0;34m\u001b[0m\u001b[0m\n\u001b[1;32m    278\u001b[0m   \u001b[0mg\u001b[0m \u001b[0;34m=\u001b[0m \u001b[0mops\u001b[0m\u001b[0;34m.\u001b[0m\u001b[0mget_default_graph\u001b[0m\u001b[0;34m(\u001b[0m\u001b[0;34m)\u001b[0m\u001b[0;34m\u001b[0m\u001b[0;34m\u001b[0m\u001b[0m\n",
            "\u001b[0;32m/usr/local/lib/python3.7/dist-packages/tensorflow/python/framework/constant_op.py\u001b[0m in \u001b[0;36m_constant_eager_impl\u001b[0;34m(ctx, value, dtype, shape, verify_shape)\u001b[0m\n\u001b[1;32m    299\u001b[0m \u001b[0;32mdef\u001b[0m \u001b[0m_constant_eager_impl\u001b[0m\u001b[0;34m(\u001b[0m\u001b[0mctx\u001b[0m\u001b[0;34m,\u001b[0m \u001b[0mvalue\u001b[0m\u001b[0;34m,\u001b[0m \u001b[0mdtype\u001b[0m\u001b[0;34m,\u001b[0m \u001b[0mshape\u001b[0m\u001b[0;34m,\u001b[0m \u001b[0mverify_shape\u001b[0m\u001b[0;34m)\u001b[0m\u001b[0;34m:\u001b[0m\u001b[0;34m\u001b[0m\u001b[0;34m\u001b[0m\u001b[0m\n\u001b[1;32m    300\u001b[0m   \u001b[0;34m\"\"\"Implementation of eager constant.\"\"\"\u001b[0m\u001b[0;34m\u001b[0m\u001b[0;34m\u001b[0m\u001b[0m\n\u001b[0;32m--> 301\u001b[0;31m   \u001b[0mt\u001b[0m \u001b[0;34m=\u001b[0m \u001b[0mconvert_to_eager_tensor\u001b[0m\u001b[0;34m(\u001b[0m\u001b[0mvalue\u001b[0m\u001b[0;34m,\u001b[0m \u001b[0mctx\u001b[0m\u001b[0;34m,\u001b[0m \u001b[0mdtype\u001b[0m\u001b[0;34m)\u001b[0m\u001b[0;34m\u001b[0m\u001b[0;34m\u001b[0m\u001b[0m\n\u001b[0m\u001b[1;32m    302\u001b[0m   \u001b[0;32mif\u001b[0m \u001b[0mshape\u001b[0m \u001b[0;32mis\u001b[0m \u001b[0;32mNone\u001b[0m\u001b[0;34m:\u001b[0m\u001b[0;34m\u001b[0m\u001b[0;34m\u001b[0m\u001b[0m\n\u001b[1;32m    303\u001b[0m     \u001b[0;32mreturn\u001b[0m \u001b[0mt\u001b[0m\u001b[0;34m\u001b[0m\u001b[0;34m\u001b[0m\u001b[0m\n",
            "\u001b[0;32m/usr/local/lib/python3.7/dist-packages/tensorflow/python/framework/constant_op.py\u001b[0m in \u001b[0;36mconvert_to_eager_tensor\u001b[0;34m(value, ctx, dtype)\u001b[0m\n\u001b[1;32m     96\u001b[0m       \u001b[0mdtype\u001b[0m \u001b[0;34m=\u001b[0m \u001b[0mdtypes\u001b[0m\u001b[0;34m.\u001b[0m\u001b[0mas_dtype\u001b[0m\u001b[0;34m(\u001b[0m\u001b[0mdtype\u001b[0m\u001b[0;34m)\u001b[0m\u001b[0;34m.\u001b[0m\u001b[0mas_datatype_enum\u001b[0m\u001b[0;34m\u001b[0m\u001b[0;34m\u001b[0m\u001b[0m\n\u001b[1;32m     97\u001b[0m   \u001b[0mctx\u001b[0m\u001b[0;34m.\u001b[0m\u001b[0mensure_initialized\u001b[0m\u001b[0;34m(\u001b[0m\u001b[0;34m)\u001b[0m\u001b[0;34m\u001b[0m\u001b[0;34m\u001b[0m\u001b[0m\n\u001b[0;32m---> 98\u001b[0;31m   \u001b[0;32mreturn\u001b[0m \u001b[0mops\u001b[0m\u001b[0;34m.\u001b[0m\u001b[0mEagerTensor\u001b[0m\u001b[0;34m(\u001b[0m\u001b[0mvalue\u001b[0m\u001b[0;34m,\u001b[0m \u001b[0mctx\u001b[0m\u001b[0;34m.\u001b[0m\u001b[0mdevice_name\u001b[0m\u001b[0;34m,\u001b[0m \u001b[0mdtype\u001b[0m\u001b[0;34m)\u001b[0m\u001b[0;34m\u001b[0m\u001b[0;34m\u001b[0m\u001b[0m\n\u001b[0m\u001b[1;32m     99\u001b[0m \u001b[0;34m\u001b[0m\u001b[0m\n\u001b[1;32m    100\u001b[0m \u001b[0;34m\u001b[0m\u001b[0m\n",
            "\u001b[0;31mValueError\u001b[0m: Failed to convert a NumPy array to a Tensor (Unsupported object type int)."
          ]
        }
      ]
    },
    {
      "cell_type": "markdown",
      "metadata": {
        "id": "wq4DxyVQilZY"
      },
      "source": [
        "# Exercício. \r\n",
        "Execute o modelo acima sem normalização dos dados. O modelo é sensível a normalização? "
      ]
    },
    {
      "cell_type": "markdown",
      "metadata": {
        "id": "L9xElQ3O3Lg4"
      },
      "source": [
        "O modelo fica um pouco pior: \n",
        "C/ Normalização +- 65%\n",
        "S/ Normalização +- 57%\n"
      ]
    },
    {
      "cell_type": "markdown",
      "metadata": {
        "id": "KaNJvguujo-5"
      },
      "source": [
        "# Exercício. \r\n",
        "Execute o modelo agora empregando *label encode* do atributo `card_country`."
      ]
    },
    {
      "cell_type": "markdown",
      "metadata": {
        "id": "sm1REAEFlzmj"
      },
      "source": [
        "# Exercício. \r\n",
        "Agora varie parâmetros da rede neural, como número de camadas, número de neurônios e função de ativação. Veja se consegue obter um resultado significativamente melhor que os anteriores."
      ]
    },
    {
      "cell_type": "markdown",
      "metadata": {
        "id": "N5KpUVE9nUIp"
      },
      "source": [
        "# Exercício. \r\n",
        "Empregue os modelos acima e refaça o treinamento dos dados de fraude incluindo agora o dia e o mês das operações."
      ]
    },
    {
      "cell_type": "markdown",
      "metadata": {
        "id": "6_NuX5FQuhOi"
      },
      "source": [
        "## **LAB SET UP**\n",
        "Execute antes de iniciar o Lab."
      ]
    },
    {
      "cell_type": "code",
      "metadata": {
        "id": "Fqxk5xmJqYpa",
        "colab": {
          "base_uri": "https://localhost:8080/"
        },
        "outputId": "91a9639c-c602-46bd-96cc-401f3552f43c"
      },
      "source": [
        "import numpy as np # linear algebra\n",
        "import pandas as pd # data processing, CSV file I/O (e.g. pd.read_csv)\n",
        "import matplotlib.pyplot as plt \n",
        "import seaborn as sns \n",
        "import warnings\n",
        "import os\n",
        "warnings.filterwarnings(\"ignore\")\n",
        "\n",
        "from tensorflow import keras\n",
        "from tensorflow.keras import layers\n",
        "from keras import Sequential, layers\n",
        "import tensorflow as tf\n",
        "\n",
        "from sklearn.model_selection import train_test_split\n",
        "from sklearn.metrics import confusion_matrix\n",
        "from sklearn.metrics import classification_report\n",
        "\n",
        "\n",
        "def plot_loss_acc(history,more_title=''):\n",
        "    \n",
        "    loss = history.history['loss']\n",
        "    val_loss = history.history['val_loss']\n",
        "    epochs = range(1, len(loss) + 1)\n",
        "    plt.figure(figsize=(8,5))\n",
        "    plt.plot(epochs, loss, 'y', label='Training loss')\n",
        "    plt.plot(epochs, val_loss, 'r', label='Validation loss')\n",
        "    plt.title('Training and validation loss' + ' ' + more_title)\n",
        "    plt.xlabel('Epochs')\n",
        "    plt.ylabel('Loss')\n",
        "    plt.legend()\n",
        "    plt.show()\n",
        "    \n",
        "    acc = history.history['accuracy']\n",
        "    val_acc = history.history['val_accuracy']\n",
        "    plt.figure(figsize=(8,5))\n",
        "    plt.plot(epochs, acc, 'y', label='Training acc')\n",
        "    plt.plot(epochs, val_acc, 'r', label='Validation acc')\n",
        "    plt.title('Training and validation accuracy' + ' ' + more_title)\n",
        "    plt.xlabel('Epochs')\n",
        "    plt.ylabel('Accuracy')\n",
        "    plt.legend()\n",
        "    plt.show()\n",
        "\n",
        "    print(more_title + 'Accuracy Train: {:.2f} %, Accuracy Test: {:.2f} %'.format(acc[len(acc)-1] *100, val_acc[len(val_acc)-1]*100))\n",
        "\n",
        "    return loss, val_loss, acc, val_acc\n",
        "\n",
        "print('Set Up completed!')    "
      ],
      "execution_count": 1,
      "outputs": [
        {
          "output_type": "stream",
          "text": [
            "Set Up completed!\n"
          ],
          "name": "stdout"
        }
      ]
    }
  ]
}