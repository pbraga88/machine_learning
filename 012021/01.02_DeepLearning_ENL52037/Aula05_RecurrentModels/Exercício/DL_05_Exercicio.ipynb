{
 "cells": [
  {
   "cell_type": "markdown",
   "metadata": {
    "id": "pqEhMdFQO3A-"
   },
   "source": [
    "<head>\n",
    "  <meta name=\"author\" content=\"Rogério de Oliveira\">\n",
    "  <meta institution=\"author\" content=\"Universidade Presbiteriana Mackenzie\">\n",
    "</head>\n",
    "\n",
    "<img src=\"http://meusite.mackenzie.br/rogerio/mackenzie_logo/UPM.2_horizontal_vermelho.jpg\" width=300, align=\"right\"> \n",
    "\n",
    "<h1 align=left><font size = 8, style=\"color:rgb(200,0,0)\"><b>Deep Learning</b></font></h1> \n",
    "<a href=\"mailto:rogerio.oliveira@mackenzie.br\">Rogério de Oliveira</a><br>\n",
    "\n",
    "<br>\n",
    "<br>\n",
    "\n",
    "---\n"
   ]
  },
  {
   "cell_type": "markdown",
   "metadata": {
    "id": "q8sXGlOPY3hK"
   },
   "source": [
    "# Exercício\n",
    "\n",
    "Obtenha dados de 6 ações ou índices da Bolsa dos últimos meses (pode escolher o período) e faça uma previsão para os próximos 15 dias de um desses índices empregando um modelo recorrente (RNN ou LSTM). \n",
    "\n",
    "Vamos poder avaliar os resultados até o final do curso!!! :-)\n"
   ]
  },
  {
   "cell_type": "markdown",
   "metadata": {
    "id": "S8UzPF6rZlyA"
   },
   "source": [
    "### Exemplo de extração de dados da bolsa\n",
    "\n",
    "Você pode empregar outras fontes se quiser."
   ]
  },
  {
   "cell_type": "code",
   "execution_count": 2,
   "metadata": {
    "id": "V_k3HrlyYvHM"
   },
   "outputs": [],
   "source": [
    "import warnings\n",
    "warnings.filterwarnings('ignore')\n",
    "import pandas as pd\n",
    "from pandas_datareader import data\n",
    "tickers = ['^BVSP','BRL=X','PBR','VALE']\n",
    "start_date = '2021-01-01'\n",
    "end_date = '2021-03-01'\n",
    "\n",
    "panel_data = data.DataReader(tickers, 'yahoo', start_date, end_date)\n",
    "\n",
    "mystocks = pd.DataFrame()\n",
    "\n",
    "mystocks = panel_data[[('Close', '^BVSP'),('Close', 'VALE'),('Close', 'PBR'),('Volume', '^BVSP'),('Volume', 'VALE'),('Volume', 'PBR'),('Close','BRL=X')]]\n",
    "mystocks.columns = ['IBOV','VALE3','PETR4','IBOV_V','VALE3_V','PETR4_V','DOLAR']\n",
    "\n",
    "mystocks['data'] = panel_data.index\n",
    "mystocks['ano'] = mystocks['data'].apply(lambda x: x.strftime('%Y'))\n",
    "mystocks['mes'] = mystocks['data'].apply(lambda x: x.strftime('%m'))\n",
    "mystocks['dia'] = mystocks['data'].apply(lambda x: x.strftime('%d'))\n",
    "# mystocks = pd.concat([mystocks, mystocks_], axis=1 )\n",
    "\n",
    "mystocks = mystocks.dropna()\n",
    "mystocks.reset_index(inplace=True)\n",
    "\n",
    "mystocksn = pd.concat([mystocks['data'],mystocks[['IBOV','VALE3','PETR4','DOLAR']]],axis=1)\n",
    "mystocksn_vol = pd.concat([mystocks['data'],mystocks[['IBOV','VALE3','PETR4','IBOV_V','VALE3_V','PETR4_V','DOLAR']]],axis=1)\n",
    "\n",
    "mystocksn.to_csv('mystocksn.csv',index = False)\n",
    "\n"
   ]
  },
  {
   "cell_type": "code",
   "execution_count": 3,
   "metadata": {
    "colab": {
     "base_uri": "https://localhost:8080/",
     "height": 204
    },
    "id": "N2ZWpcyUZ3JP",
    "outputId": "fe97176c-28a3-4714-8c6a-8c914fac3711"
   },
   "outputs": [
    {
     "data": {
      "text/html": [
       "<div>\n",
       "<style scoped>\n",
       "    .dataframe tbody tr th:only-of-type {\n",
       "        vertical-align: middle;\n",
       "    }\n",
       "\n",
       "    .dataframe tbody tr th {\n",
       "        vertical-align: top;\n",
       "    }\n",
       "\n",
       "    .dataframe thead th {\n",
       "        text-align: right;\n",
       "    }\n",
       "</style>\n",
       "<table border=\"1\" class=\"dataframe\">\n",
       "  <thead>\n",
       "    <tr style=\"text-align: right;\">\n",
       "      <th></th>\n",
       "      <th>data</th>\n",
       "      <th>IBOV</th>\n",
       "      <th>VALE3</th>\n",
       "      <th>PETR4</th>\n",
       "      <th>DOLAR</th>\n",
       "    </tr>\n",
       "  </thead>\n",
       "  <tbody>\n",
       "    <tr>\n",
       "      <th>0</th>\n",
       "      <td>2021-01-04</td>\n",
       "      <td>118558.0</td>\n",
       "      <td>17.400000</td>\n",
       "      <td>11.19</td>\n",
       "      <td>5.1919</td>\n",
       "    </tr>\n",
       "    <tr>\n",
       "      <th>1</th>\n",
       "      <td>2021-01-05</td>\n",
       "      <td>119223.0</td>\n",
       "      <td>17.690001</td>\n",
       "      <td>11.52</td>\n",
       "      <td>5.2953</td>\n",
       "    </tr>\n",
       "    <tr>\n",
       "      <th>2</th>\n",
       "      <td>2021-01-06</td>\n",
       "      <td>119851.0</td>\n",
       "      <td>18.160000</td>\n",
       "      <td>11.62</td>\n",
       "      <td>5.2841</td>\n",
       "    </tr>\n",
       "    <tr>\n",
       "      <th>3</th>\n",
       "      <td>2021-01-07</td>\n",
       "      <td>121956.0</td>\n",
       "      <td>18.930000</td>\n",
       "      <td>11.69</td>\n",
       "      <td>5.3129</td>\n",
       "    </tr>\n",
       "    <tr>\n",
       "      <th>4</th>\n",
       "      <td>2021-01-08</td>\n",
       "      <td>125077.0</td>\n",
       "      <td>18.920000</td>\n",
       "      <td>11.69</td>\n",
       "      <td>5.4088</td>\n",
       "    </tr>\n",
       "  </tbody>\n",
       "</table>\n",
       "</div>"
      ],
      "text/plain": [
       "        data      IBOV      VALE3  PETR4   DOLAR\n",
       "0 2021-01-04  118558.0  17.400000  11.19  5.1919\n",
       "1 2021-01-05  119223.0  17.690001  11.52  5.2953\n",
       "2 2021-01-06  119851.0  18.160000  11.62  5.2841\n",
       "3 2021-01-07  121956.0  18.930000  11.69  5.3129\n",
       "4 2021-01-08  125077.0  18.920000  11.69  5.4088"
      ]
     },
     "execution_count": 3,
     "metadata": {},
     "output_type": "execute_result"
    }
   ],
   "source": [
    "mystocksn.head()"
   ]
  },
  {
   "cell_type": "code",
   "execution_count": null,
   "metadata": {},
   "outputs": [],
   "source": []
  }
 ],
 "metadata": {
  "colab": {
   "collapsed_sections": [],
   "name": "DL_05_Exercicio.ipynb",
   "provenance": []
  },
  "kernelspec": {
   "display_name": "Python 3",
   "language": "python",
   "name": "python3"
  },
  "language_info": {
   "codemirror_mode": {
    "name": "ipython",
    "version": 3
   },
   "file_extension": ".py",
   "mimetype": "text/x-python",
   "name": "python",
   "nbconvert_exporter": "python",
   "pygments_lexer": "ipython3",
   "version": "3.8.5"
  }
 },
 "nbformat": 4,
 "nbformat_minor": 1
}
