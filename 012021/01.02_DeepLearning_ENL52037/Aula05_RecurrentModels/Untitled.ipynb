{
 "cells": [
  {
   "cell_type": "code",
   "execution_count": 67,
   "metadata": {},
   "outputs": [],
   "source": [
    "import warnings\n",
    "warnings.filterwarnings('ignore')\n",
    "import pandas as pd\n",
    "from pandas_datareader import data\n",
    "\n",
    "# ^BVSP - Índice Bovespa\n",
    "# ISEE - Índice de Sustentabilidade Empresarial\n",
    "# BNO - United States Brent Oil Fund\n",
    "# PETR3 - Petrobrás\n",
    "start_date = '2021-03-19'\n",
    "end_date = '2021-04-01'\n",
    "tickers = ['^BVSP','ISEE','BNO','PETR3.SA']\n",
    "panel_data = data.DataReader(tickers, 'yahoo', start_date, end_date)"
   ]
  },
  {
   "cell_type": "code",
   "execution_count": 68,
   "metadata": {},
   "outputs": [],
   "source": [
    "mystocks = pd.DataFrame()\n",
    "\n",
    "mystocks = panel_data[[('Close', '^BVSP'),('Close', 'ISEE'),('Close', 'BNO'),('Close', 'PETR3.SA')]]\n",
    "mystocks.columns = ['IBOV','ISEE','BNO','PETR3']\n",
    "\n",
    "mystocks = mystocks.dropna()\n",
    "mystocks.reset_index(inplace=True)"
   ]
  },
  {
   "cell_type": "code",
   "execution_count": 69,
   "metadata": {},
   "outputs": [
    {
     "data": {
      "text/html": [
       "<div>\n",
       "<style scoped>\n",
       "    .dataframe tbody tr th:only-of-type {\n",
       "        vertical-align: middle;\n",
       "    }\n",
       "\n",
       "    .dataframe tbody tr th {\n",
       "        vertical-align: top;\n",
       "    }\n",
       "\n",
       "    .dataframe thead th {\n",
       "        text-align: right;\n",
       "    }\n",
       "</style>\n",
       "<table border=\"1\" class=\"dataframe\">\n",
       "  <thead>\n",
       "    <tr style=\"text-align: right;\">\n",
       "      <th></th>\n",
       "      <th>Date</th>\n",
       "      <th>IBOV</th>\n",
       "      <th>ISEE</th>\n",
       "      <th>BNO</th>\n",
       "      <th>PETR3</th>\n",
       "    </tr>\n",
       "  </thead>\n",
       "  <tbody>\n",
       "    <tr>\n",
       "      <th>0</th>\n",
       "      <td>2021-03-19</td>\n",
       "      <td>116222.0</td>\n",
       "      <td>6.45</td>\n",
       "      <td>16.260000</td>\n",
       "      <td>23.520000</td>\n",
       "    </tr>\n",
       "    <tr>\n",
       "      <th>1</th>\n",
       "      <td>2021-03-22</td>\n",
       "      <td>114979.0</td>\n",
       "      <td>6.41</td>\n",
       "      <td>16.230000</td>\n",
       "      <td>23.080000</td>\n",
       "    </tr>\n",
       "    <tr>\n",
       "      <th>2</th>\n",
       "      <td>2021-03-23</td>\n",
       "      <td>113262.0</td>\n",
       "      <td>6.24</td>\n",
       "      <td>15.310000</td>\n",
       "      <td>22.549999</td>\n",
       "    </tr>\n",
       "    <tr>\n",
       "      <th>3</th>\n",
       "      <td>2021-03-24</td>\n",
       "      <td>112064.0</td>\n",
       "      <td>5.85</td>\n",
       "      <td>16.139999</td>\n",
       "      <td>22.530001</td>\n",
       "    </tr>\n",
       "    <tr>\n",
       "      <th>4</th>\n",
       "      <td>2021-03-25</td>\n",
       "      <td>113750.0</td>\n",
       "      <td>6.30</td>\n",
       "      <td>15.570000</td>\n",
       "      <td>22.959999</td>\n",
       "    </tr>\n",
       "  </tbody>\n",
       "</table>\n",
       "</div>"
      ],
      "text/plain": [
       "        Date      IBOV  ISEE        BNO      PETR3\n",
       "0 2021-03-19  116222.0  6.45  16.260000  23.520000\n",
       "1 2021-03-22  114979.0  6.41  16.230000  23.080000\n",
       "2 2021-03-23  113262.0  6.24  15.310000  22.549999\n",
       "3 2021-03-24  112064.0  5.85  16.139999  22.530001\n",
       "4 2021-03-25  113750.0  6.30  15.570000  22.959999"
      ]
     },
     "execution_count": 69,
     "metadata": {},
     "output_type": "execute_result"
    }
   ],
   "source": [
    "mystocks.head()"
   ]
  },
  {
   "cell_type": "code",
   "execution_count": 129,
   "metadata": {},
   "outputs": [],
   "source": [
    "ts_IBOV = mystocks.IBOV / mystocks.IBOV.max()\n",
    "ts_ISEE = mystocks.ISEE / mystocks.ISEE.max()\n",
    "ts_BNO = mystocks.BNO /mystocks.BNO.max()\n",
    "ts_PETR3 = mystocks.PETR3 / mystocks.PETR3.max()"
   ]
  },
  {
   "cell_type": "code",
   "execution_count": 130,
   "metadata": {},
   "outputs": [
    {
     "data": {
      "text/plain": [
       "0    0.982456\n",
       "1    0.964077\n",
       "2    0.941938\n",
       "3    0.941103\n",
       "4    0.959064\n",
       "5    0.973266\n",
       "6    0.987886\n",
       "7    0.984962\n",
       "8    1.000000\n",
       "9    0.986633\n",
       "Name: PETR3, dtype: float64"
      ]
     },
     "execution_count": 130,
     "metadata": {},
     "output_type": "execute_result"
    }
   ],
   "source": [
    "ts_PETR3"
   ]
  },
  {
   "cell_type": "code",
   "execution_count": 131,
   "metadata": {},
   "outputs": [
    {
     "name": "stdout",
     "output_type": "stream",
     "text": [
      "cpu\n"
     ]
    }
   ],
   "source": [
    "import torch\n",
    "import torch.nn as nn\n",
    "from torch.autograd import Variable\n",
    "\n",
    "device = torch.device('cuda:0' if torch.cuda.is_available() else 'cpu')\n",
    "print(device)"
   ]
  },
  {
   "cell_type": "code",
   "execution_count": 132,
   "metadata": {},
   "outputs": [],
   "source": [
    "dados = torch.tensor(ts_PETR3)\n",
    "dados = dados.to(device)\n",
    "dados = dados.type(torch.float) "
   ]
  },
  {
   "cell_type": "markdown",
   "metadata": {},
   "source": [
    "EXAMPLE 1 - Regression Network Archtecure"
   ]
  },
  {
   "cell_type": "code",
   "execution_count": 133,
   "metadata": {},
   "outputs": [],
   "source": [
    "input_size = 1 # Número de variáveis de dados sequênciais\n",
    "n_hidden = 100 # Número de 'hiden nodes' na camada LSTM (Long-Short Term Memory)\n",
    "n_layers = 2   # Número de camadas do modelo LSTM\n",
    "out_size = 1   # O tamanho da saída desejada do RNN (Recurrent Neural Network)\n",
    "\n",
    "lstm = nn.LSTM(input_size, n_hidden, n_layers)\n",
    "linear_fullConnected = nn.Linear(n_hidden, 1)"
   ]
  },
  {
   "cell_type": "code",
   "execution_count": 134,
   "metadata": {},
   "outputs": [
    {
     "data": {
      "text/plain": [
       "tensor([0.9825, 0.9641, 0.9419, 0.9411, 0.9591, 0.9733, 0.9879, 0.9850, 1.0000,\n",
       "        0.9866])"
      ]
     },
     "execution_count": 134,
     "metadata": {},
     "output_type": "execute_result"
    }
   ],
   "source": [
    "dados"
   ]
  },
  {
   "cell_type": "code",
   "execution_count": 135,
   "metadata": {},
   "outputs": [],
   "source": [
    "# def get_batches(data, window):\n",
    "def get_batches(data, lenght_windows):\n",
    "  lenght_data = data.shape[0]\n",
    "  data_x = torch.zeros(lenght_data - lenght_windows-1, lenght_windows)\n",
    "  data_y =  torch.zeros(lenght_data - lenght_windows-1)\n",
    "  print(data_x.shape)\n",
    "  print(data_y.shape)\n",
    "  for i in range(lenght_windows):\n",
    "    data_x[:,i] = data[i:lenght_data - lenght_windows -1 + i]\n",
    "    print('loop', i)\n",
    "#     print(data_x[:,i].shape)\n",
    "    # print(data_x[:,i])\n",
    "  \n",
    "  # Uma dimensão adicional é requerida\n",
    "  print(\"data_Y\",data_y.shape)\n",
    "  data_y = data[lenght_windows:].unsqueeze(-1)\n",
    "  print(\"data_Y after unsqueeze\",data_y.shape)\n",
    "  # print(data_y)\n",
    "  return data_x.unsqueeze(-1), data_y "
   ]
  },
  {
   "cell_type": "code",
   "execution_count": 136,
   "metadata": {},
   "outputs": [
    {
     "name": "stdout",
     "output_type": "stream",
     "text": [
      "torch.Size([6, 3])\n",
      "torch.Size([6])\n",
      "loop 0\n",
      "loop 1\n",
      "loop 2\n",
      "data_Y torch.Size([6])\n",
      "data_Y after unsqueeze torch.Size([7, 1])\n"
     ]
    }
   ],
   "source": [
    "# Data Flow Protocol:\n",
    "# 1. Network input shape: (batch_size, seq_length, num_features)\n",
    "# 2. LSTM output shape: (batch_size, seq_length, hidden_size)\n",
    "# 3. Linear input shape: (batch_size * seq_length, hidden_size)\n",
    "# 4. Linear output: (batch size * seq_length, out_size)\n",
    "\n",
    "train_size = int(len(dados) * 0.8)\n",
    "test_size = len(dados) - train_size\n",
    "\n",
    "seq_length = 6\n",
    "x, y = get_batches(dados,3)\n",
    "\n",
    "x, y = x.to(device), y.to(device) # importante para o uso de GPU\n",
    "\n",
    "trainX, trainY  = x[:train_size],y[:train_size]\n",
    "testX, testY = x[train_size:],y[train_size:]\n",
    "# lstm_out, hs = lstm(x)"
   ]
  },
  {
   "cell_type": "code",
   "execution_count": 137,
   "metadata": {},
   "outputs": [],
   "source": [
    "out, (h_out, cn) = lstm(trainX)"
   ]
  },
  {
   "cell_type": "code",
   "execution_count": 138,
   "metadata": {},
   "outputs": [],
   "source": [
    "last_layer = h_out[-1]\n",
    "out_final = linear_fullConnected(last_layer.view(-1, n_hidden))"
   ]
  },
  {
   "cell_type": "code",
   "execution_count": 139,
   "metadata": {},
   "outputs": [
    {
     "data": {
      "text/plain": [
       "torch.Size([3, 1])"
      ]
     },
     "execution_count": 139,
     "metadata": {},
     "output_type": "execute_result"
    }
   ],
   "source": [
    "out_final.shape"
   ]
  },
  {
   "cell_type": "code",
   "execution_count": 140,
   "metadata": {},
   "outputs": [
    {
     "data": {
      "text/plain": [
       "tensor([[0.0281],\n",
       "        [0.0281],\n",
       "        [0.0281]], grad_fn=<AddmmBackward>)"
      ]
     },
     "execution_count": 140,
     "metadata": {},
     "output_type": "execute_result"
    }
   ],
   "source": [
    "out_final"
   ]
  },
  {
   "cell_type": "code",
   "execution_count": null,
   "metadata": {},
   "outputs": [],
   "source": []
  }
 ],
 "metadata": {
  "kernelspec": {
   "display_name": "Python 3",
   "language": "python",
   "name": "python3"
  },
  "language_info": {
   "codemirror_mode": {
    "name": "ipython",
    "version": 3
   },
   "file_extension": ".py",
   "mimetype": "text/x-python",
   "name": "python",
   "nbconvert_exporter": "python",
   "pygments_lexer": "ipython3",
   "version": "3.8.5"
  }
 },
 "nbformat": 4,
 "nbformat_minor": 2
}
