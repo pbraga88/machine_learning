{
 "cells": [
  {
   "cell_type": "markdown",
   "metadata": {
    "id": "pqEhMdFQO3A-"
   },
   "source": [
    "<head>\n",
    "  <meta name=\"author\" content=\"Rogério de Oliveira\">\n",
    "  <meta institution=\"author\" content=\"Universidade Presbiteriana Mackenzie\">\n",
    "</head>\n",
    "\n",
    "<img src=\"http://meusite.mackenzie.br/rogerio/mackenzie_logo/UPM.2_horizontal_vermelho.jpg\" width=300, align=\"right\"> \n",
    "\n",
    "<h1 align=left><font size = 8, style=\"color:rgb(200,0,0)\"><b>Deep Learning</b></font></h1> \n",
    "<a href=\"mailto:rogerio.oliveira@mackenzie.br\">Rogério de Oliveira</a><br>\n",
    "\n",
    "<br>\n",
    "<br>\n",
    "\n",
    "---\n"
   ]
  },
  {
   "cell_type": "markdown",
   "metadata": {
    "id": "-G7aCMh4r9y1"
   },
   "source": [
    "<h1 align=left><font size = 6, style=\"color:rgb(200,0,0)\">MLP com TensorFlow</font></h1>\n",
    "<hr>"
   ]
  },
  {
   "cell_type": "markdown",
   "metadata": {
    "id": "pdezH1eUfp1Z"
   },
   "source": [
    "# **IMPORTANTE:** Antes de começar \n",
    "\n",
    "Execute a célula final desse Lab. Ela irá **inicializar** o seu ambiente com rotinas que são empregadas aqui."
   ]
  },
  {
   "cell_type": "markdown",
   "metadata": {
    "id": "uFB0mL84ZWNf"
   },
   "source": [
    "O leitor deve ter em mente que comparar TensorFlow e Keras não é a melhor maneira de abordar a questão, já que Keras funciona como um wrapper para a estrutura do TensorFlow. Portanto, você pode definir um modelo com a interface de Keras, que é mais fácil de usar, e ir para o TensorFlow quando precisar usar um recurso que Keras não tem ou quando estiver procurando uma funcionalidade específica do TensorFlow. Assim, você pode colocar seu código TensorFlow diretamente no pipeline ou modelo de treinamento Keras.\n",
    "\n",
    "O TensorFlow é uma plataforma de código-fonte aberto de ponta a ponta, uma biblioteca para várias tarefas de aprendizado de máquina, enquanto o Keras é uma biblioteca de rede neural de alto nível executada no TensorFlow. Ambos fornecem APIs de alto nível usadas para construir e treinar modelos facilmente, mas Keras é mais amigável porque é Python integrado."
   ]
  },
  {
   "cell_type": "markdown",
   "metadata": {
    "id": "OL-PhutRaVku"
   },
   "source": [
    "|   |\tKeras\t| Pytorch\t| TensorFlow |\n",
    "|---|-------|---------|------------|\n",
    "| API Level |\tHigh\t|Low\t|High and Low|\n",
    "| Architecture\t|Simple, concise, readable|\tComplex, less readable\t|Not easy to use |\n",
    "| Datasets\t|Smaller datasets\t|Large datasets, high performance|\tLarge datasets, high performance |\n",
    "| Debugging\t|Simple network, so debugging is not often needed|\tGood debugging capabilities\t|Difficult to conduct debugging|\n",
    "| Does It Have Trained Models?\t|Yes\t|Yes|\tYes|\n",
    "| Popularity\t|Most popular\t|Third most popular\t|Second most popular|\n",
    "| Speed\t|Slow, low performance|\tFast, high-performance\t|Fast, high-performance| \n",
    "| Written In\t|Python\t|Lua\t|C++, CUDA, Python|"
   ]
  },
  {
   "cell_type": "markdown",
   "metadata": {
    "id": "Li1FPlObIQAh"
   },
   "source": [
    "# **Case**: Detecção de Fraude em Operações de Cartão de Crédito\n",
    "\n",
    "http://meusite.mackenzie.br/rogerio/ML/The-InfoQ-eMag-Introduction-to-Machine-Learning.pdf\n",
    "\n",
    "Esse artigo trás uma ótima introdução ao Aprendizado de Máquina. O artigo demonstra a aplicação de dois modelos de classificação,**Árvores de Decisão e Regressão Logística**, para um conjunto de dado simples para detecção de fraude em operações de cartões de crédito. \n",
    "\n",
    "Aqui você vai empregar o mesmo conjunto de dados para um aprendizado de Deep Learning com **TensorFlow+Keras**. \n",
    "\n",
    "URL: https://meusite.mackenzie.br/rogerio/ML/qconlondon2016_sample_data.csv\n",
    "\n",
    "**IMPORTANTE** \n",
    "O uso de deeplearning pode ser bastante complexo e exigiria um bom tempo para estarmos aptos a empregar suas funções em diferentes problemas. Entenda esse exemplo como uma *degustação* do deep learning apenas para que você possa fixar os conceitos dessa técnica."
   ]
  },
  {
   "cell_type": "markdown",
   "metadata": {
    "id": "yjsISOzrZzPg"
   },
   "source": [
    "# Explorando os dados\n"
   ]
  },
  {
   "cell_type": "code",
   "execution_count": 2,
   "metadata": {
    "id": "WUYc-QJxugaZ"
   },
   "outputs": [],
   "source": [
    "# imports\n",
    "import numpy as np \n",
    "import pandas as pd \n",
    "import matplotlib.pyplot as plt \n",
    "import seaborn as sns \n",
    "import warnings\n",
    "import os\n",
    "warnings.filterwarnings(\"ignore\")\n",
    "\n",
    "from sklearn.model_selection import train_test_split\n",
    "from sklearn.metrics import confusion_matrix\n",
    "from sklearn.metrics import classification_report\n",
    "\n",
    "from tensorflow import keras\n",
    "from tensorflow.keras import layers\n",
    "from keras import Sequential, layers\n",
    "import tensorflow as tf"
   ]
  },
  {
   "cell_type": "code",
   "execution_count": 3,
   "metadata": {
    "colab": {
     "base_uri": "https://localhost:8080/"
    },
    "id": "SIeEbP1HZxop",
    "outputId": "fe33e311-ca36-4269-dc94-84c5f91cd1a4"
   },
   "outputs": [
    {
     "name": "stdout",
     "output_type": "stream",
     "text": [
      "   fraudulent  amount card_country  card_use_24h\n",
      "0       False   20484           US             0\n",
      "1       False    1211           US             0\n",
      "2       False    8396           US             1\n",
      "3       False    2359           US             0\n",
      "4       False    1480           US             3\n",
      "(89393, 4)\n"
     ]
    }
   ],
   "source": [
    "fraud = pd.read_csv(\"http://meusite.mackenzie.br/rogerio/ML/qconlondon2016_sample_data.csv\")\n",
    "fraud.drop(columns=['charge_time'],inplace=True) # por simplicidade excluímos esse dado do treinamento\n",
    "                     \n",
    "print(fraud.head())\n",
    "print(fraud.shape) \n",
    "\n"
   ]
  },
  {
   "cell_type": "markdown",
   "metadata": {
    "id": "oeRSk9LpaisT"
   },
   "source": [
    "# Preparando os dados `X` e `y`\n",
    "\n",
    "A preparação dos dados pode ser bastante complexa. Aqui ela envolve o **hot encode** dos atributos não numéricos, o rescaling dos dados e ainda a formatação dos dados para os padrões do **TensorFlow/Keras** (formato de matrizes e não dataframes)."
   ]
  },
  {
   "cell_type": "markdown",
   "metadata": {
    "id": "qiu60pVtxFN-"
   },
   "source": [
    "## Hot Encode"
   ]
  },
  {
   "cell_type": "code",
   "execution_count": 6,
   "metadata": {
    "colab": {
     "base_uri": "https://localhost:8080/",
     "height": 204
    },
    "id": "s_VfIWKuTKGm",
    "outputId": "64c46b22-b04a-48c4-a35b-ba52c5579d80"
   },
   "outputs": [
    {
     "data": {
      "text/html": [
       "<div>\n",
       "<style scoped>\n",
       "    .dataframe tbody tr th:only-of-type {\n",
       "        vertical-align: middle;\n",
       "    }\n",
       "\n",
       "    .dataframe tbody tr th {\n",
       "        vertical-align: top;\n",
       "    }\n",
       "\n",
       "    .dataframe thead th {\n",
       "        text-align: right;\n",
       "    }\n",
       "</style>\n",
       "<table border=\"1\" class=\"dataframe\">\n",
       "  <thead>\n",
       "    <tr style=\"text-align: right;\">\n",
       "      <th></th>\n",
       "      <th>amount</th>\n",
       "      <th>card_use_24h</th>\n",
       "      <th>card_country_AU</th>\n",
       "      <th>card_country_GB</th>\n",
       "      <th>card_country_US</th>\n",
       "    </tr>\n",
       "  </thead>\n",
       "  <tbody>\n",
       "    <tr>\n",
       "      <th>0</th>\n",
       "      <td>20484</td>\n",
       "      <td>0</td>\n",
       "      <td>0</td>\n",
       "      <td>0</td>\n",
       "      <td>1</td>\n",
       "    </tr>\n",
       "    <tr>\n",
       "      <th>1</th>\n",
       "      <td>1211</td>\n",
       "      <td>0</td>\n",
       "      <td>0</td>\n",
       "      <td>0</td>\n",
       "      <td>1</td>\n",
       "    </tr>\n",
       "    <tr>\n",
       "      <th>2</th>\n",
       "      <td>8396</td>\n",
       "      <td>1</td>\n",
       "      <td>0</td>\n",
       "      <td>0</td>\n",
       "      <td>1</td>\n",
       "    </tr>\n",
       "    <tr>\n",
       "      <th>3</th>\n",
       "      <td>2359</td>\n",
       "      <td>0</td>\n",
       "      <td>0</td>\n",
       "      <td>0</td>\n",
       "      <td>1</td>\n",
       "    </tr>\n",
       "    <tr>\n",
       "      <th>4</th>\n",
       "      <td>1480</td>\n",
       "      <td>3</td>\n",
       "      <td>0</td>\n",
       "      <td>0</td>\n",
       "      <td>1</td>\n",
       "    </tr>\n",
       "  </tbody>\n",
       "</table>\n",
       "</div>"
      ],
      "text/plain": [
       "   amount  card_use_24h  card_country_AU  card_country_GB  card_country_US\n",
       "0   20484             0                0                0                1\n",
       "1    1211             0                0                0                1\n",
       "2    8396             1                0                0                1\n",
       "3    2359             0                0                0                1\n",
       "4    1480             3                0                0                1"
      ]
     },
     "execution_count": 6,
     "metadata": {
      "tags": []
     },
     "output_type": "execute_result"
    }
   ],
   "source": [
    "X = fraud.drop(columns=['fraudulent'])\n",
    "    \n",
    "X_number = X.select_dtypes(include='number')\n",
    "X_categorical = X.select_dtypes(exclude='number')\n",
    "    \n",
    "dummies = [pd.get_dummies(X[c],prefix=c, prefix_sep='_') for c in X_categorical.columns]\n",
    "X_dummies = pd.concat(dummies, axis=1)\n",
    "\n",
    "X = pd.concat([X_number,X_dummies], axis=1)\n",
    "X.head()"
   ]
  },
  {
   "cell_type": "markdown",
   "metadata": {
    "id": "jAmRkm9ET8Z0"
   },
   "source": [
    "## Normalize"
   ]
  },
  {
   "cell_type": "markdown",
   "metadata": {
    "id": "CG3n_7Z1XGEu"
   },
   "source": [
    "### Scale"
   ]
  },
  {
   "cell_type": "code",
   "execution_count": 7,
   "metadata": {
    "colab": {
     "base_uri": "https://localhost:8080/"
    },
    "id": "nLeT7H-_UPr0",
    "outputId": "999b7730-7681-4c9c-ee91-05af002c9f0f"
   },
   "outputs": [
    {
     "data": {
      "text/plain": [
       "array([[ 0.26867979, -0.17296712, -0.15679634, -0.17828929,  0.2407913 ],\n",
       "       [-0.19763503, -0.17296712, -0.15679634, -0.17828929,  0.2407913 ],\n",
       "       [-0.02379224, -0.1280861 , -0.15679634, -0.17828929,  0.2407913 ],\n",
       "       ...,\n",
       "       [ 6.07943233,  1.03882041, -0.15679634, -0.17828929,  0.2407913 ],\n",
       "       [21.1991333 ,  0.99393939, -0.15679634, -0.17828929,  0.2407913 ],\n",
       "       [-0.12325887,  0.18608104, -0.15679634, -0.17828929,  0.2407913 ]])"
      ]
     },
     "execution_count": 7,
     "metadata": {
      "tags": []
     },
     "output_type": "execute_result"
    }
   ],
   "source": [
    "from sklearn.preprocessing import scale\n",
    "X_norm = scale(X)\n",
    "X_norm\n"
   ]
  },
  {
   "cell_type": "markdown",
   "metadata": {
    "id": "-pL3XZ63XIt9"
   },
   "source": [
    "### API StandardScaler\n",
    "\n",
    "Prefira esse modo se você vai realmente implementar um `pipeline` de dados, *salvando* assim o `scaler` empregado."
   ]
  },
  {
   "cell_type": "code",
   "execution_count": 8,
   "metadata": {
    "colab": {
     "base_uri": "https://localhost:8080/"
    },
    "id": "-ze4R4GGUhJW",
    "outputId": "a93a6580-85b7-46c5-ce4c-49c70b0e4a5d"
   },
   "outputs": [
    {
     "data": {
      "text/plain": [
       "array([[ 0.26867979, -0.17296712, -0.15679634, -0.17828929,  0.2407913 ],\n",
       "       [-0.19763503, -0.17296712, -0.15679634, -0.17828929,  0.2407913 ],\n",
       "       [-0.02379224, -0.1280861 , -0.15679634, -0.17828929,  0.2407913 ],\n",
       "       ...,\n",
       "       [ 6.07943233,  1.03882041, -0.15679634, -0.17828929,  0.2407913 ],\n",
       "       [21.1991333 ,  0.99393939, -0.15679634, -0.17828929,  0.2407913 ],\n",
       "       [-0.12325887,  0.18608104, -0.15679634, -0.17828929,  0.2407913 ]])"
      ]
     },
     "execution_count": 8,
     "metadata": {
      "tags": []
     },
     "output_type": "execute_result"
    }
   ],
   "source": [
    "from sklearn.preprocessing import StandardScaler\n",
    "\n",
    "scaler = StandardScaler()\n",
    "scaler.fit(X)\n",
    "X_norm = scaler.transform(X)\n",
    "X_norm\n",
    "\n"
   ]
  },
  {
   "cell_type": "markdown",
   "metadata": {
    "id": "enCMBD5YxXiU"
   },
   "source": [
    "# Preparando a saída `y` \n",
    "\n",
    "Valores numéricos para a saída de rede."
   ]
  },
  {
   "cell_type": "code",
   "execution_count": 11,
   "metadata": {
    "colab": {
     "base_uri": "https://localhost:8080/"
    },
    "id": "qf1XLBOHxbzd",
    "outputId": "6bb1baeb-c184-4669-a405-b358fe231ecb"
   },
   "outputs": [
    {
     "data": {
      "text/plain": [
       "0        0.0\n",
       "1        0.0\n",
       "2        0.0\n",
       "3        0.0\n",
       "4        0.0\n",
       "        ... \n",
       "89388    1.0\n",
       "89389    1.0\n",
       "89390    1.0\n",
       "89391    1.0\n",
       "89392    1.0\n",
       "Name: fraudulent, Length: 89393, dtype: float64"
      ]
     },
     "execution_count": 11,
     "metadata": {
      "tags": []
     },
     "output_type": "execute_result"
    }
   ],
   "source": [
    "fraud.fraudulent = fraud.fraudulent.replace(True,1)\n",
    "fraud.fraudulent = fraud.fraudulent.replace(False,0)\n",
    "\n",
    "y_num = fraud.fraudulent\n",
    "y_num"
   ]
  },
  {
   "cell_type": "markdown",
   "metadata": {
    "id": "L40cJF1ccN5C"
   },
   "source": [
    "## Separando os dados de Treinamento e Teste"
   ]
  },
  {
   "cell_type": "code",
   "execution_count": 16,
   "metadata": {
    "colab": {
     "base_uri": "https://localhost:8080/"
    },
    "id": "RdElnvhvcSAe",
    "outputId": "b31f822f-60fa-4ea7-dafd-c41b2b855ae3"
   },
   "outputs": [
    {
     "name": "stdout",
     "output_type": "stream",
     "text": [
      "(62575, 5) (26818, 5) (62575,) (26818,)\n"
     ]
    }
   ],
   "source": [
    "seed = 1234\n",
    "X_train, X_test, y_train, y_test = train_test_split(X_norm, y_num, test_size=0.3, random_state=seed)#stratify=y)\n",
    "\n",
    "print(X_train.shape, X_test.shape, y_train.shape, y_test.shape)\n"
   ]
  },
  {
   "cell_type": "code",
   "execution_count": null,
   "metadata": {
    "colab": {
     "base_uri": "https://localhost:8080/"
    },
    "id": "HnJsUwZ_ckw_",
    "outputId": "84e9629c-0af2-4060-9359-c8970860e75b"
   },
   "outputs": [
    {
     "data": {
      "text/plain": [
       "15481    0.0\n",
       "68476    1.0\n",
       "62702    1.0\n",
       "15586    0.0\n",
       "21519    0.0\n",
       "        ... \n",
       "22782    0.0\n",
       "10869    0.0\n",
       "12653    0.0\n",
       "60631    1.0\n",
       "2925     0.0\n",
       "Name: fraudulent, Length: 62575, dtype: float64"
      ]
     },
     "execution_count": 43,
     "metadata": {
      "tags": []
     },
     "output_type": "execute_result"
    }
   ],
   "source": [
    "y_train"
   ]
  },
  {
   "cell_type": "markdown",
   "metadata": {
    "id": "rfOUECSdyENj"
   },
   "source": [
    "# Adequando os dados para o `Keras`\n",
    "\n",
    "Os dados para o `Keras` (TensorFlow) devem ser matrizes, com a saída em formato de um matriz binária (*hot encoded*)."
   ]
  },
  {
   "cell_type": "code",
   "execution_count": 17,
   "metadata": {
    "colab": {
     "base_uri": "https://localhost:8080/"
    },
    "id": "GNQYR8xQyWeD",
    "outputId": "5cf4d25e-da57-4690-d716-daa6ef2df345"
   },
   "outputs": [
    {
     "data": {
      "text/plain": [
       "array([[0., 1.],\n",
       "       [1., 0.],\n",
       "       [0., 1.],\n",
       "       ...,\n",
       "       [0., 1.],\n",
       "       [1., 0.],\n",
       "       [0., 1.]], dtype=float32)"
      ]
     },
     "execution_count": 17,
     "metadata": {
      "tags": []
     },
     "output_type": "execute_result"
    }
   ],
   "source": [
    "from keras.utils import to_categorical\n",
    "y_train = to_categorical(y_train)\n",
    "y_train\n"
   ]
  },
  {
   "cell_type": "markdown",
   "metadata": {
    "id": "zoKFbY_gyf2Z"
   },
   "source": [
    "# Configuração da Rede DeepLearning\n",
    "\n",
    "Nossa rede será uma rede neural sequencial MLP. Há 5 neurônios de entrada, correspondendo a cada atributo de entrada, vamos criar duas camadas ocultas de 8 neurônios, e uma camada de saída com 2 neurônios correspondendo às duas classes de saída.\n",
    "\n",
    "\n",
    "\n"
   ]
  },
  {
   "cell_type": "code",
   "execution_count": 23,
   "metadata": {
    "id": "YVUC8oWhylEQ"
   },
   "outputs": [],
   "source": [
    "# Definição ou Configuração      saída       função de ativação    camada entrada\n",
    "model = Sequential([layers.Dense(X.shape[1], activation='sigmoid', input_shape=[X.shape[1],])]) \n",
    "\n",
    "model.add(layers.Dense(8, activation='sigmoid'))\n",
    "model.add(layers.Dense(8, activation='sigmoid'))\n",
    "model.add(layers.Dense(2, activation='sigmoid'))\n",
    "model.compile(loss='categorical_crossentropy', optimizer='adam', metrics=['accuracy'])\n",
    "\n"
   ]
  },
  {
   "cell_type": "code",
   "execution_count": 21,
   "metadata": {
    "colab": {
     "base_uri": "https://localhost:8080/"
    },
    "id": "9ZX2jwUxuzkO",
    "outputId": "b472b1ba-a84e-46b5-a1d6-947b360bf0a9"
   },
   "outputs": [
    {
     "data": {
      "text/plain": [
       "[5]"
      ]
     },
     "execution_count": 21,
     "metadata": {
      "tags": []
     },
     "output_type": "execute_result"
    }
   ],
   "source": [
    "[X.shape[1],]"
   ]
  },
  {
   "cell_type": "markdown",
   "metadata": {
    "id": "A_yUDfjJeC5u"
   },
   "source": [
    "# Treinamento da Rede DeepLearning\n",
    "\n",
    "Os modelos neurais em geral trazem embutido no treinamento os conjuntos de validação. Assim, em geral, teremos um conjunto de *validação* e um conjunto de *teste*. O `history` permite salvar os dados do treinamento para análise do aprendizado, por exemplo *overfitting*. "
   ]
  },
  {
   "cell_type": "code",
   "execution_count": 24,
   "metadata": {
    "colab": {
     "base_uri": "https://localhost:8080/"
    },
    "id": "vqO9g2tCeOZN",
    "outputId": "e23a74e9-6257-4c1a-fbd8-8f5785c1d699"
   },
   "outputs": [
    {
     "name": "stdout",
     "output_type": "stream",
     "text": [
      "Epoch 1/100\n",
      "1565/1565 [==============================] - 3s 1ms/step - loss: 0.6921 - accuracy: 0.5330 - val_loss: 0.6644 - val_accuracy: 0.6038\n",
      "Epoch 2/100\n",
      "1565/1565 [==============================] - 2s 1ms/step - loss: 0.6524 - accuracy: 0.6322 - val_loss: 0.6206 - val_accuracy: 0.6613\n",
      "Epoch 3/100\n",
      "1565/1565 [==============================] - 2s 1ms/step - loss: 0.6165 - accuracy: 0.6667 - val_loss: 0.6128 - val_accuracy: 0.6683\n",
      "Epoch 4/100\n",
      "1565/1565 [==============================] - 2s 1ms/step - loss: 0.6105 - accuracy: 0.6703 - val_loss: 0.6118 - val_accuracy: 0.6672\n",
      "Epoch 5/100\n",
      "1565/1565 [==============================] - 2s 1ms/step - loss: 0.6116 - accuracy: 0.6687 - val_loss: 0.6102 - val_accuracy: 0.6700\n",
      "Epoch 6/100\n",
      "1565/1565 [==============================] - 2s 1ms/step - loss: 0.6116 - accuracy: 0.6674 - val_loss: 0.6097 - val_accuracy: 0.6701\n",
      "Epoch 7/100\n",
      "1565/1565 [==============================] - 2s 1ms/step - loss: 0.6097 - accuracy: 0.6685 - val_loss: 0.6098 - val_accuracy: 0.6698\n",
      "Epoch 8/100\n",
      "1565/1565 [==============================] - 2s 1ms/step - loss: 0.6113 - accuracy: 0.6677 - val_loss: 0.6098 - val_accuracy: 0.6680\n",
      "Epoch 9/100\n",
      "1565/1565 [==============================] - 2s 1ms/step - loss: 0.6101 - accuracy: 0.6691 - val_loss: 0.6094 - val_accuracy: 0.6706\n",
      "Epoch 10/100\n",
      "1565/1565 [==============================] - 2s 1ms/step - loss: 0.6097 - accuracy: 0.6707 - val_loss: 0.6089 - val_accuracy: 0.6755\n",
      "Epoch 11/100\n",
      "1565/1565 [==============================] - 2s 1ms/step - loss: 0.6112 - accuracy: 0.6684 - val_loss: 0.6088 - val_accuracy: 0.6713\n",
      "Epoch 12/100\n",
      "1565/1565 [==============================] - 2s 1ms/step - loss: 0.6115 - accuracy: 0.6706 - val_loss: 0.6095 - val_accuracy: 0.6757\n",
      "Epoch 13/100\n",
      "1565/1565 [==============================] - 2s 1ms/step - loss: 0.6106 - accuracy: 0.6696 - val_loss: 0.6085 - val_accuracy: 0.6724\n",
      "Epoch 14/100\n",
      "1565/1565 [==============================] - 2s 1ms/step - loss: 0.6068 - accuracy: 0.6716 - val_loss: 0.6084 - val_accuracy: 0.6730\n",
      "Epoch 15/100\n",
      "1565/1565 [==============================] - 2s 1ms/step - loss: 0.6106 - accuracy: 0.6705 - val_loss: 0.6085 - val_accuracy: 0.6698\n",
      "Epoch 16/100\n",
      "1565/1565 [==============================] - 2s 1ms/step - loss: 0.6084 - accuracy: 0.6681 - val_loss: 0.6086 - val_accuracy: 0.6715\n",
      "Epoch 17/100\n",
      "1565/1565 [==============================] - 2s 1ms/step - loss: 0.6068 - accuracy: 0.6703 - val_loss: 0.6083 - val_accuracy: 0.6742\n",
      "Epoch 18/100\n",
      "1565/1565 [==============================] - 2s 1ms/step - loss: 0.6087 - accuracy: 0.6670 - val_loss: 0.6084 - val_accuracy: 0.6739\n",
      "Epoch 19/100\n",
      "1565/1565 [==============================] - 2s 1ms/step - loss: 0.6048 - accuracy: 0.6742 - val_loss: 0.6083 - val_accuracy: 0.6759\n",
      "Epoch 20/100\n",
      "1565/1565 [==============================] - 2s 1ms/step - loss: 0.6074 - accuracy: 0.6711 - val_loss: 0.6103 - val_accuracy: 0.6686\n",
      "Epoch 21/100\n",
      "1565/1565 [==============================] - 2s 1ms/step - loss: 0.6109 - accuracy: 0.6676 - val_loss: 0.6081 - val_accuracy: 0.6698\n",
      "Epoch 22/100\n",
      "1565/1565 [==============================] - 2s 1ms/step - loss: 0.6103 - accuracy: 0.6675 - val_loss: 0.6086 - val_accuracy: 0.6769\n",
      "Epoch 23/100\n",
      "1565/1565 [==============================] - 2s 1ms/step - loss: 0.6076 - accuracy: 0.6715 - val_loss: 0.6093 - val_accuracy: 0.6692\n",
      "Epoch 24/100\n",
      "1565/1565 [==============================] - 2s 1ms/step - loss: 0.6087 - accuracy: 0.6712 - val_loss: 0.6084 - val_accuracy: 0.6695\n",
      "Epoch 25/100\n",
      "1565/1565 [==============================] - 2s 1ms/step - loss: 0.6076 - accuracy: 0.6708 - val_loss: 0.6081 - val_accuracy: 0.6735\n",
      "Epoch 26/100\n",
      "1565/1565 [==============================] - 2s 1ms/step - loss: 0.6070 - accuracy: 0.6700 - val_loss: 0.6080 - val_accuracy: 0.6718\n",
      "Epoch 27/100\n",
      "1565/1565 [==============================] - 2s 1ms/step - loss: 0.6054 - accuracy: 0.6724 - val_loss: 0.6082 - val_accuracy: 0.6710\n",
      "Epoch 28/100\n",
      "1565/1565 [==============================] - 2s 1ms/step - loss: 0.6104 - accuracy: 0.6680 - val_loss: 0.6081 - val_accuracy: 0.6723\n",
      "Epoch 29/100\n",
      "1565/1565 [==============================] - 2s 1ms/step - loss: 0.6099 - accuracy: 0.6666 - val_loss: 0.6081 - val_accuracy: 0.6741\n",
      "Epoch 30/100\n",
      "1565/1565 [==============================] - 2s 1ms/step - loss: 0.6052 - accuracy: 0.6760 - val_loss: 0.6085 - val_accuracy: 0.6759\n",
      "Epoch 31/100\n",
      "1565/1565 [==============================] - 2s 1ms/step - loss: 0.6088 - accuracy: 0.6682 - val_loss: 0.6079 - val_accuracy: 0.6706\n",
      "Epoch 32/100\n",
      "1565/1565 [==============================] - 2s 1ms/step - loss: 0.6086 - accuracy: 0.6716 - val_loss: 0.6078 - val_accuracy: 0.6720\n",
      "Epoch 33/100\n",
      "1565/1565 [==============================] - 2s 1ms/step - loss: 0.6061 - accuracy: 0.6730 - val_loss: 0.6084 - val_accuracy: 0.6696\n",
      "Epoch 34/100\n",
      "1565/1565 [==============================] - 2s 1ms/step - loss: 0.6053 - accuracy: 0.6734 - val_loss: 0.6088 - val_accuracy: 0.6679\n",
      "Epoch 35/100\n",
      "1565/1565 [==============================] - 2s 1ms/step - loss: 0.6055 - accuracy: 0.6743 - val_loss: 0.6084 - val_accuracy: 0.6678\n",
      "Epoch 36/100\n",
      "1565/1565 [==============================] - 2s 1ms/step - loss: 0.6081 - accuracy: 0.6683 - val_loss: 0.6080 - val_accuracy: 0.6719\n",
      "Epoch 37/100\n",
      "1565/1565 [==============================] - 2s 1ms/step - loss: 0.6036 - accuracy: 0.6738 - val_loss: 0.6089 - val_accuracy: 0.6779\n",
      "Epoch 38/100\n",
      "1565/1565 [==============================] - 2s 1ms/step - loss: 0.6058 - accuracy: 0.6741 - val_loss: 0.6079 - val_accuracy: 0.6697\n",
      "Epoch 39/100\n",
      "1565/1565 [==============================] - 2s 1ms/step - loss: 0.6070 - accuracy: 0.6689 - val_loss: 0.6078 - val_accuracy: 0.6706\n",
      "Epoch 40/100\n",
      "1565/1565 [==============================] - 2s 1ms/step - loss: 0.6078 - accuracy: 0.6715 - val_loss: 0.6079 - val_accuracy: 0.6733\n",
      "Epoch 41/100\n",
      "1565/1565 [==============================] - 2s 1ms/step - loss: 0.6071 - accuracy: 0.6709 - val_loss: 0.6095 - val_accuracy: 0.6686\n",
      "Epoch 42/100\n",
      "1565/1565 [==============================] - 2s 1ms/step - loss: 0.6053 - accuracy: 0.6751 - val_loss: 0.6077 - val_accuracy: 0.6714\n",
      "Epoch 43/100\n",
      "1565/1565 [==============================] - 2s 1ms/step - loss: 0.6088 - accuracy: 0.6692 - val_loss: 0.6077 - val_accuracy: 0.6702\n",
      "Epoch 44/100\n",
      "1565/1565 [==============================] - 2s 1ms/step - loss: 0.6090 - accuracy: 0.6740 - val_loss: 0.6079 - val_accuracy: 0.6718\n",
      "Epoch 45/100\n",
      "1565/1565 [==============================] - 2s 1ms/step - loss: 0.6078 - accuracy: 0.6725 - val_loss: 0.6077 - val_accuracy: 0.6717\n",
      "Epoch 46/100\n",
      "1565/1565 [==============================] - 2s 1ms/step - loss: 0.6074 - accuracy: 0.6706 - val_loss: 0.6077 - val_accuracy: 0.6689\n",
      "Epoch 47/100\n",
      "1565/1565 [==============================] - 2s 1ms/step - loss: 0.6070 - accuracy: 0.6729 - val_loss: 0.6080 - val_accuracy: 0.6689\n",
      "Epoch 48/100\n",
      "1565/1565 [==============================] - 2s 1ms/step - loss: 0.6064 - accuracy: 0.6726 - val_loss: 0.6082 - val_accuracy: 0.6747\n",
      "Epoch 49/100\n",
      "1565/1565 [==============================] - 2s 1ms/step - loss: 0.6072 - accuracy: 0.6717 - val_loss: 0.6079 - val_accuracy: 0.6728\n",
      "Epoch 50/100\n",
      "1565/1565 [==============================] - 2s 1ms/step - loss: 0.6063 - accuracy: 0.6721 - val_loss: 0.6080 - val_accuracy: 0.6727\n",
      "Epoch 51/100\n",
      "1565/1565 [==============================] - 2s 1ms/step - loss: 0.6070 - accuracy: 0.6717 - val_loss: 0.6078 - val_accuracy: 0.6738\n",
      "Epoch 52/100\n",
      "1565/1565 [==============================] - 2s 1ms/step - loss: 0.6084 - accuracy: 0.6705 - val_loss: 0.6076 - val_accuracy: 0.6701\n",
      "Epoch 53/100\n",
      "1565/1565 [==============================] - 2s 1ms/step - loss: 0.6104 - accuracy: 0.6648 - val_loss: 0.6077 - val_accuracy: 0.6714\n",
      "Epoch 54/100\n",
      "1565/1565 [==============================] - 2s 1ms/step - loss: 0.6095 - accuracy: 0.6696 - val_loss: 0.6077 - val_accuracy: 0.6728\n",
      "Epoch 55/100\n",
      "1565/1565 [==============================] - 2s 1ms/step - loss: 0.6061 - accuracy: 0.6720 - val_loss: 0.6076 - val_accuracy: 0.6729\n",
      "Epoch 56/100\n",
      "1565/1565 [==============================] - 2s 1ms/step - loss: 0.6046 - accuracy: 0.6756 - val_loss: 0.6098 - val_accuracy: 0.6681\n",
      "Epoch 57/100\n",
      "1565/1565 [==============================] - 2s 1ms/step - loss: 0.6066 - accuracy: 0.6725 - val_loss: 0.6081 - val_accuracy: 0.6690\n",
      "Epoch 58/100\n",
      "1565/1565 [==============================] - 2s 1ms/step - loss: 0.6083 - accuracy: 0.6707 - val_loss: 0.6079 - val_accuracy: 0.6685\n",
      "Epoch 59/100\n",
      "1565/1565 [==============================] - 2s 1ms/step - loss: 0.6063 - accuracy: 0.6717 - val_loss: 0.6075 - val_accuracy: 0.6706\n",
      "Epoch 60/100\n",
      "1565/1565 [==============================] - 2s 1ms/step - loss: 0.6082 - accuracy: 0.6677 - val_loss: 0.6075 - val_accuracy: 0.6695\n",
      "Epoch 61/100\n",
      "1565/1565 [==============================] - 2s 1ms/step - loss: 0.6088 - accuracy: 0.6701 - val_loss: 0.6078 - val_accuracy: 0.6690\n",
      "Epoch 62/100\n",
      "1565/1565 [==============================] - 2s 1ms/step - loss: 0.6080 - accuracy: 0.6696 - val_loss: 0.6076 - val_accuracy: 0.6734\n",
      "Epoch 63/100\n",
      "1565/1565 [==============================] - 2s 1ms/step - loss: 0.6082 - accuracy: 0.6711 - val_loss: 0.6082 - val_accuracy: 0.6754\n",
      "Epoch 64/100\n",
      "1565/1565 [==============================] - 2s 1ms/step - loss: 0.6086 - accuracy: 0.6701 - val_loss: 0.6075 - val_accuracy: 0.6687\n",
      "Epoch 65/100\n",
      "1565/1565 [==============================] - 2s 1ms/step - loss: 0.6109 - accuracy: 0.6675 - val_loss: 0.6078 - val_accuracy: 0.6737\n",
      "Epoch 66/100\n",
      "1565/1565 [==============================] - 2s 1ms/step - loss: 0.6079 - accuracy: 0.6724 - val_loss: 0.6078 - val_accuracy: 0.6706\n",
      "Epoch 67/100\n",
      "1565/1565 [==============================] - 2s 1ms/step - loss: 0.6076 - accuracy: 0.6707 - val_loss: 0.6076 - val_accuracy: 0.6689\n",
      "Epoch 68/100\n",
      "1565/1565 [==============================] - 2s 1ms/step - loss: 0.6093 - accuracy: 0.6695 - val_loss: 0.6075 - val_accuracy: 0.6715\n",
      "Epoch 69/100\n",
      "1565/1565 [==============================] - 2s 1ms/step - loss: 0.6048 - accuracy: 0.6717 - val_loss: 0.6078 - val_accuracy: 0.6738\n",
      "Epoch 70/100\n",
      "1565/1565 [==============================] - 2s 1ms/step - loss: 0.6066 - accuracy: 0.6721 - val_loss: 0.6083 - val_accuracy: 0.6765\n",
      "Epoch 71/100\n",
      "1565/1565 [==============================] - 2s 1ms/step - loss: 0.6066 - accuracy: 0.6720 - val_loss: 0.6103 - val_accuracy: 0.6673\n",
      "Epoch 72/100\n",
      "1565/1565 [==============================] - 2s 1ms/step - loss: 0.6063 - accuracy: 0.6700 - val_loss: 0.6077 - val_accuracy: 0.6699\n",
      "Epoch 73/100\n",
      "1565/1565 [==============================] - 2s 1ms/step - loss: 0.6069 - accuracy: 0.6718 - val_loss: 0.6080 - val_accuracy: 0.6683\n",
      "Epoch 74/100\n",
      "1565/1565 [==============================] - 2s 1ms/step - loss: 0.6069 - accuracy: 0.6719 - val_loss: 0.6074 - val_accuracy: 0.6710\n",
      "Epoch 75/100\n",
      "1565/1565 [==============================] - 2s 1ms/step - loss: 0.6058 - accuracy: 0.6750 - val_loss: 0.6090 - val_accuracy: 0.6784\n",
      "Epoch 76/100\n",
      "1565/1565 [==============================] - 2s 1ms/step - loss: 0.6087 - accuracy: 0.6670 - val_loss: 0.6077 - val_accuracy: 0.6706\n",
      "Epoch 77/100\n",
      "1565/1565 [==============================] - 2s 1ms/step - loss: 0.6068 - accuracy: 0.6708 - val_loss: 0.6074 - val_accuracy: 0.6718\n",
      "Epoch 78/100\n",
      "1565/1565 [==============================] - 2s 1ms/step - loss: 0.6045 - accuracy: 0.6725 - val_loss: 0.6079 - val_accuracy: 0.6699\n",
      "Epoch 79/100\n",
      "1565/1565 [==============================] - 2s 1ms/step - loss: 0.6083 - accuracy: 0.6691 - val_loss: 0.6080 - val_accuracy: 0.6693\n",
      "Epoch 80/100\n",
      "1565/1565 [==============================] - 2s 1ms/step - loss: 0.6095 - accuracy: 0.6691 - val_loss: 0.6075 - val_accuracy: 0.6713\n",
      "Epoch 81/100\n",
      "1565/1565 [==============================] - 2s 1ms/step - loss: 0.6098 - accuracy: 0.6691 - val_loss: 0.6076 - val_accuracy: 0.6698\n",
      "Epoch 82/100\n",
      "1565/1565 [==============================] - 2s 1ms/step - loss: 0.6076 - accuracy: 0.6732 - val_loss: 0.6083 - val_accuracy: 0.6768\n",
      "Epoch 83/100\n",
      "1565/1565 [==============================] - 2s 1ms/step - loss: 0.6091 - accuracy: 0.6695 - val_loss: 0.6076 - val_accuracy: 0.6734\n",
      "Epoch 84/100\n",
      "1565/1565 [==============================] - 2s 1ms/step - loss: 0.6087 - accuracy: 0.6713 - val_loss: 0.6073 - val_accuracy: 0.6697\n",
      "Epoch 85/100\n",
      "1565/1565 [==============================] - 2s 1ms/step - loss: 0.6029 - accuracy: 0.6767 - val_loss: 0.6076 - val_accuracy: 0.6737\n",
      "Epoch 86/100\n",
      "1565/1565 [==============================] - 2s 1ms/step - loss: 0.6083 - accuracy: 0.6684 - val_loss: 0.6080 - val_accuracy: 0.6760\n",
      "Epoch 87/100\n",
      "1565/1565 [==============================] - 2s 1ms/step - loss: 0.6078 - accuracy: 0.6686 - val_loss: 0.6075 - val_accuracy: 0.6695\n",
      "Epoch 88/100\n",
      "1565/1565 [==============================] - 2s 1ms/step - loss: 0.6109 - accuracy: 0.6672 - val_loss: 0.6076 - val_accuracy: 0.6730\n",
      "Epoch 89/100\n",
      "1565/1565 [==============================] - 2s 1ms/step - loss: 0.6076 - accuracy: 0.6717 - val_loss: 0.6078 - val_accuracy: 0.6749\n",
      "Epoch 90/100\n",
      "1565/1565 [==============================] - 2s 1ms/step - loss: 0.6109 - accuracy: 0.6680 - val_loss: 0.6077 - val_accuracy: 0.6734\n",
      "Epoch 91/100\n",
      "1565/1565 [==============================] - 2s 1ms/step - loss: 0.6055 - accuracy: 0.6715 - val_loss: 0.6085 - val_accuracy: 0.6685\n",
      "Epoch 92/100\n",
      "1565/1565 [==============================] - 2s 1ms/step - loss: 0.6052 - accuracy: 0.6728 - val_loss: 0.6073 - val_accuracy: 0.6698\n",
      "Epoch 93/100\n",
      "1565/1565 [==============================] - 2s 1ms/step - loss: 0.6108 - accuracy: 0.6692 - val_loss: 0.6080 - val_accuracy: 0.6682\n",
      "Epoch 94/100\n",
      "1565/1565 [==============================] - 2s 1ms/step - loss: 0.6046 - accuracy: 0.6719 - val_loss: 0.6077 - val_accuracy: 0.6698\n",
      "Epoch 95/100\n",
      "1565/1565 [==============================] - 2s 1ms/step - loss: 0.6054 - accuracy: 0.6724 - val_loss: 0.6080 - val_accuracy: 0.6750\n",
      "Epoch 96/100\n",
      "1565/1565 [==============================] - 2s 1ms/step - loss: 0.6043 - accuracy: 0.6748 - val_loss: 0.6073 - val_accuracy: 0.6694\n",
      "Epoch 97/100\n",
      "1565/1565 [==============================] - 2s 1ms/step - loss: 0.6057 - accuracy: 0.6716 - val_loss: 0.6074 - val_accuracy: 0.6702\n",
      "Epoch 98/100\n",
      "1565/1565 [==============================] - 2s 1ms/step - loss: 0.6048 - accuracy: 0.6708 - val_loss: 0.6073 - val_accuracy: 0.6698\n",
      "Epoch 99/100\n",
      "1565/1565 [==============================] - 2s 1ms/step - loss: 0.6080 - accuracy: 0.6690 - val_loss: 0.6075 - val_accuracy: 0.6737\n",
      "Epoch 100/100\n",
      "1565/1565 [==============================] - 2s 1ms/step - loss: 0.6066 - accuracy: 0.6703 - val_loss: 0.6074 - val_accuracy: 0.6702\n"
     ]
    }
   ],
   "source": [
    "# Treinamento\n",
    "history = model.fit(X_train, y_train, validation_split=0.2, epochs=100)"
   ]
  },
  {
   "cell_type": "markdown",
   "metadata": {
    "id": "RjDowgmPe7ge"
   },
   "source": [
    "# Avaliação do Modelo\n",
    "\n",
    "Em geral,  diferentemente do que é mais comum em outros modelos de classificação não neurais, avalia-se o erro em substituição à acurácia."
   ]
  },
  {
   "cell_type": "markdown",
   "metadata": {
    "id": "pmfPcs6J0ZFC"
   },
   "source": [
    "O Treinamento busca a cada etapa minimizar o erro (aumentar a acuracidade). Isso entretanto não ocorre de maneira regular. O Treinamento pode ser concluído quando alcança um erro médio desejado ou após um certo número de iterações, uma vez que o modelo pode não convergir."
   ]
  },
  {
   "cell_type": "code",
   "execution_count": 25,
   "metadata": {
    "colab": {
     "base_uri": "https://localhost:8080/",
     "height": 700
    },
    "id": "zrkQMDRzzmJq",
    "outputId": "db41a438-1da5-41cc-f7b6-3e8f48d983f8"
   },
   "outputs": [
    {
     "data": {
      "image/png": "[encoded data removed]",
      "text/plain": [
       "<Figure size 576x360 with 1 Axes>"
      ]
     },
     "metadata": {
      "needs_background": "light",
      "tags": []
     },
     "output_type": "display_data"
    },
    {
     "data": {
      "image/png": "[encoded data removed]",
      "text/plain": [
       "<Figure size 576x360 with 1 Axes>"
      ]
     },
     "metadata": {
      "needs_background": "light",
      "tags": []
     },
     "output_type": "display_data"
    },
    {
     "name": "stdout",
     "output_type": "stream",
     "text": [
      "Two Hidden Layer Neural Network 5,8,8,2 (sigmoid)Accuracy Train: 67.05 %, Accuracy Test: 67.02 %\n"
     ]
    }
   ],
   "source": [
    "loss, val_loss, acc, val_acc = plot_loss_acc(history,'Two Hidden Layer Neural Network 5,8,8,2 (sigmoid)')\n"
   ]
  },
  {
   "cell_type": "markdown",
   "metadata": {
    "id": "_hslPCKTfzCn"
   },
   "source": [
    "# Predição, aplicando e avaliando o modelo\n",
    "\n",
    "Podemos então aplicar e avaliar o modelo no conjunto de teste."
   ]
  },
  {
   "cell_type": "markdown",
   "metadata": {
    "id": "5Oc0b8_O05yj"
   },
   "source": [
    "Em cada neurônio de saída a rede retorna a probabilidade da classe. A seleção do neurônio de maior valor a classe mais provável (`np.argmax()`)."
   ]
  },
  {
   "cell_type": "code",
   "execution_count": 27,
   "metadata": {
    "colab": {
     "base_uri": "https://localhost:8080/"
    },
    "id": "O0df3TPl1B2b",
    "outputId": "6bb7c526-53b7-4ae9-90a0-e4bef6d26401"
   },
   "outputs": [
    {
     "name": "stdout",
     "output_type": "stream",
     "text": [
      "[[0.1473712  0.6655322 ]\n",
      " [0.43227744 0.40930614]\n",
      " [0.32428828 0.49539906]\n",
      " ...\n",
      " [0.5158497  0.34150797]\n",
      " [0.5093743  0.34675217]\n",
      " [0.44245976 0.4007496 ]]\n",
      "[1 0 1 ... 0 0 0]\n",
      "[[10327  5596]\n",
      " [ 3167  7728]]\n"
     ]
    }
   ],
   "source": [
    "# Predict\n",
    "print(model.predict(X_test))\n",
    "\n",
    "y_pred = np.argmax(model.predict(X_test), axis=-1)\n",
    "    \n",
    "print(y_pred)\n",
    "print(confusion_matrix(y_pred,y_test))\n"
   ]
  },
  {
   "cell_type": "code",
   "execution_count": 28,
   "metadata": {
    "colab": {
     "base_uri": "https://localhost:8080/"
    },
    "id": "Aayq7XSFgYiG",
    "outputId": "1ce9e2b5-9c0b-4b19-b204-85f8c3213923"
   },
   "outputs": [
    {
     "name": "stdout",
     "output_type": "stream",
     "text": [
      "              precision    recall  f1-score   support\n",
      "\n",
      "           0       0.77      0.65      0.70     15923\n",
      "           1       0.58      0.71      0.64     10895\n",
      "\n",
      "    accuracy                           0.67     26818\n",
      "   macro avg       0.67      0.68      0.67     26818\n",
      "weighted avg       0.69      0.67      0.68     26818\n",
      "\n"
     ]
    }
   ],
   "source": [
    "print(classification_report(y_pred,y_test))"
   ]
  },
  {
   "cell_type": "markdown",
   "metadata": {
    "id": "gSib62DfhBgO"
   },
   "source": [
    "# Código completo\n",
    "\n",
    "Aqui o código completo em uma única célula."
   ]
  },
  {
   "cell_type": "code",
   "execution_count": 2,
   "metadata": {
    "id": "dKEViP5J5zCo"
   },
   "outputs": [],
   "source": [
    "import numpy as np \n",
    "import pandas as pd \n",
    "import matplotlib.pyplot as plt \n",
    "import seaborn as sns \n",
    "import warnings\n",
    "import os\n",
    "warnings.filterwarnings(\"ignore\")\n",
    "\n",
    "from sklearn.model_selection import train_test_split\n",
    "from sklearn.metrics import confusion_matrix\n",
    "from sklearn.metrics import classification_report\n",
    "\n",
    "from tensorflow import keras\n",
    "from tensorflow.keras import layers\n",
    "from keras import Sequential, layers\n",
    "import tensorflow as tf\n",
    "\n"
   ]
  },
  {
   "cell_type": "code",
   "execution_count": 2,
   "metadata": {
    "colab": {
     "base_uri": "https://localhost:8080/",
     "height": 697
    },
    "id": "Gw24oGzig_If",
    "outputId": "0afc46ac-8489-4de7-f687-504944f52984"
   },
   "outputs": [],
   "source": [
    "def mlp_plot(hot=1, norm=1, layers_qty=3, n=10, act='sigmoid', drop_date=1):\n",
    "    fraud = pd.read_csv(\"http://meusite.mackenzie.br/rogerio/ML/qconlondon2016_sample_data.csv\")\n",
    "    if (drop_date==0):\n",
    "        fraud['day'] = fraud['charge_time'].str.slice(8,10).astype(int)\n",
    "        fraud['month'] = fraud['charge_time'].str.slice(5,7).astype(int)\n",
    "        \n",
    "    fraud.drop(columns=['charge_time'],inplace=True)\n",
    "    \n",
    "    X = fraud.drop(columns=['fraudulent'])\n",
    "    \n",
    "    if (hot):\n",
    "        ## Hot Encode\n",
    "        X_number = X.select_dtypes(include='number')\n",
    "        X_categorical = X.select_dtypes(exclude='number')\n",
    "\n",
    "        dummies = [pd.get_dummies(X[c],prefix=c, prefix_sep='_') for c in X_categorical.columns]\n",
    "        X_dummies = pd.concat(dummies, axis=1)\n",
    "\n",
    "        X = pd.concat([X_number,X_dummies], axis=1)\n",
    "        X.head()\n",
    "    else:\n",
    "        ## Label Encode\n",
    "        from sklearn.preprocessing import LabelEncoder\n",
    "        labelencoder = LabelEncoder()\n",
    "        X['card_country_label'] = labelencoder.fit_transform(X['card_country'])\n",
    "        X = X.drop(columns=['card_country'])\n",
    "    if (norm):\n",
    "        ## Normalize\n",
    "        from sklearn.preprocessing import scale\n",
    "        X_norm = scale(X)\n",
    "        X_norm\n",
    "    else:\n",
    "        ## Without normalization\n",
    "        X_norm = X\n",
    "        X_norm\n",
    "\n",
    "    ## Preparando a saída `y` \n",
    "\n",
    "    fraud.fraudulent = fraud.fraudulent.replace(True,1)\n",
    "    fraud.fraudulent = fraud.fraudulent.replace(False,0)\n",
    "\n",
    "    y_num = fraud.fraudulent\n",
    "    y_num\n",
    "\n",
    "    ## Separando os dados de Treinamento e Teste \n",
    "\n",
    "    seed = 1234\n",
    "    X_train, X_test, y_train, y_test = train_test_split(X_norm, y_num, test_size=0.3, stratify=y_num, random_state=seed)\n",
    "\n",
    "    ## Adequando categorical(y_train) para o `Keras`\n",
    "\n",
    "    from keras.utils import to_categorical\n",
    "\n",
    "    y_train = to_categorical(y_train)\n",
    "    y_train\n",
    "\n",
    "    ## Configuração da Rede DeepLearning\n",
    "\n",
    "    model = Sequential([layers.Dense(X.shape[1], activation='sigmoid', input_shape=[X.shape[1],])])\n",
    "    for i in range(layers_qty):\n",
    "        model.add(layers.Dense(n, activation=act))\n",
    "#   model.add(layers.Dense(8, activation='sigmoid'))\n",
    "    model.add(layers.Dense(2, activation='sigmoid'))\n",
    "    model.compile(loss='categorical_crossentropy', optimizer='adam', metrics=['accuracy'])\n",
    "\n",
    "    ## Treinamento da Rede DeepLearning\n",
    "\n",
    "    history = model.fit(X_train, y_train, validation_split=0.2, epochs=20)\n",
    "\n",
    "    ## Avaliação do Treinamento\n",
    "\n",
    "    loss, val_loss, acc, val_acc = plot_loss_acc(history,'Two Hidden Layer Neural Network 5,8,8,2 (sigmoid)')\n",
    "\n",
    "    ## Predição, aplicando e avaliando o modelo\n",
    "\n",
    "    y_pred = np.argmax(model.predict(X_test), axis=-1)\n",
    "\n",
    "    print(y_pred)\n",
    "    print(confusion_matrix(y_pred,y_test))\n",
    "\n",
    "    print(classification_report(y_pred,y_test))"
   ]
  },
  {
   "cell_type": "markdown",
   "metadata": {
    "id": "wq4DxyVQilZY"
   },
   "source": [
    "# Exercício. \n",
    "Execute o modelo acima sem normalização dos dados. O modelo é sensível a normalização? "
   ]
  },
  {
   "cell_type": "code",
   "execution_count": null,
   "metadata": {},
   "outputs": [],
   "source": [
    "mlp_plot()"
   ]
  },
  {
   "cell_type": "code",
   "execution_count": 65,
   "metadata": {},
   "outputs": [
    {
     "name": "stdout",
     "output_type": "stream",
     "text": [
      "Epoch 1/20\n",
      "1565/1565 [==============================] - 3s 2ms/step - loss: 0.6960 - accuracy: 0.5010 - val_loss: 0.6954 - val_accuracy: 0.5027\n",
      "Epoch 2/20\n",
      "1565/1565 [==============================] - 2s 2ms/step - loss: 0.6931 - accuracy: 0.5041 - val_loss: 0.6927 - val_accuracy: 0.5027\n",
      "Epoch 3/20\n",
      "1565/1565 [==============================] - 3s 2ms/step - loss: 0.6927 - accuracy: 0.5063 - val_loss: 0.6932 - val_accuracy: 0.5057\n",
      "Epoch 4/20\n",
      "1565/1565 [==============================] - 3s 2ms/step - loss: 0.6925 - accuracy: 0.5059 - val_loss: 0.6918 - val_accuracy: 0.5068\n",
      "Epoch 5/20\n",
      "1565/1565 [==============================] - 2s 2ms/step - loss: 0.6918 - accuracy: 0.5060 - val_loss: 0.6901 - val_accuracy: 0.5412\n",
      "Epoch 6/20\n",
      "1565/1565 [==============================] - 3s 2ms/step - loss: 0.6913 - accuracy: 0.5082 - val_loss: 0.6906 - val_accuracy: 0.5027\n",
      "Epoch 7/20\n",
      "1565/1565 [==============================] - 3s 2ms/step - loss: 0.6899 - accuracy: 0.5015 - val_loss: 0.6905 - val_accuracy: 0.5100\n",
      "Epoch 8/20\n",
      "1565/1565 [==============================] - 3s 2ms/step - loss: 0.6920 - accuracy: 0.5135 - val_loss: 0.6927 - val_accuracy: 0.5030\n",
      "Epoch 9/20\n",
      "1565/1565 [==============================] - 3s 2ms/step - loss: 0.6930 - accuracy: 0.5021 - val_loss: 0.6930 - val_accuracy: 0.5029\n",
      "Epoch 10/20\n",
      "1565/1565 [==============================] - 2s 2ms/step - loss: 0.6925 - accuracy: 0.5091 - val_loss: 0.6928 - val_accuracy: 0.5053\n",
      "Epoch 11/20\n",
      "1565/1565 [==============================] - 3s 2ms/step - loss: 0.6924 - accuracy: 0.5075 - val_loss: 0.6936 - val_accuracy: 0.5031\n",
      "Epoch 12/20\n",
      "1565/1565 [==============================] - 3s 2ms/step - loss: 0.6930 - accuracy: 0.5013 - val_loss: 0.6922 - val_accuracy: 0.5030\n",
      "Epoch 13/20\n",
      "1565/1565 [==============================] - 3s 2ms/step - loss: 0.6916 - accuracy: 0.5082 - val_loss: 0.6916 - val_accuracy: 0.5053\n",
      "Epoch 14/20\n",
      "1565/1565 [==============================] - 2s 2ms/step - loss: 0.6921 - accuracy: 0.5027 - val_loss: 0.6913 - val_accuracy: 0.5055\n",
      "Epoch 15/20\n",
      "1565/1565 [==============================] - 3s 2ms/step - loss: 0.6912 - accuracy: 0.5088 - val_loss: 0.6911 - val_accuracy: 0.5031\n",
      "Epoch 16/20\n",
      "1565/1565 [==============================] - 3s 2ms/step - loss: 0.6914 - accuracy: 0.5003 - val_loss: 0.6920 - val_accuracy: 0.5030\n",
      "Epoch 17/20\n",
      "1565/1565 [==============================] - 2s 2ms/step - loss: 0.6912 - accuracy: 0.5077 - val_loss: 0.6918 - val_accuracy: 0.5034\n",
      "Epoch 18/20\n",
      "1565/1565 [==============================] - 3s 2ms/step - loss: 0.6899 - accuracy: 0.5074 - val_loss: 0.6897 - val_accuracy: 0.5103\n",
      "Epoch 19/20\n",
      "1565/1565 [==============================] - 3s 2ms/step - loss: 0.6885 - accuracy: 0.5164 - val_loss: 0.6894 - val_accuracy: 0.5031\n",
      "Epoch 20/20\n",
      "1565/1565 [==============================] - 2s 2ms/step - loss: 0.6885 - accuracy: 0.5121 - val_loss: 0.6664 - val_accuracy: 0.6058\n"
     ]
    },
    {
     "data": {
      "image/png": "[encoded data removed]",
      "text/plain": [
       "<Figure size 576x360 with 1 Axes>"
      ]
     },
     "metadata": {
      "needs_background": "light"
     },
     "output_type": "display_data"
    },
    {
     "data": {
      "image/png": "[encoded data removed]",
      "text/plain": [
       "<Figure size 576x360 with 1 Axes>"
      ]
     },
     "metadata": {
      "needs_background": "light"
     },
     "output_type": "display_data"
    },
    {
     "name": "stdout",
     "output_type": "stream",
     "text": [
      "Two Hidden Layer Neural Network 5,8,8,2 (sigmoid)Accuracy Train: 52.27 %, Accuracy Test: 60.58 %\n",
      "[0 0 0 ... 0 0 0]\n",
      "[[12168  9030]\n",
      " [ 1384  4236]]\n",
      "              precision    recall  f1-score   support\n",
      "\n",
      "           0       0.90      0.57      0.70     21198\n",
      "           1       0.32      0.75      0.45      5620\n",
      "\n",
      "    accuracy                           0.61     26818\n",
      "   macro avg       0.61      0.66      0.57     26818\n",
      "weighted avg       0.78      0.61      0.65     26818\n",
      "\n"
     ]
    }
   ],
   "source": [
    "mlp_plot(norm=0)"
   ]
  },
  {
   "cell_type": "markdown",
   "metadata": {
    "id": "L9xElQ3O3Lg4"
   },
   "source": [
    "O modelo fica pior: \n",
    "\n",
    "C/ Normalização: Accuracy = +- 67%\n",
    "\n",
    "S/ Normalização: Accuracy +- 51%\n"
   ]
  },
  {
   "cell_type": "markdown",
   "metadata": {
    "id": "KaNJvguujo-5"
   },
   "source": [
    "# Exercício. \n",
    "Execute o modelo agora empregando *label encode* do atributo `card_country`."
   ]
  },
  {
   "cell_type": "code",
   "execution_count": 68,
   "metadata": {},
   "outputs": [
    {
     "name": "stdout",
     "output_type": "stream",
     "text": [
      "Epoch 1/20\n",
      "1565/1565 [==============================] - 3s 2ms/step - loss: 0.7022 - accuracy: 0.5087 - val_loss: 0.6789 - val_accuracy: 0.5779\n",
      "Epoch 2/20\n",
      "1565/1565 [==============================] - 2s 2ms/step - loss: 0.6546 - accuracy: 0.6375 - val_loss: 0.6177 - val_accuracy: 0.6653\n",
      "Epoch 3/20\n",
      "1565/1565 [==============================] - 2s 2ms/step - loss: 0.6203 - accuracy: 0.6674 - val_loss: 0.6122 - val_accuracy: 0.6761\n",
      "Epoch 4/20\n",
      "1565/1565 [==============================] - 2s 2ms/step - loss: 0.6151 - accuracy: 0.6720 - val_loss: 0.6114 - val_accuracy: 0.6749\n",
      "Epoch 5/20\n",
      "1565/1565 [==============================] - 2s 2ms/step - loss: 0.6147 - accuracy: 0.6719 - val_loss: 0.6109 - val_accuracy: 0.6719\n",
      "Epoch 6/20\n",
      "1565/1565 [==============================] - 3s 2ms/step - loss: 0.6140 - accuracy: 0.6726 - val_loss: 0.6100 - val_accuracy: 0.6723\n",
      "Epoch 7/20\n",
      "1565/1565 [==============================] - 2s 2ms/step - loss: 0.6154 - accuracy: 0.6700 - val_loss: 0.6094 - val_accuracy: 0.6724\n",
      "Epoch 8/20\n",
      "1565/1565 [==============================] - 2s 1ms/step - loss: 0.6116 - accuracy: 0.6736 - val_loss: 0.6099 - val_accuracy: 0.6738\n",
      "Epoch 9/20\n",
      "1565/1565 [==============================] - 3s 2ms/step - loss: 0.6144 - accuracy: 0.6692 - val_loss: 0.6104 - val_accuracy: 0.6730\n",
      "Epoch 10/20\n",
      "1565/1565 [==============================] - 3s 2ms/step - loss: 0.6120 - accuracy: 0.6710 - val_loss: 0.6089 - val_accuracy: 0.6744\n",
      "Epoch 11/20\n",
      "1565/1565 [==============================] - 2s 2ms/step - loss: 0.6121 - accuracy: 0.6733 - val_loss: 0.6088 - val_accuracy: 0.6747\n",
      "Epoch 12/20\n",
      "1565/1565 [==============================] - 2s 2ms/step - loss: 0.6144 - accuracy: 0.6697 - val_loss: 0.6094 - val_accuracy: 0.6725\n",
      "Epoch 13/20\n",
      "1565/1565 [==============================] - 2s 2ms/step - loss: 0.6146 - accuracy: 0.6688 - val_loss: 0.6087 - val_accuracy: 0.6723\n",
      "Epoch 14/20\n",
      "1565/1565 [==============================] - 3s 2ms/step - loss: 0.6141 - accuracy: 0.6692 - val_loss: 0.6081 - val_accuracy: 0.6760\n",
      "Epoch 15/20\n",
      "1565/1565 [==============================] - 2s 2ms/step - loss: 0.6108 - accuracy: 0.6703 - val_loss: 0.6079 - val_accuracy: 0.6734\n",
      "Epoch 16/20\n",
      "1565/1565 [==============================] - 3s 2ms/step - loss: 0.6100 - accuracy: 0.6720 - val_loss: 0.6082 - val_accuracy: 0.6723\n",
      "Epoch 17/20\n",
      "1565/1565 [==============================] - 3s 2ms/step - loss: 0.6077 - accuracy: 0.6740 - val_loss: 0.6076 - val_accuracy: 0.6733\n",
      "Epoch 18/20\n",
      "1565/1565 [==============================] - 2s 2ms/step - loss: 0.6089 - accuracy: 0.6748 - val_loss: 0.6072 - val_accuracy: 0.6732\n",
      "Epoch 19/20\n",
      "1565/1565 [==============================] - 2s 1ms/step - loss: 0.6092 - accuracy: 0.6739 - val_loss: 0.6071 - val_accuracy: 0.6717\n",
      "Epoch 20/20\n",
      "1565/1565 [==============================] - 2s 1ms/step - loss: 0.6116 - accuracy: 0.6713 - val_loss: 0.6071 - val_accuracy: 0.6740\n"
     ]
    },
    {
     "data": {
      "image/png": "[encoded data removed]",
      "text/plain": [
       "<Figure size 576x360 with 1 Axes>"
      ]
     },
     "metadata": {
      "needs_background": "light"
     },
     "output_type": "display_data"
    },
    {
     "data": {
      "image/png": "[encoded data removed]",
      "text/plain": [
       "<Figure size 576x360 with 1 Axes>"
      ]
     },
     "metadata": {
      "needs_background": "light"
     },
     "output_type": "display_data"
    },
    {
     "name": "stdout",
     "output_type": "stream",
     "text": [
      "Two Hidden Layer Neural Network 5,8,8,2 (sigmoid)Accuracy Train: 67.18 %, Accuracy Test: 67.40 %\n",
      "[0 0 0 ... 0 0 0]\n",
      "[[10714  5973]\n",
      " [ 2838  7293]]\n",
      "              precision    recall  f1-score   support\n",
      "\n",
      "           0       0.79      0.64      0.71     16687\n",
      "           1       0.55      0.72      0.62     10131\n",
      "\n",
      "    accuracy                           0.67     26818\n",
      "   macro avg       0.67      0.68      0.67     26818\n",
      "weighted avg       0.70      0.67      0.68     26818\n",
      "\n"
     ]
    }
   ],
   "source": [
    "# Com o hot encoding desativado (hot=0), a função faz o label encoding\n",
    "mlp_plot(hot=0)"
   ]
  },
  {
   "cell_type": "markdown",
   "metadata": {
    "id": "sm1REAEFlzmj"
   },
   "source": [
    "# Exercício. \n",
    "Agora varie parâmetros da rede neural, como número de camadas, número de neurônios e função de ativação. Veja se consegue obter um resultado significativamente melhor que os anteriores."
   ]
  },
  {
   "cell_type": "code",
   "execution_count": 70,
   "metadata": {},
   "outputs": [
    {
     "name": "stdout",
     "output_type": "stream",
     "text": [
      "Epoch 1/20\n",
      "1565/1565 [==============================] - 3s 2ms/step - loss: 0.6465 - accuracy: 0.6171 - val_loss: 0.6087 - val_accuracy: 0.6717\n",
      "Epoch 2/20\n",
      "1565/1565 [==============================] - 3s 2ms/step - loss: 0.6110 - accuracy: 0.6729 - val_loss: 0.6101 - val_accuracy: 0.6726\n",
      "Epoch 3/20\n",
      "1565/1565 [==============================] - 3s 2ms/step - loss: 0.6110 - accuracy: 0.6684 - val_loss: 0.6069 - val_accuracy: 0.6760\n",
      "Epoch 4/20\n",
      "1565/1565 [==============================] - 3s 2ms/step - loss: 0.6109 - accuracy: 0.6720 - val_loss: 0.6099 - val_accuracy: 0.6717\n",
      "Epoch 5/20\n",
      "1565/1565 [==============================] - 3s 2ms/step - loss: 0.6105 - accuracy: 0.6711 - val_loss: 0.6143 - val_accuracy: 0.6686\n",
      "Epoch 6/20\n",
      "1565/1565 [==============================] - 3s 2ms/step - loss: 0.6088 - accuracy: 0.6744 - val_loss: 0.6081 - val_accuracy: 0.6724\n",
      "Epoch 7/20\n",
      "1565/1565 [==============================] - 3s 2ms/step - loss: 0.6117 - accuracy: 0.6660 - val_loss: 0.6104 - val_accuracy: 0.6728\n",
      "Epoch 8/20\n",
      "1565/1565 [==============================] - 3s 2ms/step - loss: 0.6113 - accuracy: 0.6684 - val_loss: 0.6075 - val_accuracy: 0.6720\n",
      "Epoch 9/20\n",
      "1565/1565 [==============================] - 3s 2ms/step - loss: 0.6088 - accuracy: 0.6710 - val_loss: 0.6059 - val_accuracy: 0.6722\n",
      "Epoch 10/20\n",
      "1565/1565 [==============================] - 3s 2ms/step - loss: 0.6098 - accuracy: 0.6703 - val_loss: 0.6065 - val_accuracy: 0.6738\n",
      "Epoch 11/20\n",
      "1565/1565 [==============================] - 3s 2ms/step - loss: 0.6077 - accuracy: 0.6741 - val_loss: 0.6071 - val_accuracy: 0.6738\n",
      "Epoch 12/20\n",
      "1565/1565 [==============================] - 3s 2ms/step - loss: 0.6095 - accuracy: 0.6718 - val_loss: 0.6068 - val_accuracy: 0.6746\n",
      "Epoch 13/20\n",
      "1565/1565 [==============================] - 3s 2ms/step - loss: 0.6093 - accuracy: 0.6702 - val_loss: 0.6063 - val_accuracy: 0.6769\n",
      "Epoch 14/20\n",
      "1565/1565 [==============================] - 3s 2ms/step - loss: 0.6056 - accuracy: 0.6742 - val_loss: 0.6074 - val_accuracy: 0.6707\n",
      "Epoch 15/20\n",
      "1565/1565 [==============================] - 3s 2ms/step - loss: 0.6062 - accuracy: 0.6739 - val_loss: 0.6075 - val_accuracy: 0.6743\n",
      "Epoch 16/20\n",
      "1565/1565 [==============================] - 3s 2ms/step - loss: 0.6040 - accuracy: 0.6796 - val_loss: 0.6046 - val_accuracy: 0.6726\n",
      "Epoch 17/20\n",
      "1565/1565 [==============================] - 3s 2ms/step - loss: 0.6052 - accuracy: 0.6767 - val_loss: 0.6044 - val_accuracy: 0.6799\n",
      "Epoch 18/20\n",
      "1565/1565 [==============================] - 3s 2ms/step - loss: 0.6054 - accuracy: 0.6762 - val_loss: 0.6063 - val_accuracy: 0.6750\n",
      "Epoch 19/20\n",
      "1565/1565 [==============================] - 3s 2ms/step - loss: 0.6090 - accuracy: 0.6737 - val_loss: 0.6049 - val_accuracy: 0.6761\n",
      "Epoch 20/20\n",
      "1565/1565 [==============================] - 3s 2ms/step - loss: 0.6048 - accuracy: 0.6787 - val_loss: 0.6040 - val_accuracy: 0.6766\n"
     ]
    },
    {
     "data": {
      "image/png": "[encoded data removed]",
      "text/plain": [
       "<Figure size 576x360 with 1 Axes>"
      ]
     },
     "metadata": {
      "needs_background": "light"
     },
     "output_type": "display_data"
    },
    {
     "data": {
      "image/png": "[encoded data removed]",
      "text/plain": [
       "<Figure size 576x360 with 1 Axes>"
      ]
     },
     "metadata": {
      "needs_background": "light"
     },
     "output_type": "display_data"
    },
    {
     "name": "stdout",
     "output_type": "stream",
     "text": [
      "Two Hidden Layer Neural Network 5,8,8,2 (sigmoid)Accuracy Train: 67.59 %, Accuracy Test: 67.66 %\n",
      "[0 0 0 ... 0 0 0]\n",
      "[[10578  5694]\n",
      " [ 2974  7572]]\n",
      "              precision    recall  f1-score   support\n",
      "\n",
      "           0       0.78      0.65      0.71     16272\n",
      "           1       0.57      0.72      0.64     10546\n",
      "\n",
      "    accuracy                           0.68     26818\n",
      "   macro avg       0.68      0.68      0.67     26818\n",
      "weighted avg       0.70      0.68      0.68     26818\n",
      "\n"
     ]
    }
   ],
   "source": [
    "mlp_plot(layers_qty=5, n=20, act='relu')"
   ]
  },
  {
   "cell_type": "markdown",
   "metadata": {
    "id": "N5KpUVE9nUIp"
   },
   "source": [
    "# Exercício. \n",
    "Empregue os modelos acima e refaça o treinamento dos dados de fraude incluindo agora o dia e o mês das operações."
   ]
  },
  {
   "cell_type": "code",
   "execution_count": 3,
   "metadata": {},
   "outputs": [],
   "source": [
    "fraud = pd.read_csv(\"http://meusite.mackenzie.br/rogerio/ML/qconlondon2016_sample_data.csv\")"
   ]
  },
  {
   "cell_type": "code",
   "execution_count": 46,
   "metadata": {},
   "outputs": [
    {
     "name": "stdout",
     "output_type": "stream",
     "text": [
      "16\n"
     ]
    }
   ],
   "source": [
    "fraud.shape\n",
    "print(fraud.charge_time[80000][8:10])\n"
   ]
  },
  {
   "cell_type": "code",
   "execution_count": 58,
   "metadata": {},
   "outputs": [],
   "source": [
    "fraud['day'] = fraud['charge_time'].str.slice(8,10).astype(int)\n",
    "fraud['month'] = fraud['charge_time'].str.slice(5,7).astype(int)"
   ]
  },
  {
   "cell_type": "code",
   "execution_count": 59,
   "metadata": {},
   "outputs": [
    {
     "data": {
      "text/plain": [
       "fraudulent        bool\n",
       "charge_time     object\n",
       "amount           int64\n",
       "card_country    object\n",
       "card_use_24h     int64\n",
       "day              int64\n",
       "month            int64\n",
       "dtype: object"
      ]
     },
     "execution_count": 59,
     "metadata": {},
     "output_type": "execute_result"
    }
   ],
   "source": [
    "fraud.dtypes"
   ]
  },
  {
   "cell_type": "code",
   "execution_count": null,
   "metadata": {},
   "outputs": [],
   "source": [
    "mlp_plot(drop_date=0)"
   ]
  },
  {
   "cell_type": "markdown",
   "metadata": {
    "id": "6_NuX5FQuhOi"
   },
   "source": [
    "## **LAB SET UP**\n",
    "Execute antes de iniciar o Lab."
   ]
  },
  {
   "cell_type": "code",
   "execution_count": 1,
   "metadata": {
    "colab": {
     "base_uri": "https://localhost:8080/"
    },
    "id": "Fqxk5xmJqYpa",
    "outputId": "91a9639c-c602-46bd-96cc-401f3552f43c"
   },
   "outputs": [
    {
     "name": "stdout",
     "output_type": "stream",
     "text": [
      "Set Up completed!\n"
     ]
    }
   ],
   "source": [
    "import numpy as np # linear algebra\n",
    "import pandas as pd # data processing, CSV file I/O (e.g. pd.read_csv)\n",
    "import matplotlib.pyplot as plt \n",
    "import seaborn as sns \n",
    "import warnings\n",
    "import os\n",
    "warnings.filterwarnings(\"ignore\")\n",
    "\n",
    "from tensorflow import keras\n",
    "from tensorflow.keras import layers\n",
    "from keras import Sequential, layers\n",
    "import tensorflow as tf\n",
    "\n",
    "from sklearn.model_selection import train_test_split\n",
    "from sklearn.metrics import confusion_matrix\n",
    "from sklearn.metrics import classification_report\n",
    "\n",
    "\n",
    "def plot_loss_acc(history,more_title=''):\n",
    "    \n",
    "    loss = history.history['loss']\n",
    "    val_loss = history.history['val_loss']\n",
    "    epochs = range(1, len(loss) + 1)\n",
    "    plt.figure(figsize=(8,5))\n",
    "    plt.plot(epochs, loss, 'y', label='Training loss')\n",
    "    plt.plot(epochs, val_loss, 'r', label='Validation loss')\n",
    "    plt.title('Training and validation loss' + ' ' + more_title)\n",
    "    plt.xlabel('Epochs')\n",
    "    plt.ylabel('Loss')\n",
    "    plt.legend()\n",
    "    plt.show()\n",
    "    \n",
    "    acc = history.history['accuracy']\n",
    "    val_acc = history.history['val_accuracy']\n",
    "    plt.figure(figsize=(8,5))\n",
    "    plt.plot(epochs, acc, 'y', label='Training acc')\n",
    "    plt.plot(epochs, val_acc, 'r', label='Validation acc')\n",
    "    plt.title('Training and validation accuracy' + ' ' + more_title)\n",
    "    plt.xlabel('Epochs')\n",
    "    plt.ylabel('Accuracy')\n",
    "    plt.legend()\n",
    "    plt.show()\n",
    "\n",
    "    print(more_title + 'Accuracy Train: {:.2f} %, Accuracy Test: {:.2f} %'.format(acc[len(acc)-1] *100, val_acc[len(val_acc)-1]*100))\n",
    "\n",
    "    return loss, val_loss, acc, val_acc\n",
    "\n",
    "print('Set Up completed!')    "
   ]
  },
  {
   "cell_type": "code",
   "execution_count": null,
   "metadata": {},
   "outputs": [],
   "source": []
  }
 ],
 "metadata": {
  "anaconda-cloud": {},
  "colab": {
   "collapsed_sections": [],
   "name": "DL_03.ipynb",
   "provenance": []
  },
  "kernelspec": {
   "display_name": "Python 3",
   "language": "python",
   "name": "python3"
  },
  "language_info": {
   "codemirror_mode": {
    "name": "ipython",
    "version": 3
   },
   "file_extension": ".py",
   "mimetype": "text/x-python",
   "name": "python",
   "nbconvert_exporter": "python",
   "pygments_lexer": "ipython3",
   "version": "3.8.5"
  }
 },
 "nbformat": 4,
 "nbformat_minor": 1
}
