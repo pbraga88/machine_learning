{
  "cells": [
    {
      "metadata": {
        "trusted": true
      },
      "cell_type": "code",
      "source": "#Instalação dos pacotes\n#**********************\n#install.packages(\"twitteR\")\n#install.packages(\"data.table\")\n#install.packages(\"igraph\")\n#install.packages(\"gsubfn\")\n#install.packages(\"wordcloud\")\n#install.packages(\"NLP\")\n\noptions(repr.plot.width=8, repr.plot.height=6)",
      "execution_count": null,
      "outputs": []
    },
    {
      "metadata": {
        "trusted": true
      },
      "cell_type": "code",
      "source": "library('twitteR')\nlibrary(data.table)\nlibrary(igraph)\nlibrary(gsubfn)\nlibrary(wordcloud)\nlibrary(NLP)\nlibrary(tm)",
      "execution_count": null,
      "outputs": []
    },
    {
      "metadata": {
        "trusted": true
      },
      "cell_type": "code",
      "source": "#Autenticando no Twitter\n#***********************\n# Gerar as API Keys pelo site\n# https://developer.twitter.com/en/apps\n\noptions(httr_oauth_cache=T)\n\nconsumer_key = \" \"\nconsumer_secret = \" \"\naccess_token = \" \"\naccess_secret = \" \"\n\nsetup_twitter_oauth( consumer_key, consumer_secret, access_token, access_secret)",
      "execution_count": null,
      "outputs": []
    },
    {
      "metadata": {
        "trusted": true
      },
      "cell_type": "code",
      "source": "#Coletando dados\n#***************\nusuario <- \"DiegoNogare\"\nperfil <- getUser(usuario)\nlocation(perfil)\ndescription(perfil)",
      "execution_count": null,
      "outputs": []
    },
    {
      "metadata": {
        "trusted": true
      },
      "cell_type": "code",
      "source": "seguidores <- perfil$getFollowers()\nlength(seguidores)\nseguidores <- rbindlist(lapply(seguidores,as.data.frame))",
      "execution_count": null,
      "outputs": []
    },
    {
      "metadata": {
        "trusted": true
      },
      "cell_type": "code",
      "source": "quemSigo <- perfil$getFriends()\nlength(quemSigo)\nquemSigo <- rbindlist(lapply(quemSigo,as.data.frame))",
      "execution_count": null,
      "outputs": []
    },
    {
      "metadata": {
        "trusted": true
      },
      "cell_type": "code",
      "source": "#Meus seguidores com mais seguidores\n#***********************************\nSeguidoresQueTemMaisSeguidores <- seguidores[ order(-seguidores$followersCount) ,]\ntop10Seguidores <- head(SeguidoresQueTemMaisSeguidores,10 )\n\ntop10Seguidores <- top10Seguidores [,c('name', 'followersCount', 'screenName', 'location', 'profileImageUrl')]\n\ntop10Seguidores",
      "execution_count": null,
      "outputs": []
    },
    {
      "metadata": {
        "trusted": true
      },
      "cell_type": "code",
      "source": "#Quem eu sigo que tem mais seguidores\n#************************************\nSigoQueTemMaisSeguidores <- quemSigo[ order(-quemSigo$followersCount) ,]\ntop10quemSigo <- head(SigoQueTemMaisSeguidores,10 )\n\ntop10quemSigo <- top10quemSigo [,c('name', 'followersCount', 'screenName', 'location', 'profileImageUrl')]\n\ntop10quemSigo",
      "execution_count": null,
      "outputs": []
    },
    {
      "metadata": {
        "trusted": true
      },
      "cell_type": "code",
      "source": "# Ultimos tweets de quem eu sigo\n#***********************************\ntweets <- as.data.frame(matrix(c(NA,NA), nrow=1,ncol=2))\n\nultimosTweets <- 1\ndez <- length(top10quemSigo$screenName)\ni <- 1\nwhile (i <= dez)\n{\n  tweets <- rbind(tweets, as.data.frame( matrix(c(top10quemSigo[i]$screenName,\n                                                  userTimeline(top10quemSigo[i]$screenName, n=ultimosTweets)[[1]]$text\n  ) ,nrow=ultimosTweets, ncol=2, byrow=T) )\n  )\n  i <- i + 1\n}\ncolnames(tweets) <- c(\"Perfil\", \"Post\")\ntweetsQuemSigo <- tweets[!is.na(tweets$Perfil),]\n\ntweetsQuemSigo",
      "execution_count": null,
      "outputs": []
    },
    {
      "metadata": {
        "trusted": true
      },
      "cell_type": "code",
      "source": "#Retornar os 10 Trending Topics de São Paulo\n#*******************************************\nlocalizacao <- availableTrendLocations()\nwoeid <- (localizacao[(localizacao$country == 'Brazil'\n                       & localizacao$name == 'São Paulo'),])\n                       #& localizacao$name == 'Brazil'),])\nTrendTopics <- head(getTrends(woeid[3]),10)\nTrendTopics$name\n",
      "execution_count": null,
      "outputs": []
    },
    {
      "metadata": {
        "trusted": true
      },
      "cell_type": "code",
      "source": "termo <- as.character(TrendTopics$name[1])",
      "execution_count": null,
      "outputs": []
    },
    {
      "metadata": {
        "trusted": true
      },
      "cell_type": "code",
      "source": "totalTweets = 5000\n#termo <- \"#CiteUmTristeFato\"\ndesde <- \"2020-07-01\" #Ano-Mês-Dia\n\nposts <- searchTwitter(termo, n=totalTweets,\n                       since=desde, lang = 'pt') \n\nposts <- twListToDF(posts)\n\n",
      "execution_count": null,
      "outputs": []
    },
    {
      "metadata": {
        "trusted": true
      },
      "cell_type": "code",
      "source": "totalTweets <- nrow(posts)",
      "execution_count": null,
      "outputs": []
    },
    {
      "metadata": {
        "trusted": true
      },
      "cell_type": "code",
      "source": "CaracteresParaMudar <- list( 'S'='S', 's'='s', 'Z'='Z', 'z'='z', 'À'='A', 'Á'='A', 'Â'='A', 'Ã'='A', 'Ä'='A', 'Å'='A', 'Æ'='A', 'Ç'='C', 'È'='E', 'É'='E',\n                             'Ê'='E', 'Ë'='E', 'Ì'='I', 'Í'='I', 'Î'='I', 'Ï'='I', 'Ñ'='N', 'Ò'='O', 'Ó'='O', 'Ô'='O', 'Õ'='O', 'Ö'='O', 'Ø'='O', 'Ù'='U',\n                             'Ú'='U', 'Û'='U', 'Ü'='U', 'Ý'='Y', 'Þ'='B', 'ß'='Ss', 'à'='a', 'á'='a', 'â'='a', 'ã'='a', 'ä'='a', 'å'='a', 'æ'='a', 'ç'='c',\n                             'è'='e', 'é'='e', 'ê'='e', 'ë'='e', 'ì'='i', 'í'='i', 'î'='i', 'ï'='i', 'ð'='o', 'ñ'='n', 'ò'='o', 'ó'='o', 'ô'='o', 'õ'='o',\n                             'ö'='o', 'ø'='o', 'ù'='u', 'ú'='u', 'û'='u', 'ý'='y', 'ý'='y', 'þ'='b', 'ÿ'='y' )",
      "execution_count": null,
      "outputs": []
    },
    {
      "metadata": {
        "trusted": true
      },
      "cell_type": "code",
      "source": "LimparTexto <- function(texto){\n  texto <- tolower(texto)\n  texto <- gsub(\"\\\\s?(f|ht)(tp)(s?)(://)([^\\\\.]*)[\\\\.|/](\\\\S*)\", texto, replacement=\"\")\n  texto <- gsub(\"\\n\", texto, replacement=\" \")\n  texto <- gsub(pattern=\"[[:punct:]]\", texto, replacement=\"\")\n  texto <- removeWords(texto, stopwords(\"portuguese\"))\n  texto <- gsubfn(paste(names(CaracteresParaMudar),collapse='|'), CaracteresParaMudar, texto)\n  texto <- iconv(texto,from=\"UTF-8\",to=\"ASCII//TRANSLIT\")\n  return(texto)\n}",
      "execution_count": null,
      "outputs": []
    },
    {
      "metadata": {
        "trusted": true
      },
      "cell_type": "code",
      "source": "postsLimpos <- as.vector( as.character( LimparTexto(posts$text) ) )\n\nhead(postsLimpos)",
      "execution_count": null,
      "outputs": []
    },
    {
      "metadata": {
        "trusted": true
      },
      "cell_type": "code",
      "source": "#Criar nuvem de textos\n#*********************\nprepararNuvem <- function()\n{\n  docs <- Corpus(VectorSource(postsLimpos))\n  dtm <- TermDocumentMatrix(docs)\n  m <- as.matrix(dtm)\n  v <- sort(rowSums(m),decreasing=TRUE)\n  d <- data.frame(word = names(v),freq=v)\n  return(d)\n}",
      "execution_count": null,
      "outputs": []
    },
    {
      "metadata": {
        "trusted": true
      },
      "cell_type": "code",
      "source": "d <- prepararNuvem()\n\nwordcloud(words = d$word, freq = d$freq, min.freq = 1\n          ,max.words=150\n          ,random.order=FALSE\n          ,colors=brewer.pal(8, \"Dark2\") )\n",
      "execution_count": null,
      "outputs": []
    },
    {
      "metadata": {
        "trusted": true
      },
      "cell_type": "code",
      "source": "updateStatus( paste(\"Ao procurar\", toupper(termo), \"desde\", desde, \"foram encontradas\", totalTweets, \"postagens.\" ) )",
      "execution_count": null,
      "outputs": []
    }
  ],
  "metadata": {
    "kernelspec": {
      "name": "r",
      "display_name": "R",
      "language": "R"
    },
    "language_info": {
      "mimetype": "text/x-r-source",
      "name": "R",
      "pygments_lexer": "r",
      "version": "3.5.3",
      "file_extension": ".r",
      "codemirror_mode": "r"
    }
  },
  "nbformat": 4,
  "nbformat_minor": 2
}