{
  "cells": [
    {
      "metadata": {},
      "cell_type": "markdown",
      "source": "# Dataset AdventureWorksDW"
    },
    {
      "metadata": {},
      "cell_type": "markdown",
      "source": "### Operações SQL simples"
    },
    {
      "metadata": {},
      "cell_type": "markdown",
      "source": "A base **AdventureWorksDW** https://github.com/microsoft/sql-server-samples/ é bastante conhecida no mundo de dados Microsoft.\n\nVamos fazer algumas atividades com o SparkSQL, como desafios."
    },
    {
      "metadata": {},
      "cell_type": "markdown",
      "source": "### Carregando o PySpark"
    },
    {
      "metadata": {
        "trusted": true
      },
      "cell_type": "code",
      "source": "# !pip install pyspark",
      "execution_count": null,
      "outputs": []
    },
    {
      "metadata": {
        "trusted": true
      },
      "cell_type": "code",
      "source": "from pyspark import SparkContext, SparkConf\nfrom pyspark.sql import SQLContext",
      "execution_count": 1,
      "outputs": []
    },
    {
      "metadata": {
        "trusted": true
      },
      "cell_type": "code",
      "source": "conf = SparkConf().setMaster('local').setAppName('PySpark SQL')\nsc = SparkContext.getOrCreate(conf = conf)",
      "execution_count": 2,
      "outputs": []
    },
    {
      "metadata": {},
      "cell_type": "markdown",
      "source": "Criação do contexto do objeto SparkSQL que será responsável por executar as *query* do Spark com comandos SQL."
    },
    {
      "metadata": {
        "trusted": true
      },
      "cell_type": "code",
      "source": "sql = SQLContext(sc)",
      "execution_count": 3,
      "outputs": []
    },
    {
      "metadata": {
        "trusted": true
      },
      "cell_type": "code",
      "source": "sql",
      "execution_count": 4,
      "outputs": [
        {
          "output_type": "execute_result",
          "execution_count": 4,
          "data": {
            "text/plain": "<pyspark.sql.context.SQLContext at 0x7f6f8dfb49b0>"
          },
          "metadata": {}
        }
      ]
    },
    {
      "metadata": {},
      "cell_type": "markdown",
      "source": "Aqui é a criação de um Dataframe com os dados que estamos lendo do arquivo CSV. Usamos o contexto do SparkSQL, mas ainda sim é um Dataframe"
    },
    {
      "metadata": {
        "trusted": true
      },
      "cell_type": "code",
      "source": "FactInternetSales_Spark = sql.read.format(\"csv\").options(header='true').load('AdventureWorksDW/FactInternetSales.csv')\nDimSalesTerritory_Spark = sql.read.format(\"csv\").options(header='true').load('AdventureWorksDW/DimSalesTerritory.csv')\nDimProductSubcategory_Spark = sql.read.format(\"csv\").options(header='true').load('AdventureWorksDW/DimProductSubcategory.csv')\nDimProductCategory_Spark = sql.read.format(\"csv\").options(header='true').load('AdventureWorksDW/DimProductCategory.csv')\nDimProduct_Spark = sql.read.format(\"csv\").options(header='true').load('AdventureWorksDW/DimProduct.csv')\nDimCustomer_Spark = sql.read.format(\"csv\").options(header='true').load('AdventureWorksDW/DimCustomer.csv')",
      "execution_count": 5,
      "outputs": []
    },
    {
      "metadata": {
        "trusted": true
      },
      "cell_type": "code",
      "source": "DimSalesTerritory_Spark.printSchema()",
      "execution_count": 35,
      "outputs": [
        {
          "output_type": "stream",
          "text": "root\n |-- SalesTerritoryKey: string (nullable = true)\n |-- SalesTerritoryAlternateKey: string (nullable = true)\n |-- SalesTerritoryRegion]: string (nullable = true)\n |-- SalesTerritoryCountry: string (nullable = true)\n |-- SalesTerritoryGroup: string (nullable = true)\n |-- SalesTerritoryImage: string (nullable = true)\n\n",
          "name": "stdout"
        }
      ]
    },
    {
      "metadata": {
        "trusted": true
      },
      "cell_type": "code",
      "source": "FactInternetSales_Spark.select([\"ProductKey\",\"TotalProductCost\"]).show(10)",
      "execution_count": 25,
      "outputs": [
        {
          "output_type": "stream",
          "text": "+----------+----------------+\n|ProductKey|TotalProductCost|\n+----------+----------------+\n|       310|       2171.2942|\n|       346|       1912.1544|\n|       346|       1912.1544|\n|       336|        413.1463|\n|       346|       1912.1544|\n|       311|       2171.2942|\n|       310|       2171.2942|\n|       351|       1898.0944|\n|       344|       1912.1544|\n|       312|       2171.2942|\n+----------+----------------+\nonly showing top 10 rows\n\n",
          "name": "stdout"
        }
      ]
    },
    {
      "metadata": {},
      "cell_type": "markdown",
      "source": "A partir do dataframe **dadosSpark**, vamos registrar uma tabela temporária do SQL, chamada **Carros**"
    },
    {
      "metadata": {
        "trusted": true
      },
      "cell_type": "code",
      "source": "FactInternetSales_Spark.registerTempTable(\"FactInternetSales\")\nDimSalesTerritory_Spark.registerTempTable(\"DimSalesTerritory\")\nDimProductSubcategory_Spark.registerTempTable(\"DimProductSubcategory\")\nDimProductCategory_Spark.registerTempTable(\"DimProductCategory\")\nDimProduct_Spark.registerTempTable(\"DimProduct\")\nDimCustomer_Spark.registerTempTable(\"DimCustomer\")",
      "execution_count": 8,
      "outputs": []
    },
    {
      "metadata": {},
      "cell_type": "markdown",
      "source": "A partir do motor do **SparkSQL** vamos escrever uma *query* em SQL que retornará todas as linhas e colunas da nossa base"
    },
    {
      "metadata": {
        "trusted": true
      },
      "cell_type": "code",
      "source": "sql.sql(\"SELECT sub.*, cat.EnglishProductCategoryName FROM \\\n            DimProductSubcategory as SUB inner join \\\n            DimProductCategory Cat \\\n                on SUB.ProductCategoryKey = Cat.ProductCategoryKey \\\n            where Cat.ProductCategoryKey = 2\").show()",
      "execution_count": 13,
      "outputs": [
        {
          "output_type": "stream",
          "text": "+---------------------+------------------------------+-----------------------------+-----------------------------+----------------------------+------------------+--------------------------+\n|ProductSubcategoryKey|ProductSubcategoryAlternateKey|EnglishProductSubcategoryName|SpanishProductSubcategoryName|FrenchProductSubcategoryName|ProductCategoryKey|EnglishProductCategoryName|\n+---------------------+------------------------------+-----------------------------+-----------------------------+----------------------------+------------------+--------------------------+\n|                    4|                             4|                   Handlebars|                        Barra|               Barre d'appui|                 2|                Components|\n|                    5|                             5|              Bottom Brackets|              Eje de pedalier|             Axe de p�dalier|                 2|                Components|\n|                    6|                             6|                       Brakes|                       Frenos|                      Freins|                 2|                Components|\n|                    7|                             7|                       Chains|                       Cadena|                      Cha�ne|                 2|                Components|\n|                    8|                             8|                    Cranksets|                       Bielas|                    P�dalier|                 2|                Components|\n|                    9|                             9|                  Derailleurs|                    Desviador|                  D�railleur|                 2|                Components|\n|                   10|                            10|                        Forks|                    Horquilla|                     Fourche|                 2|                Components|\n|                   11|                            11|                     Headsets|                    Direcci�n|            Jeu de direction|                 2|                Components|\n|                   12|                            12|              Mountain Frames|            Cuadro de monta�a|                Cadre de VTT|                 2|                Components|\n|                   13|                            13|                       Pedals|                        Pedal|                      P�dale|                 2|                Components|\n|                   14|                            14|                  Road Frames|          Cuadro de carretera|        Cadre de v�lo de ...|                 2|                Components|\n|                   15|                            15|                      Saddles|                       Sill�n|                       Selle|                 2|                Components|\n|                   16|                            16|               Touring Frames|              Cuadro de paseo|        Cadre de v�lo de ...|                 2|                Components|\n|                   17|                            17|                       Wheels|                        Rueda|                        Roue|                 2|                Components|\n+---------------------+------------------------------+-----------------------------+-----------------------------+----------------------------+------------------+--------------------------+\n\n",
          "name": "stdout"
        }
      ]
    },
    {
      "metadata": {
        "trusted": true
      },
      "cell_type": "code",
      "source": "sql.sql(\"select * from DimProductCategory\").show()",
      "execution_count": 14,
      "outputs": [
        {
          "output_type": "stream",
          "text": "+------------------+---------------------------+--------------------------+--------------------------+-------------------------+\n|ProductCategoryKey|ProductCategoryAlternateKey|EnglishProductCategoryName|SpanishProductCategoryName|FrenchProductCategoryName|\n+------------------+---------------------------+--------------------------+--------------------------+-------------------------+\n|                 1|                          1|                     Bikes|                 Bicicleta|                     V�lo|\n|                 2|                          2|                Components|                Componente|                Composant|\n|                 3|                          3|                  Clothing|                    Prenda|                V�tements|\n|                 4|                          4|               Accessories|                 Accesorio|               Accessoire|\n+------------------+---------------------------+--------------------------+--------------------------+-------------------------+\n\n",
          "name": "stdout"
        }
      ]
    },
    {
      "metadata": {
        "trusted": true
      },
      "cell_type": "code",
      "source": "sql.sql(\"select CatP.EnglishProductCategoryName as Categoria, SalT.SalesTerritoryCountry as Pais, round(sum(FIS.SalesAmount),2) AS TotalVendas from \\\n    FactInternetSales FIS inner join DimProduct AS Prod on FIS.ProductKey = Prod.ProductKey \\\n    inner join DimProductSubcategory AS SubC on Prod.ProductSubcategoryKey = SubC.ProductSubcategoryKey \\\n    inner join DimProductCategory AS CatP on SubC.ProductCategoryKey = CatP.ProductCategoryKey \\\n    inner join DimSalesTerritory AS SalT on FIS.SalesTerritoryKey = SalT.SalesTerritoryKey \\\n    group by CatP.EnglishProductCategoryName, SalT.SalesTerritoryCountry \\\n    order by SalT.SalesTerritoryCountry, CatP.EnglishProductCategoryName\").show(10)",
      "execution_count": 38,
      "outputs": [
        {
          "output_type": "stream",
          "text": "+-----------+---------+-----------+\n|  Categoria|     Pais|TotalVendas|\n+-----------+---------+-----------+\n|Accessories|Australia|  138690.63|\n|      Bikes|Australia|  8852050.0|\n|   Clothing|Australia|   70259.95|\n|Accessories|   Canada|  103377.85|\n|      Bikes|   Canada| 1821302.39|\n|   Clothing|   Canada|   53164.62|\n|Accessories|   France|   63406.78|\n|      Bikes|   France| 2553575.71|\n|   Clothing|   France|   27035.22|\n|Accessories|  Germany|   62232.59|\n+-----------+---------+-----------+\nonly showing top 10 rows\n\n",
          "name": "stdout"
        }
      ]
    },
    {
      "metadata": {
        "trusted": true
      },
      "cell_type": "code",
      "source": "sql.sql(\"\").show()",
      "execution_count": null,
      "outputs": []
    }
  ],
  "metadata": {
    "kernelspec": {
      "name": "python36",
      "display_name": "Python 3.6",
      "language": "python"
    },
    "language_info": {
      "mimetype": "text/x-python",
      "nbconvert_exporter": "python",
      "name": "python",
      "pygments_lexer": "ipython3",
      "version": "3.6.6",
      "file_extension": ".py",
      "codemirror_mode": {
        "version": 3,
        "name": "ipython"
      }
    }
  },
  "nbformat": 4,
  "nbformat_minor": 2
}