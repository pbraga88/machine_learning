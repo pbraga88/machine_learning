{
  "cells": [
    {
      "metadata": {},
      "cell_type": "markdown",
      "source": "# Dataset AdventureWorksDW"
    },
    {
      "metadata": {},
      "cell_type": "markdown",
      "source": "### Operações SQL simples"
    },
    {
      "metadata": {},
      "cell_type": "markdown",
      "source": "A base **AdventureWorksDW** https://github.com/microsoft/sql-server-samples/ é bastante conhecida no mundo de dados Microsoft.\n\nVamos fazer algumas atividades com o SparkSQL, como desafios."
    },
    {
      "metadata": {},
      "cell_type": "markdown",
      "source": "### Carregando o PySpark"
    },
    {
      "metadata": {
        "trusted": true
      },
      "cell_type": "code",
      "source": "# !pip install pyspark",
      "execution_count": null,
      "outputs": []
    },
    {
      "metadata": {
        "trusted": true
      },
      "cell_type": "code",
      "source": "from pyspark import SparkContext, SparkConf\nfrom pyspark.sql import SQLContext",
      "execution_count": 1,
      "outputs": []
    },
    {
      "metadata": {
        "trusted": true
      },
      "cell_type": "code",
      "source": "conf = SparkConf().setMaster('local').setAppName('PySpark SQL')\nsc = SparkContext.getOrCreate(conf = conf)",
      "execution_count": 2,
      "outputs": []
    },
    {
      "metadata": {},
      "cell_type": "markdown",
      "source": "Criação do contexto do objeto SparkSQL que será responsável por executar as *query* do Spark com comandos SQL."
    },
    {
      "metadata": {
        "trusted": true
      },
      "cell_type": "code",
      "source": "sql = SQLContext(sc)",
      "execution_count": 3,
      "outputs": []
    },
    {
      "metadata": {
        "trusted": true
      },
      "cell_type": "code",
      "source": "sql",
      "execution_count": 4,
      "outputs": [
        {
          "output_type": "execute_result",
          "execution_count": 4,
          "data": {
            "text/plain": "<pyspark.sql.context.SQLContext at 0x7f84a2173b00>"
          },
          "metadata": {}
        }
      ]
    },
    {
      "metadata": {},
      "cell_type": "markdown",
      "source": "Aqui é a criação de um Dataframe com os dados que estamos lendo do arquivo CSV. Usamos o contexto do SparkSQL, mas ainda sim é um Dataframe"
    },
    {
      "metadata": {
        "trusted": true
      },
      "cell_type": "code",
      "source": "FactInternetSales_Spark = sql.read.format(\"csv\").options(header='true').load('AdventureWorksDW/FactInternetSales.csv')\nDimSalesTerritory_Spark = sql.read.format(\"csv\").options(header='true').load('AdventureWorksDW/DimSalesTerritory.csv')\nDimProductSubcategory_Spark = sql.read.format(\"csv\").options(header='true').load('AdventureWorksDW/DimProductSubcategory.csv')\nDimProductCategory_Spark = sql.read.format(\"csv\").options(header='true').load('AdventureWorksDW/DimProductCategory.csv')\nDimProduct_Spark = sql.read.format(\"csv\").options(header='true').load('AdventureWorksDW/DimProduct.csv')\nDimCustomer_Spark = sql.read.format(\"csv\").options(header='true').load('AdventureWorksDW/DimCustomer.csv')",
      "execution_count": 14,
      "outputs": []
    },
    {
      "metadata": {
        "trusted": true
      },
      "cell_type": "code",
      "source": "FactInternetSales_Spark.printSchema()",
      "execution_count": 9,
      "outputs": [
        {
          "output_type": "stream",
          "text": "root\n |-- ProductKey: string (nullable = true)\n |-- OrderDateKey: string (nullable = true)\n |-- DueDateKey: string (nullable = true)\n |-- ShipDateKey: string (nullable = true)\n |-- CustomerKey: string (nullable = true)\n |-- PromotionKey: string (nullable = true)\n |-- CurrencyKey: string (nullable = true)\n |-- SalesTerritoryKey: string (nullable = true)\n |-- SalesOrderNumber: string (nullable = true)\n |-- SalesOrderLineNumber: string (nullable = true)\n |-- RevisionNumber: string (nullable = true)\n |-- OrderQuantity: string (nullable = true)\n |-- UnitPrice: string (nullable = true)\n |-- ExtendedAmount: string (nullable = true)\n |-- UnitPriceDiscountPct: string (nullable = true)\n |-- DiscountAmount: string (nullable = true)\n |-- ProductStandardCost: string (nullable = true)\n |-- TotalProductCost: string (nullable = true)\n |-- SalesAmount: string (nullable = true)\n |-- TaxAmt: string (nullable = true)\n |-- Freight: string (nullable = true)\n |-- CarrierTrackingNumber: string (nullable = true)\n |-- CustomerPONumber: string (nullable = true)\n |-- OrderDate: string (nullable = true)\n |-- DueDate: string (nullable = true)\n |-- ShipDate: string (nullable = true)\n\n",
          "name": "stdout"
        }
      ]
    },
    {
      "metadata": {
        "trusted": true
      },
      "cell_type": "code",
      "source": "FactInternetSales_Spark.select([\"ProductKey\",\"TotalProductCost\"]).show(10)",
      "execution_count": 15,
      "outputs": [
        {
          "output_type": "stream",
          "text": "+----------+----------------+\n|ProductKey|TotalProductCost|\n+----------+----------------+\n|       310|       2171.2942|\n|       346|       1912.1544|\n|       346|       1912.1544|\n|       336|        413.1463|\n|       346|       1912.1544|\n|       311|       2171.2942|\n|       310|       2171.2942|\n|       351|       1898.0944|\n|       344|       1912.1544|\n|       312|       2171.2942|\n+----------+----------------+\nonly showing top 10 rows\n\n",
          "name": "stdout"
        }
      ]
    },
    {
      "metadata": {},
      "cell_type": "markdown",
      "source": "A partir do dataframe **dadosSpark**, vamos registrar uma tabela temporária do SQL, chamada **Carros**"
    },
    {
      "metadata": {
        "trusted": true
      },
      "cell_type": "code",
      "source": "FactInternetSales_Spark.registerTempTable(\"FactInternetSales\")\nDimSalesTerritory_Spark.registerTempTable(\"DimSalesTerritory\")\nDimProductSubcategory_Spark.registerTempTable(\"DimProductSubcategory\")\nDimProductCategory_Spark.registerTempTable(\"DimProductCategory\")\nDimProduct_Spark.registerTempTable(\"DimProduct\")\nDimCustomer_Spark.registerTempTable(\"DimCustomer\")",
      "execution_count": 16,
      "outputs": []
    },
    {
      "metadata": {},
      "cell_type": "markdown",
      "source": "A partir do motor do **SparkSQL** vamos escrever uma *query* em SQL que retornará todas as linhas e colunas da nossa base"
    },
    {
      "metadata": {
        "trusted": true
      },
      "cell_type": "code",
      "source": "sql.sql(\"SELECT sub.* FROM \\\n            DimProductSubcategory as SUB inner join \\\n            DimProductCategory Cat \\\n                on SUB.ProductCategoryKey = Cat.ProductCategoryKey \\\n            where Cat.ProductCategoryKey = 2\").show()",
      "execution_count": 18,
      "outputs": [
        {
          "output_type": "stream",
          "text": "+---------------------+------------------------------+-----------------------------+-----------------------------+----------------------------+------------------+\n|ProductSubcategoryKey|ProductSubcategoryAlternateKey|EnglishProductSubcategoryName|SpanishProductSubcategoryName|FrenchProductSubcategoryName|ProductCategoryKey|\n+---------------------+------------------------------+-----------------------------+-----------------------------+----------------------------+------------------+\n|                    4|                             4|                   Handlebars|                        Barra|               Barre d'appui|                 2|\n|                    5|                             5|              Bottom Brackets|              Eje de pedalier|             Axe de p�dalier|                 2|\n|                    6|                             6|                       Brakes|                       Frenos|                      Freins|                 2|\n|                    7|                             7|                       Chains|                       Cadena|                      Cha�ne|                 2|\n|                    8|                             8|                    Cranksets|                       Bielas|                    P�dalier|                 2|\n|                    9|                             9|                  Derailleurs|                    Desviador|                  D�railleur|                 2|\n|                   10|                            10|                        Forks|                    Horquilla|                     Fourche|                 2|\n|                   11|                            11|                     Headsets|                    Direcci�n|            Jeu de direction|                 2|\n|                   12|                            12|              Mountain Frames|            Cuadro de monta�a|                Cadre de VTT|                 2|\n|                   13|                            13|                       Pedals|                        Pedal|                      P�dale|                 2|\n|                   14|                            14|                  Road Frames|          Cuadro de carretera|        Cadre de v�lo de ...|                 2|\n|                   15|                            15|                      Saddles|                       Sill�n|                       Selle|                 2|\n|                   16|                            16|               Touring Frames|              Cuadro de paseo|        Cadre de v�lo de ...|                 2|\n|                   17|                            17|                       Wheels|                        Rueda|                        Roue|                 2|\n+---------------------+------------------------------+-----------------------------+-----------------------------+----------------------------+------------------+\n\n",
          "name": "stdout"
        }
      ]
    },
    {
      "metadata": {
        "trusted": true
      },
      "cell_type": "code",
      "source": "sql.sql(\"\").show()",
      "execution_count": null,
      "outputs": []
    },
    {
      "metadata": {
        "trusted": true
      },
      "cell_type": "code",
      "source": "sql.sql(\"\").show()",
      "execution_count": null,
      "outputs": []
    },
    {
      "metadata": {
        "trusted": true
      },
      "cell_type": "code",
      "source": "sql.sql(\"\").show()",
      "execution_count": null,
      "outputs": []
    },
    {
      "metadata": {
        "trusted": true
      },
      "cell_type": "code",
      "source": "sql.sql(\"\").show()",
      "execution_count": null,
      "outputs": []
    }
  ],
  "metadata": {
    "kernelspec": {
      "name": "python36",
      "display_name": "Python 3.6",
      "language": "python"
    },
    "language_info": {
      "mimetype": "text/x-python",
      "nbconvert_exporter": "python",
      "name": "python",
      "pygments_lexer": "ipython3",
      "version": "3.6.6",
      "file_extension": ".py",
      "codemirror_mode": {
        "version": 3,
        "name": "ipython"
      }
    }
  },
  "nbformat": 4,
  "nbformat_minor": 2
}