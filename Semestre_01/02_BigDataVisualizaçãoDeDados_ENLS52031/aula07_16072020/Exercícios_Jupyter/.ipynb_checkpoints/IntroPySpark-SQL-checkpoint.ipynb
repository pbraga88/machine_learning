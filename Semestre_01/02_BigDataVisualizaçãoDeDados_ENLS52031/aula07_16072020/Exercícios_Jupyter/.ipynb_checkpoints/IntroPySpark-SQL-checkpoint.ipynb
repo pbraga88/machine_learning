{
  "cells": [
    {
      "metadata": {},
      "cell_type": "markdown",
      "source": "# Dataset MTCars"
    },
    {
      "metadata": {},
      "cell_type": "markdown",
      "source": "### Operações SQL simples"
    },
    {
      "metadata": {},
      "cell_type": "markdown",
      "source": "A base **MTCars** https://stat.ethz.ch/R-manual/R-devel/library/datasets/html/mtcars.html já é conhecida, e é bastante utilizada para exemplos de Machine Learning.\n\nMesmo sendo uma base de dados com 32 linhas e 11 colunas, servirá bem para nosso exemplo de uso de consultas SQL a partir do Spark.\n\nVamos fazer algumas atividades com o SparkSQL, siga os exemplos."
    },
    {
      "metadata": {},
      "cell_type": "markdown",
      "source": "### Carregando o PySpark"
    },
    {
      "metadata": {
        "trusted": true
      },
      "cell_type": "code",
      "source": "# !pip install pyspark",
      "execution_count": null,
      "outputs": []
    },
    {
      "metadata": {
        "trusted": true
      },
      "cell_type": "code",
      "source": "from pyspark import SparkContext, SparkConf\nfrom pyspark.sql import SQLContext",
      "execution_count": null,
      "outputs": []
    },
    {
      "metadata": {
        "trusted": true
      },
      "cell_type": "code",
      "source": "conf = SparkConf().setMaster('local').setAppName('PySpark SQL')\nsc = SparkContext.getOrCreate(conf = conf)",
      "execution_count": null,
      "outputs": []
    },
    {
      "metadata": {},
      "cell_type": "markdown",
      "source": "Criação do contexto do objeto SparkSQL que será responsável por executar as *query* do Spark com comandos SQL."
    },
    {
      "metadata": {
        "trusted": true
      },
      "cell_type": "code",
      "source": "sql = SQLContext(sc)",
      "execution_count": null,
      "outputs": []
    },
    {
      "metadata": {
        "trusted": true
      },
      "cell_type": "code",
      "source": "sql",
      "execution_count": null,
      "outputs": []
    },
    {
      "metadata": {},
      "cell_type": "markdown",
      "source": "Aqui é a criação de um Dataframe com os dados que estamos lendo do arquivo CSV. Usamos o contexto do SparkSQL, mas ainda sim é um Dataframe"
    },
    {
      "metadata": {
        "trusted": true
      },
      "cell_type": "code",
      "source": "dadosSpark = sql.read.format(\"csv\").options(header='true').load('mtcars.csv')",
      "execution_count": null,
      "outputs": []
    },
    {
      "metadata": {
        "trusted": true
      },
      "cell_type": "code",
      "source": "dadosSpark.take(5)",
      "execution_count": null,
      "outputs": []
    },
    {
      "metadata": {
        "trusted": true
      },
      "cell_type": "code",
      "source": "dadosSpark.printSchema()",
      "execution_count": null,
      "outputs": []
    },
    {
      "metadata": {
        "trusted": true
      },
      "cell_type": "code",
      "source": "dadosSpark.select(\"model\").show()",
      "execution_count": null,
      "outputs": []
    },
    {
      "metadata": {},
      "cell_type": "markdown",
      "source": "A partir do dataframe **dadosSpark**, vamos registrar uma tabela temporária do SQL, chamada **Carros**"
    },
    {
      "metadata": {
        "trusted": true
      },
      "cell_type": "code",
      "source": "dadosSpark.registerTempTable(\"carros\")",
      "execution_count": null,
      "outputs": []
    },
    {
      "metadata": {},
      "cell_type": "markdown",
      "source": "A partir do motor do **SparkSQL** vamos escrever uma *query* em SQL que retornará todas as linhas e colunas da nossa base"
    },
    {
      "metadata": {
        "trusted": true
      },
      "cell_type": "code",
      "source": "sql.sql(\"select count(0) from carros\").show(1)",
      "execution_count": null,
      "outputs": []
    },
    {
      "metadata": {
        "trusted": true
      },
      "cell_type": "code",
      "source": "sql.sql(\"select * from carros\").show(32)",
      "execution_count": null,
      "outputs": []
    },
    {
      "metadata": {
        "trusted": true
      },
      "cell_type": "code",
      "source": "sql.sql(\"select cyl AS Cilindros, \\\n                round(avg(wt),2) AS PesoMedio \\\n         from carros group by cyl \").show()",
      "execution_count": null,
      "outputs": []
    },
    {
      "metadata": {
        "trusted": true
      },
      "cell_type": "code",
      "source": "sql.sql(\"select model from carros order by qsec desc\").show()",
      "execution_count": null,
      "outputs": []
    },
    {
      "metadata": {},
      "cell_type": "markdown",
      "source": "E é possível converter em Dataframe e depois gerar visualizações com os dados"
    },
    {
      "metadata": {
        "trusted": true
      },
      "cell_type": "code",
      "source": "import pandas as pd\nimport matplotlib.pyplot as plt",
      "execution_count": null,
      "outputs": []
    },
    {
      "metadata": {
        "trusted": true,
        "scrolled": true
      },
      "cell_type": "code",
      "source": "dados = sql.sql(\"select int(gear), float(wt), float(mpg) from carros\")\ndf = dados.toPandas() \ndf.info()",
      "execution_count": null,
      "outputs": []
    },
    {
      "metadata": {
        "trusted": true
      },
      "cell_type": "code",
      "source": "plt.figure(figsize=(15,8))\n\ncores = {3:'tab:cyan',4:'tab:purple',5:'tab:green'}\nmarcadores = {3:'^',4:'s',5:'D'}\n\nfor cambio in df['gear'].unique():\n    tmp = df[df['gear'] == cambio]\n    plt.scatter(tmp['wt'], tmp['mpg'], color=cores[cambio], marker=marcadores[cambio], s=100)\n\nplt.title(\"Motor Trend car Road Test\")\nplt.suptitle(\"Dados de 1974  Motor Trend US Magazine\")\nplt.xlabel(\"Peso do Carro\")\nplt.ylabel( \"Milhas por Galão\")",
      "execution_count": null,
      "outputs": []
    }
  ],
  "metadata": {
    "kernelspec": {
      "name": "python36",
      "display_name": "Python 3.6",
      "language": "python"
    },
    "language_info": {
      "mimetype": "text/x-python",
      "nbconvert_exporter": "python",
      "name": "python",
      "pygments_lexer": "ipython3",
      "version": "3.6.6",
      "file_extension": ".py",
      "codemirror_mode": {
        "version": 3,
        "name": "ipython"
      }
    }
  },
  "nbformat": 4,
  "nbformat_minor": 2
}