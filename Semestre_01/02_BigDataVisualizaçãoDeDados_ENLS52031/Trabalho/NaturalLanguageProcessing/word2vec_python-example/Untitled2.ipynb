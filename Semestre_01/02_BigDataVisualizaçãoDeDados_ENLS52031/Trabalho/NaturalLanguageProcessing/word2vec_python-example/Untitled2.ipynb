{
 "cells": [
  {
   "cell_type": "code",
   "execution_count": 34,
   "metadata": {},
   "outputs": [],
   "source": [
    "import re"
   ]
  },
  {
   "cell_type": "code",
   "execution_count": 6,
   "metadata": {},
   "outputs": [
    {
     "name": "stdout",
     "output_type": "stream",
     "text": [
      "00:06:13 \tuser.info\n"
     ]
    }
   ],
   "source": [
    "log = [\"Jan 1 00:06:13 root user.info mounting ext2 file system\\\n",
    "       using the ext4 subsystemmounting ext2 file system using\\\n",
    "       the ext4 subsystem\"]\n",
    "msg_split = [row.split(\" \") for row in log]\n",
    "date = msg_split[0][2]\n",
    "message = msg_split[0][4]\n",
    "print(date, '\\t', end='')\n",
    "print(message)"
   ]
  },
  {
   "cell_type": "code",
   "execution_count": 18,
   "metadata": {},
   "outputs": [
    {
     "name": "stdout",
     "output_type": "stream",
     "text": [
      "00 \t[6]\n"
     ]
    }
   ],
   "source": [
    "dicio = {'emer': [0], 'aler': [1], 'crit': [2], 'erro': [3],\n",
    "         'warn': [4], 'noti': [5], 'info': [6], 'debu': [7],}  \n",
    "msg=dicio[message[5:]]\n",
    "print(date[:2], '\\t', end='')\n",
    "print(msg)"
   ]
  },
  {
   "cell_type": "code",
   "execution_count": null,
   "metadata": {},
   "outputs": [],
   "source": []
  }
 ],
 "metadata": {
  "kernelspec": {
   "display_name": "Python 3",
   "language": "python",
   "name": "python3"
  },
  "language_info": {
   "codemirror_mode": {
    "name": "ipython",
    "version": 3
   },
   "file_extension": ".py",
   "mimetype": "text/x-python",
   "name": "python",
   "nbconvert_exporter": "python",
   "pygments_lexer": "ipython3",
   "version": "3.6.9"
  }
 },
 "nbformat": 4,
 "nbformat_minor": 4
}
