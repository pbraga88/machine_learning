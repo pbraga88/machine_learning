{
  "cells": [
    {
      "metadata": {
        "trusted": true
      },
      "cell_type": "code",
      "source": "%%time\n#!conda install -y -c conda-forge spacy\n!pip install spacy\n!python -m spacy download en",
      "execution_count": 2,
      "outputs": [
        {
          "output_type": "stream",
          "text": "\u001b[33mWARNING: Retrying (Retry(total=4, connect=None, read=None, redirect=None, status=None)) after connection broken by 'ConnectTimeoutError(<pip._vendor.urllib3.connection.VerifiedHTTPSConnection object at 0x7f2906cca6d8>, 'Connection to webproxy timed out. (connect timeout=15)')': /simple/spacy/\u001b[0m\n\u001b[33mWARNING: Retrying (Retry(total=3, connect=None, read=None, redirect=None, status=None)) after connection broken by 'ConnectTimeoutError(<pip._vendor.urllib3.connection.VerifiedHTTPSConnection object at 0x7f2906cca5f8>, 'Connection to webproxy timed out. (connect timeout=15)')': /simple/spacy/\u001b[0m\n\u001b[33mWARNING: Retrying (Retry(total=2, connect=None, read=None, redirect=None, status=None)) after connection broken by 'ConnectTimeoutError(<pip._vendor.urllib3.connection.VerifiedHTTPSConnection object at 0x7f2906cca4a8>, 'Connection to webproxy timed out. (connect timeout=15)')': /simple/spacy/\u001b[0m\n\u001b[33mWARNING: Retrying (Retry(total=1, connect=None, read=None, redirect=None, status=None)) after connection broken by 'ConnectTimeoutError(<pip._vendor.urllib3.connection.VerifiedHTTPSConnection object at 0x7f2906cca208>, 'Connection to webproxy timed out. (connect timeout=15)')': /simple/spacy/\u001b[0m\n\u001b[33mWARNING: Retrying (Retry(total=0, connect=None, read=None, redirect=None, status=None)) after connection broken by 'ConnectTimeoutError(<pip._vendor.urllib3.connection.VerifiedHTTPSConnection object at 0x7f2906cca278>, 'Connection to webproxy timed out. (connect timeout=15)')': /simple/spacy/\u001b[0m\n\u001b[31mERROR: Could not find a version that satisfies the requirement spacy (from versions: none)\u001b[0m\n\u001b[31mERROR: No matching distribution found for spacy\u001b[0m\n/home/nbuser/anaconda3_501/bin/python: No module named spacy\nCPU times: user 2.6 s, sys: 1.1 s, total: 3.7 s\nWall time: 1min 44s\n",
          "name": "stdout"
        }
      ]
    }
  ],
  "metadata": {
    "kernelspec": {
      "name": "python36",
      "display_name": "Python 3.6",
      "language": "python"
    },
    "language_info": {
      "mimetype": "text/x-python",
      "nbconvert_exporter": "python",
      "name": "python",
      "pygments_lexer": "ipython3",
      "version": "3.6.6",
      "file_extension": ".py",
      "codemirror_mode": {
        "version": 3,
        "name": "ipython"
      }
    }
  },
  "nbformat": 4,
  "nbformat_minor": 2
}