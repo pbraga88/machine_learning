{
 "cells": [
  {
   "cell_type": "code",
   "execution_count": 97,
   "metadata": {},
   "outputs": [
    {
     "data": {
      "text/html": [
       "<style  type=\"text/css\" >\n",
       "    #T_a57decb8_c5d5_11ea_8c25_a402b90142a3row0_col0 {\n",
       "            background-color:  #023858;\n",
       "            color:  #f1f1f1;\n",
       "        }    #T_a57decb8_c5d5_11ea_8c25_a402b90142a3row0_col1 {\n",
       "            background-color:  #d1d2e6;\n",
       "            color:  #000000;\n",
       "        }    #T_a57decb8_c5d5_11ea_8c25_a402b90142a3row0_col2 {\n",
       "            background-color:  #b5c4df;\n",
       "            color:  #000000;\n",
       "        }    #T_a57decb8_c5d5_11ea_8c25_a402b90142a3row0_col3 {\n",
       "            background-color:  #c1cae2;\n",
       "            color:  #000000;\n",
       "        }    #T_a57decb8_c5d5_11ea_8c25_a402b90142a3row0_col4 {\n",
       "            background-color:  #dddbec;\n",
       "            color:  #000000;\n",
       "        }    #T_a57decb8_c5d5_11ea_8c25_a402b90142a3row0_col5 {\n",
       "            background-color:  #e5e1ef;\n",
       "            color:  #000000;\n",
       "        }    #T_a57decb8_c5d5_11ea_8c25_a402b90142a3row0_col6 {\n",
       "            background-color:  #abbfdc;\n",
       "            color:  #000000;\n",
       "        }    #T_a57decb8_c5d5_11ea_8c25_a402b90142a3row1_col0 {\n",
       "            background-color:  #f8f1f8;\n",
       "            color:  #000000;\n",
       "        }    #T_a57decb8_c5d5_11ea_8c25_a402b90142a3row1_col1 {\n",
       "            background-color:  #023858;\n",
       "            color:  #f1f1f1;\n",
       "        }    #T_a57decb8_c5d5_11ea_8c25_a402b90142a3row1_col2 {\n",
       "            background-color:  #eae6f1;\n",
       "            color:  #000000;\n",
       "        }    #T_a57decb8_c5d5_11ea_8c25_a402b90142a3row1_col3 {\n",
       "            background-color:  #d9d8ea;\n",
       "            color:  #000000;\n",
       "        }    #T_a57decb8_c5d5_11ea_8c25_a402b90142a3row1_col4 {\n",
       "            background-color:  #d9d8ea;\n",
       "            color:  #000000;\n",
       "        }    #T_a57decb8_c5d5_11ea_8c25_a402b90142a3row1_col5 {\n",
       "            background-color:  #d5d5e8;\n",
       "            color:  #000000;\n",
       "        }    #T_a57decb8_c5d5_11ea_8c25_a402b90142a3row1_col6 {\n",
       "            background-color:  #69a5cc;\n",
       "            color:  #000000;\n",
       "        }    #T_a57decb8_c5d5_11ea_8c25_a402b90142a3row2_col0 {\n",
       "            background-color:  #fcf4fa;\n",
       "            color:  #000000;\n",
       "        }    #T_a57decb8_c5d5_11ea_8c25_a402b90142a3row2_col1 {\n",
       "            background-color:  #fff7fb;\n",
       "            color:  #000000;\n",
       "        }    #T_a57decb8_c5d5_11ea_8c25_a402b90142a3row2_col2 {\n",
       "            background-color:  #023858;\n",
       "            color:  #f1f1f1;\n",
       "        }    #T_a57decb8_c5d5_11ea_8c25_a402b90142a3row2_col3 {\n",
       "            background-color:  #fff7fb;\n",
       "            color:  #000000;\n",
       "        }    #T_a57decb8_c5d5_11ea_8c25_a402b90142a3row2_col4 {\n",
       "            background-color:  #c0c9e2;\n",
       "            color:  #000000;\n",
       "        }    #T_a57decb8_c5d5_11ea_8c25_a402b90142a3row2_col5 {\n",
       "            background-color:  #e1dfed;\n",
       "            color:  #000000;\n",
       "        }    #T_a57decb8_c5d5_11ea_8c25_a402b90142a3row2_col6 {\n",
       "            background-color:  #fff7fb;\n",
       "            color:  #000000;\n",
       "        }    #T_a57decb8_c5d5_11ea_8c25_a402b90142a3row3_col0 {\n",
       "            background-color:  #f2ecf5;\n",
       "            color:  #000000;\n",
       "        }    #T_a57decb8_c5d5_11ea_8c25_a402b90142a3row3_col1 {\n",
       "            background-color:  #dddbec;\n",
       "            color:  #000000;\n",
       "        }    #T_a57decb8_c5d5_11ea_8c25_a402b90142a3row3_col2 {\n",
       "            background-color:  #eee8f3;\n",
       "            color:  #000000;\n",
       "        }    #T_a57decb8_c5d5_11ea_8c25_a402b90142a3row3_col3 {\n",
       "            background-color:  #023858;\n",
       "            color:  #f1f1f1;\n",
       "        }    #T_a57decb8_c5d5_11ea_8c25_a402b90142a3row3_col4 {\n",
       "            background-color:  #fff7fb;\n",
       "            color:  #000000;\n",
       "        }    #T_a57decb8_c5d5_11ea_8c25_a402b90142a3row3_col5 {\n",
       "            background-color:  #fff7fb;\n",
       "            color:  #000000;\n",
       "        }    #T_a57decb8_c5d5_11ea_8c25_a402b90142a3row3_col6 {\n",
       "            background-color:  #96b6d7;\n",
       "            color:  #000000;\n",
       "        }    #T_a57decb8_c5d5_11ea_8c25_a402b90142a3row4_col0 {\n",
       "            background-color:  #fff7fb;\n",
       "            color:  #000000;\n",
       "        }    #T_a57decb8_c5d5_11ea_8c25_a402b90142a3row4_col1 {\n",
       "            background-color:  #d6d6e9;\n",
       "            color:  #000000;\n",
       "        }    #T_a57decb8_c5d5_11ea_8c25_a402b90142a3row4_col2 {\n",
       "            background-color:  #99b8d8;\n",
       "            color:  #000000;\n",
       "        }    #T_a57decb8_c5d5_11ea_8c25_a402b90142a3row4_col3 {\n",
       "            background-color:  #f8f1f8;\n",
       "            color:  #000000;\n",
       "        }    #T_a57decb8_c5d5_11ea_8c25_a402b90142a3row4_col4 {\n",
       "            background-color:  #023858;\n",
       "            color:  #f1f1f1;\n",
       "        }    #T_a57decb8_c5d5_11ea_8c25_a402b90142a3row4_col5 {\n",
       "            background-color:  #6fa7ce;\n",
       "            color:  #000000;\n",
       "        }    #T_a57decb8_c5d5_11ea_8c25_a402b90142a3row4_col6 {\n",
       "            background-color:  #84b0d3;\n",
       "            color:  #000000;\n",
       "        }    #T_a57decb8_c5d5_11ea_8c25_a402b90142a3row5_col0 {\n",
       "            background-color:  #f7f0f7;\n",
       "            color:  #000000;\n",
       "        }    #T_a57decb8_c5d5_11ea_8c25_a402b90142a3row5_col1 {\n",
       "            background-color:  #bbc7e0;\n",
       "            color:  #000000;\n",
       "        }    #T_a57decb8_c5d5_11ea_8c25_a402b90142a3row5_col2 {\n",
       "            background-color:  #a9bfdc;\n",
       "            color:  #000000;\n",
       "        }    #T_a57decb8_c5d5_11ea_8c25_a402b90142a3row5_col3 {\n",
       "            background-color:  #ebe6f2;\n",
       "            color:  #000000;\n",
       "        }    #T_a57decb8_c5d5_11ea_8c25_a402b90142a3row5_col4 {\n",
       "            background-color:  #5a9ec9;\n",
       "            color:  #000000;\n",
       "        }    #T_a57decb8_c5d5_11ea_8c25_a402b90142a3row5_col5 {\n",
       "            background-color:  #023858;\n",
       "            color:  #f1f1f1;\n",
       "        }    #T_a57decb8_c5d5_11ea_8c25_a402b90142a3row5_col6 {\n",
       "            background-color:  #76aad0;\n",
       "            color:  #000000;\n",
       "        }    #T_a57decb8_c5d5_11ea_8c25_a402b90142a3row6_col0 {\n",
       "            background-color:  #f5eff6;\n",
       "            color:  #000000;\n",
       "        }    #T_a57decb8_c5d5_11ea_8c25_a402b90142a3row6_col1 {\n",
       "            background-color:  #8bb2d4;\n",
       "            color:  #000000;\n",
       "        }    #T_a57decb8_c5d5_11ea_8c25_a402b90142a3row6_col2 {\n",
       "            background-color:  #fff7fb;\n",
       "            color:  #000000;\n",
       "        }    #T_a57decb8_c5d5_11ea_8c25_a402b90142a3row6_col3 {\n",
       "            background-color:  #b3c3de;\n",
       "            color:  #000000;\n",
       "        }    #T_a57decb8_c5d5_11ea_8c25_a402b90142a3row6_col4 {\n",
       "            background-color:  #acc0dd;\n",
       "            color:  #000000;\n",
       "        }    #T_a57decb8_c5d5_11ea_8c25_a402b90142a3row6_col5 {\n",
       "            background-color:  #b1c2de;\n",
       "            color:  #000000;\n",
       "        }    #T_a57decb8_c5d5_11ea_8c25_a402b90142a3row6_col6 {\n",
       "            background-color:  #023858;\n",
       "            color:  #f1f1f1;\n",
       "        }</style><table id=\"T_a57decb8_c5d5_11ea_8c25_a402b90142a3\" ><thead>    <tr>        <th class=\"blank level0\" ></th>        <th class=\"col_heading level0 col0\" >PassengerId</th>        <th class=\"col_heading level0 col1\" >Survived</th>        <th class=\"col_heading level0 col2\" >Pclass</th>        <th class=\"col_heading level0 col3\" >Age</th>        <th class=\"col_heading level0 col4\" >SibSp</th>        <th class=\"col_heading level0 col5\" >Parch</th>        <th class=\"col_heading level0 col6\" >Fare</th>    </tr></thead><tbody>\n",
       "                <tr>\n",
       "                        <th id=\"T_a57decb8_c5d5_11ea_8c25_a402b90142a3level0_row0\" class=\"row_heading level0 row0\" >PassengerId</th>\n",
       "                        <td id=\"T_a57decb8_c5d5_11ea_8c25_a402b90142a3row0_col0\" class=\"data row0 col0\" >1</td>\n",
       "                        <td id=\"T_a57decb8_c5d5_11ea_8c25_a402b90142a3row0_col1\" class=\"data row0 col1\" >-0.005</td>\n",
       "                        <td id=\"T_a57decb8_c5d5_11ea_8c25_a402b90142a3row0_col2\" class=\"data row0 col2\" >-0.035</td>\n",
       "                        <td id=\"T_a57decb8_c5d5_11ea_8c25_a402b90142a3row0_col3\" class=\"data row0 col3\" >0.037</td>\n",
       "                        <td id=\"T_a57decb8_c5d5_11ea_8c25_a402b90142a3row0_col4\" class=\"data row0 col4\" >-0.058</td>\n",
       "                        <td id=\"T_a57decb8_c5d5_11ea_8c25_a402b90142a3row0_col5\" class=\"data row0 col5\" >-0.0017</td>\n",
       "                        <td id=\"T_a57decb8_c5d5_11ea_8c25_a402b90142a3row0_col6\" class=\"data row0 col6\" >0.013</td>\n",
       "            </tr>\n",
       "            <tr>\n",
       "                        <th id=\"T_a57decb8_c5d5_11ea_8c25_a402b90142a3level0_row1\" class=\"row_heading level0 row1\" >Survived</th>\n",
       "                        <td id=\"T_a57decb8_c5d5_11ea_8c25_a402b90142a3row1_col0\" class=\"data row1 col0\" >-0.005</td>\n",
       "                        <td id=\"T_a57decb8_c5d5_11ea_8c25_a402b90142a3row1_col1\" class=\"data row1 col1\" >1</td>\n",
       "                        <td id=\"T_a57decb8_c5d5_11ea_8c25_a402b90142a3row1_col2\" class=\"data row1 col2\" >-0.34</td>\n",
       "                        <td id=\"T_a57decb8_c5d5_11ea_8c25_a402b90142a3row1_col3\" class=\"data row1 col3\" >-0.077</td>\n",
       "                        <td id=\"T_a57decb8_c5d5_11ea_8c25_a402b90142a3row1_col4\" class=\"data row1 col4\" >-0.035</td>\n",
       "                        <td id=\"T_a57decb8_c5d5_11ea_8c25_a402b90142a3row1_col5\" class=\"data row1 col5\" >0.082</td>\n",
       "                        <td id=\"T_a57decb8_c5d5_11ea_8c25_a402b90142a3row1_col6\" class=\"data row1 col6\" >0.26</td>\n",
       "            </tr>\n",
       "            <tr>\n",
       "                        <th id=\"T_a57decb8_c5d5_11ea_8c25_a402b90142a3level0_row2\" class=\"row_heading level0 row2\" >Pclass</th>\n",
       "                        <td id=\"T_a57decb8_c5d5_11ea_8c25_a402b90142a3row2_col0\" class=\"data row2 col0\" >-0.035</td>\n",
       "                        <td id=\"T_a57decb8_c5d5_11ea_8c25_a402b90142a3row2_col1\" class=\"data row2 col1\" >-0.34</td>\n",
       "                        <td id=\"T_a57decb8_c5d5_11ea_8c25_a402b90142a3row2_col2\" class=\"data row2 col2\" >1</td>\n",
       "                        <td id=\"T_a57decb8_c5d5_11ea_8c25_a402b90142a3row2_col3\" class=\"data row2 col3\" >-0.37</td>\n",
       "                        <td id=\"T_a57decb8_c5d5_11ea_8c25_a402b90142a3row2_col4\" class=\"data row2 col4\" >0.083</td>\n",
       "                        <td id=\"T_a57decb8_c5d5_11ea_8c25_a402b90142a3row2_col5\" class=\"data row2 col5\" >0.018</td>\n",
       "                        <td id=\"T_a57decb8_c5d5_11ea_8c25_a402b90142a3row2_col6\" class=\"data row2 col6\" >-0.55</td>\n",
       "            </tr>\n",
       "            <tr>\n",
       "                        <th id=\"T_a57decb8_c5d5_11ea_8c25_a402b90142a3level0_row3\" class=\"row_heading level0 row3\" >Age</th>\n",
       "                        <td id=\"T_a57decb8_c5d5_11ea_8c25_a402b90142a3row3_col0\" class=\"data row3 col0\" >0.037</td>\n",
       "                        <td id=\"T_a57decb8_c5d5_11ea_8c25_a402b90142a3row3_col1\" class=\"data row3 col1\" >-0.077</td>\n",
       "                        <td id=\"T_a57decb8_c5d5_11ea_8c25_a402b90142a3row3_col2\" class=\"data row3 col2\" >-0.37</td>\n",
       "                        <td id=\"T_a57decb8_c5d5_11ea_8c25_a402b90142a3row3_col3\" class=\"data row3 col3\" >1</td>\n",
       "                        <td id=\"T_a57decb8_c5d5_11ea_8c25_a402b90142a3row3_col4\" class=\"data row3 col4\" >-0.31</td>\n",
       "                        <td id=\"T_a57decb8_c5d5_11ea_8c25_a402b90142a3row3_col5\" class=\"data row3 col5\" >-0.19</td>\n",
       "                        <td id=\"T_a57decb8_c5d5_11ea_8c25_a402b90142a3row3_col6\" class=\"data row3 col6\" >0.096</td>\n",
       "            </tr>\n",
       "            <tr>\n",
       "                        <th id=\"T_a57decb8_c5d5_11ea_8c25_a402b90142a3level0_row4\" class=\"row_heading level0 row4\" >SibSp</th>\n",
       "                        <td id=\"T_a57decb8_c5d5_11ea_8c25_a402b90142a3row4_col0\" class=\"data row4 col0\" >-0.058</td>\n",
       "                        <td id=\"T_a57decb8_c5d5_11ea_8c25_a402b90142a3row4_col1\" class=\"data row4 col1\" >-0.035</td>\n",
       "                        <td id=\"T_a57decb8_c5d5_11ea_8c25_a402b90142a3row4_col2\" class=\"data row4 col2\" >0.083</td>\n",
       "                        <td id=\"T_a57decb8_c5d5_11ea_8c25_a402b90142a3row4_col3\" class=\"data row4 col3\" >-0.31</td>\n",
       "                        <td id=\"T_a57decb8_c5d5_11ea_8c25_a402b90142a3row4_col4\" class=\"data row4 col4\" >1</td>\n",
       "                        <td id=\"T_a57decb8_c5d5_11ea_8c25_a402b90142a3row4_col5\" class=\"data row4 col5\" >0.41</td>\n",
       "                        <td id=\"T_a57decb8_c5d5_11ea_8c25_a402b90142a3row4_col6\" class=\"data row4 col6\" >0.16</td>\n",
       "            </tr>\n",
       "            <tr>\n",
       "                        <th id=\"T_a57decb8_c5d5_11ea_8c25_a402b90142a3level0_row5\" class=\"row_heading level0 row5\" >Parch</th>\n",
       "                        <td id=\"T_a57decb8_c5d5_11ea_8c25_a402b90142a3row5_col0\" class=\"data row5 col0\" >-0.0017</td>\n",
       "                        <td id=\"T_a57decb8_c5d5_11ea_8c25_a402b90142a3row5_col1\" class=\"data row5 col1\" >0.082</td>\n",
       "                        <td id=\"T_a57decb8_c5d5_11ea_8c25_a402b90142a3row5_col2\" class=\"data row5 col2\" >0.018</td>\n",
       "                        <td id=\"T_a57decb8_c5d5_11ea_8c25_a402b90142a3row5_col3\" class=\"data row5 col3\" >-0.19</td>\n",
       "                        <td id=\"T_a57decb8_c5d5_11ea_8c25_a402b90142a3row5_col4\" class=\"data row5 col4\" >0.41</td>\n",
       "                        <td id=\"T_a57decb8_c5d5_11ea_8c25_a402b90142a3row5_col5\" class=\"data row5 col5\" >1</td>\n",
       "                        <td id=\"T_a57decb8_c5d5_11ea_8c25_a402b90142a3row5_col6\" class=\"data row5 col6\" >0.22</td>\n",
       "            </tr>\n",
       "            <tr>\n",
       "                        <th id=\"T_a57decb8_c5d5_11ea_8c25_a402b90142a3level0_row6\" class=\"row_heading level0 row6\" >Fare</th>\n",
       "                        <td id=\"T_a57decb8_c5d5_11ea_8c25_a402b90142a3row6_col0\" class=\"data row6 col0\" >0.013</td>\n",
       "                        <td id=\"T_a57decb8_c5d5_11ea_8c25_a402b90142a3row6_col1\" class=\"data row6 col1\" >0.26</td>\n",
       "                        <td id=\"T_a57decb8_c5d5_11ea_8c25_a402b90142a3row6_col2\" class=\"data row6 col2\" >-0.55</td>\n",
       "                        <td id=\"T_a57decb8_c5d5_11ea_8c25_a402b90142a3row6_col3\" class=\"data row6 col3\" >0.096</td>\n",
       "                        <td id=\"T_a57decb8_c5d5_11ea_8c25_a402b90142a3row6_col4\" class=\"data row6 col4\" >0.16</td>\n",
       "                        <td id=\"T_a57decb8_c5d5_11ea_8c25_a402b90142a3row6_col5\" class=\"data row6 col5\" >0.22</td>\n",
       "                        <td id=\"T_a57decb8_c5d5_11ea_8c25_a402b90142a3row6_col6\" class=\"data row6 col6\" >1</td>\n",
       "            </tr>\n",
       "    </tbody></table>"
      ],
      "text/plain": [
       "<pandas.io.formats.style.Styler at 0x7fa7a04b3278>"
      ]
     },
     "execution_count": 97,
     "metadata": {},
     "output_type": "execute_result"
    }
   ],
   "source": [
    "''' Paulo Simplício Braga\n",
    "    14.07.2020\n",
    "'''\n",
    "import pandas as pd \n",
    "import numpy as np\n",
    "\n",
    "import matplotlib.pyplot as plt \n",
    "%matplotlib inline\n",
    "plt.rcParams['figure.figsize'] = (15,5)\n",
    "plt.rcParams[\"font.family\"] = 'DejaVu Sans'\n",
    "plt.rcParams[\"font.size\"] = '12'\n",
    "plt.rcParams['image.cmap'] = 'rainbow'\n",
    "import seaborn as sns \n",
    "\n",
    "from sklearn.naive_bayes import GaussianNB\n",
    "from sklearn.linear_model import LogisticRegression\n",
    "from sklearn.ensemble import RandomForestClassifier\n",
    "from sklearn.metrics import accuracy_score\n",
    "from sklearn.model_selection import train_test_split\n",
    "from sklearn.tree import DecisionTreeClassifier\n",
    "from sklearn import tree\n",
    "from sklearn import metrics\n",
    "from sklearn.metrics import confusion_matrix\n",
    "from yellowbrick.classifier import ConfusionMatrix\n",
    "from sklearn import svm\n",
    "from sklearn.neighbors import KNeighborsClassifier\n",
    "from sklearn.preprocessing import OneHotEncoder\n",
    "import warnings\n",
    "import tensorflow as tf\n",
    "import keras\n",
    "import os\n",
    "seed = 6\n",
    "import random as rn\n",
    "rn.seed(seed)\n",
    "\n",
    "np.random.seed(seed)\n",
    "os.environ['PYTHONHASHSEED'] = '0'\n",
    "warnings.filterwarnings('ignore')\n",
    "\n",
    "train_df = pd.read_csv('Data_Titanic/train.csv')\n",
    "\n",
    "train_df.corr().style.background_gradient().set_precision(2)\n"
   ]
  },
  {
   "cell_type": "markdown",
   "metadata": {},
   "source": [
    "I - Cálculo da % de valores faltantes por coluna:"
   ]
  },
  {
   "cell_type": "code",
   "execution_count": 2,
   "metadata": {},
   "outputs": [
    {
     "name": "stdout",
     "output_type": "stream",
     "text": [
      "Cabin          687\n",
      "Age            177\n",
      "Embarked         2\n",
      "Fare             0\n",
      "Ticket           0\n",
      "Parch            0\n",
      "SibSp            0\n",
      "Sex              0\n",
      "Name             0\n",
      "Pclass           0\n",
      "Survived         0\n",
      "PassengerId      0\n",
      "dtype: int64\n"
     ]
    }
   ],
   "source": [
    "total = train_df.isnull().sum().sort_values(ascending=False)\n",
    "print(total)"
   ]
  },
  {
   "cell_type": "code",
   "execution_count": 3,
   "metadata": {},
   "outputs": [
    {
     "name": "stdout",
     "output_type": "stream",
     "text": [
      "PassengerId     0.000000\n",
      "Survived        0.000000\n",
      "Pclass          0.000000\n",
      "Name            0.000000\n",
      "Sex             0.000000\n",
      "Age            19.865320\n",
      "SibSp           0.000000\n",
      "Parch           0.000000\n",
      "Ticket          0.000000\n",
      "Fare            0.000000\n",
      "Cabin          77.104377\n",
      "Embarked        0.224467\n",
      "dtype: float64\n"
     ]
    }
   ],
   "source": [
    "pct_1 = train_df.isnull().sum()/train_df.isnull().count()*100\n",
    "print(pct_1)"
   ]
  },
  {
   "cell_type": "code",
   "execution_count": 4,
   "metadata": {},
   "outputs": [
    {
     "name": "stdout",
     "output_type": "stream",
     "text": [
      "Cabin          77.1\n",
      "Age            19.9\n",
      "Embarked        0.2\n",
      "Fare            0.0\n",
      "Ticket          0.0\n",
      "Parch           0.0\n",
      "SibSp           0.0\n",
      "Sex             0.0\n",
      "Name            0.0\n",
      "Pclass          0.0\n",
      "Survived        0.0\n",
      "PassengerId     0.0\n",
      "dtype: float64\n"
     ]
    }
   ],
   "source": [
    "pct_1 = round(pct_1, 1).sort_values(ascending=False)\n",
    "print(pct_1)"
   ]
  },
  {
   "cell_type": "code",
   "execution_count": 5,
   "metadata": {},
   "outputs": [
    {
     "data": {
      "text/html": [
       "<div>\n",
       "<style scoped>\n",
       "    .dataframe tbody tr th:only-of-type {\n",
       "        vertical-align: middle;\n",
       "    }\n",
       "\n",
       "    .dataframe tbody tr th {\n",
       "        vertical-align: top;\n",
       "    }\n",
       "\n",
       "    .dataframe thead th {\n",
       "        text-align: right;\n",
       "    }\n",
       "</style>\n",
       "<table border=\"1\" class=\"dataframe\">\n",
       "  <thead>\n",
       "    <tr style=\"text-align: right;\">\n",
       "      <th></th>\n",
       "      <th>Total</th>\n",
       "      <th>%</th>\n",
       "    </tr>\n",
       "  </thead>\n",
       "  <tbody>\n",
       "    <tr>\n",
       "      <th>Cabin</th>\n",
       "      <td>687</td>\n",
       "      <td>77.1</td>\n",
       "    </tr>\n",
       "    <tr>\n",
       "      <th>Age</th>\n",
       "      <td>177</td>\n",
       "      <td>19.9</td>\n",
       "    </tr>\n",
       "    <tr>\n",
       "      <th>Embarked</th>\n",
       "      <td>2</td>\n",
       "      <td>0.2</td>\n",
       "    </tr>\n",
       "    <tr>\n",
       "      <th>Fare</th>\n",
       "      <td>0</td>\n",
       "      <td>0.0</td>\n",
       "    </tr>\n",
       "    <tr>\n",
       "      <th>Ticket</th>\n",
       "      <td>0</td>\n",
       "      <td>0.0</td>\n",
       "    </tr>\n",
       "  </tbody>\n",
       "</table>\n",
       "</div>"
      ],
      "text/plain": [
       "          Total     %\n",
       "Cabin       687  77.1\n",
       "Age         177  19.9\n",
       "Embarked      2   0.2\n",
       "Fare          0   0.0\n",
       "Ticket        0   0.0"
      ]
     },
     "execution_count": 5,
     "metadata": {},
     "output_type": "execute_result"
    }
   ],
   "source": [
    "dados_faltantes = pd.concat([total,pct_1], axis=1, keys=['Total', '%'])\n",
    "dados_faltantes.head()"
   ]
  },
  {
   "cell_type": "markdown",
   "metadata": {},
   "source": [
    "II - Sobreviventes por sexo"
   ]
  },
  {
   "cell_type": "code",
   "execution_count": 6,
   "metadata": {},
   "outputs": [
    {
     "data": {
      "text/plain": [
       "male      577\n",
       "female    314\n",
       "Name: Sex, dtype: int64"
      ]
     },
     "execution_count": 6,
     "metadata": {},
     "output_type": "execute_result"
    }
   ],
   "source": [
    "# Quantidade por sexo\n",
    "train_df['Sex'].value_counts()"
   ]
  },
  {
   "cell_type": "code",
   "execution_count": 7,
   "metadata": {},
   "outputs": [
    {
     "data": {
      "text/plain": [
       "Text(0.5, 1.0, 'Total')"
      ]
     },
     "execution_count": 7,
     "metadata": {},
     "output_type": "execute_result"
    },
    {
     "data": {
      "image/png": "[encoded data removed]",
      "text/plain": [
       "<Figure size 576x396 with 1 Axes>"
      ]
     },
     "metadata": {},
     "output_type": "display_data"
    }
   ],
   "source": [
    "# Total de sobreviventes\n",
    "sns.countplot(train_df['Survived']).set_title('Total')"
   ]
  },
  {
   "cell_type": "code",
   "execution_count": 8,
   "metadata": {},
   "outputs": [
    {
     "data": {
      "text/plain": [
       "<matplotlib.legend.Legend at 0x7fa847136470>"
      ]
     },
     "execution_count": 8,
     "metadata": {},
     "output_type": "execute_result"
    },
    {
     "data": {
      "image/png": "[encoded data removed]",
      "text/plain": [
       "<Figure size 1440x432 with 1 Axes>"
      ]
     },
     "metadata": {},
     "output_type": "display_data"
    }
   ],
   "source": [
    "sns.set(font_scale=1.5)\n",
    "fem = train_df[train_df['Sex']=='female'] # Cria um dataframe para female\n",
    "\n",
    "# Cria um objeto 'fig' pra fazer o subplot\n",
    "fig = plt.figure(figsize=(20,6))\n",
    "\n",
    "# Adiciona o histograma 'Survived'\n",
    "fig.add_subplot(1,2,1) # linhas, colunas, posição\n",
    "to_plot = sns.distplot(fem[fem['Survived']==1].Age, bins=20, kde=False,\\\n",
    "                      label='Survived')\n",
    "to_plot.set_title('Female')\n",
    "to_plot.legend()\n",
    "\n",
    "# Adiciona o histograma 'Not Survived'\n",
    "fig.add_subplot(1,2,1) # linhas, colunas, posição\n",
    "to_plot = sns.distplot(fem[fem['Survived']==0].Age, bins=20, kde=False,\\\n",
    "             color='red', label='Not Survived')\n",
    "to_plot.legend()"
   ]
  },
  {
   "cell_type": "code",
   "execution_count": 9,
   "metadata": {},
   "outputs": [
    {
     "data": {
      "text/plain": [
       "<matplotlib.legend.Legend at 0x7fa8470acb70>"
      ]
     },
     "execution_count": 9,
     "metadata": {},
     "output_type": "execute_result"
    },
    {
     "data": {
      "image/png": "[encoded data removed]",
      "text/plain": [
       "<Figure size 1440x432 with 1 Axes>"
      ]
     },
     "metadata": {},
     "output_type": "display_data"
    }
   ],
   "source": [
    "sns.set(font_scale=1.5)\n",
    "male = train_df[train_df['Sex']=='male'] # Cria um dataframe para male\n",
    "\n",
    "fig = plt.figure(figsize=(20,6))\n",
    "\n",
    "fig.add_subplot(1,2,1)\n",
    "to_plot = sns.distplot(male[male['Survived']==1].Age, bins=20, kde=False,\\\n",
    "                       label='Survived')\n",
    "to_plot.set_title('Male')\n",
    "to_plot.legend()\n",
    "\n",
    "fig.add_subplot(1,2,1)\n",
    "to_plot = sns.distplot(male[male['Survived']==0].Age, bins=20, kde=False,\\\n",
    "                      color='red', label='Not Survived')\n",
    "to_plot.legend()\n"
   ]
  },
  {
   "cell_type": "markdown",
   "metadata": {},
   "source": [
    "III - Relação da Sobrevivência com Classe Social e Porto de Embarque,\n",
    "por gênero"
   ]
  },
  {
   "cell_type": "code",
   "execution_count": 10,
   "metadata": {},
   "outputs": [
    {
     "data": {
      "text/plain": [
       "Text(0.5, 1.0, 'Survived x Pclass')"
      ]
     },
     "execution_count": 10,
     "metadata": {},
     "output_type": "execute_result"
    },
    {
     "data": {
      "image/png": "[encoded data removed]",
      "text/plain": [
       "<Figure size 1440x432 with 2 Axes>"
      ]
     },
     "metadata": {},
     "output_type": "display_data"
    }
   ],
   "source": [
    "sns.set(font_scale=1.5)\n",
    "fem = train_df[train_df['Sex']=='female'] # Cria um dataframe para female\n",
    "male = train_df[train_df['Sex']=='male'] # Cria um dataframe para male\n",
    "\n",
    "fig = plt.figure(figsize=(20,6))\n",
    "\n",
    "# Pclass\n",
    "fig.add_subplot(1,2,1)\n",
    "to_plot = sns.lineplot('Pclass','Survived',data=fem,err_style=\"bars\",\\\n",
    "                      label='female', color='orange')\n",
    "fig.add_subplot(1,2,1)\n",
    "to_plot = sns.lineplot('Pclass','Survived',data=male,err_style=\"bars\",\\\n",
    "                      label='male', color='grey')\n",
    "to_plot.set_title('Survived x Pclass')\n",
    "to_plot.set(xticks=(np.arange(1, 4, 1)))\n",
    "\n",
    "# Embarked\n",
    "fig.add_subplot(1,2,2)\n",
    "to_plot = sns.lineplot('Embarked','Survived',data=fem,err_style=\"bars\",\\\n",
    "                      label='female', color='orange')\n",
    "fig.add_subplot(1,2,2)\n",
    "to_plot = sns.lineplot('Embarked','Survived',data=male,err_style=\"bars\",\\\n",
    "                      label='male', color='grey')\n",
    "to_plot.set_title('Survived x Pclass')"
   ]
  },
  {
   "cell_type": "code",
   "execution_count": 11,
   "metadata": {},
   "outputs": [
    {
     "data": {
      "text/plain": [
       "<seaborn.axisgrid.FacetGrid at 0x7fa846e834a8>"
      ]
     },
     "execution_count": 11,
     "metadata": {},
     "output_type": "execute_result"
    },
    {
     "data": {
      "image/png": "[encoded data removed]",
      "text/plain": [
       "<Figure size 547.36x475.2 with 6 Axes>"
      ]
     },
     "metadata": {},
     "output_type": "display_data"
    }
   ],
   "source": [
    "sns.set(font_scale=1.0)\n",
    "grid = sns.FacetGrid(train_df, col='Survived', row='Pclass',\\\n",
    "                     size=2.2, aspect=1.7)\n",
    "grid.map(plt.hist, 'Age', alpha=.5, bins=20)\n",
    "grid.add_legend()"
   ]
  },
  {
   "cell_type": "markdown",
   "metadata": {},
   "source": [
    "IV - Pré-Processamento dos dados"
   ]
  },
  {
   "cell_type": "code",
   "execution_count": 12,
   "metadata": {},
   "outputs": [],
   "source": [
    "# Remove features como mais de 70% de linhas nulas\n",
    "limite = 0.7\n",
    "\n",
    "# train_df = train_df[train_df.columns[train_df.isnull().mean() < limite]]\n",
    "\n",
    "# Remove Passenger ID, devido a baixa correlação com 'Survived'\n",
    "train_df = train_df.drop(['PassengerId'], axis = 1)\n",
    "\n",
    "# # Remove Ticket, devido a baixa correlação com 'Survived'\n",
    "# train_df = train_df.drop(['Ticket'], axis = 1)"
   ]
  },
  {
   "cell_type": "code",
   "execution_count": 13,
   "metadata": {},
   "outputs": [],
   "source": [
    "# Cria a variável 'Deck' à partir de 'Cabin'\n",
    "import re\n",
    "deck = {\"A\": 1, \"B\": 2, \"C\": 3, \"D\": 4, \"E\": 5, \"F\": 6, \"G\": 7, \"U\": 8}\n",
    "\n",
    "train_df['Cabin'] = train_df['Cabin'].fillna(\"U0\")\n",
    "train_df['Deck'] = train_df['Cabin'].map(lambda x: re.compile(\"([a-zA-Z]+)\").search(x).group())\n",
    "train_df['Deck'] = train_df['Deck'].map(deck)\n",
    "train_df['Deck'] = train_df['Deck'].fillna(0)\n",
    "train_df['Deck'] = train_df['Deck'].astype(int) "
   ]
  },
  {
   "cell_type": "code",
   "execution_count": 14,
   "metadata": {},
   "outputs": [],
   "source": [
    "train_df = train_df.drop(['Cabin'], axis=1)"
   ]
  },
  {
   "cell_type": "code",
   "execution_count": 15,
   "metadata": {},
   "outputs": [
    {
     "data": {
      "text/plain": [
       "0"
      ]
     },
     "execution_count": 15,
     "metadata": {},
     "output_type": "execute_result"
    }
   ],
   "source": [
    "num_cols = ['Pclass', 'SibSp', 'Parch', 'Fare']\n",
    "\n",
    "# Cria o objeto knn para efetuar a imputação de valores baseado \n",
    "# no K-Nearest Neighbour (KNN)\n",
    "knn = KNeighborsClassifier(3, weights='distance')\n",
    "\n",
    "# Cria um data frame para treinamento do knn, excluindo os valores\n",
    "# nulos\n",
    "df_cc = train_df.dropna(axis=0)\n",
    "df_cc['Age'] = df_cc['Age'].astype(int)\n",
    "\n",
    "# Treina o modelo com 'Age' como 'target(y)'\n",
    "model_3nn = knn.fit(df_cc.loc[:,num_cols],\\\n",
    "                    df_cc.loc[:,'Age'])\n",
    "# Contabiliza a quantidade de nulos da feature 'Age'\n",
    "missing_age = train_df['Age'].isnull()\n",
    "\n",
    "# Cria um dataframe com as features 'X' (num_cols) com tamanho \n",
    "# igual ao número de valores nulos na feature 'Age'\n",
    "df_missing_age = pd.DataFrame(train_df[num_cols][missing_age])\n",
    "\n",
    "# Faz a previsão passando as features 'X', do data frame criado \n",
    "# na linha anterior\n",
    "imputed_age = model_3nn.predict(df_missing_age)\n",
    "\n",
    "# Preenche os valores nulos da feature 'Age', um por um, com os \n",
    "# valores previstos em 'imputed_age'\n",
    "for i in imputed_age:\n",
    "    train_df['Age'].fillna(i, inplace=True, limit=1)\n",
    "train_df['Age'].isnull().sum()"
   ]
  },
  {
   "cell_type": "code",
   "execution_count": 16,
   "metadata": {},
   "outputs": [
    {
     "name": "stdout",
     "output_type": "stream",
     "text": [
      "count     889\n",
      "unique      3\n",
      "top         S\n",
      "freq      644\n",
      "Name: Embarked, dtype: object\n",
      "Quantidade de Nulos:  2\n"
     ]
    }
   ],
   "source": [
    "# Demonstra que o valor mais comum é o 'S'\n",
    "print(train_df['Embarked'].describe())\n",
    "# Apenas dois valores nan\n",
    "print(\"Quantidade de Nulos: \",train_df['Embarked'].isnull().sum())"
   ]
  },
  {
   "cell_type": "code",
   "execution_count": 17,
   "metadata": {},
   "outputs": [
    {
     "name": "stdout",
     "output_type": "stream",
     "text": [
      "Quantidade de Nulos:  0\n"
     ]
    }
   ],
   "source": [
    "train_df['Embarked'] = train_df['Embarked'].fillna('S')\n",
    "print(\"Quantidade de Nulos: \",train_df['Embarked'].isnull().sum())"
   ]
  },
  {
   "cell_type": "code",
   "execution_count": 18,
   "metadata": {},
   "outputs": [],
   "source": [
    "train_df['Fare'] = train_df['Fare'].fillna(0)\n",
    "train_df['Fare'] = train_df['Fare'].astype(int)"
   ]
  },
  {
   "cell_type": "code",
   "execution_count": 19,
   "metadata": {},
   "outputs": [],
   "source": [
    "titles = {\"Mr\": 1, \"Miss\": 2, \"Mrs\": 3, \"Master\": 4, \"Rare\": 5}\n",
    "\n",
    "# extraindo os titulos\n",
    "train_df['Title'] = train_df.Name.str.extract(' ([A-Za-z]+)\\.', expand=False)\n",
    "# substituir títulos com um título mais comum ou como Rare\n",
    "train_df['Title'] = train_df['Title'].replace(['Lady', 'Countess','Capt', 'Col','Don', 'Dr',\\\n",
    "                                        'Major', 'Rev', 'Sir', 'Jonkheer', 'Dona'], 'Rare')\n",
    "train_df['Title'] = train_df['Title'].replace('Mlle', 'Miss')\n",
    "train_df['Title'] = train_df['Title'].replace('Ms', 'Miss')\n",
    "train_df['Title'] = train_df['Title'].replace('Mme', 'Mrs')\n",
    "# converter títulos em números\n",
    "train_df['Title'] = train_df['Title'].map(titles)\n",
    "# Inserindo o 0 nos campos NaN \n",
    "train_df['Title'] = train_df['Title'].fillna(0)"
   ]
  },
  {
   "cell_type": "code",
   "execution_count": 20,
   "metadata": {},
   "outputs": [],
   "source": [
    "train_df = train_df.drop(['Name'], axis=1)"
   ]
  },
  {
   "cell_type": "code",
   "execution_count": 21,
   "metadata": {},
   "outputs": [],
   "source": [
    "# Converte a categoria 'Sex'\n",
    "genders = {\"male\": 0, \"female\": 1}\n",
    "\n",
    "train_df['Sex'] = train_df['Sex'].map(genders)"
   ]
  },
  {
   "cell_type": "code",
   "execution_count": 22,
   "metadata": {},
   "outputs": [],
   "source": [
    "# Remove a categoria 'Ticket'\n",
    "train_df = train_df.drop(['Ticket'], axis=1)"
   ]
  },
  {
   "cell_type": "code",
   "execution_count": 23,
   "metadata": {},
   "outputs": [],
   "source": [
    "# Converte 'Embarked'\n",
    "ports = {\"S\": 0, \"C\": 1, \"Q\": 2}\n",
    "train_df['Embarked'] = train_df['Embarked'].map(ports)"
   ]
  },
  {
   "cell_type": "code",
   "execution_count": 24,
   "metadata": {},
   "outputs": [],
   "source": [
    "# Converte e agrupa a categoria 'Age'\n",
    "\n",
    "train_df['Age'] = train_df['Age'].astype(int)\n",
    "train_df.loc[ train_df['Age'] <= 11, 'Age'] = 0\n",
    "train_df.loc[(train_df['Age'] > 11) & (train_df['Age'] <= 18), 'Age'] = 1\n",
    "train_df.loc[(train_df['Age'] > 18) & (train_df['Age'] <= 22), 'Age'] = 2\n",
    "train_df.loc[(train_df['Age'] > 22) & (train_df['Age'] <= 27), 'Age'] = 3\n",
    "train_df.loc[(train_df['Age'] > 27) & (train_df['Age'] <= 33), 'Age'] = 4\n",
    "train_df.loc[(train_df['Age'] > 33) & (train_df['Age'] <= 40), 'Age'] = 5\n",
    "train_df.loc[(train_df['Age'] > 40) & (train_df['Age'] <= 66), 'Age'] = 6\n",
    "train_df.loc[ train_df['Age'] > 66, 'Age'] = 6"
   ]
  },
  {
   "cell_type": "code",
   "execution_count": 25,
   "metadata": {},
   "outputs": [
    {
     "data": {
      "text/plain": [
       "6    167\n",
       "4    151\n",
       "3    134\n",
       "1    133\n",
       "5    118\n",
       "2    112\n",
       "0     76\n",
       "Name: Age, dtype: int64"
      ]
     },
     "execution_count": 25,
     "metadata": {},
     "output_type": "execute_result"
    }
   ],
   "source": [
    "train_df['Age'].value_counts()"
   ]
  },
  {
   "cell_type": "code",
   "execution_count": 26,
   "metadata": {},
   "outputs": [],
   "source": [
    "# Converte e agrupa 'Fare' com valores adquiridos através da \n",
    "# função qcut()\n",
    "\n",
    "train_df.loc[ train_df['Fare'] <= 7.91, 'Fare'] = 0\n",
    "train_df.loc[(train_df['Fare'] > 7.91) & (train_df['Fare'] <= 14.454), 'Fare'] = 1\n",
    "train_df.loc[(train_df['Fare'] > 14.454) & (train_df['Fare'] <= 31), 'Fare']   = 2\n",
    "train_df.loc[(train_df['Fare'] > 31) & (train_df['Fare'] <= 99), 'Fare']   = 3\n",
    "train_df.loc[(train_df['Fare'] > 99) & (train_df['Fare'] <= 250), 'Fare']   = 4\n",
    "train_df.loc[ train_df['Fare'] > 250, 'Fare'] = 5\n",
    "train_df['Fare'] = train_df['Fare'].astype(int)"
   ]
  },
  {
   "cell_type": "code",
   "execution_count": 27,
   "metadata": {},
   "outputs": [],
   "source": [
    "# Cria novos parâmetros\n",
    "train_df['Age_Class']= train_df['Age']* train_df['Pclass']"
   ]
  },
  {
   "cell_type": "code",
   "execution_count": 28,
   "metadata": {},
   "outputs": [],
   "source": [
    "train_df['relatives'] = train_df['SibSp'] + train_df['Parch']\n",
    "train_df.loc[train_df['relatives'] > 0, 'not_alone'] = 0\n",
    "train_df.loc[train_df['relatives'] == 0, 'not_alone'] = 1\n",
    "train_df['not_alone'] = train_df['not_alone'].astype(int)"
   ]
  },
  {
   "cell_type": "code",
   "execution_count": 29,
   "metadata": {},
   "outputs": [],
   "source": [
    "train_df['Fare_Per_Person'] = train_df['Fare']/(train_df['relatives']+1)\n",
    "train_df['Fare_Per_Person'] = train_df['Fare_Per_Person'].astype(int)"
   ]
  },
  {
   "cell_type": "code",
   "execution_count": 31,
   "metadata": {},
   "outputs": [],
   "source": [
    "# Aplicando Normalization nas features com valores maiores que 1\n",
    "feat_list = ['Pclass', 'Age', 'SibSp', 'Parch', 'Fare', 'Deck',\\\n",
    "             'Title', 'Age_Class', 'relatives', 'Fare_Per_Person']\n",
    "def normalize(feat, train_df):\n",
    "    feat_name = 'norm_'+feat    \n",
    "    train_df[feat_name] = (train_df[feat] - train_df[feat].min())/ \\\n",
    "                    (train_df[feat].max() - train_df[feat].min())\n",
    "    train_df = train_df.drop(feat, axis=1)\n",
    "    return train_df\n",
    "for i in feat_list:\n",
    "    train_df=normalize(i, train_df)"
   ]
  },
  {
   "cell_type": "markdown",
   "metadata": {},
   "source": [
    "V - Machine Learning Models"
   ]
  },
  {
   "cell_type": "code",
   "execution_count": 73,
   "metadata": {},
   "outputs": [],
   "source": [
    "X = train_df.loc[:, train_df.columns != 'Survived'] # X recebe todas as\n",
    "#, → colunas, exceto a coluna 'quality'\n",
    "y = train_df.loc[:, train_df.columns == 'Survived'] # y recebe a coluna␣\n",
    "#, → 'quality'\n",
    "X_train, X_test, y_train, y_test = train_test_split(X, y, test_size=0.2,\\\n",
    "shuffle = True, stratify = y)\n",
    "model_list = ['Regressão Logística', 'Classificação Bayseana',\\\n",
    "'Árvore de Decisão', 'Random Forests', 'SVM', 'MLP']\n",
    "resultados_acur = len(model_list)*[0]\n",
    "map = {0:\"died\", 1:\"survived\"}"
   ]
  },
  {
   "cell_type": "markdown",
   "metadata": {},
   "source": [
    "1. Regressão Logística"
   ]
  },
  {
   "cell_type": "code",
   "execution_count": 74,
   "metadata": {},
   "outputs": [
    {
     "data": {
      "image/png": "[encoded data removed]",
      "text/plain": [
       "<Figure size 360x216 with 1 Axes>"
      ]
     },
     "metadata": {},
     "output_type": "display_data"
    },
    {
     "data": {
      "text/plain": [
       "<matplotlib.axes._subplots.AxesSubplot at 0x7fa846f0aa90>"
      ]
     },
     "execution_count": 74,
     "metadata": {},
     "output_type": "execute_result"
    }
   ],
   "source": [
    "plt.subplots(figsize=(5,3))\n",
    "logreg = LogisticRegression()\n",
    "logreg.fit(X_train, y_train)\n",
    "\n",
    "cm_v = ConfusionMatrix(logreg, classes=[\"died\", \"survived\"], \\\n",
    "                       label_encoder=map)\n",
    "resultados_acur[0] = cm_v.score(X_test, y_test)\n",
    "cm_v.show()"
   ]
  },
  {
   "cell_type": "code",
   "execution_count": 75,
   "metadata": {},
   "outputs": [
    {
     "name": "stdout",
     "output_type": "stream",
     "text": [
      "0.8100558659217877\n"
     ]
    }
   ],
   "source": [
    "print(resultados_acur[0])"
   ]
  },
  {
   "cell_type": "markdown",
   "metadata": {},
   "source": [
    "2. Classificação Bayseana"
   ]
  },
  {
   "cell_type": "code",
   "execution_count": 76,
   "metadata": {},
   "outputs": [
    {
     "data": {
      "image/png": "[encoded data removed]",
      "text/plain": [
       "<Figure size 360x216 with 1 Axes>"
      ]
     },
     "metadata": {},
     "output_type": "display_data"
    },
    {
     "data": {
      "text/plain": [
       "<matplotlib.axes._subplots.AxesSubplot at 0x7fa846e67400>"
      ]
     },
     "execution_count": 76,
     "metadata": {},
     "output_type": "execute_result"
    }
   ],
   "source": [
    "plt.subplots(figsize=(5,3))\n",
    "gaussian = GaussianNB()\n",
    "gaussian.fit(X_train, y_train)\n",
    "\n",
    "cm_v = ConfusionMatrix(gaussian, classes=[\"died\", \"survived\"], \\\n",
    "                       label_encoder=map)\n",
    "resultados_acur[1] = cm_v.score(X_test, y_test)\n",
    "cm_v.show()"
   ]
  },
  {
   "cell_type": "code",
   "execution_count": 77,
   "metadata": {},
   "outputs": [
    {
     "data": {
      "text/plain": [
       "0.8156424581005587"
      ]
     },
     "execution_count": 77,
     "metadata": {},
     "output_type": "execute_result"
    }
   ],
   "source": [
    "resultados_acur[1]"
   ]
  },
  {
   "cell_type": "markdown",
   "metadata": {},
   "source": [
    "3. Árvore de Decisão"
   ]
  },
  {
   "cell_type": "code",
   "execution_count": 78,
   "metadata": {},
   "outputs": [
    {
     "data": {
      "image/png": "[encoded data removed]",
      "text/plain": [
       "<Figure size 360x216 with 1 Axes>"
      ]
     },
     "metadata": {},
     "output_type": "display_data"
    },
    {
     "data": {
      "text/plain": [
       "<matplotlib.axes._subplots.AxesSubplot at 0x7fa846c8aa20>"
      ]
     },
     "execution_count": 78,
     "metadata": {},
     "output_type": "execute_result"
    }
   ],
   "source": [
    "plt.subplots(figsize=(5,3))\n",
    "decision_tree = DecisionTreeClassifier()\n",
    "decision_tree.fit(X_train, y_train)\n",
    "\n",
    "cm_v = ConfusionMatrix(decision_tree, classes=[\"died\", \"survived\"], \\\n",
    "                       label_encoder=map)\n",
    "resultados_acur[2] = cm_v.score(X_test, y_test)\n",
    "cm_v.show()"
   ]
  },
  {
   "cell_type": "code",
   "execution_count": 79,
   "metadata": {},
   "outputs": [
    {
     "data": {
      "text/plain": [
       "0.7932960893854749"
      ]
     },
     "execution_count": 79,
     "metadata": {},
     "output_type": "execute_result"
    }
   ],
   "source": [
    "resultados_acur[2]"
   ]
  },
  {
   "cell_type": "markdown",
   "metadata": {},
   "source": [
    "4. Random Forests"
   ]
  },
  {
   "cell_type": "code",
   "execution_count": 80,
   "metadata": {},
   "outputs": [
    {
     "data": {
      "image/png": "[encoded data removed]",
      "text/plain": [
       "<Figure size 360x216 with 1 Axes>"
      ]
     },
     "metadata": {},
     "output_type": "display_data"
    },
    {
     "data": {
      "text/plain": [
       "<matplotlib.axes._subplots.AxesSubplot at 0x7fa846a9b7b8>"
      ]
     },
     "execution_count": 80,
     "metadata": {},
     "output_type": "execute_result"
    }
   ],
   "source": [
    "plt.subplots(figsize=(5,3))\n",
    "random_forest = RandomForestClassifier(n_estimators=100)\n",
    "random_forest.fit(X_train, y_train)\n",
    "\n",
    "cm_v = ConfusionMatrix(random_forest, classes=[\"died\", \"survived\"], \\\n",
    "                       label_encoder=map)\n",
    "resultados_acur[3] = cm_v.score(X_test, y_test)\n",
    "cm_v.show()"
   ]
  },
  {
   "cell_type": "code",
   "execution_count": 81,
   "metadata": {},
   "outputs": [
    {
     "name": "stdout",
     "output_type": "stream",
     "text": [
      "0.8212290502793296\n"
     ]
    }
   ],
   "source": [
    "print(resultados_acur[3])"
   ]
  },
  {
   "cell_type": "markdown",
   "metadata": {},
   "source": [
    "5. Support Vector Machine"
   ]
  },
  {
   "cell_type": "code",
   "execution_count": 82,
   "metadata": {},
   "outputs": [
    {
     "data": {
      "image/png": "[encoded data removed]",
      "text/plain": [
       "<Figure size 360x216 with 1 Axes>"
      ]
     },
     "metadata": {},
     "output_type": "display_data"
    },
    {
     "data": {
      "text/plain": [
       "<matplotlib.axes._subplots.AxesSubplot at 0x7fa846a6a9e8>"
      ]
     },
     "execution_count": 82,
     "metadata": {},
     "output_type": "execute_result"
    }
   ],
   "source": [
    "plt.subplots(figsize=(5,3))\n",
    "svm_model = svm.SVC()#kernel='poly', gamma = 10, degree = 3)\n",
    "svm_model.fit(X_train, y_train)\n",
    "\n",
    "cm_v = ConfusionMatrix(svm_model, classes=[\"died\", \"survived\"], \\\n",
    "                       label_encoder=map)\n",
    "resultados_acur[4] = cm_v.score(X_test, y_test)\n",
    "cm_v.show()"
   ]
  },
  {
   "cell_type": "code",
   "execution_count": 83,
   "metadata": {},
   "outputs": [
    {
     "data": {
      "text/plain": [
       "0.8268156424581006"
      ]
     },
     "execution_count": 83,
     "metadata": {},
     "output_type": "execute_result"
    }
   ],
   "source": [
    "resultados_acur[4]"
   ]
  },
  {
   "cell_type": "markdown",
   "metadata": {},
   "source": [
    "6. MLP"
   ]
  },
  {
   "cell_type": "code",
   "execution_count": 84,
   "metadata": {},
   "outputs": [],
   "source": [
    "# Função para buscar os melhores valores, baseado na acurácia\n",
    "def train_mlp_acc(in_p=17, hd_1=5, hd_2=5, output=2, activation='linear', optimizer='adam',\\\n",
    "              train_x=X_train, train_y=y_train, epochs=10):\n",
    "    # Cria o objeto\n",
    "    model = keras.models.Sequential()\n",
    "    \n",
    "    structure=[in_p,hd_1,hd_2,output]\n",
    "\n",
    "    # Adiciona o layer de entrada mais o primeiro 'hidden layer'\n",
    "    model.add(keras.layers.Dense(input_dim=structure[0],\\\n",
    "              units=structure[1], activation=activation))\n",
    "\n",
    "    # Adiciona o segundo 'hidden layer'\n",
    "    model.add(keras.layers.Dense(units=structure[2], activation=activation))\n",
    "\n",
    "    # Adiciona o layer de 'output'\n",
    "    model.add(keras.layers.Dense(units=structure[-1], activation=\\\n",
    "                                                     \"softmax\"))\n",
    "    \n",
    "    model.compile(loss = 'categorical_crossentropy',\\\n",
    "                  optimizer = optimizer, metrics = ['accuracy'])\n",
    "\n",
    "    training_stats = model.fit(train_x, train_y, batch_size = 1,\\\n",
    "                               epochs = epochs, verbose = 0, shuffle = False)\n",
    "    print('Training Evaluation: loss = %0.3f, accuracy = %0.2f%%'\n",
    "          %(training_stats.history['loss'][-1], 100 * training_stats.\\\n",
    "                                             history['accuracy'][-1]))\n",
    "    return (100 * training_stats.history['accuracy'][-1])\n",
    "    "
   ]
  },
  {
   "cell_type": "code",
   "execution_count": 85,
   "metadata": {},
   "outputs": [
    {
     "name": "stdout",
     "output_type": "stream",
     "text": [
      "[[0. 1.]\n",
      " [0. 1.]\n",
      " [1. 0.]\n",
      " ...\n",
      " [0. 1.]\n",
      " [1. 0.]\n",
      " [1. 0.]]\n"
     ]
    }
   ],
   "source": [
    "# one-hot encoding\n",
    "labels=np.array(y_train['Survived'])\n",
    "y_train = OneHotEncoder(sparse=False).fit_transform(np.transpose([labels]))\n",
    "print(y_train)"
   ]
  },
  {
   "cell_type": "code",
   "execution_count": 86,
   "metadata": {},
   "outputs": [
    {
     "data": {
      "text/plain": [
       "(712, 13)"
      ]
     },
     "execution_count": 86,
     "metadata": {},
     "output_type": "execute_result"
    }
   ],
   "source": [
    "X_train.shape"
   ]
  },
  {
   "cell_type": "code",
   "execution_count": 87,
   "metadata": {},
   "outputs": [
    {
     "name": "stdout",
     "output_type": "stream",
     "text": [
      "[hidden layers: 1] Training Evaluation: loss = 0.438, accuracy = 80.62%\n",
      "[hidden layers: 2] Training Evaluation: loss = 0.437, accuracy = 80.06%\n",
      "[hidden layers: 3] Training Evaluation: loss = 0.434, accuracy = 80.34%\n",
      "[hidden layers: 4] Training Evaluation: loss = 0.435, accuracy = 80.76%\n",
      "[hidden layers: 5] Training Evaluation: loss = 0.436, accuracy = 81.04%\n",
      "[hidden layers: 6] Training Evaluation: loss = 0.436, accuracy = 80.34%\n",
      "[hidden layers: 7] Training Evaluation: loss = 0.435, accuracy = 80.62%\n",
      "[hidden layers: 8] Training Evaluation: loss = 0.433, accuracy = 81.18%\n",
      "[hidden layers: 9] Training Evaluation: loss = 0.437, accuracy = 81.32%\n",
      "[hidden layers: 10] Training Evaluation: loss = 0.437, accuracy = 81.04%\n"
     ]
    }
   ],
   "source": [
    "# Escolhe o melhor valor para os 'hidden layers'\n",
    "ret_struct = 3*[0]\n",
    "max_acc = 0\n",
    "for i in range(1,11):\n",
    "    print(\"[hidden layers: %i] \" %i, end='')\n",
    "    acc = train_mlp_acc(in_p=13, hd_1=i, hd_2=i, train_y=y_train)\n",
    "    if acc > max_acc:\n",
    "        # Esta rotina grava o melhor valor de i para os 'hidden layers'\n",
    "        ret_struct[0]=i;\n",
    "        max_acc=acc"
   ]
  },
  {
   "cell_type": "code",
   "execution_count": 88,
   "metadata": {},
   "outputs": [
    {
     "name": "stdout",
     "output_type": "stream",
     "text": [
      "O melhor valor para os 'hidden layers' é: 9\n"
     ]
    }
   ],
   "source": [
    "print(\"O melhor valor para os 'hidden layers' é:\", ret_struct[0])"
   ]
  },
  {
   "cell_type": "code",
   "execution_count": 89,
   "metadata": {},
   "outputs": [
    {
     "name": "stdout",
     "output_type": "stream",
     "text": [
      "[elu] Training Evaluation: loss = 0.428, accuracy = 81.88%\n",
      "[selu] Training Evaluation: loss = 0.435, accuracy = 81.18%\n",
      "[relu] Training Evaluation: loss = 0.430, accuracy = 81.18%\n",
      "[tanh] Training Evaluation: loss = 0.423, accuracy = 80.76%\n",
      "[sigmoid] Training Evaluation: loss = 0.439, accuracy = 80.90%\n",
      "[hard_sigmoid] Training Evaluation: loss = 0.440, accuracy = 79.78%\n",
      "[softplus] Training Evaluation: loss = 0.432, accuracy = 80.62%\n",
      "[softsign] Training Evaluation: loss = 0.417, accuracy = 82.16%\n",
      "[linear] Training Evaluation: loss = 0.436, accuracy = 80.48%\n"
     ]
    }
   ],
   "source": [
    "# Aqui a melhor função de ativação será escolhida baseada em sua acurácia\n",
    "activation_functions = ['elu', 'selu', 'relu', 'tanh', 'sigmoid', \n",
    "                        'hard_sigmoid', 'softplus', 'softsign', 'linear']\n",
    "max_acc = 0\n",
    "for activation in activation_functions:\n",
    "    print(\"[%s] \" %activation, end='')\n",
    "    acc = train_mlp_acc(in_p=13, activation=activation, train_y=y_train)\n",
    "    if acc > max_acc:\n",
    "        # Esta rotina salva a função de ativação com melhor acurácia \n",
    "        ret_struct[1]=activation\n",
    "        max_acc=acc"
   ]
  },
  {
   "cell_type": "code",
   "execution_count": 90,
   "metadata": {},
   "outputs": [
    {
     "name": "stdout",
     "output_type": "stream",
     "text": [
      "A melhor função de ativação para o modelo é:  softsign\n"
     ]
    }
   ],
   "source": [
    "print(\"A melhor função de ativação para o modelo é: \", ret_struct[1])"
   ]
  },
  {
   "cell_type": "code",
   "execution_count": 91,
   "metadata": {},
   "outputs": [
    {
     "name": "stdout",
     "output_type": "stream",
     "text": [
      "[SGD] Training Evaluation: loss = 0.440, accuracy = 81.18%\n",
      "[RMSprop] Training Evaluation: loss = 0.445, accuracy = 80.76%\n",
      "[Adagrad] Training Evaluation: loss = 0.643, accuracy = 62.78%\n",
      "[Adadelta] Training Evaluation: loss = 1.165, accuracy = 38.34%\n",
      "[Adam] Training Evaluation: loss = 0.435, accuracy = 80.90%\n",
      "[Adamax] Training Evaluation: loss = 0.443, accuracy = 79.78%\n",
      "[Nadam] Training Evaluation: loss = 0.434, accuracy = 81.04%\n"
     ]
    }
   ],
   "source": [
    "optimization_functions = ['SGD', 'RMSprop', 'Adagrad', 'Adadelta',\n",
    "                          'Adam', 'Adamax', 'Nadam']\n",
    "max_acc = 0\n",
    "for optimizer in optimization_functions:\n",
    "    print(\"[%s] \" %optimizer, end='')\n",
    "    acc= train_mlp_acc(in_p=13, optimizer=optimizer, train_y=y_train)\n",
    "    if acc > max_acc:\n",
    "        # Esta rotina salva a função de otimização com melhor acurácia \n",
    "        ret_struct[2]=optimizer\n",
    "        max_acc=acc"
   ]
  },
  {
   "cell_type": "code",
   "execution_count": 92,
   "metadata": {},
   "outputs": [
    {
     "name": "stdout",
     "output_type": "stream",
     "text": [
      "O melhor otimizador para este modelo é: SGD\n"
     ]
    }
   ],
   "source": [
    "print(\"O melhor otimizador para este modelo é:\",ret_struct[2])"
   ]
  },
  {
   "cell_type": "code",
   "execution_count": 93,
   "metadata": {},
   "outputs": [],
   "source": [
    "# Função para treinar o modelo \n",
    "def train_mlp(model, in_p=17, hd_1=5, hd_2=5, output=2, activation='linear', optimizer='adam',\\\n",
    "              train_x=X_train, train_y=y_train, epochs=10):  \n",
    "    # Adiciona o layer de entrada mais o primeiro 'hidden layer'\n",
    "    model.add(keras.layers.Dense(input_dim=in_p,\\\n",
    "              units=hd_2, activation=activation))\n",
    "\n",
    "    # Adiciona o segundo 'hidden layer'\n",
    "    model.add(keras.layers.Dense(units=hd_2, activation=activation))\n",
    "\n",
    "    # Adiciona o layer de 'output'\n",
    "    model.add(keras.layers.Dense(units=output, activation=\"softmax\"))\n",
    "    \n",
    "    model.compile(loss = 'categorical_crossentropy',\\\n",
    "                  optimizer = optimizer, metrics = ['accuracy'])\n",
    "\n",
    "    training_stats = model.fit(train_x, train_y, batch_size = 1,\\\n",
    "                               epochs = epochs, verbose = 0, shuffle = False)\n",
    "    print('Training Evaluation: loss = %0.3f, accuracy = %0.2f%%'\n",
    "          %(training_stats.history['loss'][-1], 100 * training_stats.\\\n",
    "                                             history['accuracy'][-1]))\n",
    "    return model"
   ]
  },
  {
   "cell_type": "code",
   "execution_count": 94,
   "metadata": {},
   "outputs": [
    {
     "name": "stdout",
     "output_type": "stream",
     "text": [
      "[9, 'softsign', 'SGD']\n",
      "Training Evaluation: loss = 0.419, accuracy = 82.16%\n"
     ]
    }
   ],
   "source": [
    "print(ret_struct)\n",
    "model = keras.models.Sequential()\n",
    "\n",
    "model = train_mlp(model,in_p=13, hd_1=ret_struct[0], hd_2=ret_struct[0], activation=ret_struct[1],\\\n",
    "                  optimizer=ret_struct[2], train_y=y_train)"
   ]
  },
  {
   "cell_type": "code",
   "execution_count": 95,
   "metadata": {},
   "outputs": [
    {
     "name": "stdout",
     "output_type": "stream",
     "text": [
      "Test Set Evaluation: loss = 0.423659, accuracy = 81.01\n"
     ]
    }
   ],
   "source": [
    "# one-hot encoding\n",
    "labels=np.array(y_test['Survived'])\n",
    "y_test = OneHotEncoder(sparse=False).fit_transform(np.transpose([labels]))\n",
    "\n",
    "# Avalia o modelo com os dados dde teste\n",
    "evaluation = model.evaluate(X_test,y_test, verbose=0)\n",
    "\n",
    "print('Test Set Evaluation: loss = %0.6f, accuracy = %0.2f' %(evaluation[0], 100*evaluation[1]))\n",
    "\n",
    "resultados_acur[5] = evaluation[1]"
   ]
  },
  {
   "cell_type": "markdown",
   "metadata": {},
   "source": [
    "7. Acurácia por Modelo"
   ]
  },
  {
   "cell_type": "code",
   "execution_count": 96,
   "metadata": {},
   "outputs": [
    {
     "name": "stdout",
     "output_type": "stream",
     "text": [
      "Regressão Logística : 81.01 %\n",
      "Classificação Bayseana : 81.56 %\n",
      "Árvore de Decisão : 79.33 %\n",
      "Random Forests : 82.12 %\n",
      "SVM : 82.68 %\n",
      "MLP : 81.01 %\n"
     ]
    }
   ],
   "source": [
    "for i in range(len(resultados_acur)):\n",
    "    print(model_list[i], \":\", \"{:.2f}\".format(resultados_acur[i]*100),\"%\")"
   ]
  }
 ],
 "metadata": {
  "kernelspec": {
   "display_name": "Python 3",
   "language": "python",
   "name": "python3"
  },
  "language_info": {
   "codemirror_mode": {
    "name": "ipython",
    "version": 3
   },
   "file_extension": ".py",
   "mimetype": "text/x-python",
   "name": "python",
   "nbconvert_exporter": "python",
   "pygments_lexer": "ipython3",
   "version": "3.6.9"
  }
 },
 "nbformat": 4,
 "nbformat_minor": 4
}
