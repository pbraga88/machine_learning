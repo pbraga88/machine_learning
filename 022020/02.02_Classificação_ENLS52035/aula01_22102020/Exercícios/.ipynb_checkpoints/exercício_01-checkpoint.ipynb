{
 "cells": [
  {
   "cell_type": "markdown",
   "metadata": {},
   "source": [
    "# Exercicio Regressão Linear\n",
    "\n",
    "Considere o dataset a seguir. O dataset apresenta um conjunto de caracteristicas para o levantamento de preços de residências para a região de boston"
   ]
  },
  {
   "cell_type": "code",
   "execution_count": 1,
   "metadata": {},
   "outputs": [
    {
     "name": "stdout",
     "output_type": "stream",
     "text": [
      ".. _boston_dataset:\n",
      "\n",
      "Boston house prices dataset\n",
      "---------------------------\n",
      "\n",
      "**Data Set Characteristics:**  \n",
      "\n",
      "    :Number of Instances: 506 \n",
      "\n",
      "    :Number of Attributes: 13 numeric/categorical predictive. Median Value (attribute 14) is usually the target.\n",
      "\n",
      "    :Attribute Information (in order):\n",
      "        - CRIM     per capita crime rate by town\n",
      "        - ZN       proportion of residential land zoned for lots over 25,000 sq.ft.\n",
      "        - INDUS    proportion of non-retail business acres per town\n",
      "        - CHAS     Charles River dummy variable (= 1 if tract bounds river; 0 otherwise)\n",
      "        - NOX      nitric oxides concentration (parts per 10 million)\n",
      "        - RM       average number of rooms per dwelling\n",
      "        - AGE      proportion of owner-occupied units built prior to 1940\n",
      "        - DIS      weighted distances to five Boston employment centres\n",
      "        - RAD      index of accessibility to radial highways\n",
      "        - TAX      full-value property-tax rate per $10,000\n",
      "        - PTRATIO  pupil-teacher ratio by town\n",
      "        - B        1000(Bk - 0.63)^2 where Bk is the proportion of blacks by town\n",
      "        - LSTAT    % lower status of the population\n",
      "        - MEDV     Median value of owner-occupied homes in $1000's\n",
      "\n",
      "    :Missing Attribute Values: None\n",
      "\n",
      "    :Creator: Harrison, D. and Rubinfeld, D.L.\n",
      "\n",
      "This is a copy of UCI ML housing dataset.\n",
      "https://archive.ics.uci.edu/ml/machine-learning-databases/housing/\n",
      "\n",
      "\n",
      "This dataset was taken from the StatLib library which is maintained at Carnegie Mellon University.\n",
      "\n",
      "The Boston house-price data of Harrison, D. and Rubinfeld, D.L. 'Hedonic\n",
      "prices and the demand for clean air', J. Environ. Economics & Management,\n",
      "vol.5, 81-102, 1978.   Used in Belsley, Kuh & Welsch, 'Regression diagnostics\n",
      "...', Wiley, 1980.   N.B. Various transformations are used in the table on\n",
      "pages 244-261 of the latter.\n",
      "\n",
      "The Boston house-price data has been used in many machine learning papers that address regression\n",
      "problems.   \n",
      "     \n",
      ".. topic:: References\n",
      "\n",
      "   - Belsley, Kuh & Welsch, 'Regression diagnostics: Identifying Influential Data and Sources of Collinearity', Wiley, 1980. 244-261.\n",
      "   - Quinlan,R. (1993). Combining Instance-Based and Model-Based Learning. In Proceedings on the Tenth International Conference of Machine Learning, 236-243, University of Massachusetts, Amherst. Morgan Kaufmann.\n",
      "\n"
     ]
    }
   ],
   "source": [
    "import numpy as np\n",
    "from sklearn.datasets import load_boston\n",
    "\n",
    "boston = load_boston()\n",
    "print(boston.DESCR)"
   ]
  },
  {
   "cell_type": "markdown",
   "metadata": {},
   "source": [
    "## Parte 1 -  Analise dos dados\n",
    "\n",
    "Observe os dados de forma grafica e veja a correlação entre as diferentes features do modelo. Observe quais são as melhores features do modelo. Considere o`pairplot`como um bom candidato para a tarefa "
   ]
  },
  {
   "cell_type": "code",
   "execution_count": 2,
   "metadata": {},
   "outputs": [],
   "source": [
    "### Seu codigo aqui. Voce pode utilizar quantas celulas voce achar necessario."
   ]
  },
  {
   "cell_type": "markdown",
   "metadata": {},
   "source": [
    "## Parte 2 - Utilizando a biblioteca do Sklearn"
   ]
  },
  {
   "cell_type": "markdown",
   "metadata": {},
   "source": [
    "### Parte 2.1 - Separando os conjuntos de treinamento e teste\n",
    "\n",
    "Separe o seu dataset com as features que você achou mais conveniente (podem ser todas as features inclusive) em um conjunto de treinamento e teste. Utilize a proporção 80%-20% "
   ]
  },
  {
   "cell_type": "code",
   "execution_count": 22,
   "metadata": {},
   "outputs": [
    {
     "name": "stdout",
     "output_type": "stream",
     "text": [
      "Vetor de features original \n",
      "[[0 1]\n",
      " [2 3]\n",
      " [4 5]\n",
      " [6 7]\n",
      " [8 9]]\n",
      "Vetor de previsoes original \n",
      "range(0, 5)\n",
      "Vetor de features de treinamento\n",
      "[[2 3]\n",
      " [8 9]\n",
      " [6 7]]\n",
      "Vetor de previsoes de treinamento \n",
      "[1, 4, 3]\n",
      "Vetor de features de teste\n",
      "[[0 1]\n",
      " [4 5]]\n",
      "Vetor de previsoes de teste\n",
      "[0, 2]\n"
     ]
    }
   ],
   "source": [
    "# Exemplo\n",
    "# Observe que os vetores X e y sao repartidos\n",
    "# em dois vetores com 70% e 30% dos dados originais\n",
    "from sklearn.model_selection import train_test_split\n",
    "\n",
    "\n",
    "X, y = np.arange(10).reshape((5, 2)), range(5)\n",
    "print(f\"Vetor de features original \\n{X}\")\n",
    "print(f\"Vetor de previsoes original \\n{y}\")\n",
    "\n",
    "\n",
    "X_train, X_test, y_train, y_test = train_test_split(\n",
    "    X, y, test_size=0.3)\n",
    "\n",
    "print(f\"Vetor de features de treinamento\\n{X_train}\")\n",
    "print(f\"Vetor de previsoes de treinamento \\n{y_train}\")\n",
    "\n",
    "print(f\"Vetor de features de teste\\n{X_test}\")\n",
    "print(f\"Vetor de previsoes de teste\\n{y_test}\")"
   ]
  },
  {
   "cell_type": "markdown",
   "metadata": {},
   "source": [
    "### Parte 2.2 - Criando um regressor com a biblioteca `sklearn`\n",
    "\n",
    "Crie um regressor utilizando a biblioteca padrão do `sklearn`. Utilize o conjunto de treinamento para fitar o modelo."
   ]
  },
  {
   "cell_type": "code",
   "execution_count": 21,
   "metadata": {},
   "outputs": [],
   "source": [
    "# Seu codigo aqui"
   ]
  },
  {
   "cell_type": "markdown",
   "metadata": {},
   "source": [
    "### Parte 2.3 - Verificando qualidade do modelo\n",
    "\n",
    "Observe a qualidade do seu regressor com o uso do RMSE. O RMSE é uma função que calcula o erro médio quadrado do regressor e dado pela seguinte equação.\n",
    "\n",
    "$$\\mathrm{RMSE}=\\left[\\sum_{i=1}^{N}\\left(y_i-\\bar{y}\\right)^{2} / N\\right]^{1 / 2}$$\n",
    "\n",
    "Onde:\n",
    "* $y_i$ corresponde a cada saida do regressor\n",
    "* $\\bar{y}$ média das saidas do regressor\n",
    "* $N$ número de elementos\n"
   ]
  },
  {
   "cell_type": "code",
   "execution_count": 23,
   "metadata": {},
   "outputs": [],
   "source": [
    "# Seu codigo aqui"
   ]
  },
  {
   "cell_type": "markdown",
   "metadata": {},
   "source": [
    "## Parte 3 - Criando um modelo de regressão linear do zero\n",
    "\n",
    "Utilze o modelo apresentado na aula para criar um regressor linear utilizando apenas a biblioteca numpy como base. Para tal, implemente o método dos mínimos quadrados apresentado em aula e verifique a qualidade do modelo assim como mostrado na **Parte 2.3**"
   ]
  },
  {
   "cell_type": "code",
   "execution_count": 25,
   "metadata": {},
   "outputs": [],
   "source": [
    "# Seu codigo aqui"
   ]
  }
 ],
 "metadata": {
  "kernelspec": {
   "display_name": "Python 3",
   "language": "python",
   "name": "python3"
  },
  "language_info": {
   "codemirror_mode": {
    "name": "ipython",
    "version": 3
   },
   "file_extension": ".py",
   "mimetype": "text/x-python",
   "name": "python",
   "nbconvert_exporter": "python",
   "pygments_lexer": "ipython3",
   "version": "3.6.9"
  }
 },
 "nbformat": 4,
 "nbformat_minor": 2
}
