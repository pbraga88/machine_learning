{
 "cells": [
  {
   "cell_type": "markdown",
   "metadata": {},
   "source": [
    "# MNIST\n",
    "\n",
    "Neste exercício, usaremos o conjunto de dados MNIST, que é um conjunto de 70.000 pequenas imagens de dígitos manuscritos por estudantes do ensino médio e funcionários do US Census Bureau. Cada imagem é rotulada com o dígito que representa. Esse conjunto foi estudado tanto que costuma ser chamado de “Olá Mundo” do Machine Learning: sempre que as pessoas criam um novo algoritmo de classificação, ficam curiosas para ver como ele será executado no MNIST. Sempre que alguém aprende o Machine Learning, mais cedo ou mais tarde ele enfrenta o MNIST.\n",
    "\n",
    "https://en.wikipedia.org/wiki/MNIST_database"
   ]
  },
  {
   "cell_type": "markdown",
   "metadata": {},
   "source": [
    "![https://upload.wikimedia.org/wikipedia/commons/2/27/MnistExamples.png](https://upload.wikimedia.org/wikipedia/commons/2/27/MnistExamples.png)\n",
    "              Referência: https://upload.wikimedia.org/wikipedia/commons/2/27/MnistExamples.png"
   ]
  },
  {
   "cell_type": "markdown",
   "metadata": {},
   "source": [
    "# Parte 0\n",
    "\n",
    "The probability of correctly diagnosing a rare disease is 0.70. When diagnosed correctly, the probability of cure is 0.90. If not diagnosed correctly, the probability of cure is 0.40. If the patient with the disease is cured, what is the probability that he has been diagnosed correctly?"
   ]
  },
  {
   "cell_type": "code",
   "execution_count": null,
   "metadata": {},
   "outputs": [],
   "source": [
    "# Seu codigo aqui"
   ]
  },
  {
   "cell_type": "markdown",
   "metadata": {},
   "source": [
    "# Parte 1\n",
    "\n",
    "Crie um classificador Naive Bayes para o MNIST dataset"
   ]
  },
  {
   "cell_type": "code",
   "execution_count": 3,
   "metadata": {},
   "outputs": [],
   "source": [
    "# Seu codigo aqui"
   ]
  },
  {
   "cell_type": "markdown",
   "metadata": {},
   "source": [
    "# Parte 2 - Desafio\n",
    "\n",
    "Implemente o classificador para o MNIST utilizando apenas a biblioteca numpy e auxiliares. Não utilize o `scikit-learn`."
   ]
  },
  {
   "cell_type": "code",
   "execution_count": 1,
   "metadata": {},
   "outputs": [],
   "source": [
    "# Seu codigo aqui"
   ]
  }
 ],
 "metadata": {
  "kernelspec": {
   "display_name": "Python 3",
   "language": "python",
   "name": "python3"
  },
  "language_info": {
   "codemirror_mode": {
    "name": "ipython",
    "version": 3
   },
   "file_extension": ".py",
   "mimetype": "text/x-python",
   "name": "python",
   "nbconvert_exporter": "python",
   "pygments_lexer": "ipython3",
   "version": "3.7.3"
  }
 },
 "nbformat": 4,
 "nbformat_minor": 4
}
