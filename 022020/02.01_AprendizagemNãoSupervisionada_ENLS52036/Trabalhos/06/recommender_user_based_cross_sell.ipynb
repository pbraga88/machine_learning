{
 "cells": [
  {
   "cell_type": "code",
   "execution_count": 1,
   "metadata": {
    "id": "TXW8TrJrM5fr"
   },
   "outputs": [],
   "source": [
    "import pandas as pd\n",
    "import numpy as np\n",
    "import math"
   ]
  },
  {
   "cell_type": "code",
   "execution_count": 50,
   "metadata": {
    "id": "gk6v9_czM5fs"
   },
   "outputs": [],
   "source": [
    "#o primeiro elemento é o id do usuário, o segundo é a lista de discos comprados na transação\n",
    "trans_id=[\n",
    "          (0,[0,1]),(1,[3,4]),(1,[7]),(2,[3,4,6]),(6,[4,5]),(3,[4,5,8]),(4,[9]),(5,[7,8]),(5,[0]),(6,[8,0,1]),(8,[0,9]),(9,[3]),(9,[5,6]),(7,[4,7])\n",
    "]\n"
   ]
  },
  {
   "cell_type": "code",
   "execution_count": 51,
   "metadata": {
    "id": "epdKT08QOkTR"
   },
   "outputs": [],
   "source": [
    "#associação entre ids de bandas e seus nomes\n",
    "dic={0:'metallica',1:'beatles',2:'stones',3:'black sabbath',4:'rush',5:'van halen',6:'the who',7:'the police',8:'pink floyd',9:'led zeppelin'}"
   ]
  },
  {
   "cell_type": "code",
   "execution_count": 52,
   "metadata": {
    "colab": {
     "base_uri": "https://localhost:8080/"
    },
    "id": "-EdOd3OERb-G",
    "outputId": "3d408a84-77d3-4360-d652-b38db180fc10"
   },
   "outputs": [
    {
     "data": {
      "text/plain": [
       "[[0, 0, 0, 0, 0, 0, 0, 0, 0, 0],\n",
       " [0, 0, 0, 0, 0, 0, 0, 0, 0, 0],\n",
       " [0, 0, 0, 0, 0, 0, 0, 0, 0, 0],\n",
       " [0, 0, 0, 0, 0, 0, 0, 0, 0, 0],\n",
       " [0, 0, 0, 0, 0, 0, 0, 0, 0, 0],\n",
       " [0, 0, 0, 0, 0, 0, 0, 0, 0, 0],\n",
       " [0, 0, 0, 0, 0, 0, 0, 0, 0, 0],\n",
       " [0, 0, 0, 0, 0, 0, 0, 0, 0, 0],\n",
       " [0, 0, 0, 0, 0, 0, 0, 0, 0, 0],\n",
       " [0, 0, 0, 0, 0, 0, 0, 0, 0, 0]]"
      ]
     },
     "execution_count": 52,
     "metadata": {},
     "output_type": "execute_result"
    }
   ],
   "source": [
    "#Criação da matriz A\n",
    "A=[[0]*10 for i in range(10)]\n",
    "A"
   ]
  },
  {
   "cell_type": "code",
   "execution_count": 53,
   "metadata": {
    "colab": {
     "base_uri": "https://localhost:8080/"
    },
    "id": "ZhfdjfhPM5ft",
    "outputId": "372dcc62-9869-4861-b06b-5d3cbd0f8bb3"
   },
   "outputs": [
    {
     "data": {
      "text/plain": [
       "array([[1, 1, 0, 0, 0, 0, 0, 0, 0, 0],\n",
       "       [0, 0, 0, 1, 1, 0, 0, 1, 0, 0],\n",
       "       [0, 0, 0, 1, 1, 0, 1, 0, 0, 0],\n",
       "       [0, 0, 0, 0, 1, 1, 0, 0, 1, 0],\n",
       "       [0, 0, 0, 0, 0, 0, 0, 0, 0, 1],\n",
       "       [1, 0, 0, 0, 0, 0, 0, 1, 1, 0],\n",
       "       [1, 1, 0, 0, 1, 1, 0, 0, 1, 0],\n",
       "       [0, 0, 0, 0, 1, 0, 0, 1, 0, 0],\n",
       "       [1, 0, 0, 0, 0, 0, 0, 0, 0, 1],\n",
       "       [0, 0, 0, 1, 0, 1, 1, 0, 0, 0]])"
      ]
     },
     "execution_count": 53,
     "metadata": {},
     "output_type": "execute_result"
    }
   ],
   "source": [
    "#montagem da matriz A a partir das transações\n",
    "for i in range(len(trans_id)):\n",
    "  lin=trans_id[i][0]\n",
    "  for j in range(len(trans_id[i][1])):\n",
    "    A[lin][trans_id[i][1][j]]=1\n",
    "A=np.array(A)\n",
    "A"
   ]
  },
  {
   "cell_type": "code",
   "execution_count": 54,
   "metadata": {
    "id": "bJvaDTNnM5ft"
   },
   "outputs": [],
   "source": [
    "def sim(v1,v2):\n",
    "    return np.inner(v1,v2)/(np.linalg.norm(v1)*np.linalg.norm(v2))"
   ]
  },
  {
   "cell_type": "markdown",
   "metadata": {
    "id": "UwfnFKQKM5ft"
   },
   "source": [
    "Gerar a Matriz de Similaridade WC"
   ]
  },
  {
   "cell_type": "markdown",
   "metadata": {
    "id": "bn6C-83xM5ft"
   },
   "source": [
    "Obtenha a matriz de recomendações USER BASED"
   ]
  },
  {
   "cell_type": "markdown",
   "metadata": {
    "id": "lnXFSunhM5ft"
   },
   "source": [
    "Gerar a função de recomendação"
   ]
  },
  {
   "cell_type": "code",
   "execution_count": 55,
   "metadata": {
    "colab": {
     "base_uri": "https://localhost:8080/"
    },
    "id": "IRSS65TjM5ft",
    "outputId": "02f9e68e-ba14-4b24-cc49-685d8379fdb4"
   },
   "outputs": [
    {
     "data": {
      "text/plain": [
       "array([[1.        , 0.        , 0.        , 0.        , 0.        ,\n",
       "        0.40824829, 0.63245553, 0.        , 0.5       , 0.        ],\n",
       "       [0.        , 1.        , 0.66666667, 0.33333333, 0.        ,\n",
       "        0.33333333, 0.25819889, 0.81649658, 0.        , 0.33333333],\n",
       "       [0.        , 0.66666667, 1.        , 0.33333333, 0.        ,\n",
       "        0.        , 0.25819889, 0.40824829, 0.        , 0.66666667],\n",
       "       [0.        , 0.33333333, 0.33333333, 1.        , 0.        ,\n",
       "        0.33333333, 0.77459667, 0.40824829, 0.        , 0.33333333],\n",
       "       [0.        , 0.        , 0.        , 0.        , 1.        ,\n",
       "        0.        , 0.        , 0.        , 0.70710678, 0.        ],\n",
       "       [0.40824829, 0.33333333, 0.        , 0.33333333, 0.        ,\n",
       "        1.        , 0.51639778, 0.40824829, 0.40824829, 0.        ],\n",
       "       [0.63245553, 0.25819889, 0.25819889, 0.77459667, 0.        ,\n",
       "        0.51639778, 1.        , 0.31622777, 0.31622777, 0.25819889],\n",
       "       [0.        , 0.81649658, 0.40824829, 0.40824829, 0.        ,\n",
       "        0.40824829, 0.31622777, 1.        , 0.        , 0.        ],\n",
       "       [0.5       , 0.        , 0.        , 0.        , 0.70710678,\n",
       "        0.40824829, 0.31622777, 0.        , 1.        , 0.        ],\n",
       "       [0.        , 0.33333333, 0.66666667, 0.33333333, 0.        ,\n",
       "        0.        , 0.25819889, 0.        , 0.        , 1.        ]])"
      ]
     },
     "execution_count": 55,
     "metadata": {},
     "output_type": "execute_result"
    }
   ],
   "source": [
    "m,n=A.shape\n",
    "WC=np.identity(m)\n",
    "for i in range(m):\n",
    "    for j in range(i+1,m):\n",
    "        WC[i,j]=sim(A[i],A[j])\n",
    "        WC[j,i]=WC[i,j]\n",
    "WC        "
   ]
  },
  {
   "cell_type": "code",
   "execution_count": 56,
   "metadata": {
    "colab": {
     "base_uri": "https://localhost:8080/"
    },
    "id": "-dOOv2SKM5fu",
    "outputId": "fc679c6c-f319-4302-decc-4b5f2130581b"
   },
   "outputs": [
    {
     "data": {
      "text/plain": [
       "array([[2.54070382, 1.63245553, 0.        , 0.        , 0.63245553,\n",
       "        0.63245553, 0.        , 0.40824829, 1.04070382, 0.5       ],\n",
       "       [0.59153222, 0.25819889, 0.        , 2.        , 3.07469547,\n",
       "        0.92486556, 1.        , 2.14982991, 0.92486556, 0.        ],\n",
       "       [0.25819889, 0.25819889, 0.        , 2.33333333, 2.66644718,\n",
       "        1.25819889, 1.66666667, 1.07491496, 0.59153222, 0.        ],\n",
       "       [1.10793   , 0.77459667, 0.        , 1.        , 2.84951163,\n",
       "        2.10793   , 0.66666667, 1.07491496, 2.10793   , 0.        ],\n",
       "       [0.70710678, 0.        , 0.        , 0.        , 0.        ,\n",
       "        0.        , 0.        , 0.        , 0.        , 1.70710678],\n",
       "       [2.33289436, 0.92464607, 0.        , 0.33333333, 1.59131274,\n",
       "        0.84973111, 0.        , 1.74158162, 1.84973111, 0.40824829],\n",
       "       [2.46508108, 1.63245553, 0.        , 0.77459667, 2.60722221,\n",
       "        2.03279556, 0.51639778, 1.09082444, 2.29099445, 0.31622777],\n",
       "       [0.72447606, 0.31622777, 0.        , 1.22474487, 2.94922093,\n",
       "        0.72447606, 0.40824829, 2.22474487, 1.13272435, 0.        ],\n",
       "       [2.22447606, 0.81622777, 0.        , 0.        , 0.31622777,\n",
       "        0.31622777, 0.        , 0.40824829, 0.72447606, 1.70710678],\n",
       "       [0.25819889, 0.25819889, 0.        , 2.        , 1.59153222,\n",
       "        1.59153222, 1.66666667, 0.33333333, 0.59153222, 0.        ]])"
      ]
     },
     "execution_count": 56,
     "metadata": {},
     "output_type": "execute_result"
    }
   ],
   "source": [
    "#matriz de recomendação é só multiplicar WC por A (user based)\n",
    "REC=np.dot(WC,A)\n",
    "REC"
   ]
  },
  {
   "cell_type": "code",
   "execution_count": 57,
   "metadata": {
    "id": "RFB7yW7yM5fu"
   },
   "outputs": [],
   "source": [
    "def rec_user(id,REC,A,d):\n",
    "    va=A[id]\n",
    "    ra=REC[id]\n",
    "    for i in range(len(va)):\n",
    "        if va[i]==1:ra[i]=-1\n",
    "    return d[np.argmax(ra)]"
   ]
  },
  {
   "cell_type": "code",
   "execution_count": 58,
   "metadata": {
    "colab": {
     "base_uri": "https://localhost:8080/",
     "height": 35
    },
    "id": "KFnLKfN8M5fu",
    "outputId": "fb079b38-9648-4a85-e3c4-d91c05ababcb"
   },
   "outputs": [
    {
     "data": {
      "text/plain": [
       "'pink floyd'"
      ]
     },
     "execution_count": 58,
     "metadata": {},
     "output_type": "execute_result"
    }
   ],
   "source": [
    "rec_user(0,REC,A,dic)"
   ]
  },
  {
   "cell_type": "code",
   "execution_count": 59,
   "metadata": {
    "colab": {
     "base_uri": "https://localhost:8080/"
    },
    "id": "AMBeWVY1M5fu",
    "outputId": "5359787a-6406-4d9c-a9cb-7f72b190d98a"
   },
   "outputs": [
    {
     "name": "stdout",
     "output_type": "stream",
     "text": [
      "user  0  recomendação  pink floyd\n",
      "user  1  recomendação  the who\n",
      "user  2  recomendação  van halen\n",
      "user  3  recomendação  metallica\n",
      "user  4  recomendação  metallica\n",
      "user  5  recomendação  rush\n",
      "user  6  recomendação  the police\n",
      "user  7  recomendação  black sabbath\n",
      "user  8  recomendação  beatles\n",
      "user  9  recomendação  rush\n"
     ]
    }
   ],
   "source": [
    "for i in range(m):\n",
    "    print('user ',i,' recomendação ',rec_user(i,REC,A,dic))"
   ]
  },
  {
   "cell_type": "code",
   "execution_count": 60,
   "metadata": {
    "colab": {
     "base_uri": "https://localhost:8080/"
    },
    "id": "o2NlsXgzM5fu",
    "outputId": "a45579f4-f116-4bc6-d331-9de621667973"
   },
   "outputs": [],
   "source": [
    "#instalando apyori\n",
    "# !pip install apyori\n",
    "from apyori import apriori"
   ]
  },
  {
   "cell_type": "code",
   "execution_count": 62,
   "metadata": {},
   "outputs": [
    {
     "data": {
      "text/plain": [
       "[[0, 1],\n",
       " [3, 4],\n",
       " [7],\n",
       " [3, 4, 6],\n",
       " [4, 5],\n",
       " [4, 5, 8],\n",
       " [9],\n",
       " [7, 8],\n",
       " [0],\n",
       " [8, 0, 1],\n",
       " [0, 9],\n",
       " [3],\n",
       " [5, 6],\n",
       " [4, 7]]"
      ]
     },
     "execution_count": 62,
     "metadata": {},
     "output_type": "execute_result"
    }
   ],
   "source": [
    "#parte 1: transforme a lista trans_id em trans=[['metallica','beatles'],['stones','black sabbath],.................]\n",
    "trans = []\n",
    "for i in trans_id:\n",
    "    trans.append(i[1])\n",
    "trans"
   ]
  },
  {
   "cell_type": "code",
   "execution_count": 78,
   "metadata": {},
   "outputs": [],
   "source": [
    "for i in range(len(trans)):\n",
    "    for j in range(len(trans[i])):\n",
    "        trans[i][j] = dic[trans[i][j]]"
   ]
  },
  {
   "cell_type": "code",
   "execution_count": 80,
   "metadata": {
    "colab": {
     "base_uri": "https://localhost:8080/"
    },
    "id": "mqJ_YnClXlap",
    "outputId": "d662980a-7f2c-4821-a4aa-da5de1501173"
   },
   "outputs": [
    {
     "data": {
      "text/plain": [
       "[['metallica', 'beatles'],\n",
       " ['black sabbath', 'rush'],\n",
       " ['the police'],\n",
       " ['black sabbath', 'rush', 'the who'],\n",
       " ['rush', 'van halen'],\n",
       " ['rush', 'van halen', 'pink floyd'],\n",
       " ['led zeppelin'],\n",
       " ['the police', 'pink floyd'],\n",
       " ['metallica'],\n",
       " ['pink floyd', 'metallica', 'beatles'],\n",
       " ['metallica', 'led zeppelin'],\n",
       " ['black sabbath'],\n",
       " ['van halen', 'the who'],\n",
       " ['rush', 'the police']]"
      ]
     },
     "execution_count": 80,
     "metadata": {},
     "output_type": "execute_result"
    }
   ],
   "source": [
    "trans"
   ]
  },
  {
   "cell_type": "code",
   "execution_count": 82,
   "metadata": {
    "id": "GPBw-8MDXmsJ"
   },
   "outputs": [],
   "source": [
    "#Parte 2)Rode apriori e identifique os 2 conjuntos com maior suporte\n",
    "resultado = list(apriori(trans))"
   ]
  },
  {
   "cell_type": "code",
   "execution_count": 94,
   "metadata": {},
   "outputs": [],
   "source": [
    "sup_list = []\n",
    "set_list = []\n",
    "resultado[0][1], len(resultado)\n",
    "for i in range(len(resultado)):\n",
    "    sup_list.append(resultado[i][1])\n",
    "    set_list.append(resultado[i][0])"
   ]
  },
  {
   "cell_type": "code",
   "execution_count": 109,
   "metadata": {},
   "outputs": [
    {
     "data": {
      "text/plain": [
       "[0.14285714285714285,\n",
       " 0.21428571428571427,\n",
       " 0.14285714285714285,\n",
       " 0.2857142857142857,\n",
       " 0.21428571428571427,\n",
       " 0.35714285714285715,\n",
       " 0.21428571428571427,\n",
       " 0.14285714285714285,\n",
       " 0.21428571428571427,\n",
       " 0.14285714285714285,\n",
       " 0.14285714285714285,\n",
       " 0.14285714285714285]"
      ]
     },
     "execution_count": 109,
     "metadata": {},
     "output_type": "execute_result"
    }
   ],
   "source": [
    "sup_list"
   ]
  },
  {
   "cell_type": "code",
   "execution_count": 107,
   "metadata": {},
   "outputs": [
    {
     "data": {
      "text/plain": [
       "(frozenset({'metallica'}), 0.2857142857142857)"
      ]
     },
     "execution_count": 107,
     "metadata": {},
     "output_type": "execute_result"
    }
   ],
   "source": [
    "set_list[3], sup_list[3]"
   ]
  },
  {
   "cell_type": "code",
   "execution_count": 108,
   "metadata": {},
   "outputs": [
    {
     "data": {
      "text/plain": [
       "(frozenset({'rush'}), 0.35714285714285715)"
      ]
     },
     "execution_count": 108,
     "metadata": {},
     "output_type": "execute_result"
    }
   ],
   "source": [
    "set_list[5], sup_list[5]"
   ]
  },
  {
   "cell_type": "code",
   "execution_count": 138,
   "metadata": {
    "id": "vvgPgiGrYTTl"
   },
   "outputs": [
    {
     "name": "stdout",
     "output_type": "stream",
     "text": [
      "frozenset({'metallica', 'beatles'})\n",
      "frozenset({'black sabbath', 'rush'})\n",
      "frozenset({'van halen', 'rush'})\n"
     ]
    }
   ],
   "source": [
    "#Parte 3: faça sugestões de duplas com os dois itens de maior suporte (quem comprou a, também levou b)\n",
    "quant=2\n",
    "sug = []\n",
    "for r in resultado:\n",
    "  if len(r[0])==quant:\n",
    "    print(r[0])\n"
   ]
  },
  {
   "cell_type": "code",
   "execution_count": null,
   "metadata": {},
   "outputs": [],
   "source": []
  }
 ],
 "metadata": {
  "colab": {
   "name": "recommender-user_based_cross_sell.ipynb",
   "provenance": []
  },
  "kernelspec": {
   "display_name": "Python 3",
   "language": "python",
   "name": "python3"
  },
  "language_info": {
   "codemirror_mode": {
    "name": "ipython",
    "version": 3
   },
   "file_extension": ".py",
   "mimetype": "text/x-python",
   "name": "python",
   "nbconvert_exporter": "python",
   "pygments_lexer": "ipython3",
   "version": "3.8.5"
  }
 },
 "nbformat": 4,
 "nbformat_minor": 1
}
