{
 "cells": [
  {
   "cell_type": "code",
   "execution_count": 1,
   "metadata": {
    "colab": {
     "base_uri": "https://localhost:8080/"
    },
    "id": "yw3cWi5NCZ1F",
    "outputId": "f9632f60-c096-4cdc-fc4f-ef7b2e72bbca"
   },
   "outputs": [
    {
     "name": "stdout",
     "output_type": "stream",
     "text": [
      "Requirement already satisfied: apyori in /home/pbraga/.local/lib/python3.8/site-packages (1.1.2)\r\n"
     ]
    }
   ],
   "source": [
    "!pip install apyori "
   ]
  },
  {
   "cell_type": "code",
   "execution_count": 2,
   "metadata": {
    "id": "x9wZ-NhGCckQ"
   },
   "outputs": [],
   "source": [
    "import numpy as np\n",
    "import matplotlib.pyplot as plt\n",
    "import pandas as pd\n",
    "from apyori import apriori\n",
    "import pandas as pd\n",
    "import random"
   ]
  },
  {
   "cell_type": "code",
   "execution_count": 3,
   "metadata": {
    "colab": {
     "base_uri": "https://localhost:8080/",
     "height": 255
    },
    "id": "a7RnsKxXIMzE",
    "outputId": "81a0c9ce-1d29-465a-b850-4478a4db9ae8"
   },
   "outputs": [
    {
     "data": {
      "text/html": [
       "<div>\n",
       "<style scoped>\n",
       "    .dataframe tbody tr th:only-of-type {\n",
       "        vertical-align: middle;\n",
       "    }\n",
       "\n",
       "    .dataframe tbody tr th {\n",
       "        vertical-align: top;\n",
       "    }\n",
       "\n",
       "    .dataframe thead th {\n",
       "        text-align: right;\n",
       "    }\n",
       "</style>\n",
       "<table border=\"1\" class=\"dataframe\">\n",
       "  <thead>\n",
       "    <tr style=\"text-align: right;\">\n",
       "      <th></th>\n",
       "      <th>0</th>\n",
       "      <th>1</th>\n",
       "      <th>2</th>\n",
       "      <th>3</th>\n",
       "      <th>4</th>\n",
       "      <th>5</th>\n",
       "      <th>6</th>\n",
       "      <th>7</th>\n",
       "      <th>8</th>\n",
       "      <th>9</th>\n",
       "      <th>10</th>\n",
       "      <th>11</th>\n",
       "      <th>12</th>\n",
       "      <th>13</th>\n",
       "      <th>14</th>\n",
       "      <th>15</th>\n",
       "      <th>16</th>\n",
       "      <th>17</th>\n",
       "      <th>18</th>\n",
       "      <th>19</th>\n",
       "    </tr>\n",
       "  </thead>\n",
       "  <tbody>\n",
       "    <tr>\n",
       "      <th>0</th>\n",
       "      <td>shrimp</td>\n",
       "      <td>almonds</td>\n",
       "      <td>avocado</td>\n",
       "      <td>vegetables mix</td>\n",
       "      <td>green grapes</td>\n",
       "      <td>whole weat flour</td>\n",
       "      <td>yams</td>\n",
       "      <td>cottage cheese</td>\n",
       "      <td>energy drink</td>\n",
       "      <td>tomato juice</td>\n",
       "      <td>low fat yogurt</td>\n",
       "      <td>green tea</td>\n",
       "      <td>honey</td>\n",
       "      <td>salad</td>\n",
       "      <td>mineral water</td>\n",
       "      <td>salmon</td>\n",
       "      <td>antioxydant juice</td>\n",
       "      <td>frozen smoothie</td>\n",
       "      <td>spinach</td>\n",
       "      <td>olive oil</td>\n",
       "    </tr>\n",
       "    <tr>\n",
       "      <th>1</th>\n",
       "      <td>burgers</td>\n",
       "      <td>meatballs</td>\n",
       "      <td>eggs</td>\n",
       "      <td>NaN</td>\n",
       "      <td>NaN</td>\n",
       "      <td>NaN</td>\n",
       "      <td>NaN</td>\n",
       "      <td>NaN</td>\n",
       "      <td>NaN</td>\n",
       "      <td>NaN</td>\n",
       "      <td>NaN</td>\n",
       "      <td>NaN</td>\n",
       "      <td>NaN</td>\n",
       "      <td>NaN</td>\n",
       "      <td>NaN</td>\n",
       "      <td>NaN</td>\n",
       "      <td>NaN</td>\n",
       "      <td>NaN</td>\n",
       "      <td>NaN</td>\n",
       "      <td>NaN</td>\n",
       "    </tr>\n",
       "    <tr>\n",
       "      <th>2</th>\n",
       "      <td>chutney</td>\n",
       "      <td>NaN</td>\n",
       "      <td>NaN</td>\n",
       "      <td>NaN</td>\n",
       "      <td>NaN</td>\n",
       "      <td>NaN</td>\n",
       "      <td>NaN</td>\n",
       "      <td>NaN</td>\n",
       "      <td>NaN</td>\n",
       "      <td>NaN</td>\n",
       "      <td>NaN</td>\n",
       "      <td>NaN</td>\n",
       "      <td>NaN</td>\n",
       "      <td>NaN</td>\n",
       "      <td>NaN</td>\n",
       "      <td>NaN</td>\n",
       "      <td>NaN</td>\n",
       "      <td>NaN</td>\n",
       "      <td>NaN</td>\n",
       "      <td>NaN</td>\n",
       "    </tr>\n",
       "    <tr>\n",
       "      <th>3</th>\n",
       "      <td>turkey</td>\n",
       "      <td>avocado</td>\n",
       "      <td>NaN</td>\n",
       "      <td>NaN</td>\n",
       "      <td>NaN</td>\n",
       "      <td>NaN</td>\n",
       "      <td>NaN</td>\n",
       "      <td>NaN</td>\n",
       "      <td>NaN</td>\n",
       "      <td>NaN</td>\n",
       "      <td>NaN</td>\n",
       "      <td>NaN</td>\n",
       "      <td>NaN</td>\n",
       "      <td>NaN</td>\n",
       "      <td>NaN</td>\n",
       "      <td>NaN</td>\n",
       "      <td>NaN</td>\n",
       "      <td>NaN</td>\n",
       "      <td>NaN</td>\n",
       "      <td>NaN</td>\n",
       "    </tr>\n",
       "    <tr>\n",
       "      <th>4</th>\n",
       "      <td>mineral water</td>\n",
       "      <td>milk</td>\n",
       "      <td>energy bar</td>\n",
       "      <td>whole wheat rice</td>\n",
       "      <td>green tea</td>\n",
       "      <td>NaN</td>\n",
       "      <td>NaN</td>\n",
       "      <td>NaN</td>\n",
       "      <td>NaN</td>\n",
       "      <td>NaN</td>\n",
       "      <td>NaN</td>\n",
       "      <td>NaN</td>\n",
       "      <td>NaN</td>\n",
       "      <td>NaN</td>\n",
       "      <td>NaN</td>\n",
       "      <td>NaN</td>\n",
       "      <td>NaN</td>\n",
       "      <td>NaN</td>\n",
       "      <td>NaN</td>\n",
       "      <td>NaN</td>\n",
       "    </tr>\n",
       "  </tbody>\n",
       "</table>\n",
       "</div>"
      ],
      "text/plain": [
       "              0          1           2                 3             4   \\\n",
       "0         shrimp    almonds     avocado    vegetables mix  green grapes   \n",
       "1        burgers  meatballs        eggs               NaN           NaN   \n",
       "2        chutney        NaN         NaN               NaN           NaN   \n",
       "3         turkey    avocado         NaN               NaN           NaN   \n",
       "4  mineral water       milk  energy bar  whole wheat rice     green tea   \n",
       "\n",
       "                 5     6               7             8             9   \\\n",
       "0  whole weat flour  yams  cottage cheese  energy drink  tomato juice   \n",
       "1               NaN   NaN             NaN           NaN           NaN   \n",
       "2               NaN   NaN             NaN           NaN           NaN   \n",
       "3               NaN   NaN             NaN           NaN           NaN   \n",
       "4               NaN   NaN             NaN           NaN           NaN   \n",
       "\n",
       "               10         11     12     13             14      15  \\\n",
       "0  low fat yogurt  green tea  honey  salad  mineral water  salmon   \n",
       "1             NaN        NaN    NaN    NaN            NaN     NaN   \n",
       "2             NaN        NaN    NaN    NaN            NaN     NaN   \n",
       "3             NaN        NaN    NaN    NaN            NaN     NaN   \n",
       "4             NaN        NaN    NaN    NaN            NaN     NaN   \n",
       "\n",
       "                  16               17       18         19  \n",
       "0  antioxydant juice  frozen smoothie  spinach  olive oil  \n",
       "1                NaN              NaN      NaN        NaN  \n",
       "2                NaN              NaN      NaN        NaN  \n",
       "3                NaN              NaN      NaN        NaN  \n",
       "4                NaN              NaN      NaN        NaN  "
      ]
     },
     "execution_count": 3,
     "metadata": {},
     "output_type": "execute_result"
    }
   ],
   "source": [
    "df=pd.read_csv('store_data.csv',header=None)\n",
    "df.head()"
   ]
  },
  {
   "cell_type": "code",
   "execution_count": 4,
   "metadata": {
    "colab": {
     "base_uri": "https://localhost:8080/"
    },
    "id": "8co7oLfoy7cI",
    "outputId": "e44d1f90-3d09-4845-faa5-4b1a4eb285fa"
   },
   "outputs": [
    {
     "data": {
      "text/plain": [
       "7501"
      ]
     },
     "execution_count": 4,
     "metadata": {},
     "output_type": "execute_result"
    }
   ],
   "source": [
    "len(df)"
   ]
  },
  {
   "cell_type": "code",
   "execution_count": 5,
   "metadata": {
    "id": "lsZs-NWmLmg_"
   },
   "outputs": [],
   "source": [
    "#gerar a lista de listas trans\n",
    "trans=[]\n",
    "for i in range(len(df)):\n",
    "  trans.append([x for x in list(df.iloc[i]) if str(x) != 'nan'])\n",
    "\n"
   ]
  },
  {
   "cell_type": "code",
   "execution_count": 6,
   "metadata": {
    "id": "myYMOH41EA7-"
   },
   "outputs": [],
   "source": [
    "#rodar apriori\n",
    "results=list(apriori(trans,min_support=0.02))"
   ]
  },
  {
   "cell_type": "code",
   "execution_count": 7,
   "metadata": {
    "id": "MVVSM-XcGWoZ"
   },
   "outputs": [
    {
     "name": "stdout",
     "output_type": "stream",
     "text": [
      "RelationRecord(items=frozenset({'eggs', 'burgers'}), support=0.02879616051193174, ordered_statistics=[OrderedStatistic(items_base=frozenset(), items_add=frozenset({'eggs', 'burgers'}), confidence=0.02879616051193174, lift=1.0), OrderedStatistic(items_base=frozenset({'burgers'}), items_add=frozenset({'eggs'}), confidence=0.33027522935779813, lift=1.8378297443715457), OrderedStatistic(items_base=frozenset({'eggs'}), items_add=frozenset({'burgers'}), confidence=0.1602373887240356, lift=1.8378297443715457)])\n",
      "RelationRecord(items=frozenset({'burgers', 'french fries'}), support=0.021997067057725635, ordered_statistics=[OrderedStatistic(items_base=frozenset(), items_add=frozenset({'burgers', 'french fries'}), confidence=0.021997067057725635, lift=1.0), OrderedStatistic(items_base=frozenset({'burgers'}), items_add=frozenset({'french fries'}), confidence=0.25229357798165136, lift=1.4761732671141707), OrderedStatistic(items_base=frozenset({'french fries'}), items_add=frozenset({'burgers'}), confidence=0.12870514820592824, lift=1.4761732671141707)])\n",
      "RelationRecord(items=frozenset({'burgers', 'mineral water'}), support=0.024396747100386616, ordered_statistics=[OrderedStatistic(items_base=frozenset(), items_add=frozenset({'burgers', 'mineral water'}), confidence=0.024396747100386616, lift=1.0), OrderedStatistic(items_base=frozenset({'burgers'}), items_add=frozenset({'mineral water'}), confidence=0.2798165137614679, lift=1.1738834841861134), OrderedStatistic(items_base=frozenset({'mineral water'}), items_add=frozenset({'burgers'}), confidence=0.10234899328859061, lift=1.1738834841861132)])\n",
      "RelationRecord(items=frozenset({'spaghetti', 'burgers'}), support=0.021463804826023197, ordered_statistics=[OrderedStatistic(items_base=frozenset(), items_add=frozenset({'spaghetti', 'burgers'}), confidence=0.021463804826023197, lift=1.0), OrderedStatistic(items_base=frozenset({'burgers'}), items_add=frozenset({'spaghetti'}), confidence=0.24617737003058102, lift=1.4139176513012162), OrderedStatistic(items_base=frozenset({'spaghetti'}), items_add=frozenset({'burgers'}), confidence=0.12327718223583461, lift=1.4139176513012162)])\n",
      "RelationRecord(items=frozenset({'mineral water', 'cake'}), support=0.027463004932675644, ordered_statistics=[OrderedStatistic(items_base=frozenset(), items_add=frozenset({'mineral water', 'cake'}), confidence=0.027463004932675644, lift=1.0), OrderedStatistic(items_base=frozenset({'cake'}), items_add=frozenset({'mineral water'}), confidence=0.33881578947368424, lift=1.4213966649005065), OrderedStatistic(items_base=frozenset({'mineral water'}), items_add=frozenset({'cake'}), confidence=0.11521252796420582, lift=1.4213966649005063)])\n",
      "RelationRecord(items=frozenset({'mineral water', 'chicken'}), support=0.022796960405279298, ordered_statistics=[OrderedStatistic(items_base=frozenset(), items_add=frozenset({'mineral water', 'chicken'}), confidence=0.022796960405279298, lift=1.0), OrderedStatistic(items_base=frozenset({'chicken'}), items_add=frozenset({'mineral water'}), confidence=0.38000000000000006, lift=1.5941722595078303), OrderedStatistic(items_base=frozenset({'mineral water'}), items_add=frozenset({'chicken'}), confidence=0.09563758389261746, lift=1.5941722595078303)])\n",
      "RelationRecord(items=frozenset({'eggs', 'chocolate'}), support=0.03319557392347687, ordered_statistics=[OrderedStatistic(items_base=frozenset(), items_add=frozenset({'eggs', 'chocolate'}), confidence=0.03319557392347687, lift=1.0), OrderedStatistic(items_base=frozenset({'chocolate'}), items_add=frozenset({'eggs'}), confidence=0.20260374288039054, lift=1.1273966434316094), OrderedStatistic(items_base=frozenset({'eggs'}), items_add=frozenset({'chocolate'}), confidence=0.1847181008902077, lift=1.1273966434316094)])\n",
      "RelationRecord(items=frozenset({'french fries', 'chocolate'}), support=0.03439541394480736, ordered_statistics=[OrderedStatistic(items_base=frozenset(), items_add=frozenset({'french fries', 'chocolate'}), confidence=0.03439541394480736, lift=1.0), OrderedStatistic(items_base=frozenset({'chocolate'}), items_add=frozenset({'french fries'}), confidence=0.209926769731489, lift=1.2282844771886887), OrderedStatistic(items_base=frozenset({'french fries'}), items_add=frozenset({'chocolate'}), confidence=0.20124804992199688, lift=1.2282844771886887)])\n",
      "RelationRecord(items=frozenset({'chocolate', 'frozen vegetables'}), support=0.022930275963204905, ordered_statistics=[OrderedStatistic(items_base=frozenset(), items_add=frozenset({'chocolate', 'frozen vegetables'}), confidence=0.022930275963204905, lift=1.0), OrderedStatistic(items_base=frozenset({'chocolate'}), items_add=frozenset({'frozen vegetables'}), confidence=0.13995117982099267, lift=1.468215104667505), OrderedStatistic(items_base=frozenset({'frozen vegetables'}), items_add=frozenset({'chocolate'}), confidence=0.24055944055944053, lift=1.4682151046675047)])\n",
      "RelationRecord(items=frozenset({'chocolate', 'green tea'}), support=0.023463538194907346, ordered_statistics=[OrderedStatistic(items_base=frozenset(), items_add=frozenset({'chocolate', 'green tea'}), confidence=0.023463538194907346, lift=1.0), OrderedStatistic(items_base=frozenset({'chocolate'}), items_add=frozenset({'green tea'}), confidence=0.14320585842148087, lift=1.0839426276685449), OrderedStatistic(items_base=frozenset({'green tea'}), items_add=frozenset({'chocolate'}), confidence=0.17759838546922302, lift=1.0839426276685449)])\n",
      "RelationRecord(items=frozenset({'chocolate', 'ground beef'}), support=0.023063591521130515, ordered_statistics=[OrderedStatistic(items_base=frozenset(), items_add=frozenset({'chocolate', 'ground beef'}), confidence=0.023063591521130515, lift=1.0), OrderedStatistic(items_base=frozenset({'chocolate'}), items_add=frozenset({'ground beef'}), confidence=0.1407648494711147, lift=1.4326691124597442), OrderedStatistic(items_base=frozenset({'ground beef'}), items_add=frozenset({'chocolate'}), confidence=0.23473541383989144, lift=1.4326691124597442)])\n",
      "RelationRecord(items=frozenset({'milk', 'chocolate'}), support=0.03212904946007199, ordered_statistics=[OrderedStatistic(items_base=frozenset(), items_add=frozenset({'milk', 'chocolate'}), confidence=0.03212904946007199, lift=1.0), OrderedStatistic(items_base=frozenset({'chocolate'}), items_add=frozenset({'milk'}), confidence=0.19609438567941412, lift=1.5132757067708698), OrderedStatistic(items_base=frozenset({'milk'}), items_add=frozenset({'chocolate'}), confidence=0.2479423868312757, lift=1.5132757067708698)])\n",
      "RelationRecord(items=frozenset({'mineral water', 'chocolate'}), support=0.05265964538061592, ordered_statistics=[OrderedStatistic(items_base=frozenset(), items_add=frozenset({'mineral water', 'chocolate'}), confidence=0.05265964538061592, lift=1.0), OrderedStatistic(items_base=frozenset({'chocolate'}), items_add=frozenset({'mineral water'}), confidence=0.3213995117982099, lift=1.3483320682317521), OrderedStatistic(items_base=frozenset({'mineral water'}), items_add=frozenset({'chocolate'}), confidence=0.220917225950783, lift=1.348332068231752)])\n",
      "RelationRecord(items=frozenset({'spaghetti', 'chocolate'}), support=0.03919477403012932, ordered_statistics=[OrderedStatistic(items_base=frozenset(), items_add=frozenset({'spaghetti', 'chocolate'}), confidence=0.03919477403012932, lift=1.0), OrderedStatistic(items_base=frozenset({'chocolate'}), items_add=frozenset({'spaghetti'}), confidence=0.23921887713588283, lift=1.3739516059695691), OrderedStatistic(items_base=frozenset({'spaghetti'}), items_add=frozenset({'chocolate'}), confidence=0.22511485451761104, lift=1.3739516059695691)])\n",
      "RelationRecord(items=frozenset({'cooking oil', 'mineral water'}), support=0.020130649246767097, ordered_statistics=[OrderedStatistic(items_base=frozenset(), items_add=frozenset({'cooking oil', 'mineral water'}), confidence=0.020130649246767097, lift=1.0), OrderedStatistic(items_base=frozenset({'cooking oil'}), items_add=frozenset({'mineral water'}), confidence=0.3942558746736292, lift=1.6539783646123563), OrderedStatistic(items_base=frozenset({'mineral water'}), items_add=frozenset({'cooking oil'}), confidence=0.08445190156599552, lift=1.653978364612356)])\n",
      "RelationRecord(items=frozenset({'eggs', 'french fries'}), support=0.036395147313691506, ordered_statistics=[OrderedStatistic(items_base=frozenset(), items_add=frozenset({'eggs', 'french fries'}), confidence=0.036395147313691506, lift=1.0), OrderedStatistic(items_base=frozenset({'eggs'}), items_add=frozenset({'french fries'}), confidence=0.20252225519287834, lift=1.1849605586597352), OrderedStatistic(items_base=frozenset({'french fries'}), items_add=frozenset({'eggs'}), confidence=0.21294851794071765, lift=1.1849605586597352)])\n",
      "RelationRecord(items=frozenset({'eggs', 'frozen vegetables'}), support=0.021730435941874418, ordered_statistics=[OrderedStatistic(items_base=frozenset(), items_add=frozenset({'eggs', 'frozen vegetables'}), confidence=0.021730435941874418, lift=1.0), OrderedStatistic(items_base=frozenset({'eggs'}), items_add=frozenset({'frozen vegetables'}), confidence=0.12091988130563798, lift=1.2685594820609658), OrderedStatistic(items_base=frozenset({'frozen vegetables'}), items_add=frozenset({'eggs'}), confidence=0.22797202797202798, lift=1.2685594820609658)])\n",
      "RelationRecord(items=frozenset({'eggs', 'green tea'}), support=0.025463271563791495, ordered_statistics=[OrderedStatistic(items_base=frozenset(), items_add=frozenset({'eggs', 'green tea'}), confidence=0.025463271563791495, lift=1.0), OrderedStatistic(items_base=frozenset({'eggs'}), items_add=frozenset({'green tea'}), confidence=0.14169139465875372, lift=1.0724794665341189), OrderedStatistic(items_base=frozenset({'green tea'}), items_add=frozenset({'eggs'}), confidence=0.1927346115035318, lift=1.0724794665341186)])\n",
      "RelationRecord(items=frozenset({'eggs', 'milk'}), support=0.03079589388081589, ordered_statistics=[OrderedStatistic(items_base=frozenset(), items_add=frozenset({'eggs', 'milk'}), confidence=0.03079589388081589, lift=1.0), OrderedStatistic(items_base=frozenset({'eggs'}), items_add=frozenset({'milk'}), confidence=0.17136498516320472, lift=1.322436989412756), OrderedStatistic(items_base=frozenset({'milk'}), items_add=frozenset({'eggs'}), confidence=0.23765432098765432, lift=1.322436989412756)])\n",
      "RelationRecord(items=frozenset({'eggs', 'mineral water'}), support=0.05092654312758299, ordered_statistics=[OrderedStatistic(items_base=frozenset(), items_add=frozenset({'eggs', 'mineral water'}), confidence=0.05092654312758299, lift=1.0), OrderedStatistic(items_base=frozenset({'eggs'}), items_add=frozenset({'mineral water'}), confidence=0.28338278931750743, lift=1.188844688294532), OrderedStatistic(items_base=frozenset({'mineral water'}), items_add=frozenset({'eggs'}), confidence=0.21364653243847875, lift=1.188844688294532)])\n",
      "RelationRecord(items=frozenset({'eggs', 'pancakes'}), support=0.021730435941874418, ordered_statistics=[OrderedStatistic(items_base=frozenset(), items_add=frozenset({'eggs', 'pancakes'}), confidence=0.021730435941874418, lift=1.0), OrderedStatistic(items_base=frozenset({'eggs'}), items_add=frozenset({'pancakes'}), confidence=0.12091988130563798, lift=1.27211785367965), OrderedStatistic(items_base=frozenset({'pancakes'}), items_add=frozenset({'eggs'}), confidence=0.2286115007012623, lift=1.2721178536796502)])\n",
      "RelationRecord(items=frozenset({'spaghetti', 'eggs'}), support=0.036528462871617116, ordered_statistics=[OrderedStatistic(items_base=frozenset(), items_add=frozenset({'spaghetti', 'eggs'}), confidence=0.036528462871617116, lift=1.0), OrderedStatistic(items_base=frozenset({'eggs'}), items_add=frozenset({'spaghetti'}), confidence=0.2032640949554896, lift=1.1674456173515526), OrderedStatistic(items_base=frozenset({'spaghetti'}), items_add=frozenset({'eggs'}), confidence=0.20980091883614088, lift=1.1674456173515524)])\n",
      "RelationRecord(items=frozenset({'french fries', 'green tea'}), support=0.028529529396080524, ordered_statistics=[OrderedStatistic(items_base=frozenset(), items_add=frozenset({'french fries', 'green tea'}), confidence=0.028529529396080524, lift=1.0), OrderedStatistic(items_base=frozenset({'french fries'}), items_add=frozenset({'green tea'}), confidence=0.1669266770670827, lift=1.263488400282732), OrderedStatistic(items_base=frozenset({'green tea'}), items_add=frozenset({'french fries'}), confidence=0.21594349142280528, lift=1.263488400282732)])\n",
      "RelationRecord(items=frozenset({'french fries', 'milk'}), support=0.023730169310758567, ordered_statistics=[OrderedStatistic(items_base=frozenset(), items_add=frozenset({'french fries', 'milk'}), confidence=0.023730169310758567, lift=1.0), OrderedStatistic(items_base=frozenset({'french fries'}), items_add=frozenset({'milk'}), confidence=0.1388455538221529, lift=1.0714819950822727), OrderedStatistic(items_base=frozenset({'milk'}), items_add=frozenset({'french fries'}), confidence=0.18312757201646093, lift=1.0714819950822727)])\n",
      "RelationRecord(items=frozenset({'french fries', 'mineral water'}), support=0.03372883615517931, ordered_statistics=[OrderedStatistic(items_base=frozenset(), items_add=frozenset({'french fries', 'mineral water'}), confidence=0.03372883615517931, lift=1.0), OrderedStatistic(items_base=frozenset({'french fries'}), items_add=frozenset({'mineral water'}), confidence=0.19734789391575666, lift=0.8279119419810351), OrderedStatistic(items_base=frozenset({'mineral water'}), items_add=frozenset({'french fries'}), confidence=0.14149888143176736, lift=0.8279119419810351)])\n",
      "RelationRecord(items=frozenset({'french fries', 'pancakes'}), support=0.020130649246767097, ordered_statistics=[OrderedStatistic(items_base=frozenset(), items_add=frozenset({'french fries', 'pancakes'}), confidence=0.020130649246767097, lift=1.0), OrderedStatistic(items_base=frozenset({'french fries'}), items_add=frozenset({'pancakes'}), confidence=0.11778471138845555, lift=1.2391348108342286), OrderedStatistic(items_base=frozenset({'pancakes'}), items_add=frozenset({'french fries'}), confidence=0.211781206171108, lift=1.2391348108342286)])\n",
      "RelationRecord(items=frozenset({'spaghetti', 'french fries'}), support=0.027596320490601255, ordered_statistics=[OrderedStatistic(items_base=frozenset(), items_add=frozenset({'spaghetti', 'french fries'}), confidence=0.027596320490601255, lift=1.0), OrderedStatistic(items_base=frozenset({'french fries'}), items_add=frozenset({'spaghetti'}), confidence=0.16146645865834636, lift=0.9273812453263829), OrderedStatistic(items_base=frozenset({'spaghetti'}), items_add=frozenset({'french fries'}), confidence=0.15849923430321594, lift=0.9273812453263829)])\n",
      "RelationRecord(items=frozenset({'frozen smoothie', 'mineral water'}), support=0.020263964804692707, ordered_statistics=[OrderedStatistic(items_base=frozenset(), items_add=frozenset({'frozen smoothie', 'mineral water'}), confidence=0.020263964804692707, lift=1.0), OrderedStatistic(items_base=frozenset({'frozen smoothie'}), items_add=frozenset({'mineral water'}), confidence=0.32, lift=1.342460850111857), OrderedStatistic(items_base=frozenset({'mineral water'}), items_add=frozenset({'frozen smoothie'}), confidence=0.08501118568232663, lift=1.342460850111857)])\n",
      "RelationRecord(items=frozenset({'milk', 'frozen vegetables'}), support=0.023596853752832957, ordered_statistics=[OrderedStatistic(items_base=frozenset(), items_add=frozenset({'milk', 'frozen vegetables'}), confidence=0.023596853752832957, lift=1.0), OrderedStatistic(items_base=frozenset({'frozen vegetables'}), items_add=frozenset({'milk'}), confidence=0.24755244755244757, lift=1.9103815937149273), OrderedStatistic(items_base=frozenset({'milk'}), items_add=frozenset({'frozen vegetables'}), confidence=0.1820987654320988, lift=1.9103815937149273)])\n",
      "RelationRecord(items=frozenset({'mineral water', 'frozen vegetables'}), support=0.03572856952406346, ordered_statistics=[OrderedStatistic(items_base=frozenset(), items_add=frozenset({'mineral water', 'frozen vegetables'}), confidence=0.03572856952406346, lift=1.0), OrderedStatistic(items_base=frozenset({'frozen vegetables'}), items_add=frozenset({'mineral water'}), confidence=0.37482517482517486, lift=1.57246288387228), OrderedStatistic(items_base=frozenset({'mineral water'}), items_add=frozenset({'frozen vegetables'}), confidence=0.1498881431767338, lift=1.57246288387228)])\n",
      "RelationRecord(items=frozenset({'spaghetti', 'frozen vegetables'}), support=0.027862951606452472, ordered_statistics=[OrderedStatistic(items_base=frozenset(), items_add=frozenset({'spaghetti', 'frozen vegetables'}), confidence=0.027862951606452472, lift=1.0), OrderedStatistic(items_base=frozenset({'frozen vegetables'}), items_add=frozenset({'spaghetti'}), confidence=0.29230769230769227, lift=1.678866768759571), OrderedStatistic(items_base=frozenset({'spaghetti'}), items_add=frozenset({'frozen vegetables'}), confidence=0.16003062787136293, lift=1.678866768759571)])\n",
      "RelationRecord(items=frozenset({'mineral water', 'green tea'}), support=0.03106252499666711, ordered_statistics=[OrderedStatistic(items_base=frozenset(), items_add=frozenset({'mineral water', 'green tea'}), confidence=0.03106252499666711, lift=1.0), OrderedStatistic(items_base=frozenset({'green tea'}), items_add=frozenset({'mineral water'}), confidence=0.23511604439959638, lift=0.9863565151238102), OrderedStatistic(items_base=frozenset({'mineral water'}), items_add=frozenset({'green tea'}), confidence=0.1303131991051454, lift=0.9863565151238101)])\n",
      "RelationRecord(items=frozenset({'spaghetti', 'green tea'}), support=0.026529796027196375, ordered_statistics=[OrderedStatistic(items_base=frozenset(), items_add=frozenset({'spaghetti', 'green tea'}), confidence=0.026529796027196375, lift=1.0), OrderedStatistic(items_base=frozenset({'green tea'}), items_add=frozenset({'spaghetti'}), confidence=0.2008072653884965, lift=1.153334837426579), OrderedStatistic(items_base=frozenset({'spaghetti'}), items_add=frozenset({'green tea'}), confidence=0.15237366003062788, lift=1.153334837426579)])\n",
      "RelationRecord(items=frozenset({'milk', 'ground beef'}), support=0.021997067057725635, ordered_statistics=[OrderedStatistic(items_base=frozenset(), items_add=frozenset({'milk', 'ground beef'}), confidence=0.021997067057725635, lift=1.0), OrderedStatistic(items_base=frozenset({'ground beef'}), items_add=frozenset({'milk'}), confidence=0.22388059701492538, lift=1.7277040722314356), OrderedStatistic(items_base=frozenset({'milk'}), items_add=frozenset({'ground beef'}), confidence=0.1697530864197531, lift=1.7277040722314354)])\n",
      "RelationRecord(items=frozenset({'mineral water', 'ground beef'}), support=0.040927876283162246, ordered_statistics=[OrderedStatistic(items_base=frozenset(), items_add=frozenset({'mineral water', 'ground beef'}), confidence=0.040927876283162246, lift=1.0), OrderedStatistic(items_base=frozenset({'ground beef'}), items_add=frozenset({'mineral water'}), confidence=0.41655359565807326, lift=1.7475215442008991), OrderedStatistic(items_base=frozenset({'mineral water'}), items_add=frozenset({'ground beef'}), confidence=0.17170022371364654, lift=1.7475215442008993)])\n",
      "RelationRecord(items=frozenset({'spaghetti', 'ground beef'}), support=0.03919477403012932, ordered_statistics=[OrderedStatistic(items_base=frozenset(), items_add=frozenset({'spaghetti', 'ground beef'}), confidence=0.03919477403012932, lift=1.0), OrderedStatistic(items_base=frozenset({'ground beef'}), items_add=frozenset({'spaghetti'}), confidence=0.3989145183175034, lift=2.291162176033379), OrderedStatistic(items_base=frozenset({'spaghetti'}), items_add=frozenset({'ground beef'}), confidence=0.22511485451761104, lift=2.2911621760333793)])\n",
      "RelationRecord(items=frozenset({'mineral water', 'low fat yogurt'}), support=0.023996800426609784, ordered_statistics=[OrderedStatistic(items_base=frozenset(), items_add=frozenset({'mineral water', 'low fat yogurt'}), confidence=0.023996800426609784, lift=1.0), OrderedStatistic(items_base=frozenset({'low fat yogurt'}), items_add=frozenset({'mineral water'}), confidence=0.313588850174216, lift=1.315564857470243), OrderedStatistic(items_base=frozenset({'mineral water'}), items_add=frozenset({'low fat yogurt'}), confidence=0.10067114093959731, lift=1.315564857470243)])\n",
      "RelationRecord(items=frozenset({'milk', 'mineral water'}), support=0.04799360085321957, ordered_statistics=[OrderedStatistic(items_base=frozenset(), items_add=frozenset({'milk', 'mineral water'}), confidence=0.04799360085321957, lift=1.0), OrderedStatistic(items_base=frozenset({'milk'}), items_add=frozenset({'mineral water'}), confidence=0.3703703703703704, lift=1.5537741320739085), OrderedStatistic(items_base=frozenset({'mineral water'}), items_add=frozenset({'milk'}), confidence=0.20134228187919462, lift=1.5537741320739085)])\n",
      "RelationRecord(items=frozenset({'spaghetti', 'milk'}), support=0.03546193840821224, ordered_statistics=[OrderedStatistic(items_base=frozenset(), items_add=frozenset({'spaghetti', 'milk'}), confidence=0.03546193840821224, lift=1.0), OrderedStatistic(items_base=frozenset({'milk'}), items_add=frozenset({'spaghetti'}), confidence=0.27366255144032925, lift=1.5717785592296398), OrderedStatistic(items_base=frozenset({'spaghetti'}), items_add=frozenset({'milk'}), confidence=0.20367534456355285, lift=1.57177855922964)])\n",
      "RelationRecord(items=frozenset({'mineral water', 'olive oil'}), support=0.027596320490601255, ordered_statistics=[OrderedStatistic(items_base=frozenset(), items_add=frozenset({'mineral water', 'olive oil'}), confidence=0.027596320490601255, lift=1.0), OrderedStatistic(items_base=frozenset({'mineral water'}), items_add=frozenset({'olive oil'}), confidence=0.11577181208053693, lift=1.7579035676439423), OrderedStatistic(items_base=frozenset({'olive oil'}), items_add=frozenset({'mineral water'}), confidence=0.4190283400809717, lift=1.7579035676439423)])\n",
      "RelationRecord(items=frozenset({'mineral water', 'pancakes'}), support=0.03372883615517931, ordered_statistics=[OrderedStatistic(items_base=frozenset(), items_add=frozenset({'mineral water', 'pancakes'}), confidence=0.03372883615517931, lift=1.0), OrderedStatistic(items_base=frozenset({'mineral water'}), items_add=frozenset({'pancakes'}), confidence=0.14149888143176736, lift=1.4886158620191963), OrderedStatistic(items_base=frozenset({'pancakes'}), items_add=frozenset({'mineral water'}), confidence=0.3548387096774194, lift=1.4886158620191963)])\n",
      "RelationRecord(items=frozenset({'mineral water', 'shrimp'}), support=0.023596853752832957, ordered_statistics=[OrderedStatistic(items_base=frozenset(), items_add=frozenset({'mineral water', 'shrimp'}), confidence=0.023596853752832957, lift=1.0), OrderedStatistic(items_base=frozenset({'mineral water'}), items_add=frozenset({'shrimp'}), confidence=0.09899328859060404, lift=1.385351973354703), OrderedStatistic(items_base=frozenset({'shrimp'}), items_add=frozenset({'mineral water'}), confidence=0.3302238805970149, lift=1.385351973354703)])\n",
      "RelationRecord(items=frozenset({'soup', 'mineral water'}), support=0.023063591521130515, ordered_statistics=[OrderedStatistic(items_base=frozenset(), items_add=frozenset({'soup', 'mineral water'}), confidence=0.023063591521130515, lift=1.0), OrderedStatistic(items_base=frozenset({'mineral water'}), items_add=frozenset({'soup'}), confidence=0.09675615212527965, lift=1.9149548735929356), OrderedStatistic(items_base=frozenset({'soup'}), items_add=frozenset({'mineral water'}), confidence=0.45646437994722955, lift=1.9149548735929356)])\n",
      "RelationRecord(items=frozenset({'spaghetti', 'mineral water'}), support=0.05972536995067324, ordered_statistics=[OrderedStatistic(items_base=frozenset(), items_add=frozenset({'spaghetti', 'mineral water'}), confidence=0.05972536995067324, lift=1.0), OrderedStatistic(items_base=frozenset({'mineral water'}), items_add=frozenset({'spaghetti'}), confidence=0.2505592841163311, lift=1.4390851379453289), OrderedStatistic(items_base=frozenset({'spaghetti'}), items_add=frozenset({'mineral water'}), confidence=0.3430321592649311, lift=1.4390851379453289)])\n",
      "RelationRecord(items=frozenset({'tomatoes', 'mineral water'}), support=0.024396747100386616, ordered_statistics=[OrderedStatistic(items_base=frozenset(), items_add=frozenset({'tomatoes', 'mineral water'}), confidence=0.024396747100386616, lift=1.0), OrderedStatistic(items_base=frozenset({'mineral water'}), items_add=frozenset({'tomatoes'}), confidence=0.10234899328859061, lift=1.4965298219448697), OrderedStatistic(items_base=frozenset({'tomatoes'}), items_add=frozenset({'mineral water'}), confidence=0.3567251461988304, lift=1.4965298219448695)])\n",
      "RelationRecord(items=frozenset({'whole wheat rice', 'mineral water'}), support=0.020130649246767097, ordered_statistics=[OrderedStatistic(items_base=frozenset(), items_add=frozenset({'whole wheat rice', 'mineral water'}), confidence=0.020130649246767097, lift=1.0), OrderedStatistic(items_base=frozenset({'mineral water'}), items_add=frozenset({'whole wheat rice'}), confidence=0.08445190156599552, lift=1.4429925140012128), OrderedStatistic(items_base=frozenset({'whole wheat rice'}), items_add=frozenset({'mineral water'}), confidence=0.3439635535307517, lift=1.4429925140012128)])\n",
      "RelationRecord(items=frozenset({'spaghetti', 'olive oil'}), support=0.022930275963204905, ordered_statistics=[OrderedStatistic(items_base=frozenset(), items_add=frozenset({'spaghetti', 'olive oil'}), confidence=0.022930275963204905, lift=1.0), OrderedStatistic(items_base=frozenset({'olive oil'}), items_add=frozenset({'spaghetti'}), confidence=0.3481781376518219, lift=1.999758201015556), OrderedStatistic(items_base=frozenset({'spaghetti'}), items_add=frozenset({'olive oil'}), confidence=0.13169984686064318, lift=1.9997582010155557)])\n",
      "RelationRecord(items=frozenset({'spaghetti', 'pancakes'}), support=0.025196640447940274, ordered_statistics=[OrderedStatistic(items_base=frozenset(), items_add=frozenset({'spaghetti', 'pancakes'}), confidence=0.025196640447940274, lift=1.0), OrderedStatistic(items_base=frozenset({'pancakes'}), items_add=frozenset({'spaghetti'}), confidence=0.2650771388499299, lift=1.522468314328732), OrderedStatistic(items_base=frozenset({'spaghetti'}), items_add=frozenset({'pancakes'}), confidence=0.1447166921898928, lift=1.522468314328732)])\n",
      "RelationRecord(items=frozenset({'spaghetti', 'shrimp'}), support=0.021197173710171976, ordered_statistics=[OrderedStatistic(items_base=frozenset(), items_add=frozenset({'spaghetti', 'shrimp'}), confidence=0.021197173710171976, lift=1.0), OrderedStatistic(items_base=frozenset({'shrimp'}), items_add=frozenset({'spaghetti'}), confidence=0.2966417910447761, lift=1.7037596283513519), OrderedStatistic(items_base=frozenset({'spaghetti'}), items_add=frozenset({'shrimp'}), confidence=0.1217457886676876, lift=1.7037596283513519)])\n",
      "RelationRecord(items=frozenset({'spaghetti', 'tomatoes'}), support=0.020930542594320756, ordered_statistics=[OrderedStatistic(items_base=frozenset(), items_add=frozenset({'spaghetti', 'tomatoes'}), confidence=0.020930542594320756, lift=1.0), OrderedStatistic(items_base=frozenset({'spaghetti'}), items_add=frozenset({'tomatoes'}), confidence=0.12021439509954057, lift=1.7577547322449392), OrderedStatistic(items_base=frozenset({'tomatoes'}), items_add=frozenset({'spaghetti'}), confidence=0.3060428849902534, lift=1.7577547322449394)])\n"
     ]
    }
   ],
   "source": [
    "#mostrar resultados (controla as combinações mostradas 1,2,3...)\n",
    "quant=2\n",
    "for r in results:\n",
    "  if len(r[0])==quant:\n",
    "    print(r)"
   ]
  },
  {
   "cell_type": "markdown",
   "metadata": {
    "id": "sWI_6SC7Y5yF"
   },
   "source": [
    "1)Qual é o máximo suporte de uma combinação de 4 ítens? e qual é a combinação de 4 ítens de maior suporte?"
   ]
  },
  {
   "cell_type": "markdown",
   "metadata": {
    "id": "0Ba2XU62ZSWs"
   },
   "source": [
    "2)O suporte de um ítem isolado é a probabilidade de encontrá-lo em uma cesta qualquer. Vamos testar por força bruta? Vamos selecionar 100000 cestas aleatoriamente e contar quantas vezes apareceu \"eggs\"..isso deve dar algo em torno de 18%..complete o código."
   ]
  },
  {
   "cell_type": "code",
   "execution_count": null,
   "metadata": {
    "id": "RnaW5MWmY3wd"
   },
   "outputs": [],
   "source": [
    "cont=0\n",
    "quant=100000\n",
    "for i in range(quant):\n",
    "  cesta=random.randint(0,7500)\n",
    "  #complete o código para obter a probabilidade de \"eggs\" estar em uma cesta aleatória...deve bater com o suporte\n",
    "cont/quant"
   ]
  },
  {
   "cell_type": "markdown",
   "metadata": {
    "id": "LE9NOJKkff9q"
   },
   "source": [
    "3) Com base no código da questão 2, mostre que o lift de 'spaghetti' e 'mineral water' é 1.44"
   ]
  },
  {
   "cell_type": "markdown",
   "metadata": {
    "id": "Fl3aF8Zxg9tt"
   },
   "source": [
    "4) A confiança de {'carrots'}=>{'carrots','chocolate'} é 22% e a confiança {'chocolate'}=>{'carrots','chocolate'} é de 2.11%. Por que tanta diferença?"
   ]
  },
  {
   "cell_type": "code",
   "execution_count": null,
   "metadata": {
    "id": "9ad_l_3igNWQ"
   },
   "outputs": [],
   "source": []
  }
 ],
 "metadata": {
  "colab": {
   "name": "apriori_tarefa_5.ipynb",
   "provenance": []
  },
  "kernelspec": {
   "display_name": "Python 3",
   "language": "python",
   "name": "python3"
  },
  "language_info": {
   "codemirror_mode": {
    "name": "ipython",
    "version": 3
   },
   "file_extension": ".py",
   "mimetype": "text/x-python",
   "name": "python",
   "nbconvert_exporter": "python",
   "pygments_lexer": "ipython3",
   "version": "3.8.5"
  }
 },
 "nbformat": 4,
 "nbformat_minor": 1
}
