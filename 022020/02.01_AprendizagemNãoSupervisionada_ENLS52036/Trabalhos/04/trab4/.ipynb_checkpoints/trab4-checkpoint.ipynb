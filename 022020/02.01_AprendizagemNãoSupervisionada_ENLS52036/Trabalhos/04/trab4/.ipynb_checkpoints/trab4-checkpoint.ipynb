{
 "cells": [
  {
   "cell_type": "markdown",
   "metadata": {},
   "source": [
    "# Neste trabalho (Trabalho 4), a idéia é ter uma revisão de PCA, passando por seus conceitos  e construindo um pouco de código"
   ]
  },
  {
   "cell_type": "markdown",
   "metadata": {},
   "source": [
    "É essencial ver os códigos e comentários de cada célula, além das 3 questões..."
   ]
  },
  {
   "cell_type": "code",
   "execution_count": 4,
   "metadata": {},
   "outputs": [],
   "source": [
    "import numpy as np\n",
    "import pandas as pd\n",
    "from sklearn import linear_model\n",
    "from sklearn.metrics import accuracy_score\n",
    "import matplotlib.pyplot as plt\n",
    "from sklearn.preprocessing import StandardScaler"
   ]
  },
  {
   "cell_type": "code",
   "execution_count": 5,
   "metadata": {},
   "outputs": [],
   "source": [
    "df=pd.read_csv('iris.txt',names=['m1','m2','m3','m4','esp']) #acertar path para o dataset\n"
   ]
  },
  {
   "cell_type": "markdown",
   "metadata": {},
   "source": [
    "Passo 1: Criar uma matriz com as features numéricas"
   ]
  },
  {
   "cell_type": "markdown",
   "metadata": {},
   "source": [
    "Standardizar as Features: importante para PCA, KNN,K-means...na dúvida, standardizar!"
   ]
  },
  {
   "cell_type": "code",
   "execution_count": 6,
   "metadata": {},
   "outputs": [
    {
     "ename": "NameError",
     "evalue": "name 'X' is not defined",
     "output_type": "error",
     "traceback": [
      "\u001b[0;31m---------------------------------------------------------------------------\u001b[0m",
      "\u001b[0;31mNameError\u001b[0m                                 Traceback (most recent call last)",
      "\u001b[0;32m<ipython-input-6-03e5d03c115a>\u001b[0m in \u001b[0;36m<module>\u001b[0;34m\u001b[0m\n\u001b[1;32m      1\u001b[0m \u001b[0mscaler\u001b[0m\u001b[0;34m=\u001b[0m\u001b[0mStandardScaler\u001b[0m\u001b[0;34m(\u001b[0m\u001b[0;34m)\u001b[0m\u001b[0;34m\u001b[0m\u001b[0;34m\u001b[0m\u001b[0m\n\u001b[0;32m----> 2\u001b[0;31m \u001b[0mscaler\u001b[0m\u001b[0;34m.\u001b[0m\u001b[0mfit\u001b[0m\u001b[0;34m(\u001b[0m\u001b[0mX\u001b[0m\u001b[0;34m)\u001b[0m\u001b[0;34m\u001b[0m\u001b[0;34m\u001b[0m\u001b[0m\n\u001b[0m\u001b[1;32m      3\u001b[0m \u001b[0mXS\u001b[0m\u001b[0;34m=\u001b[0m\u001b[0mscaler\u001b[0m\u001b[0;34m.\u001b[0m\u001b[0mtransform\u001b[0m\u001b[0;34m(\u001b[0m\u001b[0mX\u001b[0m\u001b[0;34m)\u001b[0m\u001b[0;34m\u001b[0m\u001b[0;34m\u001b[0m\u001b[0m\n\u001b[1;32m      4\u001b[0m \u001b[0mXS\u001b[0m\u001b[0;34m[\u001b[0m\u001b[0;34m:\u001b[0m\u001b[0;36m3\u001b[0m\u001b[0;34m]\u001b[0m\u001b[0;34m\u001b[0m\u001b[0;34m\u001b[0m\u001b[0m\n",
      "\u001b[0;31mNameError\u001b[0m: name 'X' is not defined"
     ]
    }
   ],
   "source": [
    "scaler=StandardScaler()\n",
    "scaler.fit(X)\n",
    "XS=scaler.transform(X)\n",
    "XS[:3]"
   ]
  },
  {
   "cell_type": "markdown",
   "metadata": {},
   "source": [
    "Geraremos a Matriz de Covariânvcia<br/>\n",
    "Na diagonal principal aparecem as variâncias das features.<br/>\n",
    "Na Standardização, a média já foi para 0 e o desvio padrão para 1. Desvio padrão 1 implica variância 1.<br/>\n",
    "Fora da diagonal principal aparecem as covariâncias<br/>"
   ]
  },
  {
   "cell_type": "code",
   "execution_count": 88,
   "metadata": {},
   "outputs": [
    {
     "data": {
      "text/plain": [
       "array([[ 1.00671141, -0.11010327,  0.87760486,  0.82344326],\n",
       "       [-0.11010327,  1.00671141, -0.42333835, -0.358937  ],\n",
       "       [ 0.87760486, -0.42333835,  1.00671141,  0.96921855],\n",
       "       [ 0.82344326, -0.358937  ,  0.96921855,  1.00671141]])"
      ]
     },
     "execution_count": 88,
     "metadata": {},
     "output_type": "execute_result"
    }
   ],
   "source": [
    "COV=np.cov(XS.T)\n",
    "COV"
   ]
  },
  {
   "cell_type": "markdown",
   "metadata": {},
   "source": [
    "Vamos procurar um novo sistema  de eixos que maximizará as variâncias de cada feature<br/>\n",
    "E as covariâncias serão anuladas<br/>\n",
    "Esse novo sistema de eixos é dado pelos autovetores da matriz de covariância<br/>"
   ]
  },
  {
   "cell_type": "markdown",
   "metadata": {},
   "source": [
    "Utilizaremos Sklearn"
   ]
  },
  {
   "cell_type": "code",
   "execution_count": 99,
   "metadata": {},
   "outputs": [
    {
     "data": {
      "text/plain": [
       "array([[-2.26454173,  0.5057039 , -0.12194335, -0.02307332],\n",
       "       [-2.0864255 , -0.65540473, -0.22725083, -0.10320824],\n",
       "       [-2.36795045, -0.31847731,  0.05147962, -0.02782523],\n",
       "       [-2.30419716, -0.57536771,  0.09886044,  0.06631146],\n",
       "       [-2.38877749,  0.6747674 ,  0.02142785,  0.03739729],\n",
       "       [-2.07053681,  1.51854856,  0.03068426, -0.00439877],\n",
       "       [-2.44571134,  0.07456268,  0.34219764,  0.03809657]])"
      ]
     },
     "execution_count": 99,
     "metadata": {},
     "output_type": "execute_result"
    }
   ],
   "source": [
    "from sklearn.decomposition import PCA #fazendo PCA inicialmente com todas as 4 features\n",
    "p=PCA(4)\n",
    "p.fit(XS)\n",
    "XS4=p.transform(XS)#muda XS para o novo sistema de eixos composto pelos autovetores\n",
    "XS4[:7]"
   ]
  },
  {
   "cell_type": "code",
   "execution_count": 76,
   "metadata": {},
   "outputs": [
    {
     "data": {
      "text/plain": [
       "array([2.93035378, 0.92740362, 0.14834223, 0.02074601])"
      ]
     },
     "execution_count": 76,
     "metadata": {},
     "output_type": "execute_result"
    }
   ],
   "source": [
    "p.explained_variance_#os autovalores"
   ]
  },
  {
   "cell_type": "code",
   "execution_count": 91,
   "metadata": {},
   "outputs": [
    {
     "data": {
      "text/plain": [
       "array([[ 0.52237162, -0.26335492,  0.58125401,  0.56561105],\n",
       "       [ 0.37231836,  0.92555649,  0.02109478,  0.06541577],\n",
       "       [-0.72101681,  0.24203288,  0.14089226,  0.6338014 ],\n",
       "       [-0.26199559,  0.12413481,  0.80115427, -0.52354627]])"
      ]
     },
     "execution_count": 91,
     "metadata": {},
     "output_type": "execute_result"
    }
   ],
   "source": [
    "p.components_\n",
    "#os autovetores aparecem nas linhas\n"
   ]
  },
  {
   "cell_type": "markdown",
   "metadata": {},
   "source": [
    "<b>Questão 1) Mostre que  p.explained_variance[0] e p.components_[0] são um par autovalor e autovetor da matriz de covariância</b><br/>\n",
    "Obviamente isso vale para os 4 autovalores e autovetores de COV"
   ]
  },
  {
   "cell_type": "code",
   "execution_count": null,
   "metadata": {},
   "outputs": [],
   "source": []
  },
  {
   "cell_type": "code",
   "execution_count": 1,
   "metadata": {},
   "outputs": [
    {
     "ename": "NameError",
     "evalue": "name 'p' is not defined",
     "output_type": "error",
     "traceback": [
      "\u001b[0;31m---------------------------------------------------------------------------\u001b[0m",
      "\u001b[0;31mNameError\u001b[0m                                 Traceback (most recent call last)",
      "\u001b[0;32m<ipython-input-1-ff2a3a66e7d3>\u001b[0m in \u001b[0;36m<module>\u001b[0;34m\u001b[0m\n\u001b[0;32m----> 1\u001b[0;31m \u001b[0mp\u001b[0m\u001b[0;34m.\u001b[0m\u001b[0mexplained_variance_ratio_\u001b[0m \u001b[0;31m#observe que com duas das novas features, já temos mais de 95% da variância\u001b[0m\u001b[0;34m\u001b[0m\u001b[0;34m\u001b[0m\u001b[0m\n\u001b[0m",
      "\u001b[0;31mNameError\u001b[0m: name 'p' is not defined"
     ]
    }
   ],
   "source": [
    "p.explained_variance_ratio_ #observe que com duas das novas features, já temos mais de 95% da variância"
   ]
  },
  {
   "cell_type": "markdown",
   "metadata": {},
   "source": [
    "As features são agora ortogonais...nada fora da diagonal principal<br/>\n",
    "Vamos observar a nova matriz de covariância COVB (nos novos eixos)<br/>\n",
    "as features têm alta variância (diagonal principal) e nenhuma covariância (fora da diagonal)<br/>\n",
    "Mais variância, mais informação...assim, com as duas primeiras features (duas primeiras colunas de XS4)<br/>\n",
    "já teremos informação suficiente para a visualização, por exemplo. O PCA concentra a variância<br/>\n",
    "nas primeiras features<br/>"
   ]
  },
  {
   "cell_type": "code",
   "execution_count": 98,
   "metadata": {},
   "outputs": [
    {
     "data": {
      "text/plain": [
       "array([[ 2.93035378e+00, -5.26912031e-16, -3.39746874e-16,\n",
       "         1.64883369e-17],\n",
       "       [-5.26912031e-16,  9.27403622e-01,  8.36662959e-17,\n",
       "         9.19740453e-17],\n",
       "       [-3.39746874e-16,  8.36662959e-17,  1.48342226e-01,\n",
       "        -2.88031822e-17],\n",
       "       [ 1.64883369e-17,  9.19740453e-17, -2.88031822e-17,\n",
       "         2.07460140e-02]])"
      ]
     },
     "execution_count": 98,
     "metadata": {},
     "output_type": "execute_result"
    }
   ],
   "source": [
    "COVB=np.cov(XS4.T)\n",
    "COVB"
   ]
  },
  {
   "cell_type": "markdown",
   "metadata": {},
   "source": [
    "<b>Questão 2) Teoricamente, como a Matriz de Covariância é Hermitiana, então os autovetores são ortogonais. Mostre que os 4<br/> autovetores dela são ortogonais entre si (dica..produto interno...)."
   ]
  },
  {
   "cell_type": "code",
   "execution_count": 58,
   "metadata": {
    "collapsed": true
   },
   "outputs": [
    {
     "data": {
      "text/plain": [
       "(array([[-7.56150860e-01,  4.59156139e-01, -2.35662387e+00,\n",
       "         -9.87611103e-01],\n",
       "        [-1.09317805e+00,  9.96644423e-02, -2.29612529e+00,\n",
       "         -9.61734436e-01],\n",
       "        [-1.13510179e+00,  1.37519455e-01, -2.45119793e+00,\n",
       "         -1.02673358e+00],\n",
       "        [-1.19734886e+00, -1.08492284e-03, -2.29783598e+00,\n",
       "         -9.62299308e-01],\n",
       "        [-7.67396262e-01,  4.68147201e-01, -2.39592969e+00,\n",
       "         -1.00408534e+00]]),\n",
       "          m1     m2        m3        m4\n",
       " 0 -0.743333  0.446 -2.358667 -0.998667\n",
       " 1 -0.943333 -0.054 -2.358667 -0.998667\n",
       " 2 -1.143333  0.146 -2.458667 -0.998667\n",
       " 3 -1.243333  0.046 -2.258667 -0.998667\n",
       " 4 -0.843333  0.546 -2.358667 -0.998667)"
      ]
     },
     "execution_count": 58,
     "metadata": {},
     "output_type": "execute_result"
    }
   ],
   "source": []
  },
  {
   "cell_type": "markdown",
   "metadata": {},
   "source": [
    "<b>Questão 3) Com as duas primeiras colunas de XS4, faça a visualização do dataset (cada espécie com uma cor)\n"
   ]
  },
  {
   "cell_type": "code",
   "execution_count": null,
   "metadata": {},
   "outputs": [],
   "source": []
  }
 ],
 "metadata": {
  "kernelspec": {
   "display_name": "Python 3",
   "language": "python",
   "name": "python3"
  },
  "language_info": {
   "codemirror_mode": {
    "name": "ipython",
    "version": 3
   },
   "file_extension": ".py",
   "mimetype": "text/x-python",
   "name": "python",
   "nbconvert_exporter": "python",
   "pygments_lexer": "ipython3",
   "version": "3.8.5"
  }
 },
 "nbformat": 4,
 "nbformat_minor": 2
}
