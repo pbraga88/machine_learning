{
 "cells": [
  {
   "cell_type": "markdown",
   "metadata": {
    "colab_type": "text",
    "id": "hJjIducE1x8g"
   },
   "source": [
    "<b>Criação de Dendogramas - Cluster Hierárquico</b>"
   ]
  },
  {
   "cell_type": "markdown",
   "metadata": {},
   "source": [
    "Você deverá gerar o desenho (na mão) de dois dendrogramas. O primeiro será com critério linkage='single' e o segundo com linkage='complete'<br/>\n",
    "Ambos já foram iniciados (figura dendro.jng, em anexo)...ambos iguais no início<br/>\n",
    "O DataFrame traz a distâncias entre pares de pontos<br/>\n",
    "Use a função dist_min_max(l1,l2) para saber a mínima e a máxima distância entre dois grupos de pontos<br/><br>\n",
    "\n",
    "Exemplo: no dendograma do linkage single, o cluster 1,2 vai se ligar ao 5,6 ou ao 0? <br/>\n",
    "\n"
   ]
  },
  {
   "cell_type": "code",
   "execution_count": 1,
   "metadata": {
    "colab": {
     "base_uri": "https://localhost:8080/",
     "height": 533
    },
    "colab_type": "code",
    "id": "rtHenkgVdsqu",
    "outputId": "b2228315-2049-40c5-fc48-ef4bd8e9a88b"
   },
   "outputs": [
    {
     "data": {
      "text/html": [
       "<div>\n",
       "<style scoped>\n",
       "    .dataframe tbody tr th:only-of-type {\n",
       "        vertical-align: middle;\n",
       "    }\n",
       "\n",
       "    .dataframe tbody tr th {\n",
       "        vertical-align: top;\n",
       "    }\n",
       "\n",
       "    .dataframe thead th {\n",
       "        text-align: right;\n",
       "    }\n",
       "</style>\n",
       "<table border=\"1\" class=\"dataframe\">\n",
       "  <thead>\n",
       "    <tr style=\"text-align: right;\">\n",
       "      <th></th>\n",
       "      <th>Unnamed: 0</th>\n",
       "      <th>0</th>\n",
       "      <th>1</th>\n",
       "      <th>2</th>\n",
       "      <th>3</th>\n",
       "      <th>4</th>\n",
       "      <th>5</th>\n",
       "      <th>6</th>\n",
       "    </tr>\n",
       "  </thead>\n",
       "  <tbody>\n",
       "    <tr>\n",
       "      <th>0</th>\n",
       "      <td>0</td>\n",
       "      <td>0.000000</td>\n",
       "      <td>1.802776</td>\n",
       "      <td>2.000000</td>\n",
       "      <td>5.656854</td>\n",
       "      <td>6.403124</td>\n",
       "      <td>3.162278</td>\n",
       "      <td>4.123106</td>\n",
       "    </tr>\n",
       "    <tr>\n",
       "      <th>1</th>\n",
       "      <td>1</td>\n",
       "      <td>1.802776</td>\n",
       "      <td>0.000000</td>\n",
       "      <td>1.118034</td>\n",
       "      <td>3.905125</td>\n",
       "      <td>4.609772</td>\n",
       "      <td>2.500000</td>\n",
       "      <td>3.201562</td>\n",
       "    </tr>\n",
       "    <tr>\n",
       "      <th>2</th>\n",
       "      <td>2</td>\n",
       "      <td>2.000000</td>\n",
       "      <td>1.118034</td>\n",
       "      <td>0.000000</td>\n",
       "      <td>4.472136</td>\n",
       "      <td>5.000000</td>\n",
       "      <td>1.414214</td>\n",
       "      <td>2.236068</td>\n",
       "    </tr>\n",
       "    <tr>\n",
       "      <th>3</th>\n",
       "      <td>3</td>\n",
       "      <td>5.656854</td>\n",
       "      <td>3.905125</td>\n",
       "      <td>4.472136</td>\n",
       "      <td>0.000000</td>\n",
       "      <td>1.000000</td>\n",
       "      <td>5.099020</td>\n",
       "      <td>5.000000</td>\n",
       "    </tr>\n",
       "    <tr>\n",
       "      <th>4</th>\n",
       "      <td>4</td>\n",
       "      <td>6.403124</td>\n",
       "      <td>4.609772</td>\n",
       "      <td>5.000000</td>\n",
       "      <td>1.000000</td>\n",
       "      <td>0.000000</td>\n",
       "      <td>5.385165</td>\n",
       "      <td>5.099020</td>\n",
       "    </tr>\n",
       "    <tr>\n",
       "      <th>5</th>\n",
       "      <td>5</td>\n",
       "      <td>3.162278</td>\n",
       "      <td>2.500000</td>\n",
       "      <td>1.414214</td>\n",
       "      <td>5.099020</td>\n",
       "      <td>5.385165</td>\n",
       "      <td>0.000000</td>\n",
       "      <td>1.000000</td>\n",
       "    </tr>\n",
       "    <tr>\n",
       "      <th>6</th>\n",
       "      <td>6</td>\n",
       "      <td>4.123106</td>\n",
       "      <td>3.201562</td>\n",
       "      <td>2.236068</td>\n",
       "      <td>5.000000</td>\n",
       "      <td>5.099020</td>\n",
       "      <td>1.000000</td>\n",
       "      <td>0.000000</td>\n",
       "    </tr>\n",
       "  </tbody>\n",
       "</table>\n",
       "</div>"
      ],
      "text/plain": [
       "   Unnamed: 0         0         1         2         3         4         5  \\\n",
       "0           0  0.000000  1.802776  2.000000  5.656854  6.403124  3.162278   \n",
       "1           1  1.802776  0.000000  1.118034  3.905125  4.609772  2.500000   \n",
       "2           2  2.000000  1.118034  0.000000  4.472136  5.000000  1.414214   \n",
       "3           3  5.656854  3.905125  4.472136  0.000000  1.000000  5.099020   \n",
       "4           4  6.403124  4.609772  5.000000  1.000000  0.000000  5.385165   \n",
       "5           5  3.162278  2.500000  1.414214  5.099020  5.385165  0.000000   \n",
       "6           6  4.123106  3.201562  2.236068  5.000000  5.099020  1.000000   \n",
       "\n",
       "          6  \n",
       "0  4.123106  \n",
       "1  3.201562  \n",
       "2  2.236068  \n",
       "3  5.000000  \n",
       "4  5.099020  \n",
       "5  1.000000  \n",
       "6  0.000000  "
      ]
     },
     "execution_count": 1,
     "metadata": {},
     "output_type": "execute_result"
    }
   ],
   "source": [
    "import pandas as pd\n",
    "import numpy as np\n",
    "#O dataframe traz as distâncias entre os pontos \n",
    "df=pd.read_csv('hier.csv')#acerte o path para sua máquina\n",
    "dist=df.to_numpy()[:,1:]\n",
    "df"
   ]
  },
  {
   "cell_type": "code",
   "execution_count": 2,
   "metadata": {},
   "outputs": [
    {
     "data": {
      "text/plain": [
       "1.118033988749895"
      ]
     },
     "execution_count": 2,
     "metadata": {},
     "output_type": "execute_result"
    }
   ],
   "source": [
    "dist[1,2]"
   ]
  },
  {
   "cell_type": "code",
   "execution_count": 12,
   "metadata": {},
   "outputs": [],
   "source": [
    "# Mostra a mínima e a máxima distância entre os pontos da lista l1 e L2\n",
    "def dist_min_max(l1,l2):\n",
    "    dists=[]\n",
    "    for i in l1:\n",
    "        for j in l2:\n",
    "            dists.append((i,j,dist[i,j]))\n",
    "#             print(\"DEBUG dists.append\", dists)\n",
    "#     print(len(dists))\n",
    "    dists.sort(key=lambda x:x[2])\n",
    "#     print(\"DEBUG [dists.sort] \", dists)\n",
    "    return((dists[0][2],dists[-1][2]))\n",
    "\n"
   ]
  },
  {
   "cell_type": "code",
   "execution_count": 41,
   "metadata": {},
   "outputs": [
    {
     "data": {
      "text/plain": [
       "(5.0, 5.385164807134505)"
      ]
     },
     "execution_count": 41,
     "metadata": {},
     "output_type": "execute_result"
    }
   ],
   "source": [
    "# Exemplo do uso da função : mínima e máxima distância entre cluster 1,2 e cluster 0\n",
    "dist_min_max([3,4],[5,6])"
   ]
  },
  {
   "cell_type": "code",
   "execution_count": 5,
   "metadata": {},
   "outputs": [
    {
     "data": {
      "text/plain": [
       "(7, 8)"
      ]
     },
     "execution_count": 5,
     "metadata": {},
     "output_type": "execute_result"
    }
   ],
   "source": [
    "df.shape"
   ]
  },
  {
   "cell_type": "code",
   "execution_count": 6,
   "metadata": {},
   "outputs": [
    {
     "data": {
      "text/html": [
       "<div>\n",
       "<style scoped>\n",
       "    .dataframe tbody tr th:only-of-type {\n",
       "        vertical-align: middle;\n",
       "    }\n",
       "\n",
       "    .dataframe tbody tr th {\n",
       "        vertical-align: top;\n",
       "    }\n",
       "\n",
       "    .dataframe thead th {\n",
       "        text-align: right;\n",
       "    }\n",
       "</style>\n",
       "<table border=\"1\" class=\"dataframe\">\n",
       "  <thead>\n",
       "    <tr style=\"text-align: right;\">\n",
       "      <th></th>\n",
       "      <th>Unnamed: 0</th>\n",
       "      <th>0</th>\n",
       "      <th>1</th>\n",
       "      <th>2</th>\n",
       "      <th>3</th>\n",
       "      <th>4</th>\n",
       "      <th>5</th>\n",
       "      <th>6</th>\n",
       "    </tr>\n",
       "  </thead>\n",
       "  <tbody>\n",
       "    <tr>\n",
       "      <th>0</th>\n",
       "      <td>0</td>\n",
       "      <td>0.000000</td>\n",
       "      <td>1.802776</td>\n",
       "      <td>2.000000</td>\n",
       "      <td>5.656854</td>\n",
       "      <td>6.403124</td>\n",
       "      <td>3.162278</td>\n",
       "      <td>4.123106</td>\n",
       "    </tr>\n",
       "    <tr>\n",
       "      <th>1</th>\n",
       "      <td>1</td>\n",
       "      <td>1.802776</td>\n",
       "      <td>0.000000</td>\n",
       "      <td>1.118034</td>\n",
       "      <td>3.905125</td>\n",
       "      <td>4.609772</td>\n",
       "      <td>2.500000</td>\n",
       "      <td>3.201562</td>\n",
       "    </tr>\n",
       "    <tr>\n",
       "      <th>2</th>\n",
       "      <td>2</td>\n",
       "      <td>2.000000</td>\n",
       "      <td>1.118034</td>\n",
       "      <td>0.000000</td>\n",
       "      <td>4.472136</td>\n",
       "      <td>5.000000</td>\n",
       "      <td>1.414214</td>\n",
       "      <td>2.236068</td>\n",
       "    </tr>\n",
       "    <tr>\n",
       "      <th>3</th>\n",
       "      <td>3</td>\n",
       "      <td>5.656854</td>\n",
       "      <td>3.905125</td>\n",
       "      <td>4.472136</td>\n",
       "      <td>0.000000</td>\n",
       "      <td>1.000000</td>\n",
       "      <td>5.099020</td>\n",
       "      <td>5.000000</td>\n",
       "    </tr>\n",
       "    <tr>\n",
       "      <th>4</th>\n",
       "      <td>4</td>\n",
       "      <td>6.403124</td>\n",
       "      <td>4.609772</td>\n",
       "      <td>5.000000</td>\n",
       "      <td>1.000000</td>\n",
       "      <td>0.000000</td>\n",
       "      <td>5.385165</td>\n",
       "      <td>5.099020</td>\n",
       "    </tr>\n",
       "    <tr>\n",
       "      <th>5</th>\n",
       "      <td>5</td>\n",
       "      <td>3.162278</td>\n",
       "      <td>2.500000</td>\n",
       "      <td>1.414214</td>\n",
       "      <td>5.099020</td>\n",
       "      <td>5.385165</td>\n",
       "      <td>0.000000</td>\n",
       "      <td>1.000000</td>\n",
       "    </tr>\n",
       "    <tr>\n",
       "      <th>6</th>\n",
       "      <td>6</td>\n",
       "      <td>4.123106</td>\n",
       "      <td>3.201562</td>\n",
       "      <td>2.236068</td>\n",
       "      <td>5.000000</td>\n",
       "      <td>5.099020</td>\n",
       "      <td>1.000000</td>\n",
       "      <td>0.000000</td>\n",
       "    </tr>\n",
       "  </tbody>\n",
       "</table>\n",
       "</div>"
      ],
      "text/plain": [
       "   Unnamed: 0         0         1         2         3         4         5  \\\n",
       "0           0  0.000000  1.802776  2.000000  5.656854  6.403124  3.162278   \n",
       "1           1  1.802776  0.000000  1.118034  3.905125  4.609772  2.500000   \n",
       "2           2  2.000000  1.118034  0.000000  4.472136  5.000000  1.414214   \n",
       "3           3  5.656854  3.905125  4.472136  0.000000  1.000000  5.099020   \n",
       "4           4  6.403124  4.609772  5.000000  1.000000  0.000000  5.385165   \n",
       "5           5  3.162278  2.500000  1.414214  5.099020  5.385165  0.000000   \n",
       "6           6  4.123106  3.201562  2.236068  5.000000  5.099020  1.000000   \n",
       "\n",
       "          6  \n",
       "0  4.123106  \n",
       "1  3.201562  \n",
       "2  2.236068  \n",
       "3  5.000000  \n",
       "4  5.099020  \n",
       "5  1.000000  \n",
       "6  0.000000  "
      ]
     },
     "execution_count": 6,
     "metadata": {},
     "output_type": "execute_result"
    }
   ],
   "source": [
    "df"
   ]
  },
  {
   "cell_type": "code",
   "execution_count": 7,
   "metadata": {},
   "outputs": [
    {
     "name": "stdout",
     "output_type": "stream",
     "text": [
      "[[1, 2, 3, 4], [4, 3, 2, 100]]\n"
     ]
    }
   ],
   "source": [
    "lista = [[1,2,3,4], [4,3,2,100]]\n",
    "len(lista)\n",
    "lista.sort(key=lambda x:x[3]) # A função lambda vai pegar o terceiro elemento das listas \n",
    "                              # e comparar para saber se o 'sort' será crescente ou \n",
    "                              # decrescente. Neste exemplo é decrescente porquê\n",
    "                              # lista[0][3] = 4 < lista[1][3] = 100                              # \n",
    "print(lista)"
   ]
  },
  {
   "cell_type": "code",
   "execution_count": 8,
   "metadata": {},
   "outputs": [
    {
     "name": "stdout",
     "output_type": "stream",
     "text": [
      "100\n"
     ]
    }
   ],
   "source": [
    "print(lista[-1][3])"
   ]
  },
  {
   "cell_type": "code",
   "execution_count": 9,
   "metadata": {},
   "outputs": [
    {
     "data": {
      "text/plain": [
       "3"
      ]
     },
     "execution_count": 9,
     "metadata": {},
     "output_type": "execute_result"
    }
   ],
   "source": [
    "(lambda x: x[1][1])(lista)"
   ]
  },
  {
   "cell_type": "code",
   "execution_count": null,
   "metadata": {},
   "outputs": [],
   "source": []
  }
 ],
 "metadata": {
  "colab": {
   "name": "hierarquico.ipynb",
   "provenance": []
  },
  "kernelspec": {
   "display_name": "Python 3",
   "language": "python",
   "name": "python3"
  },
  "language_info": {
   "codemirror_mode": {
    "name": "ipython",
    "version": 3
   },
   "file_extension": ".py",
   "mimetype": "text/x-python",
   "name": "python",
   "nbconvert_exporter": "python",
   "pygments_lexer": "ipython3",
   "version": "3.6.9"
  }
 },
 "nbformat": 4,
 "nbformat_minor": 1
}
