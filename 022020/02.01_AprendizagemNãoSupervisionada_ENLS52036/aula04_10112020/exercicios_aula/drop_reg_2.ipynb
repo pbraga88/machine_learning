{
 "cells": [
  {
   "cell_type": "markdown",
   "metadata": {
    "id": "MTfOD6vVJweo"
   },
   "source": [
    "Deep Feed forward para identificação de dígitos... parte 1 :importando e analisando o Dataset"
   ]
  },
  {
   "cell_type": "code",
   "execution_count": 1,
   "metadata": {
    "id": "vINUEShYhTq0"
   },
   "outputs": [
    {
     "name": "stdout",
     "output_type": "stream",
     "text": [
      "2.3.0-rc1\n"
     ]
    }
   ],
   "source": [
    "import tensorflow as tf\n",
    "print(tf.__version__)"
   ]
  },
  {
   "cell_type": "code",
   "execution_count": 2,
   "metadata": {
    "id": "WXu3WN8Uigjx"
   },
   "outputs": [],
   "source": [
    "(x_train, y_train), (x_test, y_test) = tf.keras.datasets.mnist.load_data()"
   ]
  },
  {
   "cell_type": "markdown",
   "metadata": {
    "id": "soa_oFDzjGOf"
   },
   "source": [
    "Vamos ver analisar a primeira imagem"
   ]
  },
  {
   "cell_type": "code",
   "execution_count": 3,
   "metadata": {
    "id": "liKnjtiri7ER"
   },
   "outputs": [
    {
     "name": "stdout",
     "output_type": "stream",
     "text": [
      "(60000, 28, 28)\n"
     ]
    }
   ],
   "source": [
    "print(x_train.shape)#imagem 28x28"
   ]
  },
  {
   "cell_type": "code",
   "execution_count": 4,
   "metadata": {
    "id": "k_4ARCxqjUNw"
   },
   "outputs": [
    {
     "name": "stdout",
     "output_type": "stream",
     "text": [
      "255 0\n"
     ]
    }
   ],
   "source": [
    "print(x_train[0].max(),x_train[0].min())# a imagem tem um só canal entre 0 e 255"
   ]
  },
  {
   "cell_type": "code",
   "execution_count": 5,
   "metadata": {
    "id": "F6NKIxQtjmL0"
   },
   "outputs": [
    {
     "name": "stdout",
     "output_type": "stream",
     "text": [
      "60000 10000\n"
     ]
    }
   ],
   "source": [
    "print(len(x_train),len(x_test))"
   ]
  },
  {
   "cell_type": "markdown",
   "metadata": {
    "id": "QGf9n-RikRwT"
   },
   "source": [
    "Apresente a quantidade de amostras de cada classe..há balanceamento?"
   ]
  },
  {
   "cell_type": "code",
   "execution_count": null,
   "metadata": {
    "id": "5PpjosshkX5C"
   },
   "outputs": [],
   "source": []
  },
  {
   "cell_type": "code",
   "execution_count": 6,
   "metadata": {
    "id": "hJuJJQZBkclT"
   },
   "outputs": [
    {
     "data": {
      "text/plain": [
       "[5923, 6742, 5958, 6131, 5842, 5421, 5918, 6265, 5851, 5949]"
      ]
     },
     "execution_count": 6,
     "metadata": {},
     "output_type": "execute_result"
    }
   ],
   "source": [
    "yl=list(y_train)\n",
    "count=[yl.count(i) for i in range(10)]\n",
    "count"
   ]
  },
  {
   "cell_type": "code",
   "execution_count": 7,
   "metadata": {
    "id": "InkiNMLvk2Gc"
   },
   "outputs": [
    {
     "data": {
      "text/plain": [
       "[980, 1135, 1032, 1010, 982, 892, 958, 1028, 974, 1009]"
      ]
     },
     "execution_count": 7,
     "metadata": {},
     "output_type": "execute_result"
    }
   ],
   "source": [
    "yt=list(y_test)\n",
    "count=[yt.count(i) for i in range(10)]\n",
    "count"
   ]
  },
  {
   "cell_type": "code",
   "execution_count": 8,
   "metadata": {
    "id": "jGWZItrtlMaP"
   },
   "outputs": [],
   "source": [
    "import matplotlib.pyplot as plt\n"
   ]
  },
  {
   "cell_type": "code",
   "execution_count": 9,
   "metadata": {
    "id": "-sS2j-Atlb3c"
   },
   "outputs": [
    {
     "data": {
      "text/plain": [
       "5"
      ]
     },
     "execution_count": 9,
     "metadata": {},
     "output_type": "execute_result"
    },
    {
     "data": {
      "image/png": "[encoded data removed]",
      "text/plain": [
       "<Figure size 432x288 with 1 Axes>"
      ]
     },
     "metadata": {
      "needs_background": "light"
     },
     "output_type": "display_data"
    }
   ],
   "source": [
    "plt.gray()\n",
    "plt.imshow(x_train[0]) \n",
    "y_train[0]"
   ]
  },
  {
   "cell_type": "markdown",
   "metadata": {
    "id": "Xb72eej3MyLa"
   },
   "source": [
    "Parte 2 :\n",
    "a)Transformando os targets (y_train, y_test) em amostras com 10 posições, via one_hot_encoding.\n",
    "\n",
    "b)Transformando as imagens em um array unidimensional\n",
    "Com 28x28 elementos. x_train=>x_train1\n"
   ]
  },
  {
   "cell_type": "code",
   "execution_count": 10,
   "metadata": {
    "id": "pcx_gL14NkIi"
   },
   "outputs": [],
   "source": [
    "\n",
    "y_train1=y_train.copy()\n",
    "y_train1=y_train1.reshape((-1,1))#transformando em mx1\n"
   ]
  },
  {
   "cell_type": "markdown",
   "metadata": {
    "id": "X52lKr02N27z"
   },
   "source": [
    "Transformação da imagem 2D em vetor 1D"
   ]
  },
  {
   "cell_type": "code",
   "execution_count": 11,
   "metadata": {
    "id": "Vc0jXYBKN3ZH"
   },
   "outputs": [
    {
     "data": {
      "text/plain": [
       "(array([[[0, 0, 0, ..., 0, 0, 0],\n",
       "         [0, 0, 0, ..., 0, 0, 0],\n",
       "         [0, 0, 0, ..., 0, 0, 0],\n",
       "         ...,\n",
       "         [0, 0, 0, ..., 0, 0, 0],\n",
       "         [0, 0, 0, ..., 0, 0, 0],\n",
       "         [0, 0, 0, ..., 0, 0, 0]],\n",
       " \n",
       "        [[0, 0, 0, ..., 0, 0, 0],\n",
       "         [0, 0, 0, ..., 0, 0, 0],\n",
       "         [0, 0, 0, ..., 0, 0, 0],\n",
       "         ...,\n",
       "         [0, 0, 0, ..., 0, 0, 0],\n",
       "         [0, 0, 0, ..., 0, 0, 0],\n",
       "         [0, 0, 0, ..., 0, 0, 0]],\n",
       " \n",
       "        [[0, 0, 0, ..., 0, 0, 0],\n",
       "         [0, 0, 0, ..., 0, 0, 0],\n",
       "         [0, 0, 0, ..., 0, 0, 0],\n",
       "         ...,\n",
       "         [0, 0, 0, ..., 0, 0, 0],\n",
       "         [0, 0, 0, ..., 0, 0, 0],\n",
       "         [0, 0, 0, ..., 0, 0, 0]],\n",
       " \n",
       "        [[0, 0, 0, ..., 0, 0, 0],\n",
       "         [0, 0, 0, ..., 0, 0, 0],\n",
       "         [0, 0, 0, ..., 0, 0, 0],\n",
       "         ...,\n",
       "         [0, 0, 0, ..., 0, 0, 0],\n",
       "         [0, 0, 0, ..., 0, 0, 0],\n",
       "         [0, 0, 0, ..., 0, 0, 0]]], dtype=uint8),\n",
       " array([[[0, 0, 0, ..., 0, 0, 0],\n",
       "         [0, 0, 0, ..., 0, 0, 0],\n",
       "         [0, 0, 0, ..., 0, 0, 0],\n",
       "         ...,\n",
       "         [0, 0, 0, ..., 0, 0, 0],\n",
       "         [0, 0, 0, ..., 0, 0, 0],\n",
       "         [0, 0, 0, ..., 0, 0, 0]],\n",
       " \n",
       "        [[0, 0, 0, ..., 0, 0, 0],\n",
       "         [0, 0, 0, ..., 0, 0, 0],\n",
       "         [0, 0, 0, ..., 0, 0, 0],\n",
       "         ...,\n",
       "         [0, 0, 0, ..., 0, 0, 0],\n",
       "         [0, 0, 0, ..., 0, 0, 0],\n",
       "         [0, 0, 0, ..., 0, 0, 0]],\n",
       " \n",
       "        [[0, 0, 0, ..., 0, 0, 0],\n",
       "         [0, 0, 0, ..., 0, 0, 0],\n",
       "         [0, 0, 0, ..., 0, 0, 0],\n",
       "         ...,\n",
       "         [0, 0, 0, ..., 0, 0, 0],\n",
       "         [0, 0, 0, ..., 0, 0, 0],\n",
       "         [0, 0, 0, ..., 0, 0, 0]],\n",
       " \n",
       "        [[0, 0, 0, ..., 0, 0, 0],\n",
       "         [0, 0, 0, ..., 0, 0, 0],\n",
       "         [0, 0, 0, ..., 0, 0, 0],\n",
       "         ...,\n",
       "         [0, 0, 0, ..., 0, 0, 0],\n",
       "         [0, 0, 0, ..., 0, 0, 0],\n",
       "         [0, 0, 0, ..., 0, 0, 0]]], dtype=uint8))"
      ]
     },
     "execution_count": 11,
     "metadata": {},
     "output_type": "execute_result"
    }
   ],
   "source": [
    "import numpy as np\n",
    "l_train1=[]\n",
    "l_test1=[]\n",
    "for i in range(len(x_train)):\n",
    "  l_train1.append(x_train[i].reshape((784,)))\n",
    "for i in range(len(x_test)):\n",
    "  l_test1.append(x_test[i].reshape((784,)))\n",
    "x_train1=np.array(l_train1)\n",
    "x_test1=np.array(l_test1)\n",
    "x_train[:4],x_test[:4]"
   ]
  },
  {
   "cell_type": "code",
   "execution_count": 12,
   "metadata": {
    "colab": {
     "base_uri": "https://localhost:8080/",
     "height": 35
    },
    "id": "p9ea5QDHOERr",
    "outputId": "e8b7ee5a-5ad8-43b3-f856-ed6895678e2c"
   },
   "outputs": [
    {
     "data": {
      "text/plain": [
       "(784,)"
      ]
     },
     "execution_count": 12,
     "metadata": {},
     "output_type": "execute_result"
    }
   ],
   "source": [
    "x_train1[0].shape"
   ]
  },
  {
   "cell_type": "code",
   "execution_count": 13,
   "metadata": {
    "id": "NoE63bc8O9xw"
   },
   "outputs": [
    {
     "data": {
      "text/plain": [
       "array([[0., 0., 0., 0., 0., 0., 0., 1., 0., 0.],\n",
       "       [0., 0., 1., 0., 0., 0., 0., 0., 0., 0.],\n",
       "       [0., 1., 0., 0., 0., 0., 0., 0., 0., 0.],\n",
       "       [1., 0., 0., 0., 0., 0., 0., 0., 0., 0.],\n",
       "       [0., 0., 0., 0., 1., 0., 0., 0., 0., 0.],\n",
       "       [0., 1., 0., 0., 0., 0., 0., 0., 0., 0.],\n",
       "       [0., 0., 0., 0., 1., 0., 0., 0., 0., 0.],\n",
       "       [0., 0., 0., 0., 0., 0., 0., 0., 0., 1.],\n",
       "       [0., 0., 0., 0., 0., 1., 0., 0., 0., 0.],\n",
       "       [0., 0., 0., 0., 0., 0., 0., 0., 0., 1.]])"
      ]
     },
     "execution_count": 13,
     "metadata": {},
     "output_type": "execute_result"
    }
   ],
   "source": [
    "from sklearn.preprocessing import OneHotEncoder\n",
    "enc = OneHotEncoder()\n",
    "y_train1=y_train.copy()\n",
    "y_train1=y_train1.reshape((-1,1))#transformando em mx1\n",
    "enc.fit(y_train1)\n",
    "ytr1=enc.transform(y_train1).toarray()\n",
    "ytr1[:10]#Observe o encoding da amostra de classe 5 (primeira linha)\n",
    "\n",
    "y_test1=y_test.copy()\n",
    "y_test1=y_test.reshape((-1,1))#transformando em mx1\n",
    "enc.fit(y_test1)\n",
    "yts1=enc.transform(y_test1).toarray()\n",
    "yts1[:10]#Observe o encoding da amostra de classe 5 (primeira linha)\n"
   ]
  },
  {
   "cell_type": "markdown",
   "metadata": {
    "id": "M_RmNwYsOnZl"
   },
   "source": [
    "Parte 3:\n",
    "\n",
    "a)Criando e treinando modelo\n",
    "\n",
    "b)Validando o modelo\n",
    "\n",
    "3)Observando a convergência\n",
    "\n"
   ]
  },
  {
   "cell_type": "code",
   "execution_count": 14,
   "metadata": {
    "id": "aRu2YVIuOn0-"
   },
   "outputs": [],
   "source": [
    "tf.random.set_seed(51)\n",
    "model = tf.keras.models.Sequential()\n",
    "model.add(tf.keras.layers.Dense(3000, activation='relu',input_shape=(784,)))\n",
    "model.add(tf.keras.layers.Dense(500, activation='relu'))\n",
    "model.add(tf.keras.layers.Dense(100, activation='relu'))\n",
    "model.add(tf.keras.layers.Dense(10, activation='softmax'))"
   ]
  },
  {
   "cell_type": "code",
   "execution_count": 15,
   "metadata": {
    "id": "fRUbYHzqOsJC"
   },
   "outputs": [
    {
     "name": "stdout",
     "output_type": "stream",
     "text": [
      "Model: \"sequential\"\n",
      "_________________________________________________________________\n",
      "Layer (type)                 Output Shape              Param #   \n",
      "=================================================================\n",
      "dense (Dense)                (None, 3000)              2355000   \n",
      "_________________________________________________________________\n",
      "dense_1 (Dense)              (None, 500)               1500500   \n",
      "_________________________________________________________________\n",
      "dense_2 (Dense)              (None, 100)               50100     \n",
      "_________________________________________________________________\n",
      "dense_3 (Dense)              (None, 10)                1010      \n",
      "=================================================================\n",
      "Total params: 3,906,610\n",
      "Trainable params: 3,906,610\n",
      "Non-trainable params: 0\n",
      "_________________________________________________________________\n"
     ]
    }
   ],
   "source": [
    "model.summary()"
   ]
  },
  {
   "cell_type": "code",
   "execution_count": 16,
   "metadata": {
    "id": "UeMnAtJ1Oui1"
   },
   "outputs": [
    {
     "name": "stdout",
     "output_type": "stream",
     "text": [
      "Epoch 1/10\n",
      "1875/1875 [==============================] - 56s 30ms/step - loss: 1.1170 - accuracy: 0.9148 - val_loss: 0.2170 - val_accuracy: 0.9418\n",
      "Epoch 2/10\n",
      "1875/1875 [==============================] - 55s 29ms/step - loss: 0.1939 - accuracy: 0.9493 - val_loss: 0.1809 - val_accuracy: 0.9506\n",
      "Epoch 3/10\n",
      "1875/1875 [==============================] - 55s 29ms/step - loss: 0.1474 - accuracy: 0.9607 - val_loss: 0.1598 - val_accuracy: 0.9571\n",
      "Epoch 4/10\n",
      "1875/1875 [==============================] - 54s 29ms/step - loss: 0.1272 - accuracy: 0.9661 - val_loss: 0.1354 - val_accuracy: 0.9629\n",
      "Epoch 5/10\n",
      "1875/1875 [==============================] - 54s 29ms/step - loss: 0.1064 - accuracy: 0.9728 - val_loss: 0.1206 - val_accuracy: 0.9706\n",
      "Epoch 6/10\n",
      "1875/1875 [==============================] - 57s 30ms/step - loss: 0.0943 - accuracy: 0.9761 - val_loss: 0.1224 - val_accuracy: 0.9681\n",
      "Epoch 7/10\n",
      "1875/1875 [==============================] - 57s 30ms/step - loss: 0.0878 - accuracy: 0.9774 - val_loss: 0.1575 - val_accuracy: 0.9664\n",
      "Epoch 8/10\n",
      "1875/1875 [==============================] - 57s 31ms/step - loss: 0.0785 - accuracy: 0.9804 - val_loss: 0.1307 - val_accuracy: 0.9705\n",
      "Epoch 9/10\n",
      "1875/1875 [==============================] - 58s 31ms/step - loss: 0.0699 - accuracy: 0.9837 - val_loss: 0.1181 - val_accuracy: 0.9735\n",
      "Epoch 10/10\n",
      "1875/1875 [==============================] - 58s 31ms/step - loss: 0.0650 - accuracy: 0.9847 - val_loss: 0.1622 - val_accuracy: 0.9745\n"
     ]
    }
   ],
   "source": [
    "model.compile(optimizer='adam', loss='categorical_crossentropy', metrics=['accuracy'])\n",
    "hist=model.fit(x=x_train1,y=ytr1, validation_data=(x_test1, yts1),epochs=10)"
   ]
  }
 ],
 "metadata": {
  "accelerator": "GPU",
  "colab": {
   "name": "drop_reg_2.ipynb",
   "provenance": []
  },
  "kernelspec": {
   "display_name": "Python 3",
   "language": "python",
   "name": "python3"
  },
  "language_info": {
   "codemirror_mode": {
    "name": "ipython",
    "version": 3
   },
   "file_extension": ".py",
   "mimetype": "text/x-python",
   "name": "python",
   "nbconvert_exporter": "python",
   "pygments_lexer": "ipython3",
   "version": "3.6.9"
  }
 },
 "nbformat": 4,
 "nbformat_minor": 1
}
