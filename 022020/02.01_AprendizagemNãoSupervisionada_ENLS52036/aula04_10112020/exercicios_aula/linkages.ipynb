{
 "cells": [
  {
   "cell_type": "markdown",
   "metadata": {
    "colab_type": "text",
    "id": "hJjIducE1x8g"
   },
   "source": [
    "Criação de Dendograma - Cluster Hierárquico"
   ]
  },
  {
   "cell_type": "code",
   "execution_count": 5,
   "metadata": {
    "colab": {
     "base_uri": "https://localhost:8080/",
     "height": 533
    },
    "colab_type": "code",
    "id": "rtHenkgVdsqu",
    "outputId": "b2228315-2049-40c5-fc48-ef4bd8e9a88b"
   },
   "outputs": [
    {
     "data": {
      "image/png": "[encoded data removed]",
      "text/plain": [
       "<Figure size 432x288 with 1 Axes>"
      ]
     },
     "metadata": {
      "needs_background": "light"
     },
     "output_type": "display_data"
    },
    {
     "data": {
      "image/png": "[encoded data removed]",
      "text/plain": [
       "<Figure size 432x288 with 1 Axes>"
      ]
     },
     "metadata": {
      "needs_background": "light"
     },
     "output_type": "display_data"
    },
    {
     "data": {
      "image/png": "[encoded data removed]",
      "text/plain": [
       "<Figure size 432x288 with 1 Axes>"
      ]
     },
     "metadata": {
      "needs_background": "light"
     },
     "output_type": "display_data"
    }
   ],
   "source": [
    "from matplotlib import pyplot as plt\n",
    "from scipy.cluster.hierarchy import dendrogram,linkage\n",
    "import numpy as np\n",
    "X = np.array([[1, 1], [2, 2], [5, 5],\n",
    "              [5, 6], [0, 4], [0, 5],[3.5,3]])\n",
    "\n",
    "\n",
    "\n",
    "for i in range(len(X)):\n",
    "  plt.plot(X[i,0],X[i,1],'bo',)\n",
    "  plt.text(X[i,0]+.05, X[i,1]+.05, str(i), fontsize=9)\n",
    "plt.show()\n",
    "\n",
    "\n",
    "Z = linkage(X, 'single')\n",
    "plt.title('Single Linkage')\n",
    "d=dendrogram(Z)\n",
    "plt.show()\n",
    "\n",
    "Z = linkage(X, 'complete')\n",
    "plt.title('Complete Linkage')\n",
    "d=dendrogram(Z)\n",
    "plt.show()\n"
   ]
  },
  {
   "cell_type": "code",
   "execution_count": 15,
   "metadata": {},
   "outputs": [],
   "source": [
    "def d(v1,v2):\n",
    "    return np.linalg.norm(v2-v1)"
   ]
  },
  {
   "cell_type": "code",
   "execution_count": 29,
   "metadata": {},
   "outputs": [],
   "source": [
    "dist=np.zeros((7,7))\n",
    "for i in range(7):\n",
    "    for j in range(7):\n",
    "        if j>i:dist[i,j]=d(X[i],X[j])\n",
    "        else:\n",
    "            if j<i: dist[i,j]=dist[j,i] "
   ]
  },
  {
   "cell_type": "code",
   "execution_count": 17,
   "metadata": {},
   "outputs": [],
   "source": [
    "def dist_min_max(l1,l2):\n",
    "    dists=[]\n",
    "    for i in l1:\n",
    "        for j in l2:\n",
    "            dists.append((i,j,dist[i,j]))\n",
    "    dists.sort(key=lambda x:x[2])\n",
    "    return((dists[0][2],dists[-1][2]))\n"
   ]
  },
  {
   "cell_type": "code",
   "execution_count": 32,
   "metadata": {
    "collapsed": true
   },
   "outputs": [
    {
     "name": "stdout",
     "output_type": "stream",
     "text": [
      "(2.5, 6.4031242374328485)\n",
      "(2.8284271247461903, 4.123105625617661)\n"
     ]
    }
   ],
   "source": [
    "#mostre com a função dist_min_max que no critério linkage single 1,0,6 se une a 2,3 e no complete 1,0,6 se une a 4,5"
   ]
  },
  {
   "cell_type": "code",
   "execution_count": 31,
   "metadata": {
    "collapsed": true
   },
   "outputs": [
    {
     "data": {
      "text/plain": [
       "array([[0.        , 1.41421356, 5.65685425, 6.40312424, 3.16227766,\n",
       "        4.12310563, 3.20156212],\n",
       "       [1.41421356, 0.        , 4.24264069, 5.        , 2.82842712,\n",
       "        3.60555128, 1.80277564],\n",
       "       [5.65685425, 4.24264069, 0.        , 1.        , 5.09901951,\n",
       "        5.        , 2.5       ],\n",
       "       [6.40312424, 5.        , 1.        , 0.        , 5.38516481,\n",
       "        5.09901951, 3.35410197],\n",
       "       [3.16227766, 2.82842712, 5.09901951, 5.38516481, 0.        ,\n",
       "        1.        , 3.64005494],\n",
       "       [4.12310563, 3.60555128, 5.        , 5.09901951, 1.        ,\n",
       "        0.        , 4.03112887],\n",
       "       [3.20156212, 1.80277564, 2.5       , 3.35410197, 3.64005494,\n",
       "        4.03112887, 0.        ]])"
      ]
     },
     "execution_count": 31,
     "metadata": {},
     "output_type": "execute_result"
    }
   ],
   "source": []
  },
  {
   "cell_type": "code",
   "execution_count": null,
   "metadata": {},
   "outputs": [],
   "source": []
  }
 ],
 "metadata": {
  "colab": {
   "name": "hierarquico.ipynb",
   "provenance": []
  },
  "kernelspec": {
   "display_name": "Python 3",
   "language": "python",
   "name": "python3"
  },
  "language_info": {
   "codemirror_mode": {
    "name": "ipython",
    "version": 3
   },
   "file_extension": ".py",
   "mimetype": "text/x-python",
   "name": "python",
   "nbconvert_exporter": "python",
   "pygments_lexer": "ipython3",
   "version": "3.7.6"
  }
 },
 "nbformat": 4,
 "nbformat_minor": 1
}
