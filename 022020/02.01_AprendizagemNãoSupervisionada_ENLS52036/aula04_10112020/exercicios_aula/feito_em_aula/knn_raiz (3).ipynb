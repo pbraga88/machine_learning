{
  "nbformat": 4,
  "nbformat_minor": 0,
  "metadata": {
    "kernelspec": {
      "display_name": "Python 3",
      "language": "python",
      "name": "python3"
    },
    "language_info": {
      "codemirror_mode": {
        "name": "ipython",
        "version": 3
      },
      "file_extension": ".py",
      "mimetype": "text/x-python",
      "name": "python",
      "nbconvert_exporter": "python",
      "pygments_lexer": "ipython3",
      "version": "3.6.3"
    },
    "colab": {
      "name": "knn_raiz.ipynb",
      "provenance": []
    }
  },
  "cells": [
    {
      "cell_type": "markdown",
      "metadata": {
        "id": "5kcGa6uLUW-D"
      },
      "source": [
        "# Knn na doença não separável linearmente"
      ]
    },
    {
      "cell_type": "code",
      "metadata": {
        "id": "HalVy7wYUW-J"
      },
      "source": [
        "import pandas as pd\n",
        "import numpy as np\n",
        "from sklearn.metrics import accuracy_score\n",
        "import matplotlib.pyplot as plt"
      ],
      "execution_count": null,
      "outputs": []
    },
    {
      "cell_type": "code",
      "metadata": {
        "id": "uwaWb7DFUW-Q",
        "outputId": "26e0a219-6fd4-4fc7-a2aa-807cae6f9921",
        "colab": {
          "base_uri": "https://localhost:8080/"
        }
      },
      "source": [
        "df=pd.read_csv('nova_doenca2.csv',sep=';')\n",
        "df.head(),len(df)"
      ],
      "execution_count": null,
      "outputs": [
        {
          "output_type": "execute_result",
          "data": {
            "text/plain": [
              "(   indicador1  indicador2  diagnóstico\n",
              " 0           1           3            1\n",
              " 1           2           3            0\n",
              " 2           2           8            1\n",
              " 3           5           8            0\n",
              " 4           8          10            1, 10)"
            ]
          },
          "metadata": {
            "tags": []
          },
          "execution_count": 9
        }
      ]
    },
    {
      "cell_type": "code",
      "metadata": {
        "id": "s-G7AdPXUW-Z",
        "outputId": "e10aae03-0496-48ab-fe24-1fbc9428c4b0",
        "colab": {
          "base_uri": "https://localhost:8080/",
          "height": 265
        }
      },
      "source": [
        "for i in range(len(df)):\n",
        "    if df['diagnóstico'].iloc[i]==1:\n",
        "        plt.plot(df.iloc[i,0],df.iloc[i,1],'ro')\n",
        "    else:plt.plot(df.iloc[i,0],df.iloc[i,1],'bo')\n",
        "    plt.text(df.iloc[i,0]+0.2,df.iloc[i,1],str(i))\n",
        "plt.show()"
      ],
      "execution_count": null,
      "outputs": [
        {
          "output_type": "display_data",
          "data": {
            "image/png": "[encoded data removed]",
            "text/plain": [
              "<Figure size 432x288 with 1 Axes>"
            ]
          },
          "metadata": {
            "tags": [],
            "needs_background": "light"
          }
        }
      ]
    },
    {
      "cell_type": "markdown",
      "metadata": {
        "id": "aIPJrd9RUW-d"
      },
      "source": [
        "Obter a acurácia com regressão logística e sklearn"
      ]
    },
    {
      "cell_type": "code",
      "metadata": {
        "id": "zT-iB_45qPPw",
        "outputId": "79c6a2b5-8087-4473-f917-8ac15734db7a",
        "colab": {
          "base_uri": "https://localhost:8080/"
        }
      },
      "source": [
        "from sklearn.linear_model import LogisticRegression\n",
        "rl=LogisticRegression()\n",
        "X=np.array(df)[:,:-1]\n",
        "y=np.array(df['diagnóstico'])\n",
        "X,y\n",
        "rl.fit(X,y)\n",
        "ye=rl.predict(X)\n",
        "accuracy_score(y,ye)"
      ],
      "execution_count": null,
      "outputs": [
        {
          "output_type": "execute_result",
          "data": {
            "text/plain": [
              "0.5"
            ]
          },
          "metadata": {
            "tags": []
          },
          "execution_count": 8
        }
      ]
    },
    {
      "cell_type": "markdown",
      "metadata": {
        "id": "H5pMgGmqUW-f"
      },
      "source": [
        "Crie a função dist, com a distância Euclidiana entre dois vetores"
      ]
    },
    {
      "cell_type": "code",
      "metadata": {
        "id": "8oSVy0EfUW-g"
      },
      "source": [
        "def dist(v1,v2):\n",
        "    \n",
        "    return np.linalg.norm(v2-v1)\n",
        "\n"
      ],
      "execution_count": null,
      "outputs": []
    },
    {
      "cell_type": "markdown",
      "metadata": {
        "id": "nQUM4ZvoUW-k"
      },
      "source": [
        "Teste a função dist com os vetores (1,1) e (2,2)...o resultado deve ser 1.414.."
      ]
    },
    {
      "cell_type": "code",
      "metadata": {
        "id": "GrsR28RdUW-l",
        "outputId": "14f3a1f7-c2b6-46fe-dd41-a6321bf10190",
        "colab": {
          "base_uri": "https://localhost:8080/"
        }
      },
      "source": [
        "dist(np.array([1,1]),np.array([2,2]))"
      ],
      "execution_count": null,
      "outputs": [
        {
          "output_type": "execute_result",
          "data": {
            "text/plain": [
              "1.4142135623730951"
            ]
          },
          "metadata": {
            "tags": []
          },
          "execution_count": 11
        }
      ]
    },
    {
      "cell_type": "markdown",
      "metadata": {
        "id": "mV9sAnzlUW-4"
      },
      "source": [
        "Crie uma função v_dist que retornará um array (ordenado pela distância do vetor v a cada linha de X) com tuplas t, sendo t[0]:distância, t[1] a linha de X e t[2] o y correspondente à linha"
      ]
    },
    {
      "cell_type": "code",
      "metadata": {
        "id": "cdFoiUm5UW-6"
      },
      "source": [
        "def v_dist(v,X,y):\n",
        "    vd=[]\n",
        "    for i in range(len(X)):\n",
        "      vd.append((i,np.linalg.norm(v-X[i]),y[i]))\n",
        "    vd.sort(key=lambda x:x[1])\n",
        "    \n",
        "    return np.array(vd)"
      ],
      "execution_count": null,
      "outputs": []
    },
    {
      "cell_type": "code",
      "metadata": {
        "id": "KmWXEJAGr3J1",
        "outputId": "3b52c813-cc82-4793-c9f8-9c46ac8d44e4",
        "colab": {
          "base_uri": "https://localhost:8080/"
        }
      },
      "source": [
        "v_dist(np.array([7,3]),X,y)"
      ],
      "execution_count": null,
      "outputs": [
        {
          "output_type": "execute_result",
          "data": {
            "text/plain": [
              "array([[7.        , 1.        , 1.        ],\n",
              "       [6.        , 1.41421356, 0.        ],\n",
              "       [8.        , 1.41421356, 1.        ],\n",
              "       [5.        , 4.47213595, 0.        ],\n",
              "       [9.        , 4.47213595, 0.        ],\n",
              "       [1.        , 5.        , 0.        ],\n",
              "       [3.        , 5.38516481, 0.        ],\n",
              "       [0.        , 6.        , 1.        ],\n",
              "       [2.        , 7.07106781, 1.        ],\n",
              "       [4.        , 7.07106781, 1.        ]])"
            ]
          },
          "metadata": {
            "tags": []
          },
          "execution_count": 28
        }
      ]
    },
    {
      "cell_type": "markdown",
      "metadata": {
        "id": "nqLvGq8sUW--"
      },
      "source": [
        "Crie uma função de predição, que recebe v,X e y e retorna a classe prevista, suponha k=5"
      ]
    },
    {
      "cell_type": "code",
      "metadata": {
        "id": "TuC9LwuVUW_A"
      },
      "source": [
        "def predict(v,X,y):\n",
        "  d=v_dist(v,X,y)\n",
        "  soma=0\n",
        "  for i in range(5):\n",
        "    soma+=d[i,2]\n",
        "  if soma>2:return 1\n",
        "  else:return 0\n",
        "\n",
        "  \n",
        "    \n",
        "\n"
      ],
      "execution_count": null,
      "outputs": []
    },
    {
      "cell_type": "code",
      "metadata": {
        "id": "4IcV6kH6s9LM",
        "outputId": "9498e8c3-3dc9-46b7-eb2f-f313d136d94a",
        "colab": {
          "base_uri": "https://localhost:8080/"
        }
      },
      "source": [
        "predict(np.array([7,3]),X,y)"
      ],
      "execution_count": null,
      "outputs": [
        {
          "output_type": "execute_result",
          "data": {
            "text/plain": [
              "0"
            ]
          },
          "metadata": {
            "tags": []
          },
          "execution_count": 30
        }
      ]
    },
    {
      "cell_type": "markdown",
      "metadata": {
        "id": "kn1xt_-sUW_I"
      },
      "source": [
        "Calcular a acurácia na amostra toda"
      ]
    },
    {
      "cell_type": "code",
      "metadata": {
        "id": "yY2PQHpZUW_L",
        "outputId": "a01a6709-35f6-4b51-b083-8e978c20dfef",
        "colab": {
          "base_uri": "https://localhost:8080/"
        }
      },
      "source": [
        "ye=[]\n",
        "for i in range(len(X)):\n",
        "    ye.append(predict(X[i],X,y))\n",
        "ye=np.array(ye)   \n",
        "accuracy_score(ye,y)"
      ],
      "execution_count": null,
      "outputs": [
        {
          "output_type": "execute_result",
          "data": {
            "text/plain": [
              "0.6"
            ]
          },
          "metadata": {
            "tags": []
          },
          "execution_count": 35
        }
      ]
    }
  ]
}