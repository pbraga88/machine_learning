{
  "nbformat": 4,
  "nbformat_minor": 0,
  "metadata": {
    "colab": {
      "name": "drop_reg_2.ipynb",
      "provenance": []
    },
    "kernelspec": {
      "name": "python3",
      "display_name": "Python 3"
    },
    "accelerator": "GPU"
  },
  "cells": [
    {
      "cell_type": "markdown",
      "metadata": {
        "id": "MTfOD6vVJweo"
      },
      "source": [
        "Deep Feed forward para identificação de dígitos... parte 1 :importando e analisando o Dataset"
      ]
    },
    {
      "cell_type": "code",
      "metadata": {
        "id": "vINUEShYhTq0",
        "outputId": "a24b2141-3308-419a-9832-a7c9dc628eab",
        "colab": {
          "base_uri": "https://localhost:8080/"
        }
      },
      "source": [
        "import tensorflow as tf\n",
        "print(tf.__version__)"
      ],
      "execution_count": 1,
      "outputs": [
        {
          "output_type": "stream",
          "text": [
            "2.3.0\n"
          ],
          "name": "stdout"
        }
      ]
    },
    {
      "cell_type": "code",
      "metadata": {
        "id": "WXu3WN8Uigjx",
        "outputId": "ca71ad18-19e1-4e9f-c2d7-32d02e02850c",
        "colab": {
          "base_uri": "https://localhost:8080/"
        }
      },
      "source": [
        "(x_train, y_train), (x_test, y_test) = tf.keras.datasets.mnist.load_data()"
      ],
      "execution_count": 2,
      "outputs": [
        {
          "output_type": "stream",
          "text": [
            "Downloading data from https://storage.googleapis.com/tensorflow/tf-keras-datasets/mnist.npz\n",
            "11493376/11490434 [==============================] - 0s 0us/step\n"
          ],
          "name": "stdout"
        }
      ]
    },
    {
      "cell_type": "markdown",
      "metadata": {
        "id": "soa_oFDzjGOf"
      },
      "source": [
        "Vamos ver analisar a primeira imagem"
      ]
    },
    {
      "cell_type": "code",
      "metadata": {
        "id": "liKnjtiri7ER",
        "outputId": "4851c4d2-cca1-46d0-daed-8b80e5ed85de",
        "colab": {
          "base_uri": "https://localhost:8080/"
        }
      },
      "source": [
        "print(x_train.shape)#imagem 28x28"
      ],
      "execution_count": 3,
      "outputs": [
        {
          "output_type": "stream",
          "text": [
            "(60000, 28, 28)\n"
          ],
          "name": "stdout"
        }
      ]
    },
    {
      "cell_type": "code",
      "metadata": {
        "id": "k_4ARCxqjUNw",
        "outputId": "a1726e05-d508-4c3b-abaa-bc038af0d566",
        "colab": {
          "base_uri": "https://localhost:8080/"
        }
      },
      "source": [
        "print(x_train[0].max(),x_train[0].min())# a imagem tem um só canal entre 0 e 255"
      ],
      "execution_count": 4,
      "outputs": [
        {
          "output_type": "stream",
          "text": [
            "255 0\n"
          ],
          "name": "stdout"
        }
      ]
    },
    {
      "cell_type": "code",
      "metadata": {
        "id": "F6NKIxQtjmL0",
        "outputId": "5d8909d9-f752-45ef-c231-1181c04ebade",
        "colab": {
          "base_uri": "https://localhost:8080/"
        }
      },
      "source": [
        "print(len(x_train),len(x_test))"
      ],
      "execution_count": 5,
      "outputs": [
        {
          "output_type": "stream",
          "text": [
            "60000 10000\n"
          ],
          "name": "stdout"
        }
      ]
    },
    {
      "cell_type": "markdown",
      "metadata": {
        "id": "QGf9n-RikRwT"
      },
      "source": [
        "Apresente a quantidade de amostras de cada classe..há balanceamento?"
      ]
    },
    {
      "cell_type": "code",
      "metadata": {
        "id": "5PpjosshkX5C"
      },
      "source": [
        ""
      ],
      "execution_count": null,
      "outputs": []
    },
    {
      "cell_type": "code",
      "metadata": {
        "id": "hJuJJQZBkclT",
        "outputId": "63a31e38-7088-4849-e711-7df7e5074fac",
        "colab": {
          "base_uri": "https://localhost:8080/"
        }
      },
      "source": [
        "yl=list(y_train)\n",
        "count=[yl.count(i) for i in range(10)]\n",
        "count"
      ],
      "execution_count": 6,
      "outputs": [
        {
          "output_type": "execute_result",
          "data": {
            "text/plain": [
              "[5923, 6742, 5958, 6131, 5842, 5421, 5918, 6265, 5851, 5949]"
            ]
          },
          "metadata": {
            "tags": []
          },
          "execution_count": 6
        }
      ]
    },
    {
      "cell_type": "code",
      "metadata": {
        "id": "InkiNMLvk2Gc",
        "outputId": "45263220-f38d-4175-bc28-30199bbabb65",
        "colab": {
          "base_uri": "https://localhost:8080/"
        }
      },
      "source": [
        "yt=list(y_test)\n",
        "count=[yt.count(i) for i in range(10)]\n",
        "count"
      ],
      "execution_count": 7,
      "outputs": [
        {
          "output_type": "execute_result",
          "data": {
            "text/plain": [
              "[980, 1135, 1032, 1010, 982, 892, 958, 1028, 974, 1009]"
            ]
          },
          "metadata": {
            "tags": []
          },
          "execution_count": 7
        }
      ]
    },
    {
      "cell_type": "code",
      "metadata": {
        "id": "jGWZItrtlMaP"
      },
      "source": [
        "import matplotlib.pyplot as plt\n"
      ],
      "execution_count": 8,
      "outputs": []
    },
    {
      "cell_type": "code",
      "metadata": {
        "id": "-sS2j-Atlb3c",
        "outputId": "0d19513c-d39d-4b5a-eba0-94f11f277114",
        "colab": {
          "base_uri": "https://localhost:8080/",
          "height": 282
        }
      },
      "source": [
        "plt.gray()\n",
        "plt.imshow(x_train[0]) \n",
        "y_train[0]"
      ],
      "execution_count": 9,
      "outputs": [
        {
          "output_type": "execute_result",
          "data": {
            "text/plain": [
              "5"
            ]
          },
          "metadata": {
            "tags": []
          },
          "execution_count": 9
        },
        {
          "output_type": "display_data",
          "data": {
            "image/png": "[encoded data removed]",
            "text/plain": [
              "<Figure size 432x288 with 1 Axes>"
            ]
          },
          "metadata": {
            "tags": [],
            "needs_background": "light"
          }
        }
      ]
    },
    {
      "cell_type": "markdown",
      "metadata": {
        "id": "Xb72eej3MyLa"
      },
      "source": [
        "Parte 2 :\n",
        "a)Transformando os targets (y_train, y_test) em amostras com 10 posições, via one_hot_encoding.\n",
        "\n",
        "b)Transformando as imagens em um array unidimensional\n",
        "Com 28x28 elementos. x_train=>x_train1\n"
      ]
    },
    {
      "cell_type": "code",
      "metadata": {
        "id": "pcx_gL14NkIi"
      },
      "source": [
        "\n",
        "y_train1=y_train.copy()\n",
        "y_train1=y_train1.reshape((-1,1))#transformando em mx1\n"
      ],
      "execution_count": 10,
      "outputs": []
    },
    {
      "cell_type": "markdown",
      "metadata": {
        "id": "X52lKr02N27z"
      },
      "source": [
        "Transformação da imagem 2D em vetor 1D"
      ]
    },
    {
      "cell_type": "code",
      "metadata": {
        "id": "Vc0jXYBKN3ZH",
        "outputId": "91b6410f-336a-4517-9379-e39afbb26ee3",
        "colab": {
          "base_uri": "https://localhost:8080/"
        }
      },
      "source": [
        "import numpy as np\n",
        "l_train1=[]\n",
        "l_test1=[]\n",
        "for i in range(len(x_train)):\n",
        "  l_train1.append(x_train[i].reshape((784,)))\n",
        "for i in range(len(x_test)):\n",
        "  l_test1.append(x_test[i].reshape((784,)))\n",
        "x_train1=np.array(l_train1)\n",
        "x_test1=np.array(l_test1)\n",
        "x_train[:4],x_test[:4]"
      ],
      "execution_count": 12,
      "outputs": [
        {
          "output_type": "execute_result",
          "data": {
            "text/plain": [
              "(array([[[0, 0, 0, ..., 0, 0, 0],\n",
              "         [0, 0, 0, ..., 0, 0, 0],\n",
              "         [0, 0, 0, ..., 0, 0, 0],\n",
              "         ...,\n",
              "         [0, 0, 0, ..., 0, 0, 0],\n",
              "         [0, 0, 0, ..., 0, 0, 0],\n",
              "         [0, 0, 0, ..., 0, 0, 0]],\n",
              " \n",
              "        [[0, 0, 0, ..., 0, 0, 0],\n",
              "         [0, 0, 0, ..., 0, 0, 0],\n",
              "         [0, 0, 0, ..., 0, 0, 0],\n",
              "         ...,\n",
              "         [0, 0, 0, ..., 0, 0, 0],\n",
              "         [0, 0, 0, ..., 0, 0, 0],\n",
              "         [0, 0, 0, ..., 0, 0, 0]],\n",
              " \n",
              "        [[0, 0, 0, ..., 0, 0, 0],\n",
              "         [0, 0, 0, ..., 0, 0, 0],\n",
              "         [0, 0, 0, ..., 0, 0, 0],\n",
              "         ...,\n",
              "         [0, 0, 0, ..., 0, 0, 0],\n",
              "         [0, 0, 0, ..., 0, 0, 0],\n",
              "         [0, 0, 0, ..., 0, 0, 0]],\n",
              " \n",
              "        [[0, 0, 0, ..., 0, 0, 0],\n",
              "         [0, 0, 0, ..., 0, 0, 0],\n",
              "         [0, 0, 0, ..., 0, 0, 0],\n",
              "         ...,\n",
              "         [0, 0, 0, ..., 0, 0, 0],\n",
              "         [0, 0, 0, ..., 0, 0, 0],\n",
              "         [0, 0, 0, ..., 0, 0, 0]]], dtype=uint8),\n",
              " array([[[0, 0, 0, ..., 0, 0, 0],\n",
              "         [0, 0, 0, ..., 0, 0, 0],\n",
              "         [0, 0, 0, ..., 0, 0, 0],\n",
              "         ...,\n",
              "         [0, 0, 0, ..., 0, 0, 0],\n",
              "         [0, 0, 0, ..., 0, 0, 0],\n",
              "         [0, 0, 0, ..., 0, 0, 0]],\n",
              " \n",
              "        [[0, 0, 0, ..., 0, 0, 0],\n",
              "         [0, 0, 0, ..., 0, 0, 0],\n",
              "         [0, 0, 0, ..., 0, 0, 0],\n",
              "         ...,\n",
              "         [0, 0, 0, ..., 0, 0, 0],\n",
              "         [0, 0, 0, ..., 0, 0, 0],\n",
              "         [0, 0, 0, ..., 0, 0, 0]],\n",
              " \n",
              "        [[0, 0, 0, ..., 0, 0, 0],\n",
              "         [0, 0, 0, ..., 0, 0, 0],\n",
              "         [0, 0, 0, ..., 0, 0, 0],\n",
              "         ...,\n",
              "         [0, 0, 0, ..., 0, 0, 0],\n",
              "         [0, 0, 0, ..., 0, 0, 0],\n",
              "         [0, 0, 0, ..., 0, 0, 0]],\n",
              " \n",
              "        [[0, 0, 0, ..., 0, 0, 0],\n",
              "         [0, 0, 0, ..., 0, 0, 0],\n",
              "         [0, 0, 0, ..., 0, 0, 0],\n",
              "         ...,\n",
              "         [0, 0, 0, ..., 0, 0, 0],\n",
              "         [0, 0, 0, ..., 0, 0, 0],\n",
              "         [0, 0, 0, ..., 0, 0, 0]]], dtype=uint8))"
            ]
          },
          "metadata": {
            "tags": []
          },
          "execution_count": 12
        }
      ]
    },
    {
      "cell_type": "code",
      "metadata": {
        "id": "p9ea5QDHOERr",
        "outputId": "e8b7ee5a-5ad8-43b3-f856-ed6895678e2c",
        "colab": {
          "base_uri": "https://localhost:8080/",
          "height": 35
        }
      },
      "source": [
        "x_train1[0].shape"
      ],
      "execution_count": null,
      "outputs": [
        {
          "output_type": "execute_result",
          "data": {
            "text/plain": [
              "(784,)"
            ]
          },
          "metadata": {
            "tags": []
          },
          "execution_count": 11
        }
      ]
    },
    {
      "cell_type": "code",
      "metadata": {
        "id": "NoE63bc8O9xw",
        "outputId": "0b4a4cce-1697-4ac3-b0c9-7e202f3a055c",
        "colab": {
          "base_uri": "https://localhost:8080/"
        }
      },
      "source": [
        "from sklearn.preprocessing import OneHotEncoder\n",
        "enc = OneHotEncoder()\n",
        "y_train1=y_train.copy()\n",
        "y_train1=y_train1.reshape((-1,1))#transformando em mx1\n",
        "enc.fit(y_train1)\n",
        "ytr1=enc.transform(y_train1).toarray()\n",
        "ytr1[:10]#Observe o encoding da amostra de classe 5 (primeira linha)\n",
        "\n",
        "y_test1=y_test.copy()\n",
        "y_test1=y_test.reshape((-1,1))#transformando em mx1\n",
        "enc.fit(y_test1)\n",
        "yts1=enc.transform(y_test1).toarray()\n",
        "ytr1[:10]#Observe o encoding da amostra de classe 5 (primeira linha)\n"
      ],
      "execution_count": 14,
      "outputs": [
        {
          "output_type": "execute_result",
          "data": {
            "text/plain": [
              "array([[0., 0., 0., 0., 0., 1., 0., 0., 0., 0.],\n",
              "       [1., 0., 0., 0., 0., 0., 0., 0., 0., 0.],\n",
              "       [0., 0., 0., 0., 1., 0., 0., 0., 0., 0.],\n",
              "       [0., 1., 0., 0., 0., 0., 0., 0., 0., 0.],\n",
              "       [0., 0., 0., 0., 0., 0., 0., 0., 0., 1.],\n",
              "       [0., 0., 1., 0., 0., 0., 0., 0., 0., 0.],\n",
              "       [0., 1., 0., 0., 0., 0., 0., 0., 0., 0.],\n",
              "       [0., 0., 0., 1., 0., 0., 0., 0., 0., 0.],\n",
              "       [0., 1., 0., 0., 0., 0., 0., 0., 0., 0.],\n",
              "       [0., 0., 0., 0., 1., 0., 0., 0., 0., 0.]])"
            ]
          },
          "metadata": {
            "tags": []
          },
          "execution_count": 14
        }
      ]
    },
    {
      "cell_type": "markdown",
      "metadata": {
        "id": "M_RmNwYsOnZl"
      },
      "source": [
        "Parte 3:\n",
        "\n",
        "a)Criando e treinando modelo\n",
        "\n",
        "b)Validando o modelo\n",
        "\n",
        "3)Observando a convergência\n",
        "\n"
      ]
    },
    {
      "cell_type": "code",
      "metadata": {
        "id": "aRu2YVIuOn0-"
      },
      "source": [
        "tf.random.set_seed(51)\n",
        "model = tf.keras.models.Sequential()\n",
        "model.add(tf.keras.layers.Dense(3000, activation='relu',input_shape=(784,),kernel_regularizer=tf.keras.regularizers.l2(0.4)))\n",
        "model.add(tf.keras.layers.Dense(500, activation='relu',kernel_regularizer=tf.keras.regularizers.l2(0.4)))\n",
        "model.add(tf.keras.layers.Dense(100, activation='relu',kernel_regularizer=tf.keras.regularizers.l2(0.4)))\n",
        "model.add(tf.keras.layers.Dense(10, activation='softmax'))"
      ],
      "execution_count": 20,
      "outputs": []
    },
    {
      "cell_type": "code",
      "metadata": {
        "id": "fRUbYHzqOsJC",
        "outputId": "6782df01-4971-4121-e65d-9d1d842c3eeb",
        "colab": {
          "base_uri": "https://localhost:8080/"
        }
      },
      "source": [
        "model.summary()"
      ],
      "execution_count": 22,
      "outputs": [
        {
          "output_type": "stream",
          "text": [
            "Model: \"sequential_2\"\n",
            "_________________________________________________________________\n",
            "Layer (type)                 Output Shape              Param #   \n",
            "=================================================================\n",
            "dense_8 (Dense)              (None, 3000)              2355000   \n",
            "_________________________________________________________________\n",
            "dense_9 (Dense)              (None, 500)               1500500   \n",
            "_________________________________________________________________\n",
            "dense_10 (Dense)             (None, 100)               50100     \n",
            "_________________________________________________________________\n",
            "dense_11 (Dense)             (None, 10)                1010      \n",
            "=================================================================\n",
            "Total params: 3,906,610\n",
            "Trainable params: 3,906,610\n",
            "Non-trainable params: 0\n",
            "_________________________________________________________________\n"
          ],
          "name": "stdout"
        }
      ]
    },
    {
      "cell_type": "code",
      "metadata": {
        "id": "UeMnAtJ1Oui1",
        "outputId": "623f3b41-9215-4a58-d50c-25a5a659ad45",
        "colab": {
          "base_uri": "https://localhost:8080/"
        }
      },
      "source": [
        "model.compile(optimizer='adam', loss='categorical_crossentropy', metrics=['accuracy'])\n",
        "hist=model.fit(x=x_train1,y=ytr1, validation_data=(x_test1, yts1),epochs=10)"
      ],
      "execution_count": 21,
      "outputs": [
        {
          "output_type": "stream",
          "text": [
            "Epoch 1/10\n",
            "1875/1875 [==============================] - 7s 4ms/step - loss: 30.9929 - accuracy: 0.8572 - val_loss: 1.2890 - val_accuracy: 0.8501\n",
            "Epoch 2/10\n",
            "1875/1875 [==============================] - 7s 3ms/step - loss: 1.0221 - accuracy: 0.8730 - val_loss: 0.9177 - val_accuracy: 0.8722\n",
            "Epoch 3/10\n",
            "1875/1875 [==============================] - 7s 3ms/step - loss: 1.0184 - accuracy: 0.8802 - val_loss: 1.0622 - val_accuracy: 0.8972\n",
            "Epoch 4/10\n",
            "1875/1875 [==============================] - 7s 3ms/step - loss: 1.1232 - accuracy: 0.8776 - val_loss: 1.1541 - val_accuracy: 0.8318\n",
            "Epoch 5/10\n",
            "1875/1875 [==============================] - 7s 3ms/step - loss: 0.9193 - accuracy: 0.8822 - val_loss: 0.8701 - val_accuracy: 0.8749\n",
            "Epoch 6/10\n",
            "1875/1875 [==============================] - 7s 3ms/step - loss: 0.8173 - accuracy: 0.8860 - val_loss: 0.8273 - val_accuracy: 0.8776\n",
            "Epoch 7/10\n",
            "1875/1875 [==============================] - 6s 3ms/step - loss: 0.8288 - accuracy: 0.8852 - val_loss: 1.0334 - val_accuracy: 0.8187\n",
            "Epoch 8/10\n",
            "1875/1875 [==============================] - 7s 3ms/step - loss: 0.7896 - accuracy: 0.8859 - val_loss: 0.7359 - val_accuracy: 0.8992\n",
            "Epoch 9/10\n",
            "1875/1875 [==============================] - 6s 3ms/step - loss: 0.7233 - accuracy: 0.8889 - val_loss: 0.6580 - val_accuracy: 0.8952\n",
            "Epoch 10/10\n",
            "1875/1875 [==============================] - 7s 3ms/step - loss: 0.6917 - accuracy: 0.8862 - val_loss: 0.6266 - val_accuracy: 0.9039\n"
          ],
          "name": "stdout"
        }
      ]
    },
    {
      "cell_type": "code",
      "metadata": {
        "id": "FBIdR4b5nMrd"
      },
      "source": [
        ""
      ],
      "execution_count": null,
      "outputs": []
    },
    {
      "cell_type": "code",
      "metadata": {
        "id": "5L1edwIVoBnx"
      },
      "source": [
        ""
      ],
      "execution_count": null,
      "outputs": []
    }
  ]
}