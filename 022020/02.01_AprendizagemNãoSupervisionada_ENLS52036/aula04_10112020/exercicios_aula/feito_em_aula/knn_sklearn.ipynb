{
  "nbformat": 4,
  "nbformat_minor": 0,
  "metadata": {
    "kernelspec": {
      "display_name": "Python 3",
      "language": "python",
      "name": "python3"
    },
    "language_info": {
      "codemirror_mode": {
        "name": "ipython",
        "version": 3
      },
      "file_extension": ".py",
      "mimetype": "text/x-python",
      "name": "python",
      "nbconvert_exporter": "python",
      "pygments_lexer": "ipython3",
      "version": "3.6.3"
    },
    "colab": {
      "name": "knn_sklearn.ipynb",
      "provenance": []
    }
  },
  "cells": [
    {
      "cell_type": "markdown",
      "metadata": {
        "id": "5kcGa6uLUW-D"
      },
      "source": [
        "# Knn na doença não separável linearmente"
      ]
    },
    {
      "cell_type": "code",
      "metadata": {
        "id": "HalVy7wYUW-J"
      },
      "source": [
        "import pandas as pd\n",
        "import numpy as np\n",
        "from sklearn.metrics import accuracy_score\n",
        "import matplotlib.pyplot as plt"
      ],
      "execution_count": 5,
      "outputs": []
    },
    {
      "cell_type": "code",
      "metadata": {
        "id": "uwaWb7DFUW-Q",
        "outputId": "3bb9f249-245c-4744-d579-c9b55a1b999e",
        "colab": {
          "base_uri": "https://localhost:8080/"
        }
      },
      "source": [
        "df=pd.read_csv('nova_doenca2.csv',sep=';')\n",
        "\n",
        "df.iloc[2,0]=2.5\n",
        "df.head(),len(df)"
      ],
      "execution_count": 26,
      "outputs": [
        {
          "output_type": "execute_result",
          "data": {
            "text/plain": [
              "(   indicador1  indicador2  diagnóstico\n",
              " 0         1.0           3            1\n",
              " 1         2.0           3            0\n",
              " 2         2.5           8            1\n",
              " 3         5.0           8            0\n",
              " 4         8.0          10            1, 10)"
            ]
          },
          "metadata": {
            "tags": []
          },
          "execution_count": 26
        }
      ]
    },
    {
      "cell_type": "code",
      "metadata": {
        "id": "s-G7AdPXUW-Z",
        "outputId": "b5380501-0a66-49bb-cd89-7aadb1275ff1",
        "colab": {
          "base_uri": "https://localhost:8080/",
          "height": 265
        }
      },
      "source": [
        "for i in range(len(df)):\n",
        "    if df['diagnóstico'].iloc[i]==1:\n",
        "        plt.plot(df.iloc[i,0],df.iloc[i,1],'ro')\n",
        "    else:plt.plot(df.iloc[i,0],df.iloc[i,1],'bo')\n",
        "    plt.text(df.iloc[i,0]+0.2,df.iloc[i,1],str(i))\n",
        "plt.show()"
      ],
      "execution_count": 27,
      "outputs": [
        {
          "output_type": "display_data",
          "data": {
            "image/png": "[encoded data removed]",
            "text/plain": [
              "<Figure size 432x288 with 1 Axes>"
            ]
          },
          "metadata": {
            "tags": [],
            "needs_background": "light"
          }
        }
      ]
    },
    {
      "cell_type": "markdown",
      "metadata": {
        "id": "aIPJrd9RUW-d"
      },
      "source": [
        "Obter a acurácia com regressão logística e sklearn"
      ]
    },
    {
      "cell_type": "code",
      "metadata": {
        "id": "zT-iB_45qPPw",
        "outputId": "d1c7f963-33c7-4d9d-e499-78f9eb0b4525",
        "colab": {
          "base_uri": "https://localhost:8080/"
        }
      },
      "source": [
        "from sklearn.linear_model import LogisticRegression\n",
        "rl=LogisticRegression()\n",
        "X=np.array(df)[:,:-1]\n",
        "y=np.array(df['diagnóstico'])\n",
        "X,y\n",
        "rl.fit(X,y)\n",
        "ye=rl.predict(X)\n",
        "accuracy_score(y,ye)"
      ],
      "execution_count": 28,
      "outputs": [
        {
          "output_type": "execute_result",
          "data": {
            "text/plain": [
              "0.5"
            ]
          },
          "metadata": {
            "tags": []
          },
          "execution_count": 28
        }
      ]
    },
    {
      "cell_type": "markdown",
      "metadata": {
        "id": "H5pMgGmqUW-f"
      },
      "source": [
        "Crie a função dist, com a distância Euclidiana entre dois vetores"
      ]
    },
    {
      "cell_type": "code",
      "metadata": {
        "id": "8oSVy0EfUW-g"
      },
      "source": [
        "def dist(v1,v2):\n",
        "    \n",
        "    return np.linalg.norm(v2-v1)\n",
        "\n"
      ],
      "execution_count": 10,
      "outputs": []
    },
    {
      "cell_type": "markdown",
      "metadata": {
        "id": "nQUM4ZvoUW-k"
      },
      "source": [
        "Teste a função dist com os vetores (1,1) e (2,2)...o resultado deve ser 1.414.."
      ]
    },
    {
      "cell_type": "code",
      "metadata": {
        "id": "GrsR28RdUW-l",
        "outputId": "14f3a1f7-c2b6-46fe-dd41-a6321bf10190",
        "colab": {
          "base_uri": "https://localhost:8080/"
        }
      },
      "source": [
        "dist(np.array([1,1]),np.array([2,2]))"
      ],
      "execution_count": null,
      "outputs": [
        {
          "output_type": "execute_result",
          "data": {
            "text/plain": [
              "1.4142135623730951"
            ]
          },
          "metadata": {
            "tags": []
          },
          "execution_count": 11
        }
      ]
    },
    {
      "cell_type": "markdown",
      "metadata": {
        "id": "mV9sAnzlUW-4"
      },
      "source": [
        "Crie uma função v_dist que retornará um array (ordenado pela distância do vetor v a cada linha de X) com tuplas t, sendo t[0]:distância, t[1] a linha de X e t[2] o y correspondente à linha"
      ]
    },
    {
      "cell_type": "code",
      "metadata": {
        "id": "cdFoiUm5UW-6"
      },
      "source": [
        "def v_dist(v,X,y):\n",
        "    vd=[]\n",
        "    for i in range(len(X)):\n",
        "      vd.append((i,np.linalg.norm(v-X[i]),y[i]))\n",
        "    vd.sort(key=lambda x:x[1])\n",
        "    \n",
        "    return np.array(vd)"
      ],
      "execution_count": 11,
      "outputs": []
    },
    {
      "cell_type": "code",
      "metadata": {
        "id": "KmWXEJAGr3J1",
        "outputId": "3532256b-869a-4f6e-ffd4-9c176d5ed6a4",
        "colab": {
          "base_uri": "https://localhost:8080/"
        }
      },
      "source": [
        "v_dist(np.array([7,3]),X,y)"
      ],
      "execution_count": 12,
      "outputs": [
        {
          "output_type": "execute_result",
          "data": {
            "text/plain": [
              "array([[7.        , 1.        , 1.        ],\n",
              "       [6.        , 1.41421356, 0.        ],\n",
              "       [8.        , 1.41421356, 1.        ],\n",
              "       [5.        , 4.47213595, 0.        ],\n",
              "       [9.        , 4.47213595, 0.        ],\n",
              "       [1.        , 5.        , 0.        ],\n",
              "       [3.        , 5.38516481, 0.        ],\n",
              "       [0.        , 6.        , 1.        ],\n",
              "       [2.        , 7.07106781, 1.        ],\n",
              "       [4.        , 7.07106781, 1.        ]])"
            ]
          },
          "metadata": {
            "tags": []
          },
          "execution_count": 12
        }
      ]
    },
    {
      "cell_type": "markdown",
      "metadata": {
        "id": "nqLvGq8sUW--"
      },
      "source": [
        "Crie uma função de predição, que recebe v,X e y e retorna a classe prevista, suponha k=5"
      ]
    },
    {
      "cell_type": "code",
      "metadata": {
        "id": "TuC9LwuVUW_A"
      },
      "source": [
        "def predict(v,X,y):\n",
        "  d=v_dist(v,X,y)\n",
        "  soma=0\n",
        "  for i in range(5):\n",
        "    soma+=d[i,2]\n",
        "  if soma>2:return 1\n",
        "  else:return 0\n",
        "\n",
        "  \n",
        "    \n",
        "\n"
      ],
      "execution_count": 13,
      "outputs": []
    },
    {
      "cell_type": "code",
      "metadata": {
        "id": "4IcV6kH6s9LM",
        "outputId": "e4535fd6-b165-4809-d5ac-7414b634b4b9",
        "colab": {
          "base_uri": "https://localhost:8080/"
        }
      },
      "source": [
        "predict(np.array([7,3]),X,y)"
      ],
      "execution_count": 14,
      "outputs": [
        {
          "output_type": "execute_result",
          "data": {
            "text/plain": [
              "0"
            ]
          },
          "metadata": {
            "tags": []
          },
          "execution_count": 14
        }
      ]
    },
    {
      "cell_type": "markdown",
      "metadata": {
        "id": "kn1xt_-sUW_I"
      },
      "source": [
        "Calcular a acurácia na amostra toda"
      ]
    },
    {
      "cell_type": "code",
      "metadata": {
        "id": "yY2PQHpZUW_L",
        "outputId": "135b5f79-e5d5-4d70-ce06-37a38281b779",
        "colab": {
          "base_uri": "https://localhost:8080/"
        }
      },
      "source": [
        "ye=[]\n",
        "for i in range(len(X)):\n",
        "    ye.append(predict(X[i],X,y))\n",
        "yem=np.array(ye)   \n",
        "accuracy_score(yem,y)"
      ],
      "execution_count": 29,
      "outputs": [
        {
          "output_type": "execute_result",
          "data": {
            "text/plain": [
              "0.5"
            ]
          },
          "metadata": {
            "tags": []
          },
          "execution_count": 29
        }
      ]
    },
    {
      "cell_type": "code",
      "metadata": {
        "id": "xzxQIClhudbo",
        "outputId": "193164d9-a3fd-46b8-fcd5-0968d09ac4bc",
        "colab": {
          "base_uri": "https://localhost:8080/"
        }
      },
      "source": [
        "from sklearn.neighbors import KNeighborsClassifier\n",
        "neigh = KNeighborsClassifier(n_neighbors=5)\n",
        "neigh.fit(X, y)\n",
        "ye=neigh.predict(X)\n",
        "accuracy_score(y,ye)"
      ],
      "execution_count": 30,
      "outputs": [
        {
          "output_type": "execute_result",
          "data": {
            "text/plain": [
              "0.5"
            ]
          },
          "metadata": {
            "tags": []
          },
          "execution_count": 30
        }
      ]
    },
    {
      "cell_type": "code",
      "metadata": {
        "id": "_VwhW9Deu_k4",
        "outputId": "f3a57f91-740e-4c0f-d6b9-fcd0b2223622",
        "colab": {
          "base_uri": "https://localhost:8080/"
        }
      },
      "source": [
        "neigh.kneighbors()"
      ],
      "execution_count": 18,
      "outputs": [
        {
          "output_type": "execute_result",
          "data": {
            "text/plain": [
              "(array([[1.        , 2.82842712, 5.        , 5.09901951, 5.09901951],\n",
              "        [1.        , 2.23606798, 4.        , 4.12310563, 5.        ],\n",
              "        [3.        , 5.        , 5.09901951, 5.65685425, 6.32455532],\n",
              "        [3.        , 3.60555128, 4.12310563, 4.12310563, 5.09901951],\n",
              "        [3.16227766, 3.60555128, 6.32455532, 6.32455532, 7.28010989],\n",
              "        [2.23606798, 2.82842712, 3.60555128, 4.24264069, 5.09901951],\n",
              "        [1.        , 2.82842712, 4.12310563, 4.12310563, 4.24264069],\n",
              "        [1.        , 2.23606798, 3.60555128, 4.        , 5.        ],\n",
              "        [2.23606798, 2.82842712, 5.09901951, 5.09901951, 6.08276253],\n",
              "        [3.16227766, 4.12310563, 4.24264069, 5.        , 5.09901951]]),\n",
              " array([[1, 5, 7, 6, 2],\n",
              "        [0, 5, 7, 6, 2],\n",
              "        [3, 1, 0, 6, 4],\n",
              "        [2, 4, 6, 9, 7],\n",
              "        [9, 3, 6, 2, 7],\n",
              "        [1, 0, 7, 6, 8],\n",
              "        [7, 8, 1, 3, 9],\n",
              "        [6, 8, 5, 1, 9],\n",
              "        [7, 6, 5, 9, 1],\n",
              "        [4, 3, 6, 7, 8]]))"
            ]
          },
          "metadata": {
            "tags": []
          },
          "execution_count": 18
        }
      ]
    },
    {
      "cell_type": "code",
      "metadata": {
        "id": "lNjfFfh-vWAl",
        "outputId": "12ecc889-c001-4be2-96f0-af6778ab2a87",
        "colab": {
          "base_uri": "https://localhost:8080/"
        }
      },
      "source": [
        "for i in range(len(X)):\n",
        "  print(v_dist(X[i],X,y))"
      ],
      "execution_count": 19,
      "outputs": [
        {
          "output_type": "stream",
          "text": [
            "[[0.         0.         1.        ]\n",
            " [1.         1.         0.        ]\n",
            " [5.         2.82842712 0.        ]\n",
            " [7.         5.         1.        ]\n",
            " [2.         5.09901951 1.        ]\n",
            " [6.         5.09901951 0.        ]\n",
            " [3.         6.40312424 0.        ]\n",
            " [8.         7.07106781 1.        ]\n",
            " [9.         8.94427191 0.        ]\n",
            " [4.         9.89949494 1.        ]]\n",
            "[[1.         0.         0.        ]\n",
            " [0.         1.         1.        ]\n",
            " [5.         2.23606798 0.        ]\n",
            " [7.         4.         1.        ]\n",
            " [6.         4.12310563 0.        ]\n",
            " [2.         5.         1.        ]\n",
            " [3.         5.83095189 0.        ]\n",
            " [8.         6.08276253 1.        ]\n",
            " [9.         8.06225775 0.        ]\n",
            " [4.         9.21954446 1.        ]]\n",
            "[[2.         0.         1.        ]\n",
            " [3.         3.         0.        ]\n",
            " [1.         5.         0.        ]\n",
            " [0.         5.09901951 1.        ]\n",
            " [6.         5.65685425 0.        ]\n",
            " [4.         6.32455532 1.        ]\n",
            " [7.         6.40312424 1.        ]\n",
            " [5.         7.07106781 0.        ]\n",
            " [9.         7.07106781 0.        ]\n",
            " [8.         8.48528137 1.        ]]\n",
            "[[3.         0.         0.        ]\n",
            " [2.         3.         1.        ]\n",
            " [4.         3.60555128 1.        ]\n",
            " [6.         4.12310563 0.        ]\n",
            " [9.         4.12310563 0.        ]\n",
            " [7.         5.09901951 1.        ]\n",
            " [1.         5.83095189 0.        ]\n",
            " [0.         6.40312424 1.        ]\n",
            " [8.         6.70820393 1.        ]\n",
            " [5.         7.28010989 0.        ]]\n",
            "[[ 4.          0.          1.        ]\n",
            " [ 9.          3.16227766  0.        ]\n",
            " [ 3.          3.60555128  0.        ]\n",
            " [ 2.          6.32455532  1.        ]\n",
            " [ 6.          6.32455532  0.        ]\n",
            " [ 7.          7.28010989  1.        ]\n",
            " [ 8.          8.          1.        ]\n",
            " [ 1.          9.21954446  0.        ]\n",
            " [ 0.          9.89949494  1.        ]\n",
            " [ 5.         10.29563014  0.        ]]\n",
            "[[ 5.          0.          0.        ]\n",
            " [ 1.          2.23606798  0.        ]\n",
            " [ 0.          2.82842712  1.        ]\n",
            " [ 7.          3.60555128  1.        ]\n",
            " [ 6.          4.24264069  0.        ]\n",
            " [ 8.          5.09901951  1.        ]\n",
            " [ 2.          7.07106781  1.        ]\n",
            " [ 3.          7.28010989  0.        ]\n",
            " [ 9.          8.48528137  0.        ]\n",
            " [ 4.         10.29563014  1.        ]]\n",
            "[[6.         0.         0.        ]\n",
            " [7.         1.         1.        ]\n",
            " [8.         2.82842712 1.        ]\n",
            " [1.         4.12310563 0.        ]\n",
            " [3.         4.12310563 0.        ]\n",
            " [5.         4.24264069 0.        ]\n",
            " [9.         4.24264069 0.        ]\n",
            " [0.         5.09901951 1.        ]\n",
            " [2.         5.65685425 1.        ]\n",
            " [4.         6.32455532 1.        ]]\n",
            "[[7.         0.         1.        ]\n",
            " [6.         1.         0.        ]\n",
            " [8.         2.23606798 1.        ]\n",
            " [5.         3.60555128 0.        ]\n",
            " [1.         4.         0.        ]\n",
            " [0.         5.         1.        ]\n",
            " [9.         5.         0.        ]\n",
            " [3.         5.09901951 0.        ]\n",
            " [2.         6.40312424 1.        ]\n",
            " [4.         7.28010989 1.        ]]\n",
            "[[8.         0.         1.        ]\n",
            " [7.         2.23606798 1.        ]\n",
            " [6.         2.82842712 0.        ]\n",
            " [5.         5.09901951 0.        ]\n",
            " [9.         5.09901951 0.        ]\n",
            " [1.         6.08276253 0.        ]\n",
            " [3.         6.70820393 0.        ]\n",
            " [0.         7.07106781 1.        ]\n",
            " [4.         8.         1.        ]\n",
            " [2.         8.48528137 1.        ]]\n",
            "[[9.         0.         0.        ]\n",
            " [4.         3.16227766 1.        ]\n",
            " [3.         4.12310563 0.        ]\n",
            " [6.         4.24264069 0.        ]\n",
            " [7.         5.         1.        ]\n",
            " [8.         5.09901951 1.        ]\n",
            " [2.         7.07106781 1.        ]\n",
            " [1.         8.06225775 0.        ]\n",
            " [5.         8.48528137 0.        ]\n",
            " [0.         8.94427191 1.        ]]\n"
          ],
          "name": "stdout"
        }
      ]
    },
    {
      "cell_type": "code",
      "metadata": {
        "id": "OcMj9tEKvz-S",
        "outputId": "98fd8bc0-a950-40a3-8f10-a78de932b54e",
        "colab": {
          "base_uri": "https://localhost:8080/"
        }
      },
      "source": [
        "yem"
      ],
      "execution_count": 31,
      "outputs": [
        {
          "output_type": "execute_result",
          "data": {
            "text/plain": [
              "array([0, 0, 0, 0, 0, 0, 0, 0, 0, 0])"
            ]
          },
          "metadata": {
            "tags": []
          },
          "execution_count": 31
        }
      ]
    },
    {
      "cell_type": "code",
      "metadata": {
        "id": "yaOVxWl6v_xi",
        "outputId": "d4a2795b-6af6-47fb-cd3b-64a0708b1f3b",
        "colab": {
          "base_uri": "https://localhost:8080/"
        }
      },
      "source": [
        "ye"
      ],
      "execution_count": 32,
      "outputs": [
        {
          "output_type": "execute_result",
          "data": {
            "text/plain": [
              "array([0, 0, 0, 0, 0, 0, 0, 0, 0, 0])"
            ]
          },
          "metadata": {
            "tags": []
          },
          "execution_count": 32
        }
      ]
    }
  ]
}