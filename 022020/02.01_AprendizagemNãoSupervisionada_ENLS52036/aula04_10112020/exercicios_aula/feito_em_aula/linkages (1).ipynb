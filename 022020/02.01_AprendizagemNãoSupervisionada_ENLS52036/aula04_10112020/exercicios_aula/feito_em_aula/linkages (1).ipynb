{
  "nbformat": 4,
  "nbformat_minor": 0,
  "metadata": {
    "colab": {
      "name": "linkages.ipynb",
      "provenance": []
    },
    "kernelspec": {
      "display_name": "Python 3",
      "language": "python",
      "name": "python3"
    },
    "language_info": {
      "codemirror_mode": {
        "name": "ipython",
        "version": 3
      },
      "file_extension": ".py",
      "mimetype": "text/x-python",
      "name": "python",
      "nbconvert_exporter": "python",
      "pygments_lexer": "ipython3",
      "version": "3.7.6"
    }
  },
  "cells": [
    {
      "cell_type": "markdown",
      "metadata": {
        "id": "hJjIducE1x8g"
      },
      "source": [
        "Criação de Dendograma - Cluster Hierárquico"
      ]
    },
    {
      "cell_type": "code",
      "metadata": {
        "id": "rtHenkgVdsqu",
        "outputId": "6d5ee591-ebc9-4422-e9e9-cdf5bb016941",
        "colab": {
          "base_uri": "https://localhost:8080/",
          "height": 799
        }
      },
      "source": [
        "from matplotlib import pyplot as plt\n",
        "from scipy.cluster.hierarchy import dendrogram,linkage\n",
        "import numpy as np\n",
        "X = np.array([[1, 1], [2, 2], [5, 5],\n",
        "              [5, 6], [0, 4], [0, 5],[3.5,3]])\n",
        "\n",
        "\n",
        "\n",
        "for i in range(len(X)):\n",
        "  plt.plot(X[i,0],X[i,1],'bo',)\n",
        "  plt.text(X[i,0]+.05, X[i,1]+.05, str(i), fontsize=9)\n",
        "plt.show()\n",
        "\n",
        "\n",
        "Z = linkage(X, 'single')\n",
        "plt.title('Single Linkage')\n",
        "d=dendrogram(Z)\n",
        "plt.show()\n",
        "\n",
        "Z = linkage(X, 'complete')\n",
        "plt.title('Complete Linkage')\n",
        "d=dendrogram(Z)\n",
        "plt.show()\n"
      ],
      "execution_count": null,
      "outputs": [
        {
          "output_type": "display_data",
          "data": {
            "image/png": "[encoded data removed]",
            "text/plain": [
              "<Figure size 432x288 with 1 Axes>"
            ]
          },
          "metadata": {
            "tags": [],
            "needs_background": "light"
          }
        },
        {
          "output_type": "display_data",
          "data": {
            "image/png": "[encoded data removed]",
            "text/plain": [
              "<Figure size 432x288 with 1 Axes>"
            ]
          },
          "metadata": {
            "tags": [],
            "needs_background": "light"
          }
        },
        {
          "output_type": "display_data",
          "data": {
            "image/png": "[encoded data removed]",
            "text/plain": [
              "<Figure size 432x288 with 1 Axes>"
            ]
          },
          "metadata": {
            "tags": [],
            "needs_background": "light"
          }
        }
      ]
    },
    {
      "cell_type": "code",
      "metadata": {
        "id": "xef_GgR3NA0A"
      },
      "source": [
        "def d(v1,v2):\n",
        "    return np.linalg.norm(v2-v1)"
      ],
      "execution_count": null,
      "outputs": []
    },
    {
      "cell_type": "code",
      "metadata": {
        "id": "cSo2_eXWNA0F"
      },
      "source": [
        "dist=np.zeros((7,7))\n",
        "for i in range(7):\n",
        "    for j in range(7):\n",
        "        if j>i:dist[i,j]=d(X[i],X[j])\n",
        "        else:\n",
        "            if j<i: dist[i,j]=dist[j,i] "
      ],
      "execution_count": null,
      "outputs": []
    },
    {
      "cell_type": "code",
      "metadata": {
        "id": "nN7igUUfNA0K"
      },
      "source": [
        "def dist_min_max(l1,l2):\n",
        "    dists=[]\n",
        "    for i in l1:\n",
        "        for j in l2:\n",
        "            dists.append((i,j,dist[i,j]))\n",
        "    dists.sort(key=lambda x:x[2])\n",
        "    return((dists[0][2],dists[-1][2]))\n"
      ],
      "execution_count": null,
      "outputs": []
    },
    {
      "cell_type": "code",
      "metadata": {
        "collapsed": true,
        "id": "L5LGxZUnNA0R",
        "outputId": "feac70ae-e428-4e8d-dbf9-c99e39a8a788"
      },
      "source": [
        "#mostre com a função dist_min_max que no critério linkage single 1,0,6 se une a 2,3 e no complete 1,0,6 se une a 4,5"
      ],
      "execution_count": null,
      "outputs": [
        {
          "output_type": "stream",
          "text": [
            "(2.5, 6.4031242374328485)\n",
            "(2.8284271247461903, 4.123105625617661)\n"
          ],
          "name": "stdout"
        }
      ]
    },
    {
      "cell_type": "code",
      "metadata": {
        "collapsed": true,
        "id": "Kq4FdsbANA0X",
        "outputId": "1f521db5-e9b1-48d4-cacf-303ea1179023",
        "colab": {
          "base_uri": "https://localhost:8080/"
        }
      },
      "source": [
        "dist_min_max([1,0,6],[2,3])"
      ],
      "execution_count": null,
      "outputs": [
        {
          "output_type": "execute_result",
          "data": {
            "text/plain": [
              "(2.5, 6.4031242374328485)"
            ]
          },
          "metadata": {
            "tags": []
          },
          "execution_count": 5
        }
      ]
    },
    {
      "cell_type": "code",
      "metadata": {
        "id": "mPlQ52pENA0c",
        "outputId": "40467fb9-0648-4c62-c80b-23f5d5a445fb",
        "colab": {
          "base_uri": "https://localhost:8080/"
        }
      },
      "source": [
        "dist_min_max([1,0,6],[4,5])"
      ],
      "execution_count": null,
      "outputs": [
        {
          "output_type": "execute_result",
          "data": {
            "text/plain": [
              "(2.8284271247461903, 4.123105625617661)"
            ]
          },
          "metadata": {
            "tags": []
          },
          "execution_count": 6
        }
      ]
    }
  ]
}