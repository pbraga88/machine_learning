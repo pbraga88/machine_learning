{
 "cells": [
  {
   "cell_type": "markdown",
   "metadata": {
    "colab_type": "text",
    "id": "5kcGa6uLUW-D"
   },
   "source": [
    "# Knn na doença não separável linearmente"
   ]
  },
  {
   "cell_type": "code",
   "execution_count": 1,
   "metadata": {
    "colab": {},
    "colab_type": "code",
    "id": "HalVy7wYUW-J"
   },
   "outputs": [],
   "source": [
    "import pandas as pd\n",
    "import numpy as np\n",
    "from sklearn.metrics import accuracy_score\n",
    "import matplotlib.pyplot as plt"
   ]
  },
  {
   "cell_type": "code",
   "execution_count": 11,
   "metadata": {
    "colab": {
     "base_uri": "https://localhost:8080/",
     "height": 198
    },
    "colab_type": "code",
    "id": "uwaWb7DFUW-Q",
    "outputId": "63a07ae6-077b-499b-feea-d9e9eab493e0"
   },
   "outputs": [
    {
     "data": {
      "text/html": [
       "<div>\n",
       "<style scoped>\n",
       "    .dataframe tbody tr th:only-of-type {\n",
       "        vertical-align: middle;\n",
       "    }\n",
       "\n",
       "    .dataframe tbody tr th {\n",
       "        vertical-align: top;\n",
       "    }\n",
       "\n",
       "    .dataframe thead th {\n",
       "        text-align: right;\n",
       "    }\n",
       "</style>\n",
       "<table border=\"1\" class=\"dataframe\">\n",
       "  <thead>\n",
       "    <tr style=\"text-align: right;\">\n",
       "      <th></th>\n",
       "      <th>indicador1</th>\n",
       "      <th>indicador2</th>\n",
       "      <th>diagnóstico</th>\n",
       "    </tr>\n",
       "  </thead>\n",
       "  <tbody>\n",
       "    <tr>\n",
       "      <th>0</th>\n",
       "      <td>1</td>\n",
       "      <td>3</td>\n",
       "      <td>1</td>\n",
       "    </tr>\n",
       "    <tr>\n",
       "      <th>1</th>\n",
       "      <td>2</td>\n",
       "      <td>3</td>\n",
       "      <td>0</td>\n",
       "    </tr>\n",
       "    <tr>\n",
       "      <th>2</th>\n",
       "      <td>2</td>\n",
       "      <td>8</td>\n",
       "      <td>1</td>\n",
       "    </tr>\n",
       "    <tr>\n",
       "      <th>3</th>\n",
       "      <td>5</td>\n",
       "      <td>8</td>\n",
       "      <td>0</td>\n",
       "    </tr>\n",
       "    <tr>\n",
       "      <th>4</th>\n",
       "      <td>8</td>\n",
       "      <td>10</td>\n",
       "      <td>1</td>\n",
       "    </tr>\n",
       "    <tr>\n",
       "      <th>5</th>\n",
       "      <td>3</td>\n",
       "      <td>1</td>\n",
       "      <td>0</td>\n",
       "    </tr>\n",
       "    <tr>\n",
       "      <th>6</th>\n",
       "      <td>6</td>\n",
       "      <td>4</td>\n",
       "      <td>0</td>\n",
       "    </tr>\n",
       "    <tr>\n",
       "      <th>7</th>\n",
       "      <td>6</td>\n",
       "      <td>3</td>\n",
       "      <td>1</td>\n",
       "    </tr>\n",
       "    <tr>\n",
       "      <th>8</th>\n",
       "      <td>8</td>\n",
       "      <td>2</td>\n",
       "      <td>1</td>\n",
       "    </tr>\n",
       "    <tr>\n",
       "      <th>9</th>\n",
       "      <td>9</td>\n",
       "      <td>7</td>\n",
       "      <td>0</td>\n",
       "    </tr>\n",
       "  </tbody>\n",
       "</table>\n",
       "</div>"
      ],
      "text/plain": [
       "   indicador1  indicador2  diagnóstico\n",
       "0           1           3            1\n",
       "1           2           3            0\n",
       "2           2           8            1\n",
       "3           5           8            0\n",
       "4           8          10            1\n",
       "5           3           1            0\n",
       "6           6           4            0\n",
       "7           6           3            1\n",
       "8           8           2            1\n",
       "9           9           7            0"
      ]
     },
     "execution_count": 11,
     "metadata": {},
     "output_type": "execute_result"
    }
   ],
   "source": [
    "df=pd.read_csv('nova_doenca2.csv',sep=';')\n",
    "df"
   ]
  },
  {
   "cell_type": "code",
   "execution_count": 41,
   "metadata": {
    "colab": {
     "base_uri": "https://localhost:8080/",
     "height": 265
    },
    "colab_type": "code",
    "id": "s-G7AdPXUW-Z",
    "outputId": "cf9e110d-6337-494c-b575-e47265088358"
   },
   "outputs": [
    {
     "data": {
      "image/png": "[encoded data removed]",
      "text/plain": [
       "<Figure size 432x288 with 1 Axes>"
      ]
     },
     "metadata": {
      "needs_background": "light"
     },
     "output_type": "display_data"
    }
   ],
   "source": [
    "for i in range(len(df)):\n",
    "    if df['diagnóstico'].iloc[i]==1:\n",
    "        plt.plot(df.iloc[i,0],df.iloc[i,1],'ro')\n",
    "    else:\n",
    "        plt.plot(df.iloc[i,0],df.iloc[i,1],'bo')\n",
    "    plt.text(df.iloc[i,0]+0.2,df.iloc[i,1], str(i))\n",
    "plt.show()"
   ]
  },
  {
   "cell_type": "markdown",
   "metadata": {
    "colab_type": "text",
    "id": "aIPJrd9RUW-d"
   },
   "source": [
    "Obter a acurácia com regressão logística e sklearn"
   ]
  },
  {
   "cell_type": "code",
   "execution_count": 19,
   "metadata": {},
   "outputs": [
    {
     "data": {
      "text/plain": [
       "0.5"
      ]
     },
     "execution_count": 19,
     "metadata": {},
     "output_type": "execute_result"
    }
   ],
   "source": [
    "from sklearn.linear_model import LogisticRegression\n",
    "rl=LogisticRegression()\n",
    "# X=np.array(df)[:,:2]\n",
    "X=np.array(df)[:,:-1] # Todas as linhas e coluna da 0 até a penúltima (-1)\n",
    "y = np.array(df['diagnóstico'])\n",
    "X,y\n",
    "\n",
    "rl.fit(X,y) # 'Fita' o modelo\n",
    "ye=rl.predict(X) # ye = y estimado\n",
    "accuracy_score(y, ye) # Verifica o erro da classificação - y = y_true; ye = y_predicted"
   ]
  },
  {
   "cell_type": "markdown",
   "metadata": {
    "colab_type": "text",
    "id": "H5pMgGmqUW-f"
   },
   "source": [
    "Crie a função dist, com a distância Euclidiana entre dois vetores"
   ]
  },
  {
   "cell_type": "code",
   "execution_count": 26,
   "metadata": {
    "colab": {},
    "colab_type": "code",
    "id": "8oSVy0EfUW-g"
   },
   "outputs": [],
   "source": [
    "def dist(v1,v2):\n",
    "    return np.linalg.norm(v2-v1)\n",
    "\n"
   ]
  },
  {
   "cell_type": "markdown",
   "metadata": {
    "colab_type": "text",
    "id": "nQUM4ZvoUW-k"
   },
   "source": [
    "Teste a função dist com os vetores (1,1) e (2,2)...o resultado deve ser 1.414.."
   ]
  },
  {
   "cell_type": "code",
   "execution_count": 27,
   "metadata": {
    "colab": {
     "base_uri": "https://localhost:8080/",
     "height": 35
    },
    "colab_type": "code",
    "id": "GrsR28RdUW-l",
    "outputId": "4c051d56-2fa2-4208-b835-4cbe1c6d2a94"
   },
   "outputs": [
    {
     "data": {
      "text/plain": [
       "1.4142135623730951"
      ]
     },
     "execution_count": 27,
     "metadata": {},
     "output_type": "execute_result"
    }
   ],
   "source": [
    "dist(np.array([1,1]), np.array([2,2]))"
   ]
  },
  {
   "cell_type": "markdown",
   "metadata": {
    "colab_type": "text",
    "id": "mV9sAnzlUW-4"
   },
   "source": [
    "Crie uma função v_dist que retornará um array (ordenado pela distância do vetor v a cada linha de X) com tuplas t, sendo t[0]:distância, t[1] a linha de X e t[2] o y correspondente à linha"
   ]
  },
  {
   "cell_type": "code",
   "execution_count": 36,
   "metadata": {
    "colab": {},
    "colab_type": "code",
    "id": "cdFoiUm5UW-6"
   },
   "outputs": [],
   "source": [
    "def v_dist(v,X,y):\n",
    "    vd=[]\n",
    "    for i in range(len(X)):\n",
    "        vd.append((i, np.linalg.norm(v-X[i]), y[i])) # Adiciona à lista vd o índice i, a norma euclidiana e \n",
    "                                                     # qual o y daquele ponto, repectivamente\n",
    "    vd.sort(key=lambda x:x[1]) # Reorganiza (sort) à partir do segundo elemento da lista (distância do ponto \n",
    "                               # v para o ponto X)\n",
    "    \n",
    "    return np.array(vd)"
   ]
  },
  {
   "cell_type": "code",
   "execution_count": 40,
   "metadata": {},
   "outputs": [
    {
     "data": {
      "text/plain": [
       "array([[8.        , 1.        , 1.        ],\n",
       "       [7.        , 1.41421356, 1.        ],\n",
       "       [6.        , 2.23606798, 0.        ],\n",
       "       [5.        , 4.12310563, 0.        ],\n",
       "       [1.        , 5.09901951, 0.        ],\n",
       "       [9.        , 5.38516481, 0.        ],\n",
       "       [0.        , 6.08276253, 1.        ],\n",
       "       [3.        , 6.32455532, 0.        ],\n",
       "       [2.        , 7.81024968, 1.        ],\n",
       "       [4.        , 8.06225775, 1.        ]])"
      ]
     },
     "execution_count": 40,
     "metadata": {},
     "output_type": "execute_result"
    }
   ],
   "source": [
    "v_dist(np.array([7,2]), X, y)"
   ]
  },
  {
   "cell_type": "markdown",
   "metadata": {
    "colab_type": "text",
    "id": "nqLvGq8sUW--"
   },
   "source": [
    "Crie uma função de predição, que recebe v,X e y e retorna a classe prevista, suponha k=5"
   ]
  },
  {
   "cell_type": "code",
   "execution_count": 63,
   "metadata": {
    "colab": {},
    "colab_type": "code",
    "id": "TuC9LwuVUW_A"
   },
   "outputs": [],
   "source": [
    "# O k = 5 significa que serão levados em consideração os 5 pontos mais próximos do ponto à ser previsto\n",
    "def predict(v,X,y):\n",
    "    d=v_dist(v,X,y)\n",
    "    soma=0\n",
    "    for i in range(5): # k = 5 <-> range(5)\n",
    "        soma+=d[i,2] # soma o terceiro elemento (classe) da lista d\n",
    "    \n",
    "    if soma>2:return 1 # Se a soma for maior que 2, significa que existem pelo 3 pontos da classe 1 próximo ao\n",
    "                       # ponto v\n",
    "    else:return 0 # Se for menor que, significa que os pontos da classe 0 são maioria ao redor do ponto v\n",
    "    #coloque seu código aqui..supondo knn com k=5\n",
    "    \n",
    "\n"
   ]
  },
  {
   "cell_type": "code",
   "execution_count": 64,
   "metadata": {},
   "outputs": [
    {
     "data": {
      "text/plain": [
       "0"
      ]
     },
     "execution_count": 64,
     "metadata": {},
     "output_type": "execute_result"
    }
   ],
   "source": [
    "predict([7,3], X, y)"
   ]
  },
  {
   "cell_type": "markdown",
   "metadata": {
    "colab_type": "text",
    "id": "kn1xt_-sUW_I"
   },
   "source": [
    "Calcular a acurácia na amostra toda"
   ]
  },
  {
   "cell_type": "code",
   "execution_count": 66,
   "metadata": {
    "colab": {
     "base_uri": "https://localhost:8080/",
     "height": 35
    },
    "colab_type": "code",
    "id": "yY2PQHpZUW_L",
    "outputId": "e5f1bcb2-2524-41ef-e402-8b0c1f08146d"
   },
   "outputs": [
    {
     "data": {
      "text/plain": [
       "0.6"
      ]
     },
     "execution_count": 66,
     "metadata": {},
     "output_type": "execute_result"
    }
   ],
   "source": [
    "ye=[]\n",
    "for i in range(len(X)):\n",
    "    ye.append(predict(X[i],X,y))\n",
    "ye=np.array(ye)   \n",
    "accuracy_score(y,ye)"
   ]
  },
  {
   "cell_type": "code",
   "execution_count": null,
   "metadata": {},
   "outputs": [],
   "source": []
  }
 ],
 "metadata": {
  "colab": {
   "name": "knn_raiz.ipynb",
   "provenance": []
  },
  "kernelspec": {
   "display_name": "Python 3",
   "language": "python",
   "name": "python3"
  },
  "language_info": {
   "codemirror_mode": {
    "name": "ipython",
    "version": 3
   },
   "file_extension": ".py",
   "mimetype": "text/x-python",
   "name": "python",
   "nbconvert_exporter": "python",
   "pygments_lexer": "ipython3",
   "version": "3.6.9"
  }
 },
 "nbformat": 4,
 "nbformat_minor": 1
}
