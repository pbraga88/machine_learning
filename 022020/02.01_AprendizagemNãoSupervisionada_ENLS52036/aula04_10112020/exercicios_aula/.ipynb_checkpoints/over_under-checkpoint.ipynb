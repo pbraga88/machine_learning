{
 "cells": [
  {
   "cell_type": "code",
   "execution_count": 1,
   "metadata": {
    "colab": {},
    "colab_type": "code",
    "id": "kffE05sLatHE"
   },
   "outputs": [],
   "source": [
    "import pandas as pd\n",
    "from sklearn.linear_model import LinearRegression\n",
    "import matplotlib.pyplot as plt\n",
    "from sklearn.preprocessing import StandardScaler\n",
    "import numpy as np\n",
    "\n"
   ]
  },
  {
   "cell_type": "code",
   "execution_count": 2,
   "metadata": {
    "colab": {
     "base_uri": "https://localhost:8080/",
     "height": 126
    },
    "colab_type": "code",
    "id": "Ok1vMCqvbJDF",
    "outputId": "6f7e31b5-f718-4a1c-9b41-d351153e1e52"
   },
   "outputs": [
    {
     "data": {
      "text/plain": [
       "(     x      y\n",
       " 0  0.0 -2.000\n",
       " 1  0.1 -3.997\n",
       " 2  0.2 -6.988\n",
       " 3  0.3 -4.973\n",
       " 4  0.4 -4.952,\n",
       " 100)"
      ]
     },
     "execution_count": 2,
     "metadata": {},
     "output_type": "execute_result"
    }
   ],
   "source": [
    "df=pd.read_csv('quad_100.csv',delimiter=';',names=['x','y'])\n",
    "df.head(),len(df)"
   ]
  },
  {
   "cell_type": "code",
   "execution_count": 3,
   "metadata": {
    "colab": {
     "base_uri": "https://localhost:8080/",
     "height": 265
    },
    "colab_type": "code",
    "id": "ry8SoAwyb-0k",
    "outputId": "44b7aded-7418-4843-a8b7-253ac787c51d"
   },
   "outputs": [
    {
     "data": {
      "image/png": "[encoded data removed]",
      "text/plain": [
       "<Figure size 432x288 with 1 Axes>"
      ]
     },
     "metadata": {
      "needs_background": "light"
     },
     "output_type": "display_data"
    }
   ],
   "source": [
    "plt.scatter(df['x'],df['y'])\n",
    "plt.show()"
   ]
  },
  {
   "cell_type": "code",
   "execution_count": 4,
   "metadata": {
    "colab": {
     "base_uri": "https://localhost:8080/",
     "height": 1000
    },
    "colab_type": "code",
    "id": "AWo7m8pKcROP",
    "outputId": "7a8c82c7-5f15-4d39-f09f-abe10d37f111"
   },
   "outputs": [
    {
     "data": {
      "text/plain": [
       "array([[-1.71481604],\n",
       "       [-1.68017329],\n",
       "       [-1.64553055],\n",
       "       [-1.6108878 ],\n",
       "       [-1.57624505],\n",
       "       [-1.5416023 ],\n",
       "       [-1.50695955],\n",
       "       [-1.4723168 ],\n",
       "       [-1.43767406],\n",
       "       [-1.40303131],\n",
       "       [-1.36838856],\n",
       "       [-1.33374581],\n",
       "       [-1.29910306],\n",
       "       [-1.26446031],\n",
       "       [-1.22981757],\n",
       "       [-1.19517482],\n",
       "       [-1.16053207],\n",
       "       [-1.12588932],\n",
       "       [-1.09124657],\n",
       "       [-1.05660382],\n",
       "       [-1.02196108],\n",
       "       [-0.98731833],\n",
       "       [-0.95267558],\n",
       "       [-0.91803283],\n",
       "       [-0.88339008],\n",
       "       [-0.84874733],\n",
       "       [-0.81410459],\n",
       "       [-0.77946184],\n",
       "       [-0.74481909],\n",
       "       [-0.71017634],\n",
       "       [-0.67553359],\n",
       "       [-0.64089084],\n",
       "       [-0.6062481 ],\n",
       "       [-0.57160535],\n",
       "       [-0.5369626 ],\n",
       "       [-0.50231985],\n",
       "       [-0.4676771 ],\n",
       "       [-0.43303435],\n",
       "       [-0.39839161],\n",
       "       [-0.36374886],\n",
       "       [-0.32910611],\n",
       "       [-0.29446336],\n",
       "       [-0.25982061],\n",
       "       [-0.22517786],\n",
       "       [-0.19053512],\n",
       "       [-0.15589237],\n",
       "       [-0.12124962],\n",
       "       [-0.08660687],\n",
       "       [-0.05196412],\n",
       "       [-0.01732137],\n",
       "       [ 0.01732137],\n",
       "       [ 0.05196412],\n",
       "       [ 0.08660687],\n",
       "       [ 0.12124962],\n",
       "       [ 0.15589237],\n",
       "       [ 0.19053512],\n",
       "       [ 0.22517786],\n",
       "       [ 0.25982061],\n",
       "       [ 0.29446336],\n",
       "       [ 0.32910611],\n",
       "       [ 0.36374886],\n",
       "       [ 0.39839161],\n",
       "       [ 0.43303435],\n",
       "       [ 0.4676771 ],\n",
       "       [ 0.50231985],\n",
       "       [ 0.5369626 ],\n",
       "       [ 0.57160535],\n",
       "       [ 0.6062481 ],\n",
       "       [ 0.64089084],\n",
       "       [ 0.67553359],\n",
       "       [ 0.71017634],\n",
       "       [ 0.74481909],\n",
       "       [ 0.77946184],\n",
       "       [ 0.81410459],\n",
       "       [ 0.84874733],\n",
       "       [ 0.88339008],\n",
       "       [ 0.91803283],\n",
       "       [ 0.95267558],\n",
       "       [ 0.98731833],\n",
       "       [ 1.02196108],\n",
       "       [ 1.05660382],\n",
       "       [ 1.09124657],\n",
       "       [ 1.12588932],\n",
       "       [ 1.16053207],\n",
       "       [ 1.19517482],\n",
       "       [ 1.22981757],\n",
       "       [ 1.26446031],\n",
       "       [ 1.29910306],\n",
       "       [ 1.33374581],\n",
       "       [ 1.36838856],\n",
       "       [ 1.40303131],\n",
       "       [ 1.43767406],\n",
       "       [ 1.4723168 ],\n",
       "       [ 1.50695955],\n",
       "       [ 1.5416023 ],\n",
       "       [ 1.57624505],\n",
       "       [ 1.6108878 ],\n",
       "       [ 1.64553055],\n",
       "       [ 1.68017329],\n",
       "       [ 1.71481604]])"
      ]
     },
     "execution_count": 4,
     "metadata": {},
     "output_type": "execute_result"
    }
   ],
   "source": [
    "X=np.array(df['x']).reshape((-1,1))\n",
    "y=np.array(df['y'])\n",
    "#standardizando\n",
    "scaler = StandardScaler()\n",
    "scaler.fit(X)\n",
    "XS=scaler.transform(X)\n",
    "XS"
   ]
  },
  {
   "cell_type": "code",
   "execution_count": 5,
   "metadata": {
    "colab": {
     "base_uri": "https://localhost:8080/",
     "height": 265
    },
    "colab_type": "code",
    "id": "LawrfSFUbLaP",
    "outputId": "2713c0f0-6dab-4d71-ccf4-3a7f2075d1f7"
   },
   "outputs": [
    {
     "data": {
      "image/png": "[encoded data removed]",
      "text/plain": [
       "<Figure size 432x288 with 1 Axes>"
      ]
     },
     "metadata": {
      "needs_background": "light"
     },
     "output_type": "display_data"
    }
   ],
   "source": [
    "reg = LinearRegression().fit(X, y)# 1 feature\n",
    "ye=reg.predict(X)\n",
    "plt.plot(df['x'],y,'bo')\n",
    "plt.plot(df['x'],ye,'ro')\n",
    "plt.show()"
   ]
  },
  {
   "cell_type": "code",
   "execution_count": 7,
   "metadata": {
    "colab": {
     "base_uri": "https://localhost:8080/",
     "height": 265
    },
    "colab_type": "code",
    "id": "uf4ioEJCeu_O",
    "outputId": "da64d59b-4bff-42a5-f7ae-97a3dea4ed48"
   },
   "outputs": [
    {
     "data": {
      "image/png": "[encoded data removed]",
      "text/plain": [
       "<Figure size 432x288 with 1 Axes>"
      ]
     },
     "metadata": {
      "needs_background": "light"
     },
     "output_type": "display_data"
    }
   ],
   "source": [
    "# 2 features, x e x**2\n",
    "X2=np.zeros((len(y),2))\n",
    "X2[:,0]=X[:,0]\n",
    "X2[:,1]=X2[:,0]**2\n",
    "reg = LinearRegression().fit(X2, y)\n",
    "ye=reg.predict(X2)\n",
    "plt.plot(df['x'],y,'bo')\n",
    "plt.plot(df['x'],ye,'ro')\n",
    "plt.show()"
   ]
  },
  {
   "cell_type": "code",
   "execution_count": 8,
   "metadata": {
    "colab": {
     "base_uri": "https://localhost:8080/",
     "height": 265
    },
    "colab_type": "code",
    "id": "XswPDae8fXRj",
    "outputId": "061061e3-2906-48e7-d92a-7273fac43a25"
   },
   "outputs": [
    {
     "data": {
      "image/png": "[encoded data removed]",
      "text/plain": [
       "<Figure size 432x288 with 1 Axes>"
      ]
     },
     "metadata": {
      "needs_background": "light"
     },
     "output_type": "display_data"
    }
   ],
   "source": [
    "# 3 features, x , x**2 e x**3\n",
    "X3=np.zeros((len(y),3))\n",
    "X3[:,0]=X[:,0]\n",
    "X3[:,1]=X2[:,0]**2\n",
    "X3[:,2]=X2[:,0]**3\n",
    "reg = LinearRegression().fit(X3, y)\n",
    "ye=reg.predict(X3)\n",
    "plt.plot(df['x'],y,'bo')\n",
    "plt.plot(df['x'],ye,'ro')\n",
    "plt.show()"
   ]
  },
  {
   "cell_type": "code",
   "execution_count": 63,
   "metadata": {
    "colab": {
     "base_uri": "https://localhost:8080/",
     "height": 265
    },
    "colab_type": "code",
    "id": "6Ip-XxPSflVF",
    "outputId": "bef4d0fb-f4f0-4a9d-8341-b1f76bdca972"
   },
   "outputs": [
    {
     "data": {
      "image/png": "[encoded data removed]",
      "text/plain": [
       "<Figure size 432x288 with 1 Axes>"
      ]
     },
     "metadata": {
      "tags": []
     },
     "output_type": "display_data"
    }
   ],
   "source": [
    "# 7 features, x , x**2 , x**3, x**4, x**5,x**6,x**7\n",
    "X7=np.zeros((len(y),7))\n",
    "X7[:,0]=X[:,0]\n",
    "X7[:,1]=X2[:,0]**2\n",
    "X7[:,2]=X2[:,0]**3\n",
    "X7[:,3]=X2[:,0]**4\n",
    "X7[:,4]=X2[:,0]**5\n",
    "X7[:,5]=X2[:,0]**6\n",
    "X7[:,6]=X2[:,0]**7\n",
    "reg = LinearRegression().fit(X7, y)\n",
    "ye=reg.predict(X7)\n",
    "plt.plot(df['x'],y,'bo')\n",
    "plt.plot(df['x'],ye,'ro')\n",
    "plt.show()"
   ]
  },
  {
   "cell_type": "code",
   "execution_count": 12,
   "metadata": {
    "colab": {
     "base_uri": "https://localhost:8080/",
     "height": 265
    },
    "colab_type": "code",
    "id": "7tHqwo7uh0OW",
    "outputId": "07927ea2-a26e-450e-de47-fc888bc63c1e"
   },
   "outputs": [
    {
     "data": {
      "image/png": "[encoded data removed]",
      "text/plain": [
       "<Figure size 432x288 with 1 Axes>"
      ]
     },
     "metadata": {
      "needs_background": "light"
     },
     "output_type": "display_data"
    }
   ],
   "source": [
    "#7 features com regularização L2\n",
    "from sklearn.linear_model import Ridge\n",
    "X7=np.zeros((len(y),7))\n",
    "X7[:,0]=X[:,0]\n",
    "X7[:,1]=X2[:,0]**2\n",
    "X7[:,2]=X2[:,0]**3\n",
    "X7[:,3]=X2[:,0]**4\n",
    "X7[:,4]=X2[:,0]**5\n",
    "X7[:,5]=X2[:,0]**6\n",
    "X7[:,6]=X2[:,0]**7\n",
    "clf = Ridge(alpha=1.0)\n",
    "clf.fit(X7, y)\n",
    "ye=clf.predict(X7)\n",
    "plt.plot(df['x'],y,'bo')\n",
    "plt.plot(df['x'],ye,'ro')\n",
    "plt.show()\n"
   ]
  },
  {
   "cell_type": "code",
   "execution_count": null,
   "metadata": {},
   "outputs": [],
   "source": []
  }
 ],
 "metadata": {
  "colab": {
   "name": "over_under.ipynb",
   "provenance": []
  },
  "kernelspec": {
   "display_name": "Python 3",
   "language": "python",
   "name": "python3"
  },
  "language_info": {
   "codemirror_mode": {
    "name": "ipython",
    "version": 3
   },
   "file_extension": ".py",
   "mimetype": "text/x-python",
   "name": "python",
   "nbconvert_exporter": "python",
   "pygments_lexer": "ipython3",
   "version": "3.6.9"
  }
 },
 "nbformat": 4,
 "nbformat_minor": 1
}
