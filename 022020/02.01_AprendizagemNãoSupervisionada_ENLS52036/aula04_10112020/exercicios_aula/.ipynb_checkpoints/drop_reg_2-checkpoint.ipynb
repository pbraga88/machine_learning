{
 "cells": [
  {
   "cell_type": "markdown",
   "metadata": {
    "id": "MTfOD6vVJweo"
   },
   "source": [
    "Deep Feed forward para identificação de dígitos... parte 1 :importando e analisando o Dataset"
   ]
  },
  {
   "cell_type": "code",
   "execution_count": null,
   "metadata": {
    "id": "vINUEShYhTq0"
   },
   "outputs": [],
   "source": [
    "import tensorflow as tf\n",
    "print(tf.__version__)"
   ]
  },
  {
   "cell_type": "code",
   "execution_count": null,
   "metadata": {
    "id": "WXu3WN8Uigjx"
   },
   "outputs": [],
   "source": [
    "(x_train, y_train), (x_test, y_test) = tf.keras.datasets.mnist.load_data()"
   ]
  },
  {
   "cell_type": "markdown",
   "metadata": {
    "id": "soa_oFDzjGOf"
   },
   "source": [
    "Vamos ver analisar a primeira imagem"
   ]
  },
  {
   "cell_type": "code",
   "execution_count": null,
   "metadata": {
    "id": "liKnjtiri7ER"
   },
   "outputs": [],
   "source": [
    "print(x_train.shape)#imagem 28x28"
   ]
  },
  {
   "cell_type": "code",
   "execution_count": null,
   "metadata": {
    "id": "k_4ARCxqjUNw"
   },
   "outputs": [],
   "source": [
    "print(x_train[0].max(),x_train[0].min())# a imagem tem um só canal entre 0 e 255"
   ]
  },
  {
   "cell_type": "code",
   "execution_count": null,
   "metadata": {
    "id": "F6NKIxQtjmL0"
   },
   "outputs": [],
   "source": [
    "print(len(x_train),len(x_test))"
   ]
  },
  {
   "cell_type": "markdown",
   "metadata": {
    "id": "QGf9n-RikRwT"
   },
   "source": [
    "Apresente a quantidade de amostras de cada classe..há balanceamento?"
   ]
  },
  {
   "cell_type": "code",
   "execution_count": null,
   "metadata": {
    "id": "5PpjosshkX5C"
   },
   "outputs": [],
   "source": []
  },
  {
   "cell_type": "code",
   "execution_count": null,
   "metadata": {
    "id": "hJuJJQZBkclT"
   },
   "outputs": [],
   "source": [
    "yl=list(y_train)\n",
    "count=[yl.count(i) for i in range(10)]\n",
    "count"
   ]
  },
  {
   "cell_type": "code",
   "execution_count": null,
   "metadata": {
    "id": "InkiNMLvk2Gc"
   },
   "outputs": [],
   "source": [
    "yt=list(y_test)\n",
    "count=[yt.count(i) for i in range(10)]\n",
    "count"
   ]
  },
  {
   "cell_type": "code",
   "execution_count": 8,
   "metadata": {
    "id": "jGWZItrtlMaP"
   },
   "outputs": [],
   "source": [
    "import matplotlib.pyplot as plt\n"
   ]
  },
  {
   "cell_type": "code",
   "execution_count": null,
   "metadata": {
    "id": "-sS2j-Atlb3c"
   },
   "outputs": [],
   "source": [
    "plt.gray()\n",
    "plt.imshow(x_train[0]) \n",
    "y_train[0]"
   ]
  },
  {
   "cell_type": "markdown",
   "metadata": {
    "id": "Xb72eej3MyLa"
   },
   "source": [
    "Parte 2 :\n",
    "a)Transformando os targets (y_train, y_test) em amostras com 10 posições, via one_hot_encoding.\n",
    "\n",
    "b)Transformando as imagens em um array unidimensional\n",
    "Com 28x28 elementos. x_train=>x_train1\n"
   ]
  },
  {
   "cell_type": "code",
   "execution_count": 10,
   "metadata": {
    "id": "pcx_gL14NkIi"
   },
   "outputs": [],
   "source": [
    "\n",
    "y_train1=y_train.copy()\n",
    "y_train1=y_train1.reshape((-1,1))#transformando em mx1\n"
   ]
  },
  {
   "cell_type": "markdown",
   "metadata": {
    "id": "X52lKr02N27z"
   },
   "source": [
    "Transformação da imagem 2D em vetor 1D"
   ]
  },
  {
   "cell_type": "code",
   "execution_count": null,
   "metadata": {
    "id": "Vc0jXYBKN3ZH"
   },
   "outputs": [],
   "source": [
    "import numpy as np\n",
    "l_train1=[]\n",
    "l_test1=[]\n",
    "for i in range(len(x_train)):\n",
    "  l_train1.append(x_train[i].reshape((784,)))\n",
    "for i in range(len(x_test)):\n",
    "  l_test1.append(x_test[i].reshape((784,)))\n",
    "x_train1=np.array(l_train1)\n",
    "x_test1=np.array(l_test1)\n",
    "x_train[:4],x_test[:4]"
   ]
  },
  {
   "cell_type": "code",
   "execution_count": null,
   "metadata": {
    "colab": {
     "base_uri": "https://localhost:8080/",
     "height": 35
    },
    "id": "p9ea5QDHOERr",
    "outputId": "e8b7ee5a-5ad8-43b3-f856-ed6895678e2c"
   },
   "outputs": [
    {
     "data": {
      "text/plain": [
       "(784,)"
      ]
     },
     "execution_count": 11,
     "metadata": {
      "tags": []
     },
     "output_type": "execute_result"
    }
   ],
   "source": [
    "x_train1[0].shape"
   ]
  },
  {
   "cell_type": "code",
   "execution_count": null,
   "metadata": {
    "id": "NoE63bc8O9xw"
   },
   "outputs": [],
   "source": [
    "from sklearn.preprocessing import OneHotEncoder\n",
    "enc = OneHotEncoder()\n",
    "y_train1=y_train.copy()\n",
    "y_train1=y_train1.reshape((-1,1))#transformando em mx1\n",
    "enc.fit(y_train1)\n",
    "ytr1=enc.transform(y_train1).toarray()\n",
    "ytr1[:10]#Observe o encoding da amostra de classe 5 (primeira linha)\n",
    "\n",
    "y_test1=y_test.copy()\n",
    "y_test1=y_test.reshape((-1,1))#transformando em mx1\n",
    "enc.fit(y_test1)\n",
    "yts1=enc.transform(y_test1).toarray()\n",
    "yts1[:10]#Observe o encoding da amostra de classe 5 (primeira linha)\n"
   ]
  },
  {
   "cell_type": "markdown",
   "metadata": {
    "id": "M_RmNwYsOnZl"
   },
   "source": [
    "Parte 3:\n",
    "\n",
    "a)Criando e treinando modelo\n",
    "\n",
    "b)Validando o modelo\n",
    "\n",
    "3)Observando a convergência\n",
    "\n"
   ]
  },
  {
   "cell_type": "code",
   "execution_count": 18,
   "metadata": {
    "id": "aRu2YVIuOn0-"
   },
   "outputs": [],
   "source": [
    "tf.random.set_seed(51)\n",
    "model = tf.keras.models.Sequential()\n",
    "model.add(tf.keras.layers.Dense(3000, activation='relu',input_shape=(784,)))\n",
    "model.add(tf.keras.layers.Dense(500, activation='relu'))\n",
    "model.add(tf.keras.layers.Dense(100, activation='relu'))\n",
    "model.add(tf.keras.layers.Dense(10, activation='softmax'))"
   ]
  },
  {
   "cell_type": "code",
   "execution_count": null,
   "metadata": {
    "id": "fRUbYHzqOsJC"
   },
   "outputs": [],
   "source": [
    "model.summary()"
   ]
  },
  {
   "cell_type": "code",
   "execution_count": null,
   "metadata": {
    "id": "UeMnAtJ1Oui1"
   },
   "outputs": [],
   "source": [
    "model.compile(optimizer='adam', loss='categorical_crossentropy', metrics=['accuracy'])\n",
    "hist=model.fit(x=x_train1,y=ytr1, validation_data=(x_test1, yts1),epochs=10)"
   ]
  },
  {
   "cell_type": "code",
   "execution_count": null,
   "metadata": {
    "id": "FBIdR4b5nMrd"
   },
   "outputs": [],
   "source": []
  },
  {
   "cell_type": "code",
   "execution_count": null,
   "metadata": {
    "id": "5L1edwIVoBnx"
   },
   "outputs": [],
   "source": []
  }
 ],
 "metadata": {
  "accelerator": "GPU",
  "colab": {
   "name": "drop_reg_2.ipynb",
   "provenance": []
  },
  "kernelspec": {
   "display_name": "Python 3",
   "language": "python",
   "name": "python3"
  },
  "language_info": {
   "codemirror_mode": {
    "name": "ipython",
    "version": 3
   },
   "file_extension": ".py",
   "mimetype": "text/x-python",
   "name": "python",
   "nbconvert_exporter": "python",
   "pygments_lexer": "ipython3",
   "version": "3.6.9"
  }
 },
 "nbformat": 4,
 "nbformat_minor": 1
}
