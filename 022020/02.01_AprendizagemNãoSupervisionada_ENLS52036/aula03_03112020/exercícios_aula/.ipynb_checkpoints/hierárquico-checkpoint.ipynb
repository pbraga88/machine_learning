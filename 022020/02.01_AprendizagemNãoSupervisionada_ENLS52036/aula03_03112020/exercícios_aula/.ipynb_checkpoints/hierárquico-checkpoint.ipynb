{
 "cells": [
  {
   "cell_type": "markdown",
   "metadata": {
    "colab_type": "text",
    "id": "hJjIducE1x8g"
   },
   "source": [
    "Criação de Dendograma - Cluster Hierárquico"
   ]
  },
  {
   "cell_type": "code",
   "execution_count": 2,
   "metadata": {
    "colab": {
     "base_uri": "https://localhost:8080/",
     "height": 533
    },
    "colab_type": "code",
    "id": "rtHenkgVdsqu",
    "outputId": "b2228315-2049-40c5-fc48-ef4bd8e9a88b"
   },
   "outputs": [
    {
     "name": "stdout",
     "output_type": "stream",
     "text": [
      "[0 0 1 1 2 2 1]\n"
     ]
    },
    {
     "data": {
      "image/png": "[encoded data removed]",
      "text/plain": [
       "<Figure size 432x288 with 1 Axes>"
      ]
     },
     "metadata": {
      "needs_background": "light"
     },
     "output_type": "display_data"
    },
    {
     "data": {
      "image/png": "[encoded data removed]",
      "text/plain": [
       "<Figure size 432x288 with 1 Axes>"
      ]
     },
     "metadata": {
      "needs_background": "light"
     },
     "output_type": "display_data"
    }
   ],
   "source": [
    "from sklearn.cluster import AgglomerativeClustering\n",
    "from matplotlib import pyplot as plt\n",
    "from scipy.cluster.hierarchy import dendrogram,linkage\n",
    "import numpy as np\n",
    "X = np.array([[1, 1], [2, 2], [5, 5],\n",
    "              [5, 6], [0, 4], [0, 5],[4,5.5]])\n",
    "# clustering = AgglomerativeClustering(n_clusters=2).fit(X)\n",
    "clustering = AgglomerativeClustering(n_clusters=3, linkage='single').fit(X)\n",
    "\n",
    "print(clustering.labels_)\n",
    "\n",
    "cor = ['bo', 'ro', 'yo', 'go', 'mo']\n",
    "for i in range(len(X)):\n",
    "  plt.plot(X[i,0],X[i,1],cor[clustering.labels_[i]])\n",
    "  plt.text(X[i,0]+.05, X[i,1]+.05, str(i), fontsize=9)\n",
    "plt.show()\n",
    "\n",
    "\n",
    "# Z = linkage(X, 'ward')\n",
    "Z = linkage(X, 'single')\n",
    "d=dendrogram(Z)\n",
    "\n",
    "\n"
   ]
  },
  {
   "cell_type": "code",
   "execution_count": null,
   "metadata": {},
   "outputs": [],
   "source": []
  }
 ],
 "metadata": {
  "colab": {
   "name": "hierarquico.ipynb",
   "provenance": []
  },
  "kernelspec": {
   "display_name": "Python 3",
   "language": "python",
   "name": "python3"
  },
  "language_info": {
   "codemirror_mode": {
    "name": "ipython",
    "version": 3
   },
   "file_extension": ".py",
   "mimetype": "text/x-python",
   "name": "python",
   "nbconvert_exporter": "python",
   "pygments_lexer": "ipython3",
   "version": "3.6.9"
  }
 },
 "nbformat": 4,
 "nbformat_minor": 1
}
