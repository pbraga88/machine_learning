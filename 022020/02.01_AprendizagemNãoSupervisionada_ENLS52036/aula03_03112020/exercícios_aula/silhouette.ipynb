{
 "cells": [
  {
   "cell_type": "markdown",
   "metadata": {},
   "source": [
    "# Índice de qualidade de cluster Silhouette"
   ]
  },
  {
   "cell_type": "code",
   "execution_count": 1,
   "metadata": {},
   "outputs": [],
   "source": [
    "from sklearn.cluster import KMeans\n",
    "from sklearn.metrics import silhouette_samples, silhouette_score\n",
    "import numpy as np"
   ]
  },
  {
   "cell_type": "code",
   "execution_count": 2,
   "metadata": {},
   "outputs": [],
   "source": [
    "X = np.array([[1, 1], [2, 2], [5, 5],\n",
    "              [5, 6], [1,5], [2, 6]])"
   ]
  },
  {
   "cell_type": "code",
   "execution_count": 3,
   "metadata": {},
   "outputs": [],
   "source": [
    "def dist(v1,v2):\n",
    "    return np.linalg.norm(v2-v1)"
   ]
  },
  {
   "cell_type": "code",
   "execution_count": 5,
   "metadata": {},
   "outputs": [
    {
     "name": "stdout",
     "output_type": "stream",
     "text": [
      "Cluster de cada Ponto... [1 1 2 2 0 0]\n",
      "Centróides dos Clusters [[1.5 5.5]\n",
      " [1.5 1.5]\n",
      " [5.  5.5]]\n",
      "Média Silhouette Geral : 0.646721736879245\n",
      "Silhouette do ponto  0 = 0.6891503397128803\n",
      "Silhouette do ponto  1 = 0.6050939018357331\n",
      "Silhouette do ponto  2 = 0.7207592200561265\n",
      "Silhouette do ponto  3 = 0.7192235935955849\n",
      "Silhouette do ponto  4 = 0.6050939018357331\n",
      "Silhouette do ponto  5 = 0.5410094642394115\n"
     ]
    }
   ],
   "source": [
    "k=3\n",
    "kmeans = KMeans(n_clusters=k, random_state=0).fit(X)\n",
    "print('Cluster de cada Ponto...',kmeans.labels_)\n",
    "\n",
    "print('Centróides dos Clusters', kmeans.cluster_centers_)\n",
    "\n",
    "silhouette_avg = silhouette_score(X, kmeans.labels_)\n",
    "print('Média Silhouette Geral :',silhouette_avg)\n",
    "sample_silhouette_values = np.array(silhouette_samples(X,kmeans.labels_))\n",
    "\n",
    "# for i in range(k):\n",
    "    \n",
    "#     #calcule a média do Silhouette por cluster\n",
    "#     print('Cluster ',k,' Média ',sum(l)/len(l))\n",
    "    \n",
    "for i in range(len(X)):\n",
    "    print('Silhouette do ponto ',i,'=',sample_silhouette_values[i])"
   ]
  },
  {
   "cell_type": "code",
   "execution_count": null,
   "metadata": {},
   "outputs": [],
   "source": []
  }
 ],
 "metadata": {
  "kernelspec": {
   "display_name": "Python 3",
   "language": "python",
   "name": "python3"
  },
  "language_info": {
   "codemirror_mode": {
    "name": "ipython",
    "version": 3
   },
   "file_extension": ".py",
   "mimetype": "text/x-python",
   "name": "python",
   "nbconvert_exporter": "python",
   "pygments_lexer": "ipython3",
   "version": "3.6.9"
  }
 },
 "nbformat": 4,
 "nbformat_minor": 2
}
