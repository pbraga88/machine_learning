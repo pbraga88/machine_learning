{
 "cells": [
  {
   "cell_type": "markdown",
   "metadata": {
    "colab_type": "text",
    "id": "qUQw5fGzdiUD"
   },
   "source": [
    "K-means custo com sklearn"
   ]
  },
  {
   "cell_type": "code",
   "execution_count": 1,
   "metadata": {
    "colab": {
     "base_uri": "https://localhost:8080/",
     "height": 34
    },
    "colab_type": "code",
    "id": "L9S-MkaLdgsw",
    "outputId": "a382726c-c3ff-4da8-f476-a04f8d36beb7"
   },
   "outputs": [
    {
     "name": "stdout",
     "output_type": "stream",
     "text": [
      "[1 1 2 2 0 0]\n"
     ]
    }
   ],
   "source": [
    "from sklearn.cluster import KMeans\n",
    "import numpy as np\n",
    "import matplotlib.pyplot as plt\n",
    "X = np.array([[1, 1], [2, 2], [5, 5],\n",
    "              [5, 6], [2, 5], [2, 6]])\n",
    "kmeans = KMeans(n_clusters=3, random_state=0).fit(X)\n",
    "print(kmeans.labels_)\n",
    "\n"
   ]
  },
  {
   "cell_type": "code",
   "execution_count": 2,
   "metadata": {
    "colab": {
     "base_uri": "https://localhost:8080/",
     "height": 282
    },
    "colab_type": "code",
    "id": "rmuqDFbplDX_",
    "outputId": "5cb4f98c-3b9e-49b0-95a1-8b86da5c66c2"
   },
   "outputs": [
    {
     "data": {
      "image/png": "[encoded data removed]",
      "text/plain": [
       "<Figure size 432x288 with 1 Axes>"
      ]
     },
     "metadata": {
      "needs_background": "light"
     },
     "output_type": "display_data"
    },
    {
     "name": "stdout",
     "output_type": "stream",
     "text": [
      "1.0\n"
     ]
    }
   ],
   "source": [
    "#mostrando os clusters com cores\n",
    "n=4\n",
    "kmeans = KMeans(n_clusters=n, random_state=0).fit(X)\n",
    "lista_cor=['bo','yo','ro','ko','co','yo','go'] #para até 7 clusters diferentes\n",
    "for i in range(len(X)):\n",
    "  plt.plot(X[i,0],X[i,1],lista_cor[kmeans.labels_[i]])\n",
    "plt.show()\n",
    "#custo da partição em \"n\" clusters com k-means\n",
    "print(kmeans.inertia_)\n",
    "#calcule \"na mão\" para conferir. Sempre desconfie de outputs..."
   ]
  },
  {
   "cell_type": "code",
   "execution_count": 3,
   "metadata": {
    "colab": {},
    "colab_type": "code",
    "id": "yhJ6fR4BmvzS"
   },
   "outputs": [
    {
     "data": {
      "image/png": "[encoded data removed]",
      "text/plain": [
       "<Figure size 432x288 with 1 Axes>"
      ]
     },
     "metadata": {
      "needs_background": "light"
     },
     "output_type": "display_data"
    }
   ],
   "source": [
    "#Faça o gráfico de custo para 2 até 5 clusters ...achou o cotovelo?\n",
    "lk=[]\n",
    "lc=[]\n",
    "for i in range(2,6):\n",
    "    km=KMeans(n_clusters=i, random_state=0).fit(X)\n",
    "    lk.append(i)\n",
    "    lc.append(km.inertia_)\n",
    "plt.plot(lk,lc,color='black')\n",
    "plt.show()\n",
    "    "
   ]
  },
  {
   "cell_type": "code",
   "execution_count": null,
   "metadata": {},
   "outputs": [],
   "source": []
  }
 ],
 "metadata": {
  "colab": {
   "name": "kmeans_cost_sklearn.ipynb",
   "provenance": []
  },
  "kernelspec": {
   "display_name": "Python 3",
   "language": "python",
   "name": "python3"
  },
  "language_info": {
   "codemirror_mode": {
    "name": "ipython",
    "version": 3
   },
   "file_extension": ".py",
   "mimetype": "text/x-python",
   "name": "python",
   "nbconvert_exporter": "python",
   "pygments_lexer": "ipython3",
   "version": "3.6.9"
  }
 },
 "nbformat": 4,
 "nbformat_minor": 1
}
