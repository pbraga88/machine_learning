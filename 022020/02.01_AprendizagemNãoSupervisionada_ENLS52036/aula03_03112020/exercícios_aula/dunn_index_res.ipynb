{
 "cells": [
  {
   "cell_type": "markdown",
   "metadata": {},
   "source": [
    "# Índice de qualidade de cluster Dunn"
   ]
  },
  {
   "cell_type": "code",
   "execution_count": 1,
   "metadata": {},
   "outputs": [],
   "source": [
    "from sklearn.cluster import KMeans\n",
    "import numpy as np\n",
    "import itertools"
   ]
  },
  {
   "cell_type": "code",
   "execution_count": 2,
   "metadata": {},
   "outputs": [],
   "source": [
    "X = np.array([[1, 1], [2, 2], [5, 5],\n",
    "              [5, 6], [1,5], [2, 6]])"
   ]
  },
  {
   "cell_type": "code",
   "execution_count": 3,
   "metadata": {},
   "outputs": [],
   "source": [
    "def dist(v1,v2):\n",
    "    return np.linalg.norm(v2-v1)"
   ]
  },
  {
   "cell_type": "code",
   "execution_count": 4,
   "metadata": {},
   "outputs": [
    {
     "name": "stdout",
     "output_type": "stream",
     "text": [
      "(0, 1)\n",
      "(0, 2)\n",
      "(0, 3)\n",
      "(0, 4)\n",
      "(0, 5)\n",
      "(1, 2)\n",
      "(1, 3)\n",
      "(1, 4)\n",
      "(1, 5)\n",
      "(2, 3)\n",
      "(2, 4)\n",
      "(2, 5)\n",
      "(3, 4)\n",
      "(3, 5)\n",
      "(4, 5)\n"
     ]
    }
   ],
   "source": [
    "comb=itertools.combinations([i for i in range(6)], 2)\n",
    "for c in comb:\n",
    "    print(c)"
   ]
  },
  {
   "cell_type": "code",
   "execution_count": 5,
   "metadata": {},
   "outputs": [
    {
     "data": {
      "text/plain": [
       "array([1, 1, 2, 2, 0, 0], dtype=int32)"
      ]
     },
     "execution_count": 5,
     "metadata": {},
     "output_type": "execute_result"
    }
   ],
   "source": [
    "#obtendo as listas de pontos de cada cluster\n",
    "k=3\n",
    "km=KMeans(n_clusters=k)\n",
    "km.fit(X)\n",
    "km.labels_\n"
   ]
  },
  {
   "cell_type": "code",
   "execution_count": 6,
   "metadata": {},
   "outputs": [
    {
     "name": "stdout",
     "output_type": "stream",
     "text": [
      "[1.4142135623730951, 1.0, 1.4142135623730951]\n"
     ]
    },
    {
     "data": {
      "text/plain": [
       "1.4142135623730951"
      ]
     },
     "execution_count": 6,
     "metadata": {},
     "output_type": "execute_result"
    }
   ],
   "source": [
    "#calculando a maior distância em cada cluster\n",
    "ld=[]\n",
    "comb=itertools.combinations([i for i in range(6)], 2)\n",
    "for c in comb:\n",
    "    p1=c[0]\n",
    "    p2=c[1]\n",
    "    if km.labels_[p1]==km.labels_[p2]:ld.append(dist(X[p1],X[p2]))\n",
    "print(ld)\n",
    "dmax=max(ld)\n",
    "dmax"
   ]
  },
  {
   "cell_type": "code",
   "execution_count": 7,
   "metadata": {},
   "outputs": [
    {
     "name": "stdout",
     "output_type": "stream",
     "text": [
      "[5.656854249492381, 6.4031242374328485, 4.0, 5.0990195135927845, 4.242640687119285, 5.0, 3.1622776601683795, 4.0, 4.0, 3.1622776601683795, 4.123105625617661, 3.0]\n"
     ]
    },
    {
     "data": {
      "text/plain": [
       "3.0"
      ]
     },
     "execution_count": 7,
     "metadata": {},
     "output_type": "execute_result"
    }
   ],
   "source": [
    "#calculando a menor distância entre pontos de clusters diferentes\n",
    "ld=[]\n",
    "comb=itertools.combinations([i for i in range(6)], 2)\n",
    "for c in comb:\n",
    "    p1=c[0]\n",
    "    p2=c[1]\n",
    "    if km.labels_[p1]!=km.labels_[p2]:ld.append(dist(X[p1],X[p2]))\n",
    "print(ld)\n",
    "dmin=min(ld)\n",
    "dmin"
   ]
  },
  {
   "cell_type": "code",
   "execution_count": 8,
   "metadata": {},
   "outputs": [
    {
     "name": "stdout",
     "output_type": "stream",
     "text": [
      "2.1213203435596424\n"
     ]
    }
   ],
   "source": [
    "dunn=dmin/dmax\n",
    "print(dunn)"
   ]
  },
  {
   "cell_type": "code",
   "execution_count": null,
   "metadata": {},
   "outputs": [],
   "source": []
  }
 ],
 "metadata": {
  "kernelspec": {
   "display_name": "Python 3",
   "language": "python",
   "name": "python3"
  },
  "language_info": {
   "codemirror_mode": {
    "name": "ipython",
    "version": 3
   },
   "file_extension": ".py",
   "mimetype": "text/x-python",
   "name": "python",
   "nbconvert_exporter": "python",
   "pygments_lexer": "ipython3",
   "version": "3.6.9"
  }
 },
 "nbformat": 4,
 "nbformat_minor": 2
}
