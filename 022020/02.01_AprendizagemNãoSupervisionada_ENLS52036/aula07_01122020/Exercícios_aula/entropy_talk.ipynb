{
 "cells": [
  {
   "cell_type": "code",
   "execution_count": 1,
   "metadata": {},
   "outputs": [],
   "source": [
    "from math import log2,log\n",
    "import numpy as np"
   ]
  },
  {
   "cell_type": "code",
   "execution_count": 4,
   "metadata": {},
   "outputs": [
    {
     "data": {
      "text/plain": [
       "(1.0, 1.0)"
      ]
     },
     "execution_count": 4,
     "metadata": {},
     "output_type": "execute_result"
    }
   ],
   "source": [
    "#information  ..medida em bits\n",
    "p=0.5\n",
    "info=log2(1/p)\n",
    "info2=-log2(p)\n",
    "info, info2"
   ]
  },
  {
   "cell_type": "code",
   "execution_count": 7,
   "metadata": {},
   "outputs": [
    {
     "data": {
      "text/plain": [
       "(3.321928094887362, 3.321928094887362)"
      ]
     },
     "execution_count": 7,
     "metadata": {},
     "output_type": "execute_result"
    }
   ],
   "source": [
    "#information  ..medida em bits\n",
    "p=.1\n",
    "info=log2(1/p)\n",
    "info2=-log2(p)\n",
    "info, info2"
   ]
  },
  {
   "cell_type": "code",
   "execution_count": 8,
   "metadata": {},
   "outputs": [
    {
     "data": {
      "text/plain": [
       "1.860964047443681"
      ]
     },
     "execution_count": 8,
     "metadata": {},
     "output_type": "execute_result"
    }
   ],
   "source": [
    "#entropy\n",
    "pt=np.array([0.1,0.25,0.25,0.4])\n",
    "e=0.0\n",
    "for i in range(len(pt)):\n",
    "    e-=pt[i]*log2(pt[i])\n",
    "e"
   ]
  },
  {
   "cell_type": "code",
   "execution_count": 14,
   "metadata": {},
   "outputs": [
    {
     "data": {
      "text/plain": [
       "1.0"
      ]
     },
     "execution_count": 14,
     "metadata": {},
     "output_type": "execute_result"
    }
   ],
   "source": [
    "#entropy\n",
    "pt=np.array([0.50,0.5])\n",
    "e=0.0\n",
    "for i in range(len(pt)):\n",
    "    e-=pt[i]*log2(pt[i])\n",
    "e"
   ]
  },
  {
   "cell_type": "code",
   "execution_count": 15,
   "metadata": {},
   "outputs": [
    {
     "data": {
      "text/plain": [
       "2.425687469707073"
      ]
     },
     "execution_count": 15,
     "metadata": {},
     "output_type": "execute_result"
    }
   ],
   "source": [
    "#cross entropy\n",
    "pt=np.array([0.25,0.25,0.25,0.25])\n",
    "qt=np.array([0.1,0.1,0.6,0.2])\n",
    "\n",
    "cepq=0.0\n",
    "for i in range(len(pt)):\n",
    "    cepq-=pt[i]*log2(qt[i])\n",
    "cepq"
   ]
  },
  {
   "cell_type": "code",
   "execution_count": 16,
   "metadata": {},
   "outputs": [
    {
     "data": {
      "text/plain": [
       "2.0"
      ]
     },
     "execution_count": 16,
     "metadata": {},
     "output_type": "execute_result"
    }
   ],
   "source": [
    "#cross entropy\n",
    "pt=np.array([0.25,0.25,0.25,0.25])\n",
    "qt=np.array([0.1,0.1,0.6,0.2])\n",
    "\n",
    "ceqp=0.0\n",
    "for i in range(len(pt)):\n",
    "    ceqp-=qt[i]*log2(pt[i])\n",
    "ceqp"
   ]
  },
  {
   "cell_type": "code",
   "execution_count": 17,
   "metadata": {},
   "outputs": [
    {
     "data": {
      "text/plain": [
       "0.42568746970707316"
      ]
     },
     "execution_count": 17,
     "metadata": {},
     "output_type": "execute_result"
    }
   ],
   "source": [
    "#kl divergence\n",
    "kl=0.0\n",
    "for i in range(len(pt)):\n",
    "    kl-=pt[i]*log2(qt[i]/pt[i])\n",
    "kl"
   ]
  },
  {
   "cell_type": "code",
   "execution_count": 18,
   "metadata": {},
   "outputs": [
    {
     "data": {
      "text/plain": [
       "2.0"
      ]
     },
     "execution_count": 18,
     "metadata": {},
     "output_type": "execute_result"
    }
   ],
   "source": [
    "#entropy\n",
    "pt=np.array([0.25,0.25,0.25,0.25])\n",
    "e=0.0\n",
    "for i in range(len(pt)):\n",
    "    e-=pt[i]*log2(pt[i])\n",
    "e"
   ]
  },
  {
   "cell_type": "code",
   "execution_count": null,
   "metadata": {},
   "outputs": [],
   "source": [
    "2.42=2.0+0.42"
   ]
  }
 ],
 "metadata": {
  "kernelspec": {
   "display_name": "Python 3",
   "language": "python",
   "name": "python3"
  },
  "language_info": {
   "codemirror_mode": {
    "name": "ipython",
    "version": 3
   },
   "file_extension": ".py",
   "mimetype": "text/x-python",
   "name": "python",
   "nbconvert_exporter": "python",
   "pygments_lexer": "ipython3",
   "version": "3.8.5"
  }
 },
 "nbformat": 4,
 "nbformat_minor": 4
}
