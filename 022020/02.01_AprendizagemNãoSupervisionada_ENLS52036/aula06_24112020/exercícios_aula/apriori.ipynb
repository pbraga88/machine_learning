{
 "cells": [
  {
   "cell_type": "code",
   "execution_count": 1,
   "metadata": {
    "colab": {
     "base_uri": "https://localhost:8080/",
     "height": 188
    },
    "colab_type": "code",
    "id": "yw3cWi5NCZ1F",
    "outputId": "46cd0274-2a10-4651-acba-eb4600142acf"
   },
   "outputs": [
    {
     "name": "stdout",
     "output_type": "stream",
     "text": [
      "Collecting apyori\n",
      "  Downloading apyori-1.1.2.tar.gz (8.6 kB)\n",
      "Building wheels for collected packages: apyori\n",
      "  Building wheel for apyori (setup.py) ... \u001b[?25ldone\n",
      "\u001b[?25h  Created wheel for apyori: filename=apyori-1.1.2-py3-none-any.whl size=5974 sha256=df2d6c0d51699535084131b23262a35b6618de3eb2f05d2fc8b3638e91626c92\n",
      "  Stored in directory: /home/pbraga/.cache/pip/wheels/1b/02/6c/a45230be8603bd95c0a51cd2b289aefdd860c1a100eab73661\n",
      "Successfully built apyori\n",
      "Installing collected packages: apyori\n",
      "Successfully installed apyori-1.1.2\n"
     ]
    }
   ],
   "source": [
    "!pip install apyori "
   ]
  },
  {
   "cell_type": "code",
   "execution_count": 2,
   "metadata": {
    "colab": {},
    "colab_type": "code",
    "id": "x9wZ-NhGCckQ"
   },
   "outputs": [],
   "source": [
    "import numpy as np\n",
    "import matplotlib.pyplot as plt\n",
    "import pandas as pd\n",
    "from apyori import apriori"
   ]
  },
  {
   "cell_type": "code",
   "execution_count": 3,
   "metadata": {
    "colab": {},
    "colab_type": "code",
    "id": "a7RnsKxXIMzE"
   },
   "outputs": [],
   "source": [
    "trans=[['cerveja', 'pão', 'carne'],\n",
    " ['vinho', 'queijo'],\n",
    " ['cerveja', 'carne'],\n",
    " ['vinho', 'pão', 'carne'],\n",
    " ['pão', 'carne'],\n",
    " ['cerveja', 'vinho', 'pão', 'carne'],\n",
    " ['pão', 'vinho'],\n",
    " ['cerveja', 'carne'],\n",
    " ['cerveja', 'carne'],\n",
    " ['vinho', 'pão']]"
   ]
  },
  {
   "cell_type": "code",
   "execution_count": 6,
   "metadata": {
    "colab": {},
    "colab_type": "code",
    "id": "myYMOH41EA7-"
   },
   "outputs": [],
   "source": [
    "association_rules = apriori(trans, min_support=0.2, min_length=2)\n",
    "association_results = list(association_rules)"
   ]
  },
  {
   "cell_type": "code",
   "execution_count": 7,
   "metadata": {
    "colab": {
     "base_uri": "https://localhost:8080/",
     "height": 222
    },
    "colab_type": "code",
    "id": "MVVSM-XcGWoZ",
    "outputId": "3662705e-2d70-4e23-8539-9490a29071ac"
   },
   "outputs": [
    {
     "data": {
      "text/plain": [
       "[RelationRecord(items=frozenset({'carne'}), support=0.7, ordered_statistics=[OrderedStatistic(items_base=frozenset(), items_add=frozenset({'carne'}), confidence=0.7, lift=1.0)]),\n",
       " RelationRecord(items=frozenset({'cerveja'}), support=0.5, ordered_statistics=[OrderedStatistic(items_base=frozenset(), items_add=frozenset({'cerveja'}), confidence=0.5, lift=1.0)]),\n",
       " RelationRecord(items=frozenset({'pão'}), support=0.6, ordered_statistics=[OrderedStatistic(items_base=frozenset(), items_add=frozenset({'pão'}), confidence=0.6, lift=1.0)]),\n",
       " RelationRecord(items=frozenset({'vinho'}), support=0.5, ordered_statistics=[OrderedStatistic(items_base=frozenset(), items_add=frozenset({'vinho'}), confidence=0.5, lift=1.0)]),\n",
       " RelationRecord(items=frozenset({'cerveja', 'carne'}), support=0.5, ordered_statistics=[OrderedStatistic(items_base=frozenset(), items_add=frozenset({'cerveja', 'carne'}), confidence=0.5, lift=1.0), OrderedStatistic(items_base=frozenset({'carne'}), items_add=frozenset({'cerveja'}), confidence=0.7142857142857143, lift=1.4285714285714286), OrderedStatistic(items_base=frozenset({'cerveja'}), items_add=frozenset({'carne'}), confidence=1.0, lift=1.4285714285714286)]),\n",
       " RelationRecord(items=frozenset({'pão', 'carne'}), support=0.4, ordered_statistics=[OrderedStatistic(items_base=frozenset(), items_add=frozenset({'pão', 'carne'}), confidence=0.4, lift=1.0), OrderedStatistic(items_base=frozenset({'carne'}), items_add=frozenset({'pão'}), confidence=0.5714285714285715, lift=0.9523809523809526), OrderedStatistic(items_base=frozenset({'pão'}), items_add=frozenset({'carne'}), confidence=0.6666666666666667, lift=0.9523809523809526)]),\n",
       " RelationRecord(items=frozenset({'vinho', 'carne'}), support=0.2, ordered_statistics=[OrderedStatistic(items_base=frozenset(), items_add=frozenset({'vinho', 'carne'}), confidence=0.2, lift=1.0), OrderedStatistic(items_base=frozenset({'carne'}), items_add=frozenset({'vinho'}), confidence=0.28571428571428575, lift=0.5714285714285715), OrderedStatistic(items_base=frozenset({'vinho'}), items_add=frozenset({'carne'}), confidence=0.4, lift=0.5714285714285715)]),\n",
       " RelationRecord(items=frozenset({'pão', 'cerveja'}), support=0.2, ordered_statistics=[OrderedStatistic(items_base=frozenset(), items_add=frozenset({'pão', 'cerveja'}), confidence=0.2, lift=1.0), OrderedStatistic(items_base=frozenset({'cerveja'}), items_add=frozenset({'pão'}), confidence=0.4, lift=0.6666666666666667), OrderedStatistic(items_base=frozenset({'pão'}), items_add=frozenset({'cerveja'}), confidence=0.33333333333333337, lift=0.6666666666666667)]),\n",
       " RelationRecord(items=frozenset({'pão', 'vinho'}), support=0.4, ordered_statistics=[OrderedStatistic(items_base=frozenset(), items_add=frozenset({'pão', 'vinho'}), confidence=0.4, lift=1.0), OrderedStatistic(items_base=frozenset({'pão'}), items_add=frozenset({'vinho'}), confidence=0.6666666666666667, lift=1.3333333333333335), OrderedStatistic(items_base=frozenset({'vinho'}), items_add=frozenset({'pão'}), confidence=0.8, lift=1.3333333333333335)]),\n",
       " RelationRecord(items=frozenset({'pão', 'cerveja', 'carne'}), support=0.2, ordered_statistics=[OrderedStatistic(items_base=frozenset(), items_add=frozenset({'pão', 'cerveja', 'carne'}), confidence=0.2, lift=1.0), OrderedStatistic(items_base=frozenset({'carne'}), items_add=frozenset({'pão', 'cerveja'}), confidence=0.28571428571428575, lift=1.4285714285714286), OrderedStatistic(items_base=frozenset({'cerveja'}), items_add=frozenset({'pão', 'carne'}), confidence=0.4, lift=1.0), OrderedStatistic(items_base=frozenset({'pão'}), items_add=frozenset({'cerveja', 'carne'}), confidence=0.33333333333333337, lift=0.6666666666666667), OrderedStatistic(items_base=frozenset({'cerveja', 'carne'}), items_add=frozenset({'pão'}), confidence=0.4, lift=0.6666666666666667), OrderedStatistic(items_base=frozenset({'pão', 'carne'}), items_add=frozenset({'cerveja'}), confidence=0.5, lift=1.0), OrderedStatistic(items_base=frozenset({'pão', 'cerveja'}), items_add=frozenset({'carne'}), confidence=1.0, lift=1.4285714285714286)]),\n",
       " RelationRecord(items=frozenset({'pão', 'vinho', 'carne'}), support=0.2, ordered_statistics=[OrderedStatistic(items_base=frozenset(), items_add=frozenset({'pão', 'vinho', 'carne'}), confidence=0.2, lift=1.0), OrderedStatistic(items_base=frozenset({'carne'}), items_add=frozenset({'pão', 'vinho'}), confidence=0.28571428571428575, lift=0.7142857142857143), OrderedStatistic(items_base=frozenset({'pão'}), items_add=frozenset({'vinho', 'carne'}), confidence=0.33333333333333337, lift=1.6666666666666667), OrderedStatistic(items_base=frozenset({'vinho'}), items_add=frozenset({'pão', 'carne'}), confidence=0.4, lift=1.0), OrderedStatistic(items_base=frozenset({'pão', 'carne'}), items_add=frozenset({'vinho'}), confidence=0.5, lift=1.0), OrderedStatistic(items_base=frozenset({'vinho', 'carne'}), items_add=frozenset({'pão'}), confidence=1.0, lift=1.6666666666666667), OrderedStatistic(items_base=frozenset({'pão', 'vinho'}), items_add=frozenset({'carne'}), confidence=0.5, lift=0.7142857142857143)])]"
      ]
     },
     "execution_count": 7,
     "metadata": {},
     "output_type": "execute_result"
    }
   ],
   "source": [
    "association_results"
   ]
  },
  {
   "cell_type": "code",
   "execution_count": 0,
   "metadata": {
    "colab": {},
    "colab_type": "code",
    "id": "TYSVNgegGzZq"
   },
   "outputs": [],
   "source": []
  }
 ],
 "metadata": {
  "colab": {
   "name": "apriori.ipynb",
   "provenance": []
  },
  "kernelspec": {
   "display_name": "Python 3",
   "language": "python",
   "name": "python3"
  },
  "language_info": {
   "codemirror_mode": {
    "name": "ipython",
    "version": 3
   },
   "file_extension": ".py",
   "mimetype": "text/x-python",
   "name": "python",
   "nbconvert_exporter": "python",
   "pygments_lexer": "ipython3",
   "version": "3.8.5"
  }
 },
 "nbformat": 4,
 "nbformat_minor": 1
}
