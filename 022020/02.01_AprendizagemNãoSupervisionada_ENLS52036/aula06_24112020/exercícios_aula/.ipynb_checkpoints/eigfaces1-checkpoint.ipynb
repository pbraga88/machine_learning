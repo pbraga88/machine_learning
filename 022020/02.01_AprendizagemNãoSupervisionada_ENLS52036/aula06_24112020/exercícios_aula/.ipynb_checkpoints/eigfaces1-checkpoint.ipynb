{
 "cells": [
  {
   "cell_type": "code",
   "execution_count": 1,
   "metadata": {
    "colab": {},
    "colab_type": "code",
    "id": "6wzn1SQoNEi1"
   },
   "outputs": [
    {
     "ename": "ModuleNotFoundError",
     "evalue": "No module named 'cv2'",
     "output_type": "error",
     "traceback": [
      "\u001b[0;31m---------------------------------------------------------------------------\u001b[0m",
      "\u001b[0;31mModuleNotFoundError\u001b[0m                       Traceback (most recent call last)",
      "\u001b[0;32m<ipython-input-1-51d2f686b112>\u001b[0m in \u001b[0;36m<module>\u001b[0;34m\u001b[0m\n\u001b[1;32m      1\u001b[0m \u001b[0;32mimport\u001b[0m \u001b[0mnumpy\u001b[0m \u001b[0;32mas\u001b[0m \u001b[0mnp\u001b[0m\u001b[0;34m\u001b[0m\u001b[0;34m\u001b[0m\u001b[0m\n\u001b[1;32m      2\u001b[0m \u001b[0;32mimport\u001b[0m \u001b[0mmatplotlib\u001b[0m\u001b[0;34m.\u001b[0m\u001b[0mpyplot\u001b[0m \u001b[0;32mas\u001b[0m \u001b[0mplt\u001b[0m\u001b[0;34m\u001b[0m\u001b[0;34m\u001b[0m\u001b[0m\n\u001b[0;32m----> 3\u001b[0;31m \u001b[0;32mimport\u001b[0m \u001b[0mcv2\u001b[0m\u001b[0;34m\u001b[0m\u001b[0;34m\u001b[0m\u001b[0m\n\u001b[0m\u001b[1;32m      4\u001b[0m \u001b[0;32mfrom\u001b[0m \u001b[0msklearn\u001b[0m\u001b[0;34m.\u001b[0m\u001b[0mdecomposition\u001b[0m \u001b[0;32mimport\u001b[0m \u001b[0mPCA\u001b[0m\u001b[0;34m\u001b[0m\u001b[0;34m\u001b[0m\u001b[0m\n\u001b[1;32m      5\u001b[0m \u001b[0;32mfrom\u001b[0m \u001b[0msklearn\u001b[0m \u001b[0;32mimport\u001b[0m \u001b[0mdatasets\u001b[0m\u001b[0;34m\u001b[0m\u001b[0;34m\u001b[0m\u001b[0m\n",
      "\u001b[0;31mModuleNotFoundError\u001b[0m: No module named 'cv2'"
     ]
    }
   ],
   "source": [
    "import numpy as np\n",
    "import matplotlib.pyplot as plt\n",
    "import cv2\n",
    "from sklearn.decomposition import PCA\n",
    "from sklearn import datasets"
   ]
  },
  {
   "cell_type": "code",
   "execution_count": null,
   "metadata": {
    "colab": {
     "base_uri": "https://localhost:8080/",
     "height": 34
    },
    "colab_type": "code",
    "id": "q7JN76r7Smwk",
    "outputId": "215fc022-c353-4aa4-a25f-1394dd97b4f9"
   },
   "outputs": [],
   "source": [
    "img=cv2.imread('jack1.jpg',)\n",
    "imgg = cv2.cvtColor(img, cv2.COLOR_BGR2GRAY)\n",
    "imgg=cv2.resize(imgg,(64,64))\n",
    "imgg.max(),imgg.min()"
   ]
  },
  {
   "cell_type": "code",
   "execution_count": 0,
   "metadata": {
    "colab": {},
    "colab_type": "code",
    "id": "ORQtg28YMh17"
   },
   "outputs": [],
   "source": [
    "imgg=imgg/255"
   ]
  },
  {
   "cell_type": "code",
   "execution_count": 51,
   "metadata": {
    "colab": {
     "base_uri": "https://localhost:8080/",
     "height": 285
    },
    "colab_type": "code",
    "id": "yYqOpZfyVr79",
    "outputId": "2ae26e59-f8e4-4ac6-ceba-5cdee81c3d25"
   },
   "outputs": [
    {
     "data": {
      "text/plain": [
       "<matplotlib.image.AxesImage at 0x7fcc24540c88>"
      ]
     },
     "execution_count": 51,
     "metadata": {
      "tags": []
     },
     "output_type": "execute_result"
    },
    {
     "data": {
      "image/png": "[encoded data removed]",
      "text/plain": [
       "<Figure size 432x288 with 1 Axes>"
      ]
     },
     "metadata": {
      "tags": []
     },
     "output_type": "display_data"
    }
   ],
   "source": [
    "plt.gray()\n",
    "plt.imshow(imgg)"
   ]
  },
  {
   "cell_type": "code",
   "execution_count": 42,
   "metadata": {
    "colab": {
     "base_uri": "https://localhost:8080/",
     "height": 34
    },
    "colab_type": "code",
    "id": "qW7khWaiMjkj",
    "outputId": "4540f804-6968-41c0-d776-dfed0a20091c"
   },
   "outputs": [
    {
     "data": {
      "text/plain": [
       "(400, 4096)"
      ]
     },
     "execution_count": 42,
     "metadata": {
      "tags": []
     },
     "output_type": "execute_result"
    }
   ],
   "source": [
    "faces = datasets.fetch_olivetti_faces()\n",
    "X=faces['data']\n",
    "X.shape\n"
   ]
  },
  {
   "cell_type": "code",
   "execution_count": 94,
   "metadata": {
    "colab": {
     "base_uri": "https://localhost:8080/",
     "height": 50
    },
    "colab_type": "code",
    "id": "Ta7Pt8b9stYG",
    "outputId": "226215ab-ed82-40e1-cc39-7ed801ab3d83"
   },
   "outputs": [
    {
     "data": {
      "text/plain": [
       "PCA(copy=True, iterated_power='auto', n_components=128, random_state=None,\n",
       "    svd_solver='auto', tol=0.0, whiten=False)"
      ]
     },
     "execution_count": 94,
     "metadata": {
      "tags": []
     },
     "output_type": "execute_result"
    }
   ],
   "source": [
    "pca = PCA(n_components=128)\n",
    "pca.fit(X)"
   ]
  },
  {
   "cell_type": "code",
   "execution_count": 95,
   "metadata": {
    "colab": {
     "base_uri": "https://localhost:8080/",
     "height": 739
    },
    "colab_type": "code",
    "id": "Sp8RggaFvT2B",
    "outputId": "e8ab97ec-c49e-4dc6-f0f2-28ceb0b51a4f"
   },
   "outputs": [
    {
     "data": {
      "text/plain": [
       "array([[-1.79692123e+00, -1.75350297e-01, -5.18227389e+00,\n",
       "        -3.17073648e+00,  4.10357483e-01,  3.59946919e-01,\n",
       "        -9.82686424e-01,  8.90614995e-01, -3.69773100e+00,\n",
       "         8.94894324e-01,  2.43729430e+00, -2.26723073e-01,\n",
       "         3.13875185e+00,  2.52476991e+00, -7.36587878e+00,\n",
       "         1.96555097e-01, -1.10940144e+00,  2.50521348e+00,\n",
       "         3.13151197e+00, -2.73836450e-01, -2.25114833e+00,\n",
       "         9.53038428e-02, -1.13367967e-01,  1.46189693e-01,\n",
       "         9.00242027e-01,  1.23634204e+00,  1.75872598e-01,\n",
       "        -1.64545049e+00, -9.56553446e-01, -3.05007050e+00,\n",
       "         7.87125504e-01,  1.26738911e+00, -2.16908112e+00,\n",
       "         1.68266453e+00,  2.25145112e+00, -1.27177234e+00,\n",
       "         3.79749178e-02, -1.13048322e+00, -2.76242210e-01,\n",
       "        -1.56779550e+00,  1.32147752e+00,  4.33278242e-01,\n",
       "        -6.06256601e-01,  4.94650381e-01, -8.72454323e-01,\n",
       "         1.04762572e+00,  6.70145713e-01,  1.09283139e-01,\n",
       "         4.16751993e-01,  6.55324329e-01,  3.40611865e+00,\n",
       "        -5.16903334e-02,  2.31054683e-01,  2.34674432e-01,\n",
       "         1.34047201e+00,  1.01625613e+00,  7.86078606e-01,\n",
       "         5.20524093e-01,  1.22878847e+00,  2.38328914e-01,\n",
       "        -5.68647372e-01,  3.48983942e-01,  1.25757998e+00,\n",
       "        -3.87320417e-01,  8.54525402e-01,  6.45907961e-01,\n",
       "         1.00071548e-01,  1.27386313e+00,  1.71949490e+00,\n",
       "        -2.55341739e+00, -1.05565291e+00, -9.87030693e-02,\n",
       "         2.10276908e-01,  7.99993051e-01,  1.13048925e+00,\n",
       "        -2.28303844e-01,  6.65925472e-01, -1.84766314e+00,\n",
       "        -6.05127270e-02,  6.71909787e-01,  1.52560956e+00,\n",
       "        -9.27124792e-01, -2.00783015e+00,  2.03099000e+00,\n",
       "        -6.01163570e-01, -3.02215644e-01, -4.44668828e-01,\n",
       "        -7.23872791e-01, -1.01365588e-03,  2.37191830e-01,\n",
       "         4.96129846e-01,  1.11079453e+00,  1.03814012e+00,\n",
       "         1.45992520e+00, -1.61118092e+00, -6.43001076e-01,\n",
       "        -1.95345794e-01,  6.67509491e-01,  7.05833495e-02,\n",
       "         1.76921243e+00,  4.00737246e-01, -1.58671091e+00,\n",
       "        -4.62581353e-01, -2.97572471e-01, -1.22238382e+00,\n",
       "        -8.59087669e-01,  1.17500557e+00, -1.24646308e-01,\n",
       "        -6.59968277e-01, -4.48442448e-02,  3.26505407e-01,\n",
       "         7.32116917e-01,  2.28960029e-01, -9.42470508e-01,\n",
       "        -6.61857720e-01, -1.91592726e-01, -9.48549315e-01,\n",
       "         3.43777417e-01,  2.75785854e-01,  3.40759873e-01,\n",
       "        -2.28369279e-01, -5.93007653e-01,  1.22363620e-01,\n",
       "        -4.81162075e-01, -1.68174984e-02, -1.75261464e-01,\n",
       "         1.08405869e+00,  1.65483263e-02]])"
      ]
     },
     "execution_count": 95,
     "metadata": {
      "tags": []
     },
     "output_type": "execute_result"
    }
   ],
   "source": [
    "jack_v=imgg.reshape((1,4096))\n",
    "jack_v=pca.transform(jack_v)\n",
    "jack_v"
   ]
  },
  {
   "cell_type": "markdown",
   "metadata": {
    "colab_type": "text",
    "id": "12YCO4tXSvFo"
   },
   "source": []
  },
  {
   "cell_type": "code",
   "execution_count": 96,
   "metadata": {
    "colab": {
     "base_uri": "https://localhost:8080/",
     "height": 705
    },
    "colab_type": "code",
    "id": "tIyBOKxxnwSo",
    "outputId": "ed26cfdc-989f-46ad-c972-c61accbd781d"
   },
   "outputs": [
    {
     "data": {
      "text/plain": [
       "array([[-5.2929525 , -1.5425124 ,  0.22595194,  1.1112503 ,  2.6400912 ,\n",
       "        -1.6745476 ,  2.2322075 , -3.189351  , -1.5655308 ,  0.59996134,\n",
       "        -1.7151495 , -0.16591696,  0.4970359 , -0.86192477,  0.9656306 ,\n",
       "         0.9479124 ,  1.1049331 , -0.6467361 , -0.10121005, -0.42004693,\n",
       "         0.7441404 ,  0.6995279 ,  1.103221  ,  0.6751483 ,  0.793377  ,\n",
       "        -1.1867152 , -0.85737795, -0.1607919 , -0.46297628, -0.5445219 ,\n",
       "         0.13814478, -0.1545853 , -0.50338   ,  0.51561177, -0.00551234,\n",
       "        -0.1744085 , -0.5927983 ,  0.13149552, -0.10844349, -0.52997035,\n",
       "         0.65881485, -1.1127976 ,  0.12014535,  0.4667797 , -0.5515818 ,\n",
       "        -1.3720096 ,  0.32149208,  0.07247316,  0.3286312 , -0.56728625,\n",
       "         0.84438246,  0.6419614 ,  0.2378642 , -0.2218572 , -0.09360744,\n",
       "        -0.27990124,  0.42502025,  0.043378  , -0.4806664 ,  0.12716523,\n",
       "         0.24411297,  0.7435645 , -0.01808821,  0.01368186, -0.23362261,\n",
       "         0.1765874 ,  0.00763856, -0.12984902,  0.28889027,  0.26489407,\n",
       "        -0.27612734, -0.35071668,  0.16772236, -0.47392097, -0.15341866,\n",
       "         0.19482028,  0.14926836,  0.2708521 , -0.08536538, -0.14723979,\n",
       "         0.16099149,  0.02058938, -0.1218826 ,  0.32475594, -0.55537   ,\n",
       "        -0.20918947, -0.04097224, -0.04683071,  0.21990748, -0.08902659,\n",
       "         0.22888589,  0.33580342, -0.29091832, -0.52403796,  0.16520259,\n",
       "        -0.37032482,  0.04882554,  0.04298588, -0.10608794, -0.2502896 ,\n",
       "         0.13441703,  0.03864072,  0.28701422, -0.1727922 ,  0.03691545,\n",
       "        -0.04731353,  0.02561268, -0.14307699, -0.11748459,  0.0956009 ,\n",
       "         0.21178257,  0.80734915, -0.30337203, -0.19343238, -0.12453169,\n",
       "         0.14353159,  0.2382364 ,  0.07431991, -0.2569049 , -0.05503816,\n",
       "         0.19787614,  0.10455021,  0.5208771 ,  0.21119899, -0.12335797,\n",
       "        -0.05574616,  0.07009008, -0.08083315]], dtype=float32)"
      ]
     },
     "execution_count": 96,
     "metadata": {
      "tags": []
     },
     "output_type": "execute_result"
    },
    {
     "data": {
      "image/png": "[encoded data removed]",
      "text/plain": [
       "<Figure size 432x288 with 1 Axes>"
      ]
     },
     "metadata": {
      "tags": []
     },
     "output_type": "display_data"
    }
   ],
   "source": [
    "alguem=X[2]\n",
    "plt.gray()\n",
    "plt.imshow(alguem.reshape((64,64)))\n",
    "alguem_v=pca.transform(alguem.reshape(1,4096))\n",
    "alguem_v"
   ]
  },
  {
   "cell_type": "code",
   "execution_count": 97,
   "metadata": {
    "colab": {
     "base_uri": "https://localhost:8080/",
     "height": 990
    },
    "colab_type": "code",
    "id": "manrd2XmwYcj",
    "outputId": "d5410e56-a42c-4e98-ab8a-b0d07957e2d8"
   },
   "outputs": [
    {
     "data": {
      "text/plain": [
       "array([[ 3.24640746e+00,  2.77688904e-01, -3.05000110e+00,\n",
       "         4.94847424e-01,  3.17109990e+00, -4.69204722e-01,\n",
       "        -4.69765400e-01, -1.71035408e+00, -1.44689973e+00,\n",
       "         8.46193308e-01,  4.99432245e+00, -3.61300873e-01,\n",
       "         2.83583151e+00,  3.41948533e+00, -4.80974520e+00,\n",
       "         1.50397318e+00, -1.00774524e+00,  9.90292473e-01,\n",
       "         4.80993108e+00, -5.46967822e-01, -5.25376417e-01,\n",
       "        -5.98298339e-02,  9.26395854e-01, -1.13860342e+00,\n",
       "         9.98927847e-01,  5.77714995e-01, -2.22081338e+00,\n",
       "        -1.46305729e+00, -1.59467360e-01, -1.79340755e+00,\n",
       "        -1.95225043e-01,  1.77224361e+00, -1.14522142e+00,\n",
       "         2.46028501e+00,  1.18409787e-01, -1.01149785e+00,\n",
       "        -3.77884577e-01, -3.48219837e+00, -1.73823693e+00,\n",
       "        -6.20431116e-01, -1.20889026e+00,  2.30179715e-01,\n",
       "         2.68426967e-01,  3.75521926e-01, -3.14829461e-01,\n",
       "        -6.24985700e-01,  3.43719061e-03,  5.30762976e-01,\n",
       "         1.37707558e+00,  8.17110626e-01,  2.20502525e+00,\n",
       "         8.91935617e-01, -1.09956283e+00, -7.61009198e-01,\n",
       "         6.62365663e-01,  1.85352303e+00,  7.91493429e-01,\n",
       "        -3.45235120e-01,  1.05748806e+00, -8.67286060e-01,\n",
       "        -4.46060923e-01,  4.68245751e-01,  3.05550106e-01,\n",
       "        -7.15743669e-01, -5.04578248e-01,  4.19426315e-01,\n",
       "         1.27163837e+00,  6.79996459e-01,  1.76974133e-02,\n",
       "        -6.64553203e-01,  9.40949082e-02, -6.69918519e-01,\n",
       "        -8.15592361e-01,  5.05097333e-01, -9.80664486e-03,\n",
       "         4.98837552e-01,  1.25587726e+00, -5.68156821e-01,\n",
       "        -3.33260128e-01,  8.54229890e-01,  9.14646574e-01,\n",
       "         2.65291105e-01, -2.62511699e+00,  4.71781890e-01,\n",
       "        -7.17287317e-02, -5.77876647e-01, -5.27349217e-01,\n",
       "        -1.08290481e+00, -2.04767352e-01,  7.07930880e-01,\n",
       "         2.74477534e-01,  1.41631387e-01,  2.95216201e-01,\n",
       "         5.41995971e-01, -5.08095541e-01,  1.10845943e+00,\n",
       "         1.30795153e+00,  4.58889824e-01,  2.23824922e-01,\n",
       "         3.00096553e-01,  7.65974574e-02, -1.51908956e+00,\n",
       "         3.91443141e-01, -9.33394676e-01, -1.24283801e+00,\n",
       "         4.41969278e-01, -4.57140170e-01,  2.28837862e-01,\n",
       "        -1.56572456e-01,  9.76764931e-01, -3.14617374e-01,\n",
       "         9.40603009e-01,  2.74579460e-01, -6.99452560e-01,\n",
       "        -7.20463616e-01, -2.83609593e-02, -3.34860891e-01,\n",
       "         5.74078866e-01,  3.83620988e-01, -3.21344506e-01,\n",
       "         2.76208463e-01, -4.52680409e-01,  1.98148014e-01,\n",
       "        -2.11371867e-01, -7.04600014e-01, -1.87375298e-01,\n",
       "        -3.18875037e-01,  4.17050434e-01]])"
      ]
     },
     "execution_count": 97,
     "metadata": {
      "tags": []
     },
     "output_type": "execute_result"
    },
    {
     "data": {
      "image/png": "[encoded data removed]",
      "text/plain": [
       "<Figure size 432x288 with 1 Axes>"
      ]
     },
     "metadata": {
      "tags": []
     },
     "output_type": "display_data"
    }
   ],
   "source": [
    "img2=cv2.imread('jack2.jpg',)\n",
    "imgg2 = cv2.cvtColor(img2, cv2.COLOR_BGR2GRAY)\n",
    "imgg2=cv2.resize(imgg2,(64,64))\n",
    "plt.imshow(imgg2)\n",
    "imgg2=imgg2/255\n",
    "jack2_v=imgg2.reshape((1,4096))\n",
    "jack2_v=pca.transform(jack2_v)\n",
    "jack2_v"
   ]
  },
  {
   "cell_type": "code",
   "execution_count": 89,
   "metadata": {
    "colab": {
     "base_uri": "https://localhost:8080/",
     "height": 34
    },
    "colab_type": "code",
    "id": "BaB_KCmTyFqe",
    "outputId": "47332a3d-3422-440c-b232-d83bd2530665"
   },
   "outputs": [
    {
     "data": {
      "text/plain": [
       "(11.351676462381445, 16.78460480252204)"
      ]
     },
     "execution_count": 89,
     "metadata": {
      "tags": []
     },
     "output_type": "execute_result"
    }
   ],
   "source": [
    "np.linalg.norm(jack2_v-jack_v),np.linalg.norm(jack2_v-alguem_v)"
   ]
  }
 ],
 "metadata": {
  "colab": {
   "name": "eigfaces1.ipynb",
   "provenance": []
  },
  "kernelspec": {
   "display_name": "Python 3",
   "language": "python",
   "name": "python3"
  },
  "language_info": {
   "codemirror_mode": {
    "name": "ipython",
    "version": 3
   },
   "file_extension": ".py",
   "mimetype": "text/x-python",
   "name": "python",
   "nbconvert_exporter": "python",
   "pygments_lexer": "ipython3",
   "version": "3.8.5"
  }
 },
 "nbformat": 4,
 "nbformat_minor": 1
}
