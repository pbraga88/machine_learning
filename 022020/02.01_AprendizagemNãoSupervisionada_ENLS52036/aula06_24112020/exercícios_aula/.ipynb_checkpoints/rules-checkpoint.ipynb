{
 "cells": [
  {
   "cell_type": "code",
   "execution_count": 1,
   "metadata": {
    "colab": {},
    "colab_type": "code",
    "id": "AVLE43kDxR9u"
   },
   "outputs": [],
   "source": [
    "trans=[['cerveja', 'pão', 'carne'],\n",
    " ['vinho', 'queijo'],\n",
    " ['cerveja', 'carne'],\n",
    " ['vinho', 'pão', 'carne'],\n",
    " ['pão', 'carne'],\n",
    " ['cerveja', 'vinho', 'pão', 'carne'],\n",
    " ['pão', 'vinho'],\n",
    " ['cerveja', 'carne'],\n",
    " ['cerveja', 'carne'],\n",
    " ['vinho', 'pão']]\n"
   ]
  },
  {
   "cell_type": "code",
   "execution_count": 5,
   "metadata": {},
   "outputs": [
    {
     "data": {
      "text/plain": [
       "10"
      ]
     },
     "execution_count": 5,
     "metadata": {},
     "output_type": "execute_result"
    }
   ],
   "source": [
    "len(trans)"
   ]
  },
  {
   "cell_type": "code",
   "execution_count": 2,
   "metadata": {
    "colab": {},
    "colab_type": "code",
    "id": "4icYtQWQx8s-"
   },
   "outputs": [],
   "source": [
    "#função que calcula suporte \n",
    "def suporte(lista,transacoes):\n",
    "    #desenvolver\n",
    "  \n",
    "  return "
   ]
  },
  {
   "cell_type": "code",
   "execution_count": 3,
   "metadata": {
    "colab": {},
    "colab_type": "code",
    "id": "I3dCaHf7zjhR"
   },
   "outputs": [],
   "source": [
    "def confianca(listax,listay,transacoes):\n",
    "  #desenvolver\n",
    "  return "
   ]
  },
  {
   "cell_type": "code",
   "execution_count": 4,
   "metadata": {
    "colab": {},
    "colab_type": "code",
    "id": "j7KsL92k27sM"
   },
   "outputs": [],
   "source": [
    "def lift(listax,listay,transacoes):\n",
    "  #desenvolver\n",
    "  return "
   ]
  },
  {
   "cell_type": "code",
   "execution_count": 0,
   "metadata": {
    "colab": {},
    "colab_type": "code",
    "id": "C9olGtxm5OMp"
   },
   "outputs": [],
   "source": []
  }
 ],
 "metadata": {
  "colab": {
   "name": "rules.ipynb",
   "provenance": []
  },
  "kernelspec": {
   "display_name": "Python 3",
   "language": "python",
   "name": "python3"
  },
  "language_info": {
   "codemirror_mode": {
    "name": "ipython",
    "version": 3
   },
   "file_extension": ".py",
   "mimetype": "text/x-python",
   "name": "python",
   "nbconvert_exporter": "python",
   "pygments_lexer": "ipython3",
   "version": "3.8.5"
  }
 },
 "nbformat": 4,
 "nbformat_minor": 1
}
