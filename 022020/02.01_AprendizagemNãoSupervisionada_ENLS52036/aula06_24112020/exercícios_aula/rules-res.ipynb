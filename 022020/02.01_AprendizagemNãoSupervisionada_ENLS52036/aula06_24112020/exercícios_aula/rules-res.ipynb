{
 "cells": [
  {
   "cell_type": "code",
   "execution_count": 0,
   "metadata": {
    "colab": {},
    "colab_type": "code",
    "id": "AVLE43kDxR9u"
   },
   "outputs": [],
   "source": [
    "trans=[['cerveja', 'pão', 'carne'],\n",
    " ['vinho', 'queijo'],\n",
    " ['cerveja', 'carne'],\n",
    " ['vinho', 'pão', 'carne'],\n",
    " ['pão', 'carne'],\n",
    " ['cerveja', 'vinho', 'pão', 'carne'],\n",
    " ['pão', 'vinho'],\n",
    " ['cerveja', 'carne'],\n",
    " ['cerveja', 'carne'],\n",
    " ['vinho', 'pão']]\n"
   ]
  },
  {
   "cell_type": "code",
   "execution_count": 0,
   "metadata": {
    "colab": {},
    "colab_type": "code",
    "id": "4icYtQWQx8s-"
   },
   "outputs": [],
   "source": [
    "#função que calcula suporte \n",
    "def suporte(lista,transacoes):\n",
    "  s1=set(lista)\n",
    "  cont=0\n",
    "  for t in transacoes:\n",
    "    if s1<=set(t):cont+=1\n",
    "  return cont/len(transacoes)"
   ]
  },
  {
   "cell_type": "code",
   "execution_count": 17,
   "metadata": {
    "colab": {
     "base_uri": "https://localhost:8080/",
     "height": 34
    },
    "colab_type": "code",
    "id": "psgRJjNWyJcf",
    "outputId": "f3440882-f6ca-4710-8078-5b6b42a14dbd"
   },
   "outputs": [
    {
     "data": {
      "text/plain": [
       "0.7"
      ]
     },
     "execution_count": 17,
     "metadata": {
      "tags": []
     },
     "output_type": "execute_result"
    }
   ],
   "source": [
    "suporte(['carne'],trans)"
   ]
  },
  {
   "cell_type": "code",
   "execution_count": 0,
   "metadata": {
    "colab": {},
    "colab_type": "code",
    "id": "I3dCaHf7zjhR"
   },
   "outputs": [],
   "source": [
    "def confianca(listax,listay,transacoes):\n",
    "  listxy=list(set(listax+listay))\n",
    "  supxy=suporte(listxy,transacoes)\n",
    "  return supxy/suporte(listax,transacoes)"
   ]
  },
  {
   "cell_type": "code",
   "execution_count": 0,
   "metadata": {
    "colab": {},
    "colab_type": "code",
    "id": "fJzTr8x349Gp"
   },
   "outputs": [],
   "source": []
  },
  {
   "cell_type": "code",
   "execution_count": 22,
   "metadata": {
    "colab": {
     "base_uri": "https://localhost:8080/",
     "height": 34
    },
    "colab_type": "code",
    "id": "Rj6HRRHz20JV",
    "outputId": "d7b45f2b-bc54-49d5-9081-8ad62ae07fdb"
   },
   "outputs": [
    {
     "data": {
      "text/plain": [
       "0.6666666666666667"
      ]
     },
     "execution_count": 22,
     "metadata": {
      "tags": []
     },
     "output_type": "execute_result"
    }
   ],
   "source": [
    "confianca(['pão'],['pão','carne'],trans)"
   ]
  },
  {
   "cell_type": "code",
   "execution_count": 0,
   "metadata": {
    "colab": {},
    "colab_type": "code",
    "id": "j7KsL92k27sM"
   },
   "outputs": [],
   "source": [
    "def lift(listax,listay,transacoes):\n",
    "  listxy=list(set(listax+listay))\n",
    "  return suporte(listxy,transacoes)/(suporte(listax,transacoes)*suporte(listay,transacoes))"
   ]
  },
  {
   "cell_type": "code",
   "execution_count": 32,
   "metadata": {
    "colab": {
     "base_uri": "https://localhost:8080/",
     "height": 34
    },
    "colab_type": "code",
    "id": "z_ZTuBTB4BvA",
    "outputId": "2fd33325-a065-4a68-fd1c-f0bb259a3404"
   },
   "outputs": [
    {
     "data": {
      "text/plain": [
       "0.9523809523809524"
      ]
     },
     "execution_count": 32,
     "metadata": {
      "tags": []
     },
     "output_type": "execute_result"
    }
   ],
   "source": [
    "lift(['pão'],['carne'],trans)"
   ]
  },
  {
   "cell_type": "code",
   "execution_count": 0,
   "metadata": {
    "colab": {},
    "colab_type": "code",
    "id": "C9olGtxm5OMp"
   },
   "outputs": [],
   "source": []
  }
 ],
 "metadata": {
  "colab": {
   "name": "rules.ipynb",
   "provenance": []
  },
  "kernelspec": {
   "display_name": "Python 3",
   "language": "python",
   "name": "python3"
  },
  "language_info": {
   "codemirror_mode": {
    "name": "ipython",
    "version": 3
   },
   "file_extension": ".py",
   "mimetype": "text/x-python",
   "name": "python",
   "nbconvert_exporter": "python",
   "pygments_lexer": "ipython3",
   "version": "3.7.6"
  }
 },
 "nbformat": 4,
 "nbformat_minor": 1
}
