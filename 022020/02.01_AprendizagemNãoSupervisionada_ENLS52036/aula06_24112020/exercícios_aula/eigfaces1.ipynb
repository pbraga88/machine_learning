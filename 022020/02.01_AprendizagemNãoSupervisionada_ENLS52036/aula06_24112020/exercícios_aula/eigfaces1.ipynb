{
 "cells": [
  {
   "cell_type": "code",
   "execution_count": 2,
   "metadata": {
    "colab": {},
    "colab_type": "code",
    "id": "6wzn1SQoNEi1"
   },
   "outputs": [],
   "source": [
    "import numpy as np\n",
    "import matplotlib.pyplot as plt\n",
    "import cv2\n",
    "from sklearn.decomposition import PCA\n",
    "from sklearn import datasets"
   ]
  },
  {
   "cell_type": "code",
   "execution_count": 3,
   "metadata": {
    "colab": {
     "base_uri": "https://localhost:8080/",
     "height": 34
    },
    "colab_type": "code",
    "id": "q7JN76r7Smwk",
    "outputId": "215fc022-c353-4aa4-a25f-1394dd97b4f9"
   },
   "outputs": [
    {
     "data": {
      "text/plain": [
       "(255, 0)"
      ]
     },
     "execution_count": 3,
     "metadata": {},
     "output_type": "execute_result"
    }
   ],
   "source": [
    "img=cv2.imread('jack1.jpg',)\n",
    "imgg = cv2.cvtColor(img, cv2.COLOR_BGR2GRAY)\n",
    "imgg=cv2.resize(imgg,(64,64))\n",
    "imgg.max(),imgg.min()"
   ]
  },
  {
   "cell_type": "code",
   "execution_count": 4,
   "metadata": {
    "colab": {},
    "colab_type": "code",
    "id": "ORQtg28YMh17"
   },
   "outputs": [],
   "source": [
    "imgg=imgg/255"
   ]
  },
  {
   "cell_type": "code",
   "execution_count": 5,
   "metadata": {
    "colab": {
     "base_uri": "https://localhost:8080/",
     "height": 285
    },
    "colab_type": "code",
    "id": "yYqOpZfyVr79",
    "outputId": "2ae26e59-f8e4-4ac6-ceba-5cdee81c3d25"
   },
   "outputs": [
    {
     "data": {
      "text/plain": [
       "<matplotlib.image.AxesImage at 0x7f86ec094d00>"
      ]
     },
     "execution_count": 5,
     "metadata": {},
     "output_type": "execute_result"
    },
    {
     "data": {
      "image/png": "[encoded data removed]",
      "text/plain": [
       "<Figure size 432x288 with 1 Axes>"
      ]
     },
     "metadata": {
      "needs_background": "light"
     },
     "output_type": "display_data"
    }
   ],
   "source": [
    "plt.gray()\n",
    "plt.imshow(imgg)"
   ]
  },
  {
   "cell_type": "code",
   "execution_count": 6,
   "metadata": {
    "colab": {
     "base_uri": "https://localhost:8080/",
     "height": 34
    },
    "colab_type": "code",
    "id": "qW7khWaiMjkj",
    "outputId": "4540f804-6968-41c0-d776-dfed0a20091c"
   },
   "outputs": [
    {
     "name": "stdout",
     "output_type": "stream",
     "text": [
      "downloading Olivetti faces from https://ndownloader.figshare.com/files/5976027 to /home/pbraga/scikit_learn_data\n"
     ]
    },
    {
     "data": {
      "text/plain": [
       "(400, 4096)"
      ]
     },
     "execution_count": 6,
     "metadata": {},
     "output_type": "execute_result"
    }
   ],
   "source": [
    "faces = datasets.fetch_olivetti_faces()\n",
    "X=faces['data']\n",
    "X.shape\n"
   ]
  },
  {
   "cell_type": "code",
   "execution_count": 7,
   "metadata": {
    "colab": {
     "base_uri": "https://localhost:8080/",
     "height": 50
    },
    "colab_type": "code",
    "id": "Ta7Pt8b9stYG",
    "outputId": "226215ab-ed82-40e1-cc39-7ed801ab3d83"
   },
   "outputs": [
    {
     "data": {
      "text/plain": [
       "PCA(n_components=128)"
      ]
     },
     "execution_count": 7,
     "metadata": {},
     "output_type": "execute_result"
    }
   ],
   "source": [
    "pca = PCA(n_components=128)\n",
    "pca.fit(X)"
   ]
  },
  {
   "cell_type": "code",
   "execution_count": 8,
   "metadata": {
    "colab": {
     "base_uri": "https://localhost:8080/",
     "height": 739
    },
    "colab_type": "code",
    "id": "Sp8RggaFvT2B",
    "outputId": "e8ab97ec-c49e-4dc6-f0f2-28ceb0b51a4f"
   },
   "outputs": [
    {
     "data": {
      "text/plain": [
       "array([[-1.79692486, -0.1753501 , -5.18227029, -3.17074612,  0.41036126,\n",
       "         0.35994947, -0.98270707,  0.89065228, -3.69770246,  0.8948933 ,\n",
       "         2.43731211, -0.22672165,  3.13878698,  2.52475638, -7.36586398,\n",
       "         0.19664178, -1.10938751,  2.5052849 ,  3.13143044, -0.27391232,\n",
       "        -2.25119621,  0.09532298, -0.1133652 ,  0.14616053,  0.90026845,\n",
       "         1.23630839,  0.17591882, -1.64547552, -0.95654493, -3.05004844,\n",
       "         0.78720806,  1.26743833, -2.16897599,  1.68246589,  2.25166185,\n",
       "        -1.27190516,  0.0376218 , -1.13085689, -0.27638796, -1.56827532,\n",
       "         1.32096876,  0.43392381, -0.60561936,  0.49527385, -0.8721549 ,\n",
       "         1.04815922,  0.67096806,  0.10833991,  0.41838624,  0.65718287,\n",
       "         3.40740684, -0.05269986,  0.23114216,  0.23102928,  1.33802257,\n",
       "         1.01219042,  0.78519011,  0.51937069,  1.22706774,  0.24185325,\n",
       "        -0.56769079,  0.34524747,  1.26343153, -0.38455482,  0.85375556,\n",
       "         0.64681524,  0.0940481 ,  1.27694372,  1.70496879, -2.55317811,\n",
       "        -1.04986478, -0.08058785,  0.22691957,  0.78471688,  1.13471372,\n",
       "        -0.25407341,  0.61757423, -1.86008612, -0.06926867,  0.71622771,\n",
       "         1.4440553 ,  0.95045492, -2.01089501,  2.07460099, -0.57731448,\n",
       "        -0.34633627, -0.33341473, -0.6927979 , -0.07862864,  0.41905469,\n",
       "         0.50619967,  1.2107255 ,  1.04635578, -1.34367363,  1.71894387,\n",
       "        -0.76598773, -0.54569257,  0.80300336, -0.07317228,  1.98112498,\n",
       "        -0.02474709,  1.49979105, -0.45019401,  0.08086887, -1.22247781,\n",
       "         0.92705197,  1.3950333 ,  0.30065619, -0.8328894 ,  0.1863716 ,\n",
       "         0.0539555 ,  0.73264518, -0.10460832, -0.59837163, -0.4012499 ,\n",
       "         0.36589125, -0.75869858,  0.17700576,  0.11355858,  0.70962341,\n",
       "        -0.30723049,  0.1566007 , -0.16747248, -0.97649481,  0.27657392,\n",
       "        -0.15456779, -0.75386612,  0.20094091]])"
      ]
     },
     "execution_count": 8,
     "metadata": {},
     "output_type": "execute_result"
    }
   ],
   "source": [
    "jack_v=imgg.reshape((1,4096))\n",
    "jack_v=pca.transform(jack_v)\n",
    "jack_v"
   ]
  },
  {
   "cell_type": "markdown",
   "metadata": {
    "colab_type": "text",
    "id": "12YCO4tXSvFo"
   },
   "source": []
  },
  {
   "cell_type": "code",
   "execution_count": 96,
   "metadata": {
    "colab": {
     "base_uri": "https://localhost:8080/",
     "height": 705
    },
    "colab_type": "code",
    "id": "tIyBOKxxnwSo",
    "outputId": "ed26cfdc-989f-46ad-c972-c61accbd781d"
   },
   "outputs": [
    {
     "data": {
      "text/plain": [
       "array([[-5.2929525 , -1.5425124 ,  0.22595194,  1.1112503 ,  2.6400912 ,\n",
       "        -1.6745476 ,  2.2322075 , -3.189351  , -1.5655308 ,  0.59996134,\n",
       "        -1.7151495 , -0.16591696,  0.4970359 , -0.86192477,  0.9656306 ,\n",
       "         0.9479124 ,  1.1049331 , -0.6467361 , -0.10121005, -0.42004693,\n",
       "         0.7441404 ,  0.6995279 ,  1.103221  ,  0.6751483 ,  0.793377  ,\n",
       "        -1.1867152 , -0.85737795, -0.1607919 , -0.46297628, -0.5445219 ,\n",
       "         0.13814478, -0.1545853 , -0.50338   ,  0.51561177, -0.00551234,\n",
       "        -0.1744085 , -0.5927983 ,  0.13149552, -0.10844349, -0.52997035,\n",
       "         0.65881485, -1.1127976 ,  0.12014535,  0.4667797 , -0.5515818 ,\n",
       "        -1.3720096 ,  0.32149208,  0.07247316,  0.3286312 , -0.56728625,\n",
       "         0.84438246,  0.6419614 ,  0.2378642 , -0.2218572 , -0.09360744,\n",
       "        -0.27990124,  0.42502025,  0.043378  , -0.4806664 ,  0.12716523,\n",
       "         0.24411297,  0.7435645 , -0.01808821,  0.01368186, -0.23362261,\n",
       "         0.1765874 ,  0.00763856, -0.12984902,  0.28889027,  0.26489407,\n",
       "        -0.27612734, -0.35071668,  0.16772236, -0.47392097, -0.15341866,\n",
       "         0.19482028,  0.14926836,  0.2708521 , -0.08536538, -0.14723979,\n",
       "         0.16099149,  0.02058938, -0.1218826 ,  0.32475594, -0.55537   ,\n",
       "        -0.20918947, -0.04097224, -0.04683071,  0.21990748, -0.08902659,\n",
       "         0.22888589,  0.33580342, -0.29091832, -0.52403796,  0.16520259,\n",
       "        -0.37032482,  0.04882554,  0.04298588, -0.10608794, -0.2502896 ,\n",
       "         0.13441703,  0.03864072,  0.28701422, -0.1727922 ,  0.03691545,\n",
       "        -0.04731353,  0.02561268, -0.14307699, -0.11748459,  0.0956009 ,\n",
       "         0.21178257,  0.80734915, -0.30337203, -0.19343238, -0.12453169,\n",
       "         0.14353159,  0.2382364 ,  0.07431991, -0.2569049 , -0.05503816,\n",
       "         0.19787614,  0.10455021,  0.5208771 ,  0.21119899, -0.12335797,\n",
       "        -0.05574616,  0.07009008, -0.08083315]], dtype=float32)"
      ]
     },
     "execution_count": 96,
     "metadata": {
      "tags": []
     },
     "output_type": "execute_result"
    },
    {
     "data": {
      "image/png": "[encoded data removed]",
      "text/plain": [
       "<Figure size 432x288 with 1 Axes>"
      ]
     },
     "metadata": {
      "tags": []
     },
     "output_type": "display_data"
    }
   ],
   "source": [
    "alguem=X[2]\n",
    "plt.gray()\n",
    "plt.imshow(alguem.reshape((64,64)))\n",
    "alguem_v=pca.transform(alguem.reshape(1,4096))\n",
    "alguem_v"
   ]
  },
  {
   "cell_type": "code",
   "execution_count": 97,
   "metadata": {
    "colab": {
     "base_uri": "https://localhost:8080/",
     "height": 990
    },
    "colab_type": "code",
    "id": "manrd2XmwYcj",
    "outputId": "d5410e56-a42c-4e98-ab8a-b0d07957e2d8"
   },
   "outputs": [
    {
     "data": {
      "text/plain": [
       "array([[ 3.24640746e+00,  2.77688904e-01, -3.05000110e+00,\n",
       "         4.94847424e-01,  3.17109990e+00, -4.69204722e-01,\n",
       "        -4.69765400e-01, -1.71035408e+00, -1.44689973e+00,\n",
       "         8.46193308e-01,  4.99432245e+00, -3.61300873e-01,\n",
       "         2.83583151e+00,  3.41948533e+00, -4.80974520e+00,\n",
       "         1.50397318e+00, -1.00774524e+00,  9.90292473e-01,\n",
       "         4.80993108e+00, -5.46967822e-01, -5.25376417e-01,\n",
       "        -5.98298339e-02,  9.26395854e-01, -1.13860342e+00,\n",
       "         9.98927847e-01,  5.77714995e-01, -2.22081338e+00,\n",
       "        -1.46305729e+00, -1.59467360e-01, -1.79340755e+00,\n",
       "        -1.95225043e-01,  1.77224361e+00, -1.14522142e+00,\n",
       "         2.46028501e+00,  1.18409787e-01, -1.01149785e+00,\n",
       "        -3.77884577e-01, -3.48219837e+00, -1.73823693e+00,\n",
       "        -6.20431116e-01, -1.20889026e+00,  2.30179715e-01,\n",
       "         2.68426967e-01,  3.75521926e-01, -3.14829461e-01,\n",
       "        -6.24985700e-01,  3.43719061e-03,  5.30762976e-01,\n",
       "         1.37707558e+00,  8.17110626e-01,  2.20502525e+00,\n",
       "         8.91935617e-01, -1.09956283e+00, -7.61009198e-01,\n",
       "         6.62365663e-01,  1.85352303e+00,  7.91493429e-01,\n",
       "        -3.45235120e-01,  1.05748806e+00, -8.67286060e-01,\n",
       "        -4.46060923e-01,  4.68245751e-01,  3.05550106e-01,\n",
       "        -7.15743669e-01, -5.04578248e-01,  4.19426315e-01,\n",
       "         1.27163837e+00,  6.79996459e-01,  1.76974133e-02,\n",
       "        -6.64553203e-01,  9.40949082e-02, -6.69918519e-01,\n",
       "        -8.15592361e-01,  5.05097333e-01, -9.80664486e-03,\n",
       "         4.98837552e-01,  1.25587726e+00, -5.68156821e-01,\n",
       "        -3.33260128e-01,  8.54229890e-01,  9.14646574e-01,\n",
       "         2.65291105e-01, -2.62511699e+00,  4.71781890e-01,\n",
       "        -7.17287317e-02, -5.77876647e-01, -5.27349217e-01,\n",
       "        -1.08290481e+00, -2.04767352e-01,  7.07930880e-01,\n",
       "         2.74477534e-01,  1.41631387e-01,  2.95216201e-01,\n",
       "         5.41995971e-01, -5.08095541e-01,  1.10845943e+00,\n",
       "         1.30795153e+00,  4.58889824e-01,  2.23824922e-01,\n",
       "         3.00096553e-01,  7.65974574e-02, -1.51908956e+00,\n",
       "         3.91443141e-01, -9.33394676e-01, -1.24283801e+00,\n",
       "         4.41969278e-01, -4.57140170e-01,  2.28837862e-01,\n",
       "        -1.56572456e-01,  9.76764931e-01, -3.14617374e-01,\n",
       "         9.40603009e-01,  2.74579460e-01, -6.99452560e-01,\n",
       "        -7.20463616e-01, -2.83609593e-02, -3.34860891e-01,\n",
       "         5.74078866e-01,  3.83620988e-01, -3.21344506e-01,\n",
       "         2.76208463e-01, -4.52680409e-01,  1.98148014e-01,\n",
       "        -2.11371867e-01, -7.04600014e-01, -1.87375298e-01,\n",
       "        -3.18875037e-01,  4.17050434e-01]])"
      ]
     },
     "execution_count": 97,
     "metadata": {
      "tags": []
     },
     "output_type": "execute_result"
    },
    {
     "data": {
      "image/png": "[encoded data removed]",
      "text/plain": [
       "<Figure size 432x288 with 1 Axes>"
      ]
     },
     "metadata": {
      "tags": []
     },
     "output_type": "display_data"
    }
   ],
   "source": [
    "img2=cv2.imread('jack2.jpg',)\n",
    "imgg2 = cv2.cvtColor(img2, cv2.COLOR_BGR2GRAY)\n",
    "imgg2=cv2.resize(imgg2,(64,64))\n",
    "plt.imshow(imgg2)\n",
    "imgg2=imgg2/255\n",
    "jack2_v=imgg2.reshape((1,4096))\n",
    "jack2_v=pca.transform(jack2_v)\n",
    "jack2_v"
   ]
  },
  {
   "cell_type": "code",
   "execution_count": 89,
   "metadata": {
    "colab": {
     "base_uri": "https://localhost:8080/",
     "height": 34
    },
    "colab_type": "code",
    "id": "BaB_KCmTyFqe",
    "outputId": "47332a3d-3422-440c-b232-d83bd2530665"
   },
   "outputs": [
    {
     "data": {
      "text/plain": [
       "(11.351676462381445, 16.78460480252204)"
      ]
     },
     "execution_count": 89,
     "metadata": {
      "tags": []
     },
     "output_type": "execute_result"
    }
   ],
   "source": [
    "np.linalg.norm(jack2_v-jack_v),np.linalg.norm(jack2_v-alguem_v)"
   ]
  }
 ],
 "metadata": {
  "colab": {
   "name": "eigfaces1.ipynb",
   "provenance": []
  },
  "kernelspec": {
   "display_name": "Python 3",
   "language": "python",
   "name": "python3"
  },
  "language_info": {
   "codemirror_mode": {
    "name": "ipython",
    "version": 3
   },
   "file_extension": ".py",
   "mimetype": "text/x-python",
   "name": "python",
   "nbconvert_exporter": "python",
   "pygments_lexer": "ipython3",
   "version": "3.8.5"
  }
 },
 "nbformat": 4,
 "nbformat_minor": 1
}
