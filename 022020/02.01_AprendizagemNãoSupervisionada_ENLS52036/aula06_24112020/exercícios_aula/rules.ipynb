{
 "cells": [
  {
   "cell_type": "code",
   "execution_count": 1,
   "metadata": {
    "colab": {},
    "colab_type": "code",
    "id": "AVLE43kDxR9u"
   },
   "outputs": [],
   "source": [
    "trans=[['cerveja', 'pão', 'carne'],\n",
    " ['vinho', 'queijo'],\n",
    " ['cerveja', 'carne'],\n",
    " ['vinho', 'pão', 'carne'],\n",
    " ['pão', 'carne'],\n",
    " ['cerveja', 'vinho', 'pão', 'carne'],\n",
    " ['pão', 'vinho'],\n",
    " ['cerveja', 'carne'],\n",
    " ['cerveja', 'carne'],\n",
    " ['vinho', 'pão']]\n"
   ]
  },
  {
   "cell_type": "code",
   "execution_count": 5,
   "metadata": {},
   "outputs": [
    {
     "data": {
      "text/plain": [
       "10"
      ]
     },
     "execution_count": 5,
     "metadata": {},
     "output_type": "execute_result"
    }
   ],
   "source": [
    "len(trans)"
   ]
  },
  {
   "cell_type": "code",
   "execution_count": 11,
   "metadata": {
    "colab": {},
    "colab_type": "code",
    "id": "4icYtQWQx8s-"
   },
   "outputs": [],
   "source": [
    "#função que calcula suporte \n",
    "def suporte(lista,transacoes):\n",
    "    #desenvolver\n",
    "    s=set(lista)\n",
    "    cont = 0\n",
    "    for i in range(len(transacoes)):\n",
    "        if s.issubset(set(transacoes[i])):\n",
    "            cont += 1\n",
    "    \n",
    "    return cont/len(transacoes)"
   ]
  },
  {
   "cell_type": "code",
   "execution_count": 12,
   "metadata": {},
   "outputs": [
    {
     "data": {
      "text/plain": [
       "0.4"
      ]
     },
     "execution_count": 12,
     "metadata": {},
     "output_type": "execute_result"
    }
   ],
   "source": [
    "suporte(['pão', 'carne'], trans)"
   ]
  },
  {
   "cell_type": "code",
   "execution_count": 26,
   "metadata": {
    "colab": {},
    "colab_type": "code",
    "id": "I3dCaHf7zjhR"
   },
   "outputs": [],
   "source": [
    "def confianca(listax,listay,transacoes):\n",
    "  #desenvolver\n",
    "  return suporte(listax + listay, transacoes) / (suporte(listax, transacoes))"
   ]
  },
  {
   "cell_type": "code",
   "execution_count": 27,
   "metadata": {},
   "outputs": [
    {
     "data": {
      "text/plain": [
       "0.8"
      ]
     },
     "execution_count": 27,
     "metadata": {},
     "output_type": "execute_result"
    }
   ],
   "source": [
    "confianca(['vinho'], ['vinho', 'pão'], trans)"
   ]
  },
  {
   "cell_type": "code",
   "execution_count": 28,
   "metadata": {
    "colab": {},
    "colab_type": "code",
    "id": "j7KsL92k27sM"
   },
   "outputs": [],
   "source": [
    "def lift(listax,listay,transacoes):\n",
    "  #desenvolver\n",
    "    return suporte(listax + listay, transacoes) / (suporte(listax, transacoes) * suporte(listay, transacoes))"
   ]
  },
  {
   "cell_type": "code",
   "execution_count": 29,
   "metadata": {
    "colab": {},
    "colab_type": "code",
    "id": "C9olGtxm5OMp"
   },
   "outputs": [
    {
     "data": {
      "text/plain": [
       "1.3333333333333335"
      ]
     },
     "execution_count": 29,
     "metadata": {},
     "output_type": "execute_result"
    }
   ],
   "source": [
    "lift(['vinho'],['pão'], trans)"
   ]
  },
  {
   "cell_type": "code",
   "execution_count": null,
   "metadata": {},
   "outputs": [],
   "source": []
  }
 ],
 "metadata": {
  "colab": {
   "name": "rules.ipynb",
   "provenance": []
  },
  "kernelspec": {
   "display_name": "Python 3",
   "language": "python",
   "name": "python3"
  },
  "language_info": {
   "codemirror_mode": {
    "name": "ipython",
    "version": 3
   },
   "file_extension": ".py",
   "mimetype": "text/x-python",
   "name": "python",
   "nbconvert_exporter": "python",
   "pygments_lexer": "ipython3",
   "version": "3.8.5"
  }
 },
 "nbformat": 4,
 "nbformat_minor": 1
}
