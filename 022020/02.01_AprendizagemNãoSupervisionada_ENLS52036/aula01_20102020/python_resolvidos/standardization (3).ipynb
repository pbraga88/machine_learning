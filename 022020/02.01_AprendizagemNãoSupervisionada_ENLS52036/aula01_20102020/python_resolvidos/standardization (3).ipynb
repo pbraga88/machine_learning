{
 "cells": [
  {
   "cell_type": "markdown",
   "metadata": {},
   "source": [
    "# Mack Aprendizado Não Supervisionado - Standardization"
   ]
  },
  {
   "cell_type": "markdown",
   "metadata": {},
   "source": [
    "Partiremos da lista salario (em milhares de reais), geraremos um array e depois faremos a standardização"
   ]
  },
  {
   "cell_type": "code",
   "execution_count": 1,
   "metadata": {},
   "outputs": [],
   "source": [
    "import numpy as np\n",
    "from sklearn.preprocessing import StandardScaler\n",
    "from sklearn.preprocessing import MinMaxScaler"
   ]
  },
  {
   "cell_type": "code",
   "execution_count": 3,
   "metadata": {},
   "outputs": [
    {
     "data": {
      "text/plain": [
       "array([[ 2. ],\n",
       "       [ 1. ],\n",
       "       [ 3. ],\n",
       "       [ 2. ],\n",
       "       [ 4. ],\n",
       "       [ 5. ],\n",
       "       [ 6. ],\n",
       "       [ 3. ],\n",
       "       [30. ],\n",
       "       [25. ],\n",
       "       [33. ],\n",
       "       [70. ],\n",
       "       [12. ],\n",
       "       [ 5. ],\n",
       "       [ 1.5],\n",
       "       [ 3. ],\n",
       "       [ 2. ]])"
      ]
     },
     "execution_count": 3,
     "metadata": {},
     "output_type": "execute_result"
    }
   ],
   "source": [
    "sal=[2,1,3,2,4,5,6,3,30,25,33,70,12,5,1.5,3,2,]\n",
    "sal_feat=np.array(sal)\n",
    "sal_feat=sal_feat.reshape(-1,1)\n",
    "sal_feat"
   ]
  },
  {
   "cell_type": "code",
   "execution_count": 5,
   "metadata": {},
   "outputs": [
    {
     "data": {
      "text/plain": [
       "(12.205882352941176, 17.60603073776427)"
      ]
     },
     "execution_count": 5,
     "metadata": {},
     "output_type": "execute_result"
    }
   ],
   "source": [
    "#Cálculo da média e desvio padrão da feature\n",
    "m=sal_feat.mean()\n",
    "d=sal_feat.std()\n",
    "m,d"
   ]
  },
  {
   "cell_type": "markdown",
   "metadata": {},
   "source": [
    "Obter o array sal_s, standardizado"
   ]
  },
  {
   "cell_type": "code",
   "execution_count": 6,
   "metadata": {},
   "outputs": [],
   "source": [
    "sal_feat_s=(sal_feat-m)/d"
   ]
  },
  {
   "cell_type": "code",
   "execution_count": 7,
   "metadata": {},
   "outputs": [
    {
     "data": {
      "text/plain": [
       "array([[-0.57968105],\n",
       "       [-0.63647977],\n",
       "       [-0.52288233],\n",
       "       [-0.57968105],\n",
       "       [-0.46608361],\n",
       "       [-0.40928489],\n",
       "       [-0.35248617],\n",
       "       [-0.52288233],\n",
       "       [ 1.0106831 ],\n",
       "       [ 0.7266895 ],\n",
       "       [ 1.18107925],\n",
       "       [ 3.28263187],\n",
       "       [-0.01169385],\n",
       "       [-0.40928489],\n",
       "       [-0.60808041],\n",
       "       [-0.52288233],\n",
       "       [-0.57968105]])"
      ]
     },
     "execution_count": 7,
     "metadata": {},
     "output_type": "execute_result"
    }
   ],
   "source": [
    "sal_feat_s\n"
   ]
  },
  {
   "cell_type": "markdown",
   "metadata": {},
   "source": [
    "Apresente a média e desvio padrão da feature standardizada"
   ]
  },
  {
   "cell_type": "code",
   "execution_count": 8,
   "metadata": {},
   "outputs": [
    {
     "data": {
      "text/plain": [
       "(5.224578939412501e-17, 1.0)"
      ]
     },
     "execution_count": 8,
     "metadata": {},
     "output_type": "execute_result"
    }
   ],
   "source": [
    "sal_feat_s.mean(),sal_feat_s.std()"
   ]
  },
  {
   "cell_type": "markdown",
   "metadata": {},
   "source": [
    "Agora usando o sklearn"
   ]
  },
  {
   "cell_type": "code",
   "execution_count": 9,
   "metadata": {},
   "outputs": [
    {
     "data": {
      "text/plain": [
       "array([[-0.57968105],\n",
       "       [-0.63647977],\n",
       "       [-0.52288233],\n",
       "       [-0.57968105],\n",
       "       [-0.46608361],\n",
       "       [-0.40928489],\n",
       "       [-0.35248617],\n",
       "       [-0.52288233],\n",
       "       [ 1.0106831 ],\n",
       "       [ 0.7266895 ],\n",
       "       [ 1.18107925],\n",
       "       [ 3.28263187],\n",
       "       [-0.01169385],\n",
       "       [-0.40928489],\n",
       "       [-0.60808041],\n",
       "       [-0.52288233],\n",
       "       [-0.57968105]])"
      ]
     },
     "execution_count": 9,
     "metadata": {},
     "output_type": "execute_result"
    }
   ],
   "source": [
    "scaler = StandardScaler()\n",
    "scaler.fit(sal_feat)\n",
    "sal_feat_2=scaler.transform(sal_feat)\n",
    "sal_feat_2"
   ]
  },
  {
   "cell_type": "markdown",
   "metadata": {
    "collapsed": true
   },
   "source": [
    "Faremos o scaler min max (de -1 a 1), ainda com sklearm\n"
   ]
  },
  {
   "cell_type": "code",
   "execution_count": 10,
   "metadata": {},
   "outputs": [
    {
     "data": {
      "text/plain": [
       "array([[-0.97101449],\n",
       "       [-1.        ],\n",
       "       [-0.94202899],\n",
       "       [-0.97101449],\n",
       "       [-0.91304348],\n",
       "       [-0.88405797],\n",
       "       [-0.85507246],\n",
       "       [-0.94202899],\n",
       "       [-0.15942029],\n",
       "       [-0.30434783],\n",
       "       [-0.07246377],\n",
       "       [ 1.        ],\n",
       "       [-0.68115942],\n",
       "       [-0.88405797],\n",
       "       [-0.98550725],\n",
       "       [-0.94202899],\n",
       "       [-0.97101449]])"
      ]
     },
     "execution_count": 10,
     "metadata": {},
     "output_type": "execute_result"
    }
   ],
   "source": [
    "mmscaler=MinMaxScaler((-1,1))\n",
    "mmscaler.fit(sal_feat)\n",
    "sal_feat_mm=mmscaler.transform(sal_feat)\n",
    "sal_feat_mm"
   ]
  },
  {
   "cell_type": "code",
   "execution_count": null,
   "metadata": {},
   "outputs": [],
   "source": []
  }
 ],
 "metadata": {
  "kernelspec": {
   "display_name": "Python 3",
   "language": "python",
   "name": "python3"
  },
  "language_info": {
   "codemirror_mode": {
    "name": "ipython",
    "version": 3
   },
   "file_extension": ".py",
   "mimetype": "text/x-python",
   "name": "python",
   "nbconvert_exporter": "python",
   "pygments_lexer": "ipython3",
   "version": "3.7.6"
  }
 },
 "nbformat": 4,
 "nbformat_minor": 2
}
