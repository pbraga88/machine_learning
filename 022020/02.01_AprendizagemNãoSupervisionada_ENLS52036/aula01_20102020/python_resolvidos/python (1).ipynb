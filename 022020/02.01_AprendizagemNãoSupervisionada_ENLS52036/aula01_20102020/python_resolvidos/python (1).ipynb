{
 "cells": [
  {
   "cell_type": "markdown",
   "metadata": {},
   "source": [
    "# Mack Aprendizado Não Supervisionado - Revisão Python"
   ]
  },
  {
   "cell_type": "markdown",
   "metadata": {},
   "source": [
    "1)<b>Listas</b><br/>\n",
    "a)Partindo da lista l1, obtenha o tamanho dela<br/>\n",
    "b)Faça o \"append\" do elemento 5<br/>\n",
    "c)Slice: obtenha a lista l2 tirando do segundo ao quinto elemento de l1"
   ]
  },
  {
   "cell_type": "code",
   "execution_count": 3,
   "metadata": {},
   "outputs": [
    {
     "data": {
      "text/plain": [
       "[2, 'banana', [9, 8, 7], 3.3]"
      ]
     },
     "execution_count": 3,
     "metadata": {},
     "output_type": "execute_result"
    }
   ],
   "source": [
    "l1=[1,2,'banana',[9,8,7],3.3,19,35]\n",
    "l1.append(5)\n",
    "l2=l1[1:5]\n",
    "l2"
   ]
  },
  {
   "cell_type": "code",
   "execution_count": 13,
   "metadata": {},
   "outputs": [
    {
     "data": {
      "text/plain": [
       "[1, 2, 3, 4, 5, 6]"
      ]
     },
     "execution_count": 13,
     "metadata": {},
     "output_type": "execute_result"
    }
   ],
   "source": [
    "l=[1,2,3]+[4,5,6]\n",
    "l"
   ]
  },
  {
   "cell_type": "markdown",
   "metadata": {},
   "source": [
    "2)<b>Laços</b><br/>\n",
    "a)Faça um laço que apresentará todos os elementos de l1<br/>\n",
    "b)Faça o mesmo laço com um índice de 0 ao tamanho da lista-1"
   ]
  },
  {
   "cell_type": "code",
   "execution_count": 16,
   "metadata": {},
   "outputs": [
    {
     "name": "stdout",
     "output_type": "stream",
     "text": [
      "1\n",
      "2\n",
      "banana\n",
      "[9, 8, 7]\n",
      "3.3\n",
      "19\n",
      "35\n"
     ]
    }
   ],
   "source": [
    "l1=[1,2,'banana',[9,8,7],3.3,19,35]\n",
    "for i in range(len(l1)):\n",
    "    print(l1[i])"
   ]
  },
  {
   "cell_type": "markdown",
   "metadata": {},
   "source": [
    "3)<b>Decisões</b><br/>\n",
    "a)Partindo de l3, crie a lista l4 com os elementos de l1 menores que a média"
   ]
  },
  {
   "cell_type": "code",
   "execution_count": 17,
   "metadata": {},
   "outputs": [
    {
     "data": {
      "text/plain": [
       "(9.75, [2, 5, 4, 8, 9])"
      ]
     },
     "execution_count": 17,
     "metadata": {},
     "output_type": "execute_result"
    }
   ],
   "source": [
    "l3=[2,5,4,8,9,12,21,17]\n",
    "l4=[]\n",
    "media=sum(l3)/len(l3)\n",
    "for e in l3:\n",
    "    if e<media:l4.append(e)\n",
    "\n",
    "media,l4\n",
    "\n",
    "\n",
    "\n",
    "#coloque o código aqui"
   ]
  },
  {
   "cell_type": "markdown",
   "metadata": {},
   "source": [
    "<b>4)Dicionários</b><br/>\n",
    "a)O dicionário d1, traz (para cada nome), as notas nos 2 semestres. Apresente a média de cada um."
   ]
  },
  {
   "cell_type": "code",
   "execution_count": 18,
   "metadata": {},
   "outputs": [
    {
     "data": {
      "text/plain": [
       "{'carlos': [7, 8],\n",
       " 'maria': [9, 10],\n",
       " 'nelson': [10, 8],\n",
       " 'paula': [8, 10],\n",
       " 'marcelo': [10, 10]}"
      ]
     },
     "execution_count": 18,
     "metadata": {},
     "output_type": "execute_result"
    }
   ],
   "source": [
    "d1={'carlos':[7,8],'maria':[9,10],'nelson':[10,8],'paula':[8,10]}\n",
    "#coloque o código aqui\n",
    "d1['marcelo']=[10,10]\n",
    "d1"
   ]
  },
  {
   "cell_type": "code",
   "execution_count": 19,
   "metadata": {},
   "outputs": [
    {
     "name": "stdout",
     "output_type": "stream",
     "text": [
      "carlos 7.5\n",
      "maria 9.5\n",
      "nelson 9.0\n",
      "paula 9.0\n",
      "marcelo 10.0\n"
     ]
    }
   ],
   "source": [
    "for k in d1:\n",
    "    print(k,0.5*(d1[k][0]+d1[k][1]))"
   ]
  },
  {
   "cell_type": "markdown",
   "metadata": {},
   "source": [
    "5)<b>Tuplas e Conjuntos</b><br/>\n",
    "a)Tente alterar o primeiro elemento da tupla t1...é possível? Por que?<br/>\n",
    "b)Crie um novo conjunto s1, com os elementos não repetidos da lista l5"
   ]
  },
  {
   "cell_type": "code",
   "execution_count": 21,
   "metadata": {},
   "outputs": [],
   "source": [
    "t1=(2,4,1,4)\n",
    "l5=[4,4,2,2,1,4,7,8,2]"
   ]
  },
  {
   "cell_type": "code",
   "execution_count": 23,
   "metadata": {},
   "outputs": [
    {
     "data": {
      "text/plain": [
       "[1, 2, 4, 7, 8]"
      ]
     },
     "execution_count": 23,
     "metadata": {},
     "output_type": "execute_result"
    }
   ],
   "source": [
    "s1=set(l5)\n",
    "l5u=list(s1)\n",
    "l5u"
   ]
  },
  {
   "cell_type": "code",
   "execution_count": null,
   "metadata": {},
   "outputs": [],
   "source": []
  }
 ],
 "metadata": {
  "kernelspec": {
   "display_name": "Python 3",
   "language": "python",
   "name": "python3"
  },
  "language_info": {
   "codemirror_mode": {
    "name": "ipython",
    "version": 3
   },
   "file_extension": ".py",
   "mimetype": "text/x-python",
   "name": "python",
   "nbconvert_exporter": "python",
   "pygments_lexer": "ipython3",
   "version": "3.7.6"
  }
 },
 "nbformat": 4,
 "nbformat_minor": 2
}
