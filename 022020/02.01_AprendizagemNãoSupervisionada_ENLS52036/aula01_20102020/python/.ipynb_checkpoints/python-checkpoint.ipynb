{
 "cells": [
  {
   "cell_type": "markdown",
   "metadata": {},
   "source": [
    "# Mack Aprendizado Não Supervisionado - Revisão Python"
   ]
  },
  {
   "cell_type": "markdown",
   "metadata": {},
   "source": [
    "1)<b>Listas</b><br/>\n",
    "a)Partindo da lista l1, obtenha o tamanho dela<br/>\n",
    "b)Faça o \"append\" do elemento 5<br/>\n",
    "c)Slice: obtenha a lista l2 tirando do segundo ao quinto elemento de l1"
   ]
  },
  {
   "cell_type": "code",
   "execution_count": 7,
   "metadata": {},
   "outputs": [
    {
     "name": "stdout",
     "output_type": "stream",
     "text": [
      "Tamanho = 7\n"
     ]
    }
   ],
   "source": [
    "l1=[1,2,'banana',[9,8,7],3.3,19,35]\n",
    "#coloque o código aqui\n",
    "l1\n",
    "\n",
    "# a)\n",
    "print(\"Tamanho =\",len(l1))"
   ]
  },
  {
   "cell_type": "code",
   "execution_count": 13,
   "metadata": {},
   "outputs": [
    {
     "name": "stdout",
     "output_type": "stream",
     "text": [
      "[2, 'banana', [9, 8, 7], 3.3]\n"
     ]
    }
   ],
   "source": [
    "# b)\n",
    "l1.append(5)\n",
    "\n",
    "# c)\n",
    "l2 = l1[1:5]\n",
    "print(l2)"
   ]
  },
  {
   "cell_type": "markdown",
   "metadata": {},
   "source": [
    "2)<b>Laços</b><br/>\n",
    "a)Faça um laço que apresentará todos os elementos de l1<br/>\n",
    "b)Faça o mesmo laço com um índice de 0 ao tamanho da lista-1"
   ]
  },
  {
   "cell_type": "code",
   "execution_count": 14,
   "metadata": {},
   "outputs": [
    {
     "name": "stdout",
     "output_type": "stream",
     "text": [
      "1\n",
      "2\n",
      "banana\n",
      "[9, 8, 7]\n",
      "3.3\n",
      "19\n",
      "35\n"
     ]
    }
   ],
   "source": [
    "l1=[1,2,'banana',[9,8,7],3.3,19,35]\n",
    "\n",
    "# a)\n",
    "for i in l1:\n",
    "    print(i)\n",
    "#coloque o código aqui"
   ]
  },
  {
   "cell_type": "code",
   "execution_count": 15,
   "metadata": {},
   "outputs": [
    {
     "name": "stdout",
     "output_type": "stream",
     "text": [
      "0\n",
      "1\n",
      "2\n",
      "3\n",
      "4\n",
      "5\n"
     ]
    }
   ],
   "source": [
    "# b)\n",
    "for i in range(len(l1)-1):\n",
    "    print(l1[i])"
   ]
  },
  {
   "cell_type": "markdown",
   "metadata": {},
   "source": [
    "3)<b>Decisões</b><br/>\n",
    "a)Partindo de l3, crie a lista l4 com os elementos de l1 menores que a média"
   ]
  },
  {
   "cell_type": "code",
   "execution_count": null,
   "metadata": {
    "collapsed": true
   },
   "outputs": [],
   "source": [
    "l3=[2,5,4,8,9,12,21,17]\n",
    "#coloque o código aqui"
   ]
  },
  {
   "cell_type": "markdown",
   "metadata": {},
   "source": [
    "<b>4)Dicionários</b><br/>\n",
    "a)O dicionário d1, traz (para cada nome), as notas nos 2 semestres. Apresente a média de cada um."
   ]
  },
  {
   "cell_type": "code",
   "execution_count": 6,
   "metadata": {
    "collapsed": true
   },
   "outputs": [
    {
     "name": "stdout",
     "output_type": "stream",
     "text": [
      "carlos 7.5\n",
      "maria 9.5\n",
      "nelson 9.0\n",
      "paula 9.0\n"
     ]
    }
   ],
   "source": [
    "d1={'carlos':[7,8],'maria':[9,10],'nelson':[10,8],'paula':[8,10]}\n",
    "#coloque o código aqui\n"
   ]
  },
  {
   "cell_type": "markdown",
   "metadata": {},
   "source": [
    "5)<b>Tuplas e Conjuntos</b><br/>\n",
    "a)Tente alterar o primeiro elemento da tupla t1...é possível? Por que?<br/>\n",
    "b)Crie um novo conjunto s1, com os elementos não repetidos da lista l5"
   ]
  },
  {
   "cell_type": "code",
   "execution_count": 7,
   "metadata": {
    "collapsed": true
   },
   "outputs": [],
   "source": [
    "t1=(2,4,1,4)\n",
    "l5=[4,4,2,2,1,4,7,8,2]"
   ]
  },
  {
   "cell_type": "code",
   "execution_count": null,
   "metadata": {
    "collapsed": true
   },
   "outputs": [],
   "source": []
  }
 ],
 "metadata": {
  "kernelspec": {
   "display_name": "Python 3",
   "language": "python",
   "name": "python3"
  },
  "language_info": {
   "codemirror_mode": {
    "name": "ipython",
    "version": 3
   },
   "file_extension": ".py",
   "mimetype": "text/x-python",
   "name": "python",
   "nbconvert_exporter": "python",
   "pygments_lexer": "ipython3",
   "version": "3.6.9"
  }
 },
 "nbformat": 4,
 "nbformat_minor": 2
}
