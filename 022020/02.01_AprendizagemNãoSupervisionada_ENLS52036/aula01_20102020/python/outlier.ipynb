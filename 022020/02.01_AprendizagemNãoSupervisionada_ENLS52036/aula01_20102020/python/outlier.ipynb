{
 "cells": [
  {
   "cell_type": "markdown",
   "metadata": {},
   "source": [
    "# Mack Aprendizado Não Supervisionado - Outlier\n"
   ]
  },
  {
   "cell_type": "markdown",
   "metadata": {},
   "source": [
    "Criaremos um índice pela distância ao centróide das features standardizadas"
   ]
  },
  {
   "cell_type": "code",
   "execution_count": 1,
   "metadata": {},
   "outputs": [],
   "source": [
    "import numpy as np\n",
    "import pandas as pd\n",
    "from sklearn.preprocessing import StandardScaler\n"
   ]
  },
  {
   "cell_type": "code",
   "execution_count": 3,
   "metadata": {},
   "outputs": [
    {
     "data": {
      "text/html": [
       "<div>\n",
       "<style scoped>\n",
       "    .dataframe tbody tr th:only-of-type {\n",
       "        vertical-align: middle;\n",
       "    }\n",
       "\n",
       "    .dataframe tbody tr th {\n",
       "        vertical-align: top;\n",
       "    }\n",
       "\n",
       "    .dataframe thead th {\n",
       "        text-align: right;\n",
       "    }\n",
       "</style>\n",
       "<table border=\"1\" class=\"dataframe\">\n",
       "  <thead>\n",
       "    <tr style=\"text-align: right;\">\n",
       "      <th></th>\n",
       "      <th>Jogador</th>\n",
       "      <th>Passes Errados</th>\n",
       "      <th>Passes Certos</th>\n",
       "      <th>Desarmes</th>\n",
       "      <th>Assistências</th>\n",
       "      <th>Gols</th>\n",
       "    </tr>\n",
       "  </thead>\n",
       "  <tbody>\n",
       "    <tr>\n",
       "      <th>0</th>\n",
       "      <td>João</td>\n",
       "      <td>61</td>\n",
       "      <td>59</td>\n",
       "      <td>33</td>\n",
       "      <td>14</td>\n",
       "      <td>1</td>\n",
       "    </tr>\n",
       "    <tr>\n",
       "      <th>1</th>\n",
       "      <td>José</td>\n",
       "      <td>65</td>\n",
       "      <td>66</td>\n",
       "      <td>27</td>\n",
       "      <td>13</td>\n",
       "      <td>1</td>\n",
       "    </tr>\n",
       "    <tr>\n",
       "      <th>2</th>\n",
       "      <td>Paulo</td>\n",
       "      <td>58</td>\n",
       "      <td>66</td>\n",
       "      <td>40</td>\n",
       "      <td>14</td>\n",
       "      <td>3</td>\n",
       "    </tr>\n",
       "    <tr>\n",
       "      <th>3</th>\n",
       "      <td>Marcelo</td>\n",
       "      <td>67</td>\n",
       "      <td>79</td>\n",
       "      <td>20</td>\n",
       "      <td>18</td>\n",
       "      <td>0</td>\n",
       "    </tr>\n",
       "    <tr>\n",
       "      <th>4</th>\n",
       "      <td>Carlos</td>\n",
       "      <td>74</td>\n",
       "      <td>71</td>\n",
       "      <td>23</td>\n",
       "      <td>13</td>\n",
       "      <td>1</td>\n",
       "    </tr>\n",
       "    <tr>\n",
       "      <th>5</th>\n",
       "      <td>Antonio</td>\n",
       "      <td>79</td>\n",
       "      <td>69</td>\n",
       "      <td>42</td>\n",
       "      <td>15</td>\n",
       "      <td>3</td>\n",
       "    </tr>\n",
       "    <tr>\n",
       "      <th>6</th>\n",
       "      <td>Pereira</td>\n",
       "      <td>65</td>\n",
       "      <td>55</td>\n",
       "      <td>21</td>\n",
       "      <td>8</td>\n",
       "      <td>3</td>\n",
       "    </tr>\n",
       "    <tr>\n",
       "      <th>7</th>\n",
       "      <td>Jovelson</td>\n",
       "      <td>76</td>\n",
       "      <td>63</td>\n",
       "      <td>42</td>\n",
       "      <td>15</td>\n",
       "      <td>7</td>\n",
       "    </tr>\n",
       "    <tr>\n",
       "      <th>8</th>\n",
       "      <td>Sávio</td>\n",
       "      <td>65</td>\n",
       "      <td>70</td>\n",
       "      <td>19</td>\n",
       "      <td>13</td>\n",
       "      <td>6</td>\n",
       "    </tr>\n",
       "    <tr>\n",
       "      <th>9</th>\n",
       "      <td>Acalildo</td>\n",
       "      <td>47</td>\n",
       "      <td>56</td>\n",
       "      <td>24</td>\n",
       "      <td>10</td>\n",
       "      <td>5</td>\n",
       "    </tr>\n",
       "    <tr>\n",
       "      <th>10</th>\n",
       "      <td>Romevaldo</td>\n",
       "      <td>20</td>\n",
       "      <td>60</td>\n",
       "      <td>50</td>\n",
       "      <td>30</td>\n",
       "      <td>8</td>\n",
       "    </tr>\n",
       "    <tr>\n",
       "      <th>11</th>\n",
       "      <td>Grossi</td>\n",
       "      <td>80</td>\n",
       "      <td>2</td>\n",
       "      <td>1</td>\n",
       "      <td>0</td>\n",
       "      <td>0</td>\n",
       "    </tr>\n",
       "  </tbody>\n",
       "</table>\n",
       "</div>"
      ],
      "text/plain": [
       "      Jogador  Passes Errados  Passes Certos  Desarmes  Assistências  Gols\n",
       "0        João              61             59        33            14     1\n",
       "1        José              65             66        27            13     1\n",
       "2       Paulo              58             66        40            14     3\n",
       "3     Marcelo              67             79        20            18     0\n",
       "4      Carlos              74             71        23            13     1\n",
       "5     Antonio              79             69        42            15     3\n",
       "6     Pereira              65             55        21             8     3\n",
       "7    Jovelson              76             63        42            15     7\n",
       "8       Sávio              65             70        19            13     6\n",
       "9    Acalildo              47             56        24            10     5\n",
       "10  Romevaldo              20             60        50            30     8\n",
       "11     Grossi              80              2         1             0     0"
      ]
     },
     "execution_count": 3,
     "metadata": {},
     "output_type": "execute_result"
    }
   ],
   "source": [
    "df=pd.read_csv('romevaldo.csv',delimiter=';')\n",
    "df.head(20)"
   ]
  },
  {
   "cell_type": "code",
   "execution_count": 4,
   "metadata": {},
   "outputs": [
    {
     "data": {
      "text/plain": [
       "array([[-0.13182933, -0.03585462,  0.3479601 ,  0.06311944, -0.82055272],\n",
       "       [ 0.12128299,  0.34061887, -0.1159867 , -0.08836722, -0.82055272],\n",
       "       [-0.32166357,  0.34061887,  0.88923137,  0.06311944, -0.06311944],\n",
       "       [ 0.24783914,  1.03978391, -0.65725797,  0.66906607, -1.19926937],\n",
       "       [ 0.6907857 ,  0.6095285 , -0.42528457, -0.08836722, -0.82055272],\n",
       "       [ 1.0071761 ,  0.50196464,  1.04388031,  0.2146061 , -0.06311944],\n",
       "       [ 0.12128299, -0.25098232, -0.5799335 , -0.8458005 , -0.06311944],\n",
       "       [ 0.81734186,  0.17927309,  1.04388031,  0.2146061 ,  1.45174713],\n",
       "       [ 0.12128299,  0.55574657, -0.73458244, -0.08836722,  1.07303049],\n",
       "       [-1.01772244, -0.1972004 , -0.3479601 , -0.54282719,  0.69431384],\n",
       "       [-2.72623059,  0.01792731,  1.66247605,  2.48690595,  1.83046377],\n",
       "       [ 1.07045418, -3.10142441, -2.12642285, -2.05769375, -1.19926937]])"
      ]
     },
     "execution_count": 4,
     "metadata": {},
     "output_type": "execute_result"
    }
   ],
   "source": [
    "X=np.array(df.drop(labels='Jogador',axis=1))\n",
    "scaler = StandardScaler()\n",
    "scaler.fit(X)\n",
    "XS=scaler.transform(X)\n",
    "XS\n"
   ]
  },
  {
   "cell_type": "code",
   "execution_count": 5,
   "metadata": {},
   "outputs": [
    {
     "name": "stdout",
     "output_type": "stream",
     "text": [
      "João 0.9038980010277421\n",
      "José 0.9084598102762078\n",
      "Paulo 1.0090536300198938\n",
      "Marcelo 1.86023097174576\n",
      "Carlos 1.3079343928047225\n",
      "Antonio 1.551160254749107\n",
      "Pereira 1.0646065509596574\n",
      "Jovelson 1.9858243004249827\n",
      "Sávio 1.4221034985041465\n",
      "Acalildo 1.4044416226948884\n",
      "Romevaldo 4.442046829045298\n",
      "Grossi 4.57807058099874\n"
     ]
    }
   ],
   "source": [
    "for i in range(len(df)):\n",
    "    print(df.iloc[i,0], np.linalg.norm(XS[i]))"
   ]
  },
  {
   "cell_type": "code",
   "execution_count": null,
   "metadata": {},
   "outputs": [],
   "source": []
  }
 ],
 "metadata": {
  "kernelspec": {
   "display_name": "Python 3",
   "language": "python",
   "name": "python3"
  },
  "language_info": {
   "codemirror_mode": {
    "name": "ipython",
    "version": 3
   },
   "file_extension": ".py",
   "mimetype": "text/x-python",
   "name": "python",
   "nbconvert_exporter": "python",
   "pygments_lexer": "ipython3",
   "version": "3.6.9"
  }
 },
 "nbformat": 4,
 "nbformat_minor": 2
}
