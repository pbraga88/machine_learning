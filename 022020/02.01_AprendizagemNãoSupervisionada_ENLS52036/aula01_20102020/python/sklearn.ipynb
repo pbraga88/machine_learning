{
 "cells": [
  {
   "cell_type": "markdown",
   "metadata": {},
   "source": [
    "# Mack Aprendizado Não Supervisionado - Revisão sklearn\n"
   ]
  },
  {
   "cell_type": "code",
   "execution_count": 2,
   "metadata": {},
   "outputs": [],
   "source": [
    "import numpy as np\n",
    "from sklearn.linear_model import LogisticRegression\n",
    "from sklearn.metrics import accuracy_score\n",
    "import matplotlib.pyplot as plt\n",
    "from sklearn.cluster import KMeans"
   ]
  },
  {
   "cell_type": "code",
   "execution_count": 3,
   "metadata": {},
   "outputs": [],
   "source": [
    "#dataset idade renda clt ou não (1 ou 0) e tempo no trabalho..obviamente só para brinacdeira..poucas amostras\n",
    "X=[[20,2000,1,5],[30,3000,0,3],[25,8000,1,6],[42,12000,1,3],[18,1500,1,1],[39,7000,0,3],[20,6000,1,2],[33,7000,1,4]]\n",
    "#labels (inadimplente ou não... 1 ou 0)\n",
    "y=[0,1,0,1,1,0,0,0]\n",
    "X=np.array(X)\n",
    "y=np.array(y)"
   ]
  },
  {
   "cell_type": "code",
   "execution_count": 8,
   "metadata": {},
   "outputs": [
    {
     "data": {
      "text/plain": [
       "(array([0, 1, 0, 0, 1, 1, 0, 0]), 'Acurácia = ', 0.75)"
      ]
     },
     "execution_count": 8,
     "metadata": {},
     "output_type": "execute_result"
    }
   ],
   "source": [
    "#Vamos tentar classificá-los com regressão logística (aprendizado supervisionado)\n",
    "#criando o modelo\n",
    "lr=LogisticRegression(solver='lbfgs')\n",
    "#treinando\n",
    "lr.fit(X, y)\n",
    "#predição para a amostra toda\n",
    "yet = lr.predict(X)\n",
    "#acurácia no treinamento\n",
    "yet,\"Acurácia = \", 6/8"
   ]
  },
  {
   "cell_type": "code",
   "execution_count": 9,
   "metadata": {},
   "outputs": [
    {
     "data": {
      "text/plain": [
       "0.75"
      ]
     },
     "execution_count": 9,
     "metadata": {},
     "output_type": "execute_result"
    }
   ],
   "source": [
    "accuracy_score(y, yet)"
   ]
  },
  {
   "cell_type": "code",
   "execution_count": 11,
   "metadata": {},
   "outputs": [
    {
     "data": {
      "text/plain": [
       "array([0, 0, 2, 1, 0, 2, 2, 2], dtype=int32)"
      ]
     },
     "execution_count": 11,
     "metadata": {},
     "output_type": "execute_result"
    }
   ],
   "source": [
    "#Agora vamos supor que há 3 clusters de usuários...usando k-means..aprendizado NÃO supervisionado\n",
    "kmeans = KMeans(n_clusters=3, random_state=0).fit(X)#não entra o y\n",
    "#vamos apresentar os clusters só mexendo em salário e tempo de serviço (cada cluster de uma cor)\n",
    "kmeans.labels_ # Mostra os 3 clusters que foram criados\n"
   ]
  },
  {
   "cell_type": "code",
   "execution_count": 17,
   "metadata": {},
   "outputs": [
    {
     "data": {
      "image/png": "[encoded data removed]",
      "text/plain": [
       "<Figure size 432x288 with 1 Axes>"
      ]
     },
     "metadata": {
      "needs_background": "light"
     },
     "output_type": "display_data"
    }
   ],
   "source": [
    "cor = ['bo', 'ro', 'yo']\n",
    "\n",
    "for i in range(len(X)):\n",
    "    plt.plot(X[i,1], X[i,3], cor[kmeans.labels_[i]])\n",
    "plt.show()"
   ]
  },
  {
   "cell_type": "code",
   "execution_count": null,
   "metadata": {},
   "outputs": [],
   "source": []
  }
 ],
 "metadata": {
  "kernelspec": {
   "display_name": "Python 3",
   "language": "python",
   "name": "python3"
  },
  "language_info": {
   "codemirror_mode": {
    "name": "ipython",
    "version": 3
   },
   "file_extension": ".py",
   "mimetype": "text/x-python",
   "name": "python",
   "nbconvert_exporter": "python",
   "pygments_lexer": "ipython3",
   "version": "3.6.9"
  }
 },
 "nbformat": 4,
 "nbformat_minor": 2
}
