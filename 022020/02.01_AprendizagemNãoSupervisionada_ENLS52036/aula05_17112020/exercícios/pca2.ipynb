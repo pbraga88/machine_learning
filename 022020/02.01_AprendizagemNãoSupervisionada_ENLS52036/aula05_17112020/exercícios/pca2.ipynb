{
 "cells": [
  {
   "cell_type": "code",
   "execution_count": 1,
   "metadata": {},
   "outputs": [],
   "source": [
    "import numpy as np"
   ]
  },
  {
   "cell_type": "code",
   "execution_count": 2,
   "metadata": {},
   "outputs": [
    {
     "data": {
      "text/plain": [
       "array([[ 1, -2],\n",
       "       [ 3,  9]])"
      ]
     },
     "execution_count": 2,
     "metadata": {},
     "output_type": "execute_result"
    }
   ],
   "source": [
    "M=np.array([[1,-2],[3,9]]) #transformei lista em array para usar as muitas funções e métodos do numpy\n",
    "M"
   ]
  },
  {
   "cell_type": "code",
   "execution_count": 3,
   "metadata": {},
   "outputs": [],
   "source": [
    "#Obtendo autovalores e autovetores com a biblioteca de Àlgebra Linear (linalg)"
   ]
  },
  {
   "cell_type": "code",
   "execution_count": 4,
   "metadata": {},
   "outputs": [
    {
     "data": {
      "text/plain": [
       "(array([1.83772234, 8.16227766]),\n",
       " array([[-0.92235669,  0.26895177],\n",
       "        [ 0.3863394 , -0.96315364]]))"
      ]
     },
     "execution_count": 4,
     "metadata": {},
     "output_type": "execute_result"
    }
   ],
   "source": [
    "auto_val,auto_vet=np.linalg.eig(M)\n",
    "auto_val,auto_vet"
   ]
  },
  {
   "cell_type": "markdown",
   "metadata": {},
   "source": [
    "Os autovetores obtidos pélo numpy são (-0.92,038) para autovalor 1.83  e (0.26,-0.96) para autovalor 8.16\n",
    "Obtivemos (na mão)...(1, -0.42) para 1.83 e (1, -3.58) para 8.16...por que a diferença?\n",
    "A diferença é que o numpy já exibe os autovetores com norma 1..."
   ]
  },
  {
   "cell_type": "code",
   "execution_count": 5,
   "metadata": {},
   "outputs": [
    {
     "data": {
      "text/plain": [
       "array([ 0.26895177, -0.96315364])"
      ]
     },
     "execution_count": 5,
     "metadata": {},
     "output_type": "execute_result"
    }
   ],
   "source": [
    "#por exemplo, se dividirmos o autovetor (1,-3.58) pela sua norma\n",
    "\n",
    "v=auto_vet[:,1]#autovetor do 8.16\n",
    "v=v/np.linalg.norm(v)\n",
    "v"
   ]
  },
  {
   "cell_type": "code",
   "execution_count": 6,
   "metadata": {},
   "outputs": [],
   "source": [
    "v1=np.array([1,-0.42])\n",
    "v2=np.array([1,-3.58])"
   ]
  },
  {
   "cell_type": "code",
   "execution_count": null,
   "metadata": {},
   "outputs": [],
   "source": []
  }
 ],
 "metadata": {
  "kernelspec": {
   "display_name": "Python 3",
   "language": "python",
   "name": "python3"
  },
  "language_info": {
   "codemirror_mode": {
    "name": "ipython",
    "version": 3
   },
   "file_extension": ".py",
   "mimetype": "text/x-python",
   "name": "python",
   "nbconvert_exporter": "python",
   "pygments_lexer": "ipython3",
   "version": "3.8.5"
  }
 },
 "nbformat": 4,
 "nbformat_minor": 4
}
