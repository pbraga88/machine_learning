{
 "cells": [
  {
   "cell_type": "code",
   "execution_count": 1,
   "metadata": {},
   "outputs": [
    {
     "name": "stderr",
     "output_type": "stream",
     "text": [
      "/home/pbraga/.local/lib/python3.6/site-packages/sklearn/utils/deprecation.py:144: FutureWarning: The sklearn.metrics.classification module is  deprecated in version 0.22 and will be removed in version 0.24. The corresponding classes / functions should instead be imported from sklearn.metrics. Anything that cannot be imported from sklearn.metrics is now part of the private API.\n",
      "  warnings.warn(message, FutureWarning)\n"
     ]
    },
    {
     "data": {
      "text/html": [
       "<style  type=\"text/css\" >\n",
       "    #T_e0d89318_c5ca_11ea_8c25_a402b90142a3row0_col0 {\n",
       "            background-color:  #023858;\n",
       "            color:  #f1f1f1;\n",
       "        }    #T_e0d89318_c5ca_11ea_8c25_a402b90142a3row0_col1 {\n",
       "            background-color:  #d1d2e6;\n",
       "            color:  #000000;\n",
       "        }    #T_e0d89318_c5ca_11ea_8c25_a402b90142a3row0_col2 {\n",
       "            background-color:  #b5c4df;\n",
       "            color:  #000000;\n",
       "        }    #T_e0d89318_c5ca_11ea_8c25_a402b90142a3row0_col3 {\n",
       "            background-color:  #c1cae2;\n",
       "            color:  #000000;\n",
       "        }    #T_e0d89318_c5ca_11ea_8c25_a402b90142a3row0_col4 {\n",
       "            background-color:  #dddbec;\n",
       "            color:  #000000;\n",
       "        }    #T_e0d89318_c5ca_11ea_8c25_a402b90142a3row0_col5 {\n",
       "            background-color:  #e5e1ef;\n",
       "            color:  #000000;\n",
       "        }    #T_e0d89318_c5ca_11ea_8c25_a402b90142a3row0_col6 {\n",
       "            background-color:  #abbfdc;\n",
       "            color:  #000000;\n",
       "        }    #T_e0d89318_c5ca_11ea_8c25_a402b90142a3row1_col0 {\n",
       "            background-color:  #f8f1f8;\n",
       "            color:  #000000;\n",
       "        }    #T_e0d89318_c5ca_11ea_8c25_a402b90142a3row1_col1 {\n",
       "            background-color:  #023858;\n",
       "            color:  #f1f1f1;\n",
       "        }    #T_e0d89318_c5ca_11ea_8c25_a402b90142a3row1_col2 {\n",
       "            background-color:  #eae6f1;\n",
       "            color:  #000000;\n",
       "        }    #T_e0d89318_c5ca_11ea_8c25_a402b90142a3row1_col3 {\n",
       "            background-color:  #d9d8ea;\n",
       "            color:  #000000;\n",
       "        }    #T_e0d89318_c5ca_11ea_8c25_a402b90142a3row1_col4 {\n",
       "            background-color:  #d9d8ea;\n",
       "            color:  #000000;\n",
       "        }    #T_e0d89318_c5ca_11ea_8c25_a402b90142a3row1_col5 {\n",
       "            background-color:  #d5d5e8;\n",
       "            color:  #000000;\n",
       "        }    #T_e0d89318_c5ca_11ea_8c25_a402b90142a3row1_col6 {\n",
       "            background-color:  #69a5cc;\n",
       "            color:  #000000;\n",
       "        }    #T_e0d89318_c5ca_11ea_8c25_a402b90142a3row2_col0 {\n",
       "            background-color:  #fcf4fa;\n",
       "            color:  #000000;\n",
       "        }    #T_e0d89318_c5ca_11ea_8c25_a402b90142a3row2_col1 {\n",
       "            background-color:  #fff7fb;\n",
       "            color:  #000000;\n",
       "        }    #T_e0d89318_c5ca_11ea_8c25_a402b90142a3row2_col2 {\n",
       "            background-color:  #023858;\n",
       "            color:  #f1f1f1;\n",
       "        }    #T_e0d89318_c5ca_11ea_8c25_a402b90142a3row2_col3 {\n",
       "            background-color:  #fff7fb;\n",
       "            color:  #000000;\n",
       "        }    #T_e0d89318_c5ca_11ea_8c25_a402b90142a3row2_col4 {\n",
       "            background-color:  #c0c9e2;\n",
       "            color:  #000000;\n",
       "        }    #T_e0d89318_c5ca_11ea_8c25_a402b90142a3row2_col5 {\n",
       "            background-color:  #e1dfed;\n",
       "            color:  #000000;\n",
       "        }    #T_e0d89318_c5ca_11ea_8c25_a402b90142a3row2_col6 {\n",
       "            background-color:  #fff7fb;\n",
       "            color:  #000000;\n",
       "        }    #T_e0d89318_c5ca_11ea_8c25_a402b90142a3row3_col0 {\n",
       "            background-color:  #f2ecf5;\n",
       "            color:  #000000;\n",
       "        }    #T_e0d89318_c5ca_11ea_8c25_a402b90142a3row3_col1 {\n",
       "            background-color:  #dddbec;\n",
       "            color:  #000000;\n",
       "        }    #T_e0d89318_c5ca_11ea_8c25_a402b90142a3row3_col2 {\n",
       "            background-color:  #eee8f3;\n",
       "            color:  #000000;\n",
       "        }    #T_e0d89318_c5ca_11ea_8c25_a402b90142a3row3_col3 {\n",
       "            background-color:  #023858;\n",
       "            color:  #f1f1f1;\n",
       "        }    #T_e0d89318_c5ca_11ea_8c25_a402b90142a3row3_col4 {\n",
       "            background-color:  #fff7fb;\n",
       "            color:  #000000;\n",
       "        }    #T_e0d89318_c5ca_11ea_8c25_a402b90142a3row3_col5 {\n",
       "            background-color:  #fff7fb;\n",
       "            color:  #000000;\n",
       "        }    #T_e0d89318_c5ca_11ea_8c25_a402b90142a3row3_col6 {\n",
       "            background-color:  #96b6d7;\n",
       "            color:  #000000;\n",
       "        }    #T_e0d89318_c5ca_11ea_8c25_a402b90142a3row4_col0 {\n",
       "            background-color:  #fff7fb;\n",
       "            color:  #000000;\n",
       "        }    #T_e0d89318_c5ca_11ea_8c25_a402b90142a3row4_col1 {\n",
       "            background-color:  #d6d6e9;\n",
       "            color:  #000000;\n",
       "        }    #T_e0d89318_c5ca_11ea_8c25_a402b90142a3row4_col2 {\n",
       "            background-color:  #99b8d8;\n",
       "            color:  #000000;\n",
       "        }    #T_e0d89318_c5ca_11ea_8c25_a402b90142a3row4_col3 {\n",
       "            background-color:  #f8f1f8;\n",
       "            color:  #000000;\n",
       "        }    #T_e0d89318_c5ca_11ea_8c25_a402b90142a3row4_col4 {\n",
       "            background-color:  #023858;\n",
       "            color:  #f1f1f1;\n",
       "        }    #T_e0d89318_c5ca_11ea_8c25_a402b90142a3row4_col5 {\n",
       "            background-color:  #6fa7ce;\n",
       "            color:  #000000;\n",
       "        }    #T_e0d89318_c5ca_11ea_8c25_a402b90142a3row4_col6 {\n",
       "            background-color:  #84b0d3;\n",
       "            color:  #000000;\n",
       "        }    #T_e0d89318_c5ca_11ea_8c25_a402b90142a3row5_col0 {\n",
       "            background-color:  #f7f0f7;\n",
       "            color:  #000000;\n",
       "        }    #T_e0d89318_c5ca_11ea_8c25_a402b90142a3row5_col1 {\n",
       "            background-color:  #bbc7e0;\n",
       "            color:  #000000;\n",
       "        }    #T_e0d89318_c5ca_11ea_8c25_a402b90142a3row5_col2 {\n",
       "            background-color:  #a9bfdc;\n",
       "            color:  #000000;\n",
       "        }    #T_e0d89318_c5ca_11ea_8c25_a402b90142a3row5_col3 {\n",
       "            background-color:  #ebe6f2;\n",
       "            color:  #000000;\n",
       "        }    #T_e0d89318_c5ca_11ea_8c25_a402b90142a3row5_col4 {\n",
       "            background-color:  #5a9ec9;\n",
       "            color:  #000000;\n",
       "        }    #T_e0d89318_c5ca_11ea_8c25_a402b90142a3row5_col5 {\n",
       "            background-color:  #023858;\n",
       "            color:  #f1f1f1;\n",
       "        }    #T_e0d89318_c5ca_11ea_8c25_a402b90142a3row5_col6 {\n",
       "            background-color:  #76aad0;\n",
       "            color:  #000000;\n",
       "        }    #T_e0d89318_c5ca_11ea_8c25_a402b90142a3row6_col0 {\n",
       "            background-color:  #f5eff6;\n",
       "            color:  #000000;\n",
       "        }    #T_e0d89318_c5ca_11ea_8c25_a402b90142a3row6_col1 {\n",
       "            background-color:  #8bb2d4;\n",
       "            color:  #000000;\n",
       "        }    #T_e0d89318_c5ca_11ea_8c25_a402b90142a3row6_col2 {\n",
       "            background-color:  #fff7fb;\n",
       "            color:  #000000;\n",
       "        }    #T_e0d89318_c5ca_11ea_8c25_a402b90142a3row6_col3 {\n",
       "            background-color:  #b3c3de;\n",
       "            color:  #000000;\n",
       "        }    #T_e0d89318_c5ca_11ea_8c25_a402b90142a3row6_col4 {\n",
       "            background-color:  #acc0dd;\n",
       "            color:  #000000;\n",
       "        }    #T_e0d89318_c5ca_11ea_8c25_a402b90142a3row6_col5 {\n",
       "            background-color:  #b1c2de;\n",
       "            color:  #000000;\n",
       "        }    #T_e0d89318_c5ca_11ea_8c25_a402b90142a3row6_col6 {\n",
       "            background-color:  #023858;\n",
       "            color:  #f1f1f1;\n",
       "        }</style><table id=\"T_e0d89318_c5ca_11ea_8c25_a402b90142a3\" ><thead>    <tr>        <th class=\"blank level0\" ></th>        <th class=\"col_heading level0 col0\" >PassengerId</th>        <th class=\"col_heading level0 col1\" >Survived</th>        <th class=\"col_heading level0 col2\" >Pclass</th>        <th class=\"col_heading level0 col3\" >Age</th>        <th class=\"col_heading level0 col4\" >SibSp</th>        <th class=\"col_heading level0 col5\" >Parch</th>        <th class=\"col_heading level0 col6\" >Fare</th>    </tr></thead><tbody>\n",
       "                <tr>\n",
       "                        <th id=\"T_e0d89318_c5ca_11ea_8c25_a402b90142a3level0_row0\" class=\"row_heading level0 row0\" >PassengerId</th>\n",
       "                        <td id=\"T_e0d89318_c5ca_11ea_8c25_a402b90142a3row0_col0\" class=\"data row0 col0\" >1</td>\n",
       "                        <td id=\"T_e0d89318_c5ca_11ea_8c25_a402b90142a3row0_col1\" class=\"data row0 col1\" >-0.005</td>\n",
       "                        <td id=\"T_e0d89318_c5ca_11ea_8c25_a402b90142a3row0_col2\" class=\"data row0 col2\" >-0.035</td>\n",
       "                        <td id=\"T_e0d89318_c5ca_11ea_8c25_a402b90142a3row0_col3\" class=\"data row0 col3\" >0.037</td>\n",
       "                        <td id=\"T_e0d89318_c5ca_11ea_8c25_a402b90142a3row0_col4\" class=\"data row0 col4\" >-0.058</td>\n",
       "                        <td id=\"T_e0d89318_c5ca_11ea_8c25_a402b90142a3row0_col5\" class=\"data row0 col5\" >-0.0017</td>\n",
       "                        <td id=\"T_e0d89318_c5ca_11ea_8c25_a402b90142a3row0_col6\" class=\"data row0 col6\" >0.013</td>\n",
       "            </tr>\n",
       "            <tr>\n",
       "                        <th id=\"T_e0d89318_c5ca_11ea_8c25_a402b90142a3level0_row1\" class=\"row_heading level0 row1\" >Survived</th>\n",
       "                        <td id=\"T_e0d89318_c5ca_11ea_8c25_a402b90142a3row1_col0\" class=\"data row1 col0\" >-0.005</td>\n",
       "                        <td id=\"T_e0d89318_c5ca_11ea_8c25_a402b90142a3row1_col1\" class=\"data row1 col1\" >1</td>\n",
       "                        <td id=\"T_e0d89318_c5ca_11ea_8c25_a402b90142a3row1_col2\" class=\"data row1 col2\" >-0.34</td>\n",
       "                        <td id=\"T_e0d89318_c5ca_11ea_8c25_a402b90142a3row1_col3\" class=\"data row1 col3\" >-0.077</td>\n",
       "                        <td id=\"T_e0d89318_c5ca_11ea_8c25_a402b90142a3row1_col4\" class=\"data row1 col4\" >-0.035</td>\n",
       "                        <td id=\"T_e0d89318_c5ca_11ea_8c25_a402b90142a3row1_col5\" class=\"data row1 col5\" >0.082</td>\n",
       "                        <td id=\"T_e0d89318_c5ca_11ea_8c25_a402b90142a3row1_col6\" class=\"data row1 col6\" >0.26</td>\n",
       "            </tr>\n",
       "            <tr>\n",
       "                        <th id=\"T_e0d89318_c5ca_11ea_8c25_a402b90142a3level0_row2\" class=\"row_heading level0 row2\" >Pclass</th>\n",
       "                        <td id=\"T_e0d89318_c5ca_11ea_8c25_a402b90142a3row2_col0\" class=\"data row2 col0\" >-0.035</td>\n",
       "                        <td id=\"T_e0d89318_c5ca_11ea_8c25_a402b90142a3row2_col1\" class=\"data row2 col1\" >-0.34</td>\n",
       "                        <td id=\"T_e0d89318_c5ca_11ea_8c25_a402b90142a3row2_col2\" class=\"data row2 col2\" >1</td>\n",
       "                        <td id=\"T_e0d89318_c5ca_11ea_8c25_a402b90142a3row2_col3\" class=\"data row2 col3\" >-0.37</td>\n",
       "                        <td id=\"T_e0d89318_c5ca_11ea_8c25_a402b90142a3row2_col4\" class=\"data row2 col4\" >0.083</td>\n",
       "                        <td id=\"T_e0d89318_c5ca_11ea_8c25_a402b90142a3row2_col5\" class=\"data row2 col5\" >0.018</td>\n",
       "                        <td id=\"T_e0d89318_c5ca_11ea_8c25_a402b90142a3row2_col6\" class=\"data row2 col6\" >-0.55</td>\n",
       "            </tr>\n",
       "            <tr>\n",
       "                        <th id=\"T_e0d89318_c5ca_11ea_8c25_a402b90142a3level0_row3\" class=\"row_heading level0 row3\" >Age</th>\n",
       "                        <td id=\"T_e0d89318_c5ca_11ea_8c25_a402b90142a3row3_col0\" class=\"data row3 col0\" >0.037</td>\n",
       "                        <td id=\"T_e0d89318_c5ca_11ea_8c25_a402b90142a3row3_col1\" class=\"data row3 col1\" >-0.077</td>\n",
       "                        <td id=\"T_e0d89318_c5ca_11ea_8c25_a402b90142a3row3_col2\" class=\"data row3 col2\" >-0.37</td>\n",
       "                        <td id=\"T_e0d89318_c5ca_11ea_8c25_a402b90142a3row3_col3\" class=\"data row3 col3\" >1</td>\n",
       "                        <td id=\"T_e0d89318_c5ca_11ea_8c25_a402b90142a3row3_col4\" class=\"data row3 col4\" >-0.31</td>\n",
       "                        <td id=\"T_e0d89318_c5ca_11ea_8c25_a402b90142a3row3_col5\" class=\"data row3 col5\" >-0.19</td>\n",
       "                        <td id=\"T_e0d89318_c5ca_11ea_8c25_a402b90142a3row3_col6\" class=\"data row3 col6\" >0.096</td>\n",
       "            </tr>\n",
       "            <tr>\n",
       "                        <th id=\"T_e0d89318_c5ca_11ea_8c25_a402b90142a3level0_row4\" class=\"row_heading level0 row4\" >SibSp</th>\n",
       "                        <td id=\"T_e0d89318_c5ca_11ea_8c25_a402b90142a3row4_col0\" class=\"data row4 col0\" >-0.058</td>\n",
       "                        <td id=\"T_e0d89318_c5ca_11ea_8c25_a402b90142a3row4_col1\" class=\"data row4 col1\" >-0.035</td>\n",
       "                        <td id=\"T_e0d89318_c5ca_11ea_8c25_a402b90142a3row4_col2\" class=\"data row4 col2\" >0.083</td>\n",
       "                        <td id=\"T_e0d89318_c5ca_11ea_8c25_a402b90142a3row4_col3\" class=\"data row4 col3\" >-0.31</td>\n",
       "                        <td id=\"T_e0d89318_c5ca_11ea_8c25_a402b90142a3row4_col4\" class=\"data row4 col4\" >1</td>\n",
       "                        <td id=\"T_e0d89318_c5ca_11ea_8c25_a402b90142a3row4_col5\" class=\"data row4 col5\" >0.41</td>\n",
       "                        <td id=\"T_e0d89318_c5ca_11ea_8c25_a402b90142a3row4_col6\" class=\"data row4 col6\" >0.16</td>\n",
       "            </tr>\n",
       "            <tr>\n",
       "                        <th id=\"T_e0d89318_c5ca_11ea_8c25_a402b90142a3level0_row5\" class=\"row_heading level0 row5\" >Parch</th>\n",
       "                        <td id=\"T_e0d89318_c5ca_11ea_8c25_a402b90142a3row5_col0\" class=\"data row5 col0\" >-0.0017</td>\n",
       "                        <td id=\"T_e0d89318_c5ca_11ea_8c25_a402b90142a3row5_col1\" class=\"data row5 col1\" >0.082</td>\n",
       "                        <td id=\"T_e0d89318_c5ca_11ea_8c25_a402b90142a3row5_col2\" class=\"data row5 col2\" >0.018</td>\n",
       "                        <td id=\"T_e0d89318_c5ca_11ea_8c25_a402b90142a3row5_col3\" class=\"data row5 col3\" >-0.19</td>\n",
       "                        <td id=\"T_e0d89318_c5ca_11ea_8c25_a402b90142a3row5_col4\" class=\"data row5 col4\" >0.41</td>\n",
       "                        <td id=\"T_e0d89318_c5ca_11ea_8c25_a402b90142a3row5_col5\" class=\"data row5 col5\" >1</td>\n",
       "                        <td id=\"T_e0d89318_c5ca_11ea_8c25_a402b90142a3row5_col6\" class=\"data row5 col6\" >0.22</td>\n",
       "            </tr>\n",
       "            <tr>\n",
       "                        <th id=\"T_e0d89318_c5ca_11ea_8c25_a402b90142a3level0_row6\" class=\"row_heading level0 row6\" >Fare</th>\n",
       "                        <td id=\"T_e0d89318_c5ca_11ea_8c25_a402b90142a3row6_col0\" class=\"data row6 col0\" >0.013</td>\n",
       "                        <td id=\"T_e0d89318_c5ca_11ea_8c25_a402b90142a3row6_col1\" class=\"data row6 col1\" >0.26</td>\n",
       "                        <td id=\"T_e0d89318_c5ca_11ea_8c25_a402b90142a3row6_col2\" class=\"data row6 col2\" >-0.55</td>\n",
       "                        <td id=\"T_e0d89318_c5ca_11ea_8c25_a402b90142a3row6_col3\" class=\"data row6 col3\" >0.096</td>\n",
       "                        <td id=\"T_e0d89318_c5ca_11ea_8c25_a402b90142a3row6_col4\" class=\"data row6 col4\" >0.16</td>\n",
       "                        <td id=\"T_e0d89318_c5ca_11ea_8c25_a402b90142a3row6_col5\" class=\"data row6 col5\" >0.22</td>\n",
       "                        <td id=\"T_e0d89318_c5ca_11ea_8c25_a402b90142a3row6_col6\" class=\"data row6 col6\" >1</td>\n",
       "            </tr>\n",
       "    </tbody></table>"
      ],
      "text/plain": [
       "<pandas.io.formats.style.Styler at 0x7f01b8b500b8>"
      ]
     },
     "execution_count": 1,
     "metadata": {},
     "output_type": "execute_result"
    }
   ],
   "source": [
    "''' Paulo Simplício Braga\n",
    "    05.07.2020\n",
    "'''\n",
    "import pandas as pd \n",
    "import numpy as np\n",
    "\n",
    "import matplotlib.pyplot as plt \n",
    "%matplotlib inline\n",
    "plt.rcParams['figure.figsize'] = (15,5)\n",
    "plt.rcParams[\"font.family\"] = 'DejaVu Sans'\n",
    "plt.rcParams[\"font.size\"] = '12'\n",
    "plt.rcParams['image.cmap'] = 'rainbow'\n",
    "import seaborn as sns \n",
    "\n",
    "from sklearn.naive_bayes import GaussianNB\n",
    "from sklearn.linear_model import LogisticRegression\n",
    "from sklearn.ensemble import RandomForestClassifier\n",
    "from sklearn.metrics import accuracy_score\n",
    "from sklearn.model_selection import train_test_split\n",
    "from sklearn.tree import DecisionTreeClassifier\n",
    "from sklearn import tree\n",
    "from sklearn import metrics\n",
    "from sklearn.metrics import confusion_matrix\n",
    "from yellowbrick.classifier import ConfusionMatrix\n",
    "from sklearn import svm\n",
    "from sklearn.neighbors import KNeighborsClassifier\n",
    "from sklearn.preprocessing import OneHotEncoder\n",
    "import warnings\n",
    "import tensorflow as tf\n",
    "import keras\n",
    "import os\n",
    "seed = 6\n",
    "import random as rn\n",
    "rn.seed(seed)\n",
    "\n",
    "np.random.seed(seed)\n",
    "os.environ['PYTHONHASHSEED'] = '0'\n",
    "warnings.filterwarnings('ignore')\n",
    "\n",
    "train_df = pd.read_csv('Data_Titanic/train.csv')\n",
    "\n",
    "train_df.corr().style.background_gradient().set_precision(2)\n"
   ]
  },
  {
   "cell_type": "markdown",
   "metadata": {},
   "source": [
    "I - Cálculo da % de valores faltantes por coluna:"
   ]
  },
  {
   "cell_type": "code",
   "execution_count": 2,
   "metadata": {},
   "outputs": [
    {
     "name": "stdout",
     "output_type": "stream",
     "text": [
      "Cabin          687\n",
      "Age            177\n",
      "Embarked         2\n",
      "Fare             0\n",
      "Ticket           0\n",
      "Parch            0\n",
      "SibSp            0\n",
      "Sex              0\n",
      "Name             0\n",
      "Pclass           0\n",
      "Survived         0\n",
      "PassengerId      0\n",
      "dtype: int64\n"
     ]
    }
   ],
   "source": [
    "total = train_df.isnull().sum().sort_values(ascending=False)\n",
    "print(total)"
   ]
  },
  {
   "cell_type": "code",
   "execution_count": 3,
   "metadata": {},
   "outputs": [
    {
     "name": "stdout",
     "output_type": "stream",
     "text": [
      "PassengerId     0.000000\n",
      "Survived        0.000000\n",
      "Pclass          0.000000\n",
      "Name            0.000000\n",
      "Sex             0.000000\n",
      "Age            19.865320\n",
      "SibSp           0.000000\n",
      "Parch           0.000000\n",
      "Ticket          0.000000\n",
      "Fare            0.000000\n",
      "Cabin          77.104377\n",
      "Embarked        0.224467\n",
      "dtype: float64\n"
     ]
    }
   ],
   "source": [
    "pct_1 = train_df.isnull().sum()/train_df.isnull().count()*100\n",
    "print(pct_1)"
   ]
  },
  {
   "cell_type": "code",
   "execution_count": 4,
   "metadata": {},
   "outputs": [
    {
     "name": "stdout",
     "output_type": "stream",
     "text": [
      "Cabin          77.1\n",
      "Age            19.9\n",
      "Embarked        0.2\n",
      "Fare            0.0\n",
      "Ticket          0.0\n",
      "Parch           0.0\n",
      "SibSp           0.0\n",
      "Sex             0.0\n",
      "Name            0.0\n",
      "Pclass          0.0\n",
      "Survived        0.0\n",
      "PassengerId     0.0\n",
      "dtype: float64\n"
     ]
    }
   ],
   "source": [
    "pct_1 = round(pct_1, 1).sort_values(ascending=False)\n",
    "print(pct_1)"
   ]
  },
  {
   "cell_type": "code",
   "execution_count": 5,
   "metadata": {},
   "outputs": [
    {
     "data": {
      "text/html": [
       "<div>\n",
       "<style scoped>\n",
       "    .dataframe tbody tr th:only-of-type {\n",
       "        vertical-align: middle;\n",
       "    }\n",
       "\n",
       "    .dataframe tbody tr th {\n",
       "        vertical-align: top;\n",
       "    }\n",
       "\n",
       "    .dataframe thead th {\n",
       "        text-align: right;\n",
       "    }\n",
       "</style>\n",
       "<table border=\"1\" class=\"dataframe\">\n",
       "  <thead>\n",
       "    <tr style=\"text-align: right;\">\n",
       "      <th></th>\n",
       "      <th>Total</th>\n",
       "      <th>%</th>\n",
       "    </tr>\n",
       "  </thead>\n",
       "  <tbody>\n",
       "    <tr>\n",
       "      <th>Cabin</th>\n",
       "      <td>687</td>\n",
       "      <td>77.1</td>\n",
       "    </tr>\n",
       "    <tr>\n",
       "      <th>Age</th>\n",
       "      <td>177</td>\n",
       "      <td>19.9</td>\n",
       "    </tr>\n",
       "    <tr>\n",
       "      <th>Embarked</th>\n",
       "      <td>2</td>\n",
       "      <td>0.2</td>\n",
       "    </tr>\n",
       "    <tr>\n",
       "      <th>Fare</th>\n",
       "      <td>0</td>\n",
       "      <td>0.0</td>\n",
       "    </tr>\n",
       "    <tr>\n",
       "      <th>Ticket</th>\n",
       "      <td>0</td>\n",
       "      <td>0.0</td>\n",
       "    </tr>\n",
       "  </tbody>\n",
       "</table>\n",
       "</div>"
      ],
      "text/plain": [
       "          Total     %\n",
       "Cabin       687  77.1\n",
       "Age         177  19.9\n",
       "Embarked      2   0.2\n",
       "Fare          0   0.0\n",
       "Ticket        0   0.0"
      ]
     },
     "execution_count": 5,
     "metadata": {},
     "output_type": "execute_result"
    }
   ],
   "source": [
    "dados_faltantes = pd.concat([total,pct_1], axis=1, keys=['Total', '%'])\n",
    "dados_faltantes.head()"
   ]
  },
  {
   "cell_type": "markdown",
   "metadata": {},
   "source": [
    "II - Sobreviventes por sexo"
   ]
  },
  {
   "cell_type": "code",
   "execution_count": 6,
   "metadata": {},
   "outputs": [
    {
     "data": {
      "text/plain": [
       "male      577\n",
       "female    314\n",
       "Name: Sex, dtype: int64"
      ]
     },
     "execution_count": 6,
     "metadata": {},
     "output_type": "execute_result"
    }
   ],
   "source": [
    "# Quantidade por sexo\n",
    "train_df['Sex'].value_counts()"
   ]
  },
  {
   "cell_type": "code",
   "execution_count": 7,
   "metadata": {},
   "outputs": [
    {
     "data": {
      "text/plain": [
       "Text(0.5, 1.0, 'Total')"
      ]
     },
     "execution_count": 7,
     "metadata": {},
     "output_type": "execute_result"
    },
    {
     "data": {
      "image/png": "[encoded data removed]",
      "text/plain": [
       "<Figure size 576x396 with 1 Axes>"
      ]
     },
     "metadata": {},
     "output_type": "display_data"
    }
   ],
   "source": [
    "# Total de sobreviventes\n",
    "sns.countplot(train_df['Survived']).set_title('Total')"
   ]
  },
  {
   "cell_type": "code",
   "execution_count": 8,
   "metadata": {},
   "outputs": [
    {
     "data": {
      "text/plain": [
       "<matplotlib.legend.Legend at 0x7f0185b03470>"
      ]
     },
     "execution_count": 8,
     "metadata": {},
     "output_type": "execute_result"
    },
    {
     "data": {
      "image/png": "[encoded data removed]",
      "text/plain": [
       "<Figure size 1440x432 with 1 Axes>"
      ]
     },
     "metadata": {},
     "output_type": "display_data"
    }
   ],
   "source": [
    "sns.set(font_scale=1.5)\n",
    "fem = train_df[train_df['Sex']=='female'] # Cria um dataframe para female\n",
    "\n",
    "# Cria um objeto 'fig' pra fazer o subplot\n",
    "fig = plt.figure(figsize=(20,6))\n",
    "\n",
    "# Adiciona o histograma 'Survived'\n",
    "fig.add_subplot(1,2,1) # linhas, colunas, posição\n",
    "to_plot = sns.distplot(fem[fem['Survived']==1].Age, bins=20, kde=False,\\\n",
    "                      label='Survived')\n",
    "to_plot.set_title('Female')\n",
    "to_plot.legend()\n",
    "\n",
    "# Adiciona o histograma 'Not Survived'\n",
    "fig.add_subplot(1,2,1) # linhas, colunas, posição\n",
    "to_plot = sns.distplot(fem[fem['Survived']==0].Age, bins=20, kde=False,\\\n",
    "             color='red', label='Not Survived')\n",
    "to_plot.legend()"
   ]
  },
  {
   "cell_type": "code",
   "execution_count": 9,
   "metadata": {},
   "outputs": [
    {
     "data": {
      "text/plain": [
       "<matplotlib.legend.Legend at 0x7f0185a70b00>"
      ]
     },
     "execution_count": 9,
     "metadata": {},
     "output_type": "execute_result"
    },
    {
     "data": {
      "image/png": "[encoded data removed]",
      "text/plain": [
       "<Figure size 1440x432 with 1 Axes>"
      ]
     },
     "metadata": {},
     "output_type": "display_data"
    }
   ],
   "source": [
    "sns.set(font_scale=1.5)\n",
    "male = train_df[train_df['Sex']=='male'] # Cria um dataframe para male\n",
    "\n",
    "fig = plt.figure(figsize=(20,6))\n",
    "\n",
    "fig.add_subplot(1,2,1)\n",
    "to_plot = sns.distplot(male[male['Survived']==1].Age, bins=20, kde=False,\\\n",
    "                       label='Survived')\n",
    "to_plot.set_title('Male')\n",
    "to_plot.legend()\n",
    "\n",
    "fig.add_subplot(1,2,1)\n",
    "to_plot = sns.distplot(male[male['Survived']==0].Age, bins=20, kde=False,\\\n",
    "                      color='red', label='Not Survived')\n",
    "to_plot.legend()\n"
   ]
  },
  {
   "cell_type": "markdown",
   "metadata": {},
   "source": [
    "III - Relação da Sobrevivência com Classe Social e Porto de Embarque,\n",
    "por gênero"
   ]
  },
  {
   "cell_type": "code",
   "execution_count": 10,
   "metadata": {},
   "outputs": [
    {
     "data": {
      "text/plain": [
       "Text(0.5, 1.0, 'Survived x Pclass')"
      ]
     },
     "execution_count": 10,
     "metadata": {},
     "output_type": "execute_result"
    },
    {
     "data": {
      "image/png": "[encoded data removed]",
      "text/plain": [
       "<Figure size 1440x432 with 2 Axes>"
      ]
     },
     "metadata": {},
     "output_type": "display_data"
    }
   ],
   "source": [
    "sns.set(font_scale=1.5)\n",
    "fem = train_df[train_df['Sex']=='female'] # Cria um dataframe para female\n",
    "male = train_df[train_df['Sex']=='male'] # Cria um dataframe para male\n",
    "\n",
    "fig = plt.figure(figsize=(20,6))\n",
    "\n",
    "# Pclass\n",
    "fig.add_subplot(1,2,1)\n",
    "to_plot = sns.lineplot('Pclass','Survived',data=fem,err_style=\"bars\",\\\n",
    "                      label='female', color='orange')\n",
    "fig.add_subplot(1,2,1)\n",
    "to_plot = sns.lineplot('Pclass','Survived',data=male,err_style=\"bars\",\\\n",
    "                      label='male', color='grey')\n",
    "to_plot.set_title('Survived x Pclass')\n",
    "to_plot.set(xticks=(np.arange(1, 4, 1)))\n",
    "\n",
    "# Embarked\n",
    "fig.add_subplot(1,2,2)\n",
    "to_plot = sns.lineplot('Embarked','Survived',data=fem,err_style=\"bars\",\\\n",
    "                      label='female', color='orange')\n",
    "fig.add_subplot(1,2,2)\n",
    "to_plot = sns.lineplot('Embarked','Survived',data=male,err_style=\"bars\",\\\n",
    "                      label='male', color='grey')\n",
    "to_plot.set_title('Survived x Pclass')"
   ]
  },
  {
   "cell_type": "code",
   "execution_count": 11,
   "metadata": {},
   "outputs": [
    {
     "data": {
      "text/plain": [
       "<seaborn.axisgrid.FacetGrid at 0x7f018584f0f0>"
      ]
     },
     "execution_count": 11,
     "metadata": {},
     "output_type": "execute_result"
    },
    {
     "data": {
      "image/png": "[encoded data removed]",
      "text/plain": [
       "<Figure size 547.36x475.2 with 6 Axes>"
      ]
     },
     "metadata": {},
     "output_type": "display_data"
    }
   ],
   "source": [
    "sns.set(font_scale=1.0)\n",
    "grid = sns.FacetGrid(train_df, col='Survived', row='Pclass',\\\n",
    "                     size=2.2, aspect=1.7)\n",
    "grid.map(plt.hist, 'Age', alpha=.5, bins=20)\n",
    "grid.add_legend()"
   ]
  },
  {
   "cell_type": "markdown",
   "metadata": {},
   "source": [
    "IV - Pré-Processamento dos dados"
   ]
  },
  {
   "cell_type": "markdown",
   "metadata": {},
   "source": [
    "1. Imputation - Removendo colunas com menos de 70% de preenchimento e que possuem baixa ou nenhuma correlação com 'Survived'"
   ]
  },
  {
   "cell_type": "code",
   "execution_count": 12,
   "metadata": {},
   "outputs": [],
   "source": [
    "# Remove features como mais de 70% de linhas nulas\n",
    "limite = 0.7\n",
    "\n",
    "train_df = train_df[train_df.columns[train_df.isnull().mean() < limite]]\n",
    "\n",
    "# Remove Passenger ID, devido a baixa correlação com 'Survived'\n",
    "train_df = train_df.drop(['PassengerId'], axis = 1)\n",
    "\n",
    "# Remove Ticket, devido a baixa correlação com 'Survived'\n",
    "train_df = train_df.drop(['Ticket'], axis = 1)"
   ]
  },
  {
   "cell_type": "markdown",
   "metadata": {},
   "source": [
    "1.2 - Imputation em Age"
   ]
  },
  {
   "cell_type": "code",
   "execution_count": 13,
   "metadata": {},
   "outputs": [
    {
     "data": {
      "text/plain": [
       "0"
      ]
     },
     "execution_count": 13,
     "metadata": {},
     "output_type": "execute_result"
    }
   ],
   "source": [
    "num_cols = ['Pclass', 'SibSp', 'Parch', 'Fare']\n",
    "\n",
    "# Cria o objeto knn para efetuar a imputação de valores baseado \n",
    "# no K-Nearest Neighbour (KNN)\n",
    "knn = KNeighborsClassifier(3, weights='distance')\n",
    "\n",
    "# Cria um data frame para treinamento do knn, excluindo os valores\n",
    "# nulos\n",
    "df_cc = train_df.dropna(axis=0)\n",
    "df_cc['Age'] = df_cc['Age'].astype(int)\n",
    "\n",
    "# Treina o modelo com 'Age' como 'target(y)'\n",
    "model_3nn = knn.fit(df_cc.loc[:,num_cols],\\\n",
    "                    df_cc.loc[:,'Age'])\n",
    "# Contabiliza a quantidade de nulos da feature 'Age'\n",
    "missing_age = train_df['Age'].isnull()\n",
    "\n",
    "# Cria um dataframe com as features 'X' (num_cols) com tamanho \n",
    "# igual ao número de valores nulos na feature 'Age'\n",
    "df_missing_age = pd.DataFrame(train_df[num_cols][missing_age])\n",
    "\n",
    "# Faz a previsão passando as features 'X', do data frame criado \n",
    "# na linha anterior\n",
    "imputed_age = model_3nn.predict(df_missing_age)\n",
    "\n",
    "# Preenche os valores nulos da feature 'Age', um por um, com os \n",
    "# valores previstos em 'imputed_age'\n",
    "for i in imputed_age:\n",
    "    train_df['Age'].fillna(i, inplace=True, limit=1)\n",
    "train_df['Age'].isnull().sum()"
   ]
  },
  {
   "cell_type": "markdown",
   "metadata": {},
   "source": [
    "1.3. Imputation em Embarked - Substituição pelo valor mais comum"
   ]
  },
  {
   "cell_type": "code",
   "execution_count": 14,
   "metadata": {},
   "outputs": [
    {
     "name": "stdout",
     "output_type": "stream",
     "text": [
      "count     889\n",
      "unique      3\n",
      "top         S\n",
      "freq      644\n",
      "Name: Embarked, dtype: object\n",
      "Quantidade de Nulos:  2\n"
     ]
    }
   ],
   "source": [
    "# Demonstra que o valor mais comum é o 'S'\n",
    "print(train_df['Embarked'].describe())\n",
    "# Apenas dois valores nan\n",
    "print(\"Quantidade de Nulos: \",train_df['Embarked'].isnull().sum())"
   ]
  },
  {
   "cell_type": "code",
   "execution_count": 15,
   "metadata": {},
   "outputs": [
    {
     "name": "stdout",
     "output_type": "stream",
     "text": [
      "Quantidade de Nulos:  0\n"
     ]
    }
   ],
   "source": [
    "train_df['Embarked'] = train_df['Embarked'].fillna('S')\n",
    "print(\"Quantidade de Nulos: \",train_df['Embarked'].isnull().sum())"
   ]
  },
  {
   "cell_type": "markdown",
   "metadata": {},
   "source": [
    "2. Outliers - Aplicando na feature 'Age'"
   ]
  },
  {
   "cell_type": "code",
   "execution_count": 16,
   "metadata": {},
   "outputs": [
    {
     "data": {
      "text/plain": [
       "(array([-10.,   0.,  10.,  20.,  30.,  40.,  50.,  60.,  70.,  80.,  90.]),\n",
       " <a list of 11 Text major ticklabel objects>)"
      ]
     },
     "execution_count": 16,
     "metadata": {},
     "output_type": "execute_result"
    },
    {
     "data": {
      "image/png": "[encoded data removed]",
      "text/plain": [
       "<Figure size 360x360 with 1 Axes>"
      ]
     },
     "metadata": {},
     "output_type": "display_data"
    }
   ],
   "source": [
    "fig = plt.figure(figsize=(5,5))\n",
    "\n",
    "# fig.add_subplot(1,2,1)\n",
    "to_plot = train_df.boxplot(column='Age', grid=False, showmeans=True)\n",
    "to_plot.set_title('Train Dataset', fontsize=10)\n",
    "plt.xticks(fontsize=10)\n",
    "plt.yticks(fontsize=10)"
   ]
  },
  {
   "cell_type": "code",
   "execution_count": 17,
   "metadata": {},
   "outputs": [
    {
     "name": "stdout",
     "output_type": "stream",
     "text": [
      "quantile[0]: 0.42\n",
      "61.5 0.42\n"
     ]
    }
   ],
   "source": [
    "# Limites superior e inferior dos dataframes de treinamento e teste\n",
    "def get_lim(df):\n",
    "    Q1 = df['Age'].quantile(0.25)\n",
    "    Q3 = df['Age'].quantile(0.75)\n",
    "    lim_sup = Q3+(1.5*(Q3-Q1))\n",
    "    lim_inf = Q1-(1.5*(Q3-Q1))\n",
    "    print(\"quantile[0]:\", train_df['Age'].quantile(0))\n",
    "    if lim_inf < train_df['Age'].quantile(0):\n",
    "        lim_inf = train_df['Age'].quantile(0)\n",
    "    \n",
    "    return lim_sup, lim_inf\n",
    "\n",
    "lim_sup_train, lim_inf_train = get_lim(train_df)\n",
    "print(lim_sup_train, lim_inf_train)"
   ]
  },
  {
   "cell_type": "code",
   "execution_count": 18,
   "metadata": {},
   "outputs": [],
   "source": [
    "for i in train_df['Age']:\n",
    "    if i < 0:\n",
    "        print(i)"
   ]
  },
  {
   "cell_type": "code",
   "execution_count": 19,
   "metadata": {},
   "outputs": [],
   "source": [
    "# Após definidos os limites, os outliers são removidos\n",
    "train_df['Age'] = train_df['Age'].astype(int)\n",
    "train_df = train_df[ (train_df['Age']<lim_sup_train) &\\\n",
    "                    (train_df['Age']>lim_inf_train) ]"
   ]
  },
  {
   "cell_type": "code",
   "execution_count": 20,
   "metadata": {},
   "outputs": [
    {
     "data": {
      "text/plain": [
       "(array([-100.,    0.,  100.,  200.,  300.,  400.,  500.,  600.]),\n",
       " <a list of 8 Text major ticklabel objects>)"
      ]
     },
     "execution_count": 20,
     "metadata": {},
     "output_type": "execute_result"
    },
    {
     "data": {
      "image/png": "[encoded data removed]",
      "text/plain": [
       "<Figure size 360x360 with 1 Axes>"
      ]
     },
     "metadata": {},
     "output_type": "display_data"
    }
   ],
   "source": [
    "fig = plt.figure(figsize=(5,5))\n",
    "\n",
    "# fig.add_subplot(1,2,1)\n",
    "to_plot = train_df.boxplot(column='Fare', grid=False, showmeans=True)\n",
    "to_plot.set_title('Train Dataset', fontsize=10)\n",
    "plt.xticks(fontsize=10)\n",
    "plt.yticks(fontsize=10)"
   ]
  },
  {
   "cell_type": "code",
   "execution_count": 21,
   "metadata": {},
   "outputs": [
    {
     "name": "stdout",
     "output_type": "stream",
     "text": [
      "quantile[0]: 0.0\n",
      "64.4063 0.0\n"
     ]
    }
   ],
   "source": [
    "# Limites superior e inferior dos dataframes de treinamento e teste\n",
    "def get_lim(df):\n",
    "    Q1 = df['Fare'].quantile(0.25)\n",
    "    Q3 = df['Fare'].quantile(0.75)\n",
    "    lim_sup = Q3+(1.5*(Q3-Q1))\n",
    "    lim_inf = Q1-(1.5*(Q3-Q1))\n",
    "    print(\"quantile[0]:\", train_df['Fare'].quantile(0))\n",
    "    if lim_inf < train_df['Fare'].quantile(0):\n",
    "        lim_inf = train_df['Fare'].quantile(0)\n",
    "    \n",
    "    return lim_sup, lim_inf\n",
    "\n",
    "lim_sup_train, lim_inf_train = get_lim(train_df)\n",
    "print(lim_sup_train, lim_inf_train)"
   ]
  },
  {
   "cell_type": "code",
   "execution_count": 22,
   "metadata": {},
   "outputs": [],
   "source": [
    "# Após definidos os limites, os outliers são removidos\n",
    "# train_df['Fare'] = train_df['Fare'].astype(int)\n",
    "train_df = train_df[ (train_df['Fare']<lim_sup_train) &\\\n",
    "                    (train_df['Fare']>lim_inf_train) ]"
   ]
  },
  {
   "cell_type": "code",
   "execution_count": 23,
   "metadata": {},
   "outputs": [
    {
     "data": {
      "text/plain": [
       "(array([ 0., 10., 20., 30., 40., 50., 60., 70.]),\n",
       " <a list of 8 Text major ticklabel objects>)"
      ]
     },
     "execution_count": 23,
     "metadata": {},
     "output_type": "execute_result"
    },
    {
     "data": {
      "image/png": "[encoded data removed]",
      "text/plain": [
       "<Figure size 360x360 with 1 Axes>"
      ]
     },
     "metadata": {},
     "output_type": "display_data"
    }
   ],
   "source": [
    "fig = plt.figure(figsize=(5,5))\n",
    "\n",
    "# fig.add_subplot(1,2,1)\n",
    "to_plot = train_df.boxplot(column='Fare', grid=False, showmeans=True)\n",
    "to_plot.set_title('Train Dataset', fontsize=10)\n",
    "plt.xticks(fontsize=10)\n",
    "plt.yticks(fontsize=10)"
   ]
  },
  {
   "cell_type": "code",
   "execution_count": 24,
   "metadata": {},
   "outputs": [
    {
     "data": {
      "text/html": [
       "<div>\n",
       "<style scoped>\n",
       "    .dataframe tbody tr th:only-of-type {\n",
       "        vertical-align: middle;\n",
       "    }\n",
       "\n",
       "    .dataframe tbody tr th {\n",
       "        vertical-align: top;\n",
       "    }\n",
       "\n",
       "    .dataframe thead th {\n",
       "        text-align: right;\n",
       "    }\n",
       "</style>\n",
       "<table border=\"1\" class=\"dataframe\">\n",
       "  <thead>\n",
       "    <tr style=\"text-align: right;\">\n",
       "      <th></th>\n",
       "      <th>Survived</th>\n",
       "      <th>Pclass</th>\n",
       "      <th>Name</th>\n",
       "      <th>Sex</th>\n",
       "      <th>Age</th>\n",
       "      <th>SibSp</th>\n",
       "      <th>Parch</th>\n",
       "      <th>Fare</th>\n",
       "      <th>Embarked</th>\n",
       "    </tr>\n",
       "  </thead>\n",
       "  <tbody>\n",
       "    <tr>\n",
       "      <th>0</th>\n",
       "      <td>0</td>\n",
       "      <td>3</td>\n",
       "      <td>Braund, Mr. Owen Harris</td>\n",
       "      <td>male</td>\n",
       "      <td>22</td>\n",
       "      <td>1</td>\n",
       "      <td>0</td>\n",
       "      <td>7.2500</td>\n",
       "      <td>S</td>\n",
       "    </tr>\n",
       "    <tr>\n",
       "      <th>2</th>\n",
       "      <td>1</td>\n",
       "      <td>3</td>\n",
       "      <td>Heikkinen, Miss. Laina</td>\n",
       "      <td>female</td>\n",
       "      <td>26</td>\n",
       "      <td>0</td>\n",
       "      <td>0</td>\n",
       "      <td>7.9250</td>\n",
       "      <td>S</td>\n",
       "    </tr>\n",
       "    <tr>\n",
       "      <th>3</th>\n",
       "      <td>1</td>\n",
       "      <td>1</td>\n",
       "      <td>Futrelle, Mrs. Jacques Heath (Lily May Peel)</td>\n",
       "      <td>female</td>\n",
       "      <td>35</td>\n",
       "      <td>1</td>\n",
       "      <td>0</td>\n",
       "      <td>53.1000</td>\n",
       "      <td>S</td>\n",
       "    </tr>\n",
       "    <tr>\n",
       "      <th>4</th>\n",
       "      <td>0</td>\n",
       "      <td>3</td>\n",
       "      <td>Allen, Mr. William Henry</td>\n",
       "      <td>male</td>\n",
       "      <td>35</td>\n",
       "      <td>0</td>\n",
       "      <td>0</td>\n",
       "      <td>8.0500</td>\n",
       "      <td>S</td>\n",
       "    </tr>\n",
       "    <tr>\n",
       "      <th>5</th>\n",
       "      <td>0</td>\n",
       "      <td>3</td>\n",
       "      <td>Moran, Mr. James</td>\n",
       "      <td>male</td>\n",
       "      <td>21</td>\n",
       "      <td>0</td>\n",
       "      <td>0</td>\n",
       "      <td>8.4583</td>\n",
       "      <td>Q</td>\n",
       "    </tr>\n",
       "    <tr>\n",
       "      <th>...</th>\n",
       "      <td>...</td>\n",
       "      <td>...</td>\n",
       "      <td>...</td>\n",
       "      <td>...</td>\n",
       "      <td>...</td>\n",
       "      <td>...</td>\n",
       "      <td>...</td>\n",
       "      <td>...</td>\n",
       "      <td>...</td>\n",
       "    </tr>\n",
       "    <tr>\n",
       "      <th>886</th>\n",
       "      <td>0</td>\n",
       "      <td>2</td>\n",
       "      <td>Montvila, Rev. Juozas</td>\n",
       "      <td>male</td>\n",
       "      <td>27</td>\n",
       "      <td>0</td>\n",
       "      <td>0</td>\n",
       "      <td>13.0000</td>\n",
       "      <td>S</td>\n",
       "    </tr>\n",
       "    <tr>\n",
       "      <th>887</th>\n",
       "      <td>1</td>\n",
       "      <td>1</td>\n",
       "      <td>Graham, Miss. Margaret Edith</td>\n",
       "      <td>female</td>\n",
       "      <td>19</td>\n",
       "      <td>0</td>\n",
       "      <td>0</td>\n",
       "      <td>30.0000</td>\n",
       "      <td>S</td>\n",
       "    </tr>\n",
       "    <tr>\n",
       "      <th>888</th>\n",
       "      <td>0</td>\n",
       "      <td>3</td>\n",
       "      <td>Johnston, Miss. Catherine Helen \"Carrie\"</td>\n",
       "      <td>female</td>\n",
       "      <td>10</td>\n",
       "      <td>1</td>\n",
       "      <td>2</td>\n",
       "      <td>23.4500</td>\n",
       "      <td>S</td>\n",
       "    </tr>\n",
       "    <tr>\n",
       "      <th>889</th>\n",
       "      <td>1</td>\n",
       "      <td>1</td>\n",
       "      <td>Behr, Mr. Karl Howell</td>\n",
       "      <td>male</td>\n",
       "      <td>26</td>\n",
       "      <td>0</td>\n",
       "      <td>0</td>\n",
       "      <td>30.0000</td>\n",
       "      <td>C</td>\n",
       "    </tr>\n",
       "    <tr>\n",
       "      <th>890</th>\n",
       "      <td>0</td>\n",
       "      <td>3</td>\n",
       "      <td>Dooley, Mr. Patrick</td>\n",
       "      <td>male</td>\n",
       "      <td>32</td>\n",
       "      <td>0</td>\n",
       "      <td>0</td>\n",
       "      <td>7.7500</td>\n",
       "      <td>Q</td>\n",
       "    </tr>\n",
       "  </tbody>\n",
       "</table>\n",
       "<p>735 rows × 9 columns</p>\n",
       "</div>"
      ],
      "text/plain": [
       "     Survived  Pclass                                          Name     Sex  \\\n",
       "0           0       3                       Braund, Mr. Owen Harris    male   \n",
       "2           1       3                        Heikkinen, Miss. Laina  female   \n",
       "3           1       1  Futrelle, Mrs. Jacques Heath (Lily May Peel)  female   \n",
       "4           0       3                      Allen, Mr. William Henry    male   \n",
       "5           0       3                              Moran, Mr. James    male   \n",
       "..        ...     ...                                           ...     ...   \n",
       "886         0       2                         Montvila, Rev. Juozas    male   \n",
       "887         1       1                  Graham, Miss. Margaret Edith  female   \n",
       "888         0       3      Johnston, Miss. Catherine Helen \"Carrie\"  female   \n",
       "889         1       1                         Behr, Mr. Karl Howell    male   \n",
       "890         0       3                           Dooley, Mr. Patrick    male   \n",
       "\n",
       "     Age  SibSp  Parch     Fare Embarked  \n",
       "0     22      1      0   7.2500        S  \n",
       "2     26      0      0   7.9250        S  \n",
       "3     35      1      0  53.1000        S  \n",
       "4     35      0      0   8.0500        S  \n",
       "5     21      0      0   8.4583        Q  \n",
       "..   ...    ...    ...      ...      ...  \n",
       "886   27      0      0  13.0000        S  \n",
       "887   19      0      0  30.0000        S  \n",
       "888   10      1      2  23.4500        S  \n",
       "889   26      0      0  30.0000        C  \n",
       "890   32      0      0   7.7500        Q  \n",
       "\n",
       "[735 rows x 9 columns]"
      ]
     },
     "execution_count": 24,
     "metadata": {},
     "output_type": "execute_result"
    }
   ],
   "source": [
    "train_df"
   ]
  },
  {
   "cell_type": "markdown",
   "metadata": {},
   "source": [
    "3. Binning - Aplicando binning em 'Age' e 'Fare'"
   ]
  },
  {
   "cell_type": "code",
   "execution_count": 25,
   "metadata": {},
   "outputs": [],
   "source": [
    "# Lista com os labels \n",
    "list_bin=[0, 1, 2, 3, 4, 5, 6]\n",
    "# Função para aplicar o binning em Age e Fare, pois são os valores \n",
    "# que têm maior variação\n",
    "def set_binning(feat):\n",
    "    name_feat='bin_'+feat\n",
    "    train_df[name_feat] = pd.qcut(train_df[feat], q= 7, \\\n",
    "                          labels=list_bin)#, duplicates='drop')\n",
    "set_binning('Age')\n",
    "set_binning('Fare')\n"
   ]
  },
  {
   "cell_type": "markdown",
   "metadata": {},
   "source": [
    "4. Feature Split - Aplicação em 'Name'"
   ]
  },
  {
   "cell_type": "code",
   "execution_count": 26,
   "metadata": {},
   "outputs": [
    {
     "data": {
      "text/plain": [
       "array(['Mr.', 'Miss.', 'Mrs.', 'Master.', 'Planke,', 'Don.', 'Rev.',\n",
       "       'Billiard,', 'der', 'Walle,', 'Pelsmaeker,', 'Mulder,', 'Dr.',\n",
       "       'Steen,', 'Carlo,', 'Impe,', 'Ms.', 'Major.', 'y', 'Gordon,',\n",
       "       'Messemaeker,', 'Col.', 'Mlle.', 'Velde,', 'Shawah,', 'Melkebeke,',\n",
       "       'Cruyssen,'], dtype=object)"
      ]
     },
     "execution_count": 26,
     "metadata": {},
     "output_type": "execute_result"
    }
   ],
   "source": [
    "# Verifica os titulos existentes\n",
    "train_df['Name'].str.split(\" \").map(lambda x: x[1]).unique()"
   ]
  },
  {
   "cell_type": "code",
   "execution_count": 27,
   "metadata": {},
   "outputs": [],
   "source": [
    "# Encontrando os títulos\n",
    "train_df['Title'] = train_df['Name'].str.split(\" \").map(lambda x: x[1])\n",
    "# Substituindo\n",
    "train_df['Title'] = train_df['Title'].replace(['Planke,', 'Don.', 'Rev.',\\\n",
    "            'Billiard,', 'der', 'Walle,', 'Dr.', 'Pelsmaeker,',\\\n",
    "            'Mulder,', 'y','Steen,', 'Carlo,', 'Mme.', 'Impe,',\\\n",
    "            'Ms.', 'Major.', 'Gordon,','Messemaeker,', 'Mlle.',\\\n",
    "            'Col.', 'Velde,', 'the', 'Shawah,','Jonkheer.',\\\n",
    "            'Melkebeke,', 'Cruyssen,'], 'Other')                                          \n",
    "# trata campos nulos\n",
    "train_df['Title'] = train_df['Title'].fillna('Other')\n",
    "\n",
    "# Remove a feature 'Name' após a criação de 'Title'\n",
    "train_df = train_df.drop(['Name'], axis=1)"
   ]
  },
  {
   "cell_type": "markdown",
   "metadata": {},
   "source": [
    "4. One Hot Encoding - Aplicando nas features Sex, Name e Embarked"
   ]
  },
  {
   "cell_type": "code",
   "execution_count": 28,
   "metadata": {},
   "outputs": [],
   "source": [
    "# Aplicando One-Hot Encoding na feature Title, pois ela é categórica\n",
    "enc_col = pd.get_dummies(train_df['Title'])\n",
    "train_df = train_df.join(enc_col).drop('Title', axis=1)"
   ]
  },
  {
   "cell_type": "code",
   "execution_count": 29,
   "metadata": {},
   "outputs": [],
   "source": [
    "# Aplicando One-Hot Encoding na feature Sex, pois ela é categórica\n",
    "enc_col = pd.get_dummies(train_df['Sex'])\n",
    "train_df = train_df.join(enc_col).drop('Sex', axis=1)"
   ]
  },
  {
   "cell_type": "code",
   "execution_count": 30,
   "metadata": {},
   "outputs": [],
   "source": [
    "# Aplicando One-Hot Encoding na feature Embarked, pois ela é categórica\n",
    "enc_col = pd.get_dummies(train_df['Embarked'])\n",
    "train_df = train_df.join(enc_col).drop('Embarked', axis=1)"
   ]
  },
  {
   "cell_type": "markdown",
   "metadata": {},
   "source": [
    "5. Convertendo para int"
   ]
  },
  {
   "cell_type": "code",
   "execution_count": 31,
   "metadata": {},
   "outputs": [],
   "source": [
    "# # Antes de converter Fare para int, preenche os nulos com a média\n",
    "mean = train_df['Fare'].mean()\n",
    "train_df['Fare'] = train_df['Fare'].fillna(mean)\n",
    "train_df['Fare'] = train_df['Fare'].astype(int)\n",
    "\n",
    "train_df['bin_Age'] = train_df['bin_Age'].astype(int)\n",
    "\n",
    "train_df['bin_Fare'] = train_df['bin_Fare'].astype(int)\n"
   ]
  },
  {
   "cell_type": "code",
   "execution_count": 32,
   "metadata": {},
   "outputs": [
    {
     "data": {
      "text/html": [
       "<div>\n",
       "<style scoped>\n",
       "    .dataframe tbody tr th:only-of-type {\n",
       "        vertical-align: middle;\n",
       "    }\n",
       "\n",
       "    .dataframe tbody tr th {\n",
       "        vertical-align: top;\n",
       "    }\n",
       "\n",
       "    .dataframe thead th {\n",
       "        text-align: right;\n",
       "    }\n",
       "</style>\n",
       "<table border=\"1\" class=\"dataframe\">\n",
       "  <thead>\n",
       "    <tr style=\"text-align: right;\">\n",
       "      <th></th>\n",
       "      <th>Survived</th>\n",
       "      <th>Pclass</th>\n",
       "      <th>Age</th>\n",
       "      <th>SibSp</th>\n",
       "      <th>Parch</th>\n",
       "      <th>Fare</th>\n",
       "      <th>bin_Age</th>\n",
       "      <th>bin_Fare</th>\n",
       "      <th>Master.</th>\n",
       "      <th>Miss.</th>\n",
       "      <th>Mr.</th>\n",
       "      <th>Mrs.</th>\n",
       "      <th>Other</th>\n",
       "      <th>female</th>\n",
       "      <th>male</th>\n",
       "      <th>C</th>\n",
       "      <th>Q</th>\n",
       "      <th>S</th>\n",
       "    </tr>\n",
       "  </thead>\n",
       "  <tbody>\n",
       "    <tr>\n",
       "      <th>0</th>\n",
       "      <td>0</td>\n",
       "      <td>3</td>\n",
       "      <td>22</td>\n",
       "      <td>1</td>\n",
       "      <td>0</td>\n",
       "      <td>7</td>\n",
       "      <td>2</td>\n",
       "      <td>0</td>\n",
       "      <td>0</td>\n",
       "      <td>0</td>\n",
       "      <td>1</td>\n",
       "      <td>0</td>\n",
       "      <td>0</td>\n",
       "      <td>0</td>\n",
       "      <td>1</td>\n",
       "      <td>0</td>\n",
       "      <td>0</td>\n",
       "      <td>1</td>\n",
       "    </tr>\n",
       "    <tr>\n",
       "      <th>2</th>\n",
       "      <td>1</td>\n",
       "      <td>3</td>\n",
       "      <td>26</td>\n",
       "      <td>0</td>\n",
       "      <td>0</td>\n",
       "      <td>7</td>\n",
       "      <td>3</td>\n",
       "      <td>1</td>\n",
       "      <td>0</td>\n",
       "      <td>1</td>\n",
       "      <td>0</td>\n",
       "      <td>0</td>\n",
       "      <td>0</td>\n",
       "      <td>1</td>\n",
       "      <td>0</td>\n",
       "      <td>0</td>\n",
       "      <td>0</td>\n",
       "      <td>1</td>\n",
       "    </tr>\n",
       "    <tr>\n",
       "      <th>3</th>\n",
       "      <td>1</td>\n",
       "      <td>1</td>\n",
       "      <td>35</td>\n",
       "      <td>1</td>\n",
       "      <td>0</td>\n",
       "      <td>53</td>\n",
       "      <td>5</td>\n",
       "      <td>6</td>\n",
       "      <td>0</td>\n",
       "      <td>0</td>\n",
       "      <td>0</td>\n",
       "      <td>1</td>\n",
       "      <td>0</td>\n",
       "      <td>1</td>\n",
       "      <td>0</td>\n",
       "      <td>0</td>\n",
       "      <td>0</td>\n",
       "      <td>1</td>\n",
       "    </tr>\n",
       "    <tr>\n",
       "      <th>4</th>\n",
       "      <td>0</td>\n",
       "      <td>3</td>\n",
       "      <td>35</td>\n",
       "      <td>0</td>\n",
       "      <td>0</td>\n",
       "      <td>8</td>\n",
       "      <td>5</td>\n",
       "      <td>2</td>\n",
       "      <td>0</td>\n",
       "      <td>0</td>\n",
       "      <td>1</td>\n",
       "      <td>0</td>\n",
       "      <td>0</td>\n",
       "      <td>0</td>\n",
       "      <td>1</td>\n",
       "      <td>0</td>\n",
       "      <td>0</td>\n",
       "      <td>1</td>\n",
       "    </tr>\n",
       "    <tr>\n",
       "      <th>5</th>\n",
       "      <td>0</td>\n",
       "      <td>3</td>\n",
       "      <td>21</td>\n",
       "      <td>0</td>\n",
       "      <td>0</td>\n",
       "      <td>8</td>\n",
       "      <td>2</td>\n",
       "      <td>2</td>\n",
       "      <td>0</td>\n",
       "      <td>0</td>\n",
       "      <td>1</td>\n",
       "      <td>0</td>\n",
       "      <td>0</td>\n",
       "      <td>0</td>\n",
       "      <td>1</td>\n",
       "      <td>0</td>\n",
       "      <td>1</td>\n",
       "      <td>0</td>\n",
       "    </tr>\n",
       "    <tr>\n",
       "      <th>...</th>\n",
       "      <td>...</td>\n",
       "      <td>...</td>\n",
       "      <td>...</td>\n",
       "      <td>...</td>\n",
       "      <td>...</td>\n",
       "      <td>...</td>\n",
       "      <td>...</td>\n",
       "      <td>...</td>\n",
       "      <td>...</td>\n",
       "      <td>...</td>\n",
       "      <td>...</td>\n",
       "      <td>...</td>\n",
       "      <td>...</td>\n",
       "      <td>...</td>\n",
       "      <td>...</td>\n",
       "      <td>...</td>\n",
       "      <td>...</td>\n",
       "      <td>...</td>\n",
       "    </tr>\n",
       "    <tr>\n",
       "      <th>886</th>\n",
       "      <td>0</td>\n",
       "      <td>2</td>\n",
       "      <td>27</td>\n",
       "      <td>0</td>\n",
       "      <td>0</td>\n",
       "      <td>13</td>\n",
       "      <td>3</td>\n",
       "      <td>3</td>\n",
       "      <td>0</td>\n",
       "      <td>0</td>\n",
       "      <td>0</td>\n",
       "      <td>0</td>\n",
       "      <td>1</td>\n",
       "      <td>0</td>\n",
       "      <td>1</td>\n",
       "      <td>0</td>\n",
       "      <td>0</td>\n",
       "      <td>1</td>\n",
       "    </tr>\n",
       "    <tr>\n",
       "      <th>887</th>\n",
       "      <td>1</td>\n",
       "      <td>1</td>\n",
       "      <td>19</td>\n",
       "      <td>0</td>\n",
       "      <td>0</td>\n",
       "      <td>30</td>\n",
       "      <td>1</td>\n",
       "      <td>5</td>\n",
       "      <td>0</td>\n",
       "      <td>1</td>\n",
       "      <td>0</td>\n",
       "      <td>0</td>\n",
       "      <td>0</td>\n",
       "      <td>1</td>\n",
       "      <td>0</td>\n",
       "      <td>0</td>\n",
       "      <td>0</td>\n",
       "      <td>1</td>\n",
       "    </tr>\n",
       "    <tr>\n",
       "      <th>888</th>\n",
       "      <td>0</td>\n",
       "      <td>3</td>\n",
       "      <td>10</td>\n",
       "      <td>1</td>\n",
       "      <td>2</td>\n",
       "      <td>23</td>\n",
       "      <td>0</td>\n",
       "      <td>4</td>\n",
       "      <td>0</td>\n",
       "      <td>1</td>\n",
       "      <td>0</td>\n",
       "      <td>0</td>\n",
       "      <td>0</td>\n",
       "      <td>1</td>\n",
       "      <td>0</td>\n",
       "      <td>0</td>\n",
       "      <td>0</td>\n",
       "      <td>1</td>\n",
       "    </tr>\n",
       "    <tr>\n",
       "      <th>889</th>\n",
       "      <td>1</td>\n",
       "      <td>1</td>\n",
       "      <td>26</td>\n",
       "      <td>0</td>\n",
       "      <td>0</td>\n",
       "      <td>30</td>\n",
       "      <td>3</td>\n",
       "      <td>5</td>\n",
       "      <td>0</td>\n",
       "      <td>0</td>\n",
       "      <td>1</td>\n",
       "      <td>0</td>\n",
       "      <td>0</td>\n",
       "      <td>0</td>\n",
       "      <td>1</td>\n",
       "      <td>1</td>\n",
       "      <td>0</td>\n",
       "      <td>0</td>\n",
       "    </tr>\n",
       "    <tr>\n",
       "      <th>890</th>\n",
       "      <td>0</td>\n",
       "      <td>3</td>\n",
       "      <td>32</td>\n",
       "      <td>0</td>\n",
       "      <td>0</td>\n",
       "      <td>7</td>\n",
       "      <td>4</td>\n",
       "      <td>0</td>\n",
       "      <td>0</td>\n",
       "      <td>0</td>\n",
       "      <td>1</td>\n",
       "      <td>0</td>\n",
       "      <td>0</td>\n",
       "      <td>0</td>\n",
       "      <td>1</td>\n",
       "      <td>0</td>\n",
       "      <td>1</td>\n",
       "      <td>0</td>\n",
       "    </tr>\n",
       "  </tbody>\n",
       "</table>\n",
       "<p>735 rows × 18 columns</p>\n",
       "</div>"
      ],
      "text/plain": [
       "     Survived  Pclass  Age  SibSp  Parch  Fare  bin_Age  bin_Fare  Master.  \\\n",
       "0           0       3   22      1      0     7        2         0        0   \n",
       "2           1       3   26      0      0     7        3         1        0   \n",
       "3           1       1   35      1      0    53        5         6        0   \n",
       "4           0       3   35      0      0     8        5         2        0   \n",
       "5           0       3   21      0      0     8        2         2        0   \n",
       "..        ...     ...  ...    ...    ...   ...      ...       ...      ...   \n",
       "886         0       2   27      0      0    13        3         3        0   \n",
       "887         1       1   19      0      0    30        1         5        0   \n",
       "888         0       3   10      1      2    23        0         4        0   \n",
       "889         1       1   26      0      0    30        3         5        0   \n",
       "890         0       3   32      0      0     7        4         0        0   \n",
       "\n",
       "     Miss.  Mr.  Mrs.  Other  female  male  C  Q  S  \n",
       "0        0    1     0      0       0     1  0  0  1  \n",
       "2        1    0     0      0       1     0  0  0  1  \n",
       "3        0    0     1      0       1     0  0  0  1  \n",
       "4        0    1     0      0       0     1  0  0  1  \n",
       "5        0    1     0      0       0     1  0  1  0  \n",
       "..     ...  ...   ...    ...     ...   ... .. .. ..  \n",
       "886      0    0     0      1       0     1  0  0  1  \n",
       "887      1    0     0      0       1     0  0  0  1  \n",
       "888      1    0     0      0       1     0  0  0  1  \n",
       "889      0    1     0      0       0     1  1  0  0  \n",
       "890      0    1     0      0       0     1  0  1  0  \n",
       "\n",
       "[735 rows x 18 columns]"
      ]
     },
     "execution_count": 32,
     "metadata": {},
     "output_type": "execute_result"
    }
   ],
   "source": [
    "train_df"
   ]
  },
  {
   "cell_type": "code",
   "execution_count": 33,
   "metadata": {},
   "outputs": [],
   "source": [
    "# fig = plt.figure(figsize=(5,5))\n",
    "\n",
    "# # fig.add_subplot(1,2,1)\n",
    "# to_plot = train_df.boxplot(column='Fare', grid=False, showmeans=True)\n",
    "# to_plot.set_title('Train Dataset', fontsize=10)\n",
    "# plt.xticks(fontsize=10)\n",
    "# plt.yticks(fontsize=10)"
   ]
  },
  {
   "cell_type": "markdown",
   "metadata": {},
   "source": [
    "6. Normalization"
   ]
  },
  {
   "cell_type": "code",
   "execution_count": 34,
   "metadata": {},
   "outputs": [],
   "source": [
    "# Aplicando Normalization nas features com valores maiores que 1\n",
    "feat_list = ['Pclass', 'Age', 'SibSp', 'Parch', 'Fare', 'bin_Age',\\\n",
    "             'bin_Fare']\n",
    "def normalize(feat, train_df):\n",
    "    feat_name = 'norm_'+feat    \n",
    "    train_df[feat_name] = (train_df[feat] - train_df[feat].min())/ \\\n",
    "                    (train_df[feat].max() - train_df[feat].min())\n",
    "    train_df = train_df.drop(feat, axis=1)\n",
    "    return train_df\n",
    "for i in feat_list:\n",
    "    train_df=normalize(i, train_df)"
   ]
  },
  {
   "cell_type": "code",
   "execution_count": 35,
   "metadata": {},
   "outputs": [
    {
     "data": {
      "text/html": [
       "<div>\n",
       "<style scoped>\n",
       "    .dataframe tbody tr th:only-of-type {\n",
       "        vertical-align: middle;\n",
       "    }\n",
       "\n",
       "    .dataframe tbody tr th {\n",
       "        vertical-align: top;\n",
       "    }\n",
       "\n",
       "    .dataframe thead th {\n",
       "        text-align: right;\n",
       "    }\n",
       "</style>\n",
       "<table border=\"1\" class=\"dataframe\">\n",
       "  <thead>\n",
       "    <tr style=\"text-align: right;\">\n",
       "      <th></th>\n",
       "      <th>Survived</th>\n",
       "      <th>Master.</th>\n",
       "      <th>Miss.</th>\n",
       "      <th>Mr.</th>\n",
       "      <th>Mrs.</th>\n",
       "      <th>Other</th>\n",
       "      <th>female</th>\n",
       "      <th>male</th>\n",
       "      <th>C</th>\n",
       "      <th>Q</th>\n",
       "      <th>S</th>\n",
       "      <th>norm_Pclass</th>\n",
       "      <th>norm_Age</th>\n",
       "      <th>norm_SibSp</th>\n",
       "      <th>norm_Parch</th>\n",
       "      <th>norm_Fare</th>\n",
       "      <th>norm_bin_Age</th>\n",
       "      <th>norm_bin_Fare</th>\n",
       "    </tr>\n",
       "  </thead>\n",
       "  <tbody>\n",
       "    <tr>\n",
       "      <th>0</th>\n",
       "      <td>0</td>\n",
       "      <td>0</td>\n",
       "      <td>0</td>\n",
       "      <td>1</td>\n",
       "      <td>0</td>\n",
       "      <td>0</td>\n",
       "      <td>0</td>\n",
       "      <td>1</td>\n",
       "      <td>0</td>\n",
       "      <td>0</td>\n",
       "      <td>1</td>\n",
       "      <td>1.0</td>\n",
       "      <td>0.350000</td>\n",
       "      <td>0.2</td>\n",
       "      <td>0.000000</td>\n",
       "      <td>0.050847</td>\n",
       "      <td>0.333333</td>\n",
       "      <td>0.000000</td>\n",
       "    </tr>\n",
       "    <tr>\n",
       "      <th>2</th>\n",
       "      <td>1</td>\n",
       "      <td>0</td>\n",
       "      <td>1</td>\n",
       "      <td>0</td>\n",
       "      <td>0</td>\n",
       "      <td>0</td>\n",
       "      <td>1</td>\n",
       "      <td>0</td>\n",
       "      <td>0</td>\n",
       "      <td>0</td>\n",
       "      <td>1</td>\n",
       "      <td>1.0</td>\n",
       "      <td>0.416667</td>\n",
       "      <td>0.0</td>\n",
       "      <td>0.000000</td>\n",
       "      <td>0.050847</td>\n",
       "      <td>0.500000</td>\n",
       "      <td>0.166667</td>\n",
       "    </tr>\n",
       "    <tr>\n",
       "      <th>3</th>\n",
       "      <td>1</td>\n",
       "      <td>0</td>\n",
       "      <td>0</td>\n",
       "      <td>0</td>\n",
       "      <td>1</td>\n",
       "      <td>0</td>\n",
       "      <td>1</td>\n",
       "      <td>0</td>\n",
       "      <td>0</td>\n",
       "      <td>0</td>\n",
       "      <td>1</td>\n",
       "      <td>0.0</td>\n",
       "      <td>0.566667</td>\n",
       "      <td>0.2</td>\n",
       "      <td>0.000000</td>\n",
       "      <td>0.830508</td>\n",
       "      <td>0.833333</td>\n",
       "      <td>1.000000</td>\n",
       "    </tr>\n",
       "    <tr>\n",
       "      <th>4</th>\n",
       "      <td>0</td>\n",
       "      <td>0</td>\n",
       "      <td>0</td>\n",
       "      <td>1</td>\n",
       "      <td>0</td>\n",
       "      <td>0</td>\n",
       "      <td>0</td>\n",
       "      <td>1</td>\n",
       "      <td>0</td>\n",
       "      <td>0</td>\n",
       "      <td>1</td>\n",
       "      <td>1.0</td>\n",
       "      <td>0.566667</td>\n",
       "      <td>0.0</td>\n",
       "      <td>0.000000</td>\n",
       "      <td>0.067797</td>\n",
       "      <td>0.833333</td>\n",
       "      <td>0.333333</td>\n",
       "    </tr>\n",
       "    <tr>\n",
       "      <th>5</th>\n",
       "      <td>0</td>\n",
       "      <td>0</td>\n",
       "      <td>0</td>\n",
       "      <td>1</td>\n",
       "      <td>0</td>\n",
       "      <td>0</td>\n",
       "      <td>0</td>\n",
       "      <td>1</td>\n",
       "      <td>0</td>\n",
       "      <td>1</td>\n",
       "      <td>0</td>\n",
       "      <td>1.0</td>\n",
       "      <td>0.333333</td>\n",
       "      <td>0.0</td>\n",
       "      <td>0.000000</td>\n",
       "      <td>0.067797</td>\n",
       "      <td>0.333333</td>\n",
       "      <td>0.333333</td>\n",
       "    </tr>\n",
       "    <tr>\n",
       "      <th>...</th>\n",
       "      <td>...</td>\n",
       "      <td>...</td>\n",
       "      <td>...</td>\n",
       "      <td>...</td>\n",
       "      <td>...</td>\n",
       "      <td>...</td>\n",
       "      <td>...</td>\n",
       "      <td>...</td>\n",
       "      <td>...</td>\n",
       "      <td>...</td>\n",
       "      <td>...</td>\n",
       "      <td>...</td>\n",
       "      <td>...</td>\n",
       "      <td>...</td>\n",
       "      <td>...</td>\n",
       "      <td>...</td>\n",
       "      <td>...</td>\n",
       "      <td>...</td>\n",
       "    </tr>\n",
       "    <tr>\n",
       "      <th>886</th>\n",
       "      <td>0</td>\n",
       "      <td>0</td>\n",
       "      <td>0</td>\n",
       "      <td>0</td>\n",
       "      <td>0</td>\n",
       "      <td>1</td>\n",
       "      <td>0</td>\n",
       "      <td>1</td>\n",
       "      <td>0</td>\n",
       "      <td>0</td>\n",
       "      <td>1</td>\n",
       "      <td>0.5</td>\n",
       "      <td>0.433333</td>\n",
       "      <td>0.0</td>\n",
       "      <td>0.000000</td>\n",
       "      <td>0.152542</td>\n",
       "      <td>0.500000</td>\n",
       "      <td>0.500000</td>\n",
       "    </tr>\n",
       "    <tr>\n",
       "      <th>887</th>\n",
       "      <td>1</td>\n",
       "      <td>0</td>\n",
       "      <td>1</td>\n",
       "      <td>0</td>\n",
       "      <td>0</td>\n",
       "      <td>0</td>\n",
       "      <td>1</td>\n",
       "      <td>0</td>\n",
       "      <td>0</td>\n",
       "      <td>0</td>\n",
       "      <td>1</td>\n",
       "      <td>0.0</td>\n",
       "      <td>0.300000</td>\n",
       "      <td>0.0</td>\n",
       "      <td>0.000000</td>\n",
       "      <td>0.440678</td>\n",
       "      <td>0.166667</td>\n",
       "      <td>0.833333</td>\n",
       "    </tr>\n",
       "    <tr>\n",
       "      <th>888</th>\n",
       "      <td>0</td>\n",
       "      <td>0</td>\n",
       "      <td>1</td>\n",
       "      <td>0</td>\n",
       "      <td>0</td>\n",
       "      <td>0</td>\n",
       "      <td>1</td>\n",
       "      <td>0</td>\n",
       "      <td>0</td>\n",
       "      <td>0</td>\n",
       "      <td>1</td>\n",
       "      <td>1.0</td>\n",
       "      <td>0.150000</td>\n",
       "      <td>0.2</td>\n",
       "      <td>0.333333</td>\n",
       "      <td>0.322034</td>\n",
       "      <td>0.000000</td>\n",
       "      <td>0.666667</td>\n",
       "    </tr>\n",
       "    <tr>\n",
       "      <th>889</th>\n",
       "      <td>1</td>\n",
       "      <td>0</td>\n",
       "      <td>0</td>\n",
       "      <td>1</td>\n",
       "      <td>0</td>\n",
       "      <td>0</td>\n",
       "      <td>0</td>\n",
       "      <td>1</td>\n",
       "      <td>1</td>\n",
       "      <td>0</td>\n",
       "      <td>0</td>\n",
       "      <td>0.0</td>\n",
       "      <td>0.416667</td>\n",
       "      <td>0.0</td>\n",
       "      <td>0.000000</td>\n",
       "      <td>0.440678</td>\n",
       "      <td>0.500000</td>\n",
       "      <td>0.833333</td>\n",
       "    </tr>\n",
       "    <tr>\n",
       "      <th>890</th>\n",
       "      <td>0</td>\n",
       "      <td>0</td>\n",
       "      <td>0</td>\n",
       "      <td>1</td>\n",
       "      <td>0</td>\n",
       "      <td>0</td>\n",
       "      <td>0</td>\n",
       "      <td>1</td>\n",
       "      <td>0</td>\n",
       "      <td>1</td>\n",
       "      <td>0</td>\n",
       "      <td>1.0</td>\n",
       "      <td>0.516667</td>\n",
       "      <td>0.0</td>\n",
       "      <td>0.000000</td>\n",
       "      <td>0.050847</td>\n",
       "      <td>0.666667</td>\n",
       "      <td>0.000000</td>\n",
       "    </tr>\n",
       "  </tbody>\n",
       "</table>\n",
       "<p>735 rows × 18 columns</p>\n",
       "</div>"
      ],
      "text/plain": [
       "     Survived  Master.  Miss.  Mr.  Mrs.  Other  female  male  C  Q  S  \\\n",
       "0           0        0      0    1     0      0       0     1  0  0  1   \n",
       "2           1        0      1    0     0      0       1     0  0  0  1   \n",
       "3           1        0      0    0     1      0       1     0  0  0  1   \n",
       "4           0        0      0    1     0      0       0     1  0  0  1   \n",
       "5           0        0      0    1     0      0       0     1  0  1  0   \n",
       "..        ...      ...    ...  ...   ...    ...     ...   ... .. .. ..   \n",
       "886         0        0      0    0     0      1       0     1  0  0  1   \n",
       "887         1        0      1    0     0      0       1     0  0  0  1   \n",
       "888         0        0      1    0     0      0       1     0  0  0  1   \n",
       "889         1        0      0    1     0      0       0     1  1  0  0   \n",
       "890         0        0      0    1     0      0       0     1  0  1  0   \n",
       "\n",
       "     norm_Pclass  norm_Age  norm_SibSp  norm_Parch  norm_Fare  norm_bin_Age  \\\n",
       "0            1.0  0.350000         0.2    0.000000   0.050847      0.333333   \n",
       "2            1.0  0.416667         0.0    0.000000   0.050847      0.500000   \n",
       "3            0.0  0.566667         0.2    0.000000   0.830508      0.833333   \n",
       "4            1.0  0.566667         0.0    0.000000   0.067797      0.833333   \n",
       "5            1.0  0.333333         0.0    0.000000   0.067797      0.333333   \n",
       "..           ...       ...         ...         ...        ...           ...   \n",
       "886          0.5  0.433333         0.0    0.000000   0.152542      0.500000   \n",
       "887          0.0  0.300000         0.0    0.000000   0.440678      0.166667   \n",
       "888          1.0  0.150000         0.2    0.333333   0.322034      0.000000   \n",
       "889          0.0  0.416667         0.0    0.000000   0.440678      0.500000   \n",
       "890          1.0  0.516667         0.0    0.000000   0.050847      0.666667   \n",
       "\n",
       "     norm_bin_Fare  \n",
       "0         0.000000  \n",
       "2         0.166667  \n",
       "3         1.000000  \n",
       "4         0.333333  \n",
       "5         0.333333  \n",
       "..             ...  \n",
       "886       0.500000  \n",
       "887       0.833333  \n",
       "888       0.666667  \n",
       "889       0.833333  \n",
       "890       0.000000  \n",
       "\n",
       "[735 rows x 18 columns]"
      ]
     },
     "execution_count": 35,
     "metadata": {},
     "output_type": "execute_result"
    }
   ],
   "source": [
    "train_df"
   ]
  },
  {
   "cell_type": "code",
   "execution_count": 39,
   "metadata": {},
   "outputs": [],
   "source": [
    "train_df = train_df.drop(['norm_Age'], axis = 1)\n",
    "train_df = train_df.drop(['norm_Fare'], axis = 1)"
   ]
  },
  {
   "cell_type": "markdown",
   "metadata": {},
   "source": [
    "V - Machine Learning Models"
   ]
  },
  {
   "cell_type": "markdown",
   "metadata": {},
   "source": [
    "1. Regressão Logística"
   ]
  },
  {
   "cell_type": "code",
   "execution_count": 36,
   "metadata": {},
   "outputs": [],
   "source": [
    "plt.subplots(figsize=(5,3))\n",
    "logreg = LogisticRegression()\n",
    "logreg.fit(X_train, y_train)\n",
    "\n",
    "\n",
    "cm_v = ConfusionMatrix(logreg, classes=[\"died\", \"survived\"], \\\n",
    "                       label_encoder=map)\n",
    "resultados_acur[0] = cm_v.score(X_test, y_test)\n",
    "cm_v.show()"
   ]
  },
  {
   "cell_type": "code",
   "execution_count": 38,
   "metadata": {},
   "outputs": [],
   "source": [
    "# print(resultados_acur[0])"
   ]
  },
  {
   "cell_type": "markdown",
   "metadata": {},
   "source": [
    "2. Classificação Bayseana"
   ]
  },
  {
   "cell_type": "code",
   "execution_count": null,
   "metadata": {},
   "outputs": [],
   "source": [
    "# plt.subplots(figsize=(5,3))\n",
    "# gaussian = GaussianNB()\n",
    "# gaussian.fit(X_train, y_train)\n",
    "\n",
    "# cm_v = ConfusionMatrix(gaussian, classes=[\"died\", \"survived\"], \\\n",
    "#                        label_encoder=map)\n",
    "# resultados_acur[1] = cm_v.score(X_test, y_test)\n",
    "# cm_v.show()"
   ]
  },
  {
   "cell_type": "markdown",
   "metadata": {},
   "source": [
    "3. Árvore de Decisão"
   ]
  },
  {
   "cell_type": "code",
   "execution_count": null,
   "metadata": {},
   "outputs": [],
   "source": [
    "# plt.subplots(figsize=(5,3))\n",
    "# decision_tree = DecisionTreeClassifier()\n",
    "# decision_tree.fit(X_train, y_train)\n",
    "\n",
    "# cm_v = ConfusionMatrix(decision_tree, classes=[\"died\", \"survived\"], \\\n",
    "#                        label_encoder=map)\n",
    "# resultados_acur[2] = cm_v.score(X_test, y_test)\n",
    "# cm_v.show()"
   ]
  },
  {
   "cell_type": "markdown",
   "metadata": {},
   "source": [
    "4. Random Forests"
   ]
  },
  {
   "cell_type": "code",
   "execution_count": null,
   "metadata": {},
   "outputs": [],
   "source": [
    "# plt.subplots(figsize=(5,3))\n",
    "# random_forest = RandomForestClassifier(n_estimators=100)\n",
    "# random_forest.fit(X_train, y_train)\n",
    "\n",
    "# cm_v = ConfusionMatrix(random_forest, classes=[\"died\", \"survived\"], \\\n",
    "#                        label_encoder=map)\n",
    "# resultados_acur[3] = cm_v.score(X_test, y_test)\n",
    "# cm_v.show()"
   ]
  },
  {
   "cell_type": "markdown",
   "metadata": {},
   "source": [
    "5. Support Vector Machine"
   ]
  },
  {
   "cell_type": "code",
   "execution_count": null,
   "metadata": {},
   "outputs": [],
   "source": [
    "# plt.subplots(figsize=(5,3))\n",
    "# svm_model = svm.SVC()#kernel='poly', gamma = 10, degree = 3)\n",
    "# svm_model.fit(X_train, y_train)\n",
    "\n",
    "# cm_v = ConfusionMatrix(svm_model, classes=[\"died\", \"survived\"], \\\n",
    "#                        label_encoder=map)\n",
    "# resultados_acur[4] = cm_v.score(X_test, y_test)\n",
    "# cm_v.show()"
   ]
  },
  {
   "cell_type": "code",
   "execution_count": null,
   "metadata": {},
   "outputs": [],
   "source": []
  },
  {
   "cell_type": "code",
   "execution_count": null,
   "metadata": {},
   "outputs": [],
   "source": [
    "# for i in range(len(resultados_acur)):\n",
    "#     print(model_list[i], \":\", \"{:.2f}\".format(resultados_acur[i]*100),\"%\")"
   ]
  },
  {
   "cell_type": "markdown",
   "metadata": {},
   "source": [
    "6. MLP"
   ]
  },
  {
   "cell_type": "code",
   "execution_count": null,
   "metadata": {},
   "outputs": [],
   "source": [
    "# # Função para buscar os melhores valores, baseado na acurácia\n",
    "# def train_mlp_acc(in_p=17, hd_1=5, hd_2=5, output=2, activation='linear', optimizer='adam',\\\n",
    "#               train_x=X_train, train_y=y_train, epochs=10):\n",
    "#     # Cria o objeto\n",
    "#     model = keras.models.Sequential()\n",
    "    \n",
    "#     structure=[in_p,hd_1,hd_2,output]\n",
    "\n",
    "#     # Adiciona o layer de entrada mais o primeiro 'hidden layer'\n",
    "#     model.add(keras.layers.Dense(input_dim=structure[0],\\\n",
    "#               units=structure[1], activation=activation))\n",
    "\n",
    "#     # Adiciona o segundo 'hidden layer'\n",
    "#     model.add(keras.layers.Dense(units=structure[2], activation=activation))\n",
    "\n",
    "#     # Adiciona o layer de 'output'\n",
    "#     model.add(keras.layers.Dense(units=structure[-1], activation=\\\n",
    "#                                                      \"softmax\"))\n",
    "    \n",
    "#     model.compile(loss = 'categorical_crossentropy',\\\n",
    "#                   optimizer = optimizer, metrics = ['accuracy'])\n",
    "\n",
    "#     training_stats = model.fit(train_x, train_y, batch_size = 1,\\\n",
    "#                                epochs = epochs, verbose = 0, shuffle = False)\n",
    "#     print('Training Evaluation: loss = %0.3f, accuracy = %0.2f%%'\n",
    "#           %(training_stats.history['loss'][-1], 100 * training_stats.\\\n",
    "#                                              history['accuracy'][-1]))\n",
    "#     return (100 * training_stats.history['accuracy'][-1])\n",
    "    "
   ]
  },
  {
   "cell_type": "code",
   "execution_count": null,
   "metadata": {},
   "outputs": [],
   "source": [
    "# # one-hot encoding\n",
    "# labels=np.array(y_train['Survived'])\n",
    "# y_train = OneHotEncoder(sparse=False).fit_transform(np.transpose([labels]))\n",
    "# print(y_train)"
   ]
  },
  {
   "cell_type": "code",
   "execution_count": null,
   "metadata": {},
   "outputs": [],
   "source": [
    "# # Escolhe o melhor valor para os 'hidden layers'\n",
    "# ret_struct = 3*[0]\n",
    "# max_acc = 0\n",
    "# for i in range(1,11):\n",
    "#     print(\"[hidden layers: %i] \" %i, end='')\n",
    "#     acc = train_mlp_acc(hd_1=i, hd_2=i, train_y=y_train)\n",
    "#     if acc > max_acc:\n",
    "#         # Esta rotina grava o melhor valor de i para os 'hidden layers'\n",
    "#         ret_struct[0]=i;\n",
    "#         max_acc=acc"
   ]
  },
  {
   "cell_type": "code",
   "execution_count": null,
   "metadata": {},
   "outputs": [],
   "source": [
    "# print(\"O melhor valor para os 'hidden layers' é:\", ret_struct[0])"
   ]
  },
  {
   "cell_type": "code",
   "execution_count": null,
   "metadata": {},
   "outputs": [],
   "source": [
    "# # Aqui a melhor função de ativação será escolhida baseada em sua acurácia\n",
    "# activation_functions = ['elu', 'selu', 'relu', 'tanh', 'sigmoid', \n",
    "#                         'hard_sigmoid', 'softplus', 'softsign', 'linear']\n",
    "# max_acc = 0\n",
    "# for activation in activation_functions:\n",
    "#     print(\"[%s] \" %activation, end='')\n",
    "#     acc = train_mlp_acc(activation=activation, train_y=y_train)\n",
    "#     if acc > max_acc:\n",
    "#         # Esta rotina salva a função de ativação com melhor acurácia \n",
    "#         ret_struct[1]=activation\n",
    "#         max_acc=acc"
   ]
  },
  {
   "cell_type": "code",
   "execution_count": null,
   "metadata": {},
   "outputs": [],
   "source": [
    "# print(\"A melhor função de ativação para o modelo é: \", ret_struct[1])"
   ]
  },
  {
   "cell_type": "code",
   "execution_count": null,
   "metadata": {},
   "outputs": [],
   "source": [
    "# optimization_functions = ['SGD', 'RMSprop', 'Adagrad', 'Adadelta',\n",
    "#                           'Adam', 'Adamax', 'Nadam']\n",
    "# max_acc = 0\n",
    "# for optimizer in optimization_functions:\n",
    "#     print(\"[%s] \" %optimizer, end='')\n",
    "#     acc= train_mlp_acc(optimizer=optimizer, train_y=y_train)\n",
    "#     if acc > max_acc:\n",
    "#         # Esta rotina salva a função de otimização com melhor acurácia \n",
    "#         ret_struct[2]=optimizer\n",
    "#         max_acc=acc"
   ]
  },
  {
   "cell_type": "code",
   "execution_count": null,
   "metadata": {},
   "outputs": [],
   "source": [
    "# print(\"O melhor otimizador para este modelo é:\",ret_struct[2])"
   ]
  },
  {
   "cell_type": "code",
   "execution_count": null,
   "metadata": {},
   "outputs": [],
   "source": [
    "# # Função para treinar o modelo \n",
    "# def train_mlp(model, in_p=17, hd_1=5, hd_2=5, output=2, activation='linear', optimizer='adam',\\\n",
    "#               train_x=X_train, train_y=y_train, epochs=10):  \n",
    "#     # Adiciona o layer de entrada mais o primeiro 'hidden layer'\n",
    "#     model.add(keras.layers.Dense(input_dim=in_p,\\\n",
    "#               units=hd_2, activation=activation))\n",
    "\n",
    "#     # Adiciona o segundo 'hidden layer'\n",
    "#     model.add(keras.layers.Dense(units=hd_2, activation=activation))\n",
    "\n",
    "#     # Adiciona o layer de 'output'\n",
    "#     model.add(keras.layers.Dense(units=output, activation=\"softmax\"))\n",
    "    \n",
    "#     model.compile(loss = 'categorical_crossentropy',\\\n",
    "#                   optimizer = optimizer, metrics = ['accuracy'])\n",
    "\n",
    "#     training_stats = model.fit(train_x, train_y, batch_size = 1,\\\n",
    "#                                epochs = epochs, verbose = 0, shuffle = False)\n",
    "#     print('Training Evaluation: loss = %0.3f, accuracy = %0.2f%%'\n",
    "#           %(training_stats.history['loss'][-1], 100 * training_stats.\\\n",
    "#                                              history['accuracy'][-1]))\n",
    "#     return model"
   ]
  },
  {
   "cell_type": "code",
   "execution_count": null,
   "metadata": {},
   "outputs": [],
   "source": [
    "# print(ret_struct)\n",
    "# model = keras.models.Sequential()\n",
    "\n",
    "# model = train_mlp(model, hd_1=ret_struct[0], hd_2=ret_struct[0], activation=ret_struct[1],\\\n",
    "#                   optimizer=ret_struct[2], train_y=y_train)"
   ]
  },
  {
   "cell_type": "code",
   "execution_count": null,
   "metadata": {},
   "outputs": [],
   "source": [
    "# # one-hot encoding\n",
    "# labels=np.array(y_test['Survived'])\n",
    "# y_test = OneHotEncoder(sparse=False).fit_transform(np.transpose([labels]))\n",
    "\n",
    "# # Avalia o modelo com os dados dde teste\n",
    "# evaluation = model.evaluate(X_test,y_test, verbose=0)\n",
    "\n",
    "# print('Test Set Evaluation: loss = %0.6f, accuracy = %0.2f' %(evaluation[0], 100*evaluation[1]))\n",
    "\n",
    "# resultados_acur[5] = evaluation[1]"
   ]
  },
  {
   "cell_type": "markdown",
   "metadata": {},
   "source": [
    "7. Acurácia por Modelo"
   ]
  },
  {
   "cell_type": "code",
   "execution_count": null,
   "metadata": {},
   "outputs": [],
   "source": [
    "# for i in range(len(resultados_acur)):\n",
    "#     print(model_list[i], \":\", \"{:.2f}\".format(resultados_acur[i]*100),\"%\")"
   ]
  },
  {
   "cell_type": "code",
   "execution_count": null,
   "metadata": {},
   "outputs": [],
   "source": []
  }
 ],
 "metadata": {
  "kernelspec": {
   "display_name": "Python 3",
   "language": "python",
   "name": "python3"
  },
  "language_info": {
   "codemirror_mode": {
    "name": "ipython",
    "version": 3
   },
   "file_extension": ".py",
   "mimetype": "text/x-python",
   "name": "python",
   "nbconvert_exporter": "python",
   "pygments_lexer": "ipython3",
   "version": "3.6.9"
  }
 },
 "nbformat": 4,
 "nbformat_minor": 4
}
