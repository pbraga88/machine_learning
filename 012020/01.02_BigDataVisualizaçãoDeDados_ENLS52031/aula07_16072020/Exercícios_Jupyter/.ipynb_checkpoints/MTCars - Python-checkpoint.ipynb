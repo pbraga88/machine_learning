{
  "cells": [
    {
      "metadata": {},
      "cell_type": "markdown",
      "source": "# Importação dos pacotes necessários - Pandas e MatPlotLib"
    },
    {
      "metadata": {
        "trusted": true
      },
      "cell_type": "code",
      "source": "import pandas as pd",
      "execution_count": null,
      "outputs": []
    },
    {
      "metadata": {
        "trusted": true
      },
      "cell_type": "code",
      "source": "import matplotlib.pyplot as plt",
      "execution_count": null,
      "outputs": []
    },
    {
      "metadata": {},
      "cell_type": "markdown",
      "source": "Com o Pandas, criar um dataframe para a base **MTCars** https://stat.ethz.ch/R-manual/R-devel/library/datasets/html/mtcars.html"
    },
    {
      "metadata": {
        "trusted": true
      },
      "cell_type": "code",
      "source": "df = pd.read_csv(\"Dataset/mtcars.csv\")",
      "execution_count": null,
      "outputs": []
    },
    {
      "metadata": {},
      "cell_type": "markdown",
      "source": "## Entendendo a base de dados "
    },
    {
      "metadata": {},
      "cell_type": "markdown",
      "source": "Observar a estrutura do dataset"
    },
    {
      "metadata": {
        "trusted": true
      },
      "cell_type": "code",
      "source": "df.info()",
      "execution_count": null,
      "outputs": []
    },
    {
      "metadata": {},
      "cell_type": "markdown",
      "source": "Observar os primeiros registros do dataset"
    },
    {
      "metadata": {
        "trusted": true
      },
      "cell_type": "code",
      "source": "df.head()",
      "execution_count": null,
      "outputs": []
    },
    {
      "metadata": {},
      "cell_type": "markdown",
      "source": "## Plotagem de gráficos"
    },
    {
      "metadata": {},
      "cell_type": "markdown",
      "source": "Gráfico de dispersão"
    },
    {
      "metadata": {
        "trusted": true
      },
      "cell_type": "code",
      "source": "plt.figure(figsize=(15,8))\nplt.scatter(df['wt'],df['mpg']);",
      "execution_count": null,
      "outputs": []
    },
    {
      "metadata": {},
      "cell_type": "markdown",
      "source": "Adicionando **Título**, **Suptítulo** e **rótulos dos eixos**"
    },
    {
      "metadata": {
        "trusted": true
      },
      "cell_type": "code",
      "source": "plt.figure(figsize=(15,8))\nplt.scatter(df['wt'],df['mpg']);\n\nplt.title(\"Motor Trend car Road Test\")\nplt.suptitle(\"Dados de 1974  Motor Trend US Magazine\")\nplt.xlabel(\"Peso do Carro\")\nplt.ylabel( \"Mimlhas por Galão\")",
      "execution_count": null,
      "outputs": []
    },
    {
      "metadata": {},
      "cell_type": "markdown",
      "source": "Inserindo cores a partir de uma variável"
    },
    {
      "metadata": {
        "trusted": true
      },
      "cell_type": "code",
      "source": "plt.figure(figsize=(15,8))\n\ncores = {3:'tab:cyan',4:'tab:purple',5:'tab:green'}\n\nfor cambio in df['gear'].unique():\n    tmp = df[df['gear'] == cambio]\n    plt.scatter(tmp['wt'], tmp['mpg'], color=cores[cambio] )\n\n\nplt.title(\"Motor Trend car Road Test\")\nplt.suptitle(\"Dados de 1974  Motor Trend US Magazine\")\nplt.xlabel(\"Peso do Carro\")\nplt.ylabel( \"Milhas por Galão\")\n\n",
      "execution_count": null,
      "outputs": []
    },
    {
      "metadata": {},
      "cell_type": "markdown",
      "source": "Inserindo marcadores a partir de uma variável"
    },
    {
      "metadata": {
        "trusted": true
      },
      "cell_type": "code",
      "source": "plt.figure(figsize=(15,8))\n\ncores = {3:'tab:cyan',4:'tab:purple',5:'tab:green'}\nmarcadores = {3:'^',4:'s',5:'D'}\n\n\nfor cambio in df['gear'].unique():\n    tmp = df[df['gear'] == cambio]\n    plt.scatter(tmp['wt'], tmp['mpg'], color=cores[cambio],\n                marker=marcadores[cambio], s=100)\n\n\nplt.title(\"Motor Trend car Road Test\")\nplt.suptitle(\"Dados de 1974  Motor Trend US Magazine\")\nplt.xlabel(\"Peso do Carro\")\nplt.ylabel( \"Milhas por Galão\")\n",
      "execution_count": null,
      "outputs": []
    },
    {
      "metadata": {},
      "cell_type": "markdown",
      "source": "Histograma de uma variável"
    },
    {
      "metadata": {
        "trusted": true
      },
      "cell_type": "code",
      "source": "plt.figure(figsize=(15,8))\nplt.hist(df['mpg'], edgecolor=\"black\");\n\nplt.title(\"Histograma de MPG\", fontsize=20)\nplt.xlabel(\"Milhas por Galão\", fontsize=15)\nplt.ylabel(\"Frequência\", fontsize=15)",
      "execution_count": null,
      "outputs": []
    },
    {
      "metadata": {},
      "cell_type": "markdown",
      "source": "Histograma com os dados normalizados"
    },
    {
      "metadata": {
        "trusted": true
      },
      "cell_type": "code",
      "source": "plt.figure(figsize=(15,8))\nplt.hist(df['mpg'], edgecolor=\"black\", density=True)",
      "execution_count": null,
      "outputs": []
    },
    {
      "metadata": {},
      "cell_type": "markdown",
      "source": "Histograma impresso na horizontal"
    },
    {
      "metadata": {
        "trusted": true
      },
      "cell_type": "code",
      "source": "plt.figure(figsize=(15,8))\nplt.hist(df['mpg'], edgecolor=\"black\", orientation=\"horizontal\")",
      "execution_count": null,
      "outputs": []
    },
    {
      "metadata": {},
      "cell_type": "markdown",
      "source": "Duas linhas verticais, a partir de valores calculados"
    },
    {
      "metadata": {
        "trusted": true
      },
      "cell_type": "code",
      "source": "plt.figure(figsize=(15,8))\n\ncores = [\"orange\",\"purple\"]\nlegenda = [\"Média\",\"Mediana\"]\n\nplt.hist(df['mpg'], edgecolor=\"black\");\nmedia, mediana = df['mpg'].mean(), df['mpg'].median()\nplt.axvline(media, color=cores[0], lw=3, ls=\"--\")\nplt.axvline(mediana, color=cores[1], lw=3, ls=\"--\")\n",
      "execution_count": null,
      "outputs": []
    },
    {
      "metadata": {},
      "cell_type": "markdown",
      "source": "Adicionando legenda no gráfico"
    },
    {
      "metadata": {
        "trusted": true
      },
      "cell_type": "code",
      "source": "plt.figure(figsize=(15,8))\n\ncores = [\"orange\",\"purple\"]\nlegenda = [\"Média\",\"Mediana\"]\n\nplt.hist(df['mpg'], edgecolor=\"black\");\nmedia, mediana = df['mpg'].mean(), df['mpg'].median()\nplt.axvline(media, color=cores[0], lw=3, ls=\"--\")\nplt.axvline(mediana, color=cores[1], lw=3, ls=\"--\")\n\nplt.legend(legenda, loc=\"upper right\")\n",
      "execution_count": null,
      "outputs": []
    },
    {
      "metadata": {},
      "cell_type": "markdown",
      "source": "Adicionando anotações ao gráfico, junto às linhas"
    },
    {
      "metadata": {
        "trusted": true
      },
      "cell_type": "code",
      "source": "plt.figure(figsize=(15,8))\n\ncores = [\"orange\",\"purple\"]\nlegenda = [\"Média\",\"Mediana\"]\n\nplt.hist(df['mpg'], edgecolor=\"black\");\nmedia, mediana = df['mpg'].mean(), df['mpg'].median()\nplt.axvline(media, color=cores[0], lw=3, ls=\"--\")\nplt.axvline(mediana, color=cores[1], lw=3, ls=\"--\")\n\nplt.legend(legenda, loc=\"upper right\")\n\nplt.annotate(legenda[0], xy=(media + 0.5, 6),\n             color=cores[0], fontsize=20)\nplt.annotate(legenda[1], xy=(mediana - 3,6),\n             color=cores[1], fontsize=20)",
      "execution_count": null,
      "outputs": []
    },
    {
      "metadata": {},
      "cell_type": "markdown",
      "source": "Gráfico de linha"
    },
    {
      "metadata": {
        "trusted": true
      },
      "cell_type": "code",
      "source": "plt.figure(figsize=(15,8))\n\nplt.plot(df['wt'], df['mpg'], color=\"green\", ls = \"dotted\")\nplt.title(\"MTCars\", fontsize=25)\nplt.xlabel(\"WT\", fontsize=15)\nplt.ylabel(\"MPG\", fontsize=15)\nplt.legend([\"WT\"], loc=\"upper right\")",
      "execution_count": null,
      "outputs": []
    },
    {
      "metadata": {},
      "cell_type": "markdown",
      "source": "Gráfico de linha com limite nos eixos **X** e **Y**"
    },
    {
      "metadata": {
        "trusted": true
      },
      "cell_type": "code",
      "source": "plt.figure(figsize=(15,8))\n\nplt.plot(df['wt'], df['mpg'], color=\"green\", ls = \"dotted\")\n\nplt.xlim(2,5)\nplt.ylim(20,25)\n\nplt.title(\"MTCars\", fontsize=20)\nplt.xlabel(\"WT\", fontsize=15)\nplt.ylabel(\"MPG\", fontsize=15)\nplt.legend([\"WT\"], loc=\"upper right\")",
      "execution_count": null,
      "outputs": []
    },
    {
      "metadata": {},
      "cell_type": "markdown",
      "source": "Cores das linhas e marcadores, a partir de valores da variável"
    },
    {
      "metadata": {
        "scrolled": true,
        "trusted": true
      },
      "cell_type": "code",
      "source": "plt.figure(figsize=(8,4.5))\n\nmenor_3 = df[\"wt\"] < 3\nmaior_4 = df[\"wt\"] > 4\n\nplt.plot(df['wt'], df['mpg'], color=\"green\", ls = \"dotted\"\n         , marker = \"o\")\nplt.plot(df[menor_3]['wt'],df[menor_3]['mpg'],color=\"blue\"\n         , ls = \"dotted\", marker = \"o\")\nplt.plot(df[maior_4]['wt'],df[maior_4]['mpg'],color=\"blue\"\n         , ls = \"dotted\", marker = \"o\")\nplt.title(\"MTCars\", fontsize=25)\nplt.xlabel(\"WT\", fontsize=20)\nplt.ylabel(\"MPG\", fontsize=20)\nplt.legend([\"WT\"], loc=\"upper right\", fontsize=15);\n\n\n",
      "execution_count": null,
      "outputs": []
    },
    {
      "metadata": {},
      "cell_type": "markdown",
      "source": "Linhas horizontais com valores calculados"
    },
    {
      "metadata": {
        "trusted": true
      },
      "cell_type": "code",
      "source": "plt.figure(figsize=(15,8))\n\nplt.plot(df['wt'], df['mpg'], color=\"green\", ls = \"dotted\", marker = \"o\")\nplt.title(\"MTCars\", fontsize=25)\nplt.xlabel(\"WT\", fontsize=20)\nplt.ylabel(\"MPG\", fontsize=20)\nplt.legend([\"WT\"], loc=\"upper right\", fontsize=15)\n\nplt.axhline(max(df['mpg']), color=\"orange\", lw=3, ls=\"--\")\nplt.axhline(min(df['mpg']), color=\"orange\", lw=3, ls='--')\n",
      "execution_count": null,
      "outputs": []
    },
    {
      "metadata": {},
      "cell_type": "markdown",
      "source": "Adicionando anotações no gráfico"
    },
    {
      "metadata": {
        "trusted": true
      },
      "cell_type": "code",
      "source": "plt.figure(figsize=(15,8))\n\nplt.plot(df['wt'], df['mpg'], color=\"green\", ls = \"dotted\", marker = \"o\")\nplt.title(\"MTCars\", fontsize=25)\nplt.xlabel(\"WT\", fontsize=20)\nplt.ylabel(\"MPG\", fontsize=20)\nplt.legend([\"WT\"], loc=\"upper right\", fontsize=15)\n\nplt.axhline(max(df['mpg']), color=\"orange\", lw=3, ls=\"--\")\nplt.axhline(min(df['mpg']), color=\"purple\", lw=3, ls='--')\n\nx_max = df['wt'][df['mpg'].idxmax()]\ny_max = max(df['mpg'])\nplt.annotate(\"Max\", xy=(x_max,y_max), color=\"orange\", fontsize=15)\n\nx_min = df['wt'][df['mpg'].idxmin()]\ny_min = min(df['mpg'])\nplt.annotate(\"Min\", xy=(x_min,y_min), color=\"purple\", fontsize=15)\n\n\n",
      "execution_count": null,
      "outputs": []
    },
    {
      "metadata": {},
      "cell_type": "markdown",
      "source": "Deslocando o texto das anotações e inserindo uma seta"
    },
    {
      "metadata": {
        "trusted": true
      },
      "cell_type": "code",
      "source": "plt.figure(figsize=(15,8))\n\nplt.plot(df['wt'], df['mpg'], color=\"green\", ls = \"dotted\", marker = \"o\")\nplt.title(\"MTCars\", fontsize=25)\nplt.xlabel(\"WT\", fontsize=20)\nplt.ylabel(\"MPG\", fontsize=20)\nplt.legend([\"WT\"], loc=\"upper right\", fontsize=15)\n\nplt.axhline(max(df['mpg']), color=\"orange\", lw=3, ls=\"--\")\nplt.axhline(min(df['mpg']), color=\"purple\", lw=3, ls='--')\n\nx_max = df['wt'][df['mpg'].idxmax()]\ny_max = max(df['mpg'])\n\nxt_max = df['wt'][df['mpg'].idxmax()] + 0.5\nyt_max = max(df['mpg']) - 5\n\nplt.annotate(\"Max\", xy=(x_max,y_max), color=\"orange\",\n             fontsize=15,xytext=(xt_max,yt_max), arrowprops=dict(facecolor=\"orange\") )\n\n\n\nx_min = df['wt'][df['mpg'].idxmin()]\ny_min = min(df['mpg'])\n\nxt_min = df['wt'][df['mpg'].idxmin()] - 0.5\nyt_min = min(df['mpg']) + 5\n\nplt.annotate(\"Min\", xy=(x_min,y_min), color=\"purple\", fontsize=15,\n            xytext=(xt_min,yt_min), arrowprops=dict(facecolor=\"purple\"))\n",
      "execution_count": null,
      "outputs": []
    },
    {
      "metadata": {},
      "cell_type": "markdown",
      "source": "Diagrama de Caixa simples"
    },
    {
      "metadata": {
        "trusted": true
      },
      "cell_type": "code",
      "source": "plt.figure(figsize=(15,8))\n\nbox = df.boxplot(column=\"mpg\", \n                 grid=False, return_type=None)",
      "execution_count": null,
      "outputs": []
    },
    {
      "metadata": {},
      "cell_type": "markdown",
      "source": "Diagrama de caixa com uma variável segmentando as caixas"
    },
    {
      "metadata": {
        "trusted": true
      },
      "cell_type": "code",
      "source": "plt.figure(figsize=(15,8))\n\nbox = df.boxplot(column=\"mpg\", by=\"cyl\",grid=False, return_type=None)\nplt.suptitle(\"\")\nplt.title(\"Boxplot - MPG\")\n\n",
      "execution_count": null,
      "outputs": []
    }
  ],
  "metadata": {
    "kernelspec": {
      "name": "python3",
      "display_name": "Python 3",
      "language": "python"
    },
    "language_info": {
      "mimetype": "text/x-python",
      "nbconvert_exporter": "python",
      "name": "python",
      "pygments_lexer": "ipython3",
      "version": "3.5.4",
      "file_extension": ".py",
      "codemirror_mode": {
        "version": 3,
        "name": "ipython"
      }
    }
  },
  "nbformat": 4,
  "nbformat_minor": 4
}