{
  "cells": [
    {
      "metadata": {},
      "cell_type": "markdown",
      "source": "# Introdução\n\nA base de dados *DIAMONDS* faz parte do pacote do **R** *GGPLOT2*, e fornece observações sobre diamantes. Para acessar esta base é necessário instalar e carregar o pacote GGPLOT2 dentro do R. Como aqui estamos trabalhando com Python, o arquivo .CSV está disponível como base de dados.\n\nNeste texto da Universidade Duke, há detalhes quanto aos dados: https://www2.stat.duke.edu/courses/Fall15/sta112.01/post/hw/HW1.html"
    },
    {
      "metadata": {
        "trusted": true
      },
      "cell_type": "code",
      "source": "import pandas as pd",
      "execution_count": null,
      "outputs": []
    },
    {
      "metadata": {
        "trusted": true
      },
      "cell_type": "code",
      "source": "import matplotlib.pyplot as plt",
      "execution_count": null,
      "outputs": []
    },
    {
      "metadata": {
        "trusted": true
      },
      "cell_type": "code",
      "source": "diamantes = pd.read_csv(\"Dataset/diamonds.csv\", sep=\";\")",
      "execution_count": null,
      "outputs": []
    },
    {
      "metadata": {},
      "cell_type": "markdown",
      "source": "Com essa base de dados, trabalharemos algumas técnicas já discutidas em sala de aula para respoder a questão: **Quais características fazem um diamante ser tão caro?**\n\nAs atividades a seguir farão um caminho de construção, ponto a ponto, para trabalhar nas frentes que ajudarão a entender os dados e responder a questão levantada.\n\nVocê fará a criação dos códigos nos blocos solicitados. Durante o exercício existem algumas questões que você deve responder, elas estão destacadas. A mesma coisa acontece no final do texto, onde existem mais três questões que devem ser respondidas.\n\nEm resumo, você fará os códigos necessários e responderá as questões destacadas.\n\n\n# Entendimento da base\n\nA base é composta pelas variáveis:\n**Price** : Preço em dólares americanos (intervalo de US326 até US18823)\n\n**Carat** : Peso do diamante (intervalo de 0.2 até 5.01)\n\n**Cut** : Qualidade do corte (Fair, Good, Very Good, Premium, Ideal)\n\n**Color**: Cor do diamante, varia entre J (pior) e D (melhor)\n\n**Clarity**: Medida de pureza do diamante, com escala I1 (pior), SI2, SI1, VS2, VS1, VVS2, VVS1, IF (melhor)\n\n**x** : comprimento em milímetros (intervalo de 0 at? 10.74)\n\n**y** : largura em milímetros (intervalo de 0 at? 58.9)\n\n**z** : profundidade em milímetros (intervalo de 0 at? 31.8)\n\n**Depth** : percentual de profundidade, que representa a equação \n$z / mean(x, y) = 2 * z / (x + y)$\n(intervalo de 43 até 79)\n\n**Table** : Largura do topo do diamante em relação a parte mais larga (intervalo de 43 até 95)\n\nPara entender os detalhes da base de dados, você pode começar explorando sua estrutura, como o *info()*. Faça isso no próximo bloco de código:"
    },
    {
      "metadata": {
        "trusted": true
      },
      "cell_type": "code",
      "source": "diamantes.info()",
      "execution_count": null,
      "outputs": []
    },
    {
      "metadata": {},
      "cell_type": "markdown",
      "source": "Agora que já tem detalhes de quantas observações (linhas) e quantas variáveis(colunas) a base possui, você pode entender a análise estatística básica com o *describe()*, e também retornar as primeiras e ultimas linhas, usando o *head()* e o *tail()* respectivamente. Faça isso no bloco de código abaixo:"
    },
    {
      "metadata": {
        "trusted": true
      },
      "cell_type": "code",
      "source": "diamantes.describe()",
      "execution_count": null,
      "outputs": []
    },
    {
      "metadata": {
        "trusted": true
      },
      "cell_type": "code",
      "source": "diamantes.head()",
      "execution_count": null,
      "outputs": []
    },
    {
      "metadata": {
        "trusted": true
      },
      "cell_type": "code",
      "source": "diamantes.tail()",
      "execution_count": null,
      "outputs": []
    },
    {
      "metadata": {},
      "cell_type": "markdown",
      "source": "**Pergunta 1) Comparando a estrutura da base de dados com a sumarização dos dados, o modelo segue o padrão esperado da forma como os dados foram sumarizados por tipo de variável?**\n\n\n# Exploração de dados\n\nApós entender como a base de dados funciona, selecione a variável *Price* e faça uma exploração de dados só para ela. \nDa mesma forma que fez o entendimento da base de dados completa, faça a sumarização apenas da variável *Price* agora:"
    },
    {
      "metadata": {
        "trusted": true
      },
      "cell_type": "code",
      "source": "",
      "execution_count": null,
      "outputs": []
    },
    {
      "metadata": {},
      "cell_type": "markdown",
      "source": "Você pode começar o processo gráfico exibindo um histograma. Use o espaço de código abaixo para gerar este gráfico:"
    },
    {
      "metadata": {
        "trusted": true
      },
      "cell_type": "code",
      "source": "",
      "execution_count": null,
      "outputs": []
    },
    {
      "metadata": {},
      "cell_type": "markdown",
      "source": "O histograma nos apresenta uma saída visual dos dados em forma de gráfico de barras, onde o eixo **X** apresenta os intervalos de preços e o eixo **Y** apresenta a frequência de ocorrências de diamantes naquele preço.\nÉ possível colocar duas linhas verticais no gráfico, uma para representar a **Média de Preços** e outra para representar a **Mediana de Preços**.\n\nEscreva no bloco de código a criação destas duas linhas, sendo a linha **verde** a média e a linha **vermelha** a mediana. (para facilitar, replique o código que utilizou para fazer o histograma acima)"
    },
    {
      "metadata": {
        "trusted": true
      },
      "cell_type": "code",
      "source": "",
      "execution_count": null,
      "outputs": []
    },
    {
      "metadata": {},
      "cell_type": "markdown",
      "source": "Para informar e evitar confusões de quem está lendo o documento, é importante ter legendas. O bloco de código abaixo adiciona legenda no gráfico anterior, permitindo que seja explicado o que é a linha azul e a linha vermelha.\nReplique o código do bloco acima no bloco de código abaixo:"
    },
    {
      "metadata": {
        "trusted": true
      },
      "cell_type": "code",
      "source": "",
      "execution_count": null,
      "outputs": []
    },
    {
      "metadata": {},
      "cell_type": "markdown",
      "source": "**Pergunta 2) Observando o histograma, você consegue dizer se ele segue uma distribuição normal? Explique como chegou nesta conclusão**"
    },
    {
      "metadata": {},
      "cell_type": "markdown",
      "source": "Repita a criação do histograma com as linhas verticais para todas as outras variáveis numéricas da base de dados. Você conseguirá ver estas variáveis através do ***diamantes.info()*** que executou lá no começo da atividade.\n\nOutra forma de entender os dados é através de um *Boxplot*. Este diagrama de caixa apresenta a distribuição dos valores, sendo: Limite inferior, 1º Quartil, Mediana, 3º Quartil e Limíte superior (tanto o Limite inferior quanto o Limite superior *destacam* os *outliers*).\nNo bloco de código abaixo, crie um Boxplot da variável *Price*."
    },
    {
      "metadata": {
        "trusted": true
      },
      "cell_type": "code",
      "source": "",
      "execution_count": null,
      "outputs": []
    },
    {
      "metadata": {
        "trusted": true
      },
      "cell_type": "code",
      "source": "",
      "execution_count": null,
      "outputs": []
    },
    {
      "metadata": {},
      "cell_type": "markdown",
      "source": "Compare o resultado que obteve com a função *quantile*, e o *describe()* da variável *Price*."
    },
    {
      "metadata": {
        "trusted": true
      },
      "cell_type": "code",
      "source": "",
      "execution_count": null,
      "outputs": []
    },
    {
      "metadata": {},
      "cell_type": "markdown",
      "source": "**Pergunta 3) O que você encontra de comum entre esses resultados?**"
    },
    {
      "metadata": {},
      "cell_type": "markdown",
      "source": "**Pergunta 4) Acima da linha do limite superior existem pontos no gráfico. O que são estes pontos?**"
    },
    {
      "metadata": {},
      "cell_type": "markdown",
      "source": "O *Boxplot* possui os limites demarcados, e eles são calculados. Valores acima ou a baixo destes limites são os outliers. O limite superior é calculado a partir da equação $Q3 + (1.5 * (Q3-Q1))$. Já o limite inferior da distribuição inter-quartil, é calculado como $Q1 - (1.5 * (Q3-Q1))$. Onde o Q1 é o primeiro quartil e o Q3 é o terceiro quartil. Se o valor do limite inferior for menor que o valor mínimo, o deixará limitado ao valor mínimo o limite inferior.\n\n\nFaça o calculo abaixo (na mão), para ver os valores apresentados no Boxplot"
    },
    {
      "metadata": {
        "trusted": true
      },
      "cell_type": "code",
      "source": "",
      "execution_count": null,
      "outputs": []
    },
    {
      "metadata": {},
      "cell_type": "markdown",
      "source": "Usando a função de filtro, crie um novo dataframe somente com os resultados da variável *Price* que sejam maiores que o limite superior, ou seja, são os outliers superiores da variável *Price* nesta base de dados."
    },
    {
      "metadata": {
        "trusted": true
      },
      "cell_type": "code",
      "source": "",
      "execution_count": null,
      "outputs": []
    },
    {
      "metadata": {},
      "cell_type": "markdown",
      "source": "Com esse novo dataframe, descubra a quantidade de linhas existentes, e quanto essas linhas representam da base de dados original (em percentual). Faça isso no bloco de código abaixo:"
    },
    {
      "metadata": {
        "trusted": true
      },
      "cell_type": "code",
      "source": "",
      "execution_count": null,
      "outputs": []
    },
    {
      "metadata": {
        "trusted": true
      },
      "cell_type": "code",
      "source": "",
      "execution_count": null,
      "outputs": []
    },
    {
      "metadata": {},
      "cell_type": "markdown",
      "source": "Já conhecemos bem a variável *Price* de forma individual. E como é sempre importante mostrar comparações, vamos separar os dados da variável *Price* pelo *tipo de corte*, pela *cor* e por fim pela *clareza*.\n\nMas antes de gerar os gráficos comparativos, é interessante entender como os dados de *Corte*, *Cor* e *Clareza* estão distribuídos na base de dados.\n\nPode-se começar gerando uma tabela de ocorrências, através da função *crosstab* do Pandas. Esta função apresentará a quantidade de ocorrências (repetições) daquele valor na variável consultada.\nUma função que pode ser utilizada em conjunto é a *crosstab / crosstab.sum()* que informará a proporção (em percentual), de quanto aquela ocorrência significa no todo.\n\nNo bloco de código abaixo, faça o uso do *crosstab* e do *crosstab / crosstab.sum()* com a variável *Cut*."
    },
    {
      "metadata": {
        "trusted": true
      },
      "cell_type": "code",
      "source": "",
      "execution_count": null,
      "outputs": []
    },
    {
      "metadata": {
        "trusted": true
      },
      "cell_type": "code",
      "source": "",
      "execution_count": null,
      "outputs": []
    },
    {
      "metadata": {},
      "cell_type": "markdown",
      "source": "Repita o processo do *crosstab* e do *crosstab / crosstab.sum()* também para as variáveis *Color* e depois *Clarity*."
    },
    {
      "metadata": {
        "trusted": true
      },
      "cell_type": "code",
      "source": "",
      "execution_count": null,
      "outputs": []
    },
    {
      "metadata": {
        "trusted": true
      },
      "cell_type": "code",
      "source": "",
      "execution_count": null,
      "outputs": []
    },
    {
      "metadata": {
        "trusted": true
      },
      "cell_type": "code",
      "source": "",
      "execution_count": null,
      "outputs": []
    },
    {
      "metadata": {
        "trusted": true
      },
      "cell_type": "code",
      "source": "",
      "execution_count": null,
      "outputs": []
    },
    {
      "metadata": {},
      "cell_type": "markdown",
      "source": "Já conhecendo a distribuição destes dados qualitativos, podemos explorar a forma visual deles, em formato de gráfico de barras.\n\nNo bloco de códigos abaixo, crie um gráfico de barras com a variável *Cut* no eixo X e *Price* no eixo Y."
    },
    {
      "metadata": {
        "trusted": true
      },
      "cell_type": "code",
      "source": "",
      "execution_count": null,
      "outputs": []
    },
    {
      "metadata": {},
      "cell_type": "markdown",
      "source": "Replique o gráfico também para a variável *Color* e depois para a variável *Clarity*."
    },
    {
      "metadata": {
        "trusted": true
      },
      "cell_type": "code",
      "source": "",
      "execution_count": null,
      "outputs": []
    },
    {
      "metadata": {
        "trusted": true
      },
      "cell_type": "code",
      "source": "",
      "execution_count": null,
      "outputs": []
    },
    {
      "metadata": {},
      "cell_type": "markdown",
      "source": "Com o bloxplot, é possível fazer estas separações de forma bastante simples. O que você pode fazer é montar a saída da variável *Price* explicada pela variável que prentede comparar. Faça a geração do boxplot com a variável *Price* sendo explicada pela variável *Cut*, no bloco de código abaixo:"
    },
    {
      "metadata": {
        "trusted": true
      },
      "cell_type": "code",
      "source": "",
      "execution_count": null,
      "outputs": []
    },
    {
      "metadata": {},
      "cell_type": "markdown",
      "source": "Repita o processo, mas agora pela variável *Color* e depois pela *Clarity*"
    },
    {
      "metadata": {
        "trusted": true
      },
      "cell_type": "code",
      "source": "",
      "execution_count": null,
      "outputs": []
    },
    {
      "metadata": {
        "trusted": true
      },
      "cell_type": "code",
      "source": "",
      "execution_count": null,
      "outputs": []
    },
    {
      "metadata": {},
      "cell_type": "markdown",
      "source": "Com estas representações visuais e estatísticas trabalhadas acima, foi possível entender individualmente como estão as distribuições de dados entre algumas variáveis. Principalmente a *Price* como variável quantitativa e as variáveis *Cut*, *Color* e *Clarity* como qualitativas.\n\nPara elaborar um pouco mais essa análise, e encontrar mais evidências que nos ajudem a responder a pergunta **Quais características fazem um diamante ser tão caro?**, partiremos para a criação de novas visões para os gráficos compostos.\n\nA combinação de segmentar o histograma da variável *Price* pela *Cut* pode ser bastante útil. Acompanhe o código abaixo uma possível geração para este gráfico:"
    },
    {
      "metadata": {
        "trusted": true
      },
      "cell_type": "code",
      "source": "diamantes.bar(column='price',grid=False);",
      "execution_count": null,
      "outputs": []
    },
    {
      "metadata": {
        "trusted": true
      },
      "cell_type": "code",
      "source": "",
      "execution_count": null,
      "outputs": []
    },
    {
      "metadata": {
        "trusted": true
      },
      "cell_type": "code",
      "source": "",
      "execution_count": null,
      "outputs": []
    },
    {
      "metadata": {},
      "cell_type": "markdown",
      "source": "Com todos esses detalhes explorados acima, responda as perguntas a seguir:\n\n**Pergunta 5) Como você responderia a questão apresentada lá na Introdução, com base nos dados que explorou?**\n\n**Pergunta 6) Olhamos apenas algumas combinações de variáveis para explicar o *Price*. Você sentiu falta de alguma outra combinação para ajudar a responder a questão levantada? Se sim, qual?**\n\n**Pergunta 7) Quais técnicas você utilizaria para explorar estas novas variáveis que comentou na resposta 2?**\n"
    }
  ],
  "metadata": {
    "kernelspec": {
      "name": "python3",
      "display_name": "Python 3",
      "language": "python"
    },
    "language_info": {
      "mimetype": "text/x-python",
      "nbconvert_exporter": "python",
      "name": "python",
      "pygments_lexer": "ipython3",
      "version": "3.5.4",
      "file_extension": ".py",
      "codemirror_mode": {
        "version": 3,
        "name": "ipython"
      }
    }
  },
  "nbformat": 4,
  "nbformat_minor": 4
}