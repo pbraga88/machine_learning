{
 "cells": [
  {
   "cell_type": "code",
   "execution_count": null,
   "metadata": {},
   "outputs": [],
   "source": [
    "#Instalação dos pacotes\n",
    "#**********************\n",
    "#install.packages(\"twitteR\")\n",
    "#install.packages(\"data.table\")\n",
    "#install.packages(\"igraph\")\n",
    "#install.packages(\"gsubfn\")\n",
    "#install.packages(\"wordcloud\")\n",
    "#install.packages(\"NLP\")\n",
    "\n",
    "options(repr.plot.width=8, repr.plot.height=6)"
   ]
  },
  {
   "cell_type": "code",
   "execution_count": null,
   "metadata": {},
   "outputs": [],
   "source": [
    "library('twitteR')\n",
    "library(data.table)\n",
    "library(igraph)\n",
    "library(gsubfn)\n",
    "library(wordcloud)\n",
    "library(NLP)\n",
    "library(tm)"
   ]
  },
  {
   "cell_type": "code",
   "execution_count": null,
   "metadata": {},
   "outputs": [],
   "source": [
    "#Autenticando no Twitter\n",
    "#***********************\n",
    "# Gerar as API Keys pelo site\n",
    "# https://developer.twitter.com/en/apps\n",
    "\n",
    "options(httr_oauth_cache=T)\n",
    "\n",
    "consumer_key = \" \"\n",
    "consumer_secret = \" \"\n",
    "access_token = \" \"\n",
    "access_secret = \" \"\n",
    "\n",
    "setup_twitter_oauth( consumer_key, consumer_secret, access_token, access_secret)"
   ]
  },
  {
   "cell_type": "code",
   "execution_count": null,
   "metadata": {},
   "outputs": [],
   "source": [
    "#Coletando dados\n",
    "#***************\n",
    "usuario <- \"DiegoNogare\"\n",
    "perfil <- getUser(usuario)\n",
    "location(perfil)\n",
    "description(perfil)"
   ]
  },
  {
   "cell_type": "code",
   "execution_count": null,
   "metadata": {},
   "outputs": [],
   "source": [
    "seguidores <- perfil$getFollowers()\n",
    "length(seguidores)\n",
    "seguidores <- rbindlist(lapply(seguidores,as.data.frame))"
   ]
  },
  {
   "cell_type": "code",
   "execution_count": null,
   "metadata": {},
   "outputs": [],
   "source": [
    "quemSigo <- perfil$getFriends()\n",
    "length(quemSigo)\n",
    "quemSigo <- rbindlist(lapply(quemSigo,as.data.frame))"
   ]
  },
  {
   "cell_type": "code",
   "execution_count": null,
   "metadata": {},
   "outputs": [],
   "source": [
    "#Meus seguidores com mais seguidores\n",
    "#***********************************\n",
    "SeguidoresQueTemMaisSeguidores <- seguidores[ order(-seguidores$followersCount) ,]\n",
    "top10Seguidores <- head(SeguidoresQueTemMaisSeguidores,10 )\n",
    "\n",
    "top10Seguidores <- top10Seguidores [,c('name', 'followersCount', 'screenName', 'location', 'profileImageUrl')]\n",
    "\n",
    "top10Seguidores"
   ]
  },
  {
   "cell_type": "code",
   "execution_count": null,
   "metadata": {},
   "outputs": [],
   "source": [
    "#Quem eu sigo que tem mais seguidores\n",
    "#************************************\n",
    "SigoQueTemMaisSeguidores <- quemSigo[ order(-quemSigo$followersCount) ,]\n",
    "top10quemSigo <- head(SigoQueTemMaisSeguidores,10 )\n",
    "\n",
    "top10quemSigo <- top10quemSigo [,c('name', 'followersCount', 'screenName', 'location', 'profileImageUrl')]\n",
    "\n",
    "top10quemSigo"
   ]
  },
  {
   "cell_type": "code",
   "execution_count": null,
   "metadata": {},
   "outputs": [],
   "source": [
    "# Ultimos tweets de quem eu sigo\n",
    "#***********************************\n",
    "tweets <- as.data.frame(matrix(c(NA,NA), nrow=1,ncol=2))\n",
    "\n",
    "ultimosTweets <- 1\n",
    "dez <- length(top10quemSigo$screenName)\n",
    "i <- 1\n",
    "while (i <= dez)\n",
    "{\n",
    "  tweets <- rbind(tweets, as.data.frame( matrix(c(top10quemSigo[i]$screenName,\n",
    "                                                  userTimeline(top10quemSigo[i]$screenName, n=ultimosTweets)[[1]]$text\n",
    "  ) ,nrow=ultimosTweets, ncol=2, byrow=T) )\n",
    "  )\n",
    "  i <- i + 1\n",
    "}\n",
    "colnames(tweets) <- c(\"Perfil\", \"Post\")\n",
    "tweetsQuemSigo <- tweets[!is.na(tweets$Perfil),]\n",
    "\n",
    "tweetsQuemSigo"
   ]
  },
  {
   "cell_type": "code",
   "execution_count": null,
   "metadata": {},
   "outputs": [],
   "source": [
    "#Retornar os 10 Trending Topics de São Paulo\n",
    "#*******************************************\n",
    "localizacao <- availableTrendLocations()\n",
    "woeid <- (localizacao[(localizacao$country == 'Brazil'\n",
    "                       & localizacao$name == 'São Paulo'),])\n",
    "                       #& localizacao$name == 'Brazil'),])\n",
    "TrendTopics <- head(getTrends(woeid[3]),10)\n",
    "TrendTopics$name\n"
   ]
  },
  {
   "cell_type": "code",
   "execution_count": null,
   "metadata": {},
   "outputs": [],
   "source": [
    "termo <- as.character(TrendTopics$name[1])"
   ]
  },
  {
   "cell_type": "code",
   "execution_count": null,
   "metadata": {},
   "outputs": [],
   "source": [
    "totalTweets = 5000\n",
    "#termo <- \"#CiteUmTristeFato\"\n",
    "desde <- \"2020-07-01\" #Ano-Mês-Dia\n",
    "\n",
    "posts <- searchTwitter(termo, n=totalTweets,\n",
    "                       since=desde, lang = 'pt') \n",
    "\n",
    "posts <- twListToDF(posts)\n",
    "\n"
   ]
  },
  {
   "cell_type": "code",
   "execution_count": null,
   "metadata": {},
   "outputs": [],
   "source": [
    "totalTweets <- nrow(posts)"
   ]
  },
  {
   "cell_type": "code",
   "execution_count": null,
   "metadata": {},
   "outputs": [],
   "source": [
    "CaracteresParaMudar <- list( 'S'='S', 's'='s', 'Z'='Z', 'z'='z', 'À'='A', 'Á'='A', 'Â'='A', 'Ã'='A', 'Ä'='A', 'Å'='A', 'Æ'='A', 'Ç'='C', 'È'='E', 'É'='E',\n",
    "                             'Ê'='E', 'Ë'='E', 'Ì'='I', 'Í'='I', 'Î'='I', 'Ï'='I', 'Ñ'='N', 'Ò'='O', 'Ó'='O', 'Ô'='O', 'Õ'='O', 'Ö'='O', 'Ø'='O', 'Ù'='U',\n",
    "                             'Ú'='U', 'Û'='U', 'Ü'='U', 'Ý'='Y', 'Þ'='B', 'ß'='Ss', 'à'='a', 'á'='a', 'â'='a', 'ã'='a', 'ä'='a', 'å'='a', 'æ'='a', 'ç'='c',\n",
    "                             'è'='e', 'é'='e', 'ê'='e', 'ë'='e', 'ì'='i', 'í'='i', 'î'='i', 'ï'='i', 'ð'='o', 'ñ'='n', 'ò'='o', 'ó'='o', 'ô'='o', 'õ'='o',\n",
    "                             'ö'='o', 'ø'='o', 'ù'='u', 'ú'='u', 'û'='u', 'ý'='y', 'ý'='y', 'þ'='b', 'ÿ'='y' )"
   ]
  },
  {
   "cell_type": "code",
   "execution_count": null,
   "metadata": {},
   "outputs": [],
   "source": [
    "LimparTexto <- function(texto){\n",
    "  texto <- tolower(texto)\n",
    "  texto <- gsub(\"\\\\s?(f|ht)(tp)(s?)(://)([^\\\\.]*)[\\\\.|/](\\\\S*)\", texto, replacement=\"\")\n",
    "  texto <- gsub(\"\\n\", texto, replacement=\" \")\n",
    "  texto <- gsub(pattern=\"[[:punct:]]\", texto, replacement=\"\")\n",
    "  texto <- removeWords(texto, stopwords(\"portuguese\"))\n",
    "  texto <- gsubfn(paste(names(CaracteresParaMudar),collapse='|'), CaracteresParaMudar, texto)\n",
    "  texto <- iconv(texto,from=\"UTF-8\",to=\"ASCII//TRANSLIT\")\n",
    "  return(texto)\n",
    "}"
   ]
  },
  {
   "cell_type": "code",
   "execution_count": null,
   "metadata": {},
   "outputs": [],
   "source": [
    "postsLimpos <- as.vector( as.character( LimparTexto(posts$text) ) )\n",
    "\n",
    "head(postsLimpos)"
   ]
  },
  {
   "cell_type": "code",
   "execution_count": null,
   "metadata": {},
   "outputs": [],
   "source": [
    "#Criar nuvem de textos\n",
    "#*********************\n",
    "prepararNuvem <- function()\n",
    "{\n",
    "  docs <- Corpus(VectorSource(postsLimpos))\n",
    "  dtm <- TermDocumentMatrix(docs)\n",
    "  m <- as.matrix(dtm)\n",
    "  v <- sort(rowSums(m),decreasing=TRUE)\n",
    "  d <- data.frame(word = names(v),freq=v)\n",
    "  return(d)\n",
    "}"
   ]
  },
  {
   "cell_type": "code",
   "execution_count": null,
   "metadata": {},
   "outputs": [],
   "source": [
    "d <- prepararNuvem()\n",
    "\n",
    "wordcloud(words = d$word, freq = d$freq, min.freq = 1\n",
    "          ,max.words=150\n",
    "          ,random.order=FALSE\n",
    "          ,colors=brewer.pal(8, \"Dark2\") )\n"
   ]
  },
  {
   "cell_type": "code",
   "execution_count": null,
   "metadata": {},
   "outputs": [],
   "source": [
    "updateStatus( paste(\"Ao procurar\", toupper(termo), \"desde\", desde, \"foram encontradas\", totalTweets, \"postagens.\" ) )"
   ]
  }
 ],
 "metadata": {
  "kernelspec": {
   "display_name": "Python 3",
   "language": "python",
   "name": "python3"
  },
  "language_info": {
   "codemirror_mode": {
    "name": "ipython",
    "version": 3
   },
   "file_extension": ".py",
   "mimetype": "text/x-python",
   "name": "python",
   "nbconvert_exporter": "python",
   "pygments_lexer": "ipython3",
   "version": "3.6.9"
  }
 },
 "nbformat": 4,
 "nbformat_minor": 2
}
