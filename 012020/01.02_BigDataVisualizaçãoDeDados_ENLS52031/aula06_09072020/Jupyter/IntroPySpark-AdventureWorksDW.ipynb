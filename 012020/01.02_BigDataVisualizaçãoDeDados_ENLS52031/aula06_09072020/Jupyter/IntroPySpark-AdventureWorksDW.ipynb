{
 "cells": [
  {
   "cell_type": "markdown",
   "metadata": {},
   "source": [
    "# Dataset AdventureWorksDW"
   ]
  },
  {
   "cell_type": "markdown",
   "metadata": {},
   "source": [
    "### Operações SQL simples"
   ]
  },
  {
   "cell_type": "markdown",
   "metadata": {},
   "source": [
    "A base **AdventureWorksDW** https://github.com/microsoft/sql-server-samples/ é bastante conhecida no mundo de dados Microsoft.\n",
    "\n",
    "Vamos fazer algumas atividades com o SparkSQL, como desafios."
   ]
  },
  {
   "cell_type": "markdown",
   "metadata": {},
   "source": [
    "### Carregando o PySpark"
   ]
  },
  {
   "cell_type": "code",
   "execution_count": 1,
   "metadata": {},
   "outputs": [],
   "source": [
    "# !pip install pyspark"
   ]
  },
  {
   "cell_type": "code",
   "execution_count": 2,
   "metadata": {},
   "outputs": [],
   "source": [
    "from pyspark import SparkContext, SparkConf\n",
    "from pyspark.sql import SQLContext"
   ]
  },
  {
   "cell_type": "code",
   "execution_count": 3,
   "metadata": {},
   "outputs": [],
   "source": [
    "conf = SparkConf().setMaster('local').setAppName('PySpark SQL')\n",
    "sc = SparkContext.getOrCreate(conf = conf)"
   ]
  },
  {
   "cell_type": "markdown",
   "metadata": {},
   "source": [
    "Criação do contexto do objeto SparkSQL que será responsável por executar as *query* do Spark com comandos SQL."
   ]
  },
  {
   "cell_type": "code",
   "execution_count": 4,
   "metadata": {},
   "outputs": [],
   "source": [
    "sql = SQLContext(sc)"
   ]
  },
  {
   "cell_type": "code",
   "execution_count": 5,
   "metadata": {},
   "outputs": [
    {
     "data": {
      "text/plain": [
       "<pyspark.sql.context.SQLContext at 0x7f1d89d1c400>"
      ]
     },
     "execution_count": 5,
     "metadata": {},
     "output_type": "execute_result"
    }
   ],
   "source": [
    "sql"
   ]
  },
  {
   "cell_type": "markdown",
   "metadata": {},
   "source": [
    "Aqui é a criação de um Dataframe com os dados que estamos lendo do arquivo CSV. Usamos o contexto do SparkSQL, mas ainda sim é um Dataframe"
   ]
  },
  {
   "cell_type": "code",
   "execution_count": 6,
   "metadata": {},
   "outputs": [],
   "source": [
    "FactInternetSales_Spark = sql.read.format(\"csv\").options(header='true').load('AdventureWorksDW/FactInternetSales.csv')\n",
    "DimSalesTerritory_Spark = sql.read.format(\"csv\").options(header='true').load('AdventureWorksDW/DimSalesTerritory.csv')\n",
    "DimProductSubcategory_Spark = sql.read.format(\"csv\").options(header='true').load('AdventureWorksDW/DimProductSubcategory.csv')\n",
    "DimProductCategory_Spark = sql.read.format(\"csv\").options(header='true').load('AdventureWorksDW/DimProductCategory.csv')\n",
    "DimProduct_Spark = sql.read.format(\"csv\").options(header='true').load('AdventureWorksDW/DimProduct.csv')\n",
    "DimCustomer_Spark = sql.read.format(\"csv\").options(header='true').load('AdventureWorksDW/DimCustomer.csv')"
   ]
  },
  {
   "cell_type": "code",
   "execution_count": 7,
   "metadata": {},
   "outputs": [
    {
     "name": "stdout",
     "output_type": "stream",
     "text": [
      "root\n",
      " |-- ProductKey: string (nullable = true)\n",
      " |-- OrderDateKey: string (nullable = true)\n",
      " |-- DueDateKey: string (nullable = true)\n",
      " |-- ShipDateKey: string (nullable = true)\n",
      " |-- CustomerKey: string (nullable = true)\n",
      " |-- PromotionKey: string (nullable = true)\n",
      " |-- CurrencyKey: string (nullable = true)\n",
      " |-- SalesTerritoryKey: string (nullable = true)\n",
      " |-- SalesOrderNumber: string (nullable = true)\n",
      " |-- SalesOrderLineNumber: string (nullable = true)\n",
      " |-- RevisionNumber: string (nullable = true)\n",
      " |-- OrderQuantity: string (nullable = true)\n",
      " |-- UnitPrice: string (nullable = true)\n",
      " |-- ExtendedAmount: string (nullable = true)\n",
      " |-- UnitPriceDiscountPct: string (nullable = true)\n",
      " |-- DiscountAmount: string (nullable = true)\n",
      " |-- ProductStandardCost: string (nullable = true)\n",
      " |-- TotalProductCost: string (nullable = true)\n",
      " |-- SalesAmount: string (nullable = true)\n",
      " |-- TaxAmt: string (nullable = true)\n",
      " |-- Freight: string (nullable = true)\n",
      " |-- CarrierTrackingNumber: string (nullable = true)\n",
      " |-- CustomerPONumber: string (nullable = true)\n",
      " |-- OrderDate: string (nullable = true)\n",
      " |-- DueDate: string (nullable = true)\n",
      " |-- ShipDate: string (nullable = true)\n",
      "\n"
     ]
    }
   ],
   "source": [
    "FactInternetSales_Spark.printSchema()"
   ]
  },
  {
   "cell_type": "code",
   "execution_count": 8,
   "metadata": {},
   "outputs": [
    {
     "name": "stdout",
     "output_type": "stream",
     "text": [
      "+----------+----------------+\n",
      "|ProductKey|TotalProductCost|\n",
      "+----------+----------------+\n",
      "|       310|       2171.2942|\n",
      "|       346|       1912.1544|\n",
      "|       346|       1912.1544|\n",
      "|       336|        413.1463|\n",
      "|       346|       1912.1544|\n",
      "|       311|       2171.2942|\n",
      "|       310|       2171.2942|\n",
      "|       351|       1898.0944|\n",
      "|       344|       1912.1544|\n",
      "|       312|       2171.2942|\n",
      "+----------+----------------+\n",
      "only showing top 10 rows\n",
      "\n"
     ]
    }
   ],
   "source": [
    "FactInternetSales_Spark.select([\"ProductKey\",\"TotalProductCost\"]).show(10)"
   ]
  },
  {
   "cell_type": "markdown",
   "metadata": {},
   "source": [
    "A partir do dataframe **dadosSpark**, vamos registrar uma tabela temporária do SQL, chamada **Carros**"
   ]
  },
  {
   "cell_type": "code",
   "execution_count": 9,
   "metadata": {},
   "outputs": [],
   "source": [
    "FactInternetSales_Spark.registerTempTable(\"FactInternetSales\")\n",
    "DimSalesTerritory_Spark.registerTempTable(\"DimSalesTerritory\")\n",
    "DimProductSubcategory_Spark.registerTempTable(\"DimProductSubcategory\")\n",
    "DimProductCategory_Spark.registerTempTable(\"DimProductCategory\")\n",
    "DimProduct_Spark.registerTempTable(\"DimProduct\")\n",
    "DimCustomer_Spark.registerTempTable(\"DimCustomer\")"
   ]
  },
  {
   "cell_type": "markdown",
   "metadata": {},
   "source": [
    "A partir do motor do **SparkSQL** vamos escrever uma *query* em SQL que retornará todas as linhas e colunas da nossa base"
   ]
  },
  {
   "cell_type": "code",
   "execution_count": 10,
   "metadata": {},
   "outputs": [
    {
     "name": "stdout",
     "output_type": "stream",
     "text": [
      "+---------------------+------------------------------+-----------------------------+-----------------------------+----------------------------+------------------+\n",
      "|ProductSubcategoryKey|ProductSubcategoryAlternateKey|EnglishProductSubcategoryName|SpanishProductSubcategoryName|FrenchProductSubcategoryName|ProductCategoryKey|\n",
      "+---------------------+------------------------------+-----------------------------+-----------------------------+----------------------------+------------------+\n",
      "|                    4|                             4|                   Handlebars|                        Barra|               Barre d'appui|                 2|\n",
      "|                    5|                             5|              Bottom Brackets|              Eje de pedalier|             Axe de p�dalier|                 2|\n",
      "|                    6|                             6|                       Brakes|                       Frenos|                      Freins|                 2|\n",
      "|                    7|                             7|                       Chains|                       Cadena|                      Cha�ne|                 2|\n",
      "|                    8|                             8|                    Cranksets|                       Bielas|                    P�dalier|                 2|\n",
      "|                    9|                             9|                  Derailleurs|                    Desviador|                  D�railleur|                 2|\n",
      "|                   10|                            10|                        Forks|                    Horquilla|                     Fourche|                 2|\n",
      "|                   11|                            11|                     Headsets|                    Direcci�n|            Jeu de direction|                 2|\n",
      "|                   12|                            12|              Mountain Frames|            Cuadro de monta�a|                Cadre de VTT|                 2|\n",
      "|                   13|                            13|                       Pedals|                        Pedal|                      P�dale|                 2|\n",
      "|                   14|                            14|                  Road Frames|          Cuadro de carretera|        Cadre de v�lo de ...|                 2|\n",
      "|                   15|                            15|                      Saddles|                       Sill�n|                       Selle|                 2|\n",
      "|                   16|                            16|               Touring Frames|              Cuadro de paseo|        Cadre de v�lo de ...|                 2|\n",
      "|                   17|                            17|                       Wheels|                        Rueda|                        Roue|                 2|\n",
      "+---------------------+------------------------------+-----------------------------+-----------------------------+----------------------------+------------------+\n",
      "\n"
     ]
    }
   ],
   "source": [
    "sql.sql(\"SELECT sub.* FROM \\\n",
    "            DimProductSubcategory as SUB inner join \\\n",
    "            DimProductCategory Cat \\\n",
    "                on SUB.ProductCategoryKey = Cat.ProductCategoryKey \\\n",
    "            where Cat.ProductCategoryKey = 2\").show()"
   ]
  },
  {
   "cell_type": "code",
   "execution_count": 21,
   "metadata": {},
   "outputs": [
    {
     "name": "stdout",
     "output_type": "stream",
     "text": [
      "+----------+------------+----------+-----------+-----------+------------+-----------+-----------------+----------------+--------------------+--------------+-------------+---------+--------------+--------------------+--------------+-------------------+----------------+-----------+--------+-------+---------------------+----------------+---------------+--------------+-------------+\n",
      "|ProductKey|OrderDateKey|DueDateKey|ShipDateKey|CustomerKey|PromotionKey|CurrencyKey|SalesTerritoryKey|SalesOrderNumber|SalesOrderLineNumber|RevisionNumber|OrderQuantity|UnitPrice|ExtendedAmount|UnitPriceDiscountPct|DiscountAmount|ProductStandardCost|TotalProductCost|SalesAmount|  TaxAmt|Freight|CarrierTrackingNumber|CustomerPONumber|      OrderDate|       DueDate|     ShipDate|\n",
      "+----------+------------+----------+-----------+-----------+------------+-----------+-----------------+----------------+--------------------+--------------+-------------+---------+--------------+--------------------+--------------+-------------------+----------------+-----------+--------+-------+---------------------+----------------+---------------+--------------+-------------+\n",
      "|       310|    20101229|  20110110|   20110105|      21768|           1|         19|                6|         SO43697|                   1|             1|            1|  3578.27|       3578.27|                   0|             0|          2171.2942|       2171.2942|    3578.27|286.2616|89.4568|                 null|            null|12/29/2010 0:00|1/10/2011 0:00|1/5/2011 0:00|\n",
      "|       346|    20101229|  20110110|   20110105|      28389|           1|         39|                7|         SO43698|                   1|             1|            1|  3399.99|       3399.99|                   0|             0|          1912.1544|       1912.1544|    3399.99|271.9992|84.9998|                 null|            null|12/29/2010 0:00|1/10/2011 0:00|1/5/2011 0:00|\n",
      "|       346|    20101229|  20110110|   20110105|      25863|           1|        100|                1|         SO43699|                   1|             1|            1|  3399.99|       3399.99|                   0|             0|          1912.1544|       1912.1544|    3399.99|271.9992|84.9998|                 null|            null|12/29/2010 0:00|1/10/2011 0:00|1/5/2011 0:00|\n",
      "|       336|    20101229|  20110110|   20110105|      14501|           1|        100|                4|         SO43700|                   1|             1|            1| 699.0982|      699.0982|                   0|             0|           413.1463|        413.1463|   699.0982| 55.9279|17.4775|                 null|            null|12/29/2010 0:00|1/10/2011 0:00|1/5/2011 0:00|\n",
      "|       346|    20101229|  20110110|   20110105|      11003|           1|          6|                9|         SO43701|                   1|             1|            1|  3399.99|       3399.99|                   0|             0|          1912.1544|       1912.1544|    3399.99|271.9992|84.9998|                 null|            null|12/29/2010 0:00|1/10/2011 0:00|1/5/2011 0:00|\n",
      "|       311|    20101230|  20110111|   20110106|      27645|           1|        100|                4|         SO43702|                   1|             1|            1|  3578.27|       3578.27|                   0|             0|          2171.2942|       2171.2942|    3578.27|286.2616|89.4568|                 null|            null|12/30/2010 0:00|1/11/2011 0:00|1/6/2011 0:00|\n",
      "|       310|    20101230|  20110111|   20110106|      16624|           1|          6|                9|         SO43703|                   1|             1|            1|  3578.27|       3578.27|                   0|             0|          2171.2942|       2171.2942|    3578.27|286.2616|89.4568|                 null|            null|12/30/2010 0:00|1/11/2011 0:00|1/6/2011 0:00|\n",
      "|       351|    20101230|  20110111|   20110106|      11005|           1|          6|                9|         SO43704|                   1|             1|            1|  3374.99|       3374.99|                   0|             0|          1898.0944|       1898.0944|    3374.99|269.9992|84.3748|                 null|            null|12/30/2010 0:00|1/11/2011 0:00|1/6/2011 0:00|\n",
      "|       344|    20101230|  20110111|   20110106|      11011|           1|          6|                9|         SO43705|                   1|             1|            1|  3399.99|       3399.99|                   0|             0|          1912.1544|       1912.1544|    3399.99|271.9992|84.9998|                 null|            null|12/30/2010 0:00|1/11/2011 0:00|1/6/2011 0:00|\n",
      "|       312|    20101231|  20110112|   20110107|      27621|           1|        100|                4|         SO43706|                   1|             1|            1|  3578.27|       3578.27|                   0|             0|          2171.2942|       2171.2942|    3578.27|286.2616|89.4568|                 null|            null|12/31/2010 0:00|1/12/2011 0:00|1/7/2011 0:00|\n",
      "|       312|    20101231|  20110112|   20110107|      27616|           1|        100|                4|         SO43707|                   1|             1|            1|  3578.27|       3578.27|                   0|             0|          2171.2942|       2171.2942|    3578.27|286.2616|89.4568|                 null|            null|12/31/2010 0:00|1/12/2011 0:00|1/7/2011 0:00|\n",
      "|       330|    20101231|  20110112|   20110107|      20042|           1|         98|               10|         SO43708|                   1|             1|            1| 699.0982|      699.0982|                   0|             0|           413.1463|        413.1463|   699.0982| 55.9279|17.4775|                 null|            null|12/31/2010 0:00|1/12/2011 0:00|1/7/2011 0:00|\n",
      "|       313|    20101231|  20110112|   20110107|      16351|           1|          6|                9|         SO43709|                   1|             1|            1|  3578.27|       3578.27|                   0|             0|          2171.2942|       2171.2942|    3578.27|286.2616|89.4568|                 null|            null|12/31/2010 0:00|1/12/2011 0:00|1/7/2011 0:00|\n",
      "|       314|    20101231|  20110112|   20110107|      16517|           1|          6|                9|         SO43710|                   1|             1|            1|  3578.27|       3578.27|                   0|             0|          2171.2942|       2171.2942|    3578.27|286.2616|89.4568|                 null|            null|12/31/2010 0:00|1/12/2011 0:00|1/7/2011 0:00|\n",
      "|       314|    20110101|  20110113|   20110108|      27606|           1|        100|                1|         SO43711|                   1|             1|            1|  3578.27|       3578.27|                   0|             0|          2171.2942|       2171.2942|    3578.27|286.2616|89.4568|                 null|            null|  1/1/2011 0:00|1/13/2011 0:00|1/8/2011 0:00|\n",
      "|       311|    20110101|  20110113|   20110108|      13513|           1|         29|                8|         SO43712|                   1|             1|            1|  3578.27|       3578.27|                   0|             0|          2171.2942|       2171.2942|    3578.27|286.2616|89.4568|                 null|            null|  1/1/2011 0:00|1/13/2011 0:00|1/8/2011 0:00|\n",
      "|       310|    20110102|  20110114|   20110109|      27601|           1|        100|                4|         SO43713|                   1|             1|            1|  3578.27|       3578.27|                   0|             0|          2171.2942|       2171.2942|    3578.27|286.2616|89.4568|                 null|            null|  1/2/2011 0:00|1/14/2011 0:00|1/9/2011 0:00|\n",
      "|       311|    20110102|  20110114|   20110109|      13591|           1|         98|               10|         SO43714|                   1|             1|            1|  3578.27|       3578.27|                   0|             0|          2171.2942|       2171.2942|    3578.27|286.2616|89.4568|                 null|            null|  1/2/2011 0:00|1/14/2011 0:00|1/9/2011 0:00|\n",
      "|       314|    20110102|  20110114|   20110109|      16483|           1|          6|                9|         SO43715|                   1|             1|            1|  3578.27|       3578.27|                   0|             0|          2171.2942|       2171.2942|    3578.27|286.2616|89.4568|                 null|            null|  1/2/2011 0:00|1/14/2011 0:00|1/9/2011 0:00|\n",
      "|       311|    20110102|  20110114|   20110109|      16529|           1|          6|                9|         SO43716|                   1|             1|            1|  3578.27|       3578.27|                   0|             0|          2171.2942|       2171.2942|    3578.27|286.2616|89.4568|                 null|            null|  1/2/2011 0:00|1/14/2011 0:00|1/9/2011 0:00|\n",
      "+----------+------------+----------+-----------+-----------+------------+-----------+-----------------+----------------+--------------------+--------------+-------------+---------+--------------+--------------------+--------------+-------------------+----------------+-----------+--------+-------+---------------------+----------------+---------------+--------------+-------------+\n",
      "only showing top 20 rows\n",
      "\n"
     ]
    }
   ],
   "source": [
    "# FactInternetSales_Spark.select([\"ProductKey\",\"ExtendedAmount\"])\\\n",
    "#                                 .show(10)\n",
    "sql.sql(\"SELECT * FROM FactInternetSales\")\\\n",
    ".show()"
   ]
  },
  {
   "cell_type": "code",
   "execution_count": 22,
   "metadata": {},
   "outputs": [
    {
     "name": "stdout",
     "output_type": "stream",
     "text": [
      "+------+\n",
      "|ProdId|\n",
      "+------+\n",
      "|   310|\n",
      "|   346|\n",
      "|   346|\n",
      "|   336|\n",
      "|   346|\n",
      "|   311|\n",
      "|   310|\n",
      "|   351|\n",
      "|   344|\n",
      "|   312|\n",
      "|   312|\n",
      "|   330|\n",
      "|   313|\n",
      "|   314|\n",
      "|   314|\n",
      "|   311|\n",
      "|   310|\n",
      "|   311|\n",
      "|   314|\n",
      "|   311|\n",
      "+------+\n",
      "only showing top 20 rows\n",
      "\n"
     ]
    }
   ],
   "source": [
    "# sql.sql(\"\").show()\n",
    "sql.sql(\"SELECT ProductKey AS ProdId FROM FactInternetSales\\\n",
    "        GROU\")\\\n",
    "        .show()"
   ]
  },
  {
   "cell_type": "code",
   "execution_count": 23,
   "metadata": {},
   "outputs": [
    {
     "name": "stdout",
     "output_type": "stream",
     "text": [
      "+-----------+---------+-----------+\n",
      "|  Categoria|     Pais|TotalVendas|\n",
      "+-----------+---------+-----------+\n",
      "|Accessories|Australia|  138690.63|\n",
      "|      Bikes|Australia|  8852050.0|\n",
      "|   Clothing|Australia|   70259.95|\n",
      "|Accessories|   Canada|  103377.85|\n",
      "|      Bikes|   Canada| 1821302.39|\n",
      "|   Clothing|   Canada|   53164.62|\n",
      "|Accessories|   France|   63406.78|\n",
      "|      Bikes|   France| 2553575.71|\n",
      "|   Clothing|   France|   27035.22|\n",
      "|Accessories|  Germany|   62232.59|\n",
      "+-----------+---------+-----------+\n",
      "only showing top 10 rows\n",
      "\n"
     ]
    }
   ],
   "source": [
    "# sql.sql(\"\").show()\n",
    "sql.sql(\"select CatP.EnglishProductCategoryName as Categoria, SalT.SalesTerritoryCountry as Pais, round(sum(FIS.SalesAmount),2) AS TotalVendas from \\\n",
    "    FactInternetSales FIS inner join DimProduct AS Prod on FIS.ProductKey = Prod.ProductKey \\\n",
    "    inner join DimProductSubcategory AS SubC on Prod.ProductSubcategoryKey = SubC.ProductSubcategoryKey \\\n",
    "    inner join DimProductCategory AS CatP on SubC.ProductCategoryKey = CatP.ProductCategoryKey \\\n",
    "    inner join DimSalesTerritory AS SalT on FIS.SalesTerritoryKey = SalT.SalesTerritoryKey \\\n",
    "    group by CatP.EnglishProductCategoryName, SalT.SalesTerritoryCountry \\\n",
    "    order by SalT.SalesTerritoryCountry, CatP.EnglishProductCategoryName\").show(10)"
   ]
  },
  {
   "cell_type": "code",
   "execution_count": null,
   "metadata": {},
   "outputs": [],
   "source": [
    "# sql.sql(\"\").show()"
   ]
  }
 ],
 "metadata": {
  "kernelspec": {
   "display_name": "Python 3",
   "language": "python",
   "name": "python3"
  },
  "language_info": {
   "codemirror_mode": {
    "name": "ipython",
    "version": 3
   },
   "file_extension": ".py",
   "mimetype": "text/x-python",
   "name": "python",
   "nbconvert_exporter": "python",
   "pygments_lexer": "ipython3",
   "version": "3.6.9"
  }
 },
 "nbformat": 4,
 "nbformat_minor": 2
}
