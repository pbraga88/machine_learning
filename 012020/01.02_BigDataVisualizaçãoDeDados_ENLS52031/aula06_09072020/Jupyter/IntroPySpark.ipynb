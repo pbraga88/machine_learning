{
  "cells": [
    {
      "metadata": {},
      "cell_type": "markdown",
      "source": "# Dataset Iris"
    },
    {
      "metadata": {},
      "cell_type": "markdown",
      "source": "### Exploração simples"
    },
    {
      "metadata": {},
      "cell_type": "markdown",
      "source": "O **Dataset Iris** é bastante comum de ser utilizado para explicar alguns recursos de *Machine Learning*. Aqui não será diferente, e utilizaremos para dar base à nossa atividade de hoje.\n\nNo primeiro momento, vamos analisar rapidamente este conjunto de dados, e ver duas de suas variáveis, a **Petal.Length** e a **Petal.Width** com a geração de um gráfico de dispersão.\n\nApós a geração do gráfico, vamos recriar o dataset em um novo objeto. O objetivo é observar somente os dados e com isso, aplicar um modelo de Aprendizado Não Supervisionado. É esperado que o algoritmo encontre valores similares aos reais. Para finalizar, vamos comparar o resultado do modelo criado com o que já possuímos da exploração inicial."
    },
    {
      "metadata": {
        "trusted": true
      },
      "cell_type": "code",
      "source": "import pandas as pd\nimport numpy as np\nimport matplotlib.pyplot as plt",
      "execution_count": null,
      "outputs": []
    },
    {
      "metadata": {
        "trusted": true
      },
      "cell_type": "code",
      "source": "dados = pd.read_csv(\"Dataset/iris.csv\", header=None, names=['Sepal.Length','Sepal.Width','Petal.Length','Petal.Width','Species'])",
      "execution_count": null,
      "outputs": []
    },
    {
      "metadata": {
        "trusted": true
      },
      "cell_type": "code",
      "source": "dados.info()",
      "execution_count": null,
      "outputs": []
    },
    {
      "metadata": {
        "trusted": true
      },
      "cell_type": "code",
      "source": "dados.describe()",
      "execution_count": null,
      "outputs": []
    },
    {
      "metadata": {
        "trusted": true
      },
      "cell_type": "code",
      "source": "dados.head()",
      "execution_count": null,
      "outputs": []
    },
    {
      "metadata": {
        "trusted": true
      },
      "cell_type": "code",
      "source": "cores = {'setosa':'tab:cyan','versicolor':'tab:purple','virginica':'tab:green'}\n\nfor especies in dados['Species'].unique():\n    tmp = dados[dados['Species'] == especies]\n    plt.scatter(tmp['Petal.Length'], tmp['Petal.Width'], color=cores[especies] )",
      "execution_count": null,
      "outputs": []
    },
    {
      "metadata": {},
      "cell_type": "markdown",
      "source": "### K-Means com PySpark"
    },
    {
      "metadata": {
        "trusted": true
      },
      "cell_type": "code",
      "source": "# !pip install pyspark",
      "execution_count": null,
      "outputs": []
    },
    {
      "metadata": {
        "trusted": true
      },
      "cell_type": "code",
      "source": "from pyspark.mllib.clustering import KMeans, KMeansModel\nfrom pyspark import SparkContext, SparkConf\n\nfrom numpy import array\nfrom math import sqrt\n",
      "execution_count": null,
      "outputs": []
    },
    {
      "metadata": {
        "trusted": true
      },
      "cell_type": "code",
      "source": "conf = SparkConf().setMaster('local').setAppName('PySpark Intro')\nsc = SparkContext.getOrCreate(conf = conf)",
      "execution_count": null,
      "outputs": []
    },
    {
      "metadata": {
        "trusted": true
      },
      "cell_type": "code",
      "source": "sc",
      "execution_count": null,
      "outputs": []
    },
    {
      "metadata": {
        "trusted": true
      },
      "cell_type": "code",
      "source": "dadosSpark = sc.textFile(\"iris.csv\")",
      "execution_count": null,
      "outputs": []
    },
    {
      "metadata": {
        "trusted": true
      },
      "cell_type": "code",
      "source": "dadosSpark.take(5)",
      "execution_count": null,
      "outputs": []
    },
    {
      "metadata": {
        "trusted": true
      },
      "cell_type": "code",
      "source": "dadosSpark = dadosSpark.map(lambda line: array([x for x in line.split(',')]) )",
      "execution_count": null,
      "outputs": []
    },
    {
      "metadata": {
        "trusted": true
      },
      "cell_type": "code",
      "source": "dadosSpark",
      "execution_count": null,
      "outputs": []
    },
    {
      "metadata": {
        "trusted": true
      },
      "cell_type": "code",
      "source": "dadosSpark.take(5)",
      "execution_count": null,
      "outputs": []
    },
    {
      "metadata": {
        "trusted": true
      },
      "cell_type": "code",
      "source": "#'Petal.Length' e 'Petal.Width'\ndadosSemSpecie = dadosSpark.map(lambda x : array([ float(x[2]),  float(x[3]) ]))",
      "execution_count": null,
      "outputs": []
    },
    {
      "metadata": {
        "trusted": true
      },
      "cell_type": "code",
      "source": "dadosSemSpecie",
      "execution_count": null,
      "outputs": []
    },
    {
      "metadata": {
        "trusted": true
      },
      "cell_type": "code",
      "source": "dadosSemSpecie.take(5)",
      "execution_count": null,
      "outputs": []
    },
    {
      "metadata": {
        "trusted": true
      },
      "cell_type": "code",
      "source": "KMeansCluster = KMeans.train(rdd=dadosSemSpecie,k=3,maxIterations=100,initializationMode='random')",
      "execution_count": null,
      "outputs": []
    },
    {
      "metadata": {
        "trusted": true
      },
      "cell_type": "code",
      "source": "KMeansCluster.centers",
      "execution_count": null,
      "outputs": []
    },
    {
      "metadata": {
        "trusted": true
      },
      "cell_type": "code",
      "source": "resultado = KMeansCluster.predict(dadosSemSpecie)\nresultado.take(5)",
      "execution_count": null,
      "outputs": []
    },
    {
      "metadata": {
        "trusted": true
      },
      "cell_type": "code",
      "source": "grupos = resultado.distinct()\ngrupos.take(3)",
      "execution_count": null,
      "outputs": []
    },
    {
      "metadata": {
        "trusted": true
      },
      "cell_type": "code",
      "source": "retorno = resultado.map(lambda x: (x)).collect()",
      "execution_count": null,
      "outputs": []
    },
    {
      "metadata": {
        "trusted": true
      },
      "cell_type": "code",
      "source": "arRetorno = array(retorno)\ndados['cluster'] = arRetorno",
      "execution_count": null,
      "outputs": []
    },
    {
      "metadata": {
        "trusted": true
      },
      "cell_type": "code",
      "source": "cores = {0:'tab:cyan',1:'tab:purple',2:'tab:green'}\n\nfor grupo in dados['cluster']:\n    tmp = dados[dados['cluster'] == grupo]\n    plt.scatter(tmp['Petal.Length'], tmp['Petal.Width'], color=cores[grupo] )\n",
      "execution_count": null,
      "outputs": []
    },
    {
      "metadata": {
        "trusted": true
      },
      "cell_type": "code",
      "source": "cores = {'setosa':'tab:cyan','versicolor':'tab:purple','virginica':'tab:green'}\n\nfor especies in dados['Species'].unique():\n    tmp = dados[dados['Species'] == especies]\n    plt.scatter(tmp['Petal.Length'], tmp['Petal.Width'], color=cores[especies] )",
      "execution_count": null,
      "outputs": []
    },
    {
      "metadata": {
        "trusted": true
      },
      "cell_type": "code",
      "source": "cores = {0:'tab:cyan',1:'tab:purple',2:'tab:green'}\n\nfor grupo in dados['cluster']:\n    tmp = dados[dados['cluster'] == grupo]\n    plt.scatter(tmp['Petal.Length'], tmp['Petal.Width'], color=cores[grupo] )\n    \ncentros = array(KMeansCluster.centers)\ncentros = pd.DataFrame(centros)\n\nplt.scatter(centros[0],centros[1], marker=\"^\", color=\"black\")\n",
      "execution_count": null,
      "outputs": []
    }
  ],
  "metadata": {
    "kernelspec": {
      "name": "python36",
      "display_name": "Python 3.6",
      "language": "python"
    },
    "language_info": {
      "mimetype": "text/x-python",
      "nbconvert_exporter": "python",
      "name": "python",
      "pygments_lexer": "ipython3",
      "version": "3.6.6",
      "file_extension": ".py",
      "codemirror_mode": {
        "version": 3,
        "name": "ipython"
      }
    }
  },
  "nbformat": 4,
  "nbformat_minor": 2
}