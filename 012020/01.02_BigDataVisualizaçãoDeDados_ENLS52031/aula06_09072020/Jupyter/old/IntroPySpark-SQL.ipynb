{
 "cells": [
  {
   "cell_type": "markdown",
   "metadata": {},
   "source": [
    "# Dataset MTCars"
   ]
  },
  {
   "cell_type": "markdown",
   "metadata": {},
   "source": [
    "### Operações SQL simples"
   ]
  },
  {
   "cell_type": "markdown",
   "metadata": {},
   "source": [
    "A base **MTCars** https://stat.ethz.ch/R-manual/R-devel/library/datasets/html/mtcars.html já é conhecida, e é bastante utilizada para exemplos de Machine Learning.\n",
    "\n",
    "Mesmo sendo uma base de dados com 32 linhas e 11 colunas, servirá bem para nosso exemplo de uso de consultas SQL a partir do Spark.\n",
    "\n",
    "Vamos fazer algumas atividades com o SparkSQL, siga os exemplos."
   ]
  },
  {
   "cell_type": "markdown",
   "metadata": {},
   "source": [
    "### Carregando o PySpark"
   ]
  },
  {
   "cell_type": "code",
   "execution_count": 1,
   "metadata": {},
   "outputs": [],
   "source": [
    "# !pip install pyspark"
   ]
  },
  {
   "cell_type": "code",
   "execution_count": 2,
   "metadata": {},
   "outputs": [],
   "source": [
    "from pyspark import SparkContext, SparkConf\n",
    "from pyspark.sql import SQLContext"
   ]
  },
  {
   "cell_type": "code",
   "execution_count": 3,
   "metadata": {},
   "outputs": [],
   "source": [
    "conf = SparkConf().setMaster('local').setAppName('PySpark SQL')\n",
    "sc = SparkContext.getOrCreate(conf = conf)"
   ]
  },
  {
   "cell_type": "markdown",
   "metadata": {},
   "source": [
    "Criação do contexto do objeto SparkSQL que será responsável por executar as *query* do Spark com comandos SQL."
   ]
  },
  {
   "cell_type": "code",
   "execution_count": 4,
   "metadata": {},
   "outputs": [],
   "source": [
    "sql = SQLContext(sc)"
   ]
  },
  {
   "cell_type": "code",
   "execution_count": 5,
   "metadata": {},
   "outputs": [
    {
     "data": {
      "text/plain": [
       "<pyspark.sql.context.SQLContext at 0x7fae3237c358>"
      ]
     },
     "execution_count": 5,
     "metadata": {},
     "output_type": "execute_result"
    }
   ],
   "source": [
    "sql"
   ]
  },
  {
   "cell_type": "markdown",
   "metadata": {},
   "source": [
    "Aqui é a criação de um Dataframe com os dados que estamos lendo do arquivo CSV. Usamos o contexto do SparkSQL, mas ainda sim é um Dataframe"
   ]
  },
  {
   "cell_type": "code",
   "execution_count": 8,
   "metadata": {},
   "outputs": [],
   "source": [
    "dadosSpark = sql.read.format(\"csv\").options(header='true').load('Data/mtcars.csv')"
   ]
  },
  {
   "cell_type": "code",
   "execution_count": 9,
   "metadata": {},
   "outputs": [
    {
     "data": {
      "text/plain": [
       "[Row(model='Mazda RX4', mpg='21', cyl='6', disp='160', hp='110', drat='3.9', wt='2.62', qsec='16.46', vs='0', am='1', gear='4', carb='4'),\n",
       " Row(model='Mazda RX4 Wag', mpg='21', cyl='6', disp='160', hp='110', drat='3.9', wt='2.875', qsec='17.02', vs='0', am='1', gear='4', carb='4'),\n",
       " Row(model='Datsun 710', mpg='22.8', cyl='4', disp='108', hp='93', drat='3.85', wt='2.32', qsec='18.61', vs='1', am='1', gear='4', carb='1'),\n",
       " Row(model='Hornet 4 Drive', mpg='21.4', cyl='6', disp='258', hp='110', drat='3.08', wt='3.215', qsec='19.44', vs='1', am='0', gear='3', carb='1'),\n",
       " Row(model='Hornet Sportabout', mpg='18.7', cyl='8', disp='360', hp='175', drat='3.15', wt='3.44', qsec='17.02', vs='0', am='0', gear='3', carb='2')]"
      ]
     },
     "execution_count": 9,
     "metadata": {},
     "output_type": "execute_result"
    }
   ],
   "source": [
    "dadosSpark.take(5)"
   ]
  },
  {
   "cell_type": "code",
   "execution_count": 10,
   "metadata": {},
   "outputs": [
    {
     "name": "stdout",
     "output_type": "stream",
     "text": [
      "root\n",
      " |-- model: string (nullable = true)\n",
      " |-- mpg: string (nullable = true)\n",
      " |-- cyl: string (nullable = true)\n",
      " |-- disp: string (nullable = true)\n",
      " |-- hp: string (nullable = true)\n",
      " |-- drat: string (nullable = true)\n",
      " |-- wt: string (nullable = true)\n",
      " |-- qsec: string (nullable = true)\n",
      " |-- vs: string (nullable = true)\n",
      " |-- am: string (nullable = true)\n",
      " |-- gear: string (nullable = true)\n",
      " |-- carb: string (nullable = true)\n",
      "\n"
     ]
    }
   ],
   "source": [
    "dadosSpark.printSchema()"
   ]
  },
  {
   "cell_type": "code",
   "execution_count": 11,
   "metadata": {},
   "outputs": [
    {
     "name": "stdout",
     "output_type": "stream",
     "text": [
      "+-------------------+\n",
      "|              model|\n",
      "+-------------------+\n",
      "|          Mazda RX4|\n",
      "|      Mazda RX4 Wag|\n",
      "|         Datsun 710|\n",
      "|     Hornet 4 Drive|\n",
      "|  Hornet Sportabout|\n",
      "|            Valiant|\n",
      "|         Duster 360|\n",
      "|          Merc 240D|\n",
      "|           Merc 230|\n",
      "|           Merc 280|\n",
      "|          Merc 280C|\n",
      "|         Merc 450SE|\n",
      "|         Merc 450SL|\n",
      "|        Merc 450SLC|\n",
      "| Cadillac Fleetwood|\n",
      "|Lincoln Continental|\n",
      "|  Chrysler Imperial|\n",
      "|           Fiat 128|\n",
      "|        Honda Civic|\n",
      "|     Toyota Corolla|\n",
      "+-------------------+\n",
      "only showing top 20 rows\n",
      "\n"
     ]
    }
   ],
   "source": [
    "dadosSpark.select(\"model\").show()"
   ]
  },
  {
   "cell_type": "markdown",
   "metadata": {},
   "source": [
    "A partir do dataframe **dadosSpark**, vamos registrar uma tabela temporária do SQL, chamada **Carros**"
   ]
  },
  {
   "cell_type": "code",
   "execution_count": 12,
   "metadata": {},
   "outputs": [],
   "source": [
    "dadosSpark.registerTempTable(\"carros\")"
   ]
  },
  {
   "cell_type": "markdown",
   "metadata": {},
   "source": [
    "A partir do motor do **SparkSQL** vamos escrever uma *query* em SQL que retornará todas as linhas e colunas da nossa base"
   ]
  },
  {
   "cell_type": "code",
   "execution_count": 13,
   "metadata": {},
   "outputs": [
    {
     "name": "stdout",
     "output_type": "stream",
     "text": [
      "+--------+\n",
      "|count(0)|\n",
      "+--------+\n",
      "|      32|\n",
      "+--------+\n",
      "\n"
     ]
    }
   ],
   "source": [
    "sql.sql(\"select count(0) from carros\").show(1)"
   ]
  },
  {
   "cell_type": "code",
   "execution_count": 14,
   "metadata": {},
   "outputs": [
    {
     "name": "stdout",
     "output_type": "stream",
     "text": [
      "+-------------------+----+---+-----+---+----+-----+-----+---+---+----+----+\n",
      "|              model| mpg|cyl| disp| hp|drat|   wt| qsec| vs| am|gear|carb|\n",
      "+-------------------+----+---+-----+---+----+-----+-----+---+---+----+----+\n",
      "|          Mazda RX4|  21|  6|  160|110| 3.9| 2.62|16.46|  0|  1|   4|   4|\n",
      "|      Mazda RX4 Wag|  21|  6|  160|110| 3.9|2.875|17.02|  0|  1|   4|   4|\n",
      "|         Datsun 710|22.8|  4|  108| 93|3.85| 2.32|18.61|  1|  1|   4|   1|\n",
      "|     Hornet 4 Drive|21.4|  6|  258|110|3.08|3.215|19.44|  1|  0|   3|   1|\n",
      "|  Hornet Sportabout|18.7|  8|  360|175|3.15| 3.44|17.02|  0|  0|   3|   2|\n",
      "|            Valiant|18.1|  6|  225|105|2.76| 3.46|20.22|  1|  0|   3|   1|\n",
      "|         Duster 360|14.3|  8|  360|245|3.21| 3.57|15.84|  0|  0|   3|   4|\n",
      "|          Merc 240D|24.4|  4|146.7| 62|3.69| 3.19|   20|  1|  0|   4|   2|\n",
      "|           Merc 230|22.8|  4|140.8| 95|3.92| 3.15| 22.9|  1|  0|   4|   2|\n",
      "|           Merc 280|19.2|  6|167.6|123|3.92| 3.44| 18.3|  1|  0|   4|   4|\n",
      "|          Merc 280C|17.8|  6|167.6|123|3.92| 3.44| 18.9|  1|  0|   4|   4|\n",
      "|         Merc 450SE|16.4|  8|275.8|180|3.07| 4.07| 17.4|  0|  0|   3|   3|\n",
      "|         Merc 450SL|17.3|  8|275.8|180|3.07| 3.73| 17.6|  0|  0|   3|   3|\n",
      "|        Merc 450SLC|15.2|  8|275.8|180|3.07| 3.78|   18|  0|  0|   3|   3|\n",
      "| Cadillac Fleetwood|10.4|  8|  472|205|2.93| 5.25|17.98|  0|  0|   3|   4|\n",
      "|Lincoln Continental|10.4|  8|  460|215|   3|5.424|17.82|  0|  0|   3|   4|\n",
      "|  Chrysler Imperial|14.7|  8|  440|230|3.23|5.345|17.42|  0|  0|   3|   4|\n",
      "|           Fiat 128|32.4|  4| 78.7| 66|4.08|  2.2|19.47|  1|  1|   4|   1|\n",
      "|        Honda Civic|30.4|  4| 75.7| 52|4.93|1.615|18.52|  1|  1|   4|   2|\n",
      "|     Toyota Corolla|33.9|  4| 71.1| 65|4.22|1.835| 19.9|  1|  1|   4|   1|\n",
      "|      Toyota Corona|21.5|  4|120.1| 97| 3.7|2.465|20.01|  1|  0|   3|   1|\n",
      "|   Dodge Challenger|15.5|  8|  318|150|2.76| 3.52|16.87|  0|  0|   3|   2|\n",
      "|        AMC Javelin|15.2|  8|  304|150|3.15|3.435| 17.3|  0|  0|   3|   2|\n",
      "|         Camaro Z28|13.3|  8|  350|245|3.73| 3.84|15.41|  0|  0|   3|   4|\n",
      "|   Pontiac Firebird|19.2|  8|  400|175|3.08|3.845|17.05|  0|  0|   3|   2|\n",
      "|          Fiat X1-9|27.3|  4|   79| 66|4.08|1.935| 18.9|  1|  1|   4|   1|\n",
      "|      Porsche 914-2|  26|  4|120.3| 91|4.43| 2.14| 16.7|  0|  1|   5|   2|\n",
      "|       Lotus Europa|30.4|  4| 95.1|113|3.77|1.513| 16.9|  1|  1|   5|   2|\n",
      "|     Ford Pantera L|15.8|  8|  351|264|4.22| 3.17| 14.5|  0|  1|   5|   4|\n",
      "|       Ferrari Dino|19.7|  6|  145|175|3.62| 2.77| 15.5|  0|  1|   5|   6|\n",
      "|      Maserati Bora|  15|  8|  301|335|3.54| 3.57| 14.6|  0|  1|   5|   8|\n",
      "|         Volvo 142E|21.4|  4|  121|109|4.11| 2.78| 18.6|  1|  1|   4|   2|\n",
      "+-------------------+----+---+-----+---+----+-----+-----+---+---+----+----+\n",
      "\n"
     ]
    }
   ],
   "source": [
    "sql.sql(\"select * from carros\").show(32)"
   ]
  },
  {
   "cell_type": "code",
   "execution_count": 15,
   "metadata": {},
   "outputs": [
    {
     "name": "stdout",
     "output_type": "stream",
     "text": [
      "+---------+---------+\n",
      "|Cilindros|PesoMedio|\n",
      "+---------+---------+\n",
      "|        8|      4.0|\n",
      "|        6|     3.12|\n",
      "|        4|     2.29|\n",
      "+---------+---------+\n",
      "\n"
     ]
    }
   ],
   "source": [
    "sql.sql(\"select cyl AS Cilindros, \\\n",
    "                round(avg(wt),2) AS PesoMedio \\\n",
    "         from carros group by cyl \").show()"
   ]
  },
  {
   "cell_type": "code",
   "execution_count": 21,
   "metadata": {},
   "outputs": [
    {
     "name": "stdout",
     "output_type": "stream",
     "text": [
      "+-------------------+\n",
      "|              model|\n",
      "+-------------------+\n",
      "|           Merc 230|\n",
      "|            Valiant|\n",
      "|      Toyota Corona|\n",
      "|          Merc 240D|\n",
      "|     Toyota Corolla|\n",
      "|           Fiat 128|\n",
      "|     Hornet 4 Drive|\n",
      "|          Fiat X1-9|\n",
      "|          Merc 280C|\n",
      "|         Datsun 710|\n",
      "|         Volvo 142E|\n",
      "|        Honda Civic|\n",
      "|           Merc 280|\n",
      "|        Merc 450SLC|\n",
      "| Cadillac Fleetwood|\n",
      "|Lincoln Continental|\n",
      "|         Merc 450SL|\n",
      "|  Chrysler Imperial|\n",
      "|         Merc 450SE|\n",
      "|        AMC Javelin|\n",
      "+-------------------+\n",
      "only showing top 20 rows\n",
      "\n"
     ]
    }
   ],
   "source": [
    "sql.sql(\"SELECT model FROM carros ORDER BY qsec DESC\").show()"
   ]
  },
  {
   "cell_type": "markdown",
   "metadata": {},
   "source": [
    "E é possível converter em Dataframe e depois gerar visualizações com os dados"
   ]
  },
  {
   "cell_type": "code",
   "execution_count": 22,
   "metadata": {},
   "outputs": [],
   "source": [
    "import pandas as pd\n",
    "import matplotlib.pyplot as plt"
   ]
  },
  {
   "cell_type": "code",
   "execution_count": 23,
   "metadata": {
    "scrolled": true
   },
   "outputs": [
    {
     "name": "stdout",
     "output_type": "stream",
     "text": [
      "<class 'pandas.core.frame.DataFrame'>\n",
      "RangeIndex: 32 entries, 0 to 31\n",
      "Data columns (total 3 columns):\n",
      "gear    32 non-null int32\n",
      "wt      32 non-null float32\n",
      "mpg     32 non-null float32\n",
      "dtypes: float32(2), int32(1)\n",
      "memory usage: 512.0 bytes\n"
     ]
    }
   ],
   "source": [
    "dados = sql.sql(\"select int(gear), float(wt), float(mpg) from carros\")\n",
    "df = dados.toPandas() \n",
    "df.info()"
   ]
  },
  {
   "cell_type": "code",
   "execution_count": 24,
   "metadata": {},
   "outputs": [
    {
     "data": {
      "text/plain": [
       "Text(0, 0.5, 'Milhas por Galão')"
      ]
     },
     "execution_count": 24,
     "metadata": {},
     "output_type": "execute_result"
    },
    {
     "data": {
      "image/png": "[encoded data removed]",
      "text/plain": [
       "<Figure size 1080x576 with 1 Axes>"
      ]
     },
     "metadata": {
      "needs_background": "light"
     },
     "output_type": "display_data"
    }
   ],
   "source": [
    "plt.figure(figsize=(15,8))\n",
    "\n",
    "cores = {3:'tab:cyan',4:'tab:purple',5:'tab:green'}\n",
    "marcadores = {3:'^',4:'s',5:'D'}\n",
    "\n",
    "for cambio in df['gear'].unique():\n",
    "    tmp = df[df['gear'] == cambio]\n",
    "    plt.scatter(tmp['wt'], tmp['mpg'], color=cores[cambio], marker=marcadores[cambio], s=100)\n",
    "\n",
    "plt.title(\"Motor Trend car Road Test\")\n",
    "plt.suptitle(\"Dados de 1974  Motor Trend US Magazine\")\n",
    "plt.xlabel(\"Peso do Carro\")\n",
    "plt.ylabel( \"Milhas por Galão\")"
   ]
  },
  {
   "cell_type": "code",
   "execution_count": null,
   "metadata": {},
   "outputs": [],
   "source": []
  }
 ],
 "metadata": {
  "kernelspec": {
   "display_name": "Python 3",
   "language": "python",
   "name": "python3"
  },
  "language_info": {
   "codemirror_mode": {
    "name": "ipython",
    "version": 3
   },
   "file_extension": ".py",
   "mimetype": "text/x-python",
   "name": "python",
   "nbconvert_exporter": "python",
   "pygments_lexer": "ipython3",
   "version": "3.6.9"
  }
 },
 "nbformat": 4,
 "nbformat_minor": 2
}
