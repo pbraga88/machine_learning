{
 "cells": [
  {
   "cell_type": "markdown",
   "metadata": {},
   "source": [
    "# Importação dos pacotes necessários - Pandas e MatPlotLib"
   ]
  },
  {
   "cell_type": "code",
   "execution_count": 1,
   "metadata": {},
   "outputs": [],
   "source": [
    "import pandas as pd"
   ]
  },
  {
   "cell_type": "code",
   "execution_count": 2,
   "metadata": {},
   "outputs": [],
   "source": [
    "import matplotlib.pyplot as plt"
   ]
  },
  {
   "cell_type": "markdown",
   "metadata": {},
   "source": [
    "Com o Pandas, criar um dataframe para a base **MTCars** https://stat.ethz.ch/R-manual/R-devel/library/datasets/html/mtcars.html"
   ]
  },
  {
   "cell_type": "code",
   "execution_count": 3,
   "metadata": {},
   "outputs": [],
   "source": [
    "df = pd.read_csv(\"Dataset/mtcars.csv\")"
   ]
  },
  {
   "cell_type": "markdown",
   "metadata": {},
   "source": [
    "## Entendendo a base de dados "
   ]
  },
  {
   "cell_type": "markdown",
   "metadata": {},
   "source": [
    "Observar a estrutura do dataset"
   ]
  },
  {
   "cell_type": "code",
   "execution_count": 4,
   "metadata": {},
   "outputs": [
    {
     "name": "stdout",
     "output_type": "stream",
     "text": [
      "<class 'pandas.core.frame.DataFrame'>\n",
      "RangeIndex: 32 entries, 0 to 31\n",
      "Data columns (total 12 columns):\n",
      " #   Column  Non-Null Count  Dtype  \n",
      "---  ------  --------------  -----  \n",
      " 0   model   32 non-null     object \n",
      " 1   mpg     32 non-null     float64\n",
      " 2   cyl     32 non-null     int64  \n",
      " 3   disp    32 non-null     float64\n",
      " 4   hp      32 non-null     int64  \n",
      " 5   drat    32 non-null     float64\n",
      " 6   wt      32 non-null     float64\n",
      " 7   qsec    32 non-null     float64\n",
      " 8   vs      32 non-null     int64  \n",
      " 9   am      32 non-null     int64  \n",
      " 10  gear    32 non-null     int64  \n",
      " 11  carb    32 non-null     int64  \n",
      "dtypes: float64(5), int64(6), object(1)\n",
      "memory usage: 3.1+ KB\n"
     ]
    }
   ],
   "source": [
    "df.info()"
   ]
  },
  {
   "cell_type": "markdown",
   "metadata": {},
   "source": [
    "Observar os primeiros registros do dataset"
   ]
  },
  {
   "cell_type": "code",
   "execution_count": 5,
   "metadata": {},
   "outputs": [
    {
     "data": {
      "text/html": [
       "<div>\n",
       "<style scoped>\n",
       "    .dataframe tbody tr th:only-of-type {\n",
       "        vertical-align: middle;\n",
       "    }\n",
       "\n",
       "    .dataframe tbody tr th {\n",
       "        vertical-align: top;\n",
       "    }\n",
       "\n",
       "    .dataframe thead th {\n",
       "        text-align: right;\n",
       "    }\n",
       "</style>\n",
       "<table border=\"1\" class=\"dataframe\">\n",
       "  <thead>\n",
       "    <tr style=\"text-align: right;\">\n",
       "      <th></th>\n",
       "      <th>model</th>\n",
       "      <th>mpg</th>\n",
       "      <th>cyl</th>\n",
       "      <th>disp</th>\n",
       "      <th>hp</th>\n",
       "      <th>drat</th>\n",
       "      <th>wt</th>\n",
       "      <th>qsec</th>\n",
       "      <th>vs</th>\n",
       "      <th>am</th>\n",
       "      <th>gear</th>\n",
       "      <th>carb</th>\n",
       "    </tr>\n",
       "  </thead>\n",
       "  <tbody>\n",
       "    <tr>\n",
       "      <th>0</th>\n",
       "      <td>Mazda RX4</td>\n",
       "      <td>21.0</td>\n",
       "      <td>6</td>\n",
       "      <td>160.0</td>\n",
       "      <td>110</td>\n",
       "      <td>3.90</td>\n",
       "      <td>2.620</td>\n",
       "      <td>16.46</td>\n",
       "      <td>0</td>\n",
       "      <td>1</td>\n",
       "      <td>4</td>\n",
       "      <td>4</td>\n",
       "    </tr>\n",
       "    <tr>\n",
       "      <th>1</th>\n",
       "      <td>Mazda RX4 Wag</td>\n",
       "      <td>21.0</td>\n",
       "      <td>6</td>\n",
       "      <td>160.0</td>\n",
       "      <td>110</td>\n",
       "      <td>3.90</td>\n",
       "      <td>2.875</td>\n",
       "      <td>17.02</td>\n",
       "      <td>0</td>\n",
       "      <td>1</td>\n",
       "      <td>4</td>\n",
       "      <td>4</td>\n",
       "    </tr>\n",
       "    <tr>\n",
       "      <th>2</th>\n",
       "      <td>Datsun 710</td>\n",
       "      <td>22.8</td>\n",
       "      <td>4</td>\n",
       "      <td>108.0</td>\n",
       "      <td>93</td>\n",
       "      <td>3.85</td>\n",
       "      <td>2.320</td>\n",
       "      <td>18.61</td>\n",
       "      <td>1</td>\n",
       "      <td>1</td>\n",
       "      <td>4</td>\n",
       "      <td>1</td>\n",
       "    </tr>\n",
       "    <tr>\n",
       "      <th>3</th>\n",
       "      <td>Hornet 4 Drive</td>\n",
       "      <td>21.4</td>\n",
       "      <td>6</td>\n",
       "      <td>258.0</td>\n",
       "      <td>110</td>\n",
       "      <td>3.08</td>\n",
       "      <td>3.215</td>\n",
       "      <td>19.44</td>\n",
       "      <td>1</td>\n",
       "      <td>0</td>\n",
       "      <td>3</td>\n",
       "      <td>1</td>\n",
       "    </tr>\n",
       "    <tr>\n",
       "      <th>4</th>\n",
       "      <td>Hornet Sportabout</td>\n",
       "      <td>18.7</td>\n",
       "      <td>8</td>\n",
       "      <td>360.0</td>\n",
       "      <td>175</td>\n",
       "      <td>3.15</td>\n",
       "      <td>3.440</td>\n",
       "      <td>17.02</td>\n",
       "      <td>0</td>\n",
       "      <td>0</td>\n",
       "      <td>3</td>\n",
       "      <td>2</td>\n",
       "    </tr>\n",
       "  </tbody>\n",
       "</table>\n",
       "</div>"
      ],
      "text/plain": [
       "               model   mpg  cyl   disp   hp  drat     wt   qsec  vs  am  gear  \\\n",
       "0          Mazda RX4  21.0    6  160.0  110  3.90  2.620  16.46   0   1     4   \n",
       "1      Mazda RX4 Wag  21.0    6  160.0  110  3.90  2.875  17.02   0   1     4   \n",
       "2         Datsun 710  22.8    4  108.0   93  3.85  2.320  18.61   1   1     4   \n",
       "3     Hornet 4 Drive  21.4    6  258.0  110  3.08  3.215  19.44   1   0     3   \n",
       "4  Hornet Sportabout  18.7    8  360.0  175  3.15  3.440  17.02   0   0     3   \n",
       "\n",
       "   carb  \n",
       "0     4  \n",
       "1     4  \n",
       "2     1  \n",
       "3     1  \n",
       "4     2  "
      ]
     },
     "execution_count": 5,
     "metadata": {},
     "output_type": "execute_result"
    }
   ],
   "source": [
    "df.head()"
   ]
  },
  {
   "cell_type": "markdown",
   "metadata": {},
   "source": [
    "## Plotagem de gráficos"
   ]
  },
  {
   "cell_type": "markdown",
   "metadata": {},
   "source": [
    "Gráfico de dispersão"
   ]
  },
  {
   "cell_type": "code",
   "execution_count": 6,
   "metadata": {},
   "outputs": [
    {
     "data": {
      "image/png": "[encoded data removed]",
      "text/plain": [
       "<Figure size 1080x576 with 1 Axes>"
      ]
     },
     "metadata": {
      "needs_background": "light"
     },
     "output_type": "display_data"
    }
   ],
   "source": [
    "plt.figure(figsize=(15,8))\n",
    "plt.scatter(df['wt'],df['mpg']);"
   ]
  },
  {
   "cell_type": "markdown",
   "metadata": {},
   "source": [
    "Adicionando **Título**, **Suptítulo** e **rótulos dos eixos**"
   ]
  },
  {
   "cell_type": "code",
   "execution_count": 7,
   "metadata": {},
   "outputs": [
    {
     "data": {
      "text/plain": [
       "Text(0, 0.5, 'Mimlhas por Galão')"
      ]
     },
     "execution_count": 7,
     "metadata": {},
     "output_type": "execute_result"
    },
    {
     "data": {
      "image/png": "[encoded data removed]",
      "text/plain": [
       "<Figure size 1080x576 with 1 Axes>"
      ]
     },
     "metadata": {
      "needs_background": "light"
     },
     "output_type": "display_data"
    }
   ],
   "source": [
    "plt.figure(figsize=(15,8))\n",
    "plt.scatter(df['wt'],df['mpg']);\n",
    "\n",
    "plt.title(\"Motor Trend car Road Test\")\n",
    "plt.suptitle(\"Dados de 1974  Motor Trend US Magazine\")\n",
    "plt.xlabel(\"Peso do Carro\")\n",
    "plt.ylabel( \"Mimlhas por Galão\")"
   ]
  },
  {
   "cell_type": "markdown",
   "metadata": {},
   "source": [
    "Inserindo cores a partir de uma variável"
   ]
  },
  {
   "cell_type": "code",
   "execution_count": 8,
   "metadata": {},
   "outputs": [
    {
     "data": {
      "text/plain": [
       "Text(0, 0.5, 'Milhas por Galão')"
      ]
     },
     "execution_count": 8,
     "metadata": {},
     "output_type": "execute_result"
    },
    {
     "data": {
      "image/png": "[encoded data removed]",
      "text/plain": [
       "<Figure size 1080x576 with 1 Axes>"
      ]
     },
     "metadata": {
      "needs_background": "light"
     },
     "output_type": "display_data"
    }
   ],
   "source": [
    "plt.figure(figsize=(15,8))\n",
    "\n",
    "cores = {3:'tab:cyan',4:'tab:purple',5:'tab:green'}\n",
    "\n",
    "for cambio in df['gear'].unique():\n",
    "    tmp = df[df['gear'] == cambio]\n",
    "    plt.scatter(tmp['wt'], tmp['mpg'], color=cores[cambio] )\n",
    "\n",
    "\n",
    "plt.title(\"Motor Trend car Road Test\")\n",
    "plt.suptitle(\"Dados de 1974  Motor Trend US Magazine\")\n",
    "plt.xlabel(\"Peso do Carro\")\n",
    "plt.ylabel( \"Milhas por Galão\")\n",
    "\n"
   ]
  },
  {
   "cell_type": "markdown",
   "metadata": {},
   "source": [
    "Inserindo marcadores a partir de uma variável"
   ]
  },
  {
   "cell_type": "code",
   "execution_count": null,
   "metadata": {},
   "outputs": [],
   "source": [
    "plt.figure(figsize=(15,8))\n",
    "\n",
    "cores = {3:'tab:cyan',4:'tab:purple',5:'tab:green'}\n",
    "marcadores = {3:'^',4:'s',5:'D'}\n",
    "\n",
    "\n",
    "for cambio in df['gear'].unique():\n",
    "    tmp = df[df['gear'] == cambio]\n",
    "    plt.scatter(tmp['wt'], tmp['mpg'], color=cores[cambio],\n",
    "                marker=marcadores[cambio], s=100)\n",
    "\n",
    "\n",
    "plt.title(\"Motor Trend car Road Test\")\n",
    "plt.suptitle(\"Dados de 1974  Motor Trend US Magazine\")\n",
    "plt.xlabel(\"Peso do Carro\")\n",
    "plt.ylabel( \"Milhas por Galão\")\n"
   ]
  },
  {
   "cell_type": "markdown",
   "metadata": {},
   "source": [
    "Histograma de uma variável"
   ]
  },
  {
   "cell_type": "code",
   "execution_count": null,
   "metadata": {},
   "outputs": [],
   "source": [
    "plt.figure(figsize=(15,8))\n",
    "plt.hist(df['mpg'], edgecolor=\"black\");\n",
    "\n",
    "plt.title(\"Histograma de MPG\", fontsize=20)\n",
    "plt.xlabel(\"Milhas por Galão\", fontsize=15)\n",
    "plt.ylabel(\"Frequência\", fontsize=15)"
   ]
  },
  {
   "cell_type": "markdown",
   "metadata": {},
   "source": [
    "Histograma com os dados normalizados"
   ]
  },
  {
   "cell_type": "code",
   "execution_count": null,
   "metadata": {},
   "outputs": [],
   "source": [
    "plt.figure(figsize=(15,8))\n",
    "plt.hist(df['mpg'], edgecolor=\"black\", density=True)"
   ]
  },
  {
   "cell_type": "markdown",
   "metadata": {},
   "source": [
    "Histograma impresso na horizontal"
   ]
  },
  {
   "cell_type": "code",
   "execution_count": null,
   "metadata": {},
   "outputs": [],
   "source": [
    "plt.figure(figsize=(15,8))\n",
    "plt.hist(df['mpg'], edgecolor=\"black\", orientation=\"horizontal\")"
   ]
  },
  {
   "cell_type": "markdown",
   "metadata": {},
   "source": [
    "Duas linhas verticais, a partir de valores calculados"
   ]
  },
  {
   "cell_type": "code",
   "execution_count": null,
   "metadata": {},
   "outputs": [],
   "source": [
    "plt.figure(figsize=(15,8))\n",
    "\n",
    "cores = [\"orange\",\"purple\"]\n",
    "legenda = [\"Média\",\"Mediana\"]\n",
    "\n",
    "plt.hist(df['mpg'], edgecolor=\"black\");\n",
    "media, mediana = df['mpg'].mean(), df['mpg'].median()\n",
    "plt.axvline(media, color=cores[0], lw=3, ls=\"--\")\n",
    "plt.axvline(mediana, color=cores[1], lw=3, ls=\"--\")\n"
   ]
  },
  {
   "cell_type": "markdown",
   "metadata": {},
   "source": [
    "Adicionando legenda no gráfico"
   ]
  },
  {
   "cell_type": "code",
   "execution_count": null,
   "metadata": {},
   "outputs": [],
   "source": [
    "plt.figure(figsize=(15,8))\n",
    "\n",
    "cores = [\"orange\",\"purple\"]\n",
    "legenda = [\"Média\",\"Mediana\"]\n",
    "\n",
    "plt.hist(df['mpg'], edgecolor=\"black\");\n",
    "media, mediana = df['mpg'].mean(), df['mpg'].median()\n",
    "plt.axvline(media, color=cores[0], lw=3, ls=\"--\")\n",
    "plt.axvline(mediana, color=cores[1], lw=3, ls=\"--\")\n",
    "\n",
    "plt.legend(legenda, loc=\"upper right\")\n"
   ]
  },
  {
   "cell_type": "markdown",
   "metadata": {},
   "source": [
    "Adicionando anotações ao gráfico, junto às linhas"
   ]
  },
  {
   "cell_type": "code",
   "execution_count": null,
   "metadata": {},
   "outputs": [],
   "source": [
    "plt.figure(figsize=(15,8))\n",
    "\n",
    "cores = [\"orange\",\"purple\"]\n",
    "legenda = [\"Média\",\"Mediana\"]\n",
    "\n",
    "plt.hist(df['mpg'], edgecolor=\"black\");\n",
    "media, mediana = df['mpg'].mean(), df['mpg'].median()\n",
    "plt.axvline(media, color=cores[0], lw=3, ls=\"--\")\n",
    "plt.axvline(mediana, color=cores[1], lw=3, ls=\"--\")\n",
    "\n",
    "plt.legend(legenda, loc=\"upper right\")\n",
    "\n",
    "plt.annotate(legenda[0], xy=(media + 0.5, 6),\n",
    "             color=cores[0], fontsize=20)\n",
    "plt.annotate(legenda[1], xy=(mediana - 3,6),\n",
    "             color=cores[1], fontsize=20)"
   ]
  },
  {
   "cell_type": "markdown",
   "metadata": {},
   "source": [
    "Gráfico de linha"
   ]
  },
  {
   "cell_type": "code",
   "execution_count": null,
   "metadata": {},
   "outputs": [],
   "source": [
    "plt.figure(figsize=(15,8))\n",
    "\n",
    "plt.plot(df['wt'], df['mpg'], color=\"green\", ls = \"dotted\")\n",
    "plt.title(\"MTCars\", fontsize=25)\n",
    "plt.xlabel(\"WT\", fontsize=15)\n",
    "plt.ylabel(\"MPG\", fontsize=15)\n",
    "plt.legend([\"WT\"], loc=\"upper right\")"
   ]
  },
  {
   "cell_type": "markdown",
   "metadata": {},
   "source": [
    "Gráfico de linha com limite nos eixos **X** e **Y**"
   ]
  },
  {
   "cell_type": "code",
   "execution_count": null,
   "metadata": {},
   "outputs": [],
   "source": [
    "plt.figure(figsize=(15,8))\n",
    "\n",
    "plt.plot(df['wt'], df['mpg'], color=\"green\", ls = \"dotted\")\n",
    "\n",
    "plt.xlim(2,5)\n",
    "plt.ylim(20,25)\n",
    "\n",
    "plt.title(\"MTCars\", fontsize=20)\n",
    "plt.xlabel(\"WT\", fontsize=15)\n",
    "plt.ylabel(\"MPG\", fontsize=15)\n",
    "plt.legend([\"WT\"], loc=\"upper right\")"
   ]
  },
  {
   "cell_type": "markdown",
   "metadata": {},
   "source": [
    "Cores das linhas e marcadores, a partir de valores da variável"
   ]
  },
  {
   "cell_type": "code",
   "execution_count": null,
   "metadata": {
    "scrolled": true
   },
   "outputs": [],
   "source": [
    "plt.figure(figsize=(8,4.5))\n",
    "\n",
    "menor_3 = df[\"wt\"] < 3\n",
    "maior_4 = df[\"wt\"] > 4\n",
    "\n",
    "plt.plot(df['wt'], df['mpg'], color=\"green\", ls = \"dotted\"\n",
    "         , marker = \"o\")\n",
    "plt.plot(df[menor_3]['wt'],df[menor_3]['mpg'],color=\"blue\"\n",
    "         , ls = \"dotted\", marker = \"o\")\n",
    "plt.plot(df[maior_4]['wt'],df[maior_4]['mpg'],color=\"blue\"\n",
    "         , ls = \"dotted\", marker = \"o\")\n",
    "plt.title(\"MTCars\", fontsize=25)\n",
    "plt.xlabel(\"WT\", fontsize=20)\n",
    "plt.ylabel(\"MPG\", fontsize=20)\n",
    "plt.legend([\"WT\"], loc=\"upper right\", fontsize=15);\n",
    "\n",
    "\n"
   ]
  },
  {
   "cell_type": "markdown",
   "metadata": {},
   "source": [
    "Linhas horizontais com valores calculados"
   ]
  },
  {
   "cell_type": "code",
   "execution_count": null,
   "metadata": {},
   "outputs": [],
   "source": [
    "plt.figure(figsize=(15,8))\n",
    "\n",
    "plt.plot(df['wt'], df['mpg'], color=\"green\", ls = \"dotted\", marker = \"o\")\n",
    "plt.title(\"MTCars\", fontsize=25)\n",
    "plt.xlabel(\"WT\", fontsize=20)\n",
    "plt.ylabel(\"MPG\", fontsize=20)\n",
    "plt.legend([\"WT\"], loc=\"upper right\", fontsize=15)\n",
    "\n",
    "plt.axhline(max(df['mpg']), color=\"orange\", lw=3, ls=\"--\")\n",
    "plt.axhline(min(df['mpg']), color=\"orange\", lw=3, ls='--')\n"
   ]
  },
  {
   "cell_type": "markdown",
   "metadata": {},
   "source": [
    "Adicionando anotações no gráfico"
   ]
  },
  {
   "cell_type": "code",
   "execution_count": null,
   "metadata": {},
   "outputs": [],
   "source": [
    "plt.figure(figsize=(15,8))\n",
    "\n",
    "plt.plot(df['wt'], df['mpg'], color=\"green\", ls = \"dotted\", marker = \"o\")\n",
    "plt.title(\"MTCars\", fontsize=25)\n",
    "plt.xlabel(\"WT\", fontsize=20)\n",
    "plt.ylabel(\"MPG\", fontsize=20)\n",
    "plt.legend([\"WT\"], loc=\"upper right\", fontsize=15)\n",
    "\n",
    "plt.axhline(max(df['mpg']), color=\"orange\", lw=3, ls=\"--\")\n",
    "plt.axhline(min(df['mpg']), color=\"purple\", lw=3, ls='--')\n",
    "\n",
    "x_max = df['wt'][df['mpg'].idxmax()]\n",
    "y_max = max(df['mpg'])\n",
    "plt.annotate(\"Max\", xy=(x_max,y_max), color=\"orange\", fontsize=15)\n",
    "\n",
    "x_min = df['wt'][df['mpg'].idxmin()]\n",
    "y_min = min(df['mpg'])\n",
    "plt.annotate(\"Min\", xy=(x_min,y_min), color=\"purple\", fontsize=15)\n",
    "\n",
    "\n"
   ]
  },
  {
   "cell_type": "markdown",
   "metadata": {},
   "source": [
    "Deslocando o texto das anotações e inserindo uma seta"
   ]
  },
  {
   "cell_type": "code",
   "execution_count": null,
   "metadata": {},
   "outputs": [],
   "source": [
    "plt.figure(figsize=(15,8))\n",
    "\n",
    "plt.plot(df['wt'], df['mpg'], color=\"green\", ls = \"dotted\", marker = \"o\")\n",
    "plt.title(\"MTCars\", fontsize=25)\n",
    "plt.xlabel(\"WT\", fontsize=20)\n",
    "plt.ylabel(\"MPG\", fontsize=20)\n",
    "plt.legend([\"WT\"], loc=\"upper right\", fontsize=15)\n",
    "\n",
    "plt.axhline(max(df['mpg']), color=\"orange\", lw=3, ls=\"--\")\n",
    "plt.axhline(min(df['mpg']), color=\"purple\", lw=3, ls='--')\n",
    "\n",
    "x_max = df['wt'][df['mpg'].idxmax()]\n",
    "y_max = max(df['mpg'])\n",
    "\n",
    "xt_max = df['wt'][df['mpg'].idxmax()] + 0.5\n",
    "yt_max = max(df['mpg']) - 5\n",
    "\n",
    "plt.annotate(\"Max\", xy=(x_max,y_max), color=\"orange\",\n",
    "             fontsize=15,xytext=(xt_max,yt_max), arrowprops=dict(facecolor=\"orange\") )\n",
    "\n",
    "\n",
    "\n",
    "x_min = df['wt'][df['mpg'].idxmin()]\n",
    "y_min = min(df['mpg'])\n",
    "\n",
    "xt_min = df['wt'][df['mpg'].idxmin()] - 0.5\n",
    "yt_min = min(df['mpg']) + 5\n",
    "\n",
    "plt.annotate(\"Min\", xy=(x_min,y_min), color=\"purple\", fontsize=15,\n",
    "            xytext=(xt_min,yt_min), arrowprops=dict(facecolor=\"purple\"))\n"
   ]
  },
  {
   "cell_type": "markdown",
   "metadata": {},
   "source": [
    "Diagrama de Caixa simples"
   ]
  },
  {
   "cell_type": "code",
   "execution_count": null,
   "metadata": {},
   "outputs": [],
   "source": [
    "plt.figure(figsize=(15,8))\n",
    "\n",
    "box = df.boxplot(column=\"mpg\", \n",
    "                 grid=False, return_type=None)"
   ]
  },
  {
   "cell_type": "markdown",
   "metadata": {},
   "source": [
    "Diagrama de caixa com uma variável segmentando as caixas"
   ]
  },
  {
   "cell_type": "code",
   "execution_count": null,
   "metadata": {},
   "outputs": [],
   "source": [
    "plt.figure(figsize=(15,8))\n",
    "\n",
    "box = df.boxplot(column=\"mpg\", by=\"cyl\",grid=False, return_type=None)\n",
    "plt.suptitle(\"\")\n",
    "plt.title(\"Boxplot - MPG\")\n",
    "\n"
   ]
  }
 ],
 "metadata": {
  "kernelspec": {
   "display_name": "Python 3",
   "language": "python",
   "name": "python3"
  },
  "language_info": {
   "codemirror_mode": {
    "name": "ipython",
    "version": 3
   },
   "file_extension": ".py",
   "mimetype": "text/x-python",
   "name": "python",
   "nbconvert_exporter": "python",
   "pygments_lexer": "ipython3",
   "version": "3.8.5"
  }
 },
 "nbformat": 4,
 "nbformat_minor": 4
}
